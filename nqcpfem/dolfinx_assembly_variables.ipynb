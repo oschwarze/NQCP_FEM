{
 "cells": [
  {
   "cell_type": "code",
   "execution_count": 1,
   "metadata": {},
   "outputs": [],
   "source": [
    "import numpy as np\n",
    "import dolfinx\n",
    "from mpi4py import MPI\n",
    "import ufl\n",
    "import sympy "
   ]
  },
  {
   "cell_type": "code",
   "execution_count": 2,
   "metadata": {},
   "outputs": [],
   "source": [
    "domain = dolfinx.mesh.create_rectangle(MPI.COMM_WORLD,[[-1,-1],[1,1]],n=[10,10])"
   ]
  },
  {
   "cell_type": "code",
   "execution_count": 3,
   "metadata": {},
   "outputs": [],
   "source": [
    "N = 2\n",
    "M = 4\n",
    "V = dolfinx.fem.TensorFunctionSpace(domain,('CG',1),shape=(N,M))\n",
    "V_interp= dolfinx.fem.FunctionSpace(domain,('CG',1))"
   ]
  },
  {
   "cell_type": "code",
   "execution_count": 4,
   "metadata": {},
   "outputs": [
    {
     "data": {
      "text/plain": [
       "FunctionSpace(Mesh(VectorElement(FiniteElement('Lagrange', triangle, 1), dim=2), 0), FiniteElement('Lagrange', triangle, 1))"
      ]
     },
     "execution_count": 4,
     "metadata": {},
     "output_type": "execute_result"
    }
   ],
   "source": [
    "F = dolfinx.fem.Function(V_interp)\n",
    "F.function_space"
   ]
  },
  {
   "cell_type": "code",
   "execution_count": 5,
   "metadata": {},
   "outputs": [
    {
     "data": {
      "text/plain": [
       "Coefficient(FunctionSpace(Mesh(VectorElement(FiniteElement('Lagrange', triangle, 1), dim=2), 0), FiniteElement('Lagrange', triangle, 1)), 0)"
      ]
     },
     "execution_count": 5,
     "metadata": {},
     "output_type": "execute_result"
    }
   ],
   "source": [
    "def l_f(x):\n",
    "    #print(x)\n",
    "    #print(x.shape)\n",
    "    return x[0]\n",
    "F.interpolate(l_f)\n",
    "F\n"
   ]
  },
  {
   "cell_type": "code",
   "execution_count": 6,
   "metadata": {},
   "outputs": [
    {
     "data": {
      "text/plain": [
       "4800"
      ]
     },
     "execution_count": 6,
     "metadata": {},
     "output_type": "execute_result"
    }
   ],
   "source": [
    "8*600"
   ]
  },
  {
   "cell_type": "code",
   "execution_count": 7,
   "metadata": {},
   "outputs": [],
   "source": [
    "u = ufl.TrialFunction(V)\n",
    "v = ufl.TestFunction(V)\n",
    "\n",
    "X = ufl.SpatialCoordinate(V)"
   ]
  },
  {
   "cell_type": "code",
   "execution_count": 8,
   "metadata": {},
   "outputs": [],
   "source": [
    "from ufl import Dx, dX\n",
    "\n",
    "\n",
    "vars = {'m':None,'g':None}\n",
    "ufl_constants = {k:dolfinx.fem.Constant(V,c=np.complex128(1) if v is None else v) for k,v in vars.items()}\n"
   ]
  },
  {
   "cell_type": "code",
   "execution_count": 9,
   "metadata": {},
   "outputs": [
    {
     "data": {
      "text/plain": [
       "Constant(Mesh(VectorElement(FiniteElement('Lagrange', triangle, 1), dim=2), 0), (), 2)"
      ]
     },
     "execution_count": 9,
     "metadata": {},
     "output_type": "execute_result"
    }
   ],
   "source": [
    "dolfinx.fem.Constant(V,np.complex128(1))"
   ]
  },
  {
   "cell_type": "code",
   "execution_count": 10,
   "metadata": {},
   "outputs": [],
   "source": [
    "\n",
    "i,j,k = ufl.indices(3)\n",
    "H = -0.5/ufl_constants['m']*ufl.grad(u)[i,j,k]*ufl.grad(ufl.conj(v))[i,j,k]*ufl.dx+ 0.5*ufl_constants['g']*ufl.conj(v)[i,j]*u[i,j]*F*ufl.dx"
   ]
  },
  {
   "cell_type": "code",
   "execution_count": 11,
   "metadata": {},
   "outputs": [
    {
     "data": {
      "text/plain": [
       "Form([Integral(IndexSum(IndexSum(IndexSum(Product(Indexed(Grad(Conj(Argument(FunctionSpace(Mesh(VectorElement(FiniteElement('Lagrange', triangle, 1), dim=2), 0), TensorElement(FiniteElement('Lagrange', triangle, 1), shape=(2, 4), symmetry={})), 0, None))), MultiIndex((Index(8), Index(9), Index(10)))), Product(Indexed(Grad(Argument(FunctionSpace(Mesh(VectorElement(FiniteElement('Lagrange', triangle, 1), dim=2), 0), TensorElement(FiniteElement('Lagrange', triangle, 1), shape=(2, 4), symmetry={})), 1, None)), MultiIndex((Index(8), Index(9), Index(10)))), Division(FloatValue(-0.5), Constant(Mesh(VectorElement(FiniteElement('Lagrange', triangle, 1), dim=2), 0), (), 0)))), MultiIndex((Index(8),))), MultiIndex((Index(9),))), MultiIndex((Index(10),))), 'cell', Mesh(VectorElement(FiniteElement('Lagrange', triangle, 1), dim=2), 0), 'everywhere', {}, None), Integral(Product(Coefficient(FunctionSpace(Mesh(VectorElement(FiniteElement('Lagrange', triangle, 1), dim=2), 0), FiniteElement('Lagrange', triangle, 1)), 0), IndexSum(IndexSum(Product(Indexed(Argument(FunctionSpace(Mesh(VectorElement(FiniteElement('Lagrange', triangle, 1), dim=2), 0), TensorElement(FiniteElement('Lagrange', triangle, 1), shape=(2, 4), symmetry={})), 1, None), MultiIndex((Index(8), Index(9)))), Product(Indexed(Conj(Argument(FunctionSpace(Mesh(VectorElement(FiniteElement('Lagrange', triangle, 1), dim=2), 0), TensorElement(FiniteElement('Lagrange', triangle, 1), shape=(2, 4), symmetry={})), 0, None)), MultiIndex((Index(8), Index(9)))), Product(FloatValue(0.5), Constant(Mesh(VectorElement(FiniteElement('Lagrange', triangle, 1), dim=2), 0), (), 1)))), MultiIndex((Index(8),))), MultiIndex((Index(9),)))), 'cell', Mesh(VectorElement(FiniteElement('Lagrange', triangle, 1), dim=2), 0), 'everywhere', {}, None)])"
      ]
     },
     "execution_count": 11,
     "metadata": {},
     "output_type": "execute_result"
    }
   ],
   "source": [
    "ufl_constants \n",
    "H"
   ]
  },
  {
   "cell_type": "code",
   "execution_count": 12,
   "metadata": {},
   "outputs": [],
   "source": [
    "L = dolfinx.fem.form(H)"
   ]
  },
  {
   "cell_type": "code",
   "execution_count": 13,
   "metadata": {},
   "outputs": [
    {
     "data": {
      "text/plain": [
       "<dolfinx.fem.forms.Form at 0x7f879191a7f0>"
      ]
     },
     "execution_count": 13,
     "metadata": {},
     "output_type": "execute_result"
    }
   ],
   "source": [
    "L"
   ]
  },
  {
   "cell_type": "code",
   "execution_count": 14,
   "metadata": {},
   "outputs": [],
   "source": [
    "A=dolfinx.fem.petsc.assemble_matrix(L)"
   ]
  },
  {
   "cell_type": "code",
   "execution_count": 15,
   "metadata": {},
   "outputs": [],
   "source": [
    "A.assemble()\n",
    "import scipy\n",
    "from scipy.sparse import csr_matrix\n",
    "a = csr_matrix(A.getValuesCSR()[::-1])"
   ]
  },
  {
   "cell_type": "code",
   "execution_count": 16,
   "metadata": {},
   "outputs": [
    {
     "data": {
      "text/plain": [
       "matrix([[-0.99586667+0.j,  0.        +0.j,  0.        +0.j, ...,\n",
       "          0.        +0.j,  0.        +0.j,  0.        +0.j],\n",
       "        [ 0.        +0.j, -0.99586667+0.j,  0.        +0.j, ...,\n",
       "          0.        +0.j,  0.        +0.j,  0.        +0.j],\n",
       "        [ 0.        +0.j,  0.        +0.j, -0.99586667+0.j, ...,\n",
       "          0.        +0.j,  0.        +0.j,  0.        +0.j],\n",
       "        ...,\n",
       "        [ 0.        +0.j,  0.        +0.j,  0.        +0.j, ...,\n",
       "         -0.5016    +0.j,  0.        +0.j,  0.        +0.j],\n",
       "        [ 0.        +0.j,  0.        +0.j,  0.        +0.j, ...,\n",
       "          0.        +0.j, -0.5016    +0.j,  0.        +0.j],\n",
       "        [ 0.        +0.j,  0.        +0.j,  0.        +0.j, ...,\n",
       "          0.        +0.j,  0.        +0.j, -0.5016    +0.j]])"
      ]
     },
     "execution_count": 16,
     "metadata": {},
     "output_type": "execute_result"
    }
   ],
   "source": [
    "a.todense()"
   ]
  },
  {
   "cell_type": "code",
   "execution_count": 17,
   "metadata": {},
   "outputs": [],
   "source": [
    "M=ufl_constants['m']"
   ]
  },
  {
   "cell_type": "code",
   "execution_count": 18,
   "metadata": {},
   "outputs": [],
   "source": [
    "import sympy\n",
    "g = sympy.symbols('g')\n",
    "c = np.complex128"
   ]
  },
  {
   "cell_type": "code",
   "execution_count": 19,
   "metadata": {},
   "outputs": [],
   "source": [
    "n = sympy.symbols('n')\n",
    "syms= {n:1}"
   ]
  },
  {
   "cell_type": "code",
   "execution_count": 20,
   "metadata": {},
   "outputs": [
    {
     "data": {
      "text/plain": [
       "(1, 2, 2, 3)"
      ]
     },
     "execution_count": 20,
     "metadata": {},
     "output_type": "execute_result"
    }
   ],
   "source": [
    "(1,2)+(2,3)"
   ]
  },
  {
   "cell_type": "code",
   "execution_count": 21,
   "metadata": {},
   "outputs": [],
   "source": [
    "\n",
    "A = [[c(1),c(2),c(3)],[0,1,2],[0,3,3.0*g]]\n",
    "A=sympy.Array(A)\n"
   ]
  },
  {
   "cell_type": "code",
   "execution_count": 22,
   "metadata": {},
   "outputs": [
    {
     "name": "stdout",
     "output_type": "stream",
     "text": [
      "1 1\n"
     ]
    },
    {
     "data": {
      "text/plain": [
       "[[1.0, 2.0, 3.0], [0, 1, 2], [0, 3, 0.0]]"
      ]
     },
     "execution_count": 22,
     "metadata": {},
     "output_type": "execute_result"
    }
   ],
   "source": [
    "def func1(x):\n",
    "    print(1,x)\n",
    "    return(1-x)\n",
    "\n",
    "sympy.lambdify(g,A.tolist())(func1(1))"
   ]
  },
  {
   "cell_type": "code",
   "execution_count": null,
   "metadata": {},
   "outputs": [],
   "source": []
  },
  {
   "cell_type": "code",
   "execution_count": 23,
   "metadata": {},
   "outputs": [
    {
     "data": {
      "text/plain": [
       "(Grad(Argument(FunctionSpace(Mesh(VectorElement(FiniteElement('Lagrange', triangle, 1), dim=2), 0), TensorElement(FiniteElement('Lagrange', triangle, 1), shape=(2, 4), symmetry={})), 1, None)),)"
      ]
     },
     "execution_count": 23,
     "metadata": {},
     "output_type": "execute_result"
    }
   ],
   "source": [
    "ufl.grad(u),"
   ]
  },
  {
   "cell_type": "code",
   "execution_count": 24,
   "metadata": {},
   "outputs": [
    {
     "data": {
      "text/plain": [
       "ufl.tensors.ComponentTensor"
      ]
     },
     "execution_count": 24,
     "metadata": {},
     "output_type": "execute_result"
    }
   ],
   "source": [
    "F=v*u\n",
    "type(F)"
   ]
  },
  {
   "cell_type": "code",
   "execution_count": 25,
   "metadata": {},
   "outputs": [
    {
     "name": "stdout",
     "output_type": "stream",
     "text": [
      "False\n"
     ]
    },
    {
     "data": {
      "text/plain": [
       "(IndexSum(Product(Indexed(Argument(FunctionSpace(Mesh(VectorElement(FiniteElement('Lagrange', triangle, 1), dim=2), 0), TensorElement(FiniteElement('Lagrange', triangle, 1), shape=(2, 4), symmetry={})), 0, None), MultiIndex((Index(11), Index(13)))), Indexed(Argument(FunctionSpace(Mesh(VectorElement(FiniteElement('Lagrange', triangle, 1), dim=2), 0), TensorElement(FiniteElement('Lagrange', triangle, 1), shape=(2, 4), symmetry={})), 1, None), MultiIndex((Index(13), Index(12))))), MultiIndex((Index(13),))),\n",
       " MultiIndex((Index(11), Index(12))))"
      ]
     },
     "execution_count": 25,
     "metadata": {},
     "output_type": "execute_result"
    }
   ],
   "source": [
    "print(isinstance(F,ufl.algebra.Product))\n",
    "F.ufl_operands\n"
   ]
  },
  {
   "cell_type": "code",
   "execution_count": 26,
   "metadata": {},
   "outputs": [
    {
     "data": {
      "text/plain": [
       "ufl.differentiation.Grad"
      ]
     },
     "execution_count": 26,
     "metadata": {},
     "output_type": "execute_result"
    }
   ],
   "source": [
    "type(ufl.grad(u))"
   ]
  },
  {
   "cell_type": "code",
   "execution_count": 27,
   "metadata": {},
   "outputs": [],
   "source": [
    "def k_func(uv:ufl.algebra.Product,i):\n",
    "    #argument is either u*ufl.conj(v) or terms like this with derivatives\n",
    "    u_func,v_func = uv.ufl_operands\n",
    "    if not isinstance(u_func,ufl.differentiation.Grad):\n",
    "        return -1j*ufl.grad(u_func)*v\n",
    "    else:\n",
    "        return u_func* 1j*ufl.grad(v)\n",
    "    "
   ]
  },
  {
   "cell_type": "code",
   "execution_count": 28,
   "metadata": {},
   "outputs": [
    {
     "data": {
      "text/latex": [
       "$\\displaystyle \\left[\\begin{matrix}k_{x}^{2} + k_{y} k_{z} + k_{y} m & 0 & 0\\\\0 & 2 g k_{y} & 0\\\\1 & 0 & 3 k_{z}\\end{matrix}\\right]$"
      ],
      "text/plain": [
       "[[k_x**2 + k_y*k_z + k_y*m, 0, 0], [0, 2*g*k_y, 0], [1, 0, 3*k_z]]"
      ]
     },
     "execution_count": 28,
     "metadata": {},
     "output_type": "execute_result"
    }
   ],
   "source": [
    "kx,ky,kz = sympy.symbols('k_x,k_y,k_z')\n",
    "\n",
    "m,g = sympy.symbols('m,g')\n",
    "\n",
    "F = sympy.Function('f')\n",
    "A= sympy.Array([[1*kx*kx+ky*kz+ky*m,0,0],[0,2*ky*g,0],[1,0,3*kz]])\n",
    "ten_shape = A.shape\n",
    "spatial_dim = 3\n",
    "A"
   ]
  },
  {
   "cell_type": "code",
   "execution_count": 29,
   "metadata": {},
   "outputs": [
    {
     "name": "stdout",
     "output_type": "stream",
     "text": [
      "(2, 0, 0)\n",
      "(0, 1, 1)\n",
      "(0, 1, 0)\n",
      "(0, 1, 0)\n",
      "(0, 0, 0)\n",
      "(0, 0, 1)\n"
     ]
    }
   ],
   "source": [
    "disassemble_dict = {}\n",
    "from sympy import degree_list,degree\n",
    "import numpy as np\n",
    "for i,val in enumerate(np.array(A).ravel()):\n",
    "    # split up value into terms \n",
    "    loop_terms = (val,) if not isinstance(val,sympy.core.add.Add) else val.args\n",
    "    for term in loop_terms:\n",
    "        try:\n",
    "            orders = degree_list(term,(kx,ky,kz))\n",
    "        except TypeError as e:\n",
    "            continue \n",
    "        print(orders)\n",
    "        arr = disassemble_dict.get(sum(orders),np.zeros(ten_shape+(3,)*(sum(orders)),'O'))\n",
    "        # k-s commute, and by convention we will always order them as k_x k_x ... k_x k_y k_y ... k_y k_z k_z ... k_z\n",
    "        arr_i = np.unravel_index(i,ten_shape)+(0,)*orders[0]+(1,)*orders[1]+(2,)*orders[2]\n",
    "        arr[arr_i] += sympy.lambdify((kx,ky,kz),term)(1,1,1)\n",
    "        disassemble_dict[sum(orders)] = arr"
   ]
  },
  {
   "cell_type": "code",
   "execution_count": 30,
   "metadata": {},
   "outputs": [
    {
     "data": {
      "text/plain": [
       "array([[0, 0, 0],\n",
       "       [0, 0, 0],\n",
       "       [0, 0, 0]], dtype=object)"
      ]
     },
     "execution_count": 30,
     "metadata": {},
     "output_type": "execute_result"
    }
   ],
   "source": [
    "disassemble_dict[2][:,:,2,2]"
   ]
  },
  {
   "cell_type": "code",
   "execution_count": 31,
   "metadata": {},
   "outputs": [],
   "source": [
    "from numpy import isin\n",
    "\n",
    "\n",
    "val = A[0,0]\n",
    "type(val)\n",
    "kx =sympy.symbols(r'k_x')"
   ]
  },
  {
   "cell_type": "code",
   "execution_count": 32,
   "metadata": {},
   "outputs": [
    {
     "data": {
      "text/plain": [
       "sympy.core.numbers.NegativeInfinity"
      ]
     },
     "execution_count": 32,
     "metadata": {},
     "output_type": "execute_result"
    }
   ],
   "source": [
    "type(degree(A.tolist()[0][1],kx))"
   ]
  },
  {
   "cell_type": "code",
   "execution_count": 33,
   "metadata": {},
   "outputs": [
    {
     "data": {
      "text/latex": [
       "$\\displaystyle n_{z-modes}$"
      ],
      "text/plain": [
       "n_{z-modes}"
      ]
     },
     "execution_count": 33,
     "metadata": {},
     "output_type": "execute_result"
    }
   ],
   "source": [
    "sympy.symbols('n_{z-modes}')"
   ]
  },
  {
   "cell_type": "code",
   "execution_count": 34,
   "metadata": {},
   "outputs": [
    {
     "data": {
      "text/latex": [
       "$\\displaystyle \\left[\\begin{matrix}k_{x}^{2} + k_{y} k_{z} + k_{y} m & 0 & 0\\\\0 & 2 g k_{y} & 0\\\\1 & 0 & 3 k_{z}\\end{matrix}\\right]$"
      ],
      "text/plain": [
       "[[k_x**2 + k_y*k_z + k_y*m, 0, 0], [0, 2*g*k_y, 0], [1, 0, 3*k_z]]"
      ]
     },
     "execution_count": 34,
     "metadata": {},
     "output_type": "execute_result"
    }
   ],
   "source": [
    "A/"
   ]
  },
  {
   "cell_type": "code",
   "execution_count": 35,
   "metadata": {},
   "outputs": [],
   "source": [
    "B = sympy.Array([[1*kx*kx+ky*kz+ky,0,0],[0,2*ky,0],[1,0,3*kz]])"
   ]
  },
  {
   "cell_type": "code",
   "execution_count": 36,
   "metadata": {},
   "outputs": [
    {
     "data": {
      "text/plain": [
       "False"
      ]
     },
     "execution_count": 36,
     "metadata": {},
     "output_type": "execute_result"
    }
   ],
   "source": [
    "A == B\n"
   ]
  },
  {
   "cell_type": "code",
   "execution_count": 37,
   "metadata": {},
   "outputs": [],
   "source": [
    "D = {1:1,2:2,3:3}\n",
    "DD = {3:3,2:2,1:1}"
   ]
  },
  {
   "cell_type": "code",
   "execution_count": 38,
   "metadata": {},
   "outputs": [
    {
     "data": {
      "text/plain": [
       "True"
      ]
     },
     "execution_count": 38,
     "metadata": {},
     "output_type": "execute_result"
    }
   ],
   "source": [
    "D == DD"
   ]
  },
  {
   "cell_type": "code",
   "execution_count": 39,
   "metadata": {},
   "outputs": [
    {
     "data": {
      "text/plain": [
       "{'m': Constant(Mesh(VectorElement(FiniteElement('Lagrange', triangle, 1), dim=2), 0), (), 0),\n",
       " 'g': Constant(Mesh(VectorElement(FiniteElement('Lagrange', triangle, 1), dim=2), 0), (), 1)}"
      ]
     },
     "execution_count": 39,
     "metadata": {},
     "output_type": "execute_result"
    }
   ],
   "source": [
    "ufl_constants"
   ]
  },
  {
   "cell_type": "code",
   "execution_count": 40,
   "metadata": {},
   "outputs": [
    {
     "data": {
      "text/latex": [
       "$\\displaystyle \\left[\\begin{matrix}k_{x}^{2} + k_{y} k_{z} + k_{y} m & 0 & 0\\\\0 & 2 g k_{y} & 0\\\\1 & 0 & 3 k_{z}\\end{matrix}\\right]$"
      ],
      "text/plain": [
       "[[k_x**2 + k_y*k_z + k_y*m, 0, 0], [0, 2*g*k_y, 0], [1, 0, 3*k_z]]"
      ]
     },
     "execution_count": 40,
     "metadata": {},
     "output_type": "execute_result"
    }
   ],
   "source": [
    "A"
   ]
  },
  {
   "cell_type": "code",
   "execution_count": 41,
   "metadata": {},
   "outputs": [],
   "source": [
    "#A.subs({s: ufl_constants[s.name] for s in (m,g)})"
   ]
  },
  {
   "cell_type": "code",
   "execution_count": 42,
   "metadata": {},
   "outputs": [],
   "source": [
    "R=sympy.lambdify((m,g,kx,ky,kz),A)(ufl_constants['m'],ufl_constants['g'],1,1,1)"
   ]
  },
  {
   "cell_type": "code",
   "execution_count": 43,
   "metadata": {},
   "outputs": [
    {
     "data": {
      "text/plain": [
       "Constant(Mesh(VectorElement(FiniteElement('Lagrange', triangle, 1), dim=2), 0), (), 0)"
      ]
     },
     "execution_count": 43,
     "metadata": {},
     "output_type": "execute_result"
    }
   ],
   "source": [
    "ufl_constants['m']"
   ]
  },
  {
   "cell_type": "code",
   "execution_count": 100,
   "metadata": {},
   "outputs": [
    {
     "name": "stdout",
     "output_type": "stream",
     "text": [
      "[\n",
      "  [0, x[0] * x[1] ** 2, 2.0 * x[0] * x[1] ** 2, 3.0 * x[0] * x[1] ** 2],\n",
      "  [4.0 * x[0] * x[1] ** 2, 5.0 * x[0] * x[1] ** 2, 6.0 * x[0] * x[1] ** 2, 7.0 * x[0] * x[1] ** 2],\n",
      "  [8.0 * x[0] * x[1] ** 2, 9.0 * x[0] * x[1] ** 2, 10.0 * x[0] * x[1] ** 2, 11.0 * x[0] * x[1] ** 2],\n",
      "  [12.0 * x[0] * x[1] ** 2, 13.0 * x[0] * x[1] ** 2, 14.0 * x[0] * x[1] ** 2, 15.0 * x[0] * x[1] ** 2]\n",
      "]\n"
     ]
    }
   ],
   "source": [
    "R[0,0] \n",
    "\n",
    "\n",
    "A = np.arange(16).reshape(4,4).astype(np.complex128)\n",
    "\n",
    "tA = ufl.as_tensor(A*x[0]*x[1]**2)\n",
    "print(tA)"
   ]
  },
  {
   "cell_type": "code",
   "execution_count": 96,
   "metadata": {},
   "outputs": [
    {
     "data": {
      "text/plain": [
       "array([[Zero((), (), ()),\n",
       "        Indexed(SpatialCoordinate(Mesh(VectorElement(FiniteElement('Lagrange', triangle, 1), dim=2), 0)), MultiIndex((FixedIndex(0),))),\n",
       "        Product(FloatValue(2.0), Indexed(SpatialCoordinate(Mesh(VectorElement(FiniteElement('Lagrange', triangle, 1), dim=2), 0)), MultiIndex((FixedIndex(0),)))),\n",
       "        Product(FloatValue(3.0), Indexed(SpatialCoordinate(Mesh(VectorElement(FiniteElement('Lagrange', triangle, 1), dim=2), 0)), MultiIndex((FixedIndex(0),))))],\n",
       "       [Product(FloatValue(4.0), Indexed(SpatialCoordinate(Mesh(VectorElement(FiniteElement('Lagrange', triangle, 1), dim=2), 0)), MultiIndex((FixedIndex(0),)))),\n",
       "        Product(FloatValue(5.0), Indexed(SpatialCoordinate(Mesh(VectorElement(FiniteElement('Lagrange', triangle, 1), dim=2), 0)), MultiIndex((FixedIndex(0),)))),\n",
       "        Product(FloatValue(6.0), Indexed(SpatialCoordinate(Mesh(VectorElement(FiniteElement('Lagrange', triangle, 1), dim=2), 0)), MultiIndex((FixedIndex(0),)))),\n",
       "        Product(FloatValue(7.0), Indexed(SpatialCoordinate(Mesh(VectorElement(FiniteElement('Lagrange', triangle, 1), dim=2), 0)), MultiIndex((FixedIndex(0),))))],\n",
       "       [Product(FloatValue(8.0), Indexed(SpatialCoordinate(Mesh(VectorElement(FiniteElement('Lagrange', triangle, 1), dim=2), 0)), MultiIndex((FixedIndex(0),)))),\n",
       "        Product(FloatValue(9.0), Indexed(SpatialCoordinate(Mesh(VectorElement(FiniteElement('Lagrange', triangle, 1), dim=2), 0)), MultiIndex((FixedIndex(0),)))),\n",
       "        Product(FloatValue(10.0), Indexed(SpatialCoordinate(Mesh(VectorElement(FiniteElement('Lagrange', triangle, 1), dim=2), 0)), MultiIndex((FixedIndex(0),)))),\n",
       "        Product(FloatValue(11.0), Indexed(SpatialCoordinate(Mesh(VectorElement(FiniteElement('Lagrange', triangle, 1), dim=2), 0)), MultiIndex((FixedIndex(0),))))],\n",
       "       [Product(FloatValue(12.0), Indexed(SpatialCoordinate(Mesh(VectorElement(FiniteElement('Lagrange', triangle, 1), dim=2), 0)), MultiIndex((FixedIndex(0),)))),\n",
       "        Product(FloatValue(13.0), Indexed(SpatialCoordinate(Mesh(VectorElement(FiniteElement('Lagrange', triangle, 1), dim=2), 0)), MultiIndex((FixedIndex(0),)))),\n",
       "        Product(FloatValue(14.0), Indexed(SpatialCoordinate(Mesh(VectorElement(FiniteElement('Lagrange', triangle, 1), dim=2), 0)), MultiIndex((FixedIndex(0),)))),\n",
       "        Product(FloatValue(15.0), Indexed(SpatialCoordinate(Mesh(VectorElement(FiniteElement('Lagrange', triangle, 1), dim=2), 0)), MultiIndex((FixedIndex(0),))))]],\n",
       "      dtype=object)"
      ]
     },
     "execution_count": 96,
     "metadata": {},
     "output_type": "execute_result"
    }
   ],
   "source": [
    "np.array([a*x[0] for a in A.ravel()]).reshape(A.shape)"
   ]
  },
  {
   "cell_type": "code",
   "execution_count": 97,
   "metadata": {},
   "outputs": [
    {
     "name": "stdout",
     "output_type": "stream",
     "text": [
      "{ A | A_{i_{52}, i_{53}} = x[0] * ([\n",
      "  [0, 1.0, 2.0, 3.0],\n",
      "  [4.0, 5.0, 6.0, 7.0],\n",
      "  [8.0, 9.0, 10.0, 11.0],\n",
      "  [12.0, 13.0, 14.0, 15.0]\n",
      "])[i_{52}, i_{53}] }\n"
     ]
    }
   ],
   "source": [
    "x = ufl.SpatialCoordinate(V)\n",
    "print(tA*x[0])"
   ]
  },
  {
   "cell_type": "code",
   "execution_count": 86,
   "metadata": {},
   "outputs": [
    {
     "data": {
      "text/plain": [
       "Form([Integral(IndexSum(IndexSum(Product(Indexed(Grad(Indexed(Argument(FunctionSpace(Mesh(VectorElement(FiniteElement('Lagrange', triangle, 1), dim=2), 0), TensorElement(FiniteElement('Lagrange', triangle, 1), shape=(2, 4), symmetry={})), 1, None), MultiIndex((Index(44), Index(45))))), MultiIndex((FixedIndex(1),))), Indexed(Conj(Argument(FunctionSpace(Mesh(VectorElement(FiniteElement('Lagrange', triangle, 1), dim=2), 0), TensorElement(FiniteElement('Lagrange', triangle, 1), shape=(2, 4), symmetry={})), 0, None)), MultiIndex((Index(44), Index(45))))), MultiIndex((Index(44),))), MultiIndex((Index(45),))), 'cell', Mesh(VectorElement(FiniteElement('Lagrange', triangle, 1), dim=2), 0), 'everywhere', {}, None)])"
      ]
     },
     "execution_count": 86,
     "metadata": {},
     "output_type": "execute_result"
    }
   ],
   "source": [
    "\n",
    "u= ufl.TrialFunction(V)\n",
    "v = ufl.TestFunction(V)\n",
    "I = ufl.indices(2)\n",
    "u[I].dx(1)*ufl.conj(v)[I]*ufl.dx"
   ]
  },
  {
   "cell_type": "code",
   "execution_count": 83,
   "metadata": {},
   "outputs": [
    {
     "data": {
      "text/plain": [
       "Indexed(Argument(FunctionSpace(Mesh(VectorElement(FiniteElement('Lagrange', triangle, 1), dim=2), 0), TensorElement(FiniteElement('Lagrange', triangle, 1), shape=(2, 4), symmetry={})), 1, None), MultiIndex((FixedIndex(0), FixedIndex(0))))"
      ]
     },
     "execution_count": 83,
     "metadata": {},
     "output_type": "execute_result"
    }
   ],
   "source": [
    "u[0,0]"
   ]
  },
  {
   "cell_type": "code",
   "execution_count": 73,
   "metadata": {},
   "outputs": [
    {
     "data": {
      "text/plain": [
       "FunctionSpace(Mesh(VectorElement(FiniteElement('Lagrange', triangle, 1), dim=2), 0), TensorElement(FiniteElement('Lagrange', triangle, 1), shape=(2, 4), symmetry={}))"
      ]
     },
     "execution_count": 73,
     "metadata": {},
     "output_type": "execute_result"
    }
   ],
   "source": [
    "V"
   ]
  },
  {
   "cell_type": "code",
   "execution_count": 62,
   "metadata": {},
   "outputs": [
    {
     "data": {
      "text/plain": [
       "ComponentTensor(IndexSum(Product(Indexed(ComponentTensor(Indexed(Grad(Argument(FunctionSpace(Mesh(VectorElement(FiniteElement('Lagrange', triangle, 1), dim=2), 0), TensorElement(FiniteElement('Lagrange', triangle, 1), shape=(2, 4), symmetry={})), 1, None)), MultiIndex((Index(21), Index(22), FixedIndex(1)))), MultiIndex((Index(21), Index(22)))), MultiIndex((Index(23), Index(25)))), Indexed(Conj(Argument(FunctionSpace(Mesh(VectorElement(FiniteElement('Lagrange', triangle, 1), dim=2), 0), TensorElement(FiniteElement('Lagrange', triangle, 1), shape=(2, 4), symmetry={})), 0, None)), MultiIndex((Index(25), Index(24))))), MultiIndex((Index(25),))), MultiIndex((Index(23), Index(24))))"
      ]
     },
     "execution_count": 62,
     "metadata": {},
     "output_type": "execute_result"
    }
   ],
   "source": [
    "u.dx(1)*ufl.conj(v)"
   ]
  },
  {
   "cell_type": "code",
   "execution_count": null,
   "metadata": {},
   "outputs": [],
   "source": [
    "def F(x):\n",
    "    x = np.asarray(x)\n",
    "    print(x.shape)\n",
    "    if len(x.shape) == 1:\n",
    "        x = x[np.newaxis,:]\n",
    "        print(x.shape)\n",
    "    x_cords = np.linspace(-10,10,100).astype(np.complex128)\n",
    "    y_vals = x_cords*10\n",
    "    return_arr = []\n",
    "    for xx in x:\n",
    "        return_arr.append(y_vals[np.argmin(np.abs(x_cords-xx[0]))]) # find closest point to interpolate\n",
    "    return np.stack(return_arr)"
   ]
  },
  {
   "cell_type": "code",
   "execution_count": null,
   "metadata": {},
   "outputs": [
    {
     "name": "stdout",
     "output_type": "stream",
     "text": [
      "(3,)\n",
      "(1, 3)\n"
     ]
    },
    {
     "data": {
      "text/plain": [
       "array([9.09090909+0.j])"
      ]
     },
     "execution_count": 140,
     "metadata": {},
     "output_type": "execute_result"
    }
   ],
   "source": [
    "F([1,0,0])"
   ]
  },
  {
   "cell_type": "code",
   "execution_count": null,
   "metadata": {},
   "outputs": [
    {
     "data": {
      "text/plain": [
       "SpatialCoordinate(Mesh(VectorElement(FiniteElement('Lagrange', triangle, 1), dim=2), 3))"
      ]
     },
     "execution_count": 141,
     "metadata": {},
     "output_type": "execute_result"
    }
   ],
   "source": [
    "X"
   ]
  },
  {
   "cell_type": "code",
   "execution_count": null,
   "metadata": {},
   "outputs": [],
   "source": [
    "fem_F = dolfinx.fem.Function(V)"
   ]
  },
  {
   "cell_type": "code",
   "execution_count": null,
   "metadata": {},
   "outputs": [
    {
     "ename": "RuntimeError",
     "evalue": "Interpolation data has the wrong shape/size.",
     "output_type": "error",
     "traceback": [
      "\u001b[0;31m---------------------------------------------------------------------------\u001b[0m",
      "\u001b[0;31mTypeError\u001b[0m                                 Traceback (most recent call last)",
      "File \u001b[0;32m~/miniconda3/envs/Germanium_Spins_FE/lib/python3.10/site-packages/dolfinx/fem/function.py:343\u001b[0m, in \u001b[0;36mFunction.interpolate\u001b[0;34m(self, u, cells)\u001b[0m\n\u001b[1;32m    341\u001b[0m \u001b[39mtry\u001b[39;00m:\n\u001b[1;32m    342\u001b[0m     \u001b[39m# u is a Function or Expression (or pointer to one)\u001b[39;00m\n\u001b[0;32m--> 343\u001b[0m     _interpolate(u, cells)\n\u001b[1;32m    344\u001b[0m \u001b[39mexcept\u001b[39;00m \u001b[39mTypeError\u001b[39;00m:\n\u001b[1;32m    345\u001b[0m     \u001b[39m# u is callable\u001b[39;00m\n",
      "File \u001b[0;32m~/miniconda3/envs/Germanium_Spins_FE/lib/python3.10/functools.py:889\u001b[0m, in \u001b[0;36msingledispatch.<locals>.wrapper\u001b[0;34m(*args, **kw)\u001b[0m\n\u001b[1;32m    886\u001b[0m     \u001b[39mraise\u001b[39;00m \u001b[39mTypeError\u001b[39;00m(\u001b[39mf\u001b[39m\u001b[39m'\u001b[39m\u001b[39m{\u001b[39;00mfuncname\u001b[39m}\u001b[39;00m\u001b[39m requires at least \u001b[39m\u001b[39m'\u001b[39m\n\u001b[1;32m    887\u001b[0m                     \u001b[39m'\u001b[39m\u001b[39m1 positional argument\u001b[39m\u001b[39m'\u001b[39m)\n\u001b[0;32m--> 889\u001b[0m \u001b[39mreturn\u001b[39;00m dispatch(args[\u001b[39m0\u001b[39;49m]\u001b[39m.\u001b[39;49m\u001b[39m__class__\u001b[39;49m)(\u001b[39m*\u001b[39;49margs, \u001b[39m*\u001b[39;49m\u001b[39m*\u001b[39;49mkw)\n",
      "File \u001b[0;32m~/miniconda3/envs/Germanium_Spins_FE/lib/python3.10/site-packages/dolfinx/fem/function.py:319\u001b[0m, in \u001b[0;36mFunction.interpolate.<locals>._interpolate\u001b[0;34m(u, cells)\u001b[0m\n\u001b[1;32m    318\u001b[0m \u001b[39m\"\"\"Interpolate a cpp.fem.Function\"\"\"\u001b[39;00m\n\u001b[0;32m--> 319\u001b[0m \u001b[39mself\u001b[39;49m\u001b[39m.\u001b[39;49m_cpp_object\u001b[39m.\u001b[39;49minterpolate(u, cells)\n",
      "\u001b[0;31mTypeError\u001b[0m: interpolate(): incompatible function arguments. The following argument types are supported:\n    1. (self: dolfinx.cpp.fem.Function_complex128, f: numpy.ndarray[numpy.complex128], cells: numpy.ndarray[numpy.int32]) -> None\n    2. (self: dolfinx.cpp.fem.Function_complex128, u: dolfinx.cpp.fem.Function_complex128, cells: numpy.ndarray[numpy.int32]) -> None\n    3. (self: dolfinx.cpp.fem.Function_complex128, expr: dolfinx::fem::Expression<std::complex<double> >, cells: numpy.ndarray[numpy.int32]) -> None\n\nInvoked with: <dolfinx.cpp.fem.Function_complex128 object at 0x7f6c27178970>, <function <lambda> at 0x7f6c2722d870>, array([  0,   1,   2,   3,   4,   5,   6,   7,   8,   9,  10,  11,  12,\n        13,  14,  15,  16,  17,  18,  19,  20,  21,  22,  23,  24,  25,\n        26,  27,  28,  29,  30,  31,  32,  33,  34,  35,  36,  37,  38,\n        39,  40,  41,  42,  43,  44,  45,  46,  47,  48,  49,  50,  51,\n        52,  53,  54,  55,  56,  57,  58,  59,  60,  61,  62,  63,  64,\n        65,  66,  67,  68,  69,  70,  71,  72,  73,  74,  75,  76,  77,\n        78,  79,  80,  81,  82,  83,  84,  85,  86,  87,  88,  89,  90,\n        91,  92,  93,  94,  95,  96,  97,  98,  99, 100, 101, 102, 103,\n       104, 105, 106, 107, 108, 109, 110, 111, 112, 113, 114, 115, 116,\n       117, 118, 119, 120, 121, 122, 123, 124, 125, 126, 127, 128, 129,\n       130, 131, 132, 133, 134, 135, 136, 137, 138, 139, 140, 141, 142,\n       143, 144, 145, 146, 147, 148, 149, 150, 151, 152, 153, 154, 155,\n       156, 157, 158, 159, 160, 161, 162, 163, 164, 165, 166, 167, 168,\n       169, 170, 171, 172, 173, 174, 175, 176, 177, 178, 179, 180, 181,\n       182, 183, 184, 185, 186, 187, 188, 189, 190, 191, 192, 193, 194,\n       195, 196, 197, 198, 199], dtype=int32)\n\nDid you forget to `#include <pybind11/stl.h>`? Or <pybind11/complex.h>,\n<pybind11/functional.h>, <pybind11/chrono.h>, etc. Some automatic\nconversions are optional and require extra headers to be included\nwhen compiling your pybind11 module.",
      "\nDuring handling of the above exception, another exception occurred:\n",
      "\u001b[0;31mRuntimeError\u001b[0m                              Traceback (most recent call last)",
      "Cell \u001b[0;32mIn[153], line 1\u001b[0m\n\u001b[0;32m----> 1\u001b[0m fem_F\u001b[39m.\u001b[39;49minterpolate(simple_F)\n",
      "File \u001b[0;32m~/miniconda3/envs/Germanium_Spins_FE/lib/python3.10/site-packages/dolfinx/fem/function.py:348\u001b[0m, in \u001b[0;36mFunction.interpolate\u001b[0;34m(self, u, cells)\u001b[0m\n\u001b[1;32m    346\u001b[0m \u001b[39massert\u001b[39;00m callable(u)\n\u001b[1;32m    347\u001b[0m x \u001b[39m=\u001b[39m _cpp\u001b[39m.\u001b[39mfem\u001b[39m.\u001b[39minterpolation_coords(\u001b[39mself\u001b[39m\u001b[39m.\u001b[39m_V\u001b[39m.\u001b[39melement, \u001b[39mself\u001b[39m\u001b[39m.\u001b[39m_V\u001b[39m.\u001b[39mmesh, cells)\n\u001b[0;32m--> 348\u001b[0m \u001b[39mself\u001b[39;49m\u001b[39m.\u001b[39;49minterpolate(u(x), cells)\n",
      "File \u001b[0;32m~/miniconda3/envs/Germanium_Spins_FE/lib/python3.10/site-packages/dolfinx/fem/function.py:343\u001b[0m, in \u001b[0;36mFunction.interpolate\u001b[0;34m(self, u, cells)\u001b[0m\n\u001b[1;32m    339\u001b[0m     cells \u001b[39m=\u001b[39m np\u001b[39m.\u001b[39marange(\u001b[39mmap\u001b[39m\u001b[39m.\u001b[39msize_local \u001b[39m+\u001b[39m \u001b[39mmap\u001b[39m\u001b[39m.\u001b[39mnum_ghosts, dtype\u001b[39m=\u001b[39mnp\u001b[39m.\u001b[39mint32)\n\u001b[1;32m    341\u001b[0m \u001b[39mtry\u001b[39;00m:\n\u001b[1;32m    342\u001b[0m     \u001b[39m# u is a Function or Expression (or pointer to one)\u001b[39;00m\n\u001b[0;32m--> 343\u001b[0m     _interpolate(u, cells)\n\u001b[1;32m    344\u001b[0m \u001b[39mexcept\u001b[39;00m \u001b[39mTypeError\u001b[39;00m:\n\u001b[1;32m    345\u001b[0m     \u001b[39m# u is callable\u001b[39;00m\n\u001b[1;32m    346\u001b[0m     \u001b[39massert\u001b[39;00m callable(u)\n",
      "File \u001b[0;32m~/miniconda3/envs/Germanium_Spins_FE/lib/python3.10/functools.py:889\u001b[0m, in \u001b[0;36msingledispatch.<locals>.wrapper\u001b[0;34m(*args, **kw)\u001b[0m\n\u001b[1;32m    885\u001b[0m \u001b[39mif\u001b[39;00m \u001b[39mnot\u001b[39;00m args:\n\u001b[1;32m    886\u001b[0m     \u001b[39mraise\u001b[39;00m \u001b[39mTypeError\u001b[39;00m(\u001b[39mf\u001b[39m\u001b[39m'\u001b[39m\u001b[39m{\u001b[39;00mfuncname\u001b[39m}\u001b[39;00m\u001b[39m requires at least \u001b[39m\u001b[39m'\u001b[39m\n\u001b[1;32m    887\u001b[0m                     \u001b[39m'\u001b[39m\u001b[39m1 positional argument\u001b[39m\u001b[39m'\u001b[39m)\n\u001b[0;32m--> 889\u001b[0m \u001b[39mreturn\u001b[39;00m dispatch(args[\u001b[39m0\u001b[39;49m]\u001b[39m.\u001b[39;49m\u001b[39m__class__\u001b[39;49m)(\u001b[39m*\u001b[39;49margs, \u001b[39m*\u001b[39;49m\u001b[39m*\u001b[39;49mkw)\n",
      "File \u001b[0;32m~/miniconda3/envs/Germanium_Spins_FE/lib/python3.10/site-packages/dolfinx/fem/function.py:319\u001b[0m, in \u001b[0;36mFunction.interpolate.<locals>._interpolate\u001b[0;34m(u, cells)\u001b[0m\n\u001b[1;32m    316\u001b[0m \u001b[39m@singledispatch\u001b[39m\n\u001b[1;32m    317\u001b[0m \u001b[39mdef\u001b[39;00m \u001b[39m_interpolate\u001b[39m(u, cells: typing\u001b[39m.\u001b[39mOptional[np\u001b[39m.\u001b[39mndarray] \u001b[39m=\u001b[39m \u001b[39mNone\u001b[39;00m):\n\u001b[1;32m    318\u001b[0m     \u001b[39m\"\"\"Interpolate a cpp.fem.Function\"\"\"\u001b[39;00m\n\u001b[0;32m--> 319\u001b[0m     \u001b[39mself\u001b[39;49m\u001b[39m.\u001b[39;49m_cpp_object\u001b[39m.\u001b[39;49minterpolate(u, cells)\n",
      "\u001b[0;31mRuntimeError\u001b[0m: Interpolation data has the wrong shape/size."
     ]
    }
   ],
   "source": [
    "fem_F.interpolate(simple_F)"
   ]
  },
  {
   "cell_type": "code",
   "execution_count": null,
   "metadata": {},
   "outputs": [],
   "source": [
    "simple_F = lambda x:np.arange(6).reshape(2,3)"
   ]
  },
  {
   "cell_type": "code",
   "execution_count": null,
   "metadata": {},
   "outputs": [
    {
     "data": {
      "text/plain": [
       "Coefficient(FunctionSpace(Mesh(VectorElement(FiniteElement('Lagrange', triangle, 1), dim=2), 3), TensorElement(FiniteElement('Lagrange', triangle, 1), shape=(3, 2), symmetry={})), 2)"
      ]
     },
     "execution_count": 155,
     "metadata": {},
     "output_type": "execute_result"
    }
   ],
   "source": [
    "fem_F"
   ]
  },
  {
   "cell_type": "code",
   "execution_count": null,
   "metadata": {},
   "outputs": [
    {
     "ename": "RuntimeError",
     "evalue": "bad_function_call",
     "output_type": "error",
     "traceback": [
      "\u001b[0;31m---------------------------------------------------------------------------\u001b[0m",
      "\u001b[0;31mTypeError\u001b[0m                                 Traceback (most recent call last)",
      "File \u001b[0;32m~/miniconda3/envs/Germanium_Spins_FE/lib/python3.10/site-packages/dolfinx/fem/function.py:343\u001b[0m, in \u001b[0;36mFunction.interpolate\u001b[0;34m(self, u, cells)\u001b[0m\n\u001b[1;32m    341\u001b[0m \u001b[39mtry\u001b[39;00m:\n\u001b[1;32m    342\u001b[0m     \u001b[39m# u is a Function or Expression (or pointer to one)\u001b[39;00m\n\u001b[0;32m--> 343\u001b[0m     _interpolate(u, cells)\n\u001b[1;32m    344\u001b[0m \u001b[39mexcept\u001b[39;00m \u001b[39mTypeError\u001b[39;00m:\n\u001b[1;32m    345\u001b[0m     \u001b[39m# u is callable\u001b[39;00m\n",
      "File \u001b[0;32m~/miniconda3/envs/Germanium_Spins_FE/lib/python3.10/functools.py:889\u001b[0m, in \u001b[0;36msingledispatch.<locals>.wrapper\u001b[0;34m(*args, **kw)\u001b[0m\n\u001b[1;32m    886\u001b[0m     \u001b[39mraise\u001b[39;00m \u001b[39mTypeError\u001b[39;00m(\u001b[39mf\u001b[39m\u001b[39m'\u001b[39m\u001b[39m{\u001b[39;00mfuncname\u001b[39m}\u001b[39;00m\u001b[39m requires at least \u001b[39m\u001b[39m'\u001b[39m\n\u001b[1;32m    887\u001b[0m                     \u001b[39m'\u001b[39m\u001b[39m1 positional argument\u001b[39m\u001b[39m'\u001b[39m)\n\u001b[0;32m--> 889\u001b[0m \u001b[39mreturn\u001b[39;00m dispatch(args[\u001b[39m0\u001b[39;49m]\u001b[39m.\u001b[39;49m\u001b[39m__class__\u001b[39;49m)(\u001b[39m*\u001b[39;49margs, \u001b[39m*\u001b[39;49m\u001b[39m*\u001b[39;49mkw)\n",
      "File \u001b[0;32m~/miniconda3/envs/Germanium_Spins_FE/lib/python3.10/site-packages/dolfinx/fem/function.py:319\u001b[0m, in \u001b[0;36mFunction.interpolate.<locals>._interpolate\u001b[0;34m(u, cells)\u001b[0m\n\u001b[1;32m    318\u001b[0m \u001b[39m\"\"\"Interpolate a cpp.fem.Function\"\"\"\u001b[39;00m\n\u001b[0;32m--> 319\u001b[0m \u001b[39mself\u001b[39;49m\u001b[39m.\u001b[39;49m_cpp_object\u001b[39m.\u001b[39;49minterpolate(u, cells)\n",
      "\u001b[0;31mTypeError\u001b[0m: interpolate(): incompatible function arguments. The following argument types are supported:\n    1. (self: dolfinx.cpp.fem.Function_complex128, f: numpy.ndarray[numpy.complex128], cells: numpy.ndarray[numpy.int32]) -> None\n    2. (self: dolfinx.cpp.fem.Function_complex128, u: dolfinx.cpp.fem.Function_complex128, cells: numpy.ndarray[numpy.int32]) -> None\n    3. (self: dolfinx.cpp.fem.Function_complex128, expr: dolfinx::fem::Expression<std::complex<double> >, cells: numpy.ndarray[numpy.int32]) -> None\n\nInvoked with: <dolfinx.cpp.fem.Function_complex128 object at 0x7f6c27178970>, <function <lambda> at 0x7f6c27118820>, array([  0,   1,   2,   3,   4,   5,   6,   7,   8,   9,  10,  11,  12,\n        13,  14,  15,  16,  17,  18,  19,  20,  21,  22,  23,  24,  25,\n        26,  27,  28,  29,  30,  31,  32,  33,  34,  35,  36,  37,  38,\n        39,  40,  41,  42,  43,  44,  45,  46,  47,  48,  49,  50,  51,\n        52,  53,  54,  55,  56,  57,  58,  59,  60,  61,  62,  63,  64,\n        65,  66,  67,  68,  69,  70,  71,  72,  73,  74,  75,  76,  77,\n        78,  79,  80,  81,  82,  83,  84,  85,  86,  87,  88,  89,  90,\n        91,  92,  93,  94,  95,  96,  97,  98,  99, 100, 101, 102, 103,\n       104, 105, 106, 107, 108, 109, 110, 111, 112, 113, 114, 115, 116,\n       117, 118, 119, 120, 121, 122, 123, 124, 125, 126, 127, 128, 129,\n       130, 131, 132, 133, 134, 135, 136, 137, 138, 139, 140, 141, 142,\n       143, 144, 145, 146, 147, 148, 149, 150, 151, 152, 153, 154, 155,\n       156, 157, 158, 159, 160, 161, 162, 163, 164, 165, 166, 167, 168,\n       169, 170, 171, 172, 173, 174, 175, 176, 177, 178, 179, 180, 181,\n       182, 183, 184, 185, 186, 187, 188, 189, 190, 191, 192, 193, 194,\n       195, 196, 197, 198, 199], dtype=int32)\n\nDid you forget to `#include <pybind11/stl.h>`? Or <pybind11/complex.h>,\n<pybind11/functional.h>, <pybind11/chrono.h>, etc. Some automatic\nconversions are optional and require extra headers to be included\nwhen compiling your pybind11 module.",
      "\nDuring handling of the above exception, another exception occurred:\n",
      "\u001b[0;31mRuntimeError\u001b[0m                              Traceback (most recent call last)",
      "Cell \u001b[0;32mIn[158], line 1\u001b[0m\n\u001b[0;32m----> 1\u001b[0m fem_F\u001b[39m.\u001b[39;49minterpolate(\u001b[39mlambda\u001b[39;49;00m x:\u001b[39m0\u001b[39;49m)\n",
      "File \u001b[0;32m~/miniconda3/envs/Germanium_Spins_FE/lib/python3.10/site-packages/dolfinx/fem/function.py:348\u001b[0m, in \u001b[0;36mFunction.interpolate\u001b[0;34m(self, u, cells)\u001b[0m\n\u001b[1;32m    346\u001b[0m \u001b[39massert\u001b[39;00m callable(u)\n\u001b[1;32m    347\u001b[0m x \u001b[39m=\u001b[39m _cpp\u001b[39m.\u001b[39mfem\u001b[39m.\u001b[39minterpolation_coords(\u001b[39mself\u001b[39m\u001b[39m.\u001b[39m_V\u001b[39m.\u001b[39melement, \u001b[39mself\u001b[39m\u001b[39m.\u001b[39m_V\u001b[39m.\u001b[39mmesh, cells)\n\u001b[0;32m--> 348\u001b[0m \u001b[39mself\u001b[39;49m\u001b[39m.\u001b[39;49minterpolate(u(x), cells)\n",
      "File \u001b[0;32m~/miniconda3/envs/Germanium_Spins_FE/lib/python3.10/site-packages/dolfinx/fem/function.py:343\u001b[0m, in \u001b[0;36mFunction.interpolate\u001b[0;34m(self, u, cells)\u001b[0m\n\u001b[1;32m    339\u001b[0m     cells \u001b[39m=\u001b[39m np\u001b[39m.\u001b[39marange(\u001b[39mmap\u001b[39m\u001b[39m.\u001b[39msize_local \u001b[39m+\u001b[39m \u001b[39mmap\u001b[39m\u001b[39m.\u001b[39mnum_ghosts, dtype\u001b[39m=\u001b[39mnp\u001b[39m.\u001b[39mint32)\n\u001b[1;32m    341\u001b[0m \u001b[39mtry\u001b[39;00m:\n\u001b[1;32m    342\u001b[0m     \u001b[39m# u is a Function or Expression (or pointer to one)\u001b[39;00m\n\u001b[0;32m--> 343\u001b[0m     _interpolate(u, cells)\n\u001b[1;32m    344\u001b[0m \u001b[39mexcept\u001b[39;00m \u001b[39mTypeError\u001b[39;00m:\n\u001b[1;32m    345\u001b[0m     \u001b[39m# u is callable\u001b[39;00m\n\u001b[1;32m    346\u001b[0m     \u001b[39massert\u001b[39;00m callable(u)\n",
      "File \u001b[0;32m~/miniconda3/envs/Germanium_Spins_FE/lib/python3.10/functools.py:889\u001b[0m, in \u001b[0;36msingledispatch.<locals>.wrapper\u001b[0;34m(*args, **kw)\u001b[0m\n\u001b[1;32m    885\u001b[0m \u001b[39mif\u001b[39;00m \u001b[39mnot\u001b[39;00m args:\n\u001b[1;32m    886\u001b[0m     \u001b[39mraise\u001b[39;00m \u001b[39mTypeError\u001b[39;00m(\u001b[39mf\u001b[39m\u001b[39m'\u001b[39m\u001b[39m{\u001b[39;00mfuncname\u001b[39m}\u001b[39;00m\u001b[39m requires at least \u001b[39m\u001b[39m'\u001b[39m\n\u001b[1;32m    887\u001b[0m                     \u001b[39m'\u001b[39m\u001b[39m1 positional argument\u001b[39m\u001b[39m'\u001b[39m)\n\u001b[0;32m--> 889\u001b[0m \u001b[39mreturn\u001b[39;00m dispatch(args[\u001b[39m0\u001b[39;49m]\u001b[39m.\u001b[39;49m\u001b[39m__class__\u001b[39;49m)(\u001b[39m*\u001b[39;49margs, \u001b[39m*\u001b[39;49m\u001b[39m*\u001b[39;49mkw)\n",
      "File \u001b[0;32m~/miniconda3/envs/Germanium_Spins_FE/lib/python3.10/site-packages/dolfinx/fem/function.py:329\u001b[0m, in \u001b[0;36mFunction.interpolate.<locals>._\u001b[0;34m(u_ptr, cells)\u001b[0m\n\u001b[1;32m    326\u001b[0m \u001b[39m@_interpolate\u001b[39m\u001b[39m.\u001b[39mregister(\u001b[39mint\u001b[39m)\n\u001b[1;32m    327\u001b[0m \u001b[39mdef\u001b[39;00m \u001b[39m_\u001b[39m(u_ptr: \u001b[39mint\u001b[39m, cells: typing\u001b[39m.\u001b[39mOptional[np\u001b[39m.\u001b[39mndarray] \u001b[39m=\u001b[39m \u001b[39mNone\u001b[39;00m):\n\u001b[1;32m    328\u001b[0m     \u001b[39m\"\"\"Interpolate using a pointer to a function f(x)\"\"\"\u001b[39;00m\n\u001b[0;32m--> 329\u001b[0m     \u001b[39mself\u001b[39;49m\u001b[39m.\u001b[39;49m_cpp_object\u001b[39m.\u001b[39;49minterpolate_ptr(u_ptr, cells)\n",
      "\u001b[0;31mRuntimeError\u001b[0m: bad_function_call"
     ]
    }
   ],
   "source": [
    "fem_F.interpolate(lambda x:0)"
   ]
  },
  {
   "cell_type": "code",
   "execution_count": null,
   "metadata": {},
   "outputs": [
    {
     "data": {
      "text/plain": [
       "(968,)"
      ]
     },
     "execution_count": 29,
     "metadata": {},
     "output_type": "execute_result"
    }
   ],
   "source": [
    "F.x.array.shape"
   ]
  },
  {
   "cell_type": "code",
   "execution_count": null,
   "metadata": {},
   "outputs": [
    {
     "data": {
      "text/plain": [
       "(121, 3)"
      ]
     },
     "execution_count": 32,
     "metadata": {},
     "output_type": "execute_result"
    }
   ],
   "source": [
    "domain.geometry.x.shape"
   ]
  },
  {
   "cell_type": "code",
   "execution_count": null,
   "metadata": {},
   "outputs": [
    {
     "data": {
      "text/plain": [
       "array([7.000e+00+0.j, 6.070e+02+0.j, 1.207e+03+0.j, 1.807e+03+0.j,\n",
       "       2.407e+03+0.j, 3.007e+03+0.j, 3.607e+03+0.j, 4.207e+03+0.j,\n",
       "       1.000e+00+0.j, 6.010e+02+0.j, 1.201e+03+0.j, 1.801e+03+0.j,\n",
       "       2.401e+03+0.j, 3.001e+03+0.j, 3.601e+03+0.j, 4.201e+03+0.j,\n",
       "       1.000e+01+0.j, 6.100e+02+0.j, 1.210e+03+0.j, 1.810e+03+0.j,\n",
       "       2.410e+03+0.j, 3.010e+03+0.j, 3.610e+03+0.j, 4.210e+03+0.j,\n",
       "       2.200e+01+0.j, 6.220e+02+0.j, 1.222e+03+0.j, 1.822e+03+0.j,\n",
       "       2.422e+03+0.j, 3.022e+03+0.j, 3.622e+03+0.j, 4.222e+03+0.j,\n",
       "       1.900e+01+0.j, 6.190e+02+0.j, 1.219e+03+0.j, 1.819e+03+0.j,\n",
       "       2.419e+03+0.j, 3.019e+03+0.j, 3.619e+03+0.j, 4.219e+03+0.j,\n",
       "       2.500e+01+0.j, 6.250e+02+0.j, 1.225e+03+0.j, 1.825e+03+0.j,\n",
       "       2.425e+03+0.j, 3.025e+03+0.j, 3.625e+03+0.j, 4.225e+03+0.j,\n",
       "       4.000e+01+0.j, 6.400e+02+0.j, 1.240e+03+0.j, 1.840e+03+0.j,\n",
       "       2.440e+03+0.j, 3.040e+03+0.j, 3.640e+03+0.j, 4.240e+03+0.j,\n",
       "       4.300e+01+0.j, 6.430e+02+0.j, 1.243e+03+0.j, 1.843e+03+0.j,\n",
       "       2.443e+03+0.j, 3.043e+03+0.j, 3.643e+03+0.j, 4.243e+03+0.j,\n",
       "       3.700e+01+0.j, 6.370e+02+0.j, 1.237e+03+0.j, 1.837e+03+0.j,\n",
       "       2.437e+03+0.j, 3.037e+03+0.j, 3.637e+03+0.j, 4.237e+03+0.j,\n",
       "       4.600e+01+0.j, 6.460e+02+0.j, 1.246e+03+0.j, 1.846e+03+0.j,\n",
       "       2.446e+03+0.j, 3.046e+03+0.j, 3.646e+03+0.j, 4.246e+03+0.j,\n",
       "       6.400e+01+0.j, 6.640e+02+0.j, 1.264e+03+0.j, 1.864e+03+0.j,\n",
       "       2.464e+03+0.j, 3.064e+03+0.j, 3.664e+03+0.j, 4.264e+03+0.j,\n",
       "       6.700e+01+0.j, 6.670e+02+0.j, 1.267e+03+0.j, 1.867e+03+0.j,\n",
       "       2.467e+03+0.j, 3.067e+03+0.j, 3.667e+03+0.j, 4.267e+03+0.j,\n",
       "       7.000e+01+0.j, 6.700e+02+0.j, 1.270e+03+0.j, 1.870e+03+0.j,\n",
       "       2.470e+03+0.j, 3.070e+03+0.j, 3.670e+03+0.j, 4.270e+03+0.j,\n",
       "       6.100e+01+0.j, 6.610e+02+0.j, 1.261e+03+0.j, 1.861e+03+0.j,\n",
       "       2.461e+03+0.j, 3.061e+03+0.j, 3.661e+03+0.j, 4.261e+03+0.j,\n",
       "       7.300e+01+0.j, 6.730e+02+0.j, 1.273e+03+0.j, 1.873e+03+0.j,\n",
       "       2.473e+03+0.j, 3.073e+03+0.j, 3.673e+03+0.j, 4.273e+03+0.j,\n",
       "       9.400e+01+0.j, 6.940e+02+0.j, 1.294e+03+0.j, 1.894e+03+0.j,\n",
       "       2.494e+03+0.j, 3.094e+03+0.j, 3.694e+03+0.j, 4.294e+03+0.j,\n",
       "       9.700e+01+0.j, 6.970e+02+0.j, 1.297e+03+0.j, 1.897e+03+0.j,\n",
       "       2.497e+03+0.j, 3.097e+03+0.j, 3.697e+03+0.j, 4.297e+03+0.j,\n",
       "       1.000e+02+0.j, 7.000e+02+0.j, 1.300e+03+0.j, 1.900e+03+0.j,\n",
       "       2.500e+03+0.j, 3.100e+03+0.j, 3.700e+03+0.j, 4.300e+03+0.j,\n",
       "       1.030e+02+0.j, 7.030e+02+0.j, 1.303e+03+0.j, 1.903e+03+0.j,\n",
       "       2.503e+03+0.j, 3.103e+03+0.j, 3.703e+03+0.j, 4.303e+03+0.j,\n",
       "       9.100e+01+0.j, 6.910e+02+0.j, 1.291e+03+0.j, 1.891e+03+0.j,\n",
       "       2.491e+03+0.j, 3.091e+03+0.j, 3.691e+03+0.j, 4.291e+03+0.j,\n",
       "       1.060e+02+0.j, 7.060e+02+0.j, 1.306e+03+0.j, 1.906e+03+0.j,\n",
       "       2.506e+03+0.j, 3.106e+03+0.j, 3.706e+03+0.j, 4.306e+03+0.j,\n",
       "       1.300e+02+0.j, 7.300e+02+0.j, 1.330e+03+0.j, 1.930e+03+0.j,\n",
       "       2.530e+03+0.j, 3.130e+03+0.j, 3.730e+03+0.j, 4.330e+03+0.j,\n",
       "       1.330e+02+0.j, 7.330e+02+0.j, 1.333e+03+0.j, 1.933e+03+0.j,\n",
       "       2.533e+03+0.j, 3.133e+03+0.j, 3.733e+03+0.j, 4.333e+03+0.j,\n",
       "       1.360e+02+0.j, 7.360e+02+0.j, 1.336e+03+0.j, 1.936e+03+0.j,\n",
       "       2.536e+03+0.j, 3.136e+03+0.j, 3.736e+03+0.j, 4.336e+03+0.j,\n",
       "       1.390e+02+0.j, 7.390e+02+0.j, 1.339e+03+0.j, 1.939e+03+0.j,\n",
       "       2.539e+03+0.j, 3.139e+03+0.j, 3.739e+03+0.j, 4.339e+03+0.j,\n",
       "       1.420e+02+0.j, 7.420e+02+0.j, 1.342e+03+0.j, 1.942e+03+0.j,\n",
       "       2.542e+03+0.j, 3.142e+03+0.j, 3.742e+03+0.j, 4.342e+03+0.j,\n",
       "       1.270e+02+0.j, 7.270e+02+0.j, 1.327e+03+0.j, 1.927e+03+0.j,\n",
       "       2.527e+03+0.j, 3.127e+03+0.j, 3.727e+03+0.j, 4.327e+03+0.j,\n",
       "       1.450e+02+0.j, 7.450e+02+0.j, 1.345e+03+0.j, 1.945e+03+0.j,\n",
       "       2.545e+03+0.j, 3.145e+03+0.j, 3.745e+03+0.j, 4.345e+03+0.j,\n",
       "       1.720e+02+0.j, 7.720e+02+0.j, 1.372e+03+0.j, 1.972e+03+0.j,\n",
       "       2.572e+03+0.j, 3.172e+03+0.j, 3.772e+03+0.j, 4.372e+03+0.j,\n",
       "       1.750e+02+0.j, 7.750e+02+0.j, 1.375e+03+0.j, 1.975e+03+0.j,\n",
       "       2.575e+03+0.j, 3.175e+03+0.j, 3.775e+03+0.j, 4.375e+03+0.j,\n",
       "       1.780e+02+0.j, 7.780e+02+0.j, 1.378e+03+0.j, 1.978e+03+0.j,\n",
       "       2.578e+03+0.j, 3.178e+03+0.j, 3.778e+03+0.j, 4.378e+03+0.j,\n",
       "       1.810e+02+0.j, 7.810e+02+0.j, 1.381e+03+0.j, 1.981e+03+0.j,\n",
       "       2.581e+03+0.j, 3.181e+03+0.j, 3.781e+03+0.j, 4.381e+03+0.j,\n",
       "       1.840e+02+0.j, 7.840e+02+0.j, 1.384e+03+0.j, 1.984e+03+0.j,\n",
       "       2.584e+03+0.j, 3.184e+03+0.j, 3.784e+03+0.j, 4.384e+03+0.j,\n",
       "       1.870e+02+0.j, 7.870e+02+0.j, 1.387e+03+0.j, 1.987e+03+0.j,\n",
       "       2.587e+03+0.j, 3.187e+03+0.j, 3.787e+03+0.j, 4.387e+03+0.j,\n",
       "       1.690e+02+0.j, 7.690e+02+0.j, 1.369e+03+0.j, 1.969e+03+0.j,\n",
       "       2.569e+03+0.j, 3.169e+03+0.j, 3.769e+03+0.j, 4.369e+03+0.j,\n",
       "       1.900e+02+0.j, 7.900e+02+0.j, 1.390e+03+0.j, 1.990e+03+0.j,\n",
       "       2.590e+03+0.j, 3.190e+03+0.j, 3.790e+03+0.j, 4.390e+03+0.j,\n",
       "       2.200e+02+0.j, 8.200e+02+0.j, 1.420e+03+0.j, 2.020e+03+0.j,\n",
       "       2.620e+03+0.j, 3.220e+03+0.j, 3.820e+03+0.j, 4.420e+03+0.j,\n",
       "       2.230e+02+0.j, 8.230e+02+0.j, 1.423e+03+0.j, 2.023e+03+0.j,\n",
       "       2.623e+03+0.j, 3.223e+03+0.j, 3.823e+03+0.j, 4.423e+03+0.j,\n",
       "       2.260e+02+0.j, 8.260e+02+0.j, 1.426e+03+0.j, 2.026e+03+0.j,\n",
       "       2.626e+03+0.j, 3.226e+03+0.j, 3.826e+03+0.j, 4.426e+03+0.j,\n",
       "       2.290e+02+0.j, 8.290e+02+0.j, 1.429e+03+0.j, 2.029e+03+0.j,\n",
       "       2.629e+03+0.j, 3.229e+03+0.j, 3.829e+03+0.j, 4.429e+03+0.j,\n",
       "       2.320e+02+0.j, 8.320e+02+0.j, 1.432e+03+0.j, 2.032e+03+0.j,\n",
       "       2.632e+03+0.j, 3.232e+03+0.j, 3.832e+03+0.j, 4.432e+03+0.j,\n",
       "       2.350e+02+0.j, 8.350e+02+0.j, 1.435e+03+0.j, 2.035e+03+0.j,\n",
       "       2.635e+03+0.j, 3.235e+03+0.j, 3.835e+03+0.j, 4.435e+03+0.j,\n",
       "       2.380e+02+0.j, 8.380e+02+0.j, 1.438e+03+0.j, 2.038e+03+0.j,\n",
       "       2.638e+03+0.j, 3.238e+03+0.j, 3.838e+03+0.j, 4.438e+03+0.j,\n",
       "       2.170e+02+0.j, 8.170e+02+0.j, 1.417e+03+0.j, 2.017e+03+0.j,\n",
       "       2.617e+03+0.j, 3.217e+03+0.j, 3.817e+03+0.j, 4.417e+03+0.j,\n",
       "       2.410e+02+0.j, 8.410e+02+0.j, 1.441e+03+0.j, 2.041e+03+0.j,\n",
       "       2.641e+03+0.j, 3.241e+03+0.j, 3.841e+03+0.j, 4.441e+03+0.j,\n",
       "       2.740e+02+0.j, 8.740e+02+0.j, 1.474e+03+0.j, 2.074e+03+0.j,\n",
       "       2.674e+03+0.j, 3.274e+03+0.j, 3.874e+03+0.j, 4.474e+03+0.j,\n",
       "       2.770e+02+0.j, 8.770e+02+0.j, 1.477e+03+0.j, 2.077e+03+0.j,\n",
       "       2.677e+03+0.j, 3.277e+03+0.j, 3.877e+03+0.j, 4.477e+03+0.j,\n",
       "       2.800e+02+0.j, 8.800e+02+0.j, 1.480e+03+0.j, 2.080e+03+0.j,\n",
       "       2.680e+03+0.j, 3.280e+03+0.j, 3.880e+03+0.j, 4.480e+03+0.j,\n",
       "       2.830e+02+0.j, 8.830e+02+0.j, 1.483e+03+0.j, 2.083e+03+0.j,\n",
       "       2.683e+03+0.j, 3.283e+03+0.j, 3.883e+03+0.j, 4.483e+03+0.j,\n",
       "       2.860e+02+0.j, 8.860e+02+0.j, 1.486e+03+0.j, 2.086e+03+0.j,\n",
       "       2.686e+03+0.j, 3.286e+03+0.j, 3.886e+03+0.j, 4.486e+03+0.j,\n",
       "       2.890e+02+0.j, 8.890e+02+0.j, 1.489e+03+0.j, 2.089e+03+0.j,\n",
       "       2.689e+03+0.j, 3.289e+03+0.j, 3.889e+03+0.j, 4.489e+03+0.j,\n",
       "       2.920e+02+0.j, 8.920e+02+0.j, 1.492e+03+0.j, 2.092e+03+0.j,\n",
       "       2.692e+03+0.j, 3.292e+03+0.j, 3.892e+03+0.j, 4.492e+03+0.j,\n",
       "       2.950e+02+0.j, 8.950e+02+0.j, 1.495e+03+0.j, 2.095e+03+0.j,\n",
       "       2.695e+03+0.j, 3.295e+03+0.j, 3.895e+03+0.j, 4.495e+03+0.j,\n",
       "       2.710e+02+0.j, 8.710e+02+0.j, 1.471e+03+0.j, 2.071e+03+0.j,\n",
       "       2.671e+03+0.j, 3.271e+03+0.j, 3.871e+03+0.j, 4.471e+03+0.j,\n",
       "       2.980e+02+0.j, 8.980e+02+0.j, 1.498e+03+0.j, 2.098e+03+0.j,\n",
       "       2.698e+03+0.j, 3.298e+03+0.j, 3.898e+03+0.j, 4.498e+03+0.j,\n",
       "       3.310e+02+0.j, 9.310e+02+0.j, 1.531e+03+0.j, 2.131e+03+0.j,\n",
       "       2.731e+03+0.j, 3.331e+03+0.j, 3.931e+03+0.j, 4.531e+03+0.j,\n",
       "       3.340e+02+0.j, 9.340e+02+0.j, 1.534e+03+0.j, 2.134e+03+0.j,\n",
       "       2.734e+03+0.j, 3.334e+03+0.j, 3.934e+03+0.j, 4.534e+03+0.j,\n",
       "       3.370e+02+0.j, 9.370e+02+0.j, 1.537e+03+0.j, 2.137e+03+0.j,\n",
       "       2.737e+03+0.j, 3.337e+03+0.j, 3.937e+03+0.j, 4.537e+03+0.j,\n",
       "       3.400e+02+0.j, 9.400e+02+0.j, 1.540e+03+0.j, 2.140e+03+0.j,\n",
       "       2.740e+03+0.j, 3.340e+03+0.j, 3.940e+03+0.j, 4.540e+03+0.j,\n",
       "       3.430e+02+0.j, 9.430e+02+0.j, 1.543e+03+0.j, 2.143e+03+0.j,\n",
       "       2.743e+03+0.j, 3.343e+03+0.j, 3.943e+03+0.j, 4.543e+03+0.j,\n",
       "       3.460e+02+0.j, 9.460e+02+0.j, 1.546e+03+0.j, 2.146e+03+0.j,\n",
       "       2.746e+03+0.j, 3.346e+03+0.j, 3.946e+03+0.j, 4.546e+03+0.j,\n",
       "       3.490e+02+0.j, 9.490e+02+0.j, 1.549e+03+0.j, 2.149e+03+0.j,\n",
       "       2.749e+03+0.j, 3.349e+03+0.j, 3.949e+03+0.j, 4.549e+03+0.j,\n",
       "       3.520e+02+0.j, 9.520e+02+0.j, 1.552e+03+0.j, 2.152e+03+0.j,\n",
       "       2.752e+03+0.j, 3.352e+03+0.j, 3.952e+03+0.j, 4.552e+03+0.j,\n",
       "       3.550e+02+0.j, 9.550e+02+0.j, 1.555e+03+0.j, 2.155e+03+0.j,\n",
       "       2.755e+03+0.j, 3.355e+03+0.j, 3.955e+03+0.j, 4.555e+03+0.j,\n",
       "       3.000e+02+0.j, 9.000e+02+0.j, 1.500e+03+0.j, 2.100e+03+0.j,\n",
       "       2.700e+03+0.j, 3.300e+03+0.j, 3.900e+03+0.j, 4.500e+03+0.j,\n",
       "       3.290e+02+0.j, 9.290e+02+0.j, 1.529e+03+0.j, 2.129e+03+0.j,\n",
       "       2.729e+03+0.j, 3.329e+03+0.j, 3.929e+03+0.j, 4.529e+03+0.j,\n",
       "       3.570e+02+0.j, 9.570e+02+0.j, 1.557e+03+0.j, 2.157e+03+0.j,\n",
       "       2.757e+03+0.j, 3.357e+03+0.j, 3.957e+03+0.j, 4.557e+03+0.j,\n",
       "       3.850e+02+0.j, 9.850e+02+0.j, 1.585e+03+0.j, 2.185e+03+0.j,\n",
       "       2.785e+03+0.j, 3.385e+03+0.j, 3.985e+03+0.j, 4.585e+03+0.j,\n",
       "       3.880e+02+0.j, 9.880e+02+0.j, 1.588e+03+0.j, 2.188e+03+0.j,\n",
       "       2.788e+03+0.j, 3.388e+03+0.j, 3.988e+03+0.j, 4.588e+03+0.j,\n",
       "       3.910e+02+0.j, 9.910e+02+0.j, 1.591e+03+0.j, 2.191e+03+0.j,\n",
       "       2.791e+03+0.j, 3.391e+03+0.j, 3.991e+03+0.j, 4.591e+03+0.j,\n",
       "       3.940e+02+0.j, 9.940e+02+0.j, 1.594e+03+0.j, 2.194e+03+0.j,\n",
       "       2.794e+03+0.j, 3.394e+03+0.j, 3.994e+03+0.j, 4.594e+03+0.j,\n",
       "       3.970e+02+0.j, 9.970e+02+0.j, 1.597e+03+0.j, 2.197e+03+0.j,\n",
       "       2.797e+03+0.j, 3.397e+03+0.j, 3.997e+03+0.j, 4.597e+03+0.j,\n",
       "       4.000e+02+0.j, 1.000e+03+0.j, 1.600e+03+0.j, 2.200e+03+0.j,\n",
       "       2.800e+03+0.j, 3.400e+03+0.j, 4.000e+03+0.j, 4.600e+03+0.j,\n",
       "       4.030e+02+0.j, 1.003e+03+0.j, 1.603e+03+0.j, 2.203e+03+0.j,\n",
       "       2.803e+03+0.j, 3.403e+03+0.j, 4.003e+03+0.j, 4.603e+03+0.j,\n",
       "       4.060e+02+0.j, 1.006e+03+0.j, 1.606e+03+0.j, 2.206e+03+0.j,\n",
       "       2.806e+03+0.j, 3.406e+03+0.j, 4.006e+03+0.j, 4.606e+03+0.j,\n",
       "       3.830e+02+0.j, 9.830e+02+0.j, 1.583e+03+0.j, 2.183e+03+0.j,\n",
       "       2.783e+03+0.j, 3.383e+03+0.j, 3.983e+03+0.j, 4.583e+03+0.j,\n",
       "       4.080e+02+0.j, 1.008e+03+0.j, 1.608e+03+0.j, 2.208e+03+0.j,\n",
       "       2.808e+03+0.j, 3.408e+03+0.j, 4.008e+03+0.j, 4.608e+03+0.j,\n",
       "       4.330e+02+0.j, 1.033e+03+0.j, 1.633e+03+0.j, 2.233e+03+0.j,\n",
       "       2.833e+03+0.j, 3.433e+03+0.j, 4.033e+03+0.j, 4.633e+03+0.j,\n",
       "       4.360e+02+0.j, 1.036e+03+0.j, 1.636e+03+0.j, 2.236e+03+0.j,\n",
       "       2.836e+03+0.j, 3.436e+03+0.j, 4.036e+03+0.j, 4.636e+03+0.j,\n",
       "       4.390e+02+0.j, 1.039e+03+0.j, 1.639e+03+0.j, 2.239e+03+0.j,\n",
       "       2.839e+03+0.j, 3.439e+03+0.j, 4.039e+03+0.j, 4.639e+03+0.j,\n",
       "       4.420e+02+0.j, 1.042e+03+0.j, 1.642e+03+0.j, 2.242e+03+0.j,\n",
       "       2.842e+03+0.j, 3.442e+03+0.j, 4.042e+03+0.j, 4.642e+03+0.j,\n",
       "       4.450e+02+0.j, 1.045e+03+0.j, 1.645e+03+0.j, 2.245e+03+0.j,\n",
       "       2.845e+03+0.j, 3.445e+03+0.j, 4.045e+03+0.j, 4.645e+03+0.j,\n",
       "       4.480e+02+0.j, 1.048e+03+0.j, 1.648e+03+0.j, 2.248e+03+0.j,\n",
       "       2.848e+03+0.j, 3.448e+03+0.j, 4.048e+03+0.j, 4.648e+03+0.j,\n",
       "       4.510e+02+0.j, 1.051e+03+0.j, 1.651e+03+0.j, 2.251e+03+0.j,\n",
       "       2.851e+03+0.j, 3.451e+03+0.j, 4.051e+03+0.j, 4.651e+03+0.j,\n",
       "       4.310e+02+0.j, 1.031e+03+0.j, 1.631e+03+0.j, 2.231e+03+0.j,\n",
       "       2.831e+03+0.j, 3.431e+03+0.j, 4.031e+03+0.j, 4.631e+03+0.j,\n",
       "       4.530e+02+0.j, 1.053e+03+0.j, 1.653e+03+0.j, 2.253e+03+0.j,\n",
       "       2.853e+03+0.j, 3.453e+03+0.j, 4.053e+03+0.j, 4.653e+03+0.j,\n",
       "       4.750e+02+0.j, 1.075e+03+0.j, 1.675e+03+0.j, 2.275e+03+0.j,\n",
       "       2.875e+03+0.j, 3.475e+03+0.j, 4.075e+03+0.j, 4.675e+03+0.j,\n",
       "       4.780e+02+0.j, 1.078e+03+0.j, 1.678e+03+0.j, 2.278e+03+0.j,\n",
       "       2.878e+03+0.j, 3.478e+03+0.j, 4.078e+03+0.j, 4.678e+03+0.j,\n",
       "       4.810e+02+0.j, 1.081e+03+0.j, 1.681e+03+0.j, 2.281e+03+0.j,\n",
       "       2.881e+03+0.j, 3.481e+03+0.j, 4.081e+03+0.j, 4.681e+03+0.j,\n",
       "       4.840e+02+0.j, 1.084e+03+0.j, 1.684e+03+0.j, 2.284e+03+0.j,\n",
       "       2.884e+03+0.j, 3.484e+03+0.j, 4.084e+03+0.j, 4.684e+03+0.j,\n",
       "       4.870e+02+0.j, 1.087e+03+0.j, 1.687e+03+0.j, 2.287e+03+0.j,\n",
       "       2.887e+03+0.j, 3.487e+03+0.j, 4.087e+03+0.j, 4.687e+03+0.j,\n",
       "       4.900e+02+0.j, 1.090e+03+0.j, 1.690e+03+0.j, 2.290e+03+0.j,\n",
       "       2.890e+03+0.j, 3.490e+03+0.j, 4.090e+03+0.j, 4.690e+03+0.j,\n",
       "       4.730e+02+0.j, 1.073e+03+0.j, 1.673e+03+0.j, 2.273e+03+0.j,\n",
       "       2.873e+03+0.j, 3.473e+03+0.j, 4.073e+03+0.j, 4.673e+03+0.j,\n",
       "       4.920e+02+0.j, 1.092e+03+0.j, 1.692e+03+0.j, 2.292e+03+0.j,\n",
       "       2.892e+03+0.j, 3.492e+03+0.j, 4.092e+03+0.j, 4.692e+03+0.j,\n",
       "       5.110e+02+0.j, 1.111e+03+0.j, 1.711e+03+0.j, 2.311e+03+0.j,\n",
       "       2.911e+03+0.j, 3.511e+03+0.j, 4.111e+03+0.j, 4.711e+03+0.j,\n",
       "       5.140e+02+0.j, 1.114e+03+0.j, 1.714e+03+0.j, 2.314e+03+0.j,\n",
       "       2.914e+03+0.j, 3.514e+03+0.j, 4.114e+03+0.j, 4.714e+03+0.j,\n",
       "       5.170e+02+0.j, 1.117e+03+0.j, 1.717e+03+0.j, 2.317e+03+0.j,\n",
       "       2.917e+03+0.j, 3.517e+03+0.j, 4.117e+03+0.j, 4.717e+03+0.j,\n",
       "       5.200e+02+0.j, 1.120e+03+0.j, 1.720e+03+0.j, 2.320e+03+0.j,\n",
       "       2.920e+03+0.j, 3.520e+03+0.j, 4.120e+03+0.j, 4.720e+03+0.j,\n",
       "       5.230e+02+0.j, 1.123e+03+0.j, 1.723e+03+0.j, 2.323e+03+0.j,\n",
       "       2.923e+03+0.j, 3.523e+03+0.j, 4.123e+03+0.j, 4.723e+03+0.j,\n",
       "       5.090e+02+0.j, 1.109e+03+0.j, 1.709e+03+0.j, 2.309e+03+0.j,\n",
       "       2.909e+03+0.j, 3.509e+03+0.j, 4.109e+03+0.j, 4.709e+03+0.j,\n",
       "       5.250e+02+0.j, 1.125e+03+0.j, 1.725e+03+0.j, 2.325e+03+0.j,\n",
       "       2.925e+03+0.j, 3.525e+03+0.j, 4.125e+03+0.j, 4.725e+03+0.j,\n",
       "       5.410e+02+0.j, 1.141e+03+0.j, 1.741e+03+0.j, 2.341e+03+0.j,\n",
       "       2.941e+03+0.j, 3.541e+03+0.j, 4.141e+03+0.j, 4.741e+03+0.j,\n",
       "       5.440e+02+0.j, 1.144e+03+0.j, 1.744e+03+0.j, 2.344e+03+0.j,\n",
       "       2.944e+03+0.j, 3.544e+03+0.j, 4.144e+03+0.j, 4.744e+03+0.j,\n",
       "       5.470e+02+0.j, 1.147e+03+0.j, 1.747e+03+0.j, 2.347e+03+0.j,\n",
       "       2.947e+03+0.j, 3.547e+03+0.j, 4.147e+03+0.j, 4.747e+03+0.j,\n",
       "       5.500e+02+0.j, 1.150e+03+0.j, 1.750e+03+0.j, 2.350e+03+0.j,\n",
       "       2.950e+03+0.j, 3.550e+03+0.j, 4.150e+03+0.j, 4.750e+03+0.j,\n",
       "       5.390e+02+0.j, 1.139e+03+0.j, 1.739e+03+0.j, 2.339e+03+0.j,\n",
       "       2.939e+03+0.j, 3.539e+03+0.j, 4.139e+03+0.j, 4.739e+03+0.j,\n",
       "       5.520e+02+0.j, 1.152e+03+0.j, 1.752e+03+0.j, 2.352e+03+0.j,\n",
       "       2.952e+03+0.j, 3.552e+03+0.j, 4.152e+03+0.j, 4.752e+03+0.j,\n",
       "       5.650e+02+0.j, 1.165e+03+0.j, 1.765e+03+0.j, 2.365e+03+0.j,\n",
       "       2.965e+03+0.j, 3.565e+03+0.j, 4.165e+03+0.j, 4.765e+03+0.j,\n",
       "       5.680e+02+0.j, 1.168e+03+0.j, 1.768e+03+0.j, 2.368e+03+0.j,\n",
       "       2.968e+03+0.j, 3.568e+03+0.j, 4.168e+03+0.j, 4.768e+03+0.j,\n",
       "       5.710e+02+0.j, 1.171e+03+0.j, 1.771e+03+0.j, 2.371e+03+0.j,\n",
       "       2.971e+03+0.j, 3.571e+03+0.j, 4.171e+03+0.j, 4.771e+03+0.j,\n",
       "       5.630e+02+0.j, 1.163e+03+0.j, 1.763e+03+0.j, 2.363e+03+0.j,\n",
       "       2.963e+03+0.j, 3.563e+03+0.j, 4.163e+03+0.j, 4.763e+03+0.j,\n",
       "       5.730e+02+0.j, 1.173e+03+0.j, 1.773e+03+0.j, 2.373e+03+0.j,\n",
       "       2.973e+03+0.j, 3.573e+03+0.j, 4.173e+03+0.j, 4.773e+03+0.j,\n",
       "       5.830e+02+0.j, 1.183e+03+0.j, 1.783e+03+0.j, 2.383e+03+0.j,\n",
       "       2.983e+03+0.j, 3.583e+03+0.j, 4.183e+03+0.j, 4.783e+03+0.j,\n",
       "       5.860e+02+0.j, 1.186e+03+0.j, 1.786e+03+0.j, 2.386e+03+0.j,\n",
       "       2.986e+03+0.j, 3.586e+03+0.j, 4.186e+03+0.j, 4.786e+03+0.j,\n",
       "       5.810e+02+0.j, 1.181e+03+0.j, 1.781e+03+0.j, 2.381e+03+0.j,\n",
       "       2.981e+03+0.j, 3.581e+03+0.j, 4.181e+03+0.j, 4.781e+03+0.j,\n",
       "       5.880e+02+0.j, 1.188e+03+0.j, 1.788e+03+0.j, 2.388e+03+0.j,\n",
       "       2.988e+03+0.j, 3.588e+03+0.j, 4.188e+03+0.j, 4.788e+03+0.j,\n",
       "       5.950e+02+0.j, 1.195e+03+0.j, 1.795e+03+0.j, 2.395e+03+0.j,\n",
       "       2.995e+03+0.j, 3.595e+03+0.j, 4.195e+03+0.j, 4.795e+03+0.j,\n",
       "       5.930e+02+0.j, 1.193e+03+0.j, 1.793e+03+0.j, 2.393e+03+0.j,\n",
       "       2.993e+03+0.j, 3.593e+03+0.j, 4.193e+03+0.j, 4.793e+03+0.j,\n",
       "       5.970e+02+0.j, 1.197e+03+0.j, 1.797e+03+0.j, 2.397e+03+0.j,\n",
       "       2.997e+03+0.j, 3.597e+03+0.j, 4.197e+03+0.j, 4.797e+03+0.j,\n",
       "       5.990e+02+0.j, 1.199e+03+0.j, 1.799e+03+0.j, 2.399e+03+0.j,\n",
       "       2.999e+03+0.j, 3.599e+03+0.j, 4.199e+03+0.j, 4.799e+03+0.j,\n",
       "       5.980e+02+0.j, 1.198e+03+0.j, 1.798e+03+0.j, 2.398e+03+0.j,\n",
       "       2.998e+03+0.j, 3.598e+03+0.j, 4.198e+03+0.j, 4.798e+03+0.j])"
      ]
     },
     "execution_count": 33,
     "metadata": {},
     "output_type": "execute_result"
    }
   ],
   "source": [
    "F.x.array"
   ]
  },
  {
   "cell_type": "code",
   "execution_count": null,
   "metadata": {},
   "outputs": [
    {
     "data": {
      "text/plain": [
       "(4799+0j)"
      ]
     },
     "execution_count": 36,
     "metadata": {},
     "output_type": "execute_result"
    }
   ],
   "source": [
    "np.max(F.x.array)"
   ]
  },
  {
   "cell_type": "code",
   "execution_count": null,
   "metadata": {},
   "outputs": [
    {
     "data": {
      "text/plain": [
       "True"
      ]
     },
     "execution_count": 50,
     "metadata": {},
     "output_type": "execute_result"
    }
   ],
   "source": [
    "ufl_constants['m']*0 == 0"
   ]
  },
  {
   "cell_type": "code",
   "execution_count": null,
   "metadata": {},
   "outputs": [
    {
     "data": {
      "text/plain": [
       "Indexed(SpatialCoordinate(Mesh(VectorElement(FiniteElement('Lagrange', triangle, 1), dim=2), 0)), MultiIndex((FixedIndex(1),)))"
      ]
     },
     "execution_count": 47,
     "metadata": {},
     "output_type": "execute_result"
    }
   ],
   "source": [
    "X[1]"
   ]
  },
  {
   "cell_type": "code",
   "execution_count": null,
   "metadata": {},
   "outputs": [
    {
     "data": {
      "text/plain": [
       "array(1.+0.j)"
      ]
     },
     "execution_count": 51,
     "metadata": {},
     "output_type": "execute_result"
    }
   ],
   "source": [
    "ufl_constants['m'].value"
   ]
  },
  {
   "cell_type": "code",
   "execution_count": null,
   "metadata": {},
   "outputs": [],
   "source": [
    "A = np.array([[1,2,3,ufl_constants['m']],[10,11,12,ufl_constants['g']]])"
   ]
  },
  {
   "cell_type": "code",
   "execution_count": null,
   "metadata": {},
   "outputs": [],
   "source": [
    "ufl_A=ufl.as_tensor(A)"
   ]
  },
  {
   "cell_type": "code",
   "execution_count": null,
   "metadata": {},
   "outputs": [
    {
     "ename": "AttributeError",
     "evalue": "'ListTensor' object has no attribute 'ufl_constants'",
     "output_type": "error",
     "traceback": [
      "\u001b[0;31m---------------------------------------------------------------------------\u001b[0m",
      "\u001b[0;31mAttributeError\u001b[0m                            Traceback (most recent call last)",
      "Cell \u001b[0;32mIn[80], line 1\u001b[0m\n\u001b[0;32m----> 1\u001b[0m ufl_A\u001b[39m.\u001b[39;49mufl_constants\n",
      "\u001b[0;31mAttributeError\u001b[0m: 'ListTensor' object has no attribute 'ufl_constants'"
     ]
    }
   ],
   "source": [
    "ufl_A.ufl_constants"
   ]
  },
  {
   "cell_type": "code",
   "execution_count": null,
   "metadata": {},
   "outputs": [
    {
     "ename": "NotImplementedError",
     "evalue": "Cannot take length of non-vector expression.",
     "output_type": "error",
     "traceback": [
      "\u001b[0;31m---------------------------------------------------------------------------\u001b[0m",
      "\u001b[0;31mNotImplementedError\u001b[0m                       Traceback (most recent call last)",
      "Cell \u001b[0;32mIn[95], line 1\u001b[0m\n\u001b[0;32m----> 1\u001b[0m np\u001b[39m.\u001b[39marray(\u001b[39mlist\u001b[39;49m(ufl_A))\n",
      "File \u001b[0;32m~/miniconda3/envs/Germanium_Spins_FE/lib/python3.10/site-packages/ufl/core/expr.py:390\u001b[0m, in \u001b[0;36mExpr.__len__\u001b[0;34m(self)\u001b[0m\n\u001b[1;32m    388\u001b[0m \u001b[39mif\u001b[39;00m \u001b[39mlen\u001b[39m(s) \u001b[39m==\u001b[39m \u001b[39m1\u001b[39m:\n\u001b[1;32m    389\u001b[0m     \u001b[39mreturn\u001b[39;00m s[\u001b[39m0\u001b[39m]\n\u001b[0;32m--> 390\u001b[0m \u001b[39mraise\u001b[39;00m \u001b[39mNotImplementedError\u001b[39;00m(\u001b[39m\"\u001b[39m\u001b[39mCannot take length of non-vector expression.\u001b[39m\u001b[39m\"\u001b[39m)\n",
      "\u001b[0;31mNotImplementedError\u001b[0m: Cannot take length of non-vector expression."
     ]
    }
   ],
   "source": []
  },
  {
   "cell_type": "code",
   "execution_count": null,
   "metadata": {},
   "outputs": [],
   "source": []
  }
 ],
 "metadata": {
  "kernelspec": {
   "display_name": "Germanium_Spins_FE",
   "language": "python",
   "name": "python3"
  },
  "language_info": {
   "codemirror_mode": {
    "name": "ipython",
    "version": 3
   },
   "file_extension": ".py",
   "mimetype": "text/x-python",
   "name": "python",
   "nbconvert_exporter": "python",
   "pygments_lexer": "ipython3",
   "version": "3.10.8"
  },
  "orig_nbformat": 4
 },
 "nbformat": 4,
 "nbformat_minor": 2
}
