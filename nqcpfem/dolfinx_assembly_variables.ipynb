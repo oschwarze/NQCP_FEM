{
 "cells": [
  {
   "cell_type": "code",
   "execution_count": 101,
   "metadata": {},
   "outputs": [],
   "source": [
    "import numpy as np\n",
    "import dolfinx\n",
    "from mpi4py import MPI\n",
    "import ufl\n",
    "import sympy "
   ]
  },
  {
   "cell_type": "code",
   "execution_count": 102,
   "metadata": {},
   "outputs": [],
   "source": [
    "domain = dolfinx.mesh.create_rectangle(MPI.COMM_WORLD,[[-1,-1],[1,1]],n=[10,10])"
   ]
  },
  {
   "cell_type": "code",
   "execution_count": 3,
   "metadata": {},
   "outputs": [],
   "source": [
    "N = 2\n",
    "M = 4\n",
    "V = dolfinx.fem.TensorFunctionSpace(domain,('CG',1),shape=(N,M))\n",
    "V_interp= dolfinx.fem.FunctionSpace(domain,('CG',1))"
   ]
  },
  {
   "cell_type": "code",
   "execution_count": 4,
   "metadata": {},
   "outputs": [
    {
     "data": {
      "text/plain": [
       "FunctionSpace(Mesh(VectorElement(FiniteElement('Lagrange', triangle, 1), dim=2), 0), FiniteElement('Lagrange', triangle, 1))"
      ]
     },
     "execution_count": 4,
     "metadata": {},
     "output_type": "execute_result"
    }
   ],
   "source": [
    "F = dolfinx.fem.Function(V_interp)\n",
    "F.function_space"
   ]
  },
  {
   "cell_type": "code",
   "execution_count": 5,
   "metadata": {},
   "outputs": [
    {
     "data": {
      "text/plain": [
       "Coefficient(FunctionSpace(Mesh(VectorElement(FiniteElement('Lagrange', triangle, 1), dim=2), 0), FiniteElement('Lagrange', triangle, 1)), 0)"
      ]
     },
     "execution_count": 5,
     "metadata": {},
     "output_type": "execute_result"
    }
   ],
   "source": [
    "def l_f(x):\n",
    "    #print(x)\n",
    "    #print(x.shape)\n",
    "    return x[0]\n",
    "F.interpolate(l_f)\n",
    "F\n"
   ]
  },
  {
   "cell_type": "code",
   "execution_count": 6,
   "metadata": {},
   "outputs": [
    {
     "data": {
      "text/plain": [
       "4800"
      ]
     },
     "execution_count": 6,
     "metadata": {},
     "output_type": "execute_result"
    }
   ],
   "source": [
    "8*600"
   ]
  },
  {
   "cell_type": "code",
   "execution_count": 7,
   "metadata": {},
   "outputs": [],
   "source": [
    "u = ufl.TrialFunction(V)\n",
    "v = ufl.TestFunction(V)\n",
    "\n",
    "X = ufl.SpatialCoordinate(V)"
   ]
  },
  {
   "cell_type": "code",
   "execution_count": 8,
   "metadata": {},
   "outputs": [],
   "source": [
    "from ufl import Dx, dX\n",
    "\n",
    "\n",
    "vars = {'m':None,'g':None}\n",
    "ufl_constants = {k:dolfinx.fem.Constant(V,c=np.complex128(1) if v is None else v) for k,v in vars.items()}\n"
   ]
  },
  {
   "cell_type": "code",
   "execution_count": 9,
   "metadata": {},
   "outputs": [
    {
     "data": {
      "text/plain": [
       "Constant(Mesh(VectorElement(FiniteElement('Lagrange', triangle, 1), dim=2), 0), (), 2)"
      ]
     },
     "execution_count": 9,
     "metadata": {},
     "output_type": "execute_result"
    }
   ],
   "source": [
    "dolfinx.fem.Constant(V,np.complex128(1))"
   ]
  },
  {
   "cell_type": "code",
   "execution_count": 10,
   "metadata": {},
   "outputs": [],
   "source": [
    "\n",
    "i,j,k = ufl.indices(3)\n",
    "H = -0.5/ufl_constants['m']*ufl.grad(u)[i,j,k]*ufl.grad(ufl.conj(v))[i,j,k]*ufl.dx+ 0.5*ufl_constants['g']*ufl.conj(v)[i,j]*u[i,j]*F*ufl.dx"
   ]
  },
  {
   "cell_type": "code",
   "execution_count": 11,
   "metadata": {},
   "outputs": [
    {
     "data": {
      "text/plain": [
       "Form([Integral(IndexSum(IndexSum(IndexSum(Product(Indexed(Grad(Conj(Argument(FunctionSpace(Mesh(VectorElement(FiniteElement('Lagrange', triangle, 1), dim=2), 0), TensorElement(FiniteElement('Lagrange', triangle, 1), shape=(2, 4), symmetry={})), 0, None))), MultiIndex((Index(8), Index(9), Index(10)))), Product(Indexed(Grad(Argument(FunctionSpace(Mesh(VectorElement(FiniteElement('Lagrange', triangle, 1), dim=2), 0), TensorElement(FiniteElement('Lagrange', triangle, 1), shape=(2, 4), symmetry={})), 1, None)), MultiIndex((Index(8), Index(9), Index(10)))), Division(FloatValue(-0.5), Constant(Mesh(VectorElement(FiniteElement('Lagrange', triangle, 1), dim=2), 0), (), 0)))), MultiIndex((Index(8),))), MultiIndex((Index(9),))), MultiIndex((Index(10),))), 'cell', Mesh(VectorElement(FiniteElement('Lagrange', triangle, 1), dim=2), 0), 'everywhere', {}, None), Integral(Product(Coefficient(FunctionSpace(Mesh(VectorElement(FiniteElement('Lagrange', triangle, 1), dim=2), 0), FiniteElement('Lagrange', triangle, 1)), 0), IndexSum(IndexSum(Product(Indexed(Argument(FunctionSpace(Mesh(VectorElement(FiniteElement('Lagrange', triangle, 1), dim=2), 0), TensorElement(FiniteElement('Lagrange', triangle, 1), shape=(2, 4), symmetry={})), 1, None), MultiIndex((Index(8), Index(9)))), Product(Indexed(Conj(Argument(FunctionSpace(Mesh(VectorElement(FiniteElement('Lagrange', triangle, 1), dim=2), 0), TensorElement(FiniteElement('Lagrange', triangle, 1), shape=(2, 4), symmetry={})), 0, None)), MultiIndex((Index(8), Index(9)))), Product(FloatValue(0.5), Constant(Mesh(VectorElement(FiniteElement('Lagrange', triangle, 1), dim=2), 0), (), 1)))), MultiIndex((Index(8),))), MultiIndex((Index(9),)))), 'cell', Mesh(VectorElement(FiniteElement('Lagrange', triangle, 1), dim=2), 0), 'everywhere', {}, None)])"
      ]
     },
     "execution_count": 11,
     "metadata": {},
     "output_type": "execute_result"
    }
   ],
   "source": [
    "ufl_constants \n",
    "H"
   ]
  },
  {
   "cell_type": "code",
   "execution_count": 12,
   "metadata": {},
   "outputs": [],
   "source": [
    "L = dolfinx.fem.form(H)"
   ]
  },
  {
   "cell_type": "code",
   "execution_count": 13,
   "metadata": {},
   "outputs": [
    {
     "data": {
      "text/plain": [
       "<dolfinx.fem.forms.Form at 0x7f1c80e18a40>"
      ]
     },
     "execution_count": 13,
     "metadata": {},
     "output_type": "execute_result"
    }
   ],
   "source": [
    "L"
   ]
  },
  {
   "cell_type": "code",
   "execution_count": 14,
   "metadata": {},
   "outputs": [],
   "source": [
    "A=dolfinx.fem.petsc.assemble_matrix(L)"
   ]
  },
  {
   "cell_type": "code",
   "execution_count": 15,
   "metadata": {},
   "outputs": [],
   "source": [
    "A.assemble()\n",
    "import scipy\n",
    "from scipy.sparse import csr_matrix\n",
    "a = csr_matrix(A.getValuesCSR()[::-1])"
   ]
  },
  {
   "cell_type": "code",
   "execution_count": 16,
   "metadata": {},
   "outputs": [
    {
     "data": {
      "text/plain": [
       "matrix([[-0.99586667+0.j,  0.        +0.j,  0.        +0.j, ...,\n",
       "          0.        +0.j,  0.        +0.j,  0.        +0.j],\n",
       "        [ 0.        +0.j, -0.99586667+0.j,  0.        +0.j, ...,\n",
       "          0.        +0.j,  0.        +0.j,  0.        +0.j],\n",
       "        [ 0.        +0.j,  0.        +0.j, -0.99586667+0.j, ...,\n",
       "          0.        +0.j,  0.        +0.j,  0.        +0.j],\n",
       "        ...,\n",
       "        [ 0.        +0.j,  0.        +0.j,  0.        +0.j, ...,\n",
       "         -0.5016    +0.j,  0.        +0.j,  0.        +0.j],\n",
       "        [ 0.        +0.j,  0.        +0.j,  0.        +0.j, ...,\n",
       "          0.        +0.j, -0.5016    +0.j,  0.        +0.j],\n",
       "        [ 0.        +0.j,  0.        +0.j,  0.        +0.j, ...,\n",
       "          0.        +0.j,  0.        +0.j, -0.5016    +0.j]])"
      ]
     },
     "execution_count": 16,
     "metadata": {},
     "output_type": "execute_result"
    }
   ],
   "source": [
    "a.todense()"
   ]
  },
  {
   "cell_type": "code",
   "execution_count": 17,
   "metadata": {},
   "outputs": [],
   "source": [
    "M=ufl_constants['m']"
   ]
  },
  {
   "cell_type": "code",
   "execution_count": 18,
   "metadata": {},
   "outputs": [],
   "source": [
    "import sympy\n",
    "g = sympy.symbols('g')\n",
    "c = np.complex128"
   ]
  },
  {
   "cell_type": "code",
   "execution_count": 19,
   "metadata": {},
   "outputs": [],
   "source": [
    "n = sympy.symbols('n')\n",
    "syms= {n:1}"
   ]
  },
  {
   "cell_type": "code",
   "execution_count": 20,
   "metadata": {},
   "outputs": [
    {
     "data": {
      "text/plain": [
       "(1, 2, 2, 3)"
      ]
     },
     "execution_count": 20,
     "metadata": {},
     "output_type": "execute_result"
    }
   ],
   "source": [
    "(1,2)+(2,3)"
   ]
  },
  {
   "cell_type": "code",
   "execution_count": 21,
   "metadata": {},
   "outputs": [],
   "source": [
    "\n",
    "A = [[c(1),c(2),c(3)],[0,1,2],[0,3,3.0*g]]\n",
    "A=sympy.Array(A)\n"
   ]
  },
  {
   "cell_type": "code",
   "execution_count": 22,
   "metadata": {},
   "outputs": [
    {
     "name": "stdout",
     "output_type": "stream",
     "text": [
      "1 1\n"
     ]
    },
    {
     "data": {
      "text/plain": [
       "[[1.0, 2.0, 3.0], [0, 1, 2], [0, 3, 0.0]]"
      ]
     },
     "execution_count": 22,
     "metadata": {},
     "output_type": "execute_result"
    }
   ],
   "source": [
    "def func1(x):\n",
    "    print(1,x)\n",
    "    return(1-x)\n",
    "\n",
    "sympy.lambdify(g,A.tolist())(func1(1))"
   ]
  },
  {
   "cell_type": "code",
   "execution_count": null,
   "metadata": {},
   "outputs": [],
   "source": []
  },
  {
   "cell_type": "code",
   "execution_count": 23,
   "metadata": {},
   "outputs": [
    {
     "data": {
      "text/plain": [
       "(Grad(Argument(FunctionSpace(Mesh(VectorElement(FiniteElement('Lagrange', triangle, 1), dim=2), 0), TensorElement(FiniteElement('Lagrange', triangle, 1), shape=(2, 4), symmetry={})), 1, None)),)"
      ]
     },
     "execution_count": 23,
     "metadata": {},
     "output_type": "execute_result"
    }
   ],
   "source": [
    "ufl.grad(u),"
   ]
  },
  {
   "cell_type": "code",
   "execution_count": 24,
   "metadata": {},
   "outputs": [
    {
     "data": {
      "text/plain": [
       "ufl.tensors.ComponentTensor"
      ]
     },
     "execution_count": 24,
     "metadata": {},
     "output_type": "execute_result"
    }
   ],
   "source": [
    "F=v*u\n",
    "type(F)"
   ]
  },
  {
   "cell_type": "code",
   "execution_count": 25,
   "metadata": {},
   "outputs": [
    {
     "name": "stdout",
     "output_type": "stream",
     "text": [
      "False\n"
     ]
    },
    {
     "data": {
      "text/plain": [
       "(IndexSum(Product(Indexed(Argument(FunctionSpace(Mesh(VectorElement(FiniteElement('Lagrange', triangle, 1), dim=2), 0), TensorElement(FiniteElement('Lagrange', triangle, 1), shape=(2, 4), symmetry={})), 0, None), MultiIndex((Index(11), Index(13)))), Indexed(Argument(FunctionSpace(Mesh(VectorElement(FiniteElement('Lagrange', triangle, 1), dim=2), 0), TensorElement(FiniteElement('Lagrange', triangle, 1), shape=(2, 4), symmetry={})), 1, None), MultiIndex((Index(13), Index(12))))), MultiIndex((Index(13),))),\n",
       " MultiIndex((Index(11), Index(12))))"
      ]
     },
     "execution_count": 25,
     "metadata": {},
     "output_type": "execute_result"
    }
   ],
   "source": [
    "print(isinstance(F,ufl.algebra.Product))\n",
    "F.ufl_operands\n"
   ]
  },
  {
   "cell_type": "code",
   "execution_count": 26,
   "metadata": {},
   "outputs": [
    {
     "data": {
      "text/plain": [
       "ufl.differentiation.Grad"
      ]
     },
     "execution_count": 26,
     "metadata": {},
     "output_type": "execute_result"
    }
   ],
   "source": [
    "type(ufl.grad(u))"
   ]
  },
  {
   "cell_type": "code",
   "execution_count": 27,
   "metadata": {},
   "outputs": [],
   "source": [
    "def k_func(uv:ufl.algebra.Product,i):\n",
    "    #argument is either u*ufl.conj(v) or terms like this with derivatives\n",
    "    u_func,v_func = uv.ufl_operands\n",
    "    if not isinstance(u_func,ufl.differentiation.Grad):\n",
    "        return -1j*ufl.grad(u_func)*v\n",
    "    else:\n",
    "        return u_func* 1j*ufl.grad(v)\n",
    "    "
   ]
  },
  {
   "cell_type": "code",
   "execution_count": 28,
   "metadata": {},
   "outputs": [
    {
     "data": {
      "text/latex": [
       "$\\displaystyle \\left[\\begin{matrix}k_{x}^{2} + k_{y} k_{z} + k_{y} m & 0 & 0\\\\0 & 2 g k_{y} & 0\\\\1 & 0 & 3 k_{z}\\end{matrix}\\right]$"
      ],
      "text/plain": [
       "[[k_x**2 + k_y*k_z + k_y*m, 0, 0], [0, 2*g*k_y, 0], [1, 0, 3*k_z]]"
      ]
     },
     "execution_count": 28,
     "metadata": {},
     "output_type": "execute_result"
    }
   ],
   "source": [
    "kx,ky,kz = sympy.symbols('k_x,k_y,k_z')\n",
    "\n",
    "m,g = sympy.symbols('m,g')\n",
    "\n",
    "F = sympy.Function('f')\n",
    "A= sympy.Array([[1*kx*kx+ky*kz+ky*m,0,0],[0,2*ky*g,0],[1,0,3*kz]])\n",
    "ten_shape = A.shape\n",
    "spatial_dim = 3\n",
    "A"
   ]
  },
  {
   "cell_type": "code",
   "execution_count": 29,
   "metadata": {},
   "outputs": [
    {
     "name": "stdout",
     "output_type": "stream",
     "text": [
      "(2, 0, 0)\n",
      "(0, 1, 1)\n",
      "(0, 1, 0)\n",
      "(0, 1, 0)\n",
      "(0, 0, 0)\n",
      "(0, 0, 1)\n"
     ]
    }
   ],
   "source": [
    "disassemble_dict = {}\n",
    "from sympy import degree_list,degree\n",
    "import numpy as np\n",
    "for i,val in enumerate(np.array(A).ravel()):\n",
    "    # split up value into terms \n",
    "    loop_terms = (val,) if not isinstance(val,sympy.core.add.Add) else val.args\n",
    "    for term in loop_terms:\n",
    "        try:\n",
    "            orders = degree_list(term,(kx,ky,kz))\n",
    "        except TypeError as e:\n",
    "            continue \n",
    "        print(orders)\n",
    "        arr = disassemble_dict.get(sum(orders),np.zeros(ten_shape+(3,)*(sum(orders)),'O'))\n",
    "        # k-s commute, and by convention we will always order them as k_x k_x ... k_x k_y k_y ... k_y k_z k_z ... k_z\n",
    "        arr_i = np.unravel_index(i,ten_shape)+(0,)*orders[0]+(1,)*orders[1]+(2,)*orders[2]\n",
    "        arr[arr_i] += sympy.lambdify((kx,ky,kz),term)(1,1,1)\n",
    "        disassemble_dict[sum(orders)] = arr"
   ]
  },
  {
   "cell_type": "code",
   "execution_count": 30,
   "metadata": {},
   "outputs": [
    {
     "data": {
      "text/plain": [
       "array([[0, 0, 0],\n",
       "       [0, 0, 0],\n",
       "       [0, 0, 0]], dtype=object)"
      ]
     },
     "execution_count": 30,
     "metadata": {},
     "output_type": "execute_result"
    }
   ],
   "source": [
    "disassemble_dict[2][:,:,2,2]"
   ]
  },
  {
   "cell_type": "code",
   "execution_count": 31,
   "metadata": {},
   "outputs": [],
   "source": [
    "from numpy import isin\n",
    "\n",
    "\n",
    "val = A[0,0]\n",
    "type(val)\n",
    "kx =sympy.symbols(r'k_x')"
   ]
  },
  {
   "cell_type": "code",
   "execution_count": 32,
   "metadata": {},
   "outputs": [
    {
     "data": {
      "text/plain": [
       "sympy.core.numbers.NegativeInfinity"
      ]
     },
     "execution_count": 32,
     "metadata": {},
     "output_type": "execute_result"
    }
   ],
   "source": [
    "type(degree(A.tolist()[0][1],kx))"
   ]
  },
  {
   "cell_type": "code",
   "execution_count": 33,
   "metadata": {},
   "outputs": [
    {
     "data": {
      "text/latex": [
       "$\\displaystyle n_{z-modes}$"
      ],
      "text/plain": [
       "n_{z-modes}"
      ]
     },
     "execution_count": 33,
     "metadata": {},
     "output_type": "execute_result"
    }
   ],
   "source": [
    "sympy.symbols('n_{z-modes}')"
   ]
  },
  {
   "cell_type": "code",
   "execution_count": 34,
   "metadata": {},
   "outputs": [
    {
     "ename": "SyntaxError",
     "evalue": "invalid syntax (847341840.py, line 1)",
     "output_type": "error",
     "traceback": [
      "\u001b[0;36m  Cell \u001b[0;32mIn[34], line 1\u001b[0;36m\u001b[0m\n\u001b[0;31m    A/\u001b[0m\n\u001b[0m      ^\u001b[0m\n\u001b[0;31mSyntaxError\u001b[0m\u001b[0;31m:\u001b[0m invalid syntax\n"
     ]
    }
   ],
   "source": [
    "A/"
   ]
  },
  {
   "cell_type": "code",
   "execution_count": null,
   "metadata": {},
   "outputs": [],
   "source": [
    "B = sympy.Array([[1*kx*kx+ky*kz+ky,0,0],[0,2*ky,0],[1,0,3*kz]])"
   ]
  },
  {
   "cell_type": "code",
   "execution_count": null,
   "metadata": {},
   "outputs": [
    {
     "data": {
      "text/plain": [
       "False"
      ]
     },
     "execution_count": 36,
     "metadata": {},
     "output_type": "execute_result"
    }
   ],
   "source": [
    "A == B\n"
   ]
  },
  {
   "cell_type": "code",
   "execution_count": null,
   "metadata": {},
   "outputs": [],
   "source": [
    "D = {1:1,2:2,3:3}\n",
    "DD = {3:3,2:2,1:1}"
   ]
  },
  {
   "cell_type": "code",
   "execution_count": null,
   "metadata": {},
   "outputs": [
    {
     "data": {
      "text/plain": [
       "True"
      ]
     },
     "execution_count": 38,
     "metadata": {},
     "output_type": "execute_result"
    }
   ],
   "source": [
    "D == DD"
   ]
  },
  {
   "cell_type": "code",
   "execution_count": null,
   "metadata": {},
   "outputs": [
    {
     "data": {
      "text/plain": [
       "{'m': Constant(Mesh(VectorElement(FiniteElement('Lagrange', triangle, 1), dim=2), 0), (), 0),\n",
       " 'g': Constant(Mesh(VectorElement(FiniteElement('Lagrange', triangle, 1), dim=2), 0), (), 1)}"
      ]
     },
     "execution_count": 39,
     "metadata": {},
     "output_type": "execute_result"
    }
   ],
   "source": [
    "ufl_constants"
   ]
  },
  {
   "cell_type": "code",
   "execution_count": null,
   "metadata": {},
   "outputs": [
    {
     "data": {
      "text/latex": [
       "$\\displaystyle \\left[\\begin{matrix}k_{x}^{2} + k_{y} k_{z} + k_{y} m & 0 & 0\\\\0 & 2 g k_{y} & 0\\\\1 & 0 & 3 k_{z}\\end{matrix}\\right]$"
      ],
      "text/plain": [
       "[[k_x**2 + k_y*k_z + k_y*m, 0, 0], [0, 2*g*k_y, 0], [1, 0, 3*k_z]]"
      ]
     },
     "execution_count": 40,
     "metadata": {},
     "output_type": "execute_result"
    }
   ],
   "source": [
    "A"
   ]
  },
  {
   "cell_type": "code",
   "execution_count": null,
   "metadata": {},
   "outputs": [],
   "source": [
    "#A.subs({s: ufl_constants[s.name] for s in (m,g)})"
   ]
  },
  {
   "cell_type": "code",
   "execution_count": null,
   "metadata": {},
   "outputs": [],
   "source": [
    "R=sympy.lambdify((m,g,kx,ky,kz),A)(ufl_constants['m'],ufl_constants['g'],1,1,1)"
   ]
  },
  {
   "cell_type": "code",
   "execution_count": null,
   "metadata": {},
   "outputs": [
    {
     "data": {
      "text/plain": [
       "Constant(Mesh(VectorElement(FiniteElement('Lagrange', triangle, 1), dim=2), 0), (), 0)"
      ]
     },
     "execution_count": 43,
     "metadata": {},
     "output_type": "execute_result"
    }
   ],
   "source": [
    "ufl_constants['m']"
   ]
  },
  {
   "cell_type": "code",
   "execution_count": null,
   "metadata": {},
   "outputs": [
    {
     "name": "stdout",
     "output_type": "stream",
     "text": [
      "[\n",
      "  [0, x[0] * x[1] ** 2, 2.0 * x[0] * x[1] ** 2, 3.0 * x[0] * x[1] ** 2],\n",
      "  [4.0 * x[0] * x[1] ** 2, 5.0 * x[0] * x[1] ** 2, 6.0 * x[0] * x[1] ** 2, 7.0 * x[0] * x[1] ** 2],\n",
      "  [8.0 * x[0] * x[1] ** 2, 9.0 * x[0] * x[1] ** 2, 10.0 * x[0] * x[1] ** 2, 11.0 * x[0] * x[1] ** 2],\n",
      "  [12.0 * x[0] * x[1] ** 2, 13.0 * x[0] * x[1] ** 2, 14.0 * x[0] * x[1] ** 2, 15.0 * x[0] * x[1] ** 2]\n",
      "]\n"
     ]
    }
   ],
   "source": [
    "R[0,0] \n",
    "\n",
    "\n",
    "A = np.arange(16).reshape(4,4).astype(np.complex128)\n",
    "\n",
    "tA = ufl.as_tensor(A*x[0]*x[1]**2)\n",
    "print(tA)"
   ]
  },
  {
   "cell_type": "code",
   "execution_count": null,
   "metadata": {},
   "outputs": [
    {
     "data": {
      "text/plain": [
       "array([[Zero((), (), ()),\n",
       "        Indexed(SpatialCoordinate(Mesh(VectorElement(FiniteElement('Lagrange', triangle, 1), dim=2), 0)), MultiIndex((FixedIndex(0),))),\n",
       "        Product(FloatValue(2.0), Indexed(SpatialCoordinate(Mesh(VectorElement(FiniteElement('Lagrange', triangle, 1), dim=2), 0)), MultiIndex((FixedIndex(0),)))),\n",
       "        Product(FloatValue(3.0), Indexed(SpatialCoordinate(Mesh(VectorElement(FiniteElement('Lagrange', triangle, 1), dim=2), 0)), MultiIndex((FixedIndex(0),))))],\n",
       "       [Product(FloatValue(4.0), Indexed(SpatialCoordinate(Mesh(VectorElement(FiniteElement('Lagrange', triangle, 1), dim=2), 0)), MultiIndex((FixedIndex(0),)))),\n",
       "        Product(FloatValue(5.0), Indexed(SpatialCoordinate(Mesh(VectorElement(FiniteElement('Lagrange', triangle, 1), dim=2), 0)), MultiIndex((FixedIndex(0),)))),\n",
       "        Product(FloatValue(6.0), Indexed(SpatialCoordinate(Mesh(VectorElement(FiniteElement('Lagrange', triangle, 1), dim=2), 0)), MultiIndex((FixedIndex(0),)))),\n",
       "        Product(FloatValue(7.0), Indexed(SpatialCoordinate(Mesh(VectorElement(FiniteElement('Lagrange', triangle, 1), dim=2), 0)), MultiIndex((FixedIndex(0),))))],\n",
       "       [Product(FloatValue(8.0), Indexed(SpatialCoordinate(Mesh(VectorElement(FiniteElement('Lagrange', triangle, 1), dim=2), 0)), MultiIndex((FixedIndex(0),)))),\n",
       "        Product(FloatValue(9.0), Indexed(SpatialCoordinate(Mesh(VectorElement(FiniteElement('Lagrange', triangle, 1), dim=2), 0)), MultiIndex((FixedIndex(0),)))),\n",
       "        Product(FloatValue(10.0), Indexed(SpatialCoordinate(Mesh(VectorElement(FiniteElement('Lagrange', triangle, 1), dim=2), 0)), MultiIndex((FixedIndex(0),)))),\n",
       "        Product(FloatValue(11.0), Indexed(SpatialCoordinate(Mesh(VectorElement(FiniteElement('Lagrange', triangle, 1), dim=2), 0)), MultiIndex((FixedIndex(0),))))],\n",
       "       [Product(FloatValue(12.0), Indexed(SpatialCoordinate(Mesh(VectorElement(FiniteElement('Lagrange', triangle, 1), dim=2), 0)), MultiIndex((FixedIndex(0),)))),\n",
       "        Product(FloatValue(13.0), Indexed(SpatialCoordinate(Mesh(VectorElement(FiniteElement('Lagrange', triangle, 1), dim=2), 0)), MultiIndex((FixedIndex(0),)))),\n",
       "        Product(FloatValue(14.0), Indexed(SpatialCoordinate(Mesh(VectorElement(FiniteElement('Lagrange', triangle, 1), dim=2), 0)), MultiIndex((FixedIndex(0),)))),\n",
       "        Product(FloatValue(15.0), Indexed(SpatialCoordinate(Mesh(VectorElement(FiniteElement('Lagrange', triangle, 1), dim=2), 0)), MultiIndex((FixedIndex(0),))))]],\n",
       "      dtype=object)"
      ]
     },
     "execution_count": 96,
     "metadata": {},
     "output_type": "execute_result"
    }
   ],
   "source": [
    "np.array([a*x[0] for a in A.ravel()]).reshape(A.shape)"
   ]
  },
  {
   "cell_type": "code",
   "execution_count": null,
   "metadata": {},
   "outputs": [
    {
     "name": "stdout",
     "output_type": "stream",
     "text": [
      "{ A | A_{i_{52}, i_{53}} = x[0] * ([\n",
      "  [0, 1.0, 2.0, 3.0],\n",
      "  [4.0, 5.0, 6.0, 7.0],\n",
      "  [8.0, 9.0, 10.0, 11.0],\n",
      "  [12.0, 13.0, 14.0, 15.0]\n",
      "])[i_{52}, i_{53}] }\n"
     ]
    }
   ],
   "source": [
    "x = ufl.SpatialCoordinate(V)\n",
    "print(tA*x[0])"
   ]
  },
  {
   "cell_type": "code",
   "execution_count": null,
   "metadata": {},
   "outputs": [
    {
     "data": {
      "text/plain": [
       "Form([Integral(IndexSum(IndexSum(Product(Indexed(Grad(Indexed(Argument(FunctionSpace(Mesh(VectorElement(FiniteElement('Lagrange', triangle, 1), dim=2), 0), TensorElement(FiniteElement('Lagrange', triangle, 1), shape=(2, 4), symmetry={})), 1, None), MultiIndex((Index(44), Index(45))))), MultiIndex((FixedIndex(1),))), Indexed(Conj(Argument(FunctionSpace(Mesh(VectorElement(FiniteElement('Lagrange', triangle, 1), dim=2), 0), TensorElement(FiniteElement('Lagrange', triangle, 1), shape=(2, 4), symmetry={})), 0, None)), MultiIndex((Index(44), Index(45))))), MultiIndex((Index(44),))), MultiIndex((Index(45),))), 'cell', Mesh(VectorElement(FiniteElement('Lagrange', triangle, 1), dim=2), 0), 'everywhere', {}, None)])"
      ]
     },
     "execution_count": 86,
     "metadata": {},
     "output_type": "execute_result"
    }
   ],
   "source": [
    "\n",
    "u= ufl.TrialFunction(V)\n",
    "v = ufl.TestFunction(V)\n",
    "I = ufl.indices(2)\n",
    "u[I].dx(1)*ufl.conj(v)[I]*ufl.dx"
   ]
  },
  {
   "cell_type": "code",
   "execution_count": null,
   "metadata": {},
   "outputs": [
    {
     "data": {
      "text/plain": [
       "Indexed(Argument(FunctionSpace(Mesh(VectorElement(FiniteElement('Lagrange', triangle, 1), dim=2), 0), TensorElement(FiniteElement('Lagrange', triangle, 1), shape=(2, 4), symmetry={})), 1, None), MultiIndex((FixedIndex(0), FixedIndex(0))))"
      ]
     },
     "execution_count": 83,
     "metadata": {},
     "output_type": "execute_result"
    }
   ],
   "source": [
    "u[0,0]"
   ]
  },
  {
   "cell_type": "code",
   "execution_count": null,
   "metadata": {},
   "outputs": [
    {
     "data": {
      "text/plain": [
       "FunctionSpace(Mesh(VectorElement(FiniteElement('Lagrange', triangle, 1), dim=2), 0), TensorElement(FiniteElement('Lagrange', triangle, 1), shape=(2, 4), symmetry={}))"
      ]
     },
     "execution_count": 73,
     "metadata": {},
     "output_type": "execute_result"
    }
   ],
   "source": [
    "V"
   ]
  },
  {
   "cell_type": "code",
   "execution_count": null,
   "metadata": {},
   "outputs": [
    {
     "data": {
      "text/plain": [
       "ComponentTensor(IndexSum(Product(Indexed(ComponentTensor(Indexed(Grad(Argument(FunctionSpace(Mesh(VectorElement(FiniteElement('Lagrange', triangle, 1), dim=2), 0), TensorElement(FiniteElement('Lagrange', triangle, 1), shape=(2, 4), symmetry={})), 1, None)), MultiIndex((Index(21), Index(22), FixedIndex(1)))), MultiIndex((Index(21), Index(22)))), MultiIndex((Index(23), Index(25)))), Indexed(Conj(Argument(FunctionSpace(Mesh(VectorElement(FiniteElement('Lagrange', triangle, 1), dim=2), 0), TensorElement(FiniteElement('Lagrange', triangle, 1), shape=(2, 4), symmetry={})), 0, None)), MultiIndex((Index(25), Index(24))))), MultiIndex((Index(25),))), MultiIndex((Index(23), Index(24))))"
      ]
     },
     "execution_count": 62,
     "metadata": {},
     "output_type": "execute_result"
    }
   ],
   "source": [
    "u.dx(1)*ufl.conj(v)"
   ]
  },
  {
   "cell_type": "code",
   "execution_count": null,
   "metadata": {},
   "outputs": [],
   "source": [
    "def F(x):\n",
    "    x = np.asarray(x)\n",
    "    print(x.shape)\n",
    "    if len(x.shape) == 1:\n",
    "        x = x[np.newaxis,:]\n",
    "        print(x.shape)\n",
    "    x_cords = np.linspace(-10,10,100).astype(np.complex128)\n",
    "    y_vals = x_cords*10\n",
    "    return_arr = []\n",
    "    for xx in x:\n",
    "        return_arr.append(y_vals[np.argmin(np.abs(x_cords-xx[0]))]) # find closest point to interpolate\n",
    "    return np.stack(return_arr)"
   ]
  },
  {
   "cell_type": "code",
   "execution_count": null,
   "metadata": {},
   "outputs": [
    {
     "name": "stdout",
     "output_type": "stream",
     "text": [
      "(3,)\n",
      "(1, 3)\n"
     ]
    },
    {
     "data": {
      "text/plain": [
       "array([9.09090909+0.j])"
      ]
     },
     "execution_count": 140,
     "metadata": {},
     "output_type": "execute_result"
    }
   ],
   "source": [
    "F([1,0,0])"
   ]
  },
  {
   "cell_type": "code",
   "execution_count": null,
   "metadata": {},
   "outputs": [
    {
     "data": {
      "text/plain": [
       "SpatialCoordinate(Mesh(VectorElement(FiniteElement('Lagrange', triangle, 1), dim=2), 3))"
      ]
     },
     "execution_count": 141,
     "metadata": {},
     "output_type": "execute_result"
    }
   ],
   "source": [
    "X"
   ]
  },
  {
   "cell_type": "code",
   "execution_count": null,
   "metadata": {},
   "outputs": [],
   "source": [
    "fem_F = dolfinx.fem.Function(V)"
   ]
  },
  {
   "cell_type": "code",
   "execution_count": null,
   "metadata": {},
   "outputs": [],
   "source": [
    "simple_F = lambda x:np.arange(6).reshape(2,3)"
   ]
  },
  {
   "cell_type": "code",
   "execution_count": null,
   "metadata": {},
   "outputs": [
    {
     "data": {
      "text/plain": [
       "Coefficient(FunctionSpace(Mesh(VectorElement(FiniteElement('Lagrange', triangle, 1), dim=2), 3), TensorElement(FiniteElement('Lagrange', triangle, 1), shape=(3, 2), symmetry={})), 2)"
      ]
     },
     "execution_count": 155,
     "metadata": {},
     "output_type": "execute_result"
    }
   ],
   "source": [
    "fem_F"
   ]
  },
  {
   "cell_type": "code",
   "execution_count": 37,
   "metadata": {},
   "outputs": [],
   "source": [
    "from mpi4py import MPI\n",
    "domain = dolfinx.mesh.create_rectangle(MPI.COMM_WORLD,[[-1,-1],[1,1]],n=[25,25])\n",
    "\n",
    "N = 2\n",
    "M = 4\n",
    "V = dolfinx.fem.TensorFunctionSpace(domain,('CG',1),shape=(2,2))\n",
    "V_interp= dolfinx.fem.FunctionSpace(domain,('CG',1))\n",
    "boundary_value= 1234e11\n",
    "    #boundary_value = 0\n",
    "V.mesh.topology.create_connectivity(V.mesh.topology.dim - 1, V.mesh.topology.dim)\n",
    "boundary_facets = dolfinx.mesh.exterior_facet_indices(V.mesh.topology)\n",
    "boundary_dofs = dolfinx.fem.locate_dofs_topological(V, V.mesh.topology.dim - 1, boundary_facets)\n",
    "boundary_state =np.full((2,2),boundary_value, dtype='complex')\n",
    "infinity_boundary = dolfinx.fem.dirichletbc(boundary_state, boundary_dofs, V)\n",
    "u_boundary = dolfinx.fem.Function(V)\n",
    "dolfinx.fem.petsc.set_bc(u_boundary.vector, [infinity_boundary])\n",
    "u_boundary.x.scatter_forward()\n",
    "from scipy.sparse import diags\n",
    "INF= diags(u_boundary.vector.getArray(),offsets=0,format='csr')\n",
    "\n",
    "\n"
   ]
  },
  {
   "cell_type": "code",
   "execution_count": 38,
   "metadata": {},
   "outputs": [],
   "source": [
    "import ufl\n",
    "import dolfinx\n",
    "import scipy.sparse as spa"
   ]
  },
  {
   "cell_type": "code",
   "execution_count": 39,
   "metadata": {},
   "outputs": [],
   "source": [
    "Sz = np.array([[1,0],[0,-1]]).astype('complex')\n",
    "Sx =  np.array([[0,1],[1,0]]).astype('complex')\n",
    "Sy =   np.array([[0,-1j],[1j,0]]).astype('complex')\n",
    "uSz = ufl.as_tensor(Sz)\n",
    "uSx = ufl.as_tensor(Sx)\n",
    "uSy = ufl.as_tensor(Sy)\n",
    "\n",
    "SS = ufl.as_tensor(np.stack([Sx,Sy,Sz]))"
   ]
  },
  {
   "cell_type": "code",
   "execution_count": 40,
   "metadata": {},
   "outputs": [],
   "source": [
    "u,v = ufl.TrialFunction(V),ufl.TestFunction(V)"
   ]
  },
  {
   "cell_type": "code",
   "execution_count": 41,
   "metadata": {},
   "outputs": [],
   "source": [
    "H = ufl.inner(ufl.grad(u),ufl.grad(v))*ufl.dx\n",
    "#magnetic z-direction term\n",
    "i,_,j = ufl.indices(3)\n",
    "H += np.pi**2*u[i,_]*uSz[i,j]*ufl.conj(v[j,_])*ufl.dx"
   ]
  },
  {
   "cell_type": "code",
   "execution_count": 42,
   "metadata": {},
   "outputs": [],
   "source": [
    "L=dolfinx.fem.form(H)"
   ]
  },
  {
   "cell_type": "code",
   "execution_count": 43,
   "metadata": {},
   "outputs": [],
   "source": [
    "l=dolfinx.fem.petsc.assemble_matrix(L)\n",
    "l.assemble()\n",
    "\n",
    "\n",
    "SH = ufl.inner(u,v)*ufl.dx\n",
    "SL = dolfinx.fem.petsc.assemble_matrix(dolfinx.fem.form(SH))\n",
    "SL.assemble()\n",
    "S =(spa.csr_matrix(SL.getValuesCSR()[::-1]))\n"
   ]
  },
  {
   "cell_type": "code",
   "execution_count": 50,
   "metadata": {},
   "outputs": [],
   "source": [
    "A=(spa.csr_matrix(l.getValuesCSR()[::-1])+INF)\n"
   ]
  },
  {
   "cell_type": "code",
   "execution_count": 51,
   "metadata": {},
   "outputs": [],
   "source": [
    "from scipy.sparse.linalg import eigsh\n",
    "evals,evecs = eigsh(A,M=S,k=10,which='LM',sigma=0)\n",
    "ev = np.array(evecs[:,0])"
   ]
  },
  {
   "cell_type": "code",
   "execution_count": 53,
   "metadata": {},
   "outputs": [
    {
     "data": {
      "text/plain": [
       "array([ 2.55117271,  2.59836618,  2.55117271,  2.59836618, -4.91530664,\n",
       "       -4.91530664, 10.18010887, 10.18010887, 14.82390216, 14.82390216])"
      ]
     },
     "execution_count": 53,
     "metadata": {},
     "output_type": "execute_result"
    }
   ],
   "source": [
    "evals"
   ]
  },
  {
   "cell_type": "code",
   "execution_count": 63,
   "metadata": {},
   "outputs": [],
   "source": [
    "a = evecs[:,0].reshape(int(evecs.shape[0]/2),2)\n",
    "b = evecs[:,2].reshape(int(evecs.shape[0]/2),2)\n",
    "\n",
    "\n",
    "fA = dolfinx.fem.Function(V)\n",
    "fB = dolfinx.fem.Function(V)\n",
    "fA.x.array[:] = a.flatten()\n",
    "fB.x.array[:] = b.flatten()"
   ]
  },
  {
   "cell_type": "code",
   "execution_count": 64,
   "metadata": {},
   "outputs": [
    {
     "data": {
      "text/plain": [
       "(0.8006199103444824+0j)"
      ]
     },
     "execution_count": 64,
     "metadata": {},
     "output_type": "execute_result"
    }
   ],
   "source": [
    "np.einsum('xi,ij,xj',b.conj(),Sz,b)/np.linalg.norm(b)**2"
   ]
  },
  {
   "cell_type": "code",
   "execution_count": 59,
   "metadata": {},
   "outputs": [
    {
     "data": {
      "text/plain": [
       "12.570411081691798"
      ]
     },
     "execution_count": 59,
     "metadata": {},
     "output_type": "execute_result"
    }
   ],
   "source": [
    "np.linalg.norm(a)"
   ]
  },
  {
   "cell_type": "code",
   "execution_count": null,
   "metadata": {},
   "outputs": [],
   "source": []
  },
  {
   "cell_type": "code",
   "execution_count": 48,
   "metadata": {},
   "outputs": [
    {
     "data": {
      "text/plain": [
       "(-0.996445399046172+0j)"
      ]
     },
     "execution_count": 48,
     "metadata": {},
     "output_type": "execute_result"
    }
   ],
   "source": [
    "i,_,j = ufl.indices(3)\n",
    "\n",
    "E=dolfinx.fem.form(fA[i,_]*uSz[i,j]*ufl.conj(fA[j,_])*ufl.dx)\n",
    "dolfinx.fem.assemble_scalar(E)\n",
    "\n",
    "\n"
   ]
  },
  {
   "cell_type": "code",
   "execution_count": 49,
   "metadata": {},
   "outputs": [],
   "source": [
    "h = SS[0,:,i]*fA[i,0]\n",
    "h2 = SS[0,:,i]*fA[i,1]"
   ]
  },
  {
   "cell_type": "code",
   "execution_count": null,
   "metadata": {},
   "outputs": [
    {
     "name": "stderr",
     "output_type": "stream",
     "text": [
      "INFO:root:running build_ext\n",
      "INFO:root:building 'libffcx_expressions_e31e8577c4d6593462b06c97d3c87fcedb41d946' extension\n",
      "INFO:root:/home/oliver/miniconda3/envs/Germanium_Spins_FE/bin/x86_64-conda-linux-gnu-cc -Wno-unused-result -Wsign-compare -DNDEBUG -fwrapv -O2 -Wall -fPIC -O2 -isystem /home/oliver/miniconda3/envs/Germanium_Spins_FE/include -fPIC -O2 -isystem /home/oliver/miniconda3/envs/Germanium_Spins_FE/include -march=nocona -mtune=haswell -ftree-vectorize -fPIC -fstack-protector-strong -fno-plt -O2 -ffunction-sections -pipe -isystem /home/oliver/miniconda3/envs/Germanium_Spins_FE/include -DNDEBUG -D_FORTIFY_SOURCE=2 -O2 -isystem /home/oliver/miniconda3/envs/Germanium_Spins_FE/include -fPIC -I/home/oliver/miniconda3/envs/Germanium_Spins_FE/lib/python3.10/site-packages/ffcx/codegeneration -I/home/oliver/miniconda3/envs/Germanium_Spins_FE/include/python3.10 -c libffcx_expressions_e31e8577c4d6593462b06c97d3c87fcedb41d946.c -o ./libffcx_expressions_e31e8577c4d6593462b06c97d3c87fcedb41d946.o -O2 -g0\n",
      "INFO:root:/home/oliver/miniconda3/envs/Germanium_Spins_FE/bin/x86_64-conda-linux-gnu-cc -shared -Wl,--allow-shlib-undefined -Wl,-rpath,/home/oliver/miniconda3/envs/Germanium_Spins_FE/lib -Wl,-rpath-link,/home/oliver/miniconda3/envs/Germanium_Spins_FE/lib -L/home/oliver/miniconda3/envs/Germanium_Spins_FE/lib -Wl,--allow-shlib-undefined -Wl,-rpath,/home/oliver/miniconda3/envs/Germanium_Spins_FE/lib -Wl,-rpath-link,/home/oliver/miniconda3/envs/Germanium_Spins_FE/lib -L/home/oliver/miniconda3/envs/Germanium_Spins_FE/lib -Wl,-O2 -Wl,--sort-common -Wl,--as-needed -Wl,-z,relro -Wl,-z,now -Wl,--disable-new-dtags -Wl,--gc-sections -Wl,--allow-shlib-undefined -Wl,-rpath,/home/oliver/miniconda3/envs/Germanium_Spins_FE/lib -Wl,-rpath-link,/home/oliver/miniconda3/envs/Germanium_Spins_FE/lib -L/home/oliver/miniconda3/envs/Germanium_Spins_FE/lib -march=nocona -mtune=haswell -ftree-vectorize -fPIC -fstack-protector-strong -fno-plt -O2 -ffunction-sections -pipe -isystem /home/oliver/miniconda3/envs/Germanium_Spins_FE/include -DNDEBUG -D_FORTIFY_SOURCE=2 -O2 -isystem /home/oliver/miniconda3/envs/Germanium_Spins_FE/include ./libffcx_expressions_e31e8577c4d6593462b06c97d3c87fcedb41d946.o -o ./libffcx_expressions_e31e8577c4d6593462b06c97d3c87fcedb41d946.cpython-310-x86_64-linux-gnu.so\n"
     ]
    }
   ],
   "source": [
    "EE = dolfinx.fem.Expression(h,V.element.interpolation_points())\n",
    "EE2 = dolfinx.fem.Expression(ufl.as_vector((h,h2),V.element.interpolation_points())"
   ]
  },
  {
   "cell_type": "code",
   "execution_count": null,
   "metadata": {},
   "outputs": [],
   "source": [
    "FEE = dolfinx.fem.Function(V)\n",
    "\n",
    "FEE.interpolate(EE2)"
   ]
  },
  {
   "cell_type": "code",
   "execution_count": null,
   "metadata": {},
   "outputs": [
    {
     "data": {
      "text/plain": [
       "(-64.9431783844471+0j)"
      ]
     },
     "execution_count": 408,
     "metadata": {},
     "output_type": "execute_result"
    }
   ],
   "source": [
    "_l =np.array(fA.x.array)\n",
    "_ll =np.array(FEE.x.array)\n",
    "_l @ _ll"
   ]
  },
  {
   "cell_type": "code",
   "execution_count": null,
   "metadata": {},
   "outputs": [
    {
     "ename": "AttributeError",
     "evalue": "'Expression' object has no attribute 'Array'",
     "output_type": "error",
     "traceback": [
      "\u001b[0;31m---------------------------------------------------------------------------\u001b[0m",
      "\u001b[0;31mAttributeError\u001b[0m                            Traceback (most recent call last)",
      "Cell \u001b[0;32mIn[348], line 1\u001b[0m\n\u001b[0;32m----> 1\u001b[0m EE\u001b[39m.\u001b[39;49mArray\n",
      "\u001b[0;31mAttributeError\u001b[0m: 'Expression' object has no attribute 'Array'"
     ]
    }
   ],
   "source": [
    "EE.Array"
   ]
  },
  {
   "cell_type": "code",
   "execution_count": null,
   "metadata": {},
   "outputs": [
    {
     "data": {
      "text/plain": [
       "array([0.04777997, 2.38785828, 0.01518236, ..., 0.03125   , 0.03125   ,\n",
       "       0.015625  ])"
      ]
     },
     "execution_count": 312,
     "metadata": {},
     "output_type": "execute_result"
    }
   ],
   "source": [
    "np.diff(evals)"
   ]
  },
  {
   "cell_type": "code",
   "execution_count": null,
   "metadata": {},
   "outputs": [
    {
     "data": {
      "text/plain": [
       "array([1.57757699e+00, 1.62535696e+00, 4.01321523e+00, ...,\n",
       "       1.23400000e+14, 1.23400000e+14, 1.23400000e+14])"
      ]
     },
     "execution_count": 314,
     "metadata": {},
     "output_type": "execute_result"
    }
   ],
   "source": [
    "evals"
   ]
  },
  {
   "cell_type": "code",
   "execution_count": 1,
   "metadata": {},
   "outputs": [],
   "source": [
    "import os,sys\n",
    "src_path = '/mnt/c/Users/olisc/NQCP/NQCP_FEM/'\n",
    "sys.path.append(src_path)\n",
    "\n",
    "import nqcpfem\n",
    "from nqcpfem import band_model,fenics,envelope_function"
   ]
  },
  {
   "cell_type": "code",
   "execution_count": 2,
   "metadata": {},
   "outputs": [
    {
     "ename": "NameError",
     "evalue": "name 'sympy' is not defined",
     "output_type": "error",
     "traceback": [
      "\u001b[0;31m---------------------------------------------------------------------------\u001b[0m",
      "\u001b[0;31mNameError\u001b[0m                                 Traceback (most recent call last)",
      "Cell \u001b[0;32mIn[2], line 3\u001b[0m\n\u001b[1;32m      1\u001b[0m domain \u001b[39m=\u001b[39m envelope_function\u001b[39m.\u001b[39mRectangleDomain(\u001b[39m2\u001b[39m,\u001b[39m2\u001b[39m,\u001b[39m2\u001b[39m)\n\u001b[1;32m      2\u001b[0m domain\u001b[39m.\u001b[39mresolution \u001b[39m=\u001b[39m [\u001b[39m35\u001b[39m,\u001b[39m35\u001b[39m]\n\u001b[0;32m----> 3\u001b[0m bm \u001b[39m=\u001b[39m band_model\u001b[39m.\u001b[39mBandModel(sympy\u001b[39m.\u001b[39mArray(np\u001b[39m.\u001b[39marange(\u001b[39m2\u001b[39m\u001b[39m*\u001b[39m\u001b[39m2\u001b[39m\u001b[39m*\u001b[39m\u001b[39m1\u001b[39m\u001b[39m*\u001b[39m\u001b[39m1\u001b[39m)\u001b[39m.\u001b[39mreshape(\u001b[39m2\u001b[39m,\u001b[39m2\u001b[39m,\u001b[39m1\u001b[39m,\u001b[39m1\u001b[39m)),spatial_dim\u001b[39m=\u001b[39m\u001b[39m2\u001b[39m)\n\u001b[1;32m      4\u001b[0m fem \u001b[39m=\u001b[39m fenics\u001b[39m.\u001b[39mFEniCsModel(bm,domain,\u001b[39m0\u001b[39m,(\u001b[39m'\u001b[39m\u001b[39mCG\u001b[39m\u001b[39m'\u001b[39m,\u001b[39m1\u001b[39m))\n",
      "\u001b[0;31mNameError\u001b[0m: name 'sympy' is not defined"
     ]
    }
   ],
   "source": [
    "domain = envelope_function.RectangleDomain(2,2,2)\n",
    "domain.resolution = [35,35]\n",
    "bm = band_model.BandModel(sympy.Array(np.arange(2*2*1*1).reshape(2,2,1,1)),spatial_dim=2)\n",
    "fem = fenics.FEniCsModel(bm,domain,0,('CG',1))"
   ]
  },
  {
   "cell_type": "code",
   "execution_count": null,
   "metadata": {},
   "outputs": [
    {
     "data": {
      "text/plain": [
       "sympy.core.containers.Tuple"
      ]
     },
     "execution_count": 437,
     "metadata": {},
     "output_type": "execute_result"
    }
   ],
   "source": [
    "fem.mesh()\n",
    "bm.tensor_shape[::2]"
   ]
  },
  {
   "cell_type": "code",
   "execution_count": null,
   "metadata": {},
   "outputs": [
    {
     "data": {
      "text/plain": [
       "(2, 1)"
      ]
     },
     "execution_count": 449,
     "metadata": {},
     "output_type": "execute_result"
    }
   ],
   "source": [
    "tuple(int(f) for f in bm.tensor_shape[::2])"
   ]
  },
  {
   "cell_type": "markdown",
   "metadata": {},
   "source": [
    "# TESTING\n",
    "Make Fencis Observable and check that it works for spinor like the use-case done above (making the bandmodel simply be the poisso equation)"
   ]
  },
  {
   "cell_type": "markdown",
   "metadata": {},
   "source": []
  },
  {
   "cell_type": "code",
   "execution_count": 5,
   "metadata": {},
   "outputs": [
    {
     "name": "stdout",
     "output_type": "stream",
     "text": [
      "9.86960440108936 + k_{x}**2 + k_{y}**2\n",
      "<class 'sympy.core.add.Add'>\n",
      "0\n",
      "<class 'sympy.core.numbers.Zero'>\n",
      "0\n",
      "<class 'sympy.core.numbers.Zero'>\n",
      "-9.86960440108936 + k_{x}**2 + k_{y}**2\n",
      "<class 'sympy.core.add.Add'>\n",
      "1\n",
      "<class 'sympy.core.numbers.One'>\n",
      "0\n",
      "<class 'sympy.core.numbers.Zero'>\n",
      "0\n",
      "<class 'sympy.core.numbers.Zero'>\n",
      "-1\n",
      "<class 'sympy.core.numbers.NegativeOne'>\n"
     ]
    }
   ],
   "source": [
    "# make poisson equatio and\n",
    "from nqcpfem.symbolic import Kx,Ky\n",
    "from nqcpfem.band_model import BandModel\n",
    "from nqcpfem import fenics\n",
    "from nqcpfem.solvers import PETScSolver\n",
    "from nqcpfem.envelope_function import RectangleDomain\n",
    "import sympy\n",
    "import numpy as np\n",
    "poisson_spinor = sympy.Array([[Kx**2+Ky**2+np.pi**2,0],[0,Kx**2+Ky**2-np.pi**2]])\n",
    "bm = BandModel(poisson_spinor,2)\n",
    "\n",
    "L = 1e-6\n",
    "box_domain = RectangleDomain(L, L,L)\n",
    "box_domain.resolution = [75, 75]\n",
    "\n",
    "# use domain from setup\n",
    "model = fenics.FEniCsModel(bm,box_domain,0,('CG',1))\n",
    "\n",
    "# solve the model and obtain eigenstates in the usual way.\n",
    "solver = PETScSolver(which='SM',sigma=0,k=10)\n",
    "\n",
    "eigvals,eigvecs = solver.solve(model)\n",
    "\n",
    "# take lowest eigenstates and compute the MEL of sigma_z operator\n",
    "\n",
    "sigma_z = sympy.Array([[1,0],[0,-1]])\n",
    "Oz = model.construct_observable(sigma_z)\n",
    "Oz_proj = [Oz.mel(ev1,ev2) for ev1 in eigvecs[:2] for ev2 in eigvecs[:2]]\n"
   ]
  },
  {
   "cell_type": "code",
   "execution_count": 26,
   "metadata": {},
   "outputs": [
    {
     "data": {
      "text/plain": [
       "0.9999998817415366"
      ]
     },
     "execution_count": 26,
     "metadata": {},
     "output_type": "execute_result"
    }
   ],
   "source": [
    "Oz_proj\n",
    "Oz.mel(eigvecs[1])"
   ]
  },
  {
   "cell_type": "code",
   "execution_count": 6,
   "metadata": {},
   "outputs": [
    {
     "data": {
      "text/plain": [
       "(-1.0960600378736768e-09+0j)"
      ]
     },
     "execution_count": 6,
     "metadata": {},
     "output_type": "execute_result"
    }
   ],
   "source": [
    "np.einsum('xi,ij,xj',eigvecs[0].conj().reshape((-1,2)),np.array(sigma_z).astype(complex),eigvecs[0].reshape((-1,2)))/np.linalg.norm(eigvecs[0])**2"
   ]
  },
  {
   "cell_type": "code",
   "execution_count": 7,
   "metadata": {},
   "outputs": [],
   "source": [
    "import dolfinx\n",
    "V = model.function_space()\n",
    "import ufl\n",
    "\n",
    "fl = dolfinx.fem.Function(V)\n",
    "fr = dolfinx.fem.Function(V)"
   ]
  },
  {
   "cell_type": "code",
   "execution_count": 8,
   "metadata": {},
   "outputs": [],
   "source": [
    "def eigentensor_flatten(eigentensor):\n",
    "    transposition = tuple(range(1,len(eigentensor.shape)))+(0,)\n",
    "    print(transposition)\n",
    "    return np.transpose(eigentensor,transposition).flatten()"
   ]
  },
  {
   "cell_type": "code",
   "execution_count": 9,
   "metadata": {},
   "outputs": [
    {
     "name": "stdout",
     "output_type": "stream",
     "text": [
      "(1, 0)\n",
      "(1, 0)\n"
     ]
    }
   ],
   "source": [
    "fl.x.array[:] = eigentensor_flatten(eigvecs[0])\n",
    "fr.x.array[:] = eigentensor_flatten(eigvecs[0])\n"
   ]
  },
  {
   "cell_type": "code",
   "execution_count": 132,
   "metadata": {},
   "outputs": [],
   "source": [
    "sigma_z = np.array([[0,-1j],[1j,0]])\n",
    "ufl_sigma = ufl.as_tensor(np.array(sigma_z).astype(complex))"
   ]
  },
  {
   "cell_type": "code",
   "execution_count": 133,
   "metadata": {},
   "outputs": [
    {
     "name": "stderr",
     "output_type": "stream",
     "text": [
      "INFO:root:running build_ext\n",
      "INFO:root:building 'libffcx_forms_dc43bc9fc662d76ff49dfb155bc5c94a9d826db4' extension\n",
      "INFO:root:/home/oliver/miniconda3/envs/Germanium_Spins_FE/bin/x86_64-conda-linux-gnu-cc -Wno-unused-result -Wsign-compare -DNDEBUG -fwrapv -O2 -Wall -fPIC -O2 -isystem /home/oliver/miniconda3/envs/Germanium_Spins_FE/include -fPIC -O2 -isystem /home/oliver/miniconda3/envs/Germanium_Spins_FE/include -march=nocona -mtune=haswell -ftree-vectorize -fPIC -fstack-protector-strong -fno-plt -O2 -ffunction-sections -pipe -isystem /home/oliver/miniconda3/envs/Germanium_Spins_FE/include -DNDEBUG -D_FORTIFY_SOURCE=2 -O2 -isystem /home/oliver/miniconda3/envs/Germanium_Spins_FE/include -fPIC -I/home/oliver/miniconda3/envs/Germanium_Spins_FE/lib/python3.10/site-packages/ffcx/codegeneration -I/home/oliver/miniconda3/envs/Germanium_Spins_FE/include/python3.10 -c libffcx_forms_dc43bc9fc662d76ff49dfb155bc5c94a9d826db4.c -o ./libffcx_forms_dc43bc9fc662d76ff49dfb155bc5c94a9d826db4.o -O2 -g0\n",
      "INFO:root:/home/oliver/miniconda3/envs/Germanium_Spins_FE/bin/x86_64-conda-linux-gnu-cc -shared -Wl,--allow-shlib-undefined -Wl,-rpath,/home/oliver/miniconda3/envs/Germanium_Spins_FE/lib -Wl,-rpath-link,/home/oliver/miniconda3/envs/Germanium_Spins_FE/lib -L/home/oliver/miniconda3/envs/Germanium_Spins_FE/lib -Wl,--allow-shlib-undefined -Wl,-rpath,/home/oliver/miniconda3/envs/Germanium_Spins_FE/lib -Wl,-rpath-link,/home/oliver/miniconda3/envs/Germanium_Spins_FE/lib -L/home/oliver/miniconda3/envs/Germanium_Spins_FE/lib -Wl,-O2 -Wl,--sort-common -Wl,--as-needed -Wl,-z,relro -Wl,-z,now -Wl,--disable-new-dtags -Wl,--gc-sections -Wl,--allow-shlib-undefined -Wl,-rpath,/home/oliver/miniconda3/envs/Germanium_Spins_FE/lib -Wl,-rpath-link,/home/oliver/miniconda3/envs/Germanium_Spins_FE/lib -L/home/oliver/miniconda3/envs/Germanium_Spins_FE/lib -march=nocona -mtune=haswell -ftree-vectorize -fPIC -fstack-protector-strong -fno-plt -O2 -ffunction-sections -pipe -isystem /home/oliver/miniconda3/envs/Germanium_Spins_FE/include -DNDEBUG -D_FORTIFY_SOURCE=2 -O2 -isystem /home/oliver/miniconda3/envs/Germanium_Spins_FE/include ./libffcx_forms_dc43bc9fc662d76ff49dfb155bc5c94a9d826db4.o -o ./libffcx_forms_dc43bc9fc662d76ff49dfb155bc5c94a9d826db4.cpython-310-x86_64-linux-gnu.so\n"
     ]
    }
   ],
   "source": [
    "i,j = ufl.indices(2)\n",
    "form = fl[i]*ufl_sigma[i,j]*ufl.conj(fr[j])*ufl.dx\n",
    "A=dolfinx.fem.form(form)"
   ]
  },
  {
   "cell_type": "code",
   "execution_count": 134,
   "metadata": {},
   "outputs": [
    {
     "data": {
      "text/plain": [
       "(2,)"
      ]
     },
     "execution_count": 134,
     "metadata": {},
     "output_type": "execute_result"
    }
   ],
   "source": [
    "eigvecs[0].shape\n",
    "model.band_model.tensor_shape[::2]"
   ]
  },
  {
   "cell_type": "code",
   "execution_count": 136,
   "metadata": {},
   "outputs": [
    {
     "data": {
      "text/plain": [
       "(0.006936758570747434-0.9999759341233186j)"
      ]
     },
     "execution_count": 136,
     "metadata": {},
     "output_type": "execute_result"
    }
   ],
   "source": [
    "fl.x.array[:] = model.flatten_eigentensors(eigvecs[0])#eigentensor_flatten(eigvecs[0])\n",
    "fr.x.array[:] = model.flatten_eigentensors(eigvecs[1])#eigentensor_flatten(eigvecs[0])\n",
    "s=dolfinx.fem.assemble_scalar(A)\n",
    "s"
   ]
  },
  {
   "cell_type": "code",
   "execution_count": 128,
   "metadata": {},
   "outputs": [
    {
     "name": "stdout",
     "output_type": "stream",
     "text": [
      "0\n",
      "<class 'sympy.core.numbers.Zero'>\n",
      "-9.27401004952627e-24*I\n",
      "<class 'sympy.core.mul.Mul'>\n",
      "9.27401004952627e-24*I\n",
      "<class 'sympy.core.mul.Mul'>\n",
      "0\n",
      "<class 'sympy.core.numbers.Zero'>\n"
     ]
    },
    {
     "data": {
      "text/plain": [
       "2.1448335596071762e-27"
      ]
     },
     "execution_count": 128,
     "metadata": {},
     "output_type": "execute_result"
    }
   ],
   "source": [
    "from nqcpfem import _mu_B\n",
    "OS = model.construct_observable(sympy.Array([[0,-1j],[1j,0]])*_mu_B)\n",
    "m_state = 1/np.sqrt(2)*(eigvecs[0]-1j*eigvecs[1])\n",
    "p_state = 1/np.sqrt(2)*(eigvecs[0]+1j*eigvecs[1])\n",
    "OS.mel(m_state,p_state)"
   ]
  },
  {
   "cell_type": "code",
   "execution_count": 129,
   "metadata": {},
   "outputs": [],
   "source": [
    "Ox = np.array([[0,1j],[1j,0]]).astype(complex)\n",
    "Ox = ufl.as_tensor(Ox)\n",
    "\n",
    "i,j = ufl.indices(2)"
   ]
  },
  {
   "cell_type": "code",
   "execution_count": 130,
   "metadata": {},
   "outputs": [],
   "source": [
    "L= Ox[i,...]*fl[i]"
   ]
  },
  {
   "cell_type": "code",
   "execution_count": 100,
   "metadata": {},
   "outputs": [
    {
     "ename": "TypeError",
     "evalue": "float() argument must be a string or a real number, not 'complex'",
     "output_type": "error",
     "traceback": [
      "\u001b[0;31m---------------------------------------------------------------------------\u001b[0m",
      "\u001b[0;31mTypeError\u001b[0m                                 Traceback (most recent call last)",
      "Cell \u001b[0;32mIn[100], line 1\u001b[0m\n\u001b[0;32m----> 1\u001b[0m dL\u001b[39m=\u001b[39mdolfinx\u001b[39m.\u001b[39;49mfem\u001b[39m.\u001b[39;49mExpression(L,V\u001b[39m.\u001b[39;49melement\u001b[39m.\u001b[39;49minterpolation_points())\n",
      "File \u001b[0;32m~/miniconda3/envs/Germanium_Spins_FE/lib/python3.10/site-packages/dolfinx/fem/function.py:117\u001b[0m, in \u001b[0;36mExpression.__init__\u001b[0;34m(self, ufl_expression, X, form_compiler_params, jit_params, dtype)\u001b[0m\n\u001b[1;32m    114\u001b[0m \u001b[39melse\u001b[39;00m:\n\u001b[1;32m    115\u001b[0m     \u001b[39mraise\u001b[39;00m \u001b[39mRuntimeError\u001b[39;00m(\u001b[39mf\u001b[39m\u001b[39m\"\u001b[39m\u001b[39mUnsupported scalar type \u001b[39m\u001b[39m{\u001b[39;00mdtype\u001b[39m}\u001b[39;00m\u001b[39m for Expression.\u001b[39m\u001b[39m\"\u001b[39m)\n\u001b[0;32m--> 117\u001b[0m \u001b[39mself\u001b[39m\u001b[39m.\u001b[39m_ufcx_expression, module, \u001b[39mself\u001b[39m\u001b[39m.\u001b[39m_code \u001b[39m=\u001b[39m jit\u001b[39m.\u001b[39;49mffcx_jit(mesh\u001b[39m.\u001b[39;49mcomm, (ufl_expression, _X),\n\u001b[1;32m    118\u001b[0m                                                          form_compiler_params\u001b[39m=\u001b[39;49mform_compiler_params,\n\u001b[1;32m    119\u001b[0m                                                          jit_params\u001b[39m=\u001b[39;49mjit_params)\n\u001b[1;32m    120\u001b[0m \u001b[39mself\u001b[39m\u001b[39m.\u001b[39m_ufl_expression \u001b[39m=\u001b[39m ufl_expression\n\u001b[1;32m    122\u001b[0m \u001b[39m# Prepare coefficients data. For every coefficient in form take\u001b[39;00m\n\u001b[1;32m    123\u001b[0m \u001b[39m# its C++ object.\u001b[39;00m\n",
      "File \u001b[0;32m~/miniconda3/envs/Germanium_Spins_FE/lib/python3.10/site-packages/dolfinx/jit.py:56\u001b[0m, in \u001b[0;36mmpi_jit_decorator.<locals>.mpi_jit\u001b[0;34m(comm, *args, **kwargs)\u001b[0m\n\u001b[1;32m     51\u001b[0m \u001b[39m@functools\u001b[39m\u001b[39m.\u001b[39mwraps(local_jit)\n\u001b[1;32m     52\u001b[0m \u001b[39mdef\u001b[39;00m \u001b[39mmpi_jit\u001b[39m(comm, \u001b[39m*\u001b[39margs, \u001b[39m*\u001b[39m\u001b[39m*\u001b[39mkwargs):\n\u001b[1;32m     53\u001b[0m \n\u001b[1;32m     54\u001b[0m     \u001b[39m# Just call JIT compiler when running in serial\u001b[39;00m\n\u001b[1;32m     55\u001b[0m     \u001b[39mif\u001b[39;00m comm\u001b[39m.\u001b[39msize \u001b[39m==\u001b[39m \u001b[39m1\u001b[39m:\n\u001b[0;32m---> 56\u001b[0m         \u001b[39mreturn\u001b[39;00m local_jit(\u001b[39m*\u001b[39;49margs, \u001b[39m*\u001b[39;49m\u001b[39m*\u001b[39;49mkwargs)\n\u001b[1;32m     58\u001b[0m     \u001b[39m# Default status (0 == ok, 1 == fail)\u001b[39;00m\n\u001b[1;32m     59\u001b[0m     status \u001b[39m=\u001b[39m \u001b[39m0\u001b[39m\n",
      "File \u001b[0;32m~/miniconda3/envs/Germanium_Spins_FE/lib/python3.10/site-packages/dolfinx/jit.py:211\u001b[0m, in \u001b[0;36mffcx_jit\u001b[0;34m(ufl_object, form_compiler_params, jit_params)\u001b[0m\n\u001b[1;32m    208\u001b[0m     r \u001b[39m=\u001b[39m ffcx\u001b[39m.\u001b[39mcodegeneration\u001b[39m.\u001b[39mjit\u001b[39m.\u001b[39mcompile_coordinate_maps(\n\u001b[1;32m    209\u001b[0m         [ufl_object], parameters\u001b[39m=\u001b[39mp_ffcx, \u001b[39m*\u001b[39m\u001b[39m*\u001b[39mp_jit)\n\u001b[1;32m    210\u001b[0m \u001b[39melif\u001b[39;00m \u001b[39misinstance\u001b[39m(ufl_object, \u001b[39mtuple\u001b[39m) \u001b[39mand\u001b[39;00m \u001b[39misinstance\u001b[39m(ufl_object[\u001b[39m0\u001b[39m], ufl\u001b[39m.\u001b[39mcore\u001b[39m.\u001b[39mexpr\u001b[39m.\u001b[39mExpr):\n\u001b[0;32m--> 211\u001b[0m     r \u001b[39m=\u001b[39m ffcx\u001b[39m.\u001b[39;49mcodegeneration\u001b[39m.\u001b[39;49mjit\u001b[39m.\u001b[39;49mcompile_expressions([ufl_object], parameters\u001b[39m=\u001b[39;49mp_ffcx, \u001b[39m*\u001b[39;49m\u001b[39m*\u001b[39;49mp_jit)\n\u001b[1;32m    212\u001b[0m \u001b[39melse\u001b[39;00m:\n\u001b[1;32m    213\u001b[0m     \u001b[39mraise\u001b[39;00m \u001b[39mTypeError\u001b[39;00m(\u001b[39mtype\u001b[39m(ufl_object))\n",
      "File \u001b[0;32m~/miniconda3/envs/Germanium_Spins_FE/lib/python3.10/site-packages/ffcx/codegeneration/jit.py:213\u001b[0m, in \u001b[0;36mcompile_expressions\u001b[0;34m(expressions, parameters, cache_dir, timeout, cffi_extra_compile_args, cffi_verbose, cffi_debug, cffi_libraries)\u001b[0m\n\u001b[1;32m    210\u001b[0m     \u001b[39mfor\u001b[39;00m name \u001b[39min\u001b[39;00m expr_names:\n\u001b[1;32m    211\u001b[0m         decl \u001b[39m+\u001b[39m\u001b[39m=\u001b[39m expression_template\u001b[39m.\u001b[39mformat(name\u001b[39m=\u001b[39mname)\n\u001b[0;32m--> 213\u001b[0m     impl \u001b[39m=\u001b[39m _compile_objects(decl, expressions, expr_names, module_name, p, cache_dir,\n\u001b[1;32m    214\u001b[0m                             cffi_extra_compile_args, cffi_verbose, cffi_debug, cffi_libraries)\n\u001b[1;32m    215\u001b[0m \u001b[39mexcept\u001b[39;00m \u001b[39mException\u001b[39;00m:\n\u001b[1;32m    216\u001b[0m     \u001b[39m# remove c file so that it will not timeout next time\u001b[39;00m\n\u001b[1;32m    217\u001b[0m     c_filename \u001b[39m=\u001b[39m cache_dir\u001b[39m.\u001b[39mjoinpath(module_name \u001b[39m+\u001b[39m \u001b[39m\"\u001b[39m\u001b[39m.c\u001b[39m\u001b[39m\"\u001b[39m)\n",
      "File \u001b[0;32m~/miniconda3/envs/Germanium_Spins_FE/lib/python3.10/site-packages/ffcx/codegeneration/jit.py:232\u001b[0m, in \u001b[0;36m_compile_objects\u001b[0;34m(decl, ufl_objects, object_names, module_name, parameters, cache_dir, cffi_extra_compile_args, cffi_verbose, cffi_debug, cffi_libraries)\u001b[0m\n\u001b[1;32m    228\u001b[0m \u001b[39mimport\u001b[39;00m \u001b[39mffcx\u001b[39;00m\u001b[39m.\u001b[39;00m\u001b[39mcompiler\u001b[39;00m\n\u001b[1;32m    230\u001b[0m \u001b[39m# JIT uses module_name as prefix, which is needed to make names of all struct/function\u001b[39;00m\n\u001b[1;32m    231\u001b[0m \u001b[39m# unique across modules\u001b[39;00m\n\u001b[0;32m--> 232\u001b[0m _, code_body \u001b[39m=\u001b[39m ffcx\u001b[39m.\u001b[39;49mcompiler\u001b[39m.\u001b[39;49mcompile_ufl_objects(ufl_objects, prefix\u001b[39m=\u001b[39;49mmodule_name, parameters\u001b[39m=\u001b[39;49mparameters)\n\u001b[1;32m    234\u001b[0m ffibuilder \u001b[39m=\u001b[39m cffi\u001b[39m.\u001b[39mFFI()\n\u001b[1;32m    235\u001b[0m ffibuilder\u001b[39m.\u001b[39mset_source(module_name, code_body, include_dirs\u001b[39m=\u001b[39m[ffcx\u001b[39m.\u001b[39mcodegeneration\u001b[39m.\u001b[39mget_include_path()],\n\u001b[1;32m    236\u001b[0m                       extra_compile_args\u001b[39m=\u001b[39mcffi_extra_compile_args, libraries\u001b[39m=\u001b[39mcffi_libraries)\n",
      "File \u001b[0;32m~/miniconda3/envs/Germanium_Spins_FE/lib/python3.10/site-packages/ffcx/compiler.py:107\u001b[0m, in \u001b[0;36mcompile_ufl_objects\u001b[0;34m(ufl_objects, object_names, prefix, parameters, visualise)\u001b[0m\n\u001b[1;32m    105\u001b[0m \u001b[39m# Stage 3: code generation\u001b[39;00m\n\u001b[1;32m    106\u001b[0m cpu_time \u001b[39m=\u001b[39m time()\n\u001b[0;32m--> 107\u001b[0m code \u001b[39m=\u001b[39m generate_code(ir, parameters)\n\u001b[1;32m    108\u001b[0m _print_timing(\u001b[39m3\u001b[39m, time() \u001b[39m-\u001b[39m cpu_time)\n\u001b[1;32m    110\u001b[0m \u001b[39m# Stage 4: format code\u001b[39;00m\n",
      "File \u001b[0;32m~/miniconda3/envs/Germanium_Spins_FE/lib/python3.10/site-packages/ffcx/codegeneration/codegeneration.py:52\u001b[0m, in \u001b[0;36mgenerate_code\u001b[0;34m(ir, parameters)\u001b[0m\n\u001b[1;32m     50\u001b[0m code_integrals \u001b[39m=\u001b[39m [integral_generator(integral_ir, parameters) \u001b[39mfor\u001b[39;00m integral_ir \u001b[39min\u001b[39;00m ir\u001b[39m.\u001b[39mintegrals]\n\u001b[1;32m     51\u001b[0m code_forms \u001b[39m=\u001b[39m [form_generator(form_ir, parameters) \u001b[39mfor\u001b[39;00m form_ir \u001b[39min\u001b[39;00m ir\u001b[39m.\u001b[39mforms]\n\u001b[0;32m---> 52\u001b[0m code_expressions \u001b[39m=\u001b[39m [expression_generator(expression_ir, parameters) \u001b[39mfor\u001b[39;00m expression_ir \u001b[39min\u001b[39;00m ir\u001b[39m.\u001b[39mexpressions]\n\u001b[1;32m     53\u001b[0m \u001b[39mreturn\u001b[39;00m CodeBlocks(elements\u001b[39m=\u001b[39mcode_finite_elements, dofmaps\u001b[39m=\u001b[39mcode_dofmaps,\n\u001b[1;32m     54\u001b[0m                   integrals\u001b[39m=\u001b[39mcode_integrals, forms\u001b[39m=\u001b[39mcode_forms, expressions\u001b[39m=\u001b[39mcode_expressions)\n",
      "File \u001b[0;32m~/miniconda3/envs/Germanium_Spins_FE/lib/python3.10/site-packages/ffcx/codegeneration/codegeneration.py:52\u001b[0m, in \u001b[0;36m<listcomp>\u001b[0;34m(.0)\u001b[0m\n\u001b[1;32m     50\u001b[0m code_integrals \u001b[39m=\u001b[39m [integral_generator(integral_ir, parameters) \u001b[39mfor\u001b[39;00m integral_ir \u001b[39min\u001b[39;00m ir\u001b[39m.\u001b[39mintegrals]\n\u001b[1;32m     51\u001b[0m code_forms \u001b[39m=\u001b[39m [form_generator(form_ir, parameters) \u001b[39mfor\u001b[39;00m form_ir \u001b[39min\u001b[39;00m ir\u001b[39m.\u001b[39mforms]\n\u001b[0;32m---> 52\u001b[0m code_expressions \u001b[39m=\u001b[39m [expression_generator(expression_ir, parameters) \u001b[39mfor\u001b[39;00m expression_ir \u001b[39min\u001b[39;00m ir\u001b[39m.\u001b[39mexpressions]\n\u001b[1;32m     53\u001b[0m \u001b[39mreturn\u001b[39;00m CodeBlocks(elements\u001b[39m=\u001b[39mcode_finite_elements, dofmaps\u001b[39m=\u001b[39mcode_dofmaps,\n\u001b[1;32m     54\u001b[0m                   integrals\u001b[39m=\u001b[39mcode_integrals, forms\u001b[39m=\u001b[39mcode_forms, expressions\u001b[39m=\u001b[39mcode_expressions)\n",
      "File \u001b[0;32m~/miniconda3/envs/Germanium_Spins_FE/lib/python3.10/site-packages/ffcx/codegeneration/expressions.py:45\u001b[0m, in \u001b[0;36mgenerator\u001b[0;34m(ir, parameters)\u001b[0m\n\u001b[1;32m     41\u001b[0m d[\u001b[39m\"\u001b[39m\u001b[39mfactory_name\u001b[39m\u001b[39m\"\u001b[39m] \u001b[39m=\u001b[39m ir\u001b[39m.\u001b[39mname\n\u001b[1;32m     43\u001b[0m parts \u001b[39m=\u001b[39m eg\u001b[39m.\u001b[39mgenerate()\n\u001b[0;32m---> 45\u001b[0m body \u001b[39m=\u001b[39m format_indented_lines(parts\u001b[39m.\u001b[39;49mcs_format(), \u001b[39m1\u001b[39m)\n\u001b[1;32m     46\u001b[0m d[\u001b[39m\"\u001b[39m\u001b[39mtabulate_expression\u001b[39m\u001b[39m\"\u001b[39m] \u001b[39m=\u001b[39m body\n\u001b[1;32m     48\u001b[0m \u001b[39mif\u001b[39;00m \u001b[39mlen\u001b[39m(ir\u001b[39m.\u001b[39moriginal_coefficient_positions) \u001b[39m>\u001b[39m \u001b[39m0\u001b[39m:\n",
      "File \u001b[0;32m~/miniconda3/envs/Germanium_Spins_FE/lib/python3.10/site-packages/ffcx/codegeneration/C/cnodes.py:1074\u001b[0m, in \u001b[0;36mStatementList.cs_format\u001b[0;34m(self, precision)\u001b[0m\n\u001b[1;32m   1073\u001b[0m \u001b[39mdef\u001b[39;00m \u001b[39mcs_format\u001b[39m(\u001b[39mself\u001b[39m, precision\u001b[39m=\u001b[39m\u001b[39mNone\u001b[39;00m):\n\u001b[0;32m-> 1074\u001b[0m     \u001b[39mreturn\u001b[39;00m [st\u001b[39m.\u001b[39mcs_format(precision) \u001b[39mfor\u001b[39;00m st \u001b[39min\u001b[39;00m \u001b[39mself\u001b[39m\u001b[39m.\u001b[39mstatements]\n",
      "File \u001b[0;32m~/miniconda3/envs/Germanium_Spins_FE/lib/python3.10/site-packages/ffcx/codegeneration/C/cnodes.py:1074\u001b[0m, in \u001b[0;36m<listcomp>\u001b[0;34m(.0)\u001b[0m\n\u001b[1;32m   1073\u001b[0m \u001b[39mdef\u001b[39;00m \u001b[39mcs_format\u001b[39m(\u001b[39mself\u001b[39m, precision\u001b[39m=\u001b[39m\u001b[39mNone\u001b[39;00m):\n\u001b[0;32m-> 1074\u001b[0m     \u001b[39mreturn\u001b[39;00m [st\u001b[39m.\u001b[39;49mcs_format(precision) \u001b[39mfor\u001b[39;00m st \u001b[39min\u001b[39;00m \u001b[39mself\u001b[39m\u001b[39m.\u001b[39mstatements]\n",
      "File \u001b[0;32m~/miniconda3/envs/Germanium_Spins_FE/lib/python3.10/site-packages/ffcx/codegeneration/C/cnodes.py:1593\u001b[0m, in \u001b[0;36mForRange.cs_format\u001b[0;34m(self, precision)\u001b[0m\n\u001b[1;32m   1590\u001b[0m update \u001b[39m=\u001b[39m \u001b[39m\"\u001b[39m\u001b[39m++\u001b[39m\u001b[39m\"\u001b[39m \u001b[39m+\u001b[39m index\n\u001b[1;32m   1592\u001b[0m prelude \u001b[39m=\u001b[39m \u001b[39m\"\u001b[39m\u001b[39mfor (\u001b[39m\u001b[39m\"\u001b[39m \u001b[39m+\u001b[39m init \u001b[39m+\u001b[39m \u001b[39m\"\u001b[39m\u001b[39m; \u001b[39m\u001b[39m\"\u001b[39m \u001b[39m+\u001b[39m check \u001b[39m+\u001b[39m \u001b[39m\"\u001b[39m\u001b[39m; \u001b[39m\u001b[39m\"\u001b[39m \u001b[39m+\u001b[39m update \u001b[39m+\u001b[39m \u001b[39m\"\u001b[39m\u001b[39m)\u001b[39m\u001b[39m\"\u001b[39m\n\u001b[0;32m-> 1593\u001b[0m body \u001b[39m=\u001b[39m Indented(\u001b[39mself\u001b[39;49m\u001b[39m.\u001b[39;49mbody\u001b[39m.\u001b[39;49mcs_format(precision))\n\u001b[1;32m   1595\u001b[0m \u001b[39m# Reduce size of code with lots of simple loops by dropping {} in obviously safe cases\u001b[39;00m\n\u001b[1;32m   1596\u001b[0m \u001b[39mif\u001b[39;00m is_simple_inner_loop(\u001b[39mself\u001b[39m\u001b[39m.\u001b[39mbody):\n",
      "File \u001b[0;32m~/miniconda3/envs/Germanium_Spins_FE/lib/python3.10/site-packages/ffcx/codegeneration/C/cnodes.py:1074\u001b[0m, in \u001b[0;36mStatementList.cs_format\u001b[0;34m(self, precision)\u001b[0m\n\u001b[1;32m   1073\u001b[0m \u001b[39mdef\u001b[39;00m \u001b[39mcs_format\u001b[39m(\u001b[39mself\u001b[39m, precision\u001b[39m=\u001b[39m\u001b[39mNone\u001b[39;00m):\n\u001b[0;32m-> 1074\u001b[0m     \u001b[39mreturn\u001b[39;00m [st\u001b[39m.\u001b[39mcs_format(precision) \u001b[39mfor\u001b[39;00m st \u001b[39min\u001b[39;00m \u001b[39mself\u001b[39m\u001b[39m.\u001b[39mstatements]\n",
      "File \u001b[0;32m~/miniconda3/envs/Germanium_Spins_FE/lib/python3.10/site-packages/ffcx/codegeneration/C/cnodes.py:1074\u001b[0m, in \u001b[0;36m<listcomp>\u001b[0;34m(.0)\u001b[0m\n\u001b[1;32m   1073\u001b[0m \u001b[39mdef\u001b[39;00m \u001b[39mcs_format\u001b[39m(\u001b[39mself\u001b[39m, precision\u001b[39m=\u001b[39m\u001b[39mNone\u001b[39;00m):\n\u001b[0;32m-> 1074\u001b[0m     \u001b[39mreturn\u001b[39;00m [st\u001b[39m.\u001b[39;49mcs_format(precision) \u001b[39mfor\u001b[39;00m st \u001b[39min\u001b[39;00m \u001b[39mself\u001b[39m\u001b[39m.\u001b[39mstatements]\n",
      "File \u001b[0;32m~/miniconda3/envs/Germanium_Spins_FE/lib/python3.10/site-packages/ffcx/codegeneration/C/cnodes.py:1074\u001b[0m, in \u001b[0;36mStatementList.cs_format\u001b[0;34m(self, precision)\u001b[0m\n\u001b[1;32m   1073\u001b[0m \u001b[39mdef\u001b[39;00m \u001b[39mcs_format\u001b[39m(\u001b[39mself\u001b[39m, precision\u001b[39m=\u001b[39m\u001b[39mNone\u001b[39;00m):\n\u001b[0;32m-> 1074\u001b[0m     \u001b[39mreturn\u001b[39;00m [st\u001b[39m.\u001b[39mcs_format(precision) \u001b[39mfor\u001b[39;00m st \u001b[39min\u001b[39;00m \u001b[39mself\u001b[39m\u001b[39m.\u001b[39mstatements]\n",
      "File \u001b[0;32m~/miniconda3/envs/Germanium_Spins_FE/lib/python3.10/site-packages/ffcx/codegeneration/C/cnodes.py:1074\u001b[0m, in \u001b[0;36m<listcomp>\u001b[0;34m(.0)\u001b[0m\n\u001b[1;32m   1073\u001b[0m \u001b[39mdef\u001b[39;00m \u001b[39mcs_format\u001b[39m(\u001b[39mself\u001b[39m, precision\u001b[39m=\u001b[39m\u001b[39mNone\u001b[39;00m):\n\u001b[0;32m-> 1074\u001b[0m     \u001b[39mreturn\u001b[39;00m [st\u001b[39m.\u001b[39;49mcs_format(precision) \u001b[39mfor\u001b[39;00m st \u001b[39min\u001b[39;00m \u001b[39mself\u001b[39m\u001b[39m.\u001b[39mstatements]\n",
      "File \u001b[0;32m~/miniconda3/envs/Germanium_Spins_FE/lib/python3.10/site-packages/ffcx/codegeneration/C/cnodes.py:1051\u001b[0m, in \u001b[0;36mStatement.cs_format\u001b[0;34m(self, precision)\u001b[0m\n\u001b[1;32m   1050\u001b[0m \u001b[39mdef\u001b[39;00m \u001b[39mcs_format\u001b[39m(\u001b[39mself\u001b[39m, precision\u001b[39m=\u001b[39m\u001b[39mNone\u001b[39;00m):\n\u001b[0;32m-> 1051\u001b[0m     \u001b[39mreturn\u001b[39;00m \u001b[39mself\u001b[39;49m\u001b[39m.\u001b[39;49mexpr\u001b[39m.\u001b[39;49mce_format(precision) \u001b[39m+\u001b[39m \u001b[39m\"\u001b[39m\u001b[39m;\u001b[39m\u001b[39m\"\u001b[39m\n",
      "File \u001b[0;32m~/miniconda3/envs/Germanium_Spins_FE/lib/python3.10/site-packages/ffcx/codegeneration/C/cnodes.py:442\u001b[0m, in \u001b[0;36mBinOp.ce_format\u001b[0;34m(self, precision)\u001b[0m\n\u001b[1;32m    439\u001b[0m \u001b[39mdef\u001b[39;00m \u001b[39mce_format\u001b[39m(\u001b[39mself\u001b[39m, precision\u001b[39m=\u001b[39m\u001b[39mNone\u001b[39;00m):\n\u001b[1;32m    440\u001b[0m     \u001b[39m# Format children\u001b[39;00m\n\u001b[1;32m    441\u001b[0m     lhs \u001b[39m=\u001b[39m \u001b[39mself\u001b[39m\u001b[39m.\u001b[39mlhs\u001b[39m.\u001b[39mce_format(precision)\n\u001b[0;32m--> 442\u001b[0m     rhs \u001b[39m=\u001b[39m \u001b[39mself\u001b[39;49m\u001b[39m.\u001b[39;49mrhs\u001b[39m.\u001b[39;49mce_format(precision)\n\u001b[1;32m    444\u001b[0m     \u001b[39m# Apply parentheses\u001b[39;00m\n\u001b[1;32m    445\u001b[0m     \u001b[39mif\u001b[39;00m \u001b[39mself\u001b[39m\u001b[39m.\u001b[39mlhs\u001b[39m.\u001b[39mprecedence \u001b[39m>\u001b[39m\u001b[39m=\u001b[39m \u001b[39mself\u001b[39m\u001b[39m.\u001b[39mprecedence:\n",
      "File \u001b[0;32m~/miniconda3/envs/Germanium_Spins_FE/lib/python3.10/site-packages/ffcx/codegeneration/C/cnodes.py:441\u001b[0m, in \u001b[0;36mBinOp.ce_format\u001b[0;34m(self, precision)\u001b[0m\n\u001b[1;32m    439\u001b[0m \u001b[39mdef\u001b[39;00m \u001b[39mce_format\u001b[39m(\u001b[39mself\u001b[39m, precision\u001b[39m=\u001b[39m\u001b[39mNone\u001b[39;00m):\n\u001b[1;32m    440\u001b[0m     \u001b[39m# Format children\u001b[39;00m\n\u001b[0;32m--> 441\u001b[0m     lhs \u001b[39m=\u001b[39m \u001b[39mself\u001b[39;49m\u001b[39m.\u001b[39;49mlhs\u001b[39m.\u001b[39;49mce_format(precision)\n\u001b[1;32m    442\u001b[0m     rhs \u001b[39m=\u001b[39m \u001b[39mself\u001b[39m\u001b[39m.\u001b[39mrhs\u001b[39m.\u001b[39mce_format(precision)\n\u001b[1;32m    444\u001b[0m     \u001b[39m# Apply parentheses\u001b[39;00m\n",
      "File \u001b[0;32m~/miniconda3/envs/Germanium_Spins_FE/lib/python3.10/site-packages/ffcx/codegeneration/C/cnodes.py:271\u001b[0m, in \u001b[0;36mLiteralFloat.ce_format\u001b[0;34m(self, precision)\u001b[0m\n\u001b[1;32m    270\u001b[0m \u001b[39mdef\u001b[39;00m \u001b[39mce_format\u001b[39m(\u001b[39mself\u001b[39m, precision\u001b[39m=\u001b[39m\u001b[39mNone\u001b[39;00m):\n\u001b[0;32m--> 271\u001b[0m     \u001b[39mreturn\u001b[39;00m format_float(\u001b[39mself\u001b[39;49m\u001b[39m.\u001b[39;49mvalue, precision)\n",
      "File \u001b[0;32m~/miniconda3/envs/Germanium_Spins_FE/lib/python3.10/site-packages/ffcx/codegeneration/C/format_value.py:27\u001b[0m, in \u001b[0;36mformat_float\u001b[0;34m(x, precision)\u001b[0m\n\u001b[1;32m     25\u001b[0m         s \u001b[39m=\u001b[39m \u001b[39m\"\u001b[39m\u001b[39m{\u001b[39m\u001b[39m:.\u001b[39m\u001b[39m{prec}\u001b[39;00m\u001b[39m}\u001b[39m\u001b[39m\"\u001b[39m\u001b[39m.\u001b[39mformat(\u001b[39mfloat\u001b[39m(x), prec\u001b[39m=\u001b[39mprecision)\n\u001b[1;32m     26\u001b[0m \u001b[39melse\u001b[39;00m:\n\u001b[0;32m---> 27\u001b[0m     s \u001b[39m=\u001b[39m \u001b[39mrepr\u001b[39m(\u001b[39mfloat\u001b[39;49m(x))\n\u001b[1;32m     28\u001b[0m \u001b[39mfor\u001b[39;00m r, v \u001b[39min\u001b[39;00m _subs:\n\u001b[1;32m     29\u001b[0m     s \u001b[39m=\u001b[39m r\u001b[39m.\u001b[39msub(v, s)\n",
      "\u001b[0;31mTypeError\u001b[0m: float() argument must be a string or a real number, not 'complex'"
     ]
    }
   ],
   "source": [
    "dL=dolfinx.fem.Expression(L,V.element.interpolation_points())"
   ]
  },
  {
   "cell_type": "code",
   "execution_count": 79,
   "metadata": {},
   "outputs": [
    {
     "name": "stdout",
     "output_type": "stream",
     "text": [
      "sum_{i_{29}} ({ A | A_{i_{39}} = ({ A | A_{i_{38}} = ([\n",
      "  [0, 1.0],\n",
      "  [1.0, 0]\n",
      "])[i_{29}, i_{38}] })[i_{39}] * f[i_{29}] }) \n"
     ]
    }
   ],
   "source": [
    "print(L)"
   ]
  },
  {
   "cell_type": "code",
   "execution_count": 75,
   "metadata": {},
   "outputs": [],
   "source": [
    "res = dolfinx.fem.Function(V)\n",
    "res.interpolate(dL)\n",
    "res_a = res.x.array\n",
    "res_a = res_a/np.linalg.norm(res_a)"
   ]
  },
  {
   "cell_type": "code",
   "execution_count": 77,
   "metadata": {},
   "outputs": [
    {
     "data": {
      "text/plain": [
       "(-0.999975828789954+0.006936704812487477j)"
      ]
     },
     "execution_count": 77,
     "metadata": {},
     "output_type": "execute_result"
    }
   ],
   "source": [
    "\n",
    "flat = model.flatten_eigentensors(eigvecs[1])\n",
    "flat = flat/np.linalg.norm(flat)\n",
    "res_a.conj() @ flat\n"
   ]
  },
  {
   "cell_type": "code",
   "execution_count": null,
   "metadata": {},
   "outputs": [],
   "source": [
    "FOX = model.construct_observable(Ox)\n"
   ]
  },
  {
   "cell_type": "code",
   "execution_count": 17,
   "metadata": {},
   "outputs": [
    {
     "data": {
      "text/plain": [
       "-0.9999998817415308"
      ]
     },
     "execution_count": 17,
     "metadata": {},
     "output_type": "execute_result"
    }
   ],
   "source": [
    "OS.mel(eigvecs[0])"
   ]
  },
  {
   "cell_type": "code",
   "execution_count": 18,
   "metadata": {},
   "outputs": [
    {
     "data": {
      "text/plain": [
       "Form([Integral(IndexSum(Product(Indexed(Conj(Coefficient(FunctionSpace(Mesh(VectorElement(FiniteElement('Lagrange', triangle, 1), dim=2), 0), VectorElement(FiniteElement('Lagrange', triangle, 1), dim=2)), 5)), MultiIndex((Index(24),))), IndexSum(Product(Indexed(ListTensor(ListTensor(FloatValue(1.0), Zero((), (), ())), ListTensor(Zero((), (), ()), FloatValue(-1.0))), MultiIndex((Index(23), Index(24)))), Indexed(Coefficient(FunctionSpace(Mesh(VectorElement(FiniteElement('Lagrange', triangle, 1), dim=2), 0), VectorElement(FiniteElement('Lagrange', triangle, 1), dim=2)), 6), MultiIndex((Index(23),)))), MultiIndex((Index(23),)))), MultiIndex((Index(24),))), 'cell', Mesh(VectorElement(FiniteElement('Lagrange', triangle, 1), dim=2), 0), 'everywhere', {}, None)])"
      ]
     },
     "execution_count": 18,
     "metadata": {},
     "output_type": "execute_result"
    }
   ],
   "source": [
    "OS.bilinear_form"
   ]
  },
  {
   "cell_type": "code",
   "execution_count": 19,
   "metadata": {},
   "outputs": [
    {
     "data": {
      "text/plain": [
       "Form([Integral(IndexSum(Product(Conj(Indexed(Coefficient(FunctionSpace(Mesh(VectorElement(FiniteElement('Lagrange', triangle, 1), dim=2), 0), VectorElement(FiniteElement('Lagrange', triangle, 1), dim=2)), 4), MultiIndex((Index(22),)))), IndexSum(Product(Indexed(ListTensor(ListTensor(FloatValue(1.0), Zero((), (), ())), ListTensor(Zero((), (), ()), FloatValue(-1.0))), MultiIndex((Index(21), Index(22)))), Indexed(Coefficient(FunctionSpace(Mesh(VectorElement(FiniteElement('Lagrange', triangle, 1), dim=2), 0), VectorElement(FiniteElement('Lagrange', triangle, 1), dim=2)), 3), MultiIndex((Index(21),)))), MultiIndex((Index(21),)))), MultiIndex((Index(22),))), 'cell', Mesh(VectorElement(FiniteElement('Lagrange', triangle, 1), dim=2), 0), 'everywhere', {}, None)])"
      ]
     },
     "execution_count": 19,
     "metadata": {},
     "output_type": "execute_result"
    }
   ],
   "source": [
    "form"
   ]
  },
  {
   "cell_type": "code",
   "execution_count": 20,
   "metadata": {},
   "outputs": [
    {
     "data": {
      "text/plain": [
       "Form([Integral(IndexSum(Product(Indexed(Conj(Coefficient(FunctionSpace(Mesh(VectorElement(FiniteElement('Lagrange', triangle, 1), dim=2), 0), VectorElement(FiniteElement('Lagrange', triangle, 1), dim=2)), 5)), MultiIndex((Index(24),))), IndexSum(Product(Indexed(ListTensor(ListTensor(FloatValue(1.0), Zero((), (), ())), ListTensor(Zero((), (), ()), FloatValue(-1.0))), MultiIndex((Index(23), Index(24)))), Indexed(Coefficient(FunctionSpace(Mesh(VectorElement(FiniteElement('Lagrange', triangle, 1), dim=2), 0), VectorElement(FiniteElement('Lagrange', triangle, 1), dim=2)), 6), MultiIndex((Index(23),)))), MultiIndex((Index(23),)))), MultiIndex((Index(24),))), 'cell', Mesh(VectorElement(FiniteElement('Lagrange', triangle, 1), dim=2), 0), 'everywhere', {}, None), Integral(Product(IntValue(-1), IndexSum(Product(Conj(Indexed(Coefficient(FunctionSpace(Mesh(VectorElement(FiniteElement('Lagrange', triangle, 1), dim=2), 0), VectorElement(FiniteElement('Lagrange', triangle, 1), dim=2)), 4), MultiIndex((Index(22),)))), IndexSum(Product(Indexed(ListTensor(ListTensor(FloatValue(1.0), Zero((), (), ())), ListTensor(Zero((), (), ()), FloatValue(-1.0))), MultiIndex((Index(21), Index(22)))), Indexed(Coefficient(FunctionSpace(Mesh(VectorElement(FiniteElement('Lagrange', triangle, 1), dim=2), 0), VectorElement(FiniteElement('Lagrange', triangle, 1), dim=2)), 3), MultiIndex((Index(21),)))), MultiIndex((Index(21),)))), MultiIndex((Index(22),)))), 'cell', Mesh(VectorElement(FiniteElement('Lagrange', triangle, 1), dim=2), 0), 'everywhere', {}, None)])"
      ]
     },
     "execution_count": 20,
     "metadata": {},
     "output_type": "execute_result"
    }
   ],
   "source": [
    "OS.bilinear_form -form"
   ]
  },
  {
   "cell_type": "code",
   "execution_count": 21,
   "metadata": {},
   "outputs": [
    {
     "name": "stdout",
     "output_type": "stream",
     "text": [
      "{ sum_{i_{22}} (conj((f[i_{22}]))) * (sum_{i_{21}} ([\n",
      "  [1.0, 0],\n",
      "  [0, -1.0]\n",
      "])[i_{21}, i_{22}] * f[i_{21}] )  } * dx(<Mesh #0>[everywhere], {})\n"
     ]
    }
   ],
   "source": [
    "print(form)"
   ]
  },
  {
   "cell_type": "code",
   "execution_count": 22,
   "metadata": {},
   "outputs": [
    {
     "name": "stdout",
     "output_type": "stream",
     "text": [
      "{ sum_{i_{24}} (conj((f)))[i_{24}] * (sum_{i_{23}} ([\n",
      "  [1.0, 0],\n",
      "  [0, -1.0]\n",
      "])[i_{23}, i_{24}] * f[i_{23}] )  } * dx(<Mesh #0>[everywhere], {})\n"
     ]
    }
   ],
   "source": [
    "print(OS.bilinear_form)"
   ]
  },
  {
   "cell_type": "code",
   "execution_count": 23,
   "metadata": {},
   "outputs": [
    {
     "ename": "NameError",
     "evalue": "name 'Oz_projection' is not defined",
     "output_type": "error",
     "traceback": [
      "\u001b[0;31m---------------------------------------------------------------------------\u001b[0m",
      "\u001b[0;31mNameError\u001b[0m                                 Traceback (most recent call last)",
      "Cell \u001b[0;32mIn[23], line 1\u001b[0m\n\u001b[0;32m----> 1\u001b[0m Oz_projection\n",
      "\u001b[0;31mNameError\u001b[0m: name 'Oz_projection' is not defined"
     ]
    }
   ],
   "source": [
    "\n",
    "Oz_projection"
   ]
  },
  {
   "cell_type": "code",
   "execution_count": 111,
   "metadata": {},
   "outputs": [
    {
     "name": "stderr",
     "output_type": "stream",
     "text": [
      "INFO:root:running build_ext\n"
     ]
    },
    {
     "name": "stdout",
     "output_type": "stream",
     "text": [
      "<class 'numpy.complex128'>\n"
     ]
    },
    {
     "name": "stderr",
     "output_type": "stream",
     "text": [
      "INFO:root:building 'libffcx_expressions_1893f83fc25ef35f46772ddc459a44d32c1cf974' extension\n",
      "INFO:root:/home/oliver/miniconda3/envs/Germanium_Spins_FE/bin/x86_64-conda-linux-gnu-cc -Wno-unused-result -Wsign-compare -DNDEBUG -fwrapv -O2 -Wall -fPIC -O2 -isystem /home/oliver/miniconda3/envs/Germanium_Spins_FE/include -fPIC -O2 -isystem /home/oliver/miniconda3/envs/Germanium_Spins_FE/include -march=nocona -mtune=haswell -ftree-vectorize -fPIC -fstack-protector-strong -fno-plt -O2 -ffunction-sections -pipe -isystem /home/oliver/miniconda3/envs/Germanium_Spins_FE/include -DNDEBUG -D_FORTIFY_SOURCE=2 -O2 -isystem /home/oliver/miniconda3/envs/Germanium_Spins_FE/include -fPIC -I/home/oliver/miniconda3/envs/Germanium_Spins_FE/lib/python3.10/site-packages/ffcx/codegeneration -I/home/oliver/miniconda3/envs/Germanium_Spins_FE/include/python3.10 -c libffcx_expressions_1893f83fc25ef35f46772ddc459a44d32c1cf974.c -o ./libffcx_expressions_1893f83fc25ef35f46772ddc459a44d32c1cf974.o -O2 -g0\n",
      "INFO:root:/home/oliver/miniconda3/envs/Germanium_Spins_FE/bin/x86_64-conda-linux-gnu-cc -shared -Wl,--allow-shlib-undefined -Wl,-rpath,/home/oliver/miniconda3/envs/Germanium_Spins_FE/lib -Wl,-rpath-link,/home/oliver/miniconda3/envs/Germanium_Spins_FE/lib -L/home/oliver/miniconda3/envs/Germanium_Spins_FE/lib -Wl,--allow-shlib-undefined -Wl,-rpath,/home/oliver/miniconda3/envs/Germanium_Spins_FE/lib -Wl,-rpath-link,/home/oliver/miniconda3/envs/Germanium_Spins_FE/lib -L/home/oliver/miniconda3/envs/Germanium_Spins_FE/lib -Wl,-O2 -Wl,--sort-common -Wl,--as-needed -Wl,-z,relro -Wl,-z,now -Wl,--disable-new-dtags -Wl,--gc-sections -Wl,--allow-shlib-undefined -Wl,-rpath,/home/oliver/miniconda3/envs/Germanium_Spins_FE/lib -Wl,-rpath-link,/home/oliver/miniconda3/envs/Germanium_Spins_FE/lib -L/home/oliver/miniconda3/envs/Germanium_Spins_FE/lib -march=nocona -mtune=haswell -ftree-vectorize -fPIC -fstack-protector-strong -fno-plt -O2 -ffunction-sections -pipe -isystem /home/oliver/miniconda3/envs/Germanium_Spins_FE/include -DNDEBUG -D_FORTIFY_SOURCE=2 -O2 -isystem /home/oliver/miniconda3/envs/Germanium_Spins_FE/include ./libffcx_expressions_1893f83fc25ef35f46772ddc459a44d32c1cf974.o -o ./libffcx_expressions_1893f83fc25ef35f46772ddc459a44d32c1cf974.cpython-310-x86_64-linux-gnu.so\n"
     ]
    },
    {
     "data": {
      "text/plain": [
       "<dolfinx.fem.function.Expression at 0x7f01e1a0be80>"
      ]
     },
     "execution_count": 111,
     "metadata": {},
     "output_type": "execute_result"
    }
   ],
   "source": [
    "\n",
    "\n",
    "import dolfinx\n",
    "from mpi4py import MPI\n",
    "from petsc4py import PETSc\n",
    "print(PETSc.ScalarType)\n",
    "\n",
    "domain = dolfinx.mesh.create_rectangle(MPI.COMM_WORLD,[[-1,-1],[1,1]],n=[10,10])\n",
    "\n",
    "V = dolfinx.fem.FunctionSpace(domain,('CG',1))\n",
    "\n",
    "f = dolfinx.fem.Function(V)\n",
    "o= 1+1j\n",
    "O = dolfinx.fem.Constant(V,o)\n",
    "h = O*f\n",
    "\n",
    "dolfinx.fem.Expression(h,V.element.interpolation_points(),dtype=np.complex128)\n",
    "\n",
    "\n"
   ]
  },
  {
   "cell_type": "code",
   "execution_count": 113,
   "metadata": {},
   "outputs": [],
   "source": [
    "A = ufl.as_tensor([[1j,0],[0,1j]])"
   ]
  },
  {
   "cell_type": "code",
   "execution_count": 118,
   "metadata": {},
   "outputs": [
    {
     "ename": "AttributeError",
     "evalue": "'ListTensor' object has no attribute 'ravel'",
     "output_type": "error",
     "traceback": [
      "\u001b[0;31m---------------------------------------------------------------------------\u001b[0m",
      "\u001b[0;31mAttributeError\u001b[0m                            Traceback (most recent call last)",
      "Cell \u001b[0;32mIn[118], line 1\u001b[0m\n\u001b[0;32m----> 1\u001b[0m \u001b[39many\u001b[39m(\u001b[39mtype\u001b[39m(a)\u001b[39m==\u001b[39mnp\u001b[39m.\u001b[39mcomplex128 \u001b[39mfor\u001b[39;00m a \u001b[39min\u001b[39;00m A\u001b[39m.\u001b[39;49mravel())\n",
      "\u001b[0;31mAttributeError\u001b[0m: 'ListTensor' object has no attribute 'ravel'"
     ]
    }
   ],
   "source": [
    "any(type(a)==np.complex128 for a in A.ravel())"
   ]
  },
  {
   "cell_type": "code",
   "execution_count": 123,
   "metadata": {},
   "outputs": [
    {
     "ename": "IndexError",
     "evalue": "too many indices for array: array is 0-dimensional, but 1 were indexed",
     "output_type": "error",
     "traceback": [
      "\u001b[0;31m---------------------------------------------------------------------------\u001b[0m",
      "\u001b[0;31mIndexError\u001b[0m                                Traceback (most recent call last)",
      "Cell \u001b[0;32mIn[123], line 1\u001b[0m\n\u001b[0;32m----> 1\u001b[0m np\u001b[39m.\u001b[39;49marray(A)[\u001b[39m0\u001b[39;49m]\n",
      "\u001b[0;31mIndexError\u001b[0m: too many indices for array: array is 0-dimensional, but 1 were indexed"
     ]
    }
   ],
   "source": [
    "np.array(A)"
   ]
  },
  {
   "cell_type": "code",
   "execution_count": 125,
   "metadata": {},
   "outputs": [
    {
     "ename": "AttributeError",
     "evalue": "'ListTensor' object has no attribute 'elements'",
     "output_type": "error",
     "traceback": [
      "\u001b[0;31m---------------------------------------------------------------------------\u001b[0m",
      "\u001b[0;31mAttributeError\u001b[0m                            Traceback (most recent call last)",
      "Cell \u001b[0;32mIn[125], line 1\u001b[0m\n\u001b[0;32m----> 1\u001b[0m A\u001b[39m.\u001b[39;49melements\n",
      "\u001b[0;31mAttributeError\u001b[0m: 'ListTensor' object has no attribute 'elements'"
     ]
    }
   ],
   "source": []
  },
  {
   "cell_type": "code",
   "execution_count": null,
   "metadata": {},
   "outputs": [],
   "source": []
  }
 ],
 "metadata": {
  "kernelspec": {
   "display_name": "Germanium_Spins_FE",
   "language": "python",
   "name": "python3"
  },
  "language_info": {
   "codemirror_mode": {
    "name": "ipython",
    "version": 3
   },
   "file_extension": ".py",
   "mimetype": "text/x-python",
   "name": "python",
   "nbconvert_exporter": "python",
   "pygments_lexer": "ipython3",
   "version": "3.10.11"
  },
  "orig_nbformat": 4
 },
 "nbformat": 4,
 "nbformat_minor": 2
}
