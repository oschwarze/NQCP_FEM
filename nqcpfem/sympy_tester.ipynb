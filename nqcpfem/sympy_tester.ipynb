{
 "cells": [
  {
   "cell_type": "code",
   "execution_count": 1,
   "metadata": {},
   "outputs": [],
   "source": [
    "import sympy as sp\n",
    "from sympy.physics import units as u"
   ]
  },
  {
   "cell_type": "code",
   "execution_count": 2,
   "metadata": {},
   "outputs": [],
   "source": [
    "hbar = u.Quantity(r'hbar',latex_repr='\\hbar',math_ml_representation='\\hbar')\n",
    "hbar.set_global_relative_scale_factor(10,u.joule*u.second)"
   ]
  },
  {
   "cell_type": "code",
   "execution_count": 3,
   "metadata": {},
   "outputs": [
    {
     "data": {
      "text/latex": [
       "$\\displaystyle \\hbar$"
      ],
      "text/plain": [
       "hbar"
      ]
     },
     "execution_count": 3,
     "metadata": {},
     "output_type": "execute_result"
    }
   ],
   "source": [
    "hbar"
   ]
  },
  {
   "cell_type": "code",
   "execution_count": 4,
   "metadata": {},
   "outputs": [],
   "source": [
    "m = u.Quantity('m')\n",
    "m.set_global_relative_scale_factor(sp.symbols('m'),u.kilogram)\n"
   ]
  },
  {
   "attachments": {},
   "cell_type": "markdown",
   "metadata": {},
   "source": [
    "type(u.util.convert_to(m,u.kilogram).args[1])#.free_symbols"
   ]
  },
  {
   "cell_type": "code",
   "execution_count": 5,
   "metadata": {},
   "outputs": [],
   "source": [
    "g = sp.symbols(r\"\\epsilon\")\n"
   ]
  },
  {
   "cell_type": "code",
   "execution_count": 6,
   "metadata": {},
   "outputs": [
    {
     "data": {
      "text/plain": [
       "True"
      ]
     },
     "execution_count": 6,
     "metadata": {},
     "output_type": "execute_result"
    }
   ],
   "source": [
    "g.name==r\"\\epsilon\""
   ]
  },
  {
   "cell_type": "code",
   "execution_count": 7,
   "metadata": {},
   "outputs": [],
   "source": [
    "import numpy as np"
   ]
  },
  {
   "cell_type": "code",
   "execution_count": 8,
   "metadata": {},
   "outputs": [],
   "source": [
    "c = np.complex128"
   ]
  },
  {
   "cell_type": "code",
   "execution_count": 9,
   "metadata": {},
   "outputs": [],
   "source": [
    "A = [[c(1),c(2),c(3)],[0,1,2],[0,3,3.0*g]]"
   ]
  },
  {
   "cell_type": "code",
   "execution_count": 10,
   "metadata": {},
   "outputs": [
    {
     "data": {
      "text/plain": [
       "[[(1+0j), (2+0j), (3+0j)], [0, 1, 2], [0, 3, 3.0*\\epsilon]]"
      ]
     },
     "execution_count": 10,
     "metadata": {},
     "output_type": "execute_result"
    }
   ],
   "source": [
    "A"
   ]
  },
  {
   "cell_type": "code",
   "execution_count": 11,
   "metadata": {},
   "outputs": [],
   "source": [
    "a=sp.Array(A)"
   ]
  },
  {
   "cell_type": "code",
   "execution_count": 12,
   "metadata": {},
   "outputs": [
    {
     "name": "stdout",
     "output_type": "stream",
     "text": [
      "<class 'sympy.core.numbers.Zero'>\n",
      "<class 'sympy.core.numbers.One'>\n",
      "<class 'sympy.core.numbers.Integer'>\n",
      "<class 'sympy.core.numbers.Integer'>\n",
      "<class 'sympy.core.numbers.Float'>\n",
      "<class 'sympy.core.numbers.Float'>\n",
      "<class 'sympy.core.symbol.Symbol'>\n",
      "<class 'sympy.core.numbers.Float'>\n"
     ]
    }
   ],
   "source": [
    "for at in a.atoms():\n",
    "    print(type(at))"
   ]
  },
  {
   "cell_type": "code",
   "execution_count": 13,
   "metadata": {},
   "outputs": [
    {
     "name": "stdout",
     "output_type": "stream",
     "text": [
      "1.00000000000000\n",
      "2.00000000000000\n",
      "3.00000000000000\n",
      "0\n",
      "1\n",
      "2\n",
      "0\n",
      "3\n",
      "3.0*\\epsilon\n"
     ]
    }
   ],
   "source": [
    "def func(x):\n",
    "    print(x)\n",
    "    try:\n",
    "        return c(x)\n",
    "    except Exception as err:\n",
    "        return x\n",
    "\n",
    "aa=a.applyfunc(func)"
   ]
  },
  {
   "cell_type": "code",
   "execution_count": 14,
   "metadata": {},
   "outputs": [
    {
     "ename": "NameError",
     "evalue": "name 'kprint' is not defined",
     "output_type": "error",
     "traceback": [
      "\u001b[0;31m---------------------------------------------------------------------------\u001b[0m",
      "\u001b[0;31mNameError\u001b[0m                                 Traceback (most recent call last)",
      "Cell \u001b[0;32mIn[14], line 1\u001b[0m\n\u001b[0;32m----> 1\u001b[0m kprint([(\u001b[39mtype\u001b[39m(at),at) \u001b[39mfor\u001b[39;00m at \u001b[39min\u001b[39;00m aa\u001b[39m.\u001b[39matoms()])\n",
      "\u001b[0;31mNameError\u001b[0m: name 'kprint' is not defined"
     ]
    }
   ],
   "source": [
    "kprint([(type(at),at) for at in aa.atoms()])"
   ]
  },
  {
   "cell_type": "code",
   "execution_count": null,
   "metadata": {},
   "outputs": [],
   "source": [
    "aa.to_numpy()"
   ]
  },
  {
   "cell_type": "code",
   "execution_count": null,
   "metadata": {},
   "outputs": [],
   "source": [
    "na=np.array(a)"
   ]
  },
  {
   "cell_type": "code",
   "execution_count": null,
   "metadata": {},
   "outputs": [],
   "source": [
    "npf = np.vectorize(func)"
   ]
  },
  {
   "cell_type": "code",
   "execution_count": null,
   "metadata": {},
   "outputs": [],
   "source": [
    "old_shape = na.shape\n",
    "np.array([func(x) for x in na.flatten()]).reshape(old_shape)"
   ]
  },
  {
   "cell_type": "code",
   "execution_count": null,
   "metadata": {},
   "outputs": [],
   "source": [
    "type(c(na[0,0]))"
   ]
  },
  {
   "cell_type": "code",
   "execution_count": null,
   "metadata": {},
   "outputs": [],
   "source": [
    "aa"
   ]
  },
  {
   "cell_type": "code",
   "execution_count": null,
   "metadata": {},
   "outputs": [],
   "source": [
    "sp.lambdify(g,aa)(d)[-1,-1]"
   ]
  },
  {
   "cell_type": "code",
   "execution_count": null,
   "metadata": {},
   "outputs": [],
   "source": [
    "e = sp.symbols('e')"
   ]
  },
  {
   "cell_type": "code",
   "execution_count": null,
   "metadata": {},
   "outputs": [],
   "source": [
    "class Dummy():\n",
    "    def __init__(self) -> None:\n",
    "        self.x=1"
   ]
  },
  {
   "cell_type": "code",
   "execution_count": null,
   "metadata": {},
   "outputs": [],
   "source": [
    "d = Dummy()"
   ]
  },
  {
   "cell_type": "code",
   "execution_count": null,
   "metadata": {},
   "outputs": [],
   "source": [
    "from unittest.mock import mock_open,patch\n",
    "import pickle\n",
    "M = mock_open()\n",
    "temp = [1,2,3]\n",
    "with patch('__main__.open',M):\n",
    "    with open('filename.temp','wb') as f:\n",
    "        pickle.dump(temp,f)\n",
    "    \n",
    "    with open('filename.temp',mode='rb') as ff:\n",
    "        print(ff)\n",
    "        print(pickle.load(ff))\n",
    "        "
   ]
  },
  {
   "cell_type": "code",
   "execution_count": null,
   "metadata": {},
   "outputs": [],
   "source": [
    "from sympy.physics.units.quantities import Quantity\n",
    "from sympy.physics.units.systems.si import SI\n",
    "import sympy.physics.units as u\n",
    "_hbar = Quantity('hbar',latex_repr='\\hbar',mathml_presentation_repr='hbar') # plancks constant\n",
    "_hbar.set_global_relative_scale_factor(1.054571817e-34,u.joule*u.second)\n",
    "_m_e = Quantity(name='m\\_e',mathml_representation_repr='m_e',latex_repr='m_e',pretty_ascii_repr='m_e',pretty_unicode_repr='m_e') # electron mass\n",
    "_m_e.set_global_relative_scale_factor(9.1093837015e-31,u.kilogram)"
   ]
  },
  {
   "cell_type": "code",
   "execution_count": null,
   "metadata": {},
   "outputs": [],
   "source": [
    "A = sp.Array([[_hbar**2/(2*_m_e)*(kkx**2+kky**2+kkz**2),0],[0,_hbar**2/(2*_m_e)*(kkx**2+kky**2+kkz**2)]])"
   ]
  },
  {
   "cell_type": "code",
   "execution_count": null,
   "metadata": {},
   "outputs": [],
   "source": [
    "kx,ky,kz = sp.symbols(r'kx,ky,kz')\n",
    "kkx = u.Quantity('k\\_x')\n",
    "kkx.set_global_relative_scale_factor(kx,1/u.meter)\n",
    "kky = u.Quantity('k\\_y')\n",
    "kky.set_global_relative_scale_factor(ky,1/u.meter)\n",
    "kkz = u.Quantity('k\\_z')\n",
    "kkz.set_global_relative_scale_factor(kz,1/u.meter)"
   ]
  },
  {
   "cell_type": "code",
   "execution_count": null,
   "metadata": {},
   "outputs": [],
   "source": [
    "sp.sympify(u.convert_to(A[0,0],u.joule)).atoms(sp.Symbol)"
   ]
  },
  {
   "cell_type": "code",
   "execution_count": null,
   "metadata": {},
   "outputs": [],
   "source": [
    "A"
   ]
  },
  {
   "cell_type": "code",
   "execution_count": null,
   "metadata": {},
   "outputs": [],
   "source": [
    "for s in A.atoms(u.Quantity):\n",
    "    print(s,s.scale_factor,s.dimension)"
   ]
  },
  {
   "cell_type": "code",
   "execution_count": null,
   "metadata": {},
   "outputs": [],
   "source": [
    "for s in A.atoms(sp.Symbol):\n",
    "    "
   ]
  },
  {
   "cell_type": "code",
   "execution_count": null,
   "metadata": {},
   "outputs": [],
   "source": [
    "kx,ky,kz = sp.symbols(r'kx,ky,kz')\n",
    "A = sp.Array([[kx,ky,kz]])"
   ]
  },
  {
   "cell_type": "code",
   "execution_count": null,
   "metadata": {},
   "outputs": [
    {
     "data": {
      "text/latex": [
       "$\\displaystyle \\left[\\left[\\begin{matrix}kx & ky & kz\\end{matrix}\\right]\\right]$"
      ],
      "text/plain": [
       "[[kx, ky, kz]]"
      ]
     },
     "execution_count": 22,
     "metadata": {},
     "output_type": "execute_result"
    }
   ],
   "source": [
    "A"
   ]
  },
  {
   "cell_type": "code",
   "execution_count": null,
   "metadata": {},
   "outputs": [],
   "source": [
    "AL=sp.lambdify((kx,ky,kz),A)"
   ]
  },
  {
   "cell_type": "code",
   "execution_count": null,
   "metadata": {},
   "outputs": [
    {
     "data": {
      "text/plain": [
       "array([[0, 1, 2]])"
      ]
     },
     "execution_count": 29,
     "metadata": {},
     "output_type": "execute_result"
    }
   ],
   "source": [
    "AL(*np.array([0,1,2]))"
   ]
  },
  {
   "cell_type": "code",
   "execution_count": null,
   "metadata": {},
   "outputs": [
    {
     "data": {
      "text/plain": [
       "array([[0, 1, 2],\n",
       "       [0, 2, 4]])"
      ]
     },
     "execution_count": 35,
     "metadata": {},
     "output_type": "execute_result"
    }
   ],
   "source": [
    "K = np.stack([np.array([0,1,2]),2*np.array([0,1,2])])\n",
    "K"
   ]
  },
  {
   "cell_type": "code",
   "execution_count": null,
   "metadata": {},
   "outputs": [
    {
     "data": {
      "text/plain": [
       "array([[[0, 1, 2]],\n",
       "\n",
       "       [[0, 2, 4]]])"
      ]
     },
     "execution_count": 38,
     "metadata": {},
     "output_type": "execute_result"
    }
   ],
   "source": [
    "AL(*K.T).transpose((-1,0,1))"
   ]
  },
  {
   "cell_type": "code",
   "execution_count": null,
   "metadata": {},
   "outputs": [],
   "source": [
    "import sympy as sp\n",
    "import numpy as np"
   ]
  },
  {
   "cell_type": "code",
   "execution_count": null,
   "metadata": {},
   "outputs": [],
   "source": [
    "A = sp.Array([[1,2],[3,4]])"
   ]
  },
  {
   "cell_type": "code",
   "execution_count": null,
   "metadata": {},
   "outputs": [
    {
     "data": {
      "text/latex": [
       "$\\displaystyle \\left[\\begin{matrix}1 & 2\\\\3 & 4\\end{matrix}\\right]$"
      ],
      "text/plain": [
       "[[1, 2], [3, 4]]"
      ]
     },
     "execution_count": 10,
     "metadata": {},
     "output_type": "execute_result"
    }
   ],
   "source": [
    "A"
   ]
  },
  {
   "cell_type": "code",
   "execution_count": null,
   "metadata": {},
   "outputs": [],
   "source": [
    "A.copy()\n",
    "kx = sp.symbols('k_x')"
   ]
  },
  {
   "cell_type": "code",
   "execution_count": null,
   "metadata": {},
   "outputs": [
    {
     "data": {
      "text/latex": [
       "$\\displaystyle \\left[\\begin{matrix}1 & 2\\\\3 & 4\\end{matrix}\\right]$"
      ],
      "text/plain": [
       "[[1, 2], [3, 4]]"
      ]
     },
     "execution_count": 12,
     "metadata": {},
     "output_type": "execute_result"
    }
   ],
   "source": [
    "A"
   ]
  },
  {
   "cell_type": "code",
   "execution_count": null,
   "metadata": {},
   "outputs": [],
   "source": [
    "A = sp.Array([[1*kx,2],[3,4*kx]])"
   ]
  },
  {
   "cell_type": "code",
   "execution_count": null,
   "metadata": {},
   "outputs": [
    {
     "data": {
      "text/latex": [
       "$\\displaystyle \\left[\\begin{matrix}k_{x} & 2\\\\3 & 4 k_{x}\\end{matrix}\\right]$"
      ],
      "text/plain": [
       "[[k_x, 2], [3, 4*k_x]]"
      ]
     },
     "execution_count": 14,
     "metadata": {},
     "output_type": "execute_result"
    }
   ],
   "source": [
    "A.conjugate().subs({kx:sp.conjugate(kx)})"
   ]
  },
  {
   "cell_type": "code",
   "execution_count": null,
   "metadata": {},
   "outputs": [
    {
     "data": {
      "text/latex": [
       "$\\displaystyle \\left[\\begin{matrix}1 & 0 & 0 & 0 & 2 & 0 & 3 & 0\\\\10 & 0 & 0 & 0 & 20 & 0 & 30 & 0\\end{matrix}\\right]$"
      ],
      "text/plain": [
       "[[1, 0, 0, 0, 2, 0, 3, 0], [10, 0, 0, 0, 20, 0, 30, 0]]"
      ]
     },
     "execution_count": 15,
     "metadata": {},
     "output_type": "execute_result"
    }
   ],
   "source": [
    "B = sp.Array([[[[1,0],[0,0]],[[2,0],[3,0]]],[[[10,0],[0,0]],[[20,0],[30,0]]]])\n",
    "B.shape\n",
    "B.reshape(2,8)"
   ]
  },
  {
   "cell_type": "code",
   "execution_count": null,
   "metadata": {},
   "outputs": [
    {
     "data": {
      "text/latex": [
       "$\\displaystyle \\left[\\begin{matrix}\\left[\\begin{matrix}k_{x} & 2\\\\3 & 4 k_{x}\\end{matrix}\\right] & 0\\\\0 & \\left[\\begin{matrix}k_{x} & 2\\\\3 & 4 k_{x}\\end{matrix}\\right]\\end{matrix}\\right]$"
      ],
      "text/plain": [
       "Matrix([\n",
       "[Matrix([\n",
       "[k_x,     2],\n",
       "[  3, 4*k_x]]),                                     0],\n",
       "[                                    0, Matrix([\n",
       "[k_x,     2],\n",
       "[  3, 4*k_x]])]])"
      ]
     },
     "execution_count": 16,
     "metadata": {},
     "output_type": "execute_result"
    }
   ],
   "source": [
    "sp.Array(sp.matrices.expressions.blockmatrix.BlockDiagMatrix(sp.Matrix(A),sp.Matrix(A)))"
   ]
  },
  {
   "cell_type": "code",
   "execution_count": null,
   "metadata": {},
   "outputs": [
    {
     "data": {
      "text/latex": [
       "$\\displaystyle \\left[\\begin{matrix}\\left[\\begin{matrix}1 & 0\\\\0 & 0\\end{matrix}\\right] & \\left[\\begin{matrix}2 & 0\\\\3 & 0\\end{matrix}\\right]\\\\\\left[\\begin{matrix}10 & 0\\\\0 & 0\\end{matrix}\\right] & \\left[\\begin{matrix}20 & 0\\\\30 & 0\\end{matrix}\\right]\\end{matrix}\\right]$"
      ],
      "text/plain": [
       "[[[[1, 0], [0, 0]], [[2, 0], [3, 0]]], [[[10, 0], [0, 0]], [[20, 0], [30, 0]]]]"
      ]
     },
     "execution_count": 17,
     "metadata": {},
     "output_type": "execute_result"
    }
   ],
   "source": [
    "B"
   ]
  },
  {
   "cell_type": "code",
   "execution_count": null,
   "metadata": {},
   "outputs": [],
   "source": [
    "b=np.array(B)"
   ]
  },
  {
   "cell_type": "code",
   "execution_count": null,
   "metadata": {},
   "outputs": [
    {
     "data": {
      "text/plain": [
       "array([1, 0, 0, 0, 2, 0, 3, 0, 10, 0, 0, 0, 20, 0, 30, 0], dtype=object)"
      ]
     },
     "execution_count": 19,
     "metadata": {},
     "output_type": "execute_result"
    }
   ],
   "source": [
    "b.ravel()"
   ]
  },
  {
   "cell_type": "code",
   "execution_count": null,
   "metadata": {},
   "outputs": [
    {
     "data": {
      "text/plain": [
       "array([[1, 0, 0, 0],\n",
       "       [2, 0, 3, 0],\n",
       "       [10, 0, 0, 0],\n",
       "       [20, 0, 30, 0]], dtype=object)"
      ]
     },
     "execution_count": 20,
     "metadata": {},
     "output_type": "execute_result"
    }
   ],
   "source": [
    "b.reshape(4,4)"
   ]
  },
  {
   "cell_type": "code",
   "execution_count": null,
   "metadata": {},
   "outputs": [],
   "source": [
    "BB= sp.tensor.array.permutedims(B,(0,2,1,3))\n",
    "\n",
    "\n"
   ]
  },
  {
   "cell_type": "code",
   "execution_count": null,
   "metadata": {},
   "outputs": [
    {
     "ename": "NameError",
     "evalue": "name 'sympy' is not defined",
     "output_type": "error",
     "traceback": [
      "\u001b[0;31m---------------------------------------------------------------------------\u001b[0m",
      "\u001b[0;31mNameError\u001b[0m                                 Traceback (most recent call last)",
      "Cell \u001b[0;32mIn[22], line 1\u001b[0m\n\u001b[0;32m----> 1\u001b[0m U \u001b[39m=\u001b[39m sympy\u001b[39m.\u001b[39marray([[\u001b[39m0\u001b[39m,\u001b[39m1\u001b[39m],[\u001b[39m-\u001b[39m\u001b[39m1\u001b[39m,\u001b[39m0\u001b[39m]])\n\u001b[1;32m      2\u001b[0m UU \u001b[39m=\u001b[39m sympy\u001b[39m.\u001b[39mtensordot( )\n",
      "\u001b[0;31mNameError\u001b[0m: name 'sympy' is not defined"
     ]
    }
   ],
   "source": [
    "U = sympy.array([[0,1],[-1,0]])\n",
    "UU = sympy.tensordot( )"
   ]
  },
  {
   "cell_type": "code",
   "execution_count": null,
   "metadata": {},
   "outputs": [
    {
     "data": {
      "text/latex": [
       "$\\displaystyle \\left[\\begin{matrix}1 & 0 & 2 & 0\\\\0 & 0 & 3 & 0\\\\10 & 0 & 20 & 0\\\\0 & 0 & 30 & 0\\end{matrix}\\right]$"
      ],
      "text/plain": [
       "[[1, 0, 2, 0], [0, 0, 3, 0], [10, 0, 20, 0], [0, 0, 30, 0]]"
      ]
     },
     "execution_count": 23,
     "metadata": {},
     "output_type": "execute_result"
    }
   ],
   "source": [
    "BB = BB.reshape(4,4)\n",
    "BB"
   ]
  },
  {
   "cell_type": "code",
   "execution_count": null,
   "metadata": {},
   "outputs": [
    {
     "data": {
      "text/latex": [
       "$\\displaystyle \\left[\\begin{matrix}\\left[\\begin{matrix}1 & 0\\\\0 & 0\\end{matrix}\\right] & \\left[\\begin{matrix}2 & 0\\\\3 & 0\\end{matrix}\\right]\\\\\\left[\\begin{matrix}10 & 0\\\\0 & 0\\end{matrix}\\right] & \\left[\\begin{matrix}20 & 0\\\\30 & 0\\end{matrix}\\right]\\end{matrix}\\right]$"
      ],
      "text/plain": [
       "[[[[1, 0], [0, 0]], [[2, 0], [3, 0]]], [[[10, 0], [0, 0]], [[20, 0], [30, 0]]]]"
      ]
     },
     "execution_count": 24,
     "metadata": {},
     "output_type": "execute_result"
    }
   ],
   "source": [
    "B"
   ]
  },
  {
   "cell_type": "code",
   "execution_count": null,
   "metadata": {},
   "outputs": [],
   "source": []
  },
  {
   "cell_type": "code",
   "execution_count": null,
   "metadata": {},
   "outputs": [],
   "source": [
    "Bex = sp.Array(sp.Matrix(sp.matrices.expressions.blockmatrix.BlockDiagMatrix(sp.Matrix(BB),-sp.Matrix(BB))))"
   ]
  },
  {
   "cell_type": "code",
   "execution_count": null,
   "metadata": {},
   "outputs": [
    {
     "data": {
      "text/latex": [
       "$\\displaystyle \\left[\\begin{matrix}1 & 0 & 2 & 0 & 0 & 0 & 0 & 0\\\\0 & 0 & 3 & 0 & 0 & 0 & 0 & 0\\\\10 & 0 & 20 & 0 & 0 & 0 & 0 & 0\\\\0 & 0 & 30 & 0 & 0 & 0 & 0 & 0\\\\0 & 0 & 0 & 0 & -1 & 0 & -2 & 0\\\\0 & 0 & 0 & 0 & 0 & 0 & -3 & 0\\\\0 & 0 & 0 & 0 & -10 & 0 & -20 & 0\\\\0 & 0 & 0 & 0 & 0 & 0 & -30 & 0\\end{matrix}\\right]$"
      ],
      "text/plain": [
       "[[1, 0, 2, 0, 0, 0, 0, 0], [0, 0, 3, 0, 0, 0, 0, 0], [10, 0, 20, 0, 0, 0, 0, 0], [0, 0, 30, 0, 0, 0, 0, 0], [0, 0, 0, 0, -1, 0, -2, 0], [0, 0, 0, 0, 0, 0, -3, 0], [0, 0, 0, 0, -10, 0, -20, 0], [0, 0, 0, 0, 0, 0, -30, 0]]"
      ]
     },
     "execution_count": 26,
     "metadata": {},
     "output_type": "execute_result"
    }
   ],
   "source": [
    "Bex"
   ]
  },
  {
   "cell_type": "code",
   "execution_count": null,
   "metadata": {},
   "outputs": [],
   "source": [
    "final= sp.tensor.array.permutedims(Bex.reshape(4,2,4,2),(0,2,1,3))"
   ]
  },
  {
   "cell_type": "code",
   "execution_count": null,
   "metadata": {},
   "outputs": [
    {
     "data": {
      "text/latex": [
       "$\\displaystyle \\left[\\begin{matrix}\\left[\\begin{matrix}1 & 0\\\\0 & 0\\end{matrix}\\right] & \\left[\\begin{matrix}2 & 0\\\\3 & 0\\end{matrix}\\right] & \\left[\\begin{matrix}0 & 0\\\\0 & 0\\end{matrix}\\right] & \\left[\\begin{matrix}0 & 0\\\\0 & 0\\end{matrix}\\right]\\\\\\left[\\begin{matrix}10 & 0\\\\0 & 0\\end{matrix}\\right] & \\left[\\begin{matrix}20 & 0\\\\30 & 0\\end{matrix}\\right] & \\left[\\begin{matrix}0 & 0\\\\0 & 0\\end{matrix}\\right] & \\left[\\begin{matrix}0 & 0\\\\0 & 0\\end{matrix}\\right]\\\\\\left[\\begin{matrix}0 & 0\\\\0 & 0\\end{matrix}\\right] & \\left[\\begin{matrix}0 & 0\\\\0 & 0\\end{matrix}\\right] & \\left[\\begin{matrix}-1 & 0\\\\0 & 0\\end{matrix}\\right] & \\left[\\begin{matrix}-2 & 0\\\\-3 & 0\\end{matrix}\\right]\\\\\\left[\\begin{matrix}0 & 0\\\\0 & 0\\end{matrix}\\right] & \\left[\\begin{matrix}0 & 0\\\\0 & 0\\end{matrix}\\right] & \\left[\\begin{matrix}-10 & 0\\\\0 & 0\\end{matrix}\\right] & \\left[\\begin{matrix}-20 & 0\\\\-30 & 0\\end{matrix}\\right]\\end{matrix}\\right]$"
      ],
      "text/plain": [
       "[[[[1, 0], [0, 0]], [[2, 0], [3, 0]], [[0, 0], [0, 0]], [[0, 0], [0, 0]]], [[[10, 0], [0, 0]], [[20, 0], [30, 0]], [[0, 0], [0, 0]], [[0, 0], [0, 0]]], [[[0, 0], [0, 0]], [[0, 0], [0, 0]], [[-1, 0], [0, 0]], [[-2, 0], [-3, 0]]], [[[0, 0], [0, 0]], [[0, 0], [0, 0]], [[-10, 0], [0, 0]], [[-20, 0], [-30, 0]]]]"
      ]
     },
     "execution_count": 49,
     "metadata": {},
     "output_type": "execute_result"
    }
   ],
   "source": [
    "final"
   ]
  },
  {
   "cell_type": "code",
   "execution_count": null,
   "metadata": {},
   "outputs": [],
   "source": [
    "NN = np.array(final)"
   ]
  },
  {
   "cell_type": "code",
   "execution_count": null,
   "metadata": {},
   "outputs": [
    {
     "ename": "TypeError",
     "evalue": "'ellipsis' object cannot be interpreted as an integer",
     "output_type": "error",
     "traceback": [
      "\u001b[0;31m---------------------------------------------------------------------------\u001b[0m",
      "\u001b[0;31mTypeError\u001b[0m                                 Traceback (most recent call last)",
      "File \u001b[0;32m~/miniconda3/envs/Germanium_Spins_FE/lib/python3.10/site-packages/numpy/core/fromnumeric.py:57\u001b[0m, in \u001b[0;36m_wrapfunc\u001b[0;34m(obj, method, *args, **kwds)\u001b[0m\n\u001b[1;32m     56\u001b[0m \u001b[39mtry\u001b[39;00m:\n\u001b[0;32m---> 57\u001b[0m     \u001b[39mreturn\u001b[39;00m bound(\u001b[39m*\u001b[39;49margs, \u001b[39m*\u001b[39;49m\u001b[39m*\u001b[39;49mkwds)\n\u001b[1;32m     58\u001b[0m \u001b[39mexcept\u001b[39;00m \u001b[39mTypeError\u001b[39;00m:\n\u001b[1;32m     59\u001b[0m     \u001b[39m# A TypeError occurs if the object does have such a method in its\u001b[39;00m\n\u001b[1;32m     60\u001b[0m     \u001b[39m# class, but its signature is not identical to that of NumPy's. This\u001b[39;00m\n\u001b[0;32m   (...)\u001b[0m\n\u001b[1;32m     64\u001b[0m     \u001b[39m# Call _wrapit from within the except clause to ensure a potential\u001b[39;00m\n\u001b[1;32m     65\u001b[0m     \u001b[39m# exception has a traceback chain.\u001b[39;00m\n",
      "\u001b[0;31mTypeError\u001b[0m: 'ellipsis' object cannot be interpreted as an integer",
      "\nDuring handling of the above exception, another exception occurred:\n",
      "\u001b[0;31mTypeError\u001b[0m                                 Traceback (most recent call last)",
      "Cell \u001b[0;32mIn[53], line 1\u001b[0m\n\u001b[0;32m----> 1\u001b[0m np\u001b[39m.\u001b[39;49mtranspose(NN,(\u001b[39m1\u001b[39;49m,\u001b[39m0\u001b[39;49m,\u001b[39m.\u001b[39;49m\u001b[39m.\u001b[39;49m\u001b[39m.\u001b[39;49m))\n",
      "File \u001b[0;32m<__array_function__ internals>:200\u001b[0m, in \u001b[0;36mtranspose\u001b[0;34m(*args, **kwargs)\u001b[0m\n",
      "File \u001b[0;32m~/miniconda3/envs/Germanium_Spins_FE/lib/python3.10/site-packages/numpy/core/fromnumeric.py:668\u001b[0m, in \u001b[0;36mtranspose\u001b[0;34m(a, axes)\u001b[0m\n\u001b[1;32m    601\u001b[0m \u001b[39m@array_function_dispatch\u001b[39m(_transpose_dispatcher)\n\u001b[1;32m    602\u001b[0m \u001b[39mdef\u001b[39;00m \u001b[39mtranspose\u001b[39m(a, axes\u001b[39m=\u001b[39m\u001b[39mNone\u001b[39;00m):\n\u001b[1;32m    603\u001b[0m     \u001b[39m\"\"\"\u001b[39;00m\n\u001b[1;32m    604\u001b[0m \u001b[39m    Returns an array with axes transposed.\u001b[39;00m\n\u001b[1;32m    605\u001b[0m \n\u001b[0;32m   (...)\u001b[0m\n\u001b[1;32m    666\u001b[0m \n\u001b[1;32m    667\u001b[0m \u001b[39m    \"\"\"\u001b[39;00m\n\u001b[0;32m--> 668\u001b[0m     \u001b[39mreturn\u001b[39;00m _wrapfunc(a, \u001b[39m'\u001b[39;49m\u001b[39mtranspose\u001b[39;49m\u001b[39m'\u001b[39;49m, axes)\n",
      "File \u001b[0;32m~/miniconda3/envs/Germanium_Spins_FE/lib/python3.10/site-packages/numpy/core/fromnumeric.py:66\u001b[0m, in \u001b[0;36m_wrapfunc\u001b[0;34m(obj, method, *args, **kwds)\u001b[0m\n\u001b[1;32m     57\u001b[0m     \u001b[39mreturn\u001b[39;00m bound(\u001b[39m*\u001b[39margs, \u001b[39m*\u001b[39m\u001b[39m*\u001b[39mkwds)\n\u001b[1;32m     58\u001b[0m \u001b[39mexcept\u001b[39;00m \u001b[39mTypeError\u001b[39;00m:\n\u001b[1;32m     59\u001b[0m     \u001b[39m# A TypeError occurs if the object does have such a method in its\u001b[39;00m\n\u001b[1;32m     60\u001b[0m     \u001b[39m# class, but its signature is not identical to that of NumPy's. This\u001b[39;00m\n\u001b[0;32m   (...)\u001b[0m\n\u001b[1;32m     64\u001b[0m     \u001b[39m# Call _wrapit from within the except clause to ensure a potential\u001b[39;00m\n\u001b[1;32m     65\u001b[0m     \u001b[39m# exception has a traceback chain.\u001b[39;00m\n\u001b[0;32m---> 66\u001b[0m     \u001b[39mreturn\u001b[39;00m _wrapit(obj, method, \u001b[39m*\u001b[39;49margs, \u001b[39m*\u001b[39;49m\u001b[39m*\u001b[39;49mkwds)\n",
      "File \u001b[0;32m~/miniconda3/envs/Germanium_Spins_FE/lib/python3.10/site-packages/numpy/core/fromnumeric.py:43\u001b[0m, in \u001b[0;36m_wrapit\u001b[0;34m(obj, method, *args, **kwds)\u001b[0m\n\u001b[1;32m     41\u001b[0m \u001b[39mexcept\u001b[39;00m \u001b[39mAttributeError\u001b[39;00m:\n\u001b[1;32m     42\u001b[0m     wrap \u001b[39m=\u001b[39m \u001b[39mNone\u001b[39;00m\n\u001b[0;32m---> 43\u001b[0m result \u001b[39m=\u001b[39m \u001b[39mgetattr\u001b[39;49m(asarray(obj), method)(\u001b[39m*\u001b[39;49margs, \u001b[39m*\u001b[39;49m\u001b[39m*\u001b[39;49mkwds)\n\u001b[1;32m     44\u001b[0m \u001b[39mif\u001b[39;00m wrap:\n\u001b[1;32m     45\u001b[0m     \u001b[39mif\u001b[39;00m \u001b[39mnot\u001b[39;00m \u001b[39misinstance\u001b[39m(result, mu\u001b[39m.\u001b[39mndarray):\n",
      "\u001b[0;31mTypeError\u001b[0m: 'ellipsis' object cannot be interpreted as an integer"
     ]
    }
   ],
   "source": [
    "np.transpose(NN,(1,0,...))"
   ]
  },
  {
   "cell_type": "code",
   "execution_count": null,
   "metadata": {},
   "outputs": [
    {
     "data": {
      "text/latex": [
       "$\\displaystyle \\left[\\begin{matrix}0 & 0\\\\0 & 0\\end{matrix}\\right]$"
      ],
      "text/plain": [
       "[[0, 0], [0, 0]]"
      ]
     },
     "execution_count": 41,
     "metadata": {},
     "output_type": "execute_result"
    }
   ],
   "source": []
  },
  {
   "cell_type": "code",
   "execution_count": null,
   "metadata": {},
   "outputs": [
    {
     "data": {
      "text/latex": [
       "$\\displaystyle \\left[\\begin{matrix}\\left[\\begin{matrix}1 & 0\\\\0 & 0\\end{matrix}\\right] & \\left[\\begin{matrix}2 & 0\\\\3 & 0\\end{matrix}\\right] & \\left[\\begin{matrix}1 & 11\\\\21 & 31\\end{matrix}\\right] & \\left[\\begin{matrix}41 & 51\\\\61 & 71\\end{matrix}\\right]\\\\\\left[\\begin{matrix}10 & 0\\\\0 & 0\\end{matrix}\\right] & \\left[\\begin{matrix}20 & 0\\\\30 & 0\\end{matrix}\\right] & \\left[\\begin{matrix}81 & 91\\\\101 & 111\\end{matrix}\\right] & \\left[\\begin{matrix}121 & 131\\\\141 & 151\\end{matrix}\\right]\\\\\\left[\\begin{matrix}0 & 0\\\\0 & 0\\end{matrix}\\right] & \\left[\\begin{matrix}0 & 0\\\\0 & 0\\end{matrix}\\right] & \\left[\\begin{matrix}-1 & 0\\\\0 & 0\\end{matrix}\\right] & \\left[\\begin{matrix}-2 & 0\\\\-3 & 0\\end{matrix}\\right]\\\\\\left[\\begin{matrix}0 & 0\\\\0 & 0\\end{matrix}\\right] & \\left[\\begin{matrix}0 & 0\\\\0 & 0\\end{matrix}\\right] & \\left[\\begin{matrix}-10 & 0\\\\0 & 0\\end{matrix}\\right] & \\left[\\begin{matrix}-20 & 0\\\\-30 & 0\\end{matrix}\\right]\\end{matrix}\\right]$"
      ],
      "text/plain": [
       "[[[[1, 0], [0, 0]], [[2, 0], [3, 0]], [[1, 11], [21, 31]], [[41, 51], [61, 71]]], [[[10, 0], [0, 0]], [[20, 0], [30, 0]], [[81, 91], [101, 111]], [[121, 131], [141, 151]]], [[[0, 0], [0, 0]], [[0, 0], [0, 0]], [[-1, 0], [0, 0]], [[-2, 0], [-3, 0]]], [[[0, 0], [0, 0]], [[0, 0], [0, 0]], [[-10, 0], [0, 0]], [[-20, 0], [-30, 0]]]]"
      ]
     },
     "execution_count": 61,
     "metadata": {},
     "output_type": "execute_result"
    }
   ],
   "source": [
    "NN=np.array(final)\n",
    "NN[slice(0,2),slice(2,4)] = np.arange(16).reshape((2,2,2,2))*10+1\n",
    "sp.Array(NN)"
   ]
  },
  {
   "cell_type": "code",
   "execution_count": null,
   "metadata": {},
   "outputs": [],
   "source": [
    "class foo():\n",
    "    __t__ = 't'\n",
    "    def __init__(self,x):\n",
    "        self.x=x\n",
    "    "
   ]
  },
  {
   "cell_type": "code",
   "execution_count": null,
   "metadata": {},
   "outputs": [],
   "source": [
    "F=foo(1)"
   ]
  },
  {
   "cell_type": "code",
   "execution_count": null,
   "metadata": {},
   "outputs": [
    {
     "data": {
      "text/plain": [
       "'t'"
      ]
     },
     "execution_count": 87,
     "metadata": {},
     "output_type": "execute_result"
    }
   ],
   "source": [
    "F.x\n",
    "F.__t__"
   ]
  },
  {
   "cell_type": "code",
   "execution_count": null,
   "metadata": {},
   "outputs": [],
   "source": [
    "from zmq import EVENT_CLOSE_FAILED\n",
    "\n",
    "\n",
    "def recursion_term(A,N):\n",
    "    # floating point error becomes too large at N>15 \n",
    "    \n",
    "    if N==2:\n",
    "        if A%2:\n",
    "            return 4/(np.pi*A)-8/(np.pi*A)**3\n",
    "        else:\n",
    "            return 0 \n",
    "    if N==1:\n",
    "        if A%2:\n",
    "            return 0\n",
    "        else:\n",
    "            return -4/(A*np.pi)\n",
    "    return -4/(A*np.pi)*(1+N*(N-1)/(A*np.pi)*recursion_term(A,N-2))\n"
   ]
  },
  {
   "cell_type": "code",
   "execution_count": null,
   "metadata": {},
   "outputs": [
    {
     "data": {
      "text/plain": [
       "-0.00820576285190685"
      ]
     },
     "execution_count": 33,
     "metadata": {},
     "output_type": "execute_result"
    }
   ],
   "source": [
    "recursion_term(2,25)"
   ]
  },
  {
   "cell_type": "code",
   "execution_count": null,
   "metadata": {},
   "outputs": [
    {
     "ename": "SyntaxError",
     "evalue": "invalid syntax (1418258481.py, line 1)",
     "output_type": "error",
     "traceback": [
      "\u001b[0;36m  Cell \u001b[0;32mIn[34], line 1\u001b[0;36m\u001b[0m\n\u001b[0;31m    100!\u001b[0m\n\u001b[0m       ^\u001b[0m\n\u001b[0;31mSyntaxError\u001b[0m\u001b[0;31m:\u001b[0m invalid syntax\n"
     ]
    }
   ],
   "source": [
    "L=1\n",
    "def x_mat(n,m,order):\n",
    "    if (not order%2) or ():\n",
    "        return 0 % odd powers of x vanish  \n",
    "    expr = (2/L)**oder *order * "
   ]
  },
  {
   "cell_type": "code",
   "execution_count": null,
   "metadata": {},
   "outputs": [],
   "source": [
    "import numpy as np"
   ]
  },
  {
   "cell_type": "code",
   "execution_count": null,
   "metadata": {},
   "outputs": [
    {
     "ename": "ModuleNotFoundError",
     "evalue": "No module named 'nqcpsim'",
     "output_type": "error",
     "traceback": [
      "\u001b[0;31m---------------------------------------------------------------------------\u001b[0m",
      "\u001b[0;31mModuleNotFoundError\u001b[0m                       Traceback (most recent call last)",
      "Cell \u001b[0;32mIn[6], line 1\u001b[0m\n\u001b[0;32m----> 1\u001b[0m \u001b[39mfrom\u001b[39;00m \u001b[39mnqcpsim\u001b[39;00m\u001b[39m.\u001b[39;00m\u001b[39mband_model\u001b[39;00m \u001b[39mimport\u001b[39;00m ANGULAR_MOMENTUM\n",
      "\u001b[0;31mModuleNotFoundError\u001b[0m: No module named 'nqcpsim'"
     ]
    }
   ],
   "source": [
    "from nqcpsim.band_model import ANGULAR_MOMENTUM"
   ]
  },
  {
   "cell_type": "code",
   "execution_count": null,
   "metadata": {},
   "outputs": [
    {
     "data": {
      "text/plain": [
       "0.16666666666666669"
      ]
     },
     "execution_count": 7,
     "metadata": {},
     "output_type": "execute_result"
    }
   ],
   "source": [
    "(.4)/(2*(1.2))"
   ]
  },
  {
   "cell_type": "code",
   "execution_count": null,
   "metadata": {},
   "outputs": [],
   "source": [
    "aa=sp.Matrix(A)"
   ]
  },
  {
   "cell_type": "code",
   "execution_count": null,
   "metadata": {},
   "outputs": [
    {
     "data": {
      "text/latex": [
       "$\\displaystyle \\left[\\begin{matrix}1.0 & 2.0 & 3.0\\\\0 & 1 & 2\\\\0 & 3 & 3.0 \\epsilon\\end{matrix}\\right]$"
      ],
      "text/plain": [
       "Matrix([\n",
       "[1.0, 2.0,          3.0],\n",
       "[  0,   1,            2],\n",
       "[  0,   3, 3.0*\\epsilon]])"
      ]
     },
     "execution_count": 19,
     "metadata": {},
     "output_type": "execute_result"
    }
   ],
   "source": [
    "aa"
   ]
  },
  {
   "cell_type": "code",
   "execution_count": null,
   "metadata": {},
   "outputs": [
    {
     "data": {
      "text/latex": [
       "$\\displaystyle \\left[\\begin{matrix}1.0 & 0 & 0\\\\2.0 & 1 & 3\\\\3.0 & 2 & 3.0 \\epsilon\\end{matrix}\\right]$"
      ],
      "text/plain": [
       "Matrix([\n",
       "[1.0, 0,            0],\n",
       "[2.0, 1,            3],\n",
       "[3.0, 2, 3.0*\\epsilon]])"
      ]
     },
     "execution_count": 20,
     "metadata": {},
     "output_type": "execute_result"
    }
   ],
   "source": [
    "aa.T"
   ]
  },
  {
   "cell_type": "code",
   "execution_count": null,
   "metadata": {},
   "outputs": [],
   "source": [
    "x,y = sp.symbols('x,y')"
   ]
  },
  {
   "cell_type": "code",
   "execution_count": null,
   "metadata": {},
   "outputs": [],
   "source": [
    "A =sp.Matrix([[x,y,1],[y,x,2],[x,y,3]])"
   ]
  },
  {
   "cell_type": "code",
   "execution_count": null,
   "metadata": {},
   "outputs": [],
   "source": [
    "\n",
    "B=sp.Matrix([[10,20,30]]).T"
   ]
  },
  {
   "cell_type": "code",
   "execution_count": null,
   "metadata": {},
   "outputs": [
    {
     "data": {
      "text/plain": [
       "[10*x + 20*y + 30, 20*x + 10*y + 60, 10*x + 20*y + 90]"
      ]
     },
     "execution_count": 39,
     "metadata": {},
     "output_type": "execute_result"
    }
   ],
   "source": [
    "list(A@B)"
   ]
  },
  {
   "cell_type": "code",
   "execution_count": null,
   "metadata": {},
   "outputs": [
    {
     "data": {
      "text/latex": [
       "$\\displaystyle \\left[\\begin{matrix}x & x & 1\\\\x & x & 2\\end{matrix}\\right]$"
      ],
      "text/plain": [
       "[[x, x, 1], [x, x, 2]]"
      ]
     },
     "execution_count": 24,
     "metadata": {},
     "output_type": "execute_result"
    }
   ],
   "source": [
    "A.subs({x:y,y:x})"
   ]
  },
  {
   "cell_type": "code",
   "execution_count": null,
   "metadata": {},
   "outputs": [],
   "source": [
    "x,z = sp.symbols('x,z',commutative =False)\n",
    "y,a = sp.symbols('y,a')"
   ]
  },
  {
   "cell_type": "code",
   "execution_count": null,
   "metadata": {},
   "outputs": [
    {
     "data": {
      "text/latex": [
       "$\\displaystyle a x + a x z x z + 2 a x^{2} + y^{3} x^{2} + x^{2}$"
      ],
      "text/plain": [
       "a*x + a*x*z*x*z + 2*a*x**2 + y**3*x**2 + x**2"
      ]
     },
     "execution_count": 57,
     "metadata": {},
     "output_type": "execute_result"
    }
   ],
   "source": [
    "expr = a*x + x**2 +2*x*a*x+ y*y*x*x*y+ x*z*x*z*a\n",
    "expr"
   ]
  },
  {
   "cell_type": "code",
   "execution_count": null,
   "metadata": {},
   "outputs": [
    {
     "data": {
      "text/plain": [
       "True"
      ]
     },
     "execution_count": 44,
     "metadata": {},
     "output_type": "execute_result"
    }
   ],
   "source": [
    "isinstance(expr,sp.Add)"
   ]
  },
  {
   "cell_type": "code",
   "execution_count": null,
   "metadata": {},
   "outputs": [
    {
     "data": {
      "text/plain": [
       "(x**2, a*x, y**3*x**2, 2*a*x**2)"
      ]
     },
     "execution_count": 49,
     "metadata": {},
     "output_type": "execute_result"
    }
   ],
   "source": [
    "expr.args\n"
   ]
  },
  {
   "cell_type": "code",
   "execution_count": null,
   "metadata": {},
   "outputs": [
    {
     "data": {
      "text/latex": [
       "$\\displaystyle 0$"
      ],
      "text/plain": [
       "0"
      ]
     },
     "execution_count": 55,
     "metadata": {},
     "output_type": "execute_result"
    }
   ],
   "source": [
    "expr.args[0].coeff(x**4)"
   ]
  },
  {
   "cell_type": "code",
   "execution_count": null,
   "metadata": {},
   "outputs": [],
   "source": [
    "from sympy.polys.polytools import degree"
   ]
  },
  {
   "cell_type": "code",
   "execution_count": null,
   "metadata": {},
   "outputs": [
    {
     "ename": "GeneratorsError",
     "evalue": "non-commutative generators: (x,)",
     "output_type": "error",
     "traceback": [
      "\u001b[0;31m---------------------------------------------------------------------------\u001b[0m",
      "\u001b[0;31mGeneratorsError\u001b[0m                           Traceback (most recent call last)",
      "Cell \u001b[0;32mIn[48], line 1\u001b[0m\n\u001b[0;32m----> 1\u001b[0m degree(expr\u001b[39m.\u001b[39;49margs[\u001b[39m0\u001b[39;49m],x)\n",
      "File \u001b[0;32m~/miniconda3/envs/Germanium_Spins_FE/lib/python3.10/site-packages/sympy/polys/polytools.py:4556\u001b[0m, in \u001b[0;36mdegree\u001b[0;34m(f, gen)\u001b[0m\n\u001b[1;32m   4554\u001b[0m             p, _ \u001b[39m=\u001b[39m poly_from_expr(f)\n\u001b[1;32m   4555\u001b[0m         \u001b[39melse\u001b[39;00m:\n\u001b[0;32m-> 4556\u001b[0m             p, _ \u001b[39m=\u001b[39m poly_from_expr(f, gen)\n\u001b[1;32m   4558\u001b[0m \u001b[39mif\u001b[39;00m isNum:\n\u001b[1;32m   4559\u001b[0m     \u001b[39mreturn\u001b[39;00m S\u001b[39m.\u001b[39mZero \u001b[39mif\u001b[39;00m f \u001b[39melse\u001b[39;00m S\u001b[39m.\u001b[39mNegativeInfinity\n",
      "File \u001b[0;32m~/miniconda3/envs/Germanium_Spins_FE/lib/python3.10/site-packages/sympy/polys/polytools.py:4363\u001b[0m, in \u001b[0;36mpoly_from_expr\u001b[0;34m(expr, *gens, **args)\u001b[0m\n\u001b[1;32m   4360\u001b[0m \u001b[39m@public\u001b[39m\n\u001b[1;32m   4361\u001b[0m \u001b[39mdef\u001b[39;00m \u001b[39mpoly_from_expr\u001b[39m(expr, \u001b[39m*\u001b[39mgens, \u001b[39m*\u001b[39m\u001b[39m*\u001b[39margs):\n\u001b[1;32m   4362\u001b[0m     \u001b[39m\"\"\"Construct a polynomial from an expression. \"\"\"\u001b[39;00m\n\u001b[0;32m-> 4363\u001b[0m     opt \u001b[39m=\u001b[39m options\u001b[39m.\u001b[39;49mbuild_options(gens, args)\n\u001b[1;32m   4364\u001b[0m     \u001b[39mreturn\u001b[39;00m _poly_from_expr(expr, opt)\n",
      "File \u001b[0;32m~/miniconda3/envs/Germanium_Spins_FE/lib/python3.10/site-packages/sympy/polys/polyoptions.py:746\u001b[0m, in \u001b[0;36mbuild_options\u001b[0;34m(gens, args)\u001b[0m\n\u001b[1;32m    743\u001b[0m     gens, args \u001b[39m=\u001b[39m (), gens\n\u001b[1;32m    745\u001b[0m \u001b[39mif\u001b[39;00m \u001b[39mlen\u001b[39m(args) \u001b[39m!=\u001b[39m \u001b[39m1\u001b[39m \u001b[39mor\u001b[39;00m \u001b[39m'\u001b[39m\u001b[39mopt\u001b[39m\u001b[39m'\u001b[39m \u001b[39mnot\u001b[39;00m \u001b[39min\u001b[39;00m args \u001b[39mor\u001b[39;00m gens:\n\u001b[0;32m--> 746\u001b[0m     \u001b[39mreturn\u001b[39;00m Options(gens, args)\n\u001b[1;32m    747\u001b[0m \u001b[39melse\u001b[39;00m:\n\u001b[1;32m    748\u001b[0m     \u001b[39mreturn\u001b[39;00m args[\u001b[39m'\u001b[39m\u001b[39mopt\u001b[39m\u001b[39m'\u001b[39m]\n",
      "File \u001b[0;32m~/miniconda3/envs/Germanium_Spins_FE/lib/python3.10/site-packages/sympy/polys/polyoptions.py:155\u001b[0m, in \u001b[0;36mOptions.__init__\u001b[0;34m(self, gens, args, flags, strict)\u001b[0m\n\u001b[1;32m    152\u001b[0m         \u001b[39mif\u001b[39;00m value \u001b[39mis\u001b[39;00m \u001b[39mnot\u001b[39;00m \u001b[39mNone\u001b[39;00m:\n\u001b[1;32m    153\u001b[0m             \u001b[39mself\u001b[39m[option] \u001b[39m=\u001b[39m \u001b[39mcls\u001b[39m\u001b[39m.\u001b[39mpreprocess(value)\n\u001b[0;32m--> 155\u001b[0m preprocess_options(args)\n\u001b[1;32m    157\u001b[0m \u001b[39mfor\u001b[39;00m key, value \u001b[39min\u001b[39;00m \u001b[39mdict\u001b[39m(defaults)\u001b[39m.\u001b[39mitems():\n\u001b[1;32m    158\u001b[0m     \u001b[39mif\u001b[39;00m key \u001b[39min\u001b[39;00m \u001b[39mself\u001b[39m:\n",
      "File \u001b[0;32m~/miniconda3/envs/Germanium_Spins_FE/lib/python3.10/site-packages/sympy/polys/polyoptions.py:153\u001b[0m, in \u001b[0;36mOptions.__init__.<locals>.preprocess_options\u001b[0;34m(args)\u001b[0m\n\u001b[1;32m    150\u001b[0m             \u001b[39mraise\u001b[39;00m OptionError(\u001b[39m\"\u001b[39m\u001b[39m'\u001b[39m\u001b[39m%s\u001b[39;00m\u001b[39m'\u001b[39m\u001b[39m flag is not allowed in this context\u001b[39m\u001b[39m\"\u001b[39m \u001b[39m%\u001b[39m option)\n\u001b[1;32m    152\u001b[0m \u001b[39mif\u001b[39;00m value \u001b[39mis\u001b[39;00m \u001b[39mnot\u001b[39;00m \u001b[39mNone\u001b[39;00m:\n\u001b[0;32m--> 153\u001b[0m     \u001b[39mself\u001b[39m[option] \u001b[39m=\u001b[39m \u001b[39mcls\u001b[39;49m\u001b[39m.\u001b[39;49mpreprocess(value)\n",
      "File \u001b[0;32m~/miniconda3/envs/Germanium_Spins_FE/lib/python3.10/site-packages/sympy/polys/polyoptions.py:294\u001b[0m, in \u001b[0;36mGens.preprocess\u001b[0;34m(cls, gens)\u001b[0m\n\u001b[1;32m    292\u001b[0m     \u001b[39mraise\u001b[39;00m GeneratorsError(\u001b[39m\"\u001b[39m\u001b[39mduplicated generators: \u001b[39m\u001b[39m%s\u001b[39;00m\u001b[39m\"\u001b[39m \u001b[39m%\u001b[39m \u001b[39mstr\u001b[39m(gens))\n\u001b[1;32m    293\u001b[0m \u001b[39melif\u001b[39;00m \u001b[39many\u001b[39m(gen\u001b[39m.\u001b[39mis_commutative \u001b[39mis\u001b[39;00m \u001b[39mFalse\u001b[39;00m \u001b[39mfor\u001b[39;00m gen \u001b[39min\u001b[39;00m gens):\n\u001b[0;32m--> 294\u001b[0m     \u001b[39mraise\u001b[39;00m GeneratorsError(\u001b[39m\"\u001b[39m\u001b[39mnon-commutative generators: \u001b[39m\u001b[39m%s\u001b[39;00m\u001b[39m\"\u001b[39m \u001b[39m%\u001b[39m \u001b[39mstr\u001b[39m(gens))\n\u001b[1;32m    296\u001b[0m \u001b[39mreturn\u001b[39;00m \u001b[39mtuple\u001b[39m(gens)\n",
      "\u001b[0;31mGeneratorsError\u001b[0m: non-commutative generators: (x,)"
     ]
    }
   ],
   "source": [
    "degree(expr.args[0],x)\n"
   ]
  },
  {
   "cell_type": "code",
   "execution_count": null,
   "metadata": {},
   "outputs": [],
   "source": [
    "D=sp.Dummy(commutative=False)"
   ]
  },
  {
   "cell_type": "code",
   "execution_count": null,
   "metadata": {},
   "outputs": [
    {
     "data": {
      "text/plain": [
       "False"
      ]
     },
     "execution_count": 64,
     "metadata": {},
     "output_type": "execute_result"
    }
   ],
   "source": [
    "D.is_commutative"
   ]
  },
  {
   "cell_type": "code",
   "execution_count": null,
   "metadata": {},
   "outputs": [],
   "source": [
    "EX = x*(z+2)+(z+2)*x"
   ]
  },
  {
   "cell_type": "code",
   "execution_count": null,
   "metadata": {},
   "outputs": [
    {
     "data": {
      "text/plain": [
       "True"
      ]
     },
     "execution_count": 74,
     "metadata": {},
     "output_type": "execute_result"
    }
   ],
   "source": [
    "isinstance(EX,sp.Add)"
   ]
  },
  {
   "cell_type": "code",
   "execution_count": null,
   "metadata": {},
   "outputs": [
    {
     "data": {
      "text/plain": [
       "(x*(2 + z), (2 + z)*x)"
      ]
     },
     "execution_count": 76,
     "metadata": {},
     "output_type": "execute_result"
    }
   ],
   "source": [
    "EX.args"
   ]
  },
  {
   "cell_type": "code",
   "execution_count": null,
   "metadata": {},
   "outputs": [
    {
     "data": {
      "text/latex": [
       "$\\displaystyle y \\left(a + 2\\right)$"
      ],
      "text/plain": [
       "y*(a + 2)"
      ]
     },
     "execution_count": 79,
     "metadata": {},
     "output_type": "execute_result"
    }
   ],
   "source": [
    "EX.args[0].subs({x:y,z:a})"
   ]
  },
  {
   "cell_type": "code",
   "execution_count": null,
   "metadata": {},
   "outputs": [
    {
     "data": {
      "text/latex": [
       "$\\displaystyle x \\left(2 + z\\right) + \\left(2 + z\\right) x$"
      ],
      "text/plain": [
       "x*(2 + z) + (2 + z)*x"
      ]
     },
     "execution_count": 81,
     "metadata": {},
     "output_type": "execute_result"
    }
   ],
   "source": [
    "EX.simplify()"
   ]
  },
  {
   "cell_type": "code",
   "execution_count": null,
   "metadata": {},
   "outputs": [],
   "source": [
    "from sympy.simplify import separatevars\n",
    "L=separatevars(EX,symbols=(x,z),dict=True)"
   ]
  },
  {
   "cell_type": "code",
   "execution_count": null,
   "metadata": {},
   "outputs": [
    {
     "data": {
      "text/plain": [
       "True"
      ]
     },
     "execution_count": 94,
     "metadata": {},
     "output_type": "execute_result"
    }
   ],
   "source": [
    "L is None"
   ]
  },
  {
   "cell_type": "code",
   "execution_count": null,
   "metadata": {},
   "outputs": [
    {
     "data": {
      "text/latex": [
       "$\\displaystyle 4 x + x z + z x$"
      ],
      "text/plain": [
       "4*x + x*z + z*x"
      ]
     },
     "execution_count": 97,
     "metadata": {},
     "output_type": "execute_result"
    }
   ],
   "source": [
    "EX.expand()"
   ]
  },
  {
   "cell_type": "code",
   "execution_count": 14,
   "metadata": {},
   "outputs": [],
   "source": [
    "import sympy\n",
    "x = sympy.symbols('x')\n",
    "f = sympy.Piecewise((1,x>0),(0,True))"
   ]
  },
  {
   "cell_type": "code",
   "execution_count": 15,
   "metadata": {},
   "outputs": [],
   "source": [
    "ff = sympy.Piecewise((A,x>0),(0,True))"
   ]
  },
  {
   "cell_type": "code",
   "execution_count": 16,
   "metadata": {},
   "outputs": [
    {
     "data": {
      "text/latex": [
       "$\\displaystyle \\begin{cases} A z & \\text{for}\\: x > 0 \\wedge y > 0 \\\\0 & \\text{otherwise} \\end{cases}$"
      ],
      "text/plain": [
       "Piecewise((A*z, (x > 0) & (y > 0)), (0, True))"
      ]
     },
     "execution_count": 16,
     "metadata": {},
     "output_type": "execute_result"
    }
   ],
   "source": [
    "A = sympy.symbols('A')\n",
    "y,z = sympy.symbols('y,z')\n",
    "fff = sympy.Piecewise((A*x+y,x>0),(0,x<=0))\n",
    "fff\n",
    "\n",
    "gg = sympy.Piecewise((A*z,y>0),(0,True))\n",
    "ggg=(f*gg).simplify()\n",
    "ggg"
   ]
  },
  {
   "cell_type": "code",
   "execution_count": 21,
   "metadata": {},
   "outputs": [],
   "source": [
    "def numerically_evaluate_matrix_elements(func,coordinates,Nmodes):\n",
    "    #remove Coefficients from Mul objects to get the simples form for numerical evaluation. It the simple form has other free symbols raise erorr.\n",
    "    # else evaluate it and multipy it together before returning\n",
    "    return func \n",
    "    raise NotImplementedError()\n",
    "\n",
    "def bipartition_evaluation(Nmodes):\n",
    "    # Matrix evaluation of  <n|V(x)|m> where |n> and |m> are infinite well eigenfunctions (from 0 to Nmodes-1) and V(x) = 1 if x>0 and 0 else\n",
    "    \n",
    "    return sympy.Array(sympy.Matrix.eye(Nmodes))\n",
    "\n",
    "    raise NotImplementedError()\n",
    "\n",
    "def polynomial_evaluation(order,Nmodes):\n",
    "    # Matrix evaluation of  <n|V(x)|m> where |n> and |m> are infinite well eigenfunctions (from 0 to Nmodes-1) and V(x) = x^order\n",
    "    return sympy.Array(order*sympy.Matrix.eye(Nmodes))\n",
    "    raise NotImplementedError()\n",
    "\n",
    "\n",
    "def combine_tensors(tensor_dict,Nmodes):\n",
    "    print(tensor_dict)\n",
    "    position_syms = sympy.symbols('x,y,z')\n",
    "    tensor_list = [tensor_dict[p] for p in position_syms]\n",
    "    return sympy.tensorproduct(*tensor_list)    \n",
    "\n",
    "from typing import Iterable\n",
    "def split_up_multivariate_polynomial(poly:sympy.polys.Poly,symbols:Iterable):\n",
    "    from sympy import polys\n",
    "    exprs = ((tuple(),poly),) # each element is a term in the polynomial represented by tuple containin tuple of orders and the coefficient. orders are ordered according to ordering of symbols. \n",
    "    symbols_list = list(symbols)\n",
    "    while len(symbols_list):\n",
    "        sym = symbols_list.pop(0)\n",
    "        new_exprs = []\n",
    "        for expr in exprs:\n",
    "            if expr[1].is_constant(sym):\n",
    "                new_exprs.append((expr[0]+(0,),expr[1]))\n",
    "                continue \n",
    "            # treat all the expressions in expres as univariate polynomial in sym (and all other symbols as constants)\n",
    "            univariate_expr = polys.Poly(expr[1],sym)#domain=domain)\n",
    "            new_exprs.extend(((expr[0]+t[0],t[1]) for t in univariate_expr.all_terms()))\n",
    "        exprs = new_exprs\n",
    "        \n",
    "    return [ e for e in exprs if e[1]!=0]\n",
    "\n"
   ]
  },
  {
   "cell_type": "code",
   "execution_count": 23,
   "metadata": {},
   "outputs": [
    {
     "ename": "PolynomialError",
     "evalue": "non-commutative expressions are not supported",
     "output_type": "error",
     "traceback": [
      "\u001b[0;31m---------------------------------------------------------------------------\u001b[0m",
      "\u001b[0;31mPolynomialError\u001b[0m                           Traceback (most recent call last)",
      "Cell \u001b[0;32mIn[23], line 10\u001b[0m\n\u001b[1;32m      7\u001b[0m expression \u001b[39m=\u001b[39m kx\u001b[39m*\u001b[39m\u001b[39m*\u001b[39m\u001b[39m2\u001b[39m\u001b[39m+\u001b[39m\u001b[39m2\u001b[39m\u001b[39m*\u001b[39mky\u001b[39m*\u001b[39m\u001b[39m*\u001b[39m\u001b[39m2\u001b[39m\u001b[39m+\u001b[39m\u001b[39m3\u001b[39m\u001b[39m*\u001b[39mkz\u001b[39m*\u001b[39m\u001b[39m*\u001b[39m\u001b[39m2\u001b[39m\u001b[39m+\u001b[39m\u001b[39m4\u001b[39m\u001b[39m*\u001b[39mkx\u001b[39m*\u001b[39mky\u001b[39m*\u001b[39mV\u001b[39m+\u001b[39m\u001b[39m5\u001b[39m\u001b[39m*\u001b[39mky\u001b[39m*\u001b[39mkz\u001b[39m*\u001b[39mW \u001b[39m+\u001b[39m \u001b[39m6\u001b[39m\u001b[39m*\u001b[39mkx\u001b[39m*\u001b[39mky\u001b[39m*\u001b[39mkz\n\u001b[1;32m      9\u001b[0m E\u001b[39m=\u001b[39msplit_up_multivariate_polynomial(polynomial,(x,y,z))\n\u001b[0;32m---> 10\u001b[0m EE\u001b[39m=\u001b[39msplit_up_multivariate_polynomial(expression,(x,y,z,kx,ky,kz,V,W))\n",
      "Cell \u001b[0;32mIn[21], line 39\u001b[0m, in \u001b[0;36msplit_up_multivariate_polynomial\u001b[0;34m(poly, symbols)\u001b[0m\n\u001b[1;32m     37\u001b[0m         \u001b[39mcontinue\u001b[39;00m \n\u001b[1;32m     38\u001b[0m     \u001b[39m# treat all the expressions in expres as univariate polynomial in sym (and all other symbols as constants)\u001b[39;00m\n\u001b[0;32m---> 39\u001b[0m     univariate_expr \u001b[39m=\u001b[39m polys\u001b[39m.\u001b[39;49mPoly(expr[\u001b[39m1\u001b[39;49m],sym)\u001b[39m#domain=domain)\u001b[39;00m\n\u001b[1;32m     40\u001b[0m     new_exprs\u001b[39m.\u001b[39mextend(((expr[\u001b[39m0\u001b[39m]\u001b[39m+\u001b[39mt[\u001b[39m0\u001b[39m],t[\u001b[39m1\u001b[39m]) \u001b[39mfor\u001b[39;00m t \u001b[39min\u001b[39;00m univariate_expr\u001b[39m.\u001b[39mall_terms()))\n\u001b[1;32m     41\u001b[0m exprs \u001b[39m=\u001b[39m new_exprs\n",
      "File \u001b[0;32m~/miniconda3/envs/Germanium_Spins_FE/lib/python3.10/site-packages/sympy/polys/polytools.py:182\u001b[0m, in \u001b[0;36mPoly.__new__\u001b[0;34m(cls, rep, *gens, **args)\u001b[0m\n\u001b[1;32m    180\u001b[0m     \u001b[39mreturn\u001b[39;00m \u001b[39mcls\u001b[39m\u001b[39m.\u001b[39m_from_poly(rep, opt)\n\u001b[1;32m    181\u001b[0m \u001b[39melse\u001b[39;00m:\n\u001b[0;32m--> 182\u001b[0m     \u001b[39mreturn\u001b[39;00m \u001b[39mcls\u001b[39;49m\u001b[39m.\u001b[39;49m_from_expr(rep, opt)\n",
      "File \u001b[0;32m~/miniconda3/envs/Germanium_Spins_FE/lib/python3.10/site-packages/sympy/polys/polytools.py:311\u001b[0m, in \u001b[0;36mPoly._from_expr\u001b[0;34m(cls, rep, opt)\u001b[0m\n\u001b[1;32m    308\u001b[0m \u001b[39m@classmethod\u001b[39m\n\u001b[1;32m    309\u001b[0m \u001b[39mdef\u001b[39;00m \u001b[39m_from_expr\u001b[39m(\u001b[39mcls\u001b[39m, rep, opt):\n\u001b[1;32m    310\u001b[0m     \u001b[39m\"\"\"Construct a polynomial from an expression. \"\"\"\u001b[39;00m\n\u001b[0;32m--> 311\u001b[0m     rep, opt \u001b[39m=\u001b[39m _dict_from_expr(rep, opt)\n\u001b[1;32m    312\u001b[0m     \u001b[39mreturn\u001b[39;00m \u001b[39mcls\u001b[39m\u001b[39m.\u001b[39m_from_dict(rep, opt)\n",
      "File \u001b[0;32m~/miniconda3/envs/Germanium_Spins_FE/lib/python3.10/site-packages/sympy/polys/polyutils.py:348\u001b[0m, in \u001b[0;36m_dict_from_expr\u001b[0;34m(expr, opt)\u001b[0m\n\u001b[1;32m    346\u001b[0m \u001b[39m\"\"\"Transform an expression into a multinomial form. \"\"\"\u001b[39;00m\n\u001b[1;32m    347\u001b[0m \u001b[39mif\u001b[39;00m expr\u001b[39m.\u001b[39mis_commutative \u001b[39mis\u001b[39;00m \u001b[39mFalse\u001b[39;00m:\n\u001b[0;32m--> 348\u001b[0m     \u001b[39mraise\u001b[39;00m PolynomialError(\u001b[39m'\u001b[39m\u001b[39mnon-commutative expressions are not supported\u001b[39m\u001b[39m'\u001b[39m)\n\u001b[1;32m    350\u001b[0m \u001b[39mdef\u001b[39;00m \u001b[39m_is_expandable_pow\u001b[39m(expr):\n\u001b[1;32m    351\u001b[0m     \u001b[39mreturn\u001b[39;00m (expr\u001b[39m.\u001b[39mis_Pow \u001b[39mand\u001b[39;00m expr\u001b[39m.\u001b[39mexp\u001b[39m.\u001b[39mis_positive \u001b[39mand\u001b[39;00m expr\u001b[39m.\u001b[39mexp\u001b[39m.\u001b[39mis_Integer\n\u001b[1;32m    352\u001b[0m             \u001b[39mand\u001b[39;00m expr\u001b[39m.\u001b[39mbase\u001b[39m.\u001b[39mis_Add)\n",
      "\u001b[0;31mPolynomialError\u001b[0m: non-commutative expressions are not supported"
     ]
    }
   ],
   "source": [
    "_a,_b,_c = sympy.symbols('a,b,c')\n",
    "polynomial = x**2+y**2+z**3+x*y*z+sympy.sin(_a)*x+_b*z*y+x*y*z+_c*z**4*x**2\n",
    "\n",
    "kx,ky,kz = sympy.symbols('k_{x},k_{y},k_{z}',commutative=False)\n",
    "V,W = sympy.symbols('V(x),W(x)')\n",
    "\n",
    "expression = kx**2+2*ky**2+3*kz**2+4*kx*ky*V+5*ky*kz*W + 6*kx*ky*kz\n",
    "\n",
    "E=split_up_multivariate_polynomial(polynomial,(x,y,z))\n",
    "EE=split_up_multivariate_polynomial(expression,(x,y,z,kx,ky,kz,V,W))\n"
   ]
  },
  {
   "cell_type": "code",
   "execution_count": 315,
   "metadata": {},
   "outputs": [
    {
     "data": {
      "text/plain": [
       "[((0, 0, 0, 2, 0, 0, 0, 0), 1),\n",
       " ((0, 0, 0, 1, 1, 1, 0, 0), 6),\n",
       " ((0, 0, 0, 1, 1, 0, 1, 0), 4),\n",
       " ((0, 0, 0, 0, 2, 0, 0, 0), 2),\n",
       " ((0, 0, 0, 0, 1, 1, 0, 1), 5),\n",
       " ((0, 0, 0, 0, 0, 2, 0, 0), 3)]"
      ]
     },
     "execution_count": 315,
     "metadata": {},
     "output_type": "execute_result"
    }
   ],
   "source": [
    "EE"
   ]
  },
  {
   "cell_type": "code",
   "execution_count": 299,
   "metadata": {},
   "outputs": [
    {
     "data": {
      "text/plain": [
       "(x**2, y**2, z**3, x*sin(a), b*y*z, c*x**2*z**4, 2*x*y*z)"
      ]
     },
     "execution_count": 299,
     "metadata": {},
     "output_type": "execute_result"
    }
   ],
   "source": [
    "polynomial.args"
   ]
  },
  {
   "cell_type": "code",
   "execution_count": 301,
   "metadata": {},
   "outputs": [
    {
     "name": "stdout",
     "output_type": "stream",
     "text": [
      "F {}\n",
      "G {F: Piecewise((A*x + y, x > 0), (0, True))}\n",
      "{x: [[1]], y: [[1, 0], [0, 1]], z: [[1, 0, 0], [0, 1, 0], [0, 0, 1]]}\n",
      "(1, 1, 2, 2, 3, 3)\n",
      "H {F: Piecewise((A*x + y, x > 0), (0, True)), G: [[[[[[A, 0, 0], [0, A, 0], [0, 0, A]], [[0, 0, 0], [0, 0, 0], [0, 0, 0]]], [[[0, 0, 0], [0, 0, 0], [0, 0, 0]], [[A, 0, 0], [0, A, 0], [0, 0, A]]]]]]}\n",
      "H\n",
      "I {F: Piecewise((A*x + y, x > 0), (0, True)), G: [[[[[[A, 0, 0], [0, A, 0], [0, 0, A]], [[0, 0, 0], [0, 0, 0], [0, 0, 0]]], [[[0, 0, 0], [0, 0, 0], [0, 0, 0]], [[A, 0, 0], [0, A, 0], [0, 0, A]]]]]], H: A}\n",
      "{x: [[2]], y: [[1, 0], [0, 1]], z: [[1, 0, 0], [0, 1, 0], [0, 0, 1]]}\n",
      "{x: [[1]], y: [[2, 0], [0, 2]], z: [[1, 0, 0], [0, 1, 0], [0, 0, 1]]}\n",
      "{x: [[1]], y: [[1, 0], [0, 1]], z: [[3, 0, 0], [0, 3, 0], [0, 0, 3]]}\n",
      "{x: [[1]], y: [[1, 0], [0, 1]], z: [[1, 0, 0], [0, 1, 0], [0, 0, 1]]}\n",
      "{x: [[1]], y: [[1, 0], [0, 1]], z: [[1, 0, 0], [0, 1, 0], [0, 0, 1]]}\n",
      "{x: [[2]], y: [[1, 0], [0, 1]], z: [[4, 0, 0], [0, 4, 0], [0, 0, 4]]}\n",
      "{x: [[1]], y: [[1, 0], [0, 1]], z: [[1, 0, 0], [0, 1, 0], [0, 0, 1]]}\n",
      "(1, 1, 2, 2, 3, 3)\n"
     ]
    }
   ],
   "source": [
    "\n",
    "F,G,H,I=sympy.symbols('F,G,H,I')\n",
    "functions_dict = {F:fff,G:ggg,H:ff,I:polynomial}\n",
    "position_symbols = sympy.symbols('x,y,z')\n",
    "\n",
    "atomic_relations = ((x>0,x>=0),(y>0,y>=0),(z>0,z>=0))\n",
    "\n",
    "valid_relations = {r[0] for r in atomic_relations}\n",
    "valid_relations.update(r[1] for r in atomic_relations)\n",
    "for i in range(3):\n",
    "    j = (i+1)%3\n",
    "    for e in range(2):\n",
    "        for f in range(2):\n",
    "            valid_relations.add(sympy.And(atomic_relations[i][e],atomic_relations[j][f]))\n",
    "\n",
    "for i in range(2):\n",
    "    for j in range(2):\n",
    "        for k in range(2):\n",
    "            valid_relations.add(sympy.And(atomic_relations[0][i],atomic_relations[1][j],atomic_relations[2][k]))\n",
    "\n",
    "Nmodes = [1,2,3]\n",
    "\n",
    "from sympy.polys import degree_list,PolynomialError\n",
    "\n",
    "matrix_expressions = {}\n",
    "for sym,func in functions_dict.items():\n",
    "    print(sym,matrix_expressions)\n",
    "    func = sympy.sympify(func)\n",
    "    bipartition_component = None\n",
    "    direction_evals = {}\n",
    "    if isinstance(func,sympy.Piecewise):\n",
    "        for arg in func.args:\n",
    "            if arg[1] in valid_relations:\n",
    "                present_syms = arg[1].free_symbols.intersection(set(position_symbols))\n",
    "                if not present_syms.intersection(arg[0].free_symbols):\n",
    "                    # evaluate the bipartition directions analytically\n",
    "                    direction_evals.update({p:bipartition_evaluation(Nmodes[position_symbols.index(p)]) for p in present_syms})\n",
    "                    func = arg[0] # continue with the coefficient to see if it is analytically evaluatable or not\n",
    "                    if func.is_constant(*position_symbols):\n",
    "                        print(sym)\n",
    "                        continue\n",
    "                    break\n",
    "        else:\n",
    "            # we have to numerically evaluate everything\n",
    "            matrix_expressions[sym] = numerically_evaluate_matrix_elements(func,position_symbols,Nmodes)\n",
    "            continue\n",
    "        \n",
    "    # Decompose into terms and check whether the terms are polynomials in the coordinates:\n",
    "    matrix_terms = []\n",
    "    terms = (func,) if not isinstance(func,sympy.Add) else func.args\n",
    "    for term in terms:\n",
    "        is_poly = []\n",
    "        not_poly = []\n",
    "        for i,p in enumerate(position_symbols):\n",
    "            if term.is_polynomial(p):\n",
    "                is_poly.append((i,p))\n",
    "            else:\n",
    "                not_poly.append((i,p))\n",
    "                \n",
    "        poly_coeffs = split_up_multivariate_polynomial(term,[p[1] for p in is_poly])    \n",
    "        # for each of these, if the coefficient depends on the remaining position_syms we evaluate the coefficients numerically:\n",
    "        # for the polynomial parts we construct the correct matrix\n",
    "        for i,coeff in enumerate(poly_coeffs):\n",
    "            coeff = list(coeff)\n",
    "            if not coeff[1].is_constant(*[p[1] for p in not_poly]):\n",
    "                coeff[1] = numerically_evaluate_matrix_elements(coeff[1],not_poly,Nmodes=[Nmodes[p[0]] for p in not_poly])\n",
    "            \n",
    "            matrices = [polynomial_evaluation(coeff[0][i],Nmodes=Nmodes[is_poly[i][0]]) if coeff[0][i] != 0 else None  for i in range(len(is_poly)) ]\n",
    "            if not_poly:\n",
    "                combined = None\n",
    "                raise NotImplementedError()\n",
    "                # combine tensors (coefficient is alo a tensor so take care that the ordering is correct)\n",
    "            else:\n",
    "                # combine the matrices into a tensor and multiply by coefficient\n",
    "                for i,n in enumerate(Nmodes):\n",
    "                    if matrices[i] is None:\n",
    "                        matrices[i] = sympy.Array(sympy.Matrix.eye(n)) # ID for all independent directions\n",
    "                combined = coeff[1]*combine_tensors({p[1]:matrices[p[0]] for p in is_poly },Nmodes=[Nmodes[p[0]] for p in is_poly])\n",
    "            \n",
    "            matrix_terms.append(combined)\n",
    "    #matrix_expressions[sym]=matrix_terms\n",
    "    print(matrix_terms[0].shape)\n",
    "    big_mat = sympy.tensor.ImmutableDenseNDimArray.zeros(*matrix_terms[0].shape)\n",
    "    for mat in matrix_terms:\n",
    "        big_mat = big_mat + mat\n",
    "    matrix_expressions[sym] = big_mat\n",
    "    \n",
    "    "
   ]
  },
  {
   "cell_type": "code",
   "execution_count": 302,
   "metadata": {},
   "outputs": [
    {
     "data": {
      "text/plain": [
       "({F: Piecewise((A*x + y, x > 0), (0, True)),\n",
       "  G: [[[[[[A, 0, 0], [0, A, 0], [0, 0, A]], [[0, 0, 0], [0, 0, 0], [0, 0, 0]]], [[[0, 0, 0], [0, 0, 0], [0, 0, 0]], [[A, 0, 0], [0, A, 0], [0, 0, A]]]]]],\n",
       "  H: A,\n",
       "  I: [[[[[[b + 8*c + sin(a) + 9, 0, 0], [0, b + 8*c + sin(a) + 9, 0], [0, 0, b + 8*c + sin(a) + 9]], [[0, 0, 0], [0, 0, 0], [0, 0, 0]]], [[[0, 0, 0], [0, 0, 0], [0, 0, 0]], [[b + 8*c + sin(a) + 9, 0, 0], [0, b + 8*c + sin(a) + 9, 0], [0, 0, b + 8*c + sin(a) + 9]]]]]]},\n",
       " {F: Piecewise((A*x + y, x > 0), (0, True)),\n",
       "  G: Piecewise((A*z, (x > 0) & (y > 0)), (0, True)),\n",
       "  H: Piecewise((A, x > 0), (0, True)),\n",
       "  I: b*y*z + c*x**2*z**4 + x**2 + 2*x*y*z + x*sin(a) + y**2 + z**3})"
      ]
     },
     "execution_count": 302,
     "metadata": {},
     "output_type": "execute_result"
    }
   ],
   "source": [
    "matrix_expressions,functions_dict\n"
   ]
  },
  {
   "cell_type": "code",
   "execution_count": 304,
   "metadata": {},
   "outputs": [
    {
     "data": {
      "text/latex": [
       "$\\displaystyle \\left[\\left[\\begin{matrix}\\left[\\begin{matrix}\\left[\\begin{matrix}A & 0 & 0\\\\0 & A & 0\\\\0 & 0 & A\\end{matrix}\\right] & \\left[\\begin{matrix}0 & 0 & 0\\\\0 & 0 & 0\\\\0 & 0 & 0\\end{matrix}\\right]\\\\\\left[\\begin{matrix}0 & 0 & 0\\\\0 & 0 & 0\\\\0 & 0 & 0\\end{matrix}\\right] & \\left[\\begin{matrix}A & 0 & 0\\\\0 & A & 0\\\\0 & 0 & A\\end{matrix}\\right]\\end{matrix}\\right]\\end{matrix}\\right]\\right]$"
      ],
      "text/plain": [
       "[[[[[[A, 0, 0], [0, A, 0], [0, 0, A]], [[0, 0, 0], [0, 0, 0], [0, 0, 0]]], [[[0, 0, 0], [0, 0, 0], [0, 0, 0]], [[A, 0, 0], [0, A, 0], [0, 0, A]]]]]]"
      ]
     },
     "execution_count": 304,
     "metadata": {},
     "output_type": "execute_result"
    }
   ],
   "source": [
    "matrix_expressions[G]"
   ]
  },
  {
   "cell_type": "code",
   "execution_count": 258,
   "metadata": {},
   "outputs": [
    {
     "data": {
      "text/latex": [
       "$\\displaystyle \\left[\\begin{matrix}1 & 0 & 0\\\\0 & 1 & 0\\\\0 & 0 & 1\\end{matrix}\\right]$"
      ],
      "text/plain": [
       "Matrix([\n",
       "[1, 0, 0],\n",
       "[0, 1, 0],\n",
       "[0, 0, 1]])"
      ]
     },
     "execution_count": 258,
     "metadata": {},
     "output_type": "execute_result"
    }
   ],
   "source": [
    "sympy.Matrix.eye(3)"
   ]
  },
  {
   "cell_type": "code",
   "execution_count": 75,
   "metadata": {},
   "outputs": [],
   "source": [
    "a = {1,2,3}\n",
    "b = {2,4}\n",
    "c = {4}\n",
    "if a.intersection(c):\n",
    "    print('y')"
   ]
  },
  {
   "cell_type": "code",
   "execution_count": 192,
   "metadata": {},
   "outputs": [
    {
     "data": {
      "text/plain": [
       "<module 'sympy.tensor' from '/home/oliver/miniconda3/envs/Germanium_Spins_FE/lib/python3.10/site-packages/sympy/tensor/__init__.py'>"
      ]
     },
     "execution_count": 192,
     "metadata": {},
     "output_type": "execute_result"
    }
   ],
   "source": [
    "sympy.tensor"
   ]
  },
  {
   "cell_type": "code",
   "execution_count": null,
   "metadata": {},
   "outputs": [],
   "source": [
    "\n",
    "for arg in fff.args:\n",
    "    for s in (s for s in arg.free_symbols if s in position_symbols):\n",
    "        if arg[1] in ((x>0),(s>=0),()):\n",
    "            coeff = arg[0]\n",
    "\n",
    "print(coeff)\n",
    "(fff/coeff).simplify()"
   ]
  },
  {
   "cell_type": "code",
   "execution_count": 37,
   "metadata": {},
   "outputs": [
    {
     "data": {
      "text/latex": [
       "$\\displaystyle \\begin{cases} A & \\text{for}\\: x > 0 \\\\0 & \\text{otherwise} \\end{cases}$"
      ],
      "text/plain": [
       "Piecewise((A, x > 0), (0, True))"
      ]
     },
     "execution_count": 37,
     "metadata": {},
     "output_type": "execute_result"
    }
   ],
   "source": [
    "fff"
   ]
  },
  {
   "cell_type": "code",
   "execution_count": 33,
   "metadata": {},
   "outputs": [
    {
     "data": {
      "text/plain": [
       "{x}"
      ]
     },
     "execution_count": 33,
     "metadata": {},
     "output_type": "execute_result"
    }
   ],
   "source": [
    "fff.args[0][1].free_symbols"
   ]
  },
  {
   "cell_type": "code",
   "execution_count": null,
   "metadata": {},
   "outputs": [],
   "source": [
    "x,y,z = sympy.symbols('x,y,z')"
   ]
  },
  {
   "cell_type": "code",
   "execution_count": null,
   "metadata": {},
   "outputs": [],
   "source": [
    "F = x*y+2"
   ]
  },
  {
   "cell_type": "code",
   "execution_count": 52,
   "metadata": {},
   "outputs": [],
   "source": [
    "ff = sympy.lambdify((x,y,z),F)"
   ]
  },
  {
   "cell_type": "code",
   "execution_count": 53,
   "metadata": {},
   "outputs": [
    {
     "data": {
      "text/latex": [
       "$\\displaystyle x y + 2$"
      ],
      "text/plain": [
       "x*y + 2"
      ]
     },
     "execution_count": 53,
     "metadata": {},
     "output_type": "execute_result"
    }
   ],
   "source": [
    "F"
   ]
  },
  {
   "cell_type": "code",
   "execution_count": 102,
   "metadata": {},
   "outputs": [
    {
     "data": {
      "text/latex": [
       "$\\displaystyle \\left[\\begin{matrix}z & 2 z\\\\x z & y z\\end{matrix}\\right]$"
      ],
      "text/plain": [
       "[[z, 2*z], [x*z, y*z]]"
      ]
     },
     "execution_count": 102,
     "metadata": {},
     "output_type": "execute_result"
    }
   ],
   "source": [
    "A = sympy.Array([[1,2],[x,y]])\n",
    "A*z"
   ]
  },
  {
   "cell_type": "code",
   "execution_count": 60,
   "metadata": {},
   "outputs": [
    {
     "data": {
      "text/plain": [
       "array([[z + 2, 2*z + 2],\n",
       "       [z**2 + 2, 2]], dtype=object)"
      ]
     },
     "execution_count": 60,
     "metadata": {},
     "output_type": "execute_result"
    }
   ],
   "source": [
    "sympy.lambdify((x,y),F)(z,A)"
   ]
  },
  {
   "cell_type": "code",
   "execution_count": 36,
   "metadata": {},
   "outputs": [],
   "source": [
    "from unittest.mock import MagicMock\n",
    "\n",
    "F = MagicMock(return_value=2)"
   ]
  },
  {
   "cell_type": "code",
   "execution_count": 46,
   "metadata": {},
   "outputs": [
    {
     "data": {
      "text/plain": [
       "2"
      ]
     },
     "execution_count": 46,
     "metadata": {},
     "output_type": "execute_result"
    }
   ],
   "source": [
    "F(1)"
   ]
  },
  {
   "cell_type": "code",
   "execution_count": 47,
   "metadata": {},
   "outputs": [
    {
     "data": {
      "text/plain": [
       "True"
      ]
     },
     "execution_count": 47,
     "metadata": {},
     "output_type": "execute_result"
    }
   ],
   "source": [
    "F.called"
   ]
  },
  {
   "cell_type": "code",
   "execution_count": 44,
   "metadata": {},
   "outputs": [],
   "source": [
    "F.reset_mock()"
   ]
  },
  {
   "cell_type": "code",
   "execution_count": 43,
   "metadata": {},
   "outputs": [
    {
     "data": {
      "text/plain": [
       "2"
      ]
     },
     "execution_count": 43,
     "metadata": {},
     "output_type": "execute_result"
    }
   ],
   "source": []
  },
  {
   "cell_type": "code",
   "execution_count": 48,
   "metadata": {},
   "outputs": [
    {
     "data": {
      "text/plain": [
       "<MagicMock id='140254430993072'>"
      ]
     },
     "execution_count": 48,
     "metadata": {},
     "output_type": "execute_result"
    }
   ],
   "source": [
    "F"
   ]
  },
  {
   "cell_type": "code",
   "execution_count": 61,
   "metadata": {},
   "outputs": [],
   "source": [
    "import inspect\n",
    "def foo(x,y,z):\n",
    "    return x+y+z"
   ]
  },
  {
   "cell_type": "code",
   "execution_count": 64,
   "metadata": {},
   "outputs": [
    {
     "data": {
      "text/plain": [
       "3"
      ]
     },
     "execution_count": 64,
     "metadata": {},
     "output_type": "execute_result"
    }
   ],
   "source": [
    "len(inspect.signature(foo).parameters)"
   ]
  },
  {
   "cell_type": "code",
   "execution_count": 127,
   "metadata": {},
   "outputs": [],
   "source": [
    "from sympy import polys,CC\n",
    "\n",
    "K=CC.poly_ring(*(x,y))"
   ]
  },
  {
   "cell_type": "code",
   "execution_count": 126,
   "metadata": {},
   "outputs": [
    {
     "data": {
      "text/plain": [
       "CC[x,y]"
      ]
     },
     "execution_count": 126,
     "metadata": {},
     "output_type": "execute_result"
    }
   ],
   "source": [
    "K.poly_ring(*(x,y))"
   ]
  },
  {
   "cell_type": "code",
   "execution_count": null,
   "metadata": {},
   "outputs": [],
   "source": [
    "CC.__getitem__()"
   ]
  },
  {
   "cell_type": "code",
   "execution_count": 190,
   "metadata": {},
   "outputs": [
    {
     "ename": "AttributeError",
     "evalue": "'Poly' object has no attribute 'is_constant'",
     "output_type": "error",
     "traceback": [
      "\u001b[0;31m---------------------------------------------------------------------------\u001b[0m",
      "\u001b[0;31mAttributeError\u001b[0m                            Traceback (most recent call last)",
      "Cell \u001b[0;32mIn[190], line 2\u001b[0m\n\u001b[1;32m      1\u001b[0m P\u001b[39m=\u001b[39mpolys\u001b[39m.\u001b[39mPoly(x\u001b[39m*\u001b[39m\u001b[39m*\u001b[39m\u001b[39m2\u001b[39m\u001b[39m+\u001b[39m\u001b[39m2\u001b[39m\u001b[39m*\u001b[39mx\u001b[39m-\u001b[39m\u001b[39m1\u001b[39m\u001b[39m+\u001b[39mx\u001b[39m*\u001b[39my\u001b[39m+\u001b[39mz\u001b[39m*\u001b[39m\u001b[39m*\u001b[39m\u001b[39m3\u001b[39m,domain\u001b[39m=\u001b[39mK)\n\u001b[0;32m----> 2\u001b[0m P\u001b[39m.\u001b[39;49mis_constant(x)\n",
      "\u001b[0;31mAttributeError\u001b[0m: 'Poly' object has no attribute 'is_constant'"
     ]
    }
   ],
   "source": [
    "P=polys.Poly(x**2+2*x-1+x*y+z**3,domain=K)\n",
    "P.is_constant(x)"
   ]
  },
  {
   "cell_type": "code",
   "execution_count": 69,
   "metadata": {},
   "outputs": [
    {
     "data": {
      "text/latex": [
       "$\\displaystyle 2$"
      ],
      "text/plain": [
       "2"
      ]
     },
     "execution_count": 69,
     "metadata": {},
     "output_type": "execute_result"
    }
   ],
   "source": [
    "polys.degree(A,x)"
   ]
  },
  {
   "cell_type": "code",
   "execution_count": 70,
   "metadata": {},
   "outputs": [],
   "source": [
    "B = sympy.sin(x)"
   ]
  },
  {
   "cell_type": "code",
   "execution_count": 72,
   "metadata": {},
   "outputs": [
    {
     "ename": "PolynomialError",
     "evalue": "sin(x) contains an element of the set of generators.",
     "output_type": "error",
     "traceback": [
      "\u001b[0;31m---------------------------------------------------------------------------\u001b[0m",
      "\u001b[0;31mKeyError\u001b[0m                                  Traceback (most recent call last)",
      "File \u001b[0;32m~/miniconda3/envs/Germanium_Spins_FE/lib/python3.10/site-packages/sympy/polys/polyutils.py:211\u001b[0m, in \u001b[0;36m_parallel_dict_from_expr_if_gens\u001b[0;34m(exprs, opt)\u001b[0m\n\u001b[1;32m    209\u001b[0m         base, exp \u001b[39m=\u001b[39m decompose_power_rat(factor)\n\u001b[0;32m--> 211\u001b[0m     monom[indices[base]] \u001b[39m=\u001b[39m exp\n\u001b[1;32m    212\u001b[0m \u001b[39mexcept\u001b[39;00m \u001b[39mKeyError\u001b[39;00m:\n",
      "\u001b[0;31mKeyError\u001b[0m: sin(x)",
      "\nDuring handling of the above exception, another exception occurred:\n",
      "\u001b[0;31mPolynomialError\u001b[0m                           Traceback (most recent call last)",
      "Cell \u001b[0;32mIn[72], line 1\u001b[0m\n\u001b[0;32m----> 1\u001b[0m polys\u001b[39m.\u001b[39;49mdegree(B,x)\n",
      "File \u001b[0;32m~/miniconda3/envs/Germanium_Spins_FE/lib/python3.10/site-packages/sympy/polys/polytools.py:4556\u001b[0m, in \u001b[0;36mdegree\u001b[0;34m(f, gen)\u001b[0m\n\u001b[1;32m   4554\u001b[0m             p, _ \u001b[39m=\u001b[39m poly_from_expr(f)\n\u001b[1;32m   4555\u001b[0m         \u001b[39melse\u001b[39;00m:\n\u001b[0;32m-> 4556\u001b[0m             p, _ \u001b[39m=\u001b[39m poly_from_expr(f, gen)\n\u001b[1;32m   4558\u001b[0m \u001b[39mif\u001b[39;00m isNum:\n\u001b[1;32m   4559\u001b[0m     \u001b[39mreturn\u001b[39;00m S\u001b[39m.\u001b[39mZero \u001b[39mif\u001b[39;00m f \u001b[39melse\u001b[39;00m S\u001b[39m.\u001b[39mNegativeInfinity\n",
      "File \u001b[0;32m~/miniconda3/envs/Germanium_Spins_FE/lib/python3.10/site-packages/sympy/polys/polytools.py:4364\u001b[0m, in \u001b[0;36mpoly_from_expr\u001b[0;34m(expr, *gens, **args)\u001b[0m\n\u001b[1;32m   4362\u001b[0m \u001b[39m\"\"\"Construct a polynomial from an expression. \"\"\"\u001b[39;00m\n\u001b[1;32m   4363\u001b[0m opt \u001b[39m=\u001b[39m options\u001b[39m.\u001b[39mbuild_options(gens, args)\n\u001b[0;32m-> 4364\u001b[0m \u001b[39mreturn\u001b[39;00m _poly_from_expr(expr, opt)\n",
      "File \u001b[0;32m~/miniconda3/envs/Germanium_Spins_FE/lib/python3.10/site-packages/sympy/polys/polytools.py:4386\u001b[0m, in \u001b[0;36m_poly_from_expr\u001b[0;34m(expr, opt)\u001b[0m\n\u001b[1;32m   4383\u001b[0m \u001b[39melif\u001b[39;00m opt\u001b[39m.\u001b[39mexpand:\n\u001b[1;32m   4384\u001b[0m     expr \u001b[39m=\u001b[39m expr\u001b[39m.\u001b[39mexpand()\n\u001b[0;32m-> 4386\u001b[0m rep, opt \u001b[39m=\u001b[39m _dict_from_expr(expr, opt)\n\u001b[1;32m   4387\u001b[0m \u001b[39mif\u001b[39;00m \u001b[39mnot\u001b[39;00m opt\u001b[39m.\u001b[39mgens:\n\u001b[1;32m   4388\u001b[0m     \u001b[39mraise\u001b[39;00m PolificationFailed(opt, orig, expr)\n",
      "File \u001b[0;32m~/miniconda3/envs/Germanium_Spins_FE/lib/python3.10/site-packages/sympy/polys/polyutils.py:368\u001b[0m, in \u001b[0;36m_dict_from_expr\u001b[0;34m(expr, opt)\u001b[0m\n\u001b[1;32m    365\u001b[0m         expr \u001b[39m=\u001b[39m expand_mul(expr)\n\u001b[1;32m    367\u001b[0m \u001b[39mif\u001b[39;00m opt\u001b[39m.\u001b[39mgens:\n\u001b[0;32m--> 368\u001b[0m     rep, gens \u001b[39m=\u001b[39m _dict_from_expr_if_gens(expr, opt)\n\u001b[1;32m    369\u001b[0m \u001b[39melse\u001b[39;00m:\n\u001b[1;32m    370\u001b[0m     rep, gens \u001b[39m=\u001b[39m _dict_from_expr_no_gens(expr, opt)\n",
      "File \u001b[0;32m~/miniconda3/envs/Germanium_Spins_FE/lib/python3.10/site-packages/sympy/polys/polyutils.py:307\u001b[0m, in \u001b[0;36m_dict_from_expr_if_gens\u001b[0;34m(expr, opt)\u001b[0m\n\u001b[1;32m    305\u001b[0m \u001b[39mdef\u001b[39;00m \u001b[39m_dict_from_expr_if_gens\u001b[39m(expr, opt):\n\u001b[1;32m    306\u001b[0m     \u001b[39m\"\"\"Transform an expression into a multinomial form given generators. \"\"\"\u001b[39;00m\n\u001b[0;32m--> 307\u001b[0m     (poly,), gens \u001b[39m=\u001b[39m _parallel_dict_from_expr_if_gens((expr,), opt)\n\u001b[1;32m    308\u001b[0m     \u001b[39mreturn\u001b[39;00m poly, gens\n",
      "File \u001b[0;32m~/miniconda3/envs/Germanium_Spins_FE/lib/python3.10/site-packages/sympy/polys/polyutils.py:216\u001b[0m, in \u001b[0;36m_parallel_dict_from_expr_if_gens\u001b[0;34m(exprs, opt)\u001b[0m\n\u001b[1;32m    214\u001b[0m                 coeff\u001b[39m.\u001b[39mappend(factor)\n\u001b[1;32m    215\u001b[0m             \u001b[39melse\u001b[39;00m:\n\u001b[0;32m--> 216\u001b[0m                 \u001b[39mraise\u001b[39;00m PolynomialError(\u001b[39m\"\u001b[39m\u001b[39m%s\u001b[39;00m\u001b[39m contains an element of \u001b[39m\u001b[39m\"\u001b[39m\n\u001b[1;32m    217\u001b[0m                                       \u001b[39m\"\u001b[39m\u001b[39mthe set of generators.\u001b[39m\u001b[39m\"\u001b[39m \u001b[39m%\u001b[39m factor)\n\u001b[1;32m    219\u001b[0m monom \u001b[39m=\u001b[39m \u001b[39mtuple\u001b[39m(monom)\n\u001b[1;32m    221\u001b[0m \u001b[39mif\u001b[39;00m monom \u001b[39min\u001b[39;00m poly:\n",
      "\u001b[0;31mPolynomialError\u001b[0m: sin(x) contains an element of the set of generators."
     ]
    }
   ],
   "source": [
    "polys.degree(B,x)"
   ]
  },
  {
   "cell_type": "code",
   "execution_count": 74,
   "metadata": {},
   "outputs": [],
   "source": [
    "C=sympy.Piecewise((1,x>0),(0,True))"
   ]
  },
  {
   "cell_type": "code",
   "execution_count": 77,
   "metadata": {},
   "outputs": [
    {
     "ename": "PolynomialError",
     "evalue": "Piecewise((1, x > 0), (0, True)) contains an element of the set of generators.",
     "output_type": "error",
     "traceback": [
      "\u001b[0;31m---------------------------------------------------------------------------\u001b[0m",
      "\u001b[0;31mKeyError\u001b[0m                                  Traceback (most recent call last)",
      "File \u001b[0;32m~/miniconda3/envs/Germanium_Spins_FE/lib/python3.10/site-packages/sympy/polys/polyutils.py:211\u001b[0m, in \u001b[0;36m_parallel_dict_from_expr_if_gens\u001b[0;34m(exprs, opt)\u001b[0m\n\u001b[1;32m    209\u001b[0m         base, exp \u001b[39m=\u001b[39m decompose_power_rat(factor)\n\u001b[0;32m--> 211\u001b[0m     monom[indices[base]] \u001b[39m=\u001b[39m exp\n\u001b[1;32m    212\u001b[0m \u001b[39mexcept\u001b[39;00m \u001b[39mKeyError\u001b[39;00m:\n",
      "\u001b[0;31mKeyError\u001b[0m: Piecewise((1, x > 0), (0, True))",
      "\nDuring handling of the above exception, another exception occurred:\n",
      "\u001b[0;31mPolynomialError\u001b[0m                           Traceback (most recent call last)",
      "Cell \u001b[0;32mIn[77], line 1\u001b[0m\n\u001b[0;32m----> 1\u001b[0m polys\u001b[39m.\u001b[39;49mdegree(C,x)\n",
      "File \u001b[0;32m~/miniconda3/envs/Germanium_Spins_FE/lib/python3.10/site-packages/sympy/polys/polytools.py:4556\u001b[0m, in \u001b[0;36mdegree\u001b[0;34m(f, gen)\u001b[0m\n\u001b[1;32m   4554\u001b[0m             p, _ \u001b[39m=\u001b[39m poly_from_expr(f)\n\u001b[1;32m   4555\u001b[0m         \u001b[39melse\u001b[39;00m:\n\u001b[0;32m-> 4556\u001b[0m             p, _ \u001b[39m=\u001b[39m poly_from_expr(f, gen)\n\u001b[1;32m   4558\u001b[0m \u001b[39mif\u001b[39;00m isNum:\n\u001b[1;32m   4559\u001b[0m     \u001b[39mreturn\u001b[39;00m S\u001b[39m.\u001b[39mZero \u001b[39mif\u001b[39;00m f \u001b[39melse\u001b[39;00m S\u001b[39m.\u001b[39mNegativeInfinity\n",
      "File \u001b[0;32m~/miniconda3/envs/Germanium_Spins_FE/lib/python3.10/site-packages/sympy/polys/polytools.py:4364\u001b[0m, in \u001b[0;36mpoly_from_expr\u001b[0;34m(expr, *gens, **args)\u001b[0m\n\u001b[1;32m   4362\u001b[0m \u001b[39m\"\"\"Construct a polynomial from an expression. \"\"\"\u001b[39;00m\n\u001b[1;32m   4363\u001b[0m opt \u001b[39m=\u001b[39m options\u001b[39m.\u001b[39mbuild_options(gens, args)\n\u001b[0;32m-> 4364\u001b[0m \u001b[39mreturn\u001b[39;00m _poly_from_expr(expr, opt)\n",
      "File \u001b[0;32m~/miniconda3/envs/Germanium_Spins_FE/lib/python3.10/site-packages/sympy/polys/polytools.py:4386\u001b[0m, in \u001b[0;36m_poly_from_expr\u001b[0;34m(expr, opt)\u001b[0m\n\u001b[1;32m   4383\u001b[0m \u001b[39melif\u001b[39;00m opt\u001b[39m.\u001b[39mexpand:\n\u001b[1;32m   4384\u001b[0m     expr \u001b[39m=\u001b[39m expr\u001b[39m.\u001b[39mexpand()\n\u001b[0;32m-> 4386\u001b[0m rep, opt \u001b[39m=\u001b[39m _dict_from_expr(expr, opt)\n\u001b[1;32m   4387\u001b[0m \u001b[39mif\u001b[39;00m \u001b[39mnot\u001b[39;00m opt\u001b[39m.\u001b[39mgens:\n\u001b[1;32m   4388\u001b[0m     \u001b[39mraise\u001b[39;00m PolificationFailed(opt, orig, expr)\n",
      "File \u001b[0;32m~/miniconda3/envs/Germanium_Spins_FE/lib/python3.10/site-packages/sympy/polys/polyutils.py:368\u001b[0m, in \u001b[0;36m_dict_from_expr\u001b[0;34m(expr, opt)\u001b[0m\n\u001b[1;32m    365\u001b[0m         expr \u001b[39m=\u001b[39m expand_mul(expr)\n\u001b[1;32m    367\u001b[0m \u001b[39mif\u001b[39;00m opt\u001b[39m.\u001b[39mgens:\n\u001b[0;32m--> 368\u001b[0m     rep, gens \u001b[39m=\u001b[39m _dict_from_expr_if_gens(expr, opt)\n\u001b[1;32m    369\u001b[0m \u001b[39melse\u001b[39;00m:\n\u001b[1;32m    370\u001b[0m     rep, gens \u001b[39m=\u001b[39m _dict_from_expr_no_gens(expr, opt)\n",
      "File \u001b[0;32m~/miniconda3/envs/Germanium_Spins_FE/lib/python3.10/site-packages/sympy/polys/polyutils.py:307\u001b[0m, in \u001b[0;36m_dict_from_expr_if_gens\u001b[0;34m(expr, opt)\u001b[0m\n\u001b[1;32m    305\u001b[0m \u001b[39mdef\u001b[39;00m \u001b[39m_dict_from_expr_if_gens\u001b[39m(expr, opt):\n\u001b[1;32m    306\u001b[0m     \u001b[39m\"\"\"Transform an expression into a multinomial form given generators. \"\"\"\u001b[39;00m\n\u001b[0;32m--> 307\u001b[0m     (poly,), gens \u001b[39m=\u001b[39m _parallel_dict_from_expr_if_gens((expr,), opt)\n\u001b[1;32m    308\u001b[0m     \u001b[39mreturn\u001b[39;00m poly, gens\n",
      "File \u001b[0;32m~/miniconda3/envs/Germanium_Spins_FE/lib/python3.10/site-packages/sympy/polys/polyutils.py:216\u001b[0m, in \u001b[0;36m_parallel_dict_from_expr_if_gens\u001b[0;34m(exprs, opt)\u001b[0m\n\u001b[1;32m    214\u001b[0m                 coeff\u001b[39m.\u001b[39mappend(factor)\n\u001b[1;32m    215\u001b[0m             \u001b[39melse\u001b[39;00m:\n\u001b[0;32m--> 216\u001b[0m                 \u001b[39mraise\u001b[39;00m PolynomialError(\u001b[39m\"\u001b[39m\u001b[39m%s\u001b[39;00m\u001b[39m contains an element of \u001b[39m\u001b[39m\"\u001b[39m\n\u001b[1;32m    217\u001b[0m                                       \u001b[39m\"\u001b[39m\u001b[39mthe set of generators.\u001b[39m\u001b[39m\"\u001b[39m \u001b[39m%\u001b[39m factor)\n\u001b[1;32m    219\u001b[0m monom \u001b[39m=\u001b[39m \u001b[39mtuple\u001b[39m(monom)\n\u001b[1;32m    221\u001b[0m \u001b[39mif\u001b[39;00m monom \u001b[39min\u001b[39;00m poly:\n",
      "\u001b[0;31mPolynomialError\u001b[0m: Piecewise((1, x > 0), (0, True)) contains an element of the set of generators."
     ]
    }
   ],
   "source": [
    "polys.degree(C,x)"
   ]
  },
  {
   "cell_type": "code",
   "execution_count": 90,
   "metadata": {},
   "outputs": [
    {
     "ename": "AttributeError",
     "evalue": "module 'sympy' has no attribute 'is_polynomial'",
     "output_type": "error",
     "traceback": [
      "\u001b[0;31m---------------------------------------------------------------------------\u001b[0m",
      "\u001b[0;31mAttributeError\u001b[0m                            Traceback (most recent call last)",
      "Cell \u001b[0;32mIn[90], line 1\u001b[0m\n\u001b[0;32m----> 1\u001b[0m sympy\u001b[39m.\u001b[39;49mis_polynomial()\n",
      "\u001b[0;31mAttributeError\u001b[0m: module 'sympy' has no attribute 'is_polynomial'"
     ]
    }
   ],
   "source": [
    ".is_polynomial()"
   ]
  },
  {
   "cell_type": "code",
   "execution_count": 4,
   "metadata": {},
   "outputs": [],
   "source": [
    "import sympy\n",
    "import numpy as np"
   ]
  },
  {
   "cell_type": "code",
   "execution_count": 6,
   "metadata": {},
   "outputs": [],
   "source": [
    "A = sympy.Array(np.arange(36).reshape(1,1,2,2,3,3))"
   ]
  },
  {
   "cell_type": "code",
   "execution_count": 7,
   "metadata": {},
   "outputs": [],
   "source": [
    "I = sympy.Identity(3)"
   ]
  },
  {
   "cell_type": "code",
   "execution_count": 11,
   "metadata": {},
   "outputs": [
    {
     "data": {
      "text/plain": [
       "sympy.matrices.expressions.matmul.MatMul"
      ]
     },
     "execution_count": 11,
     "metadata": {},
     "output_type": "execute_result"
    }
   ],
   "source": [
    "v = sympy.symbols('V(x)')\n",
    "type(I*v)"
   ]
  },
  {
   "cell_type": "code",
   "execution_count": null,
   "metadata": {},
   "outputs": [],
   "source": []
  },
  {
   "cell_type": "markdown",
   "metadata": {},
   "source": [
    "# Term Permutations\n",
    "**goal:** Given an expression containing $k_x,k_y,k_z,x,y,z,V(x),W(x)$ permute the components of the expression to moe the ks either all the way to the left or all the way to the right."
   ]
  },
  {
   "cell_type": "code",
   "execution_count": 304,
   "metadata": {},
   "outputs": [],
   "source": [
    "import sympy\n",
    "import numpy as np\n",
    "x,y,z,kx,ky,kz,V,W = sympy.symbols('x,y,z,k_x,k_y,k_z,V(x),W(x)',commutative=False) # variables\n",
    "a,b,c = sympy.symbols('a,b,c')"
   ]
  },
  {
   "cell_type": "code",
   "execution_count": 382,
   "metadata": {},
   "outputs": [
    {
     "data": {
      "text/latex": [
       "$\\displaystyle a x z^{2} V(x) k_{x}^{2} k_{y} k_{z}$"
      ],
      "text/plain": [
       "a*x*z**2*V(x)*k_x**2*k_y*k_z"
      ]
     },
     "execution_count": 382,
     "metadata": {},
     "output_type": "execute_result"
    }
   ],
   "source": [
    "term = x*z**2*V*a*kx**2*ky*kz\n",
    "#term = a*V*kx**2\n",
    "term"
   ]
  },
  {
   "cell_type": "markdown",
   "metadata": {},
   "source": [
    "Determine which args of the term have k-dependency"
   ]
  },
  {
   "cell_type": "code",
   "execution_count": 383,
   "metadata": {},
   "outputs": [],
   "source": [
    "is_k_dependent= [not t.is_constant(kx,ky,kz) for t in term.args]"
   ]
  },
  {
   "cell_type": "markdown",
   "metadata": {},
   "source": [
    "Split up the K-dependent terms so that they all contian only one k"
   ]
  },
  {
   "cell_type": "code",
   "execution_count": 384,
   "metadata": {},
   "outputs": [
    {
     "data": {
      "text/plain": [
       "(a, x, z**2, V(x), k_x, k_x, k_y, k_z)"
      ]
     },
     "execution_count": 384,
     "metadata": {},
     "output_type": "execute_result"
    }
   ],
   "source": [
    "expanded=[]\n",
    "for i,t in enumerate(term.args):\n",
    "    if is_k_dependent[i] and t not in (kx,ky,kz):\n",
    "        assert isinstance(t,sympy.Pow)\n",
    "        expanded.extend([t.args[0]]*t.args[1]) # split up powers\n",
    "    else:\n",
    "        expanded.append(t)\n",
    "\n",
    "tuple(expanded)"
   ]
  },
  {
   "cell_type": "markdown",
   "metadata": {},
   "source": [
    "Make function that constructs commutator dict for a specific k and all the symbols in the term. (zero commutator not included). "
   ]
  },
  {
   "cell_type": "code",
   "execution_count": 385,
   "metadata": {},
   "outputs": [],
   "source": [
    "def derivative_name(symbol,pos_sym):\n",
    "    symbol_name = symbol.name[:-3]\n",
    "    if symbol_name[-1] != '}':\n",
    "        return symbol_name + '_{('+pos_sym.name+')}(x)'\n",
    "    else:\n",
    "        import re\n",
    "        derivatives = re.search('_\\{\\((.*)\\)\\}',symbol_name).group(1)\n",
    "        Xs = derivatives.count('x')\n",
    "        Ys = derivatives.count('y')\n",
    "        Zs = derivatives.count('z')\n",
    "        \n",
    "    if pos_sym.name == 'x':\n",
    "        Xs +=1\n",
    "    elif pos_sym.name == 'y':\n",
    "        Ys +=1\n",
    "    else:\n",
    "        Zs +=1\n",
    "    bare_name = re.search('(.*)_{',symbol_name).group(1)\n",
    "    subscript = ('').join(['x']*Xs+['y']*Ys+['z']*Zs)\n",
    "    return bare_name + '_{('+subscript+')}(x)'\n",
    "\n",
    "def determine_commutator(k):\n",
    "    X,Y,Z = sympy.symbols('x,y,z',commutative=False)\n",
    "    conjugate_var = X if k == kx else (Y if k == ky else Z)\n",
    "    def commutator(x):\n",
    "        if isinstance(x,sympy.Mul):\n",
    "            assert(x.args[0] == -1)\n",
    "            x = x.args[1]\n",
    "        if isinstance(x,sympy.Symbol) and x.name[-3:] == '(x)':\n",
    "            return sympy.symbols(derivative_name(x,conjugate_var),commutative=False)\n",
    "        \n",
    "        elif isinstance(x,sympy.Pow) and conjugate_var in x.free_symbols:\n",
    "            return sympy.diff(x,conjugate_var)\n",
    "        elif x == conjugate_var:\n",
    "            return sympy.sympify(1)\n",
    "        else:\n",
    "            return 0\n",
    "    return commutator\n"
   ]
  },
  {
   "cell_type": "markdown",
   "metadata": {},
   "source": [
    "Make function that permutes an arg to a specific position, and takes start and end position adn commutator dict"
   ]
  },
  {
   "cell_type": "code",
   "execution_count": 386,
   "metadata": {},
   "outputs": [
    {
     "data": {
      "text/plain": [
       "([V(x), a, x, z**2, k_x, k_x, k_y, k_z], [[a, -1, z**2, k_x, k_x, k_y, k_z]])"
      ]
     },
     "execution_count": 386,
     "metadata": {},
     "output_type": "execute_result"
    }
   ],
   "source": [
    "def permute_argument(term,start_i,end_i,commutators):\n",
    "    current_i = start_i\n",
    "    additional_terms = []\n",
    "    while current_i != end_i:\n",
    "        direction = np.sign(end_i-current_i) # determine which way to step\n",
    "        this = term[current_i]\n",
    "        neighbor = term[current_i+direction]\n",
    "        if commutators(neighbor) != 0:\n",
    "            added_term = list(term)\n",
    "            added_term[current_i] = direction*commutators(neighbor) # add the commutator  (defined as AB = BA + [A,B]) so moving A to the right is + [A,B] whicle moving it to left is -[A,B]\n",
    "            added_term.pop(current_i+direction) # drop the neighboring term\n",
    "            additional_terms.append(added_term)\n",
    "        # we can just permute them \n",
    "        new_term = list(term)\n",
    "        new_term[current_i] = neighbor\n",
    "        new_term[current_i+direction] = this\n",
    "        term = new_term\n",
    "        current_i = current_i + direction\n",
    "    \n",
    "    return term,additional_terms\n",
    "\n",
    "permute_argument(expanded,3,0,determine_commutator(kx))\n"
   ]
  },
  {
   "cell_type": "code",
   "execution_count": 387,
   "metadata": {},
   "outputs": [
    {
     "data": {
      "text/plain": [
       "{x}"
      ]
     },
     "execution_count": 387,
     "metadata": {},
     "output_type": "execute_result"
    }
   ],
   "source": [
    "f=determine_commutator(kx)\n",
    "f(x**2)\n",
    "(x**2).free_symbols\n"
   ]
  },
  {
   "cell_type": "markdown",
   "metadata": {},
   "source": [
    "Permute right-most k-term all the way to the right"
   ]
  },
  {
   "cell_type": "code",
   "execution_count": null,
   "metadata": {},
   "outputs": [],
   "source": []
  },
  {
   "cell_type": "code",
   "execution_count": 388,
   "metadata": {},
   "outputs": [],
   "source": [
    "k_signature = [not t.is_constant(kx,ky,kz) for t in expanded]\n",
    "N_k_dep_terms = sum(k_signature)\n",
    "k_signature\n",
    "target_signature = [True]*(N_k_dep_terms-1) + [False]*(len(k_signature)-N_k_dep_terms) + [True]\n",
    "target_signature\n",
    "#target_signature = [1,1,0,0]\n",
    "\n",
    "def change_signature(term,target_signature,reduction_direction='left'):\n",
    "    #print(term,target_signature,symbols)\n",
    "    current_signature = [not t.is_constant(kx,ky,kz) for t in term]\n",
    "    additional_terms = []\n",
    "    while current_signature != target_signature:\n",
    "        difference = [b-a for b,a in zip(target_signature,current_signature)]\n",
    "        #print(term,target_signature,current_signature)\n",
    "        # take the index of the first -1 you see as the start put it into the first +1 you see:\n",
    "        start_i = difference.index(-1)\n",
    "        target_i = difference.index(1)\n",
    "        new_term,add_terms = permute_argument(term,start_i,target_i,determine_commutator(term[start_i]))\n",
    "        term = new_term\n",
    "        # perform recursion to get the remaining expressions into the right target signature (just remove the target_i's True)\n",
    "        additional_target_signature = target_signature.copy()\n",
    "        \n",
    "        if reduction_direction == 'left':\n",
    "            additional_target_signature.remove(1)\n",
    "        else:\n",
    "            additional_target_signature.reverse()\n",
    "            additional_target_signature.remove(1)\n",
    "            additional_target_signature.reverse()\n",
    "        additional_terms.extend([change_signature(a,additional_target_signature) for a in add_terms])\n",
    "        current_signature = [not t.is_constant(kx,ky,kz) for t in term]\n",
    "    return [term,additional_terms]\n",
    "\n",
    "L=change_signature(expanded,target_signature)"
   ]
  },
  {
   "cell_type": "code",
   "execution_count": 389,
   "metadata": {},
   "outputs": [],
   "source": [
    "def flatten(L):\n",
    "    flat = [L[0]]\n",
    "    for l in L[1]:\n",
    "        flat.extend(flatten(l))\n",
    "    return flat\n",
    "\n",
    "L = flatten(L)"
   ]
  },
  {
   "cell_type": "code",
   "execution_count": 390,
   "metadata": {},
   "outputs": [
    {
     "data": {
      "text/plain": [
       "[[k_x, k_x, k_y, a, x, z**2, V(x), k_z],\n",
       " [k_x, k_y, a, x, z**2, -V_{(x)}(x), k_z],\n",
       " [k_y, a, x, z**2, -V_{(xx)}(x), k_z],\n",
       " [a, x, z**2, -V_{(xxy)}(x), k_z],\n",
       " [k_y, a, -1, z**2, -V_{(x)}(x), k_z],\n",
       " [a, -1, z**2, -V_{(xy)}(x), k_z],\n",
       " [k_x, a, x, z**2, -V_{(xy)}(x), k_z],\n",
       " [k_x, k_y, a, -1, z**2, V(x), k_z],\n",
       " [k_y, a, -1, z**2, -V_{(x)}(x), k_z],\n",
       " [a, -1, z**2, -V_{(xy)}(x), k_z],\n",
       " [k_x, a, -1, z**2, -V_{(y)}(x), k_z],\n",
       " [k_x, k_y, a, x, z**2, -V_{(x)}(x), k_z],\n",
       " [k_x, a, x, z**2, -V_{(xy)}(x), k_z],\n",
       " [k_x, k_y, a, -1, z**2, V(x), k_z],\n",
       " [k_x, a, -1, z**2, -V_{(y)}(x), k_z],\n",
       " [k_x, k_x, a, x, z**2, -V_{(y)}(x), k_z]]"
      ]
     },
     "execution_count": 390,
     "metadata": {},
     "output_type": "execute_result"
    }
   ],
   "source": [
    "L"
   ]
  },
  {
   "cell_type": "code",
   "execution_count": 391,
   "metadata": {},
   "outputs": [],
   "source": [
    "sympy_L = []\n",
    "for l in L:\n",
    "    X = sympy.sympify(1)\n",
    "    for ll in l:\n",
    "        X = X*ll\n",
    "    sympy_L.append(X)"
   ]
  },
  {
   "cell_type": "code",
   "execution_count": 392,
   "metadata": {},
   "outputs": [
    {
     "data": {
      "text/plain": [
       "[a*k_x**2*k_y*x*z**2*V(x)*k_z,\n",
       " -a*k_x*k_y*x*z**2*V_{(x)}(x)*k_z,\n",
       " -a*k_y*x*z**2*V_{(xx)}(x)*k_z,\n",
       " -a*x*z**2*V_{(xxy)}(x)*k_z,\n",
       " a*k_y*z**2*V_{(x)}(x)*k_z,\n",
       " a*z**2*V_{(xy)}(x)*k_z,\n",
       " -a*k_x*x*z**2*V_{(xy)}(x)*k_z,\n",
       " -a*k_x*k_y*z**2*V(x)*k_z,\n",
       " a*k_y*z**2*V_{(x)}(x)*k_z,\n",
       " a*z**2*V_{(xy)}(x)*k_z,\n",
       " a*k_x*z**2*V_{(y)}(x)*k_z,\n",
       " -a*k_x*k_y*x*z**2*V_{(x)}(x)*k_z,\n",
       " -a*k_x*x*z**2*V_{(xy)}(x)*k_z,\n",
       " -a*k_x*k_y*z**2*V(x)*k_z,\n",
       " a*k_x*z**2*V_{(y)}(x)*k_z,\n",
       " -a*k_x**2*x*z**2*V_{(y)}(x)*k_z]"
      ]
     },
     "execution_count": 392,
     "metadata": {},
     "output_type": "execute_result"
    }
   ],
   "source": [
    "sympy_L"
   ]
  },
  {
   "cell_type": "code",
   "execution_count": 398,
   "metadata": {},
   "outputs": [
    {
     "data": {
      "text/latex": [
       "$\\displaystyle - 2 a k_{x} x z^{2} V_{(xy)}(x) k_{z} + 2 a k_{x} z^{2} V_{(y)}(x) k_{z} - a k_{x}^{2} x z^{2} V_{(y)}(x) k_{z} - a x z^{2} V_{(xxy)}(x) k_{z} + 2 a z^{2} V_{(xy)}(x) k_{z}$"
      ],
      "text/plain": [
       "-2*a*k_x*x*z**2*V_{(xy)}(x)*k_z + 2*a*k_x*z**2*V_{(y)}(x)*k_z - a*k_x**2*x*z**2*V_{(y)}(x)*k_z - a*x*z**2*V_{(xxy)}(x)*k_z + 2*a*z**2*V_{(xy)}(x)*k_z"
      ]
     },
     "execution_count": 398,
     "metadata": {},
     "output_type": "execute_result"
    }
   ],
   "source": [
    "X = sympy.sympify(0)\n",
    "for l in sympy_L:\n",
    "    X = X+sympy.Mul(l)\n",
    "\n",
    "X.subs(ky,0)"
   ]
  },
  {
   "cell_type": "code",
   "execution_count": 396,
   "metadata": {},
   "outputs": [
    {
     "data": {
      "text/latex": [
       "$\\displaystyle a x z^{2} V(x) k_{x}^{2} k_{y} k_{z}$"
      ],
      "text/plain": [
       "a*x*z**2*V(x)*k_x**2*k_y*k_z"
      ]
     },
     "execution_count": 396,
     "metadata": {},
     "output_type": "execute_result"
    }
   ],
   "source": [
    "term"
   ]
  },
  {
   "cell_type": "markdown",
   "metadata": {},
   "source": [
    "Permute all other terms all the way to the left"
   ]
  },
  {
   "cell_type": "markdown",
   "metadata": {},
   "source": [
    "## Left justified (except for one)"
   ]
  },
  {
   "cell_type": "code",
   "execution_count": 340,
   "metadata": {},
   "outputs": [
    {
     "data": {
      "text/plain": [
       "(-1, V_{(x)}(x))"
      ]
     },
     "execution_count": 340,
     "metadata": {},
     "output_type": "execute_result"
    }
   ],
   "source": [
    "L[1][-1].args\n"
   ]
  },
  {
   "cell_type": "code",
   "execution_count": 411,
   "metadata": {},
   "outputs": [
    {
     "data": {
      "text/plain": [
       "(V(x),)"
      ]
     },
     "execution_count": 411,
     "metadata": {},
     "output_type": "execute_result"
    }
   ],
   "source": [
    "sympy.conjugate(v).args\n",
    "\n",
    "\n"
   ]
  },
  {
   "cell_type": "markdown",
   "metadata": {},
   "source": []
  },
  {
   "cell_type": "code",
   "execution_count": 413,
   "metadata": {},
   "outputs": [],
   "source": [
    "A = sympy.Array([1,2,3,4])"
   ]
  },
  {
   "cell_type": "code",
   "execution_count": 414,
   "metadata": {},
   "outputs": [
    {
     "data": {
      "text/latex": [
       "$\\displaystyle \\left[\\begin{matrix}1 & 2\\\\3 & 4\\end{matrix}\\right]$"
      ],
      "text/plain": [
       "[[1, 2], [3, 4]]"
      ]
     },
     "execution_count": 414,
     "metadata": {},
     "output_type": "execute_result"
    }
   ],
   "source": [
    "A.reshape(2,2)"
   ]
  },
  {
   "cell_type": "code",
   "execution_count": null,
   "metadata": {},
   "outputs": [],
   "source": []
  }
 ],
 "metadata": {
  "kernelspec": {
   "display_name": "Germanium_Spins_FE",
   "language": "python",
   "name": "python3"
  },
  "language_info": {
   "codemirror_mode": {
    "name": "ipython",
    "version": 3
   },
   "file_extension": ".py",
   "mimetype": "text/x-python",
   "name": "python",
   "nbconvert_exporter": "python",
   "pygments_lexer": "ipython3",
   "version": "3.10.8"
  },
  "orig_nbformat": 4
 },
 "nbformat": 4,
 "nbformat_minor": 2
}
