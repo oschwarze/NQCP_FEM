{
 "cells": [
  {
   "cell_type": "code",
   "execution_count": 1,
   "metadata": {},
   "outputs": [],
   "source": [
    "import sympy as sp\n",
    "from sympy.physics import units as u"
   ]
  },
  {
   "cell_type": "code",
   "execution_count": 2,
   "metadata": {},
   "outputs": [],
   "source": [
    "hbar = u.Quantity(r'hbar',latex_repr='\\hbar',math_ml_representation='\\hbar')\n",
    "hbar.set_global_relative_scale_factor(10,u.joule*u.second)"
   ]
  },
  {
   "cell_type": "code",
   "execution_count": 3,
   "metadata": {},
   "outputs": [
    {
     "data": {
      "text/latex": [
       "$\\displaystyle \\hbar$"
      ],
      "text/plain": [
       "hbar"
      ]
     },
     "execution_count": 3,
     "metadata": {},
     "output_type": "execute_result"
    }
   ],
   "source": [
    "hbar"
   ]
  },
  {
   "cell_type": "code",
   "execution_count": 4,
   "metadata": {},
   "outputs": [],
   "source": [
    "m = u.Quantity('m')\n",
    "m.set_global_relative_scale_factor(sp.symbols('m'),u.kilogram)\n"
   ]
  },
  {
   "attachments": {},
   "cell_type": "markdown",
   "metadata": {},
   "source": [
    "type(u.util.convert_to(m,u.kilogram).args[1])#.free_symbols"
   ]
  },
  {
   "cell_type": "code",
   "execution_count": 5,
   "metadata": {},
   "outputs": [],
   "source": [
    "g = sp.symbols(r\"\\epsilon\")\n"
   ]
  },
  {
   "cell_type": "code",
   "execution_count": 6,
   "metadata": {},
   "outputs": [
    {
     "data": {
      "text/plain": [
       "True"
      ]
     },
     "execution_count": 6,
     "metadata": {},
     "output_type": "execute_result"
    }
   ],
   "source": [
    "g.name==r\"\\epsilon\""
   ]
  },
  {
   "cell_type": "code",
   "execution_count": 7,
   "metadata": {},
   "outputs": [],
   "source": [
    "import numpy as np"
   ]
  },
  {
   "cell_type": "code",
   "execution_count": 8,
   "metadata": {},
   "outputs": [],
   "source": [
    "c = np.complex128"
   ]
  },
  {
   "cell_type": "code",
   "execution_count": 9,
   "metadata": {},
   "outputs": [],
   "source": [
    "A = [[c(1),c(2),c(3)],[0,1,2],[0,3,3.0*g]]"
   ]
  },
  {
   "cell_type": "code",
   "execution_count": 10,
   "metadata": {},
   "outputs": [
    {
     "data": {
      "text/plain": [
       "[[(1+0j), (2+0j), (3+0j)], [0, 1, 2], [0, 3, 3.0*\\epsilon]]"
      ]
     },
     "execution_count": 10,
     "metadata": {},
     "output_type": "execute_result"
    }
   ],
   "source": [
    "A"
   ]
  },
  {
   "cell_type": "code",
   "execution_count": 11,
   "metadata": {},
   "outputs": [],
   "source": [
    "a=sp.Array(A)"
   ]
  },
  {
   "cell_type": "code",
   "execution_count": 12,
   "metadata": {},
   "outputs": [
    {
     "name": "stdout",
     "output_type": "stream",
     "text": [
      "<class 'sympy.core.numbers.Zero'>\n",
      "<class 'sympy.core.numbers.One'>\n",
      "<class 'sympy.core.numbers.Integer'>\n",
      "<class 'sympy.core.numbers.Integer'>\n",
      "<class 'sympy.core.symbol.Symbol'>\n",
      "<class 'sympy.core.numbers.Float'>\n",
      "<class 'sympy.core.numbers.Float'>\n",
      "<class 'sympy.core.numbers.Float'>\n"
     ]
    }
   ],
   "source": [
    "for at in a.atoms():\n",
    "    print(type(at))"
   ]
  },
  {
   "cell_type": "code",
   "execution_count": 13,
   "metadata": {},
   "outputs": [
    {
     "name": "stdout",
     "output_type": "stream",
     "text": [
      "1.00000000000000\n",
      "2.00000000000000\n",
      "3.00000000000000\n",
      "0\n",
      "1\n",
      "2\n",
      "0\n",
      "3\n",
      "3.0*\\epsilon\n"
     ]
    }
   ],
   "source": [
    "def func(x):\n",
    "    print(x)\n",
    "    try:\n",
    "        return c(x)\n",
    "    except Exception as err:\n",
    "        return x\n",
    "\n",
    "aa=a.applyfunc(func)"
   ]
  },
  {
   "cell_type": "code",
   "execution_count": 14,
   "metadata": {},
   "outputs": [
    {
     "ename": "NameError",
     "evalue": "name 'kprint' is not defined",
     "output_type": "error",
     "traceback": [
      "\u001b[0;31m---------------------------------------------------------------------------\u001b[0m",
      "\u001b[0;31mNameError\u001b[0m                                 Traceback (most recent call last)",
      "Cell \u001b[0;32mIn[14], line 1\u001b[0m\n\u001b[0;32m----> 1\u001b[0m kprint([(\u001b[39mtype\u001b[39m(at),at) \u001b[39mfor\u001b[39;00m at \u001b[39min\u001b[39;00m aa\u001b[39m.\u001b[39matoms()])\n",
      "\u001b[0;31mNameError\u001b[0m: name 'kprint' is not defined"
     ]
    }
   ],
   "source": [
    "kprint([(type(at),at) for at in aa.atoms()])"
   ]
  },
  {
   "cell_type": "code",
   "execution_count": null,
   "metadata": {},
   "outputs": [],
   "source": [
    "aa.to_numpy()"
   ]
  },
  {
   "cell_type": "code",
   "execution_count": null,
   "metadata": {},
   "outputs": [],
   "source": [
    "na=np.array(a)"
   ]
  },
  {
   "cell_type": "code",
   "execution_count": null,
   "metadata": {},
   "outputs": [],
   "source": [
    "npf = np.vectorize(func)"
   ]
  },
  {
   "cell_type": "code",
   "execution_count": null,
   "metadata": {},
   "outputs": [],
   "source": [
    "old_shape = na.shape\n",
    "np.array([func(x) for x in na.flatten()]).reshape(old_shape)"
   ]
  },
  {
   "cell_type": "code",
   "execution_count": null,
   "metadata": {},
   "outputs": [],
   "source": [
    "type(c(na[0,0]))"
   ]
  },
  {
   "cell_type": "code",
   "execution_count": null,
   "metadata": {},
   "outputs": [],
   "source": [
    "aa"
   ]
  },
  {
   "cell_type": "code",
   "execution_count": null,
   "metadata": {},
   "outputs": [],
   "source": [
    "sp.lambdify(g,aa)(d)[-1,-1]"
   ]
  },
  {
   "cell_type": "code",
   "execution_count": null,
   "metadata": {},
   "outputs": [],
   "source": [
    "e = sp.symbols('e')"
   ]
  },
  {
   "cell_type": "code",
   "execution_count": null,
   "metadata": {},
   "outputs": [],
   "source": [
    "class Dummy():\n",
    "    def __init__(self) -> None:\n",
    "        self.x=1"
   ]
  },
  {
   "cell_type": "code",
   "execution_count": null,
   "metadata": {},
   "outputs": [],
   "source": [
    "d = Dummy()"
   ]
  },
  {
   "cell_type": "code",
   "execution_count": null,
   "metadata": {},
   "outputs": [],
   "source": [
    "from unittest.mock import mock_open,patch\n",
    "import pickle\n",
    "M = mock_open()\n",
    "temp = [1,2,3]\n",
    "with patch('__main__.open',M):\n",
    "    with open('filename.temp','wb') as f:\n",
    "        pickle.dump(temp,f)\n",
    "    \n",
    "    with open('filename.temp',mode='rb') as ff:\n",
    "        print(ff)\n",
    "        print(pickle.load(ff))\n",
    "        "
   ]
  },
  {
   "cell_type": "code",
   "execution_count": null,
   "metadata": {},
   "outputs": [],
   "source": [
    "from sympy.physics.units.quantities import Quantity\n",
    "from sympy.physics.units.systems.si import SI\n",
    "import sympy.physics.units as u\n",
    "_hbar = Quantity('hbar',latex_repr='\\hbar',mathml_presentation_repr='hbar') # plancks constant\n",
    "_hbar.set_global_relative_scale_factor(1.054571817e-34,u.joule*u.second)\n",
    "_m_e = Quantity(name='m\\_e',mathml_representation_repr='m_e',latex_repr='m_e',pretty_ascii_repr='m_e',pretty_unicode_repr='m_e') # electron mass\n",
    "_m_e.set_global_relative_scale_factor(9.1093837015e-31,u.kilogram)"
   ]
  },
  {
   "cell_type": "code",
   "execution_count": null,
   "metadata": {},
   "outputs": [],
   "source": [
    "A = sp.Array([[_hbar**2/(2*_m_e)*(kkx**2+kky**2+kkz**2),0],[0,_hbar**2/(2*_m_e)*(kkx**2+kky**2+kkz**2)]])"
   ]
  },
  {
   "cell_type": "code",
   "execution_count": null,
   "metadata": {},
   "outputs": [],
   "source": [
    "kx,ky,kz = sp.symbols(r'kx,ky,kz')\n",
    "kkx = u.Quantity('k\\_x')\n",
    "kkx.set_global_relative_scale_factor(kx,1/u.meter)\n",
    "kky = u.Quantity('k\\_y')\n",
    "kky.set_global_relative_scale_factor(ky,1/u.meter)\n",
    "kkz = u.Quantity('k\\_z')\n",
    "kkz.set_global_relative_scale_factor(kz,1/u.meter)"
   ]
  },
  {
   "cell_type": "code",
   "execution_count": null,
   "metadata": {},
   "outputs": [],
   "source": [
    "sp.sympify(u.convert_to(A[0,0],u.joule)).atoms(sp.Symbol)"
   ]
  },
  {
   "cell_type": "code",
   "execution_count": null,
   "metadata": {},
   "outputs": [],
   "source": [
    "A"
   ]
  },
  {
   "cell_type": "code",
   "execution_count": null,
   "metadata": {},
   "outputs": [],
   "source": [
    "for s in A.atoms(u.Quantity):\n",
    "    print(s,s.scale_factor,s.dimension)"
   ]
  },
  {
   "cell_type": "code",
   "execution_count": null,
   "metadata": {},
   "outputs": [],
   "source": [
    "for s in A.atoms(sp.Symbol):\n",
    "    "
   ]
  },
  {
   "cell_type": "code",
   "execution_count": null,
   "metadata": {},
   "outputs": [],
   "source": [
    "kx,ky,kz = sp.symbols(r'kx,ky,kz')\n",
    "A = sp.Array([[kx,ky,kz]])"
   ]
  },
  {
   "cell_type": "code",
   "execution_count": null,
   "metadata": {},
   "outputs": [
    {
     "data": {
      "text/latex": [
       "$\\displaystyle \\left[\\left[\\begin{matrix}kx & ky & kz\\end{matrix}\\right]\\right]$"
      ],
      "text/plain": [
       "[[kx, ky, kz]]"
      ]
     },
     "execution_count": 22,
     "metadata": {},
     "output_type": "execute_result"
    }
   ],
   "source": [
    "A"
   ]
  },
  {
   "cell_type": "code",
   "execution_count": null,
   "metadata": {},
   "outputs": [],
   "source": [
    "AL=sp.lambdify((kx,ky,kz),A)"
   ]
  },
  {
   "cell_type": "code",
   "execution_count": null,
   "metadata": {},
   "outputs": [
    {
     "data": {
      "text/plain": [
       "array([[0, 1, 2]])"
      ]
     },
     "execution_count": 29,
     "metadata": {},
     "output_type": "execute_result"
    }
   ],
   "source": [
    "AL(*np.array([0,1,2]))"
   ]
  },
  {
   "cell_type": "code",
   "execution_count": null,
   "metadata": {},
   "outputs": [
    {
     "data": {
      "text/plain": [
       "array([[0, 1, 2],\n",
       "       [0, 2, 4]])"
      ]
     },
     "execution_count": 35,
     "metadata": {},
     "output_type": "execute_result"
    }
   ],
   "source": [
    "K = np.stack([np.array([0,1,2]),2*np.array([0,1,2])])\n",
    "K"
   ]
  },
  {
   "cell_type": "code",
   "execution_count": null,
   "metadata": {},
   "outputs": [
    {
     "data": {
      "text/plain": [
       "array([[[0, 1, 2]],\n",
       "\n",
       "       [[0, 2, 4]]])"
      ]
     },
     "execution_count": 38,
     "metadata": {},
     "output_type": "execute_result"
    }
   ],
   "source": [
    "AL(*K.T).transpose((-1,0,1))"
   ]
  },
  {
   "cell_type": "code",
   "execution_count": null,
   "metadata": {},
   "outputs": [],
   "source": [
    "import sympy as sp\n",
    "import numpy as np"
   ]
  },
  {
   "cell_type": "code",
   "execution_count": null,
   "metadata": {},
   "outputs": [],
   "source": [
    "A = sp.Array([[1,2],[3,4]])"
   ]
  },
  {
   "cell_type": "code",
   "execution_count": null,
   "metadata": {},
   "outputs": [
    {
     "data": {
      "text/latex": [
       "$\\displaystyle \\left[\\begin{matrix}1 & 2\\\\3 & 4\\end{matrix}\\right]$"
      ],
      "text/plain": [
       "[[1, 2], [3, 4]]"
      ]
     },
     "execution_count": 10,
     "metadata": {},
     "output_type": "execute_result"
    }
   ],
   "source": [
    "A"
   ]
  },
  {
   "cell_type": "code",
   "execution_count": null,
   "metadata": {},
   "outputs": [],
   "source": [
    "A.copy()\n",
    "kx = sp.symbols('k_x')"
   ]
  },
  {
   "cell_type": "code",
   "execution_count": null,
   "metadata": {},
   "outputs": [
    {
     "data": {
      "text/latex": [
       "$\\displaystyle \\left[\\begin{matrix}1 & 2\\\\3 & 4\\end{matrix}\\right]$"
      ],
      "text/plain": [
       "[[1, 2], [3, 4]]"
      ]
     },
     "execution_count": 12,
     "metadata": {},
     "output_type": "execute_result"
    }
   ],
   "source": [
    "A"
   ]
  },
  {
   "cell_type": "code",
   "execution_count": null,
   "metadata": {},
   "outputs": [],
   "source": [
    "A = sp.Array([[1*kx,2],[3,4*kx]])"
   ]
  },
  {
   "cell_type": "code",
   "execution_count": null,
   "metadata": {},
   "outputs": [
    {
     "data": {
      "text/latex": [
       "$\\displaystyle \\left[\\begin{matrix}k_{x} & 2\\\\3 & 4 k_{x}\\end{matrix}\\right]$"
      ],
      "text/plain": [
       "[[k_x, 2], [3, 4*k_x]]"
      ]
     },
     "execution_count": 14,
     "metadata": {},
     "output_type": "execute_result"
    }
   ],
   "source": [
    "A.conjugate().subs({kx:sp.conjugate(kx)})"
   ]
  },
  {
   "cell_type": "code",
   "execution_count": null,
   "metadata": {},
   "outputs": [
    {
     "data": {
      "text/latex": [
       "$\\displaystyle \\left[\\begin{matrix}1 & 0 & 0 & 0 & 2 & 0 & 3 & 0\\\\10 & 0 & 0 & 0 & 20 & 0 & 30 & 0\\end{matrix}\\right]$"
      ],
      "text/plain": [
       "[[1, 0, 0, 0, 2, 0, 3, 0], [10, 0, 0, 0, 20, 0, 30, 0]]"
      ]
     },
     "execution_count": 15,
     "metadata": {},
     "output_type": "execute_result"
    }
   ],
   "source": [
    "B = sp.Array([[[[1,0],[0,0]],[[2,0],[3,0]]],[[[10,0],[0,0]],[[20,0],[30,0]]]])\n",
    "B.shape\n",
    "B.reshape(2,8)"
   ]
  },
  {
   "cell_type": "code",
   "execution_count": null,
   "metadata": {},
   "outputs": [
    {
     "data": {
      "text/latex": [
       "$\\displaystyle \\left[\\begin{matrix}\\left[\\begin{matrix}k_{x} & 2\\\\3 & 4 k_{x}\\end{matrix}\\right] & 0\\\\0 & \\left[\\begin{matrix}k_{x} & 2\\\\3 & 4 k_{x}\\end{matrix}\\right]\\end{matrix}\\right]$"
      ],
      "text/plain": [
       "Matrix([\n",
       "[Matrix([\n",
       "[k_x,     2],\n",
       "[  3, 4*k_x]]),                                     0],\n",
       "[                                    0, Matrix([\n",
       "[k_x,     2],\n",
       "[  3, 4*k_x]])]])"
      ]
     },
     "execution_count": 16,
     "metadata": {},
     "output_type": "execute_result"
    }
   ],
   "source": [
    "sp.Array(sp.matrices.expressions.blockmatrix.BlockDiagMatrix(sp.Matrix(A),sp.Matrix(A)))"
   ]
  },
  {
   "cell_type": "code",
   "execution_count": null,
   "metadata": {},
   "outputs": [
    {
     "data": {
      "text/latex": [
       "$\\displaystyle \\left[\\begin{matrix}\\left[\\begin{matrix}1 & 0\\\\0 & 0\\end{matrix}\\right] & \\left[\\begin{matrix}2 & 0\\\\3 & 0\\end{matrix}\\right]\\\\\\left[\\begin{matrix}10 & 0\\\\0 & 0\\end{matrix}\\right] & \\left[\\begin{matrix}20 & 0\\\\30 & 0\\end{matrix}\\right]\\end{matrix}\\right]$"
      ],
      "text/plain": [
       "[[[[1, 0], [0, 0]], [[2, 0], [3, 0]]], [[[10, 0], [0, 0]], [[20, 0], [30, 0]]]]"
      ]
     },
     "execution_count": 17,
     "metadata": {},
     "output_type": "execute_result"
    }
   ],
   "source": [
    "B"
   ]
  },
  {
   "cell_type": "code",
   "execution_count": null,
   "metadata": {},
   "outputs": [],
   "source": [
    "b=np.array(B)"
   ]
  },
  {
   "cell_type": "code",
   "execution_count": null,
   "metadata": {},
   "outputs": [
    {
     "data": {
      "text/plain": [
       "array([1, 0, 0, 0, 2, 0, 3, 0, 10, 0, 0, 0, 20, 0, 30, 0], dtype=object)"
      ]
     },
     "execution_count": 19,
     "metadata": {},
     "output_type": "execute_result"
    }
   ],
   "source": [
    "b.ravel()"
   ]
  },
  {
   "cell_type": "code",
   "execution_count": null,
   "metadata": {},
   "outputs": [
    {
     "data": {
      "text/plain": [
       "array([[1, 0, 0, 0],\n",
       "       [2, 0, 3, 0],\n",
       "       [10, 0, 0, 0],\n",
       "       [20, 0, 30, 0]], dtype=object)"
      ]
     },
     "execution_count": 20,
     "metadata": {},
     "output_type": "execute_result"
    }
   ],
   "source": [
    "b.reshape(4,4)"
   ]
  },
  {
   "cell_type": "code",
   "execution_count": null,
   "metadata": {},
   "outputs": [],
   "source": [
    "BB= sp.tensor.array.permutedims(B,(0,2,1,3))\n",
    "\n",
    "\n"
   ]
  },
  {
   "cell_type": "code",
   "execution_count": null,
   "metadata": {},
   "outputs": [
    {
     "ename": "NameError",
     "evalue": "name 'sympy' is not defined",
     "output_type": "error",
     "traceback": [
      "\u001b[0;31m---------------------------------------------------------------------------\u001b[0m",
      "\u001b[0;31mNameError\u001b[0m                                 Traceback (most recent call last)",
      "Cell \u001b[0;32mIn[22], line 1\u001b[0m\n\u001b[0;32m----> 1\u001b[0m U \u001b[39m=\u001b[39m sympy\u001b[39m.\u001b[39marray([[\u001b[39m0\u001b[39m,\u001b[39m1\u001b[39m],[\u001b[39m-\u001b[39m\u001b[39m1\u001b[39m,\u001b[39m0\u001b[39m]])\n\u001b[1;32m      2\u001b[0m UU \u001b[39m=\u001b[39m sympy\u001b[39m.\u001b[39mtensordot( )\n",
      "\u001b[0;31mNameError\u001b[0m: name 'sympy' is not defined"
     ]
    }
   ],
   "source": [
    "U = sympy.array([[0,1],[-1,0]])\n",
    "UU = sympy.tensordot( )"
   ]
  },
  {
   "cell_type": "code",
   "execution_count": null,
   "metadata": {},
   "outputs": [
    {
     "data": {
      "text/latex": [
       "$\\displaystyle \\left[\\begin{matrix}1 & 0 & 2 & 0\\\\0 & 0 & 3 & 0\\\\10 & 0 & 20 & 0\\\\0 & 0 & 30 & 0\\end{matrix}\\right]$"
      ],
      "text/plain": [
       "[[1, 0, 2, 0], [0, 0, 3, 0], [10, 0, 20, 0], [0, 0, 30, 0]]"
      ]
     },
     "execution_count": 23,
     "metadata": {},
     "output_type": "execute_result"
    }
   ],
   "source": [
    "BB = BB.reshape(4,4)\n",
    "BB"
   ]
  },
  {
   "cell_type": "code",
   "execution_count": null,
   "metadata": {},
   "outputs": [
    {
     "data": {
      "text/latex": [
       "$\\displaystyle \\left[\\begin{matrix}\\left[\\begin{matrix}1 & 0\\\\0 & 0\\end{matrix}\\right] & \\left[\\begin{matrix}2 & 0\\\\3 & 0\\end{matrix}\\right]\\\\\\left[\\begin{matrix}10 & 0\\\\0 & 0\\end{matrix}\\right] & \\left[\\begin{matrix}20 & 0\\\\30 & 0\\end{matrix}\\right]\\end{matrix}\\right]$"
      ],
      "text/plain": [
       "[[[[1, 0], [0, 0]], [[2, 0], [3, 0]]], [[[10, 0], [0, 0]], [[20, 0], [30, 0]]]]"
      ]
     },
     "execution_count": 24,
     "metadata": {},
     "output_type": "execute_result"
    }
   ],
   "source": [
    "B"
   ]
  },
  {
   "cell_type": "code",
   "execution_count": null,
   "metadata": {},
   "outputs": [],
   "source": []
  },
  {
   "cell_type": "code",
   "execution_count": null,
   "metadata": {},
   "outputs": [],
   "source": [
    "Bex = sp.Array(sp.Matrix(sp.matrices.expressions.blockmatrix.BlockDiagMatrix(sp.Matrix(BB),-sp.Matrix(BB))))"
   ]
  },
  {
   "cell_type": "code",
   "execution_count": null,
   "metadata": {},
   "outputs": [
    {
     "data": {
      "text/latex": [
       "$\\displaystyle \\left[\\begin{matrix}1 & 0 & 2 & 0 & 0 & 0 & 0 & 0\\\\0 & 0 & 3 & 0 & 0 & 0 & 0 & 0\\\\10 & 0 & 20 & 0 & 0 & 0 & 0 & 0\\\\0 & 0 & 30 & 0 & 0 & 0 & 0 & 0\\\\0 & 0 & 0 & 0 & -1 & 0 & -2 & 0\\\\0 & 0 & 0 & 0 & 0 & 0 & -3 & 0\\\\0 & 0 & 0 & 0 & -10 & 0 & -20 & 0\\\\0 & 0 & 0 & 0 & 0 & 0 & -30 & 0\\end{matrix}\\right]$"
      ],
      "text/plain": [
       "[[1, 0, 2, 0, 0, 0, 0, 0], [0, 0, 3, 0, 0, 0, 0, 0], [10, 0, 20, 0, 0, 0, 0, 0], [0, 0, 30, 0, 0, 0, 0, 0], [0, 0, 0, 0, -1, 0, -2, 0], [0, 0, 0, 0, 0, 0, -3, 0], [0, 0, 0, 0, -10, 0, -20, 0], [0, 0, 0, 0, 0, 0, -30, 0]]"
      ]
     },
     "execution_count": 26,
     "metadata": {},
     "output_type": "execute_result"
    }
   ],
   "source": [
    "Bex"
   ]
  },
  {
   "cell_type": "code",
   "execution_count": null,
   "metadata": {},
   "outputs": [],
   "source": [
    "final= sp.tensor.array.permutedims(Bex.reshape(4,2,4,2),(0,2,1,3))"
   ]
  },
  {
   "cell_type": "code",
   "execution_count": null,
   "metadata": {},
   "outputs": [
    {
     "data": {
      "text/latex": [
       "$\\displaystyle \\left[\\begin{matrix}\\left[\\begin{matrix}1 & 0\\\\0 & 0\\end{matrix}\\right] & \\left[\\begin{matrix}2 & 0\\\\3 & 0\\end{matrix}\\right] & \\left[\\begin{matrix}0 & 0\\\\0 & 0\\end{matrix}\\right] & \\left[\\begin{matrix}0 & 0\\\\0 & 0\\end{matrix}\\right]\\\\\\left[\\begin{matrix}10 & 0\\\\0 & 0\\end{matrix}\\right] & \\left[\\begin{matrix}20 & 0\\\\30 & 0\\end{matrix}\\right] & \\left[\\begin{matrix}0 & 0\\\\0 & 0\\end{matrix}\\right] & \\left[\\begin{matrix}0 & 0\\\\0 & 0\\end{matrix}\\right]\\\\\\left[\\begin{matrix}0 & 0\\\\0 & 0\\end{matrix}\\right] & \\left[\\begin{matrix}0 & 0\\\\0 & 0\\end{matrix}\\right] & \\left[\\begin{matrix}-1 & 0\\\\0 & 0\\end{matrix}\\right] & \\left[\\begin{matrix}-2 & 0\\\\-3 & 0\\end{matrix}\\right]\\\\\\left[\\begin{matrix}0 & 0\\\\0 & 0\\end{matrix}\\right] & \\left[\\begin{matrix}0 & 0\\\\0 & 0\\end{matrix}\\right] & \\left[\\begin{matrix}-10 & 0\\\\0 & 0\\end{matrix}\\right] & \\left[\\begin{matrix}-20 & 0\\\\-30 & 0\\end{matrix}\\right]\\end{matrix}\\right]$"
      ],
      "text/plain": [
       "[[[[1, 0], [0, 0]], [[2, 0], [3, 0]], [[0, 0], [0, 0]], [[0, 0], [0, 0]]], [[[10, 0], [0, 0]], [[20, 0], [30, 0]], [[0, 0], [0, 0]], [[0, 0], [0, 0]]], [[[0, 0], [0, 0]], [[0, 0], [0, 0]], [[-1, 0], [0, 0]], [[-2, 0], [-3, 0]]], [[[0, 0], [0, 0]], [[0, 0], [0, 0]], [[-10, 0], [0, 0]], [[-20, 0], [-30, 0]]]]"
      ]
     },
     "execution_count": 49,
     "metadata": {},
     "output_type": "execute_result"
    }
   ],
   "source": [
    "final"
   ]
  },
  {
   "cell_type": "code",
   "execution_count": null,
   "metadata": {},
   "outputs": [],
   "source": [
    "NN = np.array(final)"
   ]
  },
  {
   "cell_type": "code",
   "execution_count": null,
   "metadata": {},
   "outputs": [
    {
     "ename": "TypeError",
     "evalue": "'ellipsis' object cannot be interpreted as an integer",
     "output_type": "error",
     "traceback": [
      "\u001b[0;31m---------------------------------------------------------------------------\u001b[0m",
      "\u001b[0;31mTypeError\u001b[0m                                 Traceback (most recent call last)",
      "File \u001b[0;32m~/miniconda3/envs/Germanium_Spins_FE/lib/python3.10/site-packages/numpy/core/fromnumeric.py:57\u001b[0m, in \u001b[0;36m_wrapfunc\u001b[0;34m(obj, method, *args, **kwds)\u001b[0m\n\u001b[1;32m     56\u001b[0m \u001b[39mtry\u001b[39;00m:\n\u001b[0;32m---> 57\u001b[0m     \u001b[39mreturn\u001b[39;00m bound(\u001b[39m*\u001b[39;49margs, \u001b[39m*\u001b[39;49m\u001b[39m*\u001b[39;49mkwds)\n\u001b[1;32m     58\u001b[0m \u001b[39mexcept\u001b[39;00m \u001b[39mTypeError\u001b[39;00m:\n\u001b[1;32m     59\u001b[0m     \u001b[39m# A TypeError occurs if the object does have such a method in its\u001b[39;00m\n\u001b[1;32m     60\u001b[0m     \u001b[39m# class, but its signature is not identical to that of NumPy's. This\u001b[39;00m\n\u001b[0;32m   (...)\u001b[0m\n\u001b[1;32m     64\u001b[0m     \u001b[39m# Call _wrapit from within the except clause to ensure a potential\u001b[39;00m\n\u001b[1;32m     65\u001b[0m     \u001b[39m# exception has a traceback chain.\u001b[39;00m\n",
      "\u001b[0;31mTypeError\u001b[0m: 'ellipsis' object cannot be interpreted as an integer",
      "\nDuring handling of the above exception, another exception occurred:\n",
      "\u001b[0;31mTypeError\u001b[0m                                 Traceback (most recent call last)",
      "Cell \u001b[0;32mIn[53], line 1\u001b[0m\n\u001b[0;32m----> 1\u001b[0m np\u001b[39m.\u001b[39;49mtranspose(NN,(\u001b[39m1\u001b[39;49m,\u001b[39m0\u001b[39;49m,\u001b[39m.\u001b[39;49m\u001b[39m.\u001b[39;49m\u001b[39m.\u001b[39;49m))\n",
      "File \u001b[0;32m<__array_function__ internals>:200\u001b[0m, in \u001b[0;36mtranspose\u001b[0;34m(*args, **kwargs)\u001b[0m\n",
      "File \u001b[0;32m~/miniconda3/envs/Germanium_Spins_FE/lib/python3.10/site-packages/numpy/core/fromnumeric.py:668\u001b[0m, in \u001b[0;36mtranspose\u001b[0;34m(a, axes)\u001b[0m\n\u001b[1;32m    601\u001b[0m \u001b[39m@array_function_dispatch\u001b[39m(_transpose_dispatcher)\n\u001b[1;32m    602\u001b[0m \u001b[39mdef\u001b[39;00m \u001b[39mtranspose\u001b[39m(a, axes\u001b[39m=\u001b[39m\u001b[39mNone\u001b[39;00m):\n\u001b[1;32m    603\u001b[0m     \u001b[39m\"\"\"\u001b[39;00m\n\u001b[1;32m    604\u001b[0m \u001b[39m    Returns an array with axes transposed.\u001b[39;00m\n\u001b[1;32m    605\u001b[0m \n\u001b[0;32m   (...)\u001b[0m\n\u001b[1;32m    666\u001b[0m \n\u001b[1;32m    667\u001b[0m \u001b[39m    \"\"\"\u001b[39;00m\n\u001b[0;32m--> 668\u001b[0m     \u001b[39mreturn\u001b[39;00m _wrapfunc(a, \u001b[39m'\u001b[39;49m\u001b[39mtranspose\u001b[39;49m\u001b[39m'\u001b[39;49m, axes)\n",
      "File \u001b[0;32m~/miniconda3/envs/Germanium_Spins_FE/lib/python3.10/site-packages/numpy/core/fromnumeric.py:66\u001b[0m, in \u001b[0;36m_wrapfunc\u001b[0;34m(obj, method, *args, **kwds)\u001b[0m\n\u001b[1;32m     57\u001b[0m     \u001b[39mreturn\u001b[39;00m bound(\u001b[39m*\u001b[39margs, \u001b[39m*\u001b[39m\u001b[39m*\u001b[39mkwds)\n\u001b[1;32m     58\u001b[0m \u001b[39mexcept\u001b[39;00m \u001b[39mTypeError\u001b[39;00m:\n\u001b[1;32m     59\u001b[0m     \u001b[39m# A TypeError occurs if the object does have such a method in its\u001b[39;00m\n\u001b[1;32m     60\u001b[0m     \u001b[39m# class, but its signature is not identical to that of NumPy's. This\u001b[39;00m\n\u001b[0;32m   (...)\u001b[0m\n\u001b[1;32m     64\u001b[0m     \u001b[39m# Call _wrapit from within the except clause to ensure a potential\u001b[39;00m\n\u001b[1;32m     65\u001b[0m     \u001b[39m# exception has a traceback chain.\u001b[39;00m\n\u001b[0;32m---> 66\u001b[0m     \u001b[39mreturn\u001b[39;00m _wrapit(obj, method, \u001b[39m*\u001b[39;49margs, \u001b[39m*\u001b[39;49m\u001b[39m*\u001b[39;49mkwds)\n",
      "File \u001b[0;32m~/miniconda3/envs/Germanium_Spins_FE/lib/python3.10/site-packages/numpy/core/fromnumeric.py:43\u001b[0m, in \u001b[0;36m_wrapit\u001b[0;34m(obj, method, *args, **kwds)\u001b[0m\n\u001b[1;32m     41\u001b[0m \u001b[39mexcept\u001b[39;00m \u001b[39mAttributeError\u001b[39;00m:\n\u001b[1;32m     42\u001b[0m     wrap \u001b[39m=\u001b[39m \u001b[39mNone\u001b[39;00m\n\u001b[0;32m---> 43\u001b[0m result \u001b[39m=\u001b[39m \u001b[39mgetattr\u001b[39;49m(asarray(obj), method)(\u001b[39m*\u001b[39;49margs, \u001b[39m*\u001b[39;49m\u001b[39m*\u001b[39;49mkwds)\n\u001b[1;32m     44\u001b[0m \u001b[39mif\u001b[39;00m wrap:\n\u001b[1;32m     45\u001b[0m     \u001b[39mif\u001b[39;00m \u001b[39mnot\u001b[39;00m \u001b[39misinstance\u001b[39m(result, mu\u001b[39m.\u001b[39mndarray):\n",
      "\u001b[0;31mTypeError\u001b[0m: 'ellipsis' object cannot be interpreted as an integer"
     ]
    }
   ],
   "source": [
    "np.transpose(NN,(1,0,...))"
   ]
  },
  {
   "cell_type": "code",
   "execution_count": null,
   "metadata": {},
   "outputs": [
    {
     "data": {
      "text/latex": [
       "$\\displaystyle \\left[\\begin{matrix}0 & 0\\\\0 & 0\\end{matrix}\\right]$"
      ],
      "text/plain": [
       "[[0, 0], [0, 0]]"
      ]
     },
     "execution_count": 41,
     "metadata": {},
     "output_type": "execute_result"
    }
   ],
   "source": []
  },
  {
   "cell_type": "code",
   "execution_count": null,
   "metadata": {},
   "outputs": [
    {
     "data": {
      "text/latex": [
       "$\\displaystyle \\left[\\begin{matrix}\\left[\\begin{matrix}1 & 0\\\\0 & 0\\end{matrix}\\right] & \\left[\\begin{matrix}2 & 0\\\\3 & 0\\end{matrix}\\right] & \\left[\\begin{matrix}1 & 11\\\\21 & 31\\end{matrix}\\right] & \\left[\\begin{matrix}41 & 51\\\\61 & 71\\end{matrix}\\right]\\\\\\left[\\begin{matrix}10 & 0\\\\0 & 0\\end{matrix}\\right] & \\left[\\begin{matrix}20 & 0\\\\30 & 0\\end{matrix}\\right] & \\left[\\begin{matrix}81 & 91\\\\101 & 111\\end{matrix}\\right] & \\left[\\begin{matrix}121 & 131\\\\141 & 151\\end{matrix}\\right]\\\\\\left[\\begin{matrix}0 & 0\\\\0 & 0\\end{matrix}\\right] & \\left[\\begin{matrix}0 & 0\\\\0 & 0\\end{matrix}\\right] & \\left[\\begin{matrix}-1 & 0\\\\0 & 0\\end{matrix}\\right] & \\left[\\begin{matrix}-2 & 0\\\\-3 & 0\\end{matrix}\\right]\\\\\\left[\\begin{matrix}0 & 0\\\\0 & 0\\end{matrix}\\right] & \\left[\\begin{matrix}0 & 0\\\\0 & 0\\end{matrix}\\right] & \\left[\\begin{matrix}-10 & 0\\\\0 & 0\\end{matrix}\\right] & \\left[\\begin{matrix}-20 & 0\\\\-30 & 0\\end{matrix}\\right]\\end{matrix}\\right]$"
      ],
      "text/plain": [
       "[[[[1, 0], [0, 0]], [[2, 0], [3, 0]], [[1, 11], [21, 31]], [[41, 51], [61, 71]]], [[[10, 0], [0, 0]], [[20, 0], [30, 0]], [[81, 91], [101, 111]], [[121, 131], [141, 151]]], [[[0, 0], [0, 0]], [[0, 0], [0, 0]], [[-1, 0], [0, 0]], [[-2, 0], [-3, 0]]], [[[0, 0], [0, 0]], [[0, 0], [0, 0]], [[-10, 0], [0, 0]], [[-20, 0], [-30, 0]]]]"
      ]
     },
     "execution_count": 61,
     "metadata": {},
     "output_type": "execute_result"
    }
   ],
   "source": [
    "NN=np.array(final)\n",
    "NN[slice(0,2),slice(2,4)] = np.arange(16).reshape((2,2,2,2))*10+1\n",
    "sp.Array(NN)"
   ]
  },
  {
   "cell_type": "code",
   "execution_count": null,
   "metadata": {},
   "outputs": [],
   "source": [
    "class foo():\n",
    "    __t__ = 't'\n",
    "    def __init__(self,x):\n",
    "        self.x=x\n",
    "    "
   ]
  },
  {
   "cell_type": "code",
   "execution_count": null,
   "metadata": {},
   "outputs": [],
   "source": [
    "F=foo(1)"
   ]
  },
  {
   "cell_type": "code",
   "execution_count": null,
   "metadata": {},
   "outputs": [
    {
     "data": {
      "text/plain": [
       "'t'"
      ]
     },
     "execution_count": 87,
     "metadata": {},
     "output_type": "execute_result"
    }
   ],
   "source": [
    "F.x\n",
    "F.__t__"
   ]
  },
  {
   "cell_type": "code",
   "execution_count": null,
   "metadata": {},
   "outputs": [],
   "source": [
    "from zmq import EVENT_CLOSE_FAILED\n",
    "\n",
    "\n",
    "def recursion_term(A,N):\n",
    "    # floating point error becomes too large at N>15 \n",
    "    \n",
    "    if N==2:\n",
    "        if A%2:\n",
    "            return 4/(np.pi*A)-8/(np.pi*A)**3\n",
    "        else:\n",
    "            return 0 \n",
    "    if N==1:\n",
    "        if A%2:\n",
    "            return 0\n",
    "        else:\n",
    "            return -4/(A*np.pi)\n",
    "    return -4/(A*np.pi)*(1+N*(N-1)/(A*np.pi)*recursion_term(A,N-2))\n"
   ]
  },
  {
   "cell_type": "code",
   "execution_count": null,
   "metadata": {},
   "outputs": [
    {
     "data": {
      "text/plain": [
       "-0.00820576285190685"
      ]
     },
     "execution_count": 33,
     "metadata": {},
     "output_type": "execute_result"
    }
   ],
   "source": [
    "recursion_term(2,25)"
   ]
  },
  {
   "cell_type": "code",
   "execution_count": null,
   "metadata": {},
   "outputs": [
    {
     "ename": "SyntaxError",
     "evalue": "invalid syntax (1418258481.py, line 1)",
     "output_type": "error",
     "traceback": [
      "\u001b[0;36m  Cell \u001b[0;32mIn[34], line 1\u001b[0;36m\u001b[0m\n\u001b[0;31m    100!\u001b[0m\n\u001b[0m       ^\u001b[0m\n\u001b[0;31mSyntaxError\u001b[0m\u001b[0;31m:\u001b[0m invalid syntax\n"
     ]
    }
   ],
   "source": [
    "L=1\n",
    "def x_mat(n,m,order):\n",
    "    if (not order%2) or ():\n",
    "        return 0 % odd powers of x vanish  \n",
    "    expr = (2/L)**oder *order * "
   ]
  },
  {
   "cell_type": "code",
   "execution_count": null,
   "metadata": {},
   "outputs": [],
   "source": [
    "import numpy as np"
   ]
  },
  {
   "cell_type": "code",
   "execution_count": null,
   "metadata": {},
   "outputs": [
    {
     "ename": "ModuleNotFoundError",
     "evalue": "No module named 'nqcpsim'",
     "output_type": "error",
     "traceback": [
      "\u001b[0;31m---------------------------------------------------------------------------\u001b[0m",
      "\u001b[0;31mModuleNotFoundError\u001b[0m                       Traceback (most recent call last)",
      "Cell \u001b[0;32mIn[6], line 1\u001b[0m\n\u001b[0;32m----> 1\u001b[0m \u001b[39mfrom\u001b[39;00m \u001b[39mnqcpsim\u001b[39;00m\u001b[39m.\u001b[39;00m\u001b[39mband_model\u001b[39;00m \u001b[39mimport\u001b[39;00m ANGULAR_MOMENTUM\n",
      "\u001b[0;31mModuleNotFoundError\u001b[0m: No module named 'nqcpsim'"
     ]
    }
   ],
   "source": [
    "from nqcpsim.band_model import ANGULAR_MOMENTUM"
   ]
  },
  {
   "cell_type": "code",
   "execution_count": null,
   "metadata": {},
   "outputs": [
    {
     "data": {
      "text/plain": [
       "0.16666666666666669"
      ]
     },
     "execution_count": 7,
     "metadata": {},
     "output_type": "execute_result"
    }
   ],
   "source": [
    "(.4)/(2*(1.2))"
   ]
  },
  {
   "cell_type": "code",
   "execution_count": null,
   "metadata": {},
   "outputs": [],
   "source": [
    "aa=sp.Matrix(A)"
   ]
  },
  {
   "cell_type": "code",
   "execution_count": null,
   "metadata": {},
   "outputs": [
    {
     "data": {
      "text/latex": [
       "$\\displaystyle \\left[\\begin{matrix}1.0 & 2.0 & 3.0\\\\0 & 1 & 2\\\\0 & 3 & 3.0 \\epsilon\\end{matrix}\\right]$"
      ],
      "text/plain": [
       "Matrix([\n",
       "[1.0, 2.0,          3.0],\n",
       "[  0,   1,            2],\n",
       "[  0,   3, 3.0*\\epsilon]])"
      ]
     },
     "execution_count": 19,
     "metadata": {},
     "output_type": "execute_result"
    }
   ],
   "source": [
    "aa"
   ]
  },
  {
   "cell_type": "code",
   "execution_count": null,
   "metadata": {},
   "outputs": [
    {
     "data": {
      "text/latex": [
       "$\\displaystyle \\left[\\begin{matrix}1.0 & 0 & 0\\\\2.0 & 1 & 3\\\\3.0 & 2 & 3.0 \\epsilon\\end{matrix}\\right]$"
      ],
      "text/plain": [
       "Matrix([\n",
       "[1.0, 0,            0],\n",
       "[2.0, 1,            3],\n",
       "[3.0, 2, 3.0*\\epsilon]])"
      ]
     },
     "execution_count": 20,
     "metadata": {},
     "output_type": "execute_result"
    }
   ],
   "source": [
    "aa.T"
   ]
  },
  {
   "cell_type": "code",
   "execution_count": null,
   "metadata": {},
   "outputs": [],
   "source": [
    "x,y = sp.symbols('x,y')"
   ]
  },
  {
   "cell_type": "code",
   "execution_count": null,
   "metadata": {},
   "outputs": [],
   "source": [
    "A =sp.Matrix([[x,y,1],[y,x,2],[x,y,3]])"
   ]
  },
  {
   "cell_type": "code",
   "execution_count": null,
   "metadata": {},
   "outputs": [],
   "source": [
    "\n",
    "B=sp.Matrix([[10,20,30]]).T"
   ]
  },
  {
   "cell_type": "code",
   "execution_count": null,
   "metadata": {},
   "outputs": [
    {
     "data": {
      "text/plain": [
       "[10*x + 20*y + 30, 20*x + 10*y + 60, 10*x + 20*y + 90]"
      ]
     },
     "execution_count": 39,
     "metadata": {},
     "output_type": "execute_result"
    }
   ],
   "source": [
    "list(A@B)"
   ]
  },
  {
   "cell_type": "code",
   "execution_count": null,
   "metadata": {},
   "outputs": [
    {
     "data": {
      "text/latex": [
       "$\\displaystyle \\left[\\begin{matrix}x & x & 1\\\\x & x & 2\\end{matrix}\\right]$"
      ],
      "text/plain": [
       "[[x, x, 1], [x, x, 2]]"
      ]
     },
     "execution_count": 24,
     "metadata": {},
     "output_type": "execute_result"
    }
   ],
   "source": [
    "A.subs({x:y,y:x})"
   ]
  },
  {
   "cell_type": "code",
   "execution_count": 69,
   "metadata": {},
   "outputs": [],
   "source": [
    "x,z = sp.symbols('x,z',commutative =False)\n",
    "y,a = sp.symbols('y,a')"
   ]
  },
  {
   "cell_type": "code",
   "execution_count": 57,
   "metadata": {},
   "outputs": [
    {
     "data": {
      "text/latex": [
       "$\\displaystyle a x + a x z x z + 2 a x^{2} + y^{3} x^{2} + x^{2}$"
      ],
      "text/plain": [
       "a*x + a*x*z*x*z + 2*a*x**2 + y**3*x**2 + x**2"
      ]
     },
     "execution_count": 57,
     "metadata": {},
     "output_type": "execute_result"
    }
   ],
   "source": [
    "expr = a*x + x**2 +2*x*a*x+ y*y*x*x*y+ x*z*x*z*a\n",
    "expr"
   ]
  },
  {
   "cell_type": "code",
   "execution_count": 44,
   "metadata": {},
   "outputs": [
    {
     "data": {
      "text/plain": [
       "True"
      ]
     },
     "execution_count": 44,
     "metadata": {},
     "output_type": "execute_result"
    }
   ],
   "source": [
    "isinstance(expr,sp.Add)"
   ]
  },
  {
   "cell_type": "code",
   "execution_count": 49,
   "metadata": {},
   "outputs": [
    {
     "data": {
      "text/plain": [
       "(x**2, a*x, y**3*x**2, 2*a*x**2)"
      ]
     },
     "execution_count": 49,
     "metadata": {},
     "output_type": "execute_result"
    }
   ],
   "source": [
    "expr.args\n"
   ]
  },
  {
   "cell_type": "code",
   "execution_count": 55,
   "metadata": {},
   "outputs": [
    {
     "data": {
      "text/latex": [
       "$\\displaystyle 0$"
      ],
      "text/plain": [
       "0"
      ]
     },
     "execution_count": 55,
     "metadata": {},
     "output_type": "execute_result"
    }
   ],
   "source": [
    "expr.args[0].coeff(x**4)"
   ]
  },
  {
   "cell_type": "code",
   "execution_count": 46,
   "metadata": {},
   "outputs": [],
   "source": [
    "from sympy.polys.polytools import degree"
   ]
  },
  {
   "cell_type": "code",
   "execution_count": 48,
   "metadata": {},
   "outputs": [
    {
     "ename": "GeneratorsError",
     "evalue": "non-commutative generators: (x,)",
     "output_type": "error",
     "traceback": [
      "\u001b[0;31m---------------------------------------------------------------------------\u001b[0m",
      "\u001b[0;31mGeneratorsError\u001b[0m                           Traceback (most recent call last)",
      "Cell \u001b[0;32mIn[48], line 1\u001b[0m\n\u001b[0;32m----> 1\u001b[0m degree(expr\u001b[39m.\u001b[39;49margs[\u001b[39m0\u001b[39;49m],x)\n",
      "File \u001b[0;32m~/miniconda3/envs/Germanium_Spins_FE/lib/python3.10/site-packages/sympy/polys/polytools.py:4556\u001b[0m, in \u001b[0;36mdegree\u001b[0;34m(f, gen)\u001b[0m\n\u001b[1;32m   4554\u001b[0m             p, _ \u001b[39m=\u001b[39m poly_from_expr(f)\n\u001b[1;32m   4555\u001b[0m         \u001b[39melse\u001b[39;00m:\n\u001b[0;32m-> 4556\u001b[0m             p, _ \u001b[39m=\u001b[39m poly_from_expr(f, gen)\n\u001b[1;32m   4558\u001b[0m \u001b[39mif\u001b[39;00m isNum:\n\u001b[1;32m   4559\u001b[0m     \u001b[39mreturn\u001b[39;00m S\u001b[39m.\u001b[39mZero \u001b[39mif\u001b[39;00m f \u001b[39melse\u001b[39;00m S\u001b[39m.\u001b[39mNegativeInfinity\n",
      "File \u001b[0;32m~/miniconda3/envs/Germanium_Spins_FE/lib/python3.10/site-packages/sympy/polys/polytools.py:4363\u001b[0m, in \u001b[0;36mpoly_from_expr\u001b[0;34m(expr, *gens, **args)\u001b[0m\n\u001b[1;32m   4360\u001b[0m \u001b[39m@public\u001b[39m\n\u001b[1;32m   4361\u001b[0m \u001b[39mdef\u001b[39;00m \u001b[39mpoly_from_expr\u001b[39m(expr, \u001b[39m*\u001b[39mgens, \u001b[39m*\u001b[39m\u001b[39m*\u001b[39margs):\n\u001b[1;32m   4362\u001b[0m     \u001b[39m\"\"\"Construct a polynomial from an expression. \"\"\"\u001b[39;00m\n\u001b[0;32m-> 4363\u001b[0m     opt \u001b[39m=\u001b[39m options\u001b[39m.\u001b[39;49mbuild_options(gens, args)\n\u001b[1;32m   4364\u001b[0m     \u001b[39mreturn\u001b[39;00m _poly_from_expr(expr, opt)\n",
      "File \u001b[0;32m~/miniconda3/envs/Germanium_Spins_FE/lib/python3.10/site-packages/sympy/polys/polyoptions.py:746\u001b[0m, in \u001b[0;36mbuild_options\u001b[0;34m(gens, args)\u001b[0m\n\u001b[1;32m    743\u001b[0m     gens, args \u001b[39m=\u001b[39m (), gens\n\u001b[1;32m    745\u001b[0m \u001b[39mif\u001b[39;00m \u001b[39mlen\u001b[39m(args) \u001b[39m!=\u001b[39m \u001b[39m1\u001b[39m \u001b[39mor\u001b[39;00m \u001b[39m'\u001b[39m\u001b[39mopt\u001b[39m\u001b[39m'\u001b[39m \u001b[39mnot\u001b[39;00m \u001b[39min\u001b[39;00m args \u001b[39mor\u001b[39;00m gens:\n\u001b[0;32m--> 746\u001b[0m     \u001b[39mreturn\u001b[39;00m Options(gens, args)\n\u001b[1;32m    747\u001b[0m \u001b[39melse\u001b[39;00m:\n\u001b[1;32m    748\u001b[0m     \u001b[39mreturn\u001b[39;00m args[\u001b[39m'\u001b[39m\u001b[39mopt\u001b[39m\u001b[39m'\u001b[39m]\n",
      "File \u001b[0;32m~/miniconda3/envs/Germanium_Spins_FE/lib/python3.10/site-packages/sympy/polys/polyoptions.py:155\u001b[0m, in \u001b[0;36mOptions.__init__\u001b[0;34m(self, gens, args, flags, strict)\u001b[0m\n\u001b[1;32m    152\u001b[0m         \u001b[39mif\u001b[39;00m value \u001b[39mis\u001b[39;00m \u001b[39mnot\u001b[39;00m \u001b[39mNone\u001b[39;00m:\n\u001b[1;32m    153\u001b[0m             \u001b[39mself\u001b[39m[option] \u001b[39m=\u001b[39m \u001b[39mcls\u001b[39m\u001b[39m.\u001b[39mpreprocess(value)\n\u001b[0;32m--> 155\u001b[0m preprocess_options(args)\n\u001b[1;32m    157\u001b[0m \u001b[39mfor\u001b[39;00m key, value \u001b[39min\u001b[39;00m \u001b[39mdict\u001b[39m(defaults)\u001b[39m.\u001b[39mitems():\n\u001b[1;32m    158\u001b[0m     \u001b[39mif\u001b[39;00m key \u001b[39min\u001b[39;00m \u001b[39mself\u001b[39m:\n",
      "File \u001b[0;32m~/miniconda3/envs/Germanium_Spins_FE/lib/python3.10/site-packages/sympy/polys/polyoptions.py:153\u001b[0m, in \u001b[0;36mOptions.__init__.<locals>.preprocess_options\u001b[0;34m(args)\u001b[0m\n\u001b[1;32m    150\u001b[0m             \u001b[39mraise\u001b[39;00m OptionError(\u001b[39m\"\u001b[39m\u001b[39m'\u001b[39m\u001b[39m%s\u001b[39;00m\u001b[39m'\u001b[39m\u001b[39m flag is not allowed in this context\u001b[39m\u001b[39m\"\u001b[39m \u001b[39m%\u001b[39m option)\n\u001b[1;32m    152\u001b[0m \u001b[39mif\u001b[39;00m value \u001b[39mis\u001b[39;00m \u001b[39mnot\u001b[39;00m \u001b[39mNone\u001b[39;00m:\n\u001b[0;32m--> 153\u001b[0m     \u001b[39mself\u001b[39m[option] \u001b[39m=\u001b[39m \u001b[39mcls\u001b[39;49m\u001b[39m.\u001b[39;49mpreprocess(value)\n",
      "File \u001b[0;32m~/miniconda3/envs/Germanium_Spins_FE/lib/python3.10/site-packages/sympy/polys/polyoptions.py:294\u001b[0m, in \u001b[0;36mGens.preprocess\u001b[0;34m(cls, gens)\u001b[0m\n\u001b[1;32m    292\u001b[0m     \u001b[39mraise\u001b[39;00m GeneratorsError(\u001b[39m\"\u001b[39m\u001b[39mduplicated generators: \u001b[39m\u001b[39m%s\u001b[39;00m\u001b[39m\"\u001b[39m \u001b[39m%\u001b[39m \u001b[39mstr\u001b[39m(gens))\n\u001b[1;32m    293\u001b[0m \u001b[39melif\u001b[39;00m \u001b[39many\u001b[39m(gen\u001b[39m.\u001b[39mis_commutative \u001b[39mis\u001b[39;00m \u001b[39mFalse\u001b[39;00m \u001b[39mfor\u001b[39;00m gen \u001b[39min\u001b[39;00m gens):\n\u001b[0;32m--> 294\u001b[0m     \u001b[39mraise\u001b[39;00m GeneratorsError(\u001b[39m\"\u001b[39m\u001b[39mnon-commutative generators: \u001b[39m\u001b[39m%s\u001b[39;00m\u001b[39m\"\u001b[39m \u001b[39m%\u001b[39m \u001b[39mstr\u001b[39m(gens))\n\u001b[1;32m    296\u001b[0m \u001b[39mreturn\u001b[39;00m \u001b[39mtuple\u001b[39m(gens)\n",
      "\u001b[0;31mGeneratorsError\u001b[0m: non-commutative generators: (x,)"
     ]
    }
   ],
   "source": [
    "degree(expr.args[0],x)\n"
   ]
  },
  {
   "cell_type": "code",
   "execution_count": 62,
   "metadata": {},
   "outputs": [],
   "source": [
    "D=sp.Dummy(commutative=False)"
   ]
  },
  {
   "cell_type": "code",
   "execution_count": 64,
   "metadata": {},
   "outputs": [
    {
     "data": {
      "text/plain": [
       "False"
      ]
     },
     "execution_count": 64,
     "metadata": {},
     "output_type": "execute_result"
    }
   ],
   "source": [
    "D.is_commutative"
   ]
  },
  {
   "cell_type": "code",
   "execution_count": 73,
   "metadata": {},
   "outputs": [],
   "source": [
    "EX = x*(z+2)+(z+2)*x"
   ]
  },
  {
   "cell_type": "code",
   "execution_count": 74,
   "metadata": {},
   "outputs": [
    {
     "data": {
      "text/plain": [
       "True"
      ]
     },
     "execution_count": 74,
     "metadata": {},
     "output_type": "execute_result"
    }
   ],
   "source": [
    "isinstance(EX,sp.Add)"
   ]
  },
  {
   "cell_type": "code",
   "execution_count": 76,
   "metadata": {},
   "outputs": [
    {
     "data": {
      "text/plain": [
       "(x*(2 + z), (2 + z)*x)"
      ]
     },
     "execution_count": 76,
     "metadata": {},
     "output_type": "execute_result"
    }
   ],
   "source": [
    "EX.args"
   ]
  },
  {
   "cell_type": "code",
   "execution_count": 79,
   "metadata": {},
   "outputs": [
    {
     "data": {
      "text/latex": [
       "$\\displaystyle y \\left(a + 2\\right)$"
      ],
      "text/plain": [
       "y*(a + 2)"
      ]
     },
     "execution_count": 79,
     "metadata": {},
     "output_type": "execute_result"
    }
   ],
   "source": [
    "EX.args[0].subs({x:y,z:a})"
   ]
  },
  {
   "cell_type": "code",
   "execution_count": 81,
   "metadata": {},
   "outputs": [
    {
     "data": {
      "text/latex": [
       "$\\displaystyle x \\left(2 + z\\right) + \\left(2 + z\\right) x$"
      ],
      "text/plain": [
       "x*(2 + z) + (2 + z)*x"
      ]
     },
     "execution_count": 81,
     "metadata": {},
     "output_type": "execute_result"
    }
   ],
   "source": [
    "EX.simplify()"
   ]
  },
  {
   "cell_type": "code",
   "execution_count": 93,
   "metadata": {},
   "outputs": [],
   "source": [
    "from sympy.simplify import separatevars\n",
    "L=separatevars(EX,symbols=(x,z),dict=True)"
   ]
  },
  {
   "cell_type": "code",
   "execution_count": 94,
   "metadata": {},
   "outputs": [
    {
     "data": {
      "text/plain": [
       "True"
      ]
     },
     "execution_count": 94,
     "metadata": {},
     "output_type": "execute_result"
    }
   ],
   "source": [
    "L is None"
   ]
  },
  {
   "cell_type": "code",
   "execution_count": 97,
   "metadata": {},
   "outputs": [
    {
     "data": {
      "text/latex": [
       "$\\displaystyle 4 x + x z + z x$"
      ],
      "text/plain": [
       "4*x + x*z + z*x"
      ]
     },
     "execution_count": 97,
     "metadata": {},
     "output_type": "execute_result"
    }
   ],
   "source": [
    "EX.expand()"
   ]
  },
  {
   "cell_type": "code",
   "execution_count": null,
   "metadata": {},
   "outputs": [],
   "source": []
  }
 ],
 "metadata": {
  "kernelspec": {
   "display_name": "Germanium_Spins_FE",
   "language": "python",
   "name": "python3"
  },
  "language_info": {
   "codemirror_mode": {
    "name": "ipython",
    "version": 3
   },
   "file_extension": ".py",
   "mimetype": "text/x-python",
   "name": "python",
   "nbconvert_exporter": "python",
   "pygments_lexer": "ipython3",
   "version": "3.10.8"
  },
  "orig_nbformat": 4
 },
 "nbformat": 4,
 "nbformat_minor": 2
}
