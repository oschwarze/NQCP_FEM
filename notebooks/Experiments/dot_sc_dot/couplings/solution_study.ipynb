{
 "cells": [
  {
   "cell_type": "code",
   "execution_count": 2,
   "metadata": {},
   "outputs": [
    {
     "name": "stdout",
     "output_type": "stream",
     "text": [
      "'SLURM_ARRAY_TASK_ID'\n"
     ]
    }
   ],
   "source": [
    "\"\"\"\n",
    "This script runs a gridsearch and saves the results to a CSV file. This can be used on SLURM\n",
    "\"\"\"\n",
    "\n",
    "import os\n",
    "import sys\n",
    "try:\n",
    "    task_id = int(os.environ['SLURM_ARRAY_TASK_ID'])-1 # index starts from 1!\n",
    "    n_tasks = int(os.environ['SLURM_ARRAY_TASK_COUNT'])\n",
    "except Exception as err:\n",
    "    print(err)\n",
    "    task_id = 0\n",
    "    n_tasks = 1   \n",
    "\n",
    "\n",
    "TEMP_SAVE= f'sweet_spot_low2.pkl' #MP\n",
    "\n",
    "\n",
    "try:\n",
    "    import nqcpfem\n",
    "except ModuleNotFoundError:\n",
    "    import sys\n",
    "    sys.path.extend([r'/mnt/c/Users/olisc/NQCP/NQCP_FEM/'])\n",
    "    import nqcpfem\n",
    "import pandas as pd\n",
    "import logging\n",
    "LOGGER = logging.getLogger()\n",
    "\n",
    "LOGGER.setLevel(logging.DEBUG)\n",
    "\n",
    "file_formatting =logging.Formatter(fmt='- %(asctime)s: %(processName)s:%(name)s >> %(levelname)s:%(message)s', datefmt= '%Y-%m-%d %H:%M:%S')\n",
    "if True:\n",
    "    ch= logging.StreamHandler()\n",
    "    ch.setLevel(logging.DEBUG)\n",
    "    ch.setFormatter(file_formatting)\n",
    "    LOGGER.addHandler(ch)\n",
    "\n",
    "logging.getLogger('spawn').setLevel(logging.ERROR)\n",
    "logging.getLogger('dist').setLevel(logging.ERROR)\n",
    "logging.getLogger('build_ext').setLevel(logging.ERROR)\n",
    "\n",
    "\n",
    "import numpy as np\n",
    "import sympy\n",
    "E0 = 1/(nqcpfem.UNIT_CONVENTION['J to eV']*1000000) # unit_scale: 1muev\n",
    "from nqcpfem.solvers import PETScSolver\n",
    "from nqcpfem.systems import PositionalState,DefiniteTensorComponent\n",
    "from nqcpfem.envelope_function import RectangleDomain\n",
    "from nqcpfem.fenics import FEniCsModel\n",
    "from nqcpfem.band_model import LuttingerKohnHamiltonian\n",
    "from nqcpfem.systems.dot_sc_dot import *"
   ]
  },
  {
   "cell_type": "code",
   "execution_count": 3,
   "metadata": {},
   "outputs": [
    {
     "name": "stderr",
     "output_type": "stream",
     "text": [
      "- 2023-11-29 09:09:31: MainProcess:nqcpfem.fenics >> WARNING:the k-ordering of the band model must be FEM, but it was not set. setting it to FEM wit left reduction direction\n"
     ]
    }
   ],
   "source": [
    "def syst_init():\n",
    "    H = LuttingerKohnHamiltonian(spatial_dim=3).material_spec('Ge').add_z_confinement(1,'box',25e-9)\n",
    "    H.BdG_extension()\n",
    "    B = 1#np.sqrt(2)/2\n",
    "    H.add_zeeman_term(B=[B/np.sqrt(2),B/np.sqrt(2),0])\n",
    "    \n",
    "\n",
    "    #H.add_potential(-sympy.symbols('\\mu'))\n",
    "\n",
    "    domain =RectangleDomain(200e-9,100e-9,0)\n",
    "    domain.resolution = [100,50]\n",
    "\n",
    "    model = FEniCsModel(H,None, boundary_condition=0,function_class=('CG',1),fix_energy_scale=True)\n",
    "    omega = 2e12 # chosen so that short side of dot is around 50 nm  \n",
    "    L_sc = 290e-9\n",
    "    D_dot = 70e-9\n",
    "    #ldot = Dot(-(D_dot/2 +1e-9+L_sc/2),omega,0,D_dot,1.44*omega,0,100e-9,)\n",
    "    ldot = Dot(-( D_dot/np.sqrt(1.44)/2+ 1e-9+L_sc/2),1.44*omega,0,D_dot/np.sqrt(1.44),omega,0,100e-9,)\n",
    "    rdot = Dot(( D_dot/np.sqrt(1.44)/2+ 1e-9+L_sc/2),1.44*omega,0,D_dot/np.sqrt(1.44),omega,0,100e-9,)\n",
    "    barr = Barrier(0e-9,1000*E0) # 1 meV barrier\n",
    "    barr = Barrier(0e-9,1000*E0) # 1 meV barrier\n",
    "    #rbarr = Barrier(15e-9,3/(nqcpfem.UNIT_CONVENTION['J to eV']*1000))\n",
    "    sc = Superconductor(100*E0,L_sc,100e-9,0,5*E0)\n",
    "    from nqcpfem import _m_e\n",
    "    sc = Superconductor(0*E0,L_sc,150e-9,0,(1.44**2+1)*_m_e/2*(omega)**2*(70e-9)**2)\n",
    "    \n",
    "    #rbarr = Barrier(15e-9,3/(nqcpfem.UNIT_CONVENTION['J to eV']*1000))\n",
    "    sc = Superconductor(100*E0,L_sc,100e-9,0,5*E0)\n",
    "    syst = DotSCDot(model,ldot,barr,sc,barr,rdot,domain_resolution=[150,60])\n",
    "\n",
    "    mu,mu_sc = sympy.symbols('\\mu,\\mu_{sc}')\n",
    "    mu_R = sympy.symbols('\\mu_{R}')\n",
    "    mu_L = sympy.symbols('\\mu_{L}')\n",
    "    chemical_potential = SymbolicFunction(sympy.Piecewise((-mu_sc,syst.domains['sc_in']),(-mu_L,syst.domains['ld_in']),(-mu_R,syst.domains['rd_in']),(0,True)),'\\mu(x)')\n",
    "    H.add_potential(chemical_potential)\n",
    "\n",
    "    H.parameter_dict[mu_L] = 0*E0 # will be set to something other than zero on determining couping\n",
    "    H.parameter_dict[mu_R] = 0*E0 # will be set to something other than zero on determining couping\n",
    "    H.parameter_dict[mu_sc] = 0\n",
    "\n",
    "    #minimizations = syst.determine_all_couplings(0,3,solver,425*E0,(-50*E0,50*E0))\n",
    "    return syst\n",
    "\n",
    "syst = syst_init() # initialize before to get easier access.\n",
    "\n",
    "from nqcpfem.solvers import PETScSolver,IterativeSolver\n",
    "solver = PETScSolver(k=16,which='SM',sigma=0)\n",
    "\n",
    "def system_update(mu_sc_val):\n",
    "    mu_R = sympy.symbols('\\mu_{R}')\n",
    "    mu,mu_sc = sympy.symbols('\\mu,\\mu_{sc}')\n",
    "    mu_L = sympy.symbols('\\mu_{L}')\n",
    "    syst.envelope_model.band_model.parameter_dict[mu_sc] = mu_sc_val\n",
    "\n",
    "    \n",
    "    return syst\n",
    "\n",
    "from nqcpfem.parameter_search import IterativeModelSolver,ParameterSearch\n",
    "\n",
    "\n",
    "def model_eval(mu_sc_val,mu_R_val):\n",
    "    \n",
    "    mu_R = sympy.symbols('\\mu_{R}')\n",
    "    S = system_update(mu_sc_val)\n",
    "    S.envelope_model.band_model.parameter_dict[mu_R] = mu_R_val #4600*E0#+150*E0#,150*E0)\n",
    "    return S.envelope_model\n",
    "\n",
    "def drop_eigenstates(model,res):\n",
    "    return res[0]\n",
    "\n",
    "it_solver = IterativeModelSolver(model_eval,solver)\n",
    "    "
   ]
  },
  {
   "cell_type": "code",
   "execution_count": 8,
   "metadata": {},
   "outputs": [],
   "source": [
    "\n",
    "mu_sc_values = np.linspace(4350,4450,8)*E0 # Log mu sweet_spot zoom\n",
    "\n",
    "mu_R = sympy.symbols('\\mu_{R}')\n",
    "mu,mu_sc = sympy.symbols('\\mu,\\mu_{sc}')\n",
    "mu_L = sympy.symbols('\\mu_{L}')\n",
    "S=system_update(4000*E0)\n",
    "S.envelope_model.band_model.parameter_dict[mu_L] = 9410*E0#,(-150*E0,150*E0)\n",
    "S.envelope_model.band_model.parameter_dict[mu_R] = 9410*E0+35*E0#+150*E0#,150*E0)\n",
    "#R_low = solver.solve(S.envelope_model)"
   ]
  },
  {
   "cell_type": "code",
   "execution_count": 6,
   "metadata": {},
   "outputs": [
    {
     "name": "stderr",
     "output_type": "stream",
     "text": [
      "- 2023-11-29 09:10:16: MainProcess:matplotlib >> DEBUG:matplotlib data path: /home/oliver/miniconda3/envs/test/lib/python3.10/site-packages/matplotlib/mpl-data\n",
      "- 2023-11-29 09:10:16: MainProcess:matplotlib >> DEBUG:CONFIGDIR=/home/oliver/.config/matplotlib\n",
      "- 2023-11-29 09:10:16: MainProcess:matplotlib >> DEBUG:interactive is False\n",
      "- 2023-11-29 09:10:16: MainProcess:matplotlib >> DEBUG:platform is linux\n",
      "- 2023-11-29 09:10:16: MainProcess:matplotlib >> DEBUG:CACHEDIR=/home/oliver/.cache/matplotlib\n",
      "- 2023-11-29 09:10:16: MainProcess:matplotlib.font_manager >> DEBUG:Using fontManager instance from /home/oliver/.cache/matplotlib/fontlist-v330.json\n"
     ]
    }
   ],
   "source": [
    "import pyvista\n",
    "pyvista.set_jupyter_backend('static')\n",
    "from nqcpfem.plotting import plot_eigenvector"
   ]
  },
  {
   "cell_type": "code",
   "execution_count": 5,
   "metadata": {},
   "outputs": [
    {
     "name": "stdout",
     "output_type": "stream",
     "text": [
      "[ -24.34246352   24.34246352  -50.57875439   50.57875439  -71.00555576\n",
      "   71.00555576  -96.92540452   96.92540452  174.71466722 -174.71466722\n",
      "  193.98070599 -193.98070599  227.42389554 -227.42389554  236.54050904\n",
      " -236.54050904]\n"
     ]
    }
   ],
   "source": [
    "print(R_low[0]/E0)"
   ]
  },
  {
   "cell_type": "code",
   "execution_count": 20,
   "metadata": {},
   "outputs": [],
   "source": [
    "basis_states = {'plu':5,'hrd':6,'pru':7,'hru':2,'prd':3} #up is the low energy one, "
   ]
  },
  {
   "cell_type": "code",
   "execution_count": 21,
   "metadata": {},
   "outputs": [],
   "source": [
    "basis_states = {k:R_low[1][i] for k,i in basis_states.items()}\n",
    "import pickle as pkl\n",
    "with open('symmetric_dots_290nm_150x60.pkl','wb') as f:\n",
    "    pkl.dump(basis_states,f)\n",
    "    "
   ]
  },
  {
   "cell_type": "code",
   "execution_count": 4,
   "metadata": {},
   "outputs": [],
   "source": [
    "import pickle as pkl\n",
    "with open('/mnt/c/Users/olisc/NQCP/NQCP_FEM/slurm/small_dots/290/small_dots_290nm_150x60.pkl','rb') as f:\n",
    "    basis_states = pkl.load(f)"
   ]
  },
  {
   "cell_type": "code",
   "execution_count": 5,
   "metadata": {},
   "outputs": [
    {
     "ename": "NameError",
     "evalue": "name 'R_low' is not defined",
     "output_type": "error",
     "traceback": [
      "\u001b[0;31m---------------------------------------------------------------------------\u001b[0m",
      "\u001b[0;31mNameError\u001b[0m                                 Traceback (most recent call last)",
      "\u001b[1;32m/mnt/c/Users/olisc/NQCP/NQCP_FEM/notebooks/Experiments/dot_sc_dot/couplings/solution_study.ipynb Cell 9\u001b[0m line \u001b[0;36m1\n\u001b[0;32m----> <a href='vscode-notebook-cell://wsl%2Bubuntu/mnt/c/Users/olisc/NQCP/NQCP_FEM/notebooks/Experiments/dot_sc_dot/couplings/solution_study.ipynb#X11sdnNjb2RlLXJlbW90ZQ%3D%3D?line=0'>1</a>\u001b[0m R_low[\u001b[39m0\u001b[39m]\u001b[39m/\u001b[39mE0\n",
      "\u001b[0;31mNameError\u001b[0m: name 'R_low' is not defined"
     ]
    }
   ],
   "source": [
    "R_low[0]/E0"
   ]
  },
  {
   "cell_type": "code",
   "execution_count": 16,
   "metadata": {},
   "outputs": [
    {
     "data": {
      "image/jpeg": "[encoded data removed]",
      "image/png": "[encoded data removed]",
      "text/plain": [
       "<PIL.Image.Image image mode=RGB size=1024x768>"
      ]
     },
     "metadata": {},
     "output_type": "display_data"
    },
    {
     "name": "stdout",
     "output_type": "stream",
     "text": [
      "P: 21.477282813417144\n",
      "H: 193.87316657029382\n",
      "AM: [-1.06974492e-01 -8.59533852e-02 -5.38438015e-13]\n"
     ]
    }
   ],
   "source": [
    "#psi = R_low[1][7]\n",
    "psi = basis_states['hrd']\n",
    "from nqcpfem.observables import band_angular_momentum\n",
    "from nqcpfem import _hbar\n",
    "AM = band_angular_momentum(S.envelope_model.band_model)\n",
    "plot_eigenvector(psi,S.envelope_model)\n",
    "print('P:',np.linalg.norm(psi[:4]))\n",
    "print('H:',np.linalg.norm(psi[4:]))\n",
    "print('AM:',AM.mel(psi)/_hbar)"
   ]
  },
  {
   "cell_type": "code",
   "execution_count": 7,
   "metadata": {},
   "outputs": [
    {
     "name": "stdout",
     "output_type": "stream",
     "text": [
      "[[ 0.5       -0.5j  0.        +0.j   0.        +0.j  -0.5       +0.5j]\n",
      " [ 0.70710678+0.j   0.        +0.j   0.        +0.j   0.70710678+0.j ]]\n"
     ]
    }
   ],
   "source": [
    "from nqcpfem.systems.dot_sc_dot import make_B_eigenstates\n",
    "big_spins = np.array([[1,0,0,0],[0,0,0,1]])\n",
    "\n",
    "B = np.sqrt(2)/2\n",
    "Bvec = [B/np.sqrt(2),B/np.sqrt(2),0]\n",
    "rotated = make_B_eigenstates(*Bvec)@big_spins\n",
    "print(rotated)\n",
    "spin_up_I = rotated[0,:,np.newaxis]\n",
    "spin_down_I = rotated[1,:,np.newaxis]"
   ]
  },
  {
   "cell_type": "code",
   "execution_count": 10,
   "metadata": {},
   "outputs": [],
   "source": [
    " mask_template = lambda x: np.zeros(syst.envelope_model.solution_shape()[:-1],dtype='complex')\n",
    "N = spin_up_I.shape[0]\n",
    "\n",
    "up_p_mask = mask_template(None)\n",
    "up_p_mask[:N] = spin_up_I\n",
    "up_p_state = SpinorProjection(up_p_mask,'spin up particle',axis=0)\n",
    "\n",
    "\n",
    "down_p_mask = mask_template(None)\n",
    "up_p_mask[:N] = spin_down_I\n",
    "down_p_state = SpinorProjection(down_p_mask,'spin down particle',axis=0)\n",
    "\n",
    "up_h_mask = mask_template(None)\n",
    "ph_shift = int(up_h_mask.shape[0]/2)\n",
    "up_h_mask[ph_shift:] = spin_up_I.conj()\n",
    "\n",
    "up_h_state = SpinorProjection(up_h_mask,'spin up hole',axis=0)\n",
    "\n",
    "\n",
    "down_h_mask = mask_template(None)\n",
    "up_h_mask[ph_shift:] = spin_down_I.conj()\n",
    "down_h_state = SpinorProjection(down_h_mask,'spin down hole',axis=0)\n",
    "left,right,sc = syst.__make_system_classes__()\n",
    "\n",
    "\n",
    "# step 2: Determine Tuu by detuning around mL = mR with s(pick spin up lef and spin up right stateClasses)\n",
    "left_up = left.combine_state_cls(up_p_state,'left up particle')\n",
    "right_up = right.combine_state_cls(up_p_state,'right up particle')\n",
    "\n",
    "right_down = right.combine_state_cls(down_p_state,'right down particle')\n",
    "\n",
    "right_h_down = right.combine_state_cls(down_h_state,'right down anit-particle')\n",
    "right_h_up = right.combine_state_cls(up_h_state,'right up anit-particle')\n",
    "\n"
   ]
  },
  {
   "cell_type": "code",
   "execution_count": 11,
   "metadata": {},
   "outputs": [],
   "source": [
    "ts=(left_up,right_up)\n",
    "X_arr = syst.envelope_model.positional_rep(R_low[1][0])[1]\n",
    "W=syst.subspace_weights(ts,R_low[1],x_points=X_arr).T"
   ]
  },
  {
   "cell_type": "code",
   "execution_count": 37,
   "metadata": {},
   "outputs": [
    {
     "name": "stderr",
     "output_type": "stream",
     "text": [
      "- 2023-11-08 09:19:02: MainProcess:nqcpfem.band_model >> DEBUG:finding eigenvalues\n",
      "- 2023-11-08 09:19:02: MainProcess:nqcpfem.band_model >> DEBUG:building numerical array\n"
     ]
    },
    {
     "data": {
      "text/plain": [
       "[<matplotlib.lines.Line2D at 0x7ff982ceac80>,\n",
       " <matplotlib.lines.Line2D at 0x7ff982cead40>,\n",
       " <matplotlib.lines.Line2D at 0x7ff982ceadd0>,\n",
       " <matplotlib.lines.Line2D at 0x7ff982ceaf50>,\n",
       " <matplotlib.lines.Line2D at 0x7ff982ce8eb0>,\n",
       " <matplotlib.lines.Line2D at 0x7ff982ce8e80>,\n",
       " <matplotlib.lines.Line2D at 0x7ff982ce8550>,\n",
       " <matplotlib.lines.Line2D at 0x7ff982ce8f10>]"
      ]
     },
     "execution_count": 37,
     "metadata": {},
     "output_type": "execute_result"
    },
    {
     "data": {
      "image/png": "[encoded data removed]",
      "text/plain": [
       "<Figure size 640x480 with 1 Axes>"
      ]
     },
     "metadata": {},
     "output_type": "display_data"
    }
   ],
   "source": [
    "from matplotlib import pyplot as plt\n",
    "plt.plot(*S.envelope_model.band_model.spectrum((-1e8,1e8),[0,1],64))"
   ]
  },
  {
   "cell_type": "code",
   "execution_count": 53,
   "metadata": {},
   "outputs": [
    {
     "name": "stdout",
     "output_type": "stream",
     "text": [
      "0.7172392873103071\n",
      "0.6926798762595752\n"
     ]
    }
   ],
   "source": [
    "R_low[0][[0,2]]/E0\n",
    "\n",
    "ext = np.zeros((8,1),dtype='complex')\n",
    "ext[:4] = #spin_up_I\n",
    "print(np.linalg.norm(np.einsum('ij,ijk->k',ext.conj(),R_low[1][0]))/np.linalg.norm(R_low[1][0]))\n",
    "print(np.linalg.norm(np.einsum('ij,ijk->k',ext.conj(),R_low[1][2]))/np.linalg.norm(R_low[1][2]))"
   ]
  },
  {
   "cell_type": "code",
   "execution_count": null,
   "metadata": {},
   "outputs": [],
   "source": [
    "# pick the 4 states that are mostly in the left dot"
   ]
  },
  {
   "cell_type": "code",
   "execution_count": 62,
   "metadata": {},
   "outputs": [],
   "source": [
    "v=make_B_eigenstates(*[1,1,0])[1].T"
   ]
  },
  {
   "cell_type": "code",
   "execution_count": 63,
   "metadata": {},
   "outputs": [],
   "source": [
    "M = np.array([[0,1-1j],[1+1j,0]])"
   ]
  },
  {
   "cell_type": "code",
   "execution_count": 64,
   "metadata": {},
   "outputs": [
    {
     "data": {
      "text/plain": [
       "(0.9999999999999998+0j)"
      ]
     },
     "execution_count": 64,
     "metadata": {},
     "output_type": "execute_result"
    }
   ],
   "source": [
    "v.conj()@M@v.T"
   ]
  },
  {
   "cell_type": "code",
   "execution_count": 22,
   "metadata": {},
   "outputs": [
    {
     "data": {
      "text/plain": [
       "<bound method DotSCDot.perturbative_selection_couplings of <nqcpfem.systems.dot_sc_dot.DotSCDot object at 0x7f97ebe1e140>>"
      ]
     },
     "execution_count": 22,
     "metadata": {},
     "output_type": "execute_result"
    }
   ],
   "source": [
    "R=S.perturbative_selection_couplings(model_basis,solver,4600*E0,(-150*E0,150*E0),method='signed')"
   ]
  },
  {
   "cell_type": "code",
   "execution_count": 27,
   "metadata": {},
   "outputs": [
    {
     "ename": "EOFError",
     "evalue": "Ran out of input",
     "output_type": "error",
     "traceback": [
      "\u001b[0;31m---------------------------------------------------------------------------\u001b[0m",
      "\u001b[0;31mEOFError\u001b[0m                                  Traceback (most recent call last)",
      "\u001b[1;32m/mnt/c/Users/olisc/NQCP/NQCP_FEM/notebooks/Experiments/dot_sc_dot/couplings/solution_study.ipynb Cell 23\u001b[0m line \u001b[0;36m5\n\u001b[1;32m      <a href='vscode-notebook-cell://wsl%2Bubuntu/mnt/c/Users/olisc/NQCP/NQCP_FEM/notebooks/Experiments/dot_sc_dot/couplings/solution_study.ipynb#X26sdnNjb2RlLXJlbW90ZQ%3D%3D?line=2'>3</a>\u001b[0m params \u001b[39m=\u001b[39m \u001b[39mtuple\u001b[39m({\u001b[39m'\u001b[39m\u001b[39mmu_sc_val\u001b[39m\u001b[39m'\u001b[39m:msc, \u001b[39m'\u001b[39m\u001b[39mmu_R_val\u001b[39m\u001b[39m'\u001b[39m:mr} \u001b[39mfor\u001b[39;00m msc \u001b[39min\u001b[39;00m mu_sc_vals \u001b[39mfor\u001b[39;00m mr \u001b[39min\u001b[39;00m mu_R_vals)\n\u001b[1;32m      <a href='vscode-notebook-cell://wsl%2Bubuntu/mnt/c/Users/olisc/NQCP/NQCP_FEM/notebooks/Experiments/dot_sc_dot/couplings/solution_study.ipynb#X26sdnNjb2RlLXJlbW90ZQ%3D%3D?line=3'>4</a>\u001b[0m \u001b[39m#param_search = ParameterSearch(params,it_solver,'debug_optim_outlier.save')\u001b[39;00m\n\u001b[0;32m----> <a href='vscode-notebook-cell://wsl%2Bubuntu/mnt/c/Users/olisc/NQCP/NQCP_FEM/notebooks/Experiments/dot_sc_dot/couplings/solution_study.ipynb#X26sdnNjb2RlLXJlbW90ZQ%3D%3D?line=4'>5</a>\u001b[0m param_search \u001b[39m=\u001b[39m ParameterSearch\u001b[39m.\u001b[39;49mload(\u001b[39m'\u001b[39;49m\u001b[39mdebug_optim_outlier.save\u001b[39;49m\u001b[39m'\u001b[39;49m,it_solver)\n",
      "File \u001b[0;32m/mnt/c/Users/olisc/NQCP/NQCP_FEM/nqcpfem/parameter_search.py:72\u001b[0m, in \u001b[0;36mParameterSearch.load\u001b[0;34m(cls, save_file, evaluation_function)\u001b[0m\n\u001b[1;32m     69\u001b[0m \u001b[39m@classmethod\u001b[39m\n\u001b[1;32m     70\u001b[0m \u001b[39mdef\u001b[39;00m \u001b[39mload\u001b[39m(\u001b[39mcls\u001b[39m,save_file,evaluation_function\u001b[39m=\u001b[39m\u001b[39mNone\u001b[39;00m):\n\u001b[1;32m     71\u001b[0m     \u001b[39mwith\u001b[39;00m \u001b[39mopen\u001b[39m(save_file,\u001b[39m'\u001b[39m\u001b[39mrb\u001b[39m\u001b[39m'\u001b[39m) \u001b[39mas\u001b[39;00m f:\n\u001b[0;32m---> 72\u001b[0m         new \u001b[39m=\u001b[39m pkl\u001b[39m.\u001b[39;49mload(f)\n\u001b[1;32m     74\u001b[0m     \u001b[39mif\u001b[39;00m evaluation_function \u001b[39mis\u001b[39;00m \u001b[39mnot\u001b[39;00m \u001b[39mNone\u001b[39;00m:\n\u001b[1;32m     75\u001b[0m         new\u001b[39m.\u001b[39mevaluation_function \u001b[39m=\u001b[39m evaluation_function\n",
      "\u001b[0;31mEOFError\u001b[0m: Ran out of input"
     ]
    }
   ],
   "source": [
    "mu_sc_vals = [4297.244094*E0,4318.503937*E0]\n",
    "mu_R_vals = np.linspace(-100,100,512)\n",
    "params = tuple({'mu_sc_val':msc, 'mu_R_val':mr} for msc in mu_sc_vals for mr in mu_R_vals)\n",
    "#param_search = ParameterSearch(params,it_solver,'debug_optim_outlier.save')\n",
    "param_search = ParameterSearch.load('debug_optim_outlier.save',it_solver)"
   ]
  },
  {
   "cell_type": "code",
   "execution_count": 4,
   "metadata": {},
   "outputs": [
    {
     "name": "stderr",
     "output_type": "stream",
     "text": [
      "- 2023-11-06 08:13:13: MainProcess:nqcpfem.parameter_search >> INFO:evaluating at grid point 1/1024\n",
      "- 2023-11-06 08:13:13: MainProcess:nqcpfem.parameter_search >> DEBUG:parameters: {'mu_sc_val': 6.884944078001299e-22, 'mu_R_val': -100.0}\n",
      "- 2023-11-06 08:13:13: MainProcess:nqcpfem.fenics >> DEBUG:creating PETSc Matrix\n",
      "- 2023-11-06 08:13:13: MainProcess:nqcpfem.fenics >> DEBUG:gathering bilinear_form\n",
      "- 2023-11-06 08:13:13: MainProcess:nqcpfem.fenics >> DEBUG:computing ufl_form\n"
     ]
    },
    {
     "name": "stdout",
     "output_type": "stream",
     "text": [
      "1\n"
     ]
    },
    {
     "name": "stderr",
     "output_type": "stream",
     "text": [
      "- 2023-11-06 08:13:16: MainProcess:nqcpfem.fenics >> DEBUG:creating constants dict\n",
      "- 2023-11-06 08:13:27: MainProcess:root >> INFO:running build_ext\n",
      "- 2023-11-06 08:13:27: MainProcess:root >> INFO:building 'libffcx_forms_330a67cd7b92feb7ddf4bbc6f78e276bb30a1622' extension\n",
      "- 2023-11-06 08:13:27: MainProcess:root >> INFO:/home/oliver/miniconda3/envs/test/bin/x86_64-conda-linux-gnu-cc -Wno-unused-result -Wsign-compare -DNDEBUG -fwrapv -O2 -Wall -fPIC -O2 -isystem /home/oliver/miniconda3/envs/test/include -fPIC -O2 -isystem /home/oliver/miniconda3/envs/test/include -march=nocona -mtune=haswell -ftree-vectorize -fPIC -fstack-protector-strong -fno-plt -O2 -ffunction-sections -pipe -isystem /home/oliver/miniconda3/envs/test/include -DNDEBUG -D_FORTIFY_SOURCE=2 -O2 -isystem /home/oliver/miniconda3/envs/test/include -fPIC -I/home/oliver/miniconda3/envs/test/lib/python3.10/site-packages/ffcx/codegeneration -I/home/oliver/miniconda3/envs/test/include/python3.10 -c libffcx_forms_330a67cd7b92feb7ddf4bbc6f78e276bb30a1622.c -o ./libffcx_forms_330a67cd7b92feb7ddf4bbc6f78e276bb30a1622.o -O2 -g0\n",
      "- 2023-11-06 08:13:30: MainProcess:root >> INFO:/home/oliver/miniconda3/envs/test/bin/x86_64-conda-linux-gnu-cc -shared -Wl,-rpath,/home/oliver/miniconda3/envs/test/lib -Wl,-rpath-link,/home/oliver/miniconda3/envs/test/lib -L/home/oliver/miniconda3/envs/test/lib -Wl,-rpath,/home/oliver/miniconda3/envs/test/lib -Wl,-rpath-link,/home/oliver/miniconda3/envs/test/lib -L/home/oliver/miniconda3/envs/test/lib -Wl,-O2 -Wl,--sort-common -Wl,--as-needed -Wl,-z,relro -Wl,-z,now -Wl,--disable-new-dtags -Wl,--gc-sections -Wl,-rpath,/home/oliver/miniconda3/envs/test/lib -Wl,-rpath-link,/home/oliver/miniconda3/envs/test/lib -L/home/oliver/miniconda3/envs/test/lib -march=nocona -mtune=haswell -ftree-vectorize -fPIC -fstack-protector-strong -fno-plt -O2 -ffunction-sections -pipe -isystem /home/oliver/miniconda3/envs/test/include -DNDEBUG -D_FORTIFY_SOURCE=2 -O2 -isystem /home/oliver/miniconda3/envs/test/include ./libffcx_forms_330a67cd7b92feb7ddf4bbc6f78e276bb30a1622.o -o ./libffcx_forms_330a67cd7b92feb7ddf4bbc6f78e276bb30a1622.cpython-310-x86_64-linux-gnu.so\n",
      "- 2023-11-06 08:13:30: MainProcess:nqcpfem.fenics >> DEBUG:gathering constants\n",
      "- 2023-11-06 08:13:30: MainProcess:nqcpfem.fenics >> DEBUG:retrieving parameter and constant dicts\n",
      "- 2023-11-06 08:13:30: MainProcess:nqcpfem.fenics >> DEBUG:updating values\n",
      "- 2023-11-06 08:13:31: MainProcess:nqcpfem.fenics >> DEBUG:retireving energy scale\n",
      "- 2023-11-06 08:13:31: MainProcess:nqcpfem.fenics >> DEBUG:computing energy_scale\n",
      "- 2023-11-06 08:13:31: MainProcess:nqcpfem.fenics >> DEBUG:constructing array\n",
      "- 2023-11-06 08:13:31: MainProcess:nqcpfem.band_model >> DEBUG:building numerical array\n",
      "- 2023-11-06 08:13:36: MainProcess:nqcpfem.band_model >> DEBUG:constructing lambda map\n",
      "- 2023-11-06 08:13:37: MainProcess:nqcpfem.fenics >> DEBUG:substituting\n",
      "- 2023-11-06 08:13:38: MainProcess:nqcpfem.fenics >> DEBUG:casting back\n",
      "- 2023-11-06 08:13:38: MainProcess:nqcpfem.fenics >> DEBUG:maximizing\n",
      "- 2023-11-06 08:13:38: MainProcess:nqcpfem.fenics >> DEBUG:gathering constants complete\n",
      "- 2023-11-06 08:13:38: MainProcess:nqcpfem.fenics >> DEBUG:assembling array\n",
      "- 2023-11-06 08:13:39: MainProcess:nqcpfem.solvers >> DEBUG:solving problem:\n",
      "- 2023-11-06 08:13:47: MainProcess:nqcpfem.solvers >> DEBUG: number of converged eigenvectors: 16\n"
     ]
    },
    {
     "name": "stdout",
     "output_type": "stream",
     "text": [
      "(21008, 21008)\n"
     ]
    },
    {
     "name": "stderr",
     "output_type": "stream",
     "text": [
      "- 2023-11-06 08:13:48: MainProcess:nqcpfem.parameter_search >> INFO:evaluating at grid point 2/1024\n",
      "- 2023-11-06 08:13:48: MainProcess:nqcpfem.parameter_search >> DEBUG:parameters: {'mu_sc_val': 6.884944078001299e-22, 'mu_R_val': -99.60861056751467}\n",
      "- 2023-11-06 08:13:48: MainProcess:nqcpfem.fenics >> DEBUG:creating PETSc Matrix\n",
      "- 2023-11-06 08:13:48: MainProcess:nqcpfem.fenics >> DEBUG:gathering constants\n",
      "- 2023-11-06 08:13:48: MainProcess:nqcpfem.fenics >> DEBUG:retrieving parameter and constant dicts\n",
      "- 2023-11-06 08:13:48: MainProcess:nqcpfem.fenics >> DEBUG:updating values\n",
      "- 2023-11-06 08:13:48: MainProcess:nqcpfem.fenics >> DEBUG:retireving energy scale\n",
      "- 2023-11-06 08:13:48: MainProcess:nqcpfem.fenics >> DEBUG:gathering constants complete\n",
      "- 2023-11-06 08:13:48: MainProcess:nqcpfem.fenics >> DEBUG:assembling array\n"
     ]
    },
    {
     "name": "stdout",
     "output_type": "stream",
     "text": [
      "2\n"
     ]
    },
    {
     "name": "stderr",
     "output_type": "stream",
     "text": [
      "- 2023-11-06 08:13:48: MainProcess:nqcpfem.solvers >> DEBUG:solving problem:\n",
      "- 2023-11-06 08:13:56: MainProcess:nqcpfem.solvers >> DEBUG: number of converged eigenvectors: 16\n"
     ]
    },
    {
     "name": "stdout",
     "output_type": "stream",
     "text": [
      "(21008, 21008)\n"
     ]
    },
    {
     "name": "stderr",
     "output_type": "stream",
     "text": [
      "- 2023-11-06 08:13:57: MainProcess:nqcpfem.parameter_search >> INFO:evaluating at grid point 3/1024\n",
      "- 2023-11-06 08:13:57: MainProcess:nqcpfem.parameter_search >> DEBUG:parameters: {'mu_sc_val': 6.884944078001299e-22, 'mu_R_val': -99.21722113502935}\n",
      "- 2023-11-06 08:13:57: MainProcess:nqcpfem.fenics >> DEBUG:creating PETSc Matrix\n",
      "- 2023-11-06 08:13:57: MainProcess:nqcpfem.fenics >> DEBUG:gathering constants\n",
      "- 2023-11-06 08:13:57: MainProcess:nqcpfem.fenics >> DEBUG:retrieving parameter and constant dicts\n",
      "- 2023-11-06 08:13:57: MainProcess:nqcpfem.fenics >> DEBUG:updating values\n",
      "- 2023-11-06 08:13:57: MainProcess:nqcpfem.fenics >> DEBUG:retireving energy scale\n",
      "- 2023-11-06 08:13:57: MainProcess:nqcpfem.fenics >> DEBUG:gathering constants complete\n",
      "- 2023-11-06 08:13:57: MainProcess:nqcpfem.fenics >> DEBUG:assembling array\n"
     ]
    },
    {
     "name": "stdout",
     "output_type": "stream",
     "text": [
      "3\n"
     ]
    },
    {
     "name": "stderr",
     "output_type": "stream",
     "text": [
      "- 2023-11-06 08:13:57: MainProcess:nqcpfem.solvers >> DEBUG:solving problem:\n",
      "- 2023-11-06 08:14:05: MainProcess:nqcpfem.solvers >> DEBUG: number of converged eigenvectors: 16\n"
     ]
    },
    {
     "name": "stdout",
     "output_type": "stream",
     "text": [
      "(21008, 21008)\n"
     ]
    },
    {
     "name": "stderr",
     "output_type": "stream",
     "text": [
      "- 2023-11-06 08:14:07: MainProcess:nqcpfem.parameter_search >> INFO:evaluating at grid point 4/1024\n",
      "- 2023-11-06 08:14:07: MainProcess:nqcpfem.parameter_search >> DEBUG:parameters: {'mu_sc_val': 6.884944078001299e-22, 'mu_R_val': -98.82583170254404}\n",
      "- 2023-11-06 08:14:07: MainProcess:nqcpfem.fenics >> DEBUG:creating PETSc Matrix\n",
      "- 2023-11-06 08:14:07: MainProcess:nqcpfem.fenics >> DEBUG:gathering constants\n",
      "- 2023-11-06 08:14:07: MainProcess:nqcpfem.fenics >> DEBUG:retrieving parameter and constant dicts\n",
      "- 2023-11-06 08:14:07: MainProcess:nqcpfem.fenics >> DEBUG:updating values\n",
      "- 2023-11-06 08:14:07: MainProcess:nqcpfem.fenics >> DEBUG:retireving energy scale\n",
      "- 2023-11-06 08:14:07: MainProcess:nqcpfem.fenics >> DEBUG:gathering constants complete\n",
      "- 2023-11-06 08:14:07: MainProcess:nqcpfem.fenics >> DEBUG:assembling array\n"
     ]
    },
    {
     "name": "stdout",
     "output_type": "stream",
     "text": [
      "4\n"
     ]
    },
    {
     "name": "stderr",
     "output_type": "stream",
     "text": [
      "- 2023-11-06 08:14:07: MainProcess:nqcpfem.solvers >> DEBUG:solving problem:\n",
      "- 2023-11-06 08:14:15: MainProcess:nqcpfem.solvers >> DEBUG: number of converged eigenvectors: 16\n"
     ]
    },
    {
     "name": "stdout",
     "output_type": "stream",
     "text": [
      "(21008, 21008)\n"
     ]
    },
    {
     "name": "stderr",
     "output_type": "stream",
     "text": [
      "- 2023-11-06 08:14:16: MainProcess:nqcpfem.parameter_search >> INFO:evaluating at grid point 5/1024\n",
      "- 2023-11-06 08:14:16: MainProcess:nqcpfem.parameter_search >> DEBUG:parameters: {'mu_sc_val': 6.884944078001299e-22, 'mu_R_val': -98.43444227005871}\n",
      "- 2023-11-06 08:14:16: MainProcess:nqcpfem.fenics >> DEBUG:creating PETSc Matrix\n",
      "- 2023-11-06 08:14:16: MainProcess:nqcpfem.fenics >> DEBUG:gathering constants\n",
      "- 2023-11-06 08:14:16: MainProcess:nqcpfem.fenics >> DEBUG:retrieving parameter and constant dicts\n",
      "- 2023-11-06 08:14:16: MainProcess:nqcpfem.fenics >> DEBUG:updating values\n",
      "- 2023-11-06 08:14:16: MainProcess:nqcpfem.fenics >> DEBUG:retireving energy scale\n"
     ]
    },
    {
     "name": "stdout",
     "output_type": "stream",
     "text": [
      "5\n"
     ]
    },
    {
     "name": "stderr",
     "output_type": "stream",
     "text": [
      "- 2023-11-06 08:14:16: MainProcess:nqcpfem.fenics >> DEBUG:gathering constants complete\n",
      "- 2023-11-06 08:14:16: MainProcess:nqcpfem.fenics >> DEBUG:assembling array\n",
      "- 2023-11-06 08:14:16: MainProcess:nqcpfem.solvers >> DEBUG:solving problem:\n",
      "- 2023-11-06 08:14:23: MainProcess:nqcpfem.solvers >> DEBUG: number of converged eigenvectors: 16\n"
     ]
    },
    {
     "name": "stdout",
     "output_type": "stream",
     "text": [
      "(21008, 21008)\n"
     ]
    },
    {
     "name": "stderr",
     "output_type": "stream",
     "text": [
      "- 2023-11-06 08:14:24: MainProcess:nqcpfem.parameter_search >> INFO:evaluating at grid point 6/1024\n",
      "- 2023-11-06 08:14:24: MainProcess:nqcpfem.parameter_search >> DEBUG:parameters: {'mu_sc_val': 6.884944078001299e-22, 'mu_R_val': -98.04305283757338}\n",
      "- 2023-11-06 08:14:24: MainProcess:nqcpfem.fenics >> DEBUG:creating PETSc Matrix\n",
      "- 2023-11-06 08:14:24: MainProcess:nqcpfem.fenics >> DEBUG:gathering constants\n",
      "- 2023-11-06 08:14:24: MainProcess:nqcpfem.fenics >> DEBUG:retrieving parameter and constant dicts\n",
      "- 2023-11-06 08:14:24: MainProcess:nqcpfem.fenics >> DEBUG:updating values\n",
      "- 2023-11-06 08:14:24: MainProcess:nqcpfem.fenics >> DEBUG:retireving energy scale\n",
      "- 2023-11-06 08:14:24: MainProcess:nqcpfem.fenics >> DEBUG:gathering constants complete\n",
      "- 2023-11-06 08:14:24: MainProcess:nqcpfem.fenics >> DEBUG:assembling array\n"
     ]
    },
    {
     "name": "stdout",
     "output_type": "stream",
     "text": [
      "6\n"
     ]
    },
    {
     "name": "stderr",
     "output_type": "stream",
     "text": [
      "- 2023-11-06 08:14:25: MainProcess:nqcpfem.solvers >> DEBUG:solving problem:\n",
      "- 2023-11-06 08:14:32: MainProcess:nqcpfem.solvers >> DEBUG: number of converged eigenvectors: 16\n"
     ]
    },
    {
     "name": "stdout",
     "output_type": "stream",
     "text": [
      "(21008, 21008)\n"
     ]
    },
    {
     "name": "stderr",
     "output_type": "stream",
     "text": [
      "- 2023-11-06 08:14:33: MainProcess:nqcpfem.parameter_search >> INFO:evaluating at grid point 7/1024\n",
      "- 2023-11-06 08:14:33: MainProcess:nqcpfem.parameter_search >> DEBUG:parameters: {'mu_sc_val': 6.884944078001299e-22, 'mu_R_val': -97.65166340508806}\n",
      "- 2023-11-06 08:14:33: MainProcess:nqcpfem.fenics >> DEBUG:creating PETSc Matrix\n",
      "- 2023-11-06 08:14:33: MainProcess:nqcpfem.fenics >> DEBUG:gathering constants\n",
      "- 2023-11-06 08:14:33: MainProcess:nqcpfem.fenics >> DEBUG:retrieving parameter and constant dicts\n",
      "- 2023-11-06 08:14:33: MainProcess:nqcpfem.fenics >> DEBUG:updating values\n",
      "- 2023-11-06 08:14:33: MainProcess:nqcpfem.fenics >> DEBUG:retireving energy scale\n",
      "- 2023-11-06 08:14:33: MainProcess:nqcpfem.fenics >> DEBUG:gathering constants complete\n",
      "- 2023-11-06 08:14:33: MainProcess:nqcpfem.fenics >> DEBUG:assembling array\n"
     ]
    },
    {
     "name": "stdout",
     "output_type": "stream",
     "text": [
      "7\n"
     ]
    },
    {
     "name": "stderr",
     "output_type": "stream",
     "text": [
      "- 2023-11-06 08:14:33: MainProcess:nqcpfem.solvers >> DEBUG:solving problem:\n",
      "- 2023-11-06 08:14:41: MainProcess:nqcpfem.solvers >> DEBUG: number of converged eigenvectors: 16\n"
     ]
    },
    {
     "name": "stdout",
     "output_type": "stream",
     "text": [
      "(21008, 21008)\n"
     ]
    },
    {
     "name": "stderr",
     "output_type": "stream",
     "text": [
      "- 2023-11-06 08:14:41: MainProcess:nqcpfem.parameter_search >> INFO:evaluating at grid point 8/1024\n",
      "- 2023-11-06 08:14:41: MainProcess:nqcpfem.parameter_search >> DEBUG:parameters: {'mu_sc_val': 6.884944078001299e-22, 'mu_R_val': -97.26027397260275}\n",
      "- 2023-11-06 08:14:42: MainProcess:nqcpfem.fenics >> DEBUG:creating PETSc Matrix\n",
      "- 2023-11-06 08:14:42: MainProcess:nqcpfem.fenics >> DEBUG:gathering constants\n",
      "- 2023-11-06 08:14:42: MainProcess:nqcpfem.fenics >> DEBUG:retrieving parameter and constant dicts\n",
      "- 2023-11-06 08:14:42: MainProcess:nqcpfem.fenics >> DEBUG:updating values\n",
      "- 2023-11-06 08:14:42: MainProcess:nqcpfem.fenics >> DEBUG:retireving energy scale\n",
      "- 2023-11-06 08:14:42: MainProcess:nqcpfem.fenics >> DEBUG:gathering constants complete\n",
      "- 2023-11-06 08:14:42: MainProcess:nqcpfem.fenics >> DEBUG:assembling array\n"
     ]
    },
    {
     "name": "stdout",
     "output_type": "stream",
     "text": [
      "8\n"
     ]
    },
    {
     "name": "stderr",
     "output_type": "stream",
     "text": [
      "- 2023-11-06 08:14:42: MainProcess:nqcpfem.solvers >> DEBUG:solving problem:\n",
      "- 2023-11-06 08:14:49: MainProcess:nqcpfem.solvers >> DEBUG: number of converged eigenvectors: 16\n"
     ]
    },
    {
     "name": "stdout",
     "output_type": "stream",
     "text": [
      "(21008, 21008)\n"
     ]
    },
    {
     "name": "stderr",
     "output_type": "stream",
     "text": [
      "- 2023-11-06 08:14:50: MainProcess:nqcpfem.parameter_search >> INFO:evaluating at grid point 9/1024\n",
      "- 2023-11-06 08:14:50: MainProcess:nqcpfem.parameter_search >> DEBUG:parameters: {'mu_sc_val': 6.884944078001299e-22, 'mu_R_val': -96.86888454011742}\n",
      "- 2023-11-06 08:14:50: MainProcess:nqcpfem.fenics >> DEBUG:creating PETSc Matrix\n",
      "- 2023-11-06 08:14:50: MainProcess:nqcpfem.fenics >> DEBUG:gathering constants\n",
      "- 2023-11-06 08:14:50: MainProcess:nqcpfem.fenics >> DEBUG:retrieving parameter and constant dicts\n",
      "- 2023-11-06 08:14:50: MainProcess:nqcpfem.fenics >> DEBUG:updating values\n",
      "- 2023-11-06 08:14:50: MainProcess:nqcpfem.fenics >> DEBUG:retireving energy scale\n",
      "- 2023-11-06 08:14:50: MainProcess:nqcpfem.fenics >> DEBUG:gathering constants complete\n",
      "- 2023-11-06 08:14:50: MainProcess:nqcpfem.fenics >> DEBUG:assembling array\n"
     ]
    },
    {
     "name": "stdout",
     "output_type": "stream",
     "text": [
      "9\n"
     ]
    },
    {
     "name": "stderr",
     "output_type": "stream",
     "text": [
      "- 2023-11-06 08:14:50: MainProcess:nqcpfem.solvers >> DEBUG:solving problem:\n",
      "- 2023-11-06 08:14:57: MainProcess:nqcpfem.solvers >> DEBUG: number of converged eigenvectors: 16\n"
     ]
    },
    {
     "name": "stdout",
     "output_type": "stream",
     "text": [
      "(21008, 21008)\n"
     ]
    },
    {
     "name": "stderr",
     "output_type": "stream",
     "text": [
      "- 2023-11-06 08:14:58: MainProcess:nqcpfem.parameter_search >> INFO:evaluating at grid point 10/1024\n",
      "- 2023-11-06 08:14:58: MainProcess:nqcpfem.parameter_search >> DEBUG:parameters: {'mu_sc_val': 6.884944078001299e-22, 'mu_R_val': -96.4774951076321}\n",
      "- 2023-11-06 08:14:58: MainProcess:nqcpfem.fenics >> DEBUG:creating PETSc Matrix\n",
      "- 2023-11-06 08:14:58: MainProcess:nqcpfem.fenics >> DEBUG:gathering constants\n",
      "- 2023-11-06 08:14:58: MainProcess:nqcpfem.fenics >> DEBUG:retrieving parameter and constant dicts\n",
      "- 2023-11-06 08:14:58: MainProcess:nqcpfem.fenics >> DEBUG:updating values\n",
      "- 2023-11-06 08:14:58: MainProcess:nqcpfem.fenics >> DEBUG:retireving energy scale\n",
      "- 2023-11-06 08:14:58: MainProcess:nqcpfem.fenics >> DEBUG:gathering constants complete\n",
      "- 2023-11-06 08:14:58: MainProcess:nqcpfem.fenics >> DEBUG:assembling array\n"
     ]
    },
    {
     "name": "stdout",
     "output_type": "stream",
     "text": [
      "10\n"
     ]
    },
    {
     "name": "stderr",
     "output_type": "stream",
     "text": [
      "- 2023-11-06 08:14:58: MainProcess:nqcpfem.solvers >> DEBUG:solving problem:\n",
      "- 2023-11-06 08:15:06: MainProcess:nqcpfem.solvers >> DEBUG: number of converged eigenvectors: 16\n"
     ]
    },
    {
     "name": "stdout",
     "output_type": "stream",
     "text": [
      "(21008, 21008)\n"
     ]
    },
    {
     "name": "stderr",
     "output_type": "stream",
     "text": [
      "- 2023-11-06 08:15:07: MainProcess:nqcpfem.parameter_search >> INFO:evaluating at grid point 11/1024\n",
      "- 2023-11-06 08:15:07: MainProcess:nqcpfem.parameter_search >> DEBUG:parameters: {'mu_sc_val': 6.884944078001299e-22, 'mu_R_val': -96.08610567514677}\n",
      "- 2023-11-06 08:15:07: MainProcess:nqcpfem.fenics >> DEBUG:creating PETSc Matrix\n",
      "- 2023-11-06 08:15:07: MainProcess:nqcpfem.fenics >> DEBUG:gathering constants\n",
      "- 2023-11-06 08:15:07: MainProcess:nqcpfem.fenics >> DEBUG:retrieving parameter and constant dicts\n",
      "- 2023-11-06 08:15:07: MainProcess:nqcpfem.fenics >> DEBUG:updating values\n",
      "- 2023-11-06 08:15:07: MainProcess:nqcpfem.fenics >> DEBUG:retireving energy scale\n",
      "- 2023-11-06 08:15:07: MainProcess:nqcpfem.fenics >> DEBUG:gathering constants complete\n",
      "- 2023-11-06 08:15:07: MainProcess:nqcpfem.fenics >> DEBUG:assembling array\n"
     ]
    },
    {
     "name": "stdout",
     "output_type": "stream",
     "text": [
      "11\n"
     ]
    },
    {
     "name": "stderr",
     "output_type": "stream",
     "text": [
      "- 2023-11-06 08:15:07: MainProcess:nqcpfem.solvers >> DEBUG:solving problem:\n",
      "- 2023-11-06 08:15:12: MainProcess:nqcpfem.solvers >> DEBUG: number of converged eigenvectors: 16\n"
     ]
    },
    {
     "name": "stdout",
     "output_type": "stream",
     "text": [
      "(21008, 21008)\n"
     ]
    },
    {
     "name": "stderr",
     "output_type": "stream",
     "text": [
      "- 2023-11-06 08:15:13: MainProcess:nqcpfem.parameter_search >> INFO:evaluating at grid point 12/1024\n",
      "- 2023-11-06 08:15:13: MainProcess:nqcpfem.parameter_search >> DEBUG:parameters: {'mu_sc_val': 6.884944078001299e-22, 'mu_R_val': -95.69471624266144}\n",
      "- 2023-11-06 08:15:13: MainProcess:nqcpfem.fenics >> DEBUG:creating PETSc Matrix\n",
      "- 2023-11-06 08:15:13: MainProcess:nqcpfem.fenics >> DEBUG:gathering constants\n",
      "- 2023-11-06 08:15:13: MainProcess:nqcpfem.fenics >> DEBUG:retrieving parameter and constant dicts\n",
      "- 2023-11-06 08:15:13: MainProcess:nqcpfem.fenics >> DEBUG:updating values\n",
      "- 2023-11-06 08:15:13: MainProcess:nqcpfem.fenics >> DEBUG:retireving energy scale\n",
      "- 2023-11-06 08:15:13: MainProcess:nqcpfem.fenics >> DEBUG:gathering constants complete\n",
      "- 2023-11-06 08:15:13: MainProcess:nqcpfem.fenics >> DEBUG:assembling array\n",
      "- 2023-11-06 08:15:13: MainProcess:nqcpfem.solvers >> DEBUG:solving problem:\n"
     ]
    },
    {
     "name": "stdout",
     "output_type": "stream",
     "text": [
      "12\n",
      "(21008, 21008)\n"
     ]
    },
    {
     "name": "stderr",
     "output_type": "stream",
     "text": [
      "- 2023-11-06 08:15:17: MainProcess:nqcpfem.solvers >> DEBUG: number of converged eigenvectors: 16\n",
      "- 2023-11-06 08:15:18: MainProcess:nqcpfem.parameter_search >> INFO:evaluating at grid point 13/1024\n",
      "- 2023-11-06 08:15:18: MainProcess:nqcpfem.parameter_search >> DEBUG:parameters: {'mu_sc_val': 6.884944078001299e-22, 'mu_R_val': -95.30332681017613}\n",
      "- 2023-11-06 08:15:18: MainProcess:nqcpfem.fenics >> DEBUG:creating PETSc Matrix\n",
      "- 2023-11-06 08:15:18: MainProcess:nqcpfem.fenics >> DEBUG:gathering constants\n",
      "- 2023-11-06 08:15:18: MainProcess:nqcpfem.fenics >> DEBUG:retrieving parameter and constant dicts\n",
      "- 2023-11-06 08:15:18: MainProcess:nqcpfem.fenics >> DEBUG:updating values\n",
      "- 2023-11-06 08:15:18: MainProcess:nqcpfem.fenics >> DEBUG:retireving energy scale\n",
      "- 2023-11-06 08:15:18: MainProcess:nqcpfem.fenics >> DEBUG:gathering constants complete\n",
      "- 2023-11-06 08:15:18: MainProcess:nqcpfem.fenics >> DEBUG:assembling array\n",
      "- 2023-11-06 08:15:18: MainProcess:nqcpfem.solvers >> DEBUG:solving problem:\n"
     ]
    },
    {
     "name": "stdout",
     "output_type": "stream",
     "text": [
      "13\n",
      "(21008, 21008)\n"
     ]
    },
    {
     "name": "stderr",
     "output_type": "stream",
     "text": [
      "- 2023-11-06 08:15:23: MainProcess:nqcpfem.solvers >> DEBUG: number of converged eigenvectors: 16\n",
      "- 2023-11-06 08:15:24: MainProcess:nqcpfem.parameter_search >> INFO:evaluating at grid point 14/1024\n",
      "- 2023-11-06 08:15:24: MainProcess:nqcpfem.parameter_search >> DEBUG:parameters: {'mu_sc_val': 6.884944078001299e-22, 'mu_R_val': -94.9119373776908}\n",
      "- 2023-11-06 08:15:24: MainProcess:nqcpfem.fenics >> DEBUG:creating PETSc Matrix\n",
      "- 2023-11-06 08:15:24: MainProcess:nqcpfem.fenics >> DEBUG:gathering constants\n",
      "- 2023-11-06 08:15:24: MainProcess:nqcpfem.fenics >> DEBUG:retrieving parameter and constant dicts\n",
      "- 2023-11-06 08:15:24: MainProcess:nqcpfem.fenics >> DEBUG:updating values\n",
      "- 2023-11-06 08:15:24: MainProcess:nqcpfem.fenics >> DEBUG:retireving energy scale\n",
      "- 2023-11-06 08:15:24: MainProcess:nqcpfem.fenics >> DEBUG:gathering constants complete\n",
      "- 2023-11-06 08:15:24: MainProcess:nqcpfem.fenics >> DEBUG:assembling array\n"
     ]
    },
    {
     "name": "stdout",
     "output_type": "stream",
     "text": [
      "14\n"
     ]
    },
    {
     "name": "stderr",
     "output_type": "stream",
     "text": [
      "- 2023-11-06 08:15:24: MainProcess:nqcpfem.solvers >> DEBUG:solving problem:\n",
      "- 2023-11-06 08:15:32: MainProcess:nqcpfem.solvers >> DEBUG: number of converged eigenvectors: 16\n"
     ]
    },
    {
     "name": "stdout",
     "output_type": "stream",
     "text": [
      "(21008, 21008)\n"
     ]
    },
    {
     "name": "stderr",
     "output_type": "stream",
     "text": [
      "- 2023-11-06 08:15:32: MainProcess:nqcpfem.parameter_search >> INFO:evaluating at grid point 15/1024\n",
      "- 2023-11-06 08:15:32: MainProcess:nqcpfem.parameter_search >> DEBUG:parameters: {'mu_sc_val': 6.884944078001299e-22, 'mu_R_val': -94.52054794520548}\n",
      "- 2023-11-06 08:15:32: MainProcess:nqcpfem.fenics >> DEBUG:creating PETSc Matrix\n",
      "- 2023-11-06 08:15:32: MainProcess:nqcpfem.fenics >> DEBUG:gathering constants\n",
      "- 2023-11-06 08:15:32: MainProcess:nqcpfem.fenics >> DEBUG:retrieving parameter and constant dicts\n",
      "- 2023-11-06 08:15:32: MainProcess:nqcpfem.fenics >> DEBUG:updating values\n",
      "- 2023-11-06 08:15:33: MainProcess:nqcpfem.fenics >> DEBUG:retireving energy scale\n",
      "- 2023-11-06 08:15:33: MainProcess:nqcpfem.fenics >> DEBUG:gathering constants complete\n",
      "- 2023-11-06 08:15:33: MainProcess:nqcpfem.fenics >> DEBUG:assembling array\n"
     ]
    },
    {
     "name": "stdout",
     "output_type": "stream",
     "text": [
      "15\n"
     ]
    },
    {
     "name": "stderr",
     "output_type": "stream",
     "text": [
      "- 2023-11-06 08:15:33: MainProcess:nqcpfem.solvers >> DEBUG:solving problem:\n",
      "- 2023-11-06 08:15:42: MainProcess:nqcpfem.solvers >> DEBUG: number of converged eigenvectors: 16\n"
     ]
    },
    {
     "name": "stdout",
     "output_type": "stream",
     "text": [
      "(21008, 21008)\n"
     ]
    },
    {
     "name": "stderr",
     "output_type": "stream",
     "text": [
      "- 2023-11-06 08:15:43: MainProcess:nqcpfem.parameter_search >> INFO:evaluating at grid point 16/1024\n",
      "- 2023-11-06 08:15:43: MainProcess:nqcpfem.parameter_search >> DEBUG:parameters: {'mu_sc_val': 6.884944078001299e-22, 'mu_R_val': -94.12915851272015}\n",
      "- 2023-11-06 08:15:43: MainProcess:nqcpfem.fenics >> DEBUG:creating PETSc Matrix\n",
      "- 2023-11-06 08:15:43: MainProcess:nqcpfem.fenics >> DEBUG:gathering constants\n",
      "- 2023-11-06 08:15:43: MainProcess:nqcpfem.fenics >> DEBUG:retrieving parameter and constant dicts\n",
      "- 2023-11-06 08:15:43: MainProcess:nqcpfem.fenics >> DEBUG:updating values\n",
      "- 2023-11-06 08:15:43: MainProcess:nqcpfem.fenics >> DEBUG:retireving energy scale\n",
      "- 2023-11-06 08:15:43: MainProcess:nqcpfem.fenics >> DEBUG:gathering constants complete\n",
      "- 2023-11-06 08:15:43: MainProcess:nqcpfem.fenics >> DEBUG:assembling array\n"
     ]
    },
    {
     "name": "stdout",
     "output_type": "stream",
     "text": [
      "16\n"
     ]
    },
    {
     "name": "stderr",
     "output_type": "stream",
     "text": [
      "- 2023-11-06 08:15:43: MainProcess:nqcpfem.solvers >> DEBUG:solving problem:\n",
      "- 2023-11-06 08:15:51: MainProcess:nqcpfem.solvers >> DEBUG: number of converged eigenvectors: 16\n"
     ]
    },
    {
     "name": "stdout",
     "output_type": "stream",
     "text": [
      "(21008, 21008)\n"
     ]
    },
    {
     "name": "stderr",
     "output_type": "stream",
     "text": [
      "- 2023-11-06 08:15:52: MainProcess:nqcpfem.parameter_search >> INFO:evaluating at grid point 17/1024\n",
      "- 2023-11-06 08:15:52: MainProcess:nqcpfem.parameter_search >> DEBUG:parameters: {'mu_sc_val': 6.884944078001299e-22, 'mu_R_val': -93.73776908023484}\n",
      "- 2023-11-06 08:15:52: MainProcess:nqcpfem.fenics >> DEBUG:creating PETSc Matrix\n",
      "- 2023-11-06 08:15:52: MainProcess:nqcpfem.fenics >> DEBUG:gathering constants\n",
      "- 2023-11-06 08:15:52: MainProcess:nqcpfem.fenics >> DEBUG:retrieving parameter and constant dicts\n",
      "- 2023-11-06 08:15:52: MainProcess:nqcpfem.fenics >> DEBUG:updating values\n",
      "- 2023-11-06 08:15:52: MainProcess:nqcpfem.fenics >> DEBUG:retireving energy scale\n",
      "- 2023-11-06 08:15:52: MainProcess:nqcpfem.fenics >> DEBUG:gathering constants complete\n",
      "- 2023-11-06 08:15:52: MainProcess:nqcpfem.fenics >> DEBUG:assembling array\n",
      "- 2023-11-06 08:15:52: MainProcess:nqcpfem.solvers >> DEBUG:solving problem:\n"
     ]
    },
    {
     "name": "stdout",
     "output_type": "stream",
     "text": [
      "17\n",
      "(21008, 21008)\n"
     ]
    },
    {
     "name": "stderr",
     "output_type": "stream",
     "text": [
      "- 2023-11-06 08:15:57: MainProcess:nqcpfem.solvers >> DEBUG: number of converged eigenvectors: 16\n",
      "- 2023-11-06 08:15:57: MainProcess:nqcpfem.parameter_search >> INFO:evaluating at grid point 18/1024\n",
      "- 2023-11-06 08:15:57: MainProcess:nqcpfem.parameter_search >> DEBUG:parameters: {'mu_sc_val': 6.884944078001299e-22, 'mu_R_val': -93.34637964774952}\n",
      "- 2023-11-06 08:15:57: MainProcess:nqcpfem.fenics >> DEBUG:creating PETSc Matrix\n",
      "- 2023-11-06 08:15:57: MainProcess:nqcpfem.fenics >> DEBUG:gathering constants\n",
      "- 2023-11-06 08:15:57: MainProcess:nqcpfem.fenics >> DEBUG:retrieving parameter and constant dicts\n",
      "- 2023-11-06 08:15:57: MainProcess:nqcpfem.fenics >> DEBUG:updating values\n",
      "- 2023-11-06 08:15:57: MainProcess:nqcpfem.fenics >> DEBUG:retireving energy scale\n",
      "- 2023-11-06 08:15:57: MainProcess:nqcpfem.fenics >> DEBUG:gathering constants complete\n",
      "- 2023-11-06 08:15:57: MainProcess:nqcpfem.fenics >> DEBUG:assembling array\n",
      "- 2023-11-06 08:15:57: MainProcess:nqcpfem.solvers >> DEBUG:solving problem:\n"
     ]
    },
    {
     "name": "stdout",
     "output_type": "stream",
     "text": [
      "18\n",
      "(21008, 21008)\n"
     ]
    },
    {
     "name": "stderr",
     "output_type": "stream",
     "text": [
      "- 2023-11-06 08:16:02: MainProcess:nqcpfem.solvers >> DEBUG: number of converged eigenvectors: 16\n",
      "- 2023-11-06 08:16:03: MainProcess:nqcpfem.parameter_search >> INFO:evaluating at grid point 19/1024\n",
      "- 2023-11-06 08:16:03: MainProcess:nqcpfem.parameter_search >> DEBUG:parameters: {'mu_sc_val': 6.884944078001299e-22, 'mu_R_val': -92.95499021526419}\n",
      "- 2023-11-06 08:16:03: MainProcess:nqcpfem.fenics >> DEBUG:creating PETSc Matrix\n",
      "- 2023-11-06 08:16:03: MainProcess:nqcpfem.fenics >> DEBUG:gathering constants\n",
      "- 2023-11-06 08:16:03: MainProcess:nqcpfem.fenics >> DEBUG:retrieving parameter and constant dicts\n",
      "- 2023-11-06 08:16:03: MainProcess:nqcpfem.fenics >> DEBUG:updating values\n",
      "- 2023-11-06 08:16:03: MainProcess:nqcpfem.fenics >> DEBUG:retireving energy scale\n",
      "- 2023-11-06 08:16:03: MainProcess:nqcpfem.fenics >> DEBUG:gathering constants complete\n",
      "- 2023-11-06 08:16:03: MainProcess:nqcpfem.fenics >> DEBUG:assembling array\n"
     ]
    },
    {
     "name": "stdout",
     "output_type": "stream",
     "text": [
      "19\n"
     ]
    },
    {
     "name": "stderr",
     "output_type": "stream",
     "text": [
      "- 2023-11-06 08:16:03: MainProcess:nqcpfem.solvers >> DEBUG:solving problem:\n",
      "- 2023-11-06 08:16:08: MainProcess:nqcpfem.solvers >> DEBUG: number of converged eigenvectors: 16\n"
     ]
    },
    {
     "name": "stdout",
     "output_type": "stream",
     "text": [
      "(21008, 21008)\n"
     ]
    },
    {
     "name": "stderr",
     "output_type": "stream",
     "text": [
      "- 2023-11-06 08:16:08: MainProcess:nqcpfem.parameter_search >> INFO:evaluating at grid point 20/1024\n",
      "- 2023-11-06 08:16:08: MainProcess:nqcpfem.parameter_search >> DEBUG:parameters: {'mu_sc_val': 6.884944078001299e-22, 'mu_R_val': -92.56360078277886}\n",
      "- 2023-11-06 08:16:08: MainProcess:nqcpfem.fenics >> DEBUG:creating PETSc Matrix\n",
      "- 2023-11-06 08:16:08: MainProcess:nqcpfem.fenics >> DEBUG:gathering constants\n",
      "- 2023-11-06 08:16:08: MainProcess:nqcpfem.fenics >> DEBUG:retrieving parameter and constant dicts\n",
      "- 2023-11-06 08:16:08: MainProcess:nqcpfem.fenics >> DEBUG:updating values\n",
      "- 2023-11-06 08:16:08: MainProcess:nqcpfem.fenics >> DEBUG:retireving energy scale\n",
      "- 2023-11-06 08:16:08: MainProcess:nqcpfem.fenics >> DEBUG:gathering constants complete\n",
      "- 2023-11-06 08:16:08: MainProcess:nqcpfem.fenics >> DEBUG:assembling array\n",
      "- 2023-11-06 08:16:08: MainProcess:nqcpfem.solvers >> DEBUG:solving problem:\n"
     ]
    },
    {
     "name": "stdout",
     "output_type": "stream",
     "text": [
      "20\n",
      "(21008, 21008)\n"
     ]
    },
    {
     "name": "stderr",
     "output_type": "stream",
     "text": [
      "- 2023-11-06 08:16:13: MainProcess:nqcpfem.solvers >> DEBUG: number of converged eigenvectors: 16\n",
      "- 2023-11-06 08:16:13: MainProcess:nqcpfem.parameter_search >> INFO:evaluating at grid point 21/1024\n",
      "- 2023-11-06 08:16:13: MainProcess:nqcpfem.parameter_search >> DEBUG:parameters: {'mu_sc_val': 6.884944078001299e-22, 'mu_R_val': -92.17221135029354}\n",
      "- 2023-11-06 08:16:14: MainProcess:nqcpfem.fenics >> DEBUG:creating PETSc Matrix\n",
      "- 2023-11-06 08:16:14: MainProcess:nqcpfem.fenics >> DEBUG:gathering constants\n",
      "- 2023-11-06 08:16:14: MainProcess:nqcpfem.fenics >> DEBUG:retrieving parameter and constant dicts\n",
      "- 2023-11-06 08:16:14: MainProcess:nqcpfem.fenics >> DEBUG:updating values\n",
      "- 2023-11-06 08:16:14: MainProcess:nqcpfem.fenics >> DEBUG:retireving energy scale\n",
      "- 2023-11-06 08:16:14: MainProcess:nqcpfem.fenics >> DEBUG:gathering constants complete\n",
      "- 2023-11-06 08:16:14: MainProcess:nqcpfem.fenics >> DEBUG:assembling array\n",
      "- 2023-11-06 08:16:14: MainProcess:nqcpfem.solvers >> DEBUG:solving problem:\n"
     ]
    },
    {
     "name": "stdout",
     "output_type": "stream",
     "text": [
      "21\n",
      "(21008, 21008)\n"
     ]
    },
    {
     "name": "stderr",
     "output_type": "stream",
     "text": [
      "- 2023-11-06 08:16:18: MainProcess:nqcpfem.solvers >> DEBUG: number of converged eigenvectors: 16\n",
      "- 2023-11-06 08:16:19: MainProcess:nqcpfem.parameter_search >> INFO:evaluating at grid point 22/1024\n",
      "- 2023-11-06 08:16:19: MainProcess:nqcpfem.parameter_search >> DEBUG:parameters: {'mu_sc_val': 6.884944078001299e-22, 'mu_R_val': -91.78082191780823}\n",
      "- 2023-11-06 08:16:19: MainProcess:nqcpfem.fenics >> DEBUG:creating PETSc Matrix\n",
      "- 2023-11-06 08:16:19: MainProcess:nqcpfem.fenics >> DEBUG:gathering constants\n",
      "- 2023-11-06 08:16:19: MainProcess:nqcpfem.fenics >> DEBUG:retrieving parameter and constant dicts\n",
      "- 2023-11-06 08:16:19: MainProcess:nqcpfem.fenics >> DEBUG:updating values\n",
      "- 2023-11-06 08:16:19: MainProcess:nqcpfem.fenics >> DEBUG:retireving energy scale\n",
      "- 2023-11-06 08:16:19: MainProcess:nqcpfem.fenics >> DEBUG:gathering constants complete\n",
      "- 2023-11-06 08:16:19: MainProcess:nqcpfem.fenics >> DEBUG:assembling array\n",
      "- 2023-11-06 08:16:19: MainProcess:nqcpfem.solvers >> DEBUG:solving problem:\n"
     ]
    },
    {
     "name": "stdout",
     "output_type": "stream",
     "text": [
      "22\n",
      "(21008, 21008)\n"
     ]
    },
    {
     "name": "stderr",
     "output_type": "stream",
     "text": [
      "- 2023-11-06 08:16:23: MainProcess:nqcpfem.solvers >> DEBUG: number of converged eigenvectors: 16\n",
      "- 2023-11-06 08:16:24: MainProcess:nqcpfem.parameter_search >> INFO:evaluating at grid point 23/1024\n",
      "- 2023-11-06 08:16:24: MainProcess:nqcpfem.parameter_search >> DEBUG:parameters: {'mu_sc_val': 6.884944078001299e-22, 'mu_R_val': -91.3894324853229}\n",
      "- 2023-11-06 08:16:24: MainProcess:nqcpfem.fenics >> DEBUG:creating PETSc Matrix\n",
      "- 2023-11-06 08:16:24: MainProcess:nqcpfem.fenics >> DEBUG:gathering constants\n",
      "- 2023-11-06 08:16:24: MainProcess:nqcpfem.fenics >> DEBUG:retrieving parameter and constant dicts\n",
      "- 2023-11-06 08:16:24: MainProcess:nqcpfem.fenics >> DEBUG:updating values\n",
      "- 2023-11-06 08:16:24: MainProcess:nqcpfem.fenics >> DEBUG:retireving energy scale\n",
      "- 2023-11-06 08:16:24: MainProcess:nqcpfem.fenics >> DEBUG:gathering constants complete\n",
      "- 2023-11-06 08:16:24: MainProcess:nqcpfem.fenics >> DEBUG:assembling array\n",
      "- 2023-11-06 08:16:24: MainProcess:nqcpfem.solvers >> DEBUG:solving problem:\n"
     ]
    },
    {
     "name": "stdout",
     "output_type": "stream",
     "text": [
      "23\n",
      "(21008, 21008)\n"
     ]
    },
    {
     "name": "stderr",
     "output_type": "stream",
     "text": [
      "- 2023-11-06 08:16:29: MainProcess:nqcpfem.solvers >> DEBUG: number of converged eigenvectors: 16\n",
      "- 2023-11-06 08:16:29: MainProcess:nqcpfem.parameter_search >> INFO:evaluating at grid point 24/1024\n",
      "- 2023-11-06 08:16:29: MainProcess:nqcpfem.parameter_search >> DEBUG:parameters: {'mu_sc_val': 6.884944078001299e-22, 'mu_R_val': -90.99804305283757}\n",
      "- 2023-11-06 08:16:29: MainProcess:nqcpfem.fenics >> DEBUG:creating PETSc Matrix\n",
      "- 2023-11-06 08:16:29: MainProcess:nqcpfem.fenics >> DEBUG:gathering constants\n",
      "- 2023-11-06 08:16:29: MainProcess:nqcpfem.fenics >> DEBUG:retrieving parameter and constant dicts\n",
      "- 2023-11-06 08:16:29: MainProcess:nqcpfem.fenics >> DEBUG:updating values\n",
      "- 2023-11-06 08:16:29: MainProcess:nqcpfem.fenics >> DEBUG:retireving energy scale\n",
      "- 2023-11-06 08:16:29: MainProcess:nqcpfem.fenics >> DEBUG:gathering constants complete\n",
      "- 2023-11-06 08:16:29: MainProcess:nqcpfem.fenics >> DEBUG:assembling array\n",
      "- 2023-11-06 08:16:30: MainProcess:nqcpfem.solvers >> DEBUG:solving problem:\n"
     ]
    },
    {
     "name": "stdout",
     "output_type": "stream",
     "text": [
      "24\n",
      "(21008, 21008)\n"
     ]
    },
    {
     "name": "stderr",
     "output_type": "stream",
     "text": [
      "- 2023-11-06 08:16:34: MainProcess:nqcpfem.solvers >> DEBUG: number of converged eigenvectors: 16\n",
      "- 2023-11-06 08:16:35: MainProcess:nqcpfem.parameter_search >> INFO:evaluating at grid point 25/1024\n",
      "- 2023-11-06 08:16:35: MainProcess:nqcpfem.parameter_search >> DEBUG:parameters: {'mu_sc_val': 6.884944078001299e-22, 'mu_R_val': -90.60665362035225}\n",
      "- 2023-11-06 08:16:35: MainProcess:nqcpfem.fenics >> DEBUG:creating PETSc Matrix\n",
      "- 2023-11-06 08:16:35: MainProcess:nqcpfem.fenics >> DEBUG:gathering constants\n",
      "- 2023-11-06 08:16:35: MainProcess:nqcpfem.fenics >> DEBUG:retrieving parameter and constant dicts\n",
      "- 2023-11-06 08:16:35: MainProcess:nqcpfem.fenics >> DEBUG:updating values\n",
      "- 2023-11-06 08:16:35: MainProcess:nqcpfem.fenics >> DEBUG:retireving energy scale\n",
      "- 2023-11-06 08:16:35: MainProcess:nqcpfem.fenics >> DEBUG:gathering constants complete\n",
      "- 2023-11-06 08:16:35: MainProcess:nqcpfem.fenics >> DEBUG:assembling array\n",
      "- 2023-11-06 08:16:35: MainProcess:nqcpfem.solvers >> DEBUG:solving problem:\n"
     ]
    },
    {
     "name": "stdout",
     "output_type": "stream",
     "text": [
      "25\n",
      "(21008, 21008)\n"
     ]
    },
    {
     "name": "stderr",
     "output_type": "stream",
     "text": [
      "- 2023-11-06 08:16:39: MainProcess:nqcpfem.solvers >> DEBUG: number of converged eigenvectors: 16\n",
      "- 2023-11-06 08:16:40: MainProcess:nqcpfem.parameter_search >> INFO:evaluating at grid point 26/1024\n",
      "- 2023-11-06 08:16:40: MainProcess:nqcpfem.parameter_search >> DEBUG:parameters: {'mu_sc_val': 6.884944078001299e-22, 'mu_R_val': -90.21526418786692}\n",
      "- 2023-11-06 08:16:40: MainProcess:nqcpfem.fenics >> DEBUG:creating PETSc Matrix\n",
      "- 2023-11-06 08:16:40: MainProcess:nqcpfem.fenics >> DEBUG:gathering constants\n",
      "- 2023-11-06 08:16:40: MainProcess:nqcpfem.fenics >> DEBUG:retrieving parameter and constant dicts\n",
      "- 2023-11-06 08:16:40: MainProcess:nqcpfem.fenics >> DEBUG:updating values\n",
      "- 2023-11-06 08:16:40: MainProcess:nqcpfem.fenics >> DEBUG:retireving energy scale\n",
      "- 2023-11-06 08:16:40: MainProcess:nqcpfem.fenics >> DEBUG:gathering constants complete\n",
      "- 2023-11-06 08:16:40: MainProcess:nqcpfem.fenics >> DEBUG:assembling array\n"
     ]
    },
    {
     "name": "stdout",
     "output_type": "stream",
     "text": [
      "26\n"
     ]
    },
    {
     "name": "stderr",
     "output_type": "stream",
     "text": [
      "- 2023-11-06 08:16:40: MainProcess:nqcpfem.solvers >> DEBUG:solving problem:\n",
      "- 2023-11-06 08:16:45: MainProcess:nqcpfem.solvers >> DEBUG: number of converged eigenvectors: 16\n"
     ]
    },
    {
     "name": "stdout",
     "output_type": "stream",
     "text": [
      "(21008, 21008)\n"
     ]
    },
    {
     "name": "stderr",
     "output_type": "stream",
     "text": [
      "- 2023-11-06 08:16:46: MainProcess:nqcpfem.parameter_search >> INFO:evaluating at grid point 27/1024\n",
      "- 2023-11-06 08:16:46: MainProcess:nqcpfem.parameter_search >> DEBUG:parameters: {'mu_sc_val': 6.884944078001299e-22, 'mu_R_val': -89.82387475538161}\n",
      "- 2023-11-06 08:16:46: MainProcess:nqcpfem.fenics >> DEBUG:creating PETSc Matrix\n",
      "- 2023-11-06 08:16:46: MainProcess:nqcpfem.fenics >> DEBUG:gathering constants\n",
      "- 2023-11-06 08:16:46: MainProcess:nqcpfem.fenics >> DEBUG:retrieving parameter and constant dicts\n",
      "- 2023-11-06 08:16:46: MainProcess:nqcpfem.fenics >> DEBUG:updating values\n",
      "- 2023-11-06 08:16:46: MainProcess:nqcpfem.fenics >> DEBUG:retireving energy scale\n",
      "- 2023-11-06 08:16:46: MainProcess:nqcpfem.fenics >> DEBUG:gathering constants complete\n",
      "- 2023-11-06 08:16:46: MainProcess:nqcpfem.fenics >> DEBUG:assembling array\n",
      "- 2023-11-06 08:16:46: MainProcess:nqcpfem.solvers >> DEBUG:solving problem:\n"
     ]
    },
    {
     "name": "stdout",
     "output_type": "stream",
     "text": [
      "27\n",
      "(21008, 21008)\n"
     ]
    },
    {
     "name": "stderr",
     "output_type": "stream",
     "text": [
      "- 2023-11-06 08:16:50: MainProcess:nqcpfem.solvers >> DEBUG: number of converged eigenvectors: 16\n",
      "- 2023-11-06 08:16:51: MainProcess:nqcpfem.parameter_search >> INFO:evaluating at grid point 28/1024\n",
      "- 2023-11-06 08:16:51: MainProcess:nqcpfem.parameter_search >> DEBUG:parameters: {'mu_sc_val': 6.884944078001299e-22, 'mu_R_val': -89.43248532289628}\n",
      "- 2023-11-06 08:16:51: MainProcess:nqcpfem.fenics >> DEBUG:creating PETSc Matrix\n",
      "- 2023-11-06 08:16:51: MainProcess:nqcpfem.fenics >> DEBUG:gathering constants\n",
      "- 2023-11-06 08:16:51: MainProcess:nqcpfem.fenics >> DEBUG:retrieving parameter and constant dicts\n",
      "- 2023-11-06 08:16:51: MainProcess:nqcpfem.fenics >> DEBUG:updating values\n",
      "- 2023-11-06 08:16:51: MainProcess:nqcpfem.fenics >> DEBUG:retireving energy scale\n",
      "- 2023-11-06 08:16:51: MainProcess:nqcpfem.fenics >> DEBUG:gathering constants complete\n",
      "- 2023-11-06 08:16:51: MainProcess:nqcpfem.fenics >> DEBUG:assembling array\n",
      "- 2023-11-06 08:16:51: MainProcess:nqcpfem.solvers >> DEBUG:solving problem:\n"
     ]
    },
    {
     "name": "stdout",
     "output_type": "stream",
     "text": [
      "28\n",
      "(21008, 21008)\n"
     ]
    },
    {
     "name": "stderr",
     "output_type": "stream",
     "text": [
      "- 2023-11-06 08:16:55: MainProcess:nqcpfem.solvers >> DEBUG: number of converged eigenvectors: 16\n",
      "- 2023-11-06 08:16:56: MainProcess:nqcpfem.parameter_search >> INFO:evaluating at grid point 29/1024\n",
      "- 2023-11-06 08:16:56: MainProcess:nqcpfem.parameter_search >> DEBUG:parameters: {'mu_sc_val': 6.884944078001299e-22, 'mu_R_val': -89.04109589041096}\n",
      "- 2023-11-06 08:16:56: MainProcess:nqcpfem.fenics >> DEBUG:creating PETSc Matrix\n",
      "- 2023-11-06 08:16:56: MainProcess:nqcpfem.fenics >> DEBUG:gathering constants\n",
      "- 2023-11-06 08:16:56: MainProcess:nqcpfem.fenics >> DEBUG:retrieving parameter and constant dicts\n",
      "- 2023-11-06 08:16:56: MainProcess:nqcpfem.fenics >> DEBUG:updating values\n",
      "- 2023-11-06 08:16:56: MainProcess:nqcpfem.fenics >> DEBUG:retireving energy scale\n",
      "- 2023-11-06 08:16:56: MainProcess:nqcpfem.fenics >> DEBUG:gathering constants complete\n",
      "- 2023-11-06 08:16:56: MainProcess:nqcpfem.fenics >> DEBUG:assembling array\n",
      "- 2023-11-06 08:16:56: MainProcess:nqcpfem.solvers >> DEBUG:solving problem:\n"
     ]
    },
    {
     "name": "stdout",
     "output_type": "stream",
     "text": [
      "29\n",
      "(21008, 21008)\n"
     ]
    },
    {
     "name": "stderr",
     "output_type": "stream",
     "text": [
      "- 2023-11-06 08:17:01: MainProcess:nqcpfem.solvers >> DEBUG: number of converged eigenvectors: 16\n",
      "- 2023-11-06 08:17:02: MainProcess:nqcpfem.parameter_search >> INFO:evaluating at grid point 30/1024\n",
      "- 2023-11-06 08:17:02: MainProcess:nqcpfem.parameter_search >> DEBUG:parameters: {'mu_sc_val': 6.884944078001299e-22, 'mu_R_val': -88.64970645792563}\n",
      "- 2023-11-06 08:17:02: MainProcess:nqcpfem.fenics >> DEBUG:creating PETSc Matrix\n",
      "- 2023-11-06 08:17:02: MainProcess:nqcpfem.fenics >> DEBUG:gathering constants\n",
      "- 2023-11-06 08:17:02: MainProcess:nqcpfem.fenics >> DEBUG:retrieving parameter and constant dicts\n",
      "- 2023-11-06 08:17:02: MainProcess:nqcpfem.fenics >> DEBUG:updating values\n",
      "- 2023-11-06 08:17:02: MainProcess:nqcpfem.fenics >> DEBUG:retireving energy scale\n",
      "- 2023-11-06 08:17:02: MainProcess:nqcpfem.fenics >> DEBUG:gathering constants complete\n",
      "- 2023-11-06 08:17:02: MainProcess:nqcpfem.fenics >> DEBUG:assembling array\n"
     ]
    },
    {
     "name": "stdout",
     "output_type": "stream",
     "text": [
      "30\n"
     ]
    },
    {
     "name": "stderr",
     "output_type": "stream",
     "text": [
      "- 2023-11-06 08:17:02: MainProcess:nqcpfem.solvers >> DEBUG:solving problem:\n",
      "- 2023-11-06 08:17:06: MainProcess:nqcpfem.solvers >> DEBUG: number of converged eigenvectors: 16\n"
     ]
    },
    {
     "name": "stdout",
     "output_type": "stream",
     "text": [
      "(21008, 21008)\n"
     ]
    },
    {
     "name": "stderr",
     "output_type": "stream",
     "text": [
      "- 2023-11-06 08:17:07: MainProcess:nqcpfem.parameter_search >> INFO:evaluating at grid point 31/1024\n",
      "- 2023-11-06 08:17:07: MainProcess:nqcpfem.parameter_search >> DEBUG:parameters: {'mu_sc_val': 6.884944078001299e-22, 'mu_R_val': -88.2583170254403}\n",
      "- 2023-11-06 08:17:07: MainProcess:nqcpfem.fenics >> DEBUG:creating PETSc Matrix\n",
      "- 2023-11-06 08:17:07: MainProcess:nqcpfem.fenics >> DEBUG:gathering constants\n",
      "- 2023-11-06 08:17:07: MainProcess:nqcpfem.fenics >> DEBUG:retrieving parameter and constant dicts\n",
      "- 2023-11-06 08:17:07: MainProcess:nqcpfem.fenics >> DEBUG:updating values\n",
      "- 2023-11-06 08:17:07: MainProcess:nqcpfem.fenics >> DEBUG:retireving energy scale\n",
      "- 2023-11-06 08:17:07: MainProcess:nqcpfem.fenics >> DEBUG:gathering constants complete\n",
      "- 2023-11-06 08:17:07: MainProcess:nqcpfem.fenics >> DEBUG:assembling array\n",
      "- 2023-11-06 08:17:07: MainProcess:nqcpfem.solvers >> DEBUG:solving problem:\n"
     ]
    },
    {
     "name": "stdout",
     "output_type": "stream",
     "text": [
      "31\n",
      "(21008, 21008)\n"
     ]
    },
    {
     "name": "stderr",
     "output_type": "stream",
     "text": [
      "- 2023-11-06 08:17:12: MainProcess:nqcpfem.solvers >> DEBUG: number of converged eigenvectors: 16\n",
      "- 2023-11-06 08:17:13: MainProcess:nqcpfem.parameter_search >> INFO:evaluating at grid point 32/1024\n",
      "- 2023-11-06 08:17:13: MainProcess:nqcpfem.parameter_search >> DEBUG:parameters: {'mu_sc_val': 6.884944078001299e-22, 'mu_R_val': -87.866927592955}\n",
      "- 2023-11-06 08:17:13: MainProcess:nqcpfem.fenics >> DEBUG:creating PETSc Matrix\n",
      "- 2023-11-06 08:17:13: MainProcess:nqcpfem.fenics >> DEBUG:gathering constants\n",
      "- 2023-11-06 08:17:13: MainProcess:nqcpfem.fenics >> DEBUG:retrieving parameter and constant dicts\n",
      "- 2023-11-06 08:17:13: MainProcess:nqcpfem.fenics >> DEBUG:updating values\n",
      "- 2023-11-06 08:17:13: MainProcess:nqcpfem.fenics >> DEBUG:retireving energy scale\n",
      "- 2023-11-06 08:17:13: MainProcess:nqcpfem.fenics >> DEBUG:gathering constants complete\n",
      "- 2023-11-06 08:17:13: MainProcess:nqcpfem.fenics >> DEBUG:assembling array\n",
      "- 2023-11-06 08:17:13: MainProcess:nqcpfem.solvers >> DEBUG:solving problem:\n"
     ]
    },
    {
     "name": "stdout",
     "output_type": "stream",
     "text": [
      "32\n",
      "(21008, 21008)\n"
     ]
    },
    {
     "name": "stderr",
     "output_type": "stream",
     "text": [
      "- 2023-11-06 08:17:17: MainProcess:nqcpfem.solvers >> DEBUG: number of converged eigenvectors: 16\n",
      "- 2023-11-06 08:17:18: MainProcess:nqcpfem.parameter_search >> INFO:evaluating at grid point 33/1024\n",
      "- 2023-11-06 08:17:18: MainProcess:nqcpfem.parameter_search >> DEBUG:parameters: {'mu_sc_val': 6.884944078001299e-22, 'mu_R_val': -87.47553816046967}\n",
      "- 2023-11-06 08:17:18: MainProcess:nqcpfem.fenics >> DEBUG:creating PETSc Matrix\n",
      "- 2023-11-06 08:17:18: MainProcess:nqcpfem.fenics >> DEBUG:gathering constants\n",
      "- 2023-11-06 08:17:18: MainProcess:nqcpfem.fenics >> DEBUG:retrieving parameter and constant dicts\n",
      "- 2023-11-06 08:17:18: MainProcess:nqcpfem.fenics >> DEBUG:updating values\n",
      "- 2023-11-06 08:17:18: MainProcess:nqcpfem.fenics >> DEBUG:retireving energy scale\n",
      "- 2023-11-06 08:17:18: MainProcess:nqcpfem.fenics >> DEBUG:gathering constants complete\n",
      "- 2023-11-06 08:17:18: MainProcess:nqcpfem.fenics >> DEBUG:assembling array\n"
     ]
    },
    {
     "name": "stdout",
     "output_type": "stream",
     "text": [
      "33\n"
     ]
    },
    {
     "name": "stderr",
     "output_type": "stream",
     "text": [
      "- 2023-11-06 08:17:18: MainProcess:nqcpfem.solvers >> DEBUG:solving problem:\n",
      "- 2023-11-06 08:17:25: MainProcess:nqcpfem.solvers >> DEBUG: number of converged eigenvectors: 16\n"
     ]
    },
    {
     "name": "stdout",
     "output_type": "stream",
     "text": [
      "(21008, 21008)\n"
     ]
    },
    {
     "name": "stderr",
     "output_type": "stream",
     "text": [
      "- 2023-11-06 08:17:26: MainProcess:nqcpfem.parameter_search >> INFO:evaluating at grid point 34/1024\n",
      "- 2023-11-06 08:17:26: MainProcess:nqcpfem.parameter_search >> DEBUG:parameters: {'mu_sc_val': 6.884944078001299e-22, 'mu_R_val': -87.08414872798434}\n",
      "- 2023-11-06 08:17:26: MainProcess:nqcpfem.fenics >> DEBUG:creating PETSc Matrix\n",
      "- 2023-11-06 08:17:26: MainProcess:nqcpfem.fenics >> DEBUG:gathering constants\n",
      "- 2023-11-06 08:17:26: MainProcess:nqcpfem.fenics >> DEBUG:retrieving parameter and constant dicts\n",
      "- 2023-11-06 08:17:26: MainProcess:nqcpfem.fenics >> DEBUG:updating values\n",
      "- 2023-11-06 08:17:26: MainProcess:nqcpfem.fenics >> DEBUG:retireving energy scale\n",
      "- 2023-11-06 08:17:26: MainProcess:nqcpfem.fenics >> DEBUG:gathering constants complete\n",
      "- 2023-11-06 08:17:26: MainProcess:nqcpfem.fenics >> DEBUG:assembling array\n",
      "- 2023-11-06 08:17:26: MainProcess:nqcpfem.solvers >> DEBUG:solving problem:\n"
     ]
    },
    {
     "name": "stdout",
     "output_type": "stream",
     "text": [
      "34\n",
      "(21008, 21008)\n"
     ]
    },
    {
     "name": "stderr",
     "output_type": "stream",
     "text": [
      "- 2023-11-06 08:17:35: MainProcess:nqcpfem.solvers >> DEBUG: number of converged eigenvectors: 16\n",
      "- 2023-11-06 08:17:37: MainProcess:nqcpfem.parameter_search >> INFO:evaluating at grid point 35/1024\n",
      "- 2023-11-06 08:17:37: MainProcess:nqcpfem.parameter_search >> DEBUG:parameters: {'mu_sc_val': 6.884944078001299e-22, 'mu_R_val': -86.69275929549903}\n",
      "- 2023-11-06 08:17:37: MainProcess:nqcpfem.fenics >> DEBUG:creating PETSc Matrix\n",
      "- 2023-11-06 08:17:37: MainProcess:nqcpfem.fenics >> DEBUG:gathering constants\n",
      "- 2023-11-06 08:17:37: MainProcess:nqcpfem.fenics >> DEBUG:retrieving parameter and constant dicts\n",
      "- 2023-11-06 08:17:37: MainProcess:nqcpfem.fenics >> DEBUG:updating values\n"
     ]
    },
    {
     "name": "stdout",
     "output_type": "stream",
     "text": [
      "35\n"
     ]
    },
    {
     "name": "stderr",
     "output_type": "stream",
     "text": [
      "- 2023-11-06 08:17:37: MainProcess:nqcpfem.fenics >> DEBUG:retireving energy scale\n",
      "- 2023-11-06 08:17:37: MainProcess:nqcpfem.fenics >> DEBUG:gathering constants complete\n",
      "- 2023-11-06 08:17:37: MainProcess:nqcpfem.fenics >> DEBUG:assembling array\n",
      "- 2023-11-06 08:17:37: MainProcess:nqcpfem.solvers >> DEBUG:solving problem:\n",
      "- 2023-11-06 08:17:45: MainProcess:nqcpfem.solvers >> DEBUG: number of converged eigenvectors: 16\n"
     ]
    },
    {
     "name": "stdout",
     "output_type": "stream",
     "text": [
      "(21008, 21008)\n"
     ]
    },
    {
     "name": "stderr",
     "output_type": "stream",
     "text": [
      "- 2023-11-06 08:17:46: MainProcess:nqcpfem.parameter_search >> INFO:evaluating at grid point 36/1024\n",
      "- 2023-11-06 08:17:46: MainProcess:nqcpfem.parameter_search >> DEBUG:parameters: {'mu_sc_val': 6.884944078001299e-22, 'mu_R_val': -86.3013698630137}\n",
      "- 2023-11-06 08:17:46: MainProcess:nqcpfem.fenics >> DEBUG:creating PETSc Matrix\n",
      "- 2023-11-06 08:17:46: MainProcess:nqcpfem.fenics >> DEBUG:gathering constants\n",
      "- 2023-11-06 08:17:46: MainProcess:nqcpfem.fenics >> DEBUG:retrieving parameter and constant dicts\n",
      "- 2023-11-06 08:17:46: MainProcess:nqcpfem.fenics >> DEBUG:updating values\n",
      "- 2023-11-06 08:17:46: MainProcess:nqcpfem.fenics >> DEBUG:retireving energy scale\n",
      "- 2023-11-06 08:17:47: MainProcess:nqcpfem.fenics >> DEBUG:gathering constants complete\n",
      "- 2023-11-06 08:17:47: MainProcess:nqcpfem.fenics >> DEBUG:assembling array\n",
      "- 2023-11-06 08:17:47: MainProcess:nqcpfem.solvers >> DEBUG:solving problem:\n"
     ]
    },
    {
     "name": "stdout",
     "output_type": "stream",
     "text": [
      "36\n",
      "(21008, 21008)\n"
     ]
    },
    {
     "name": "stderr",
     "output_type": "stream",
     "text": [
      "- 2023-11-06 08:17:53: MainProcess:nqcpfem.solvers >> DEBUG: number of converged eigenvectors: 16\n",
      "- 2023-11-06 08:17:54: MainProcess:nqcpfem.parameter_search >> INFO:evaluating at grid point 37/1024\n",
      "- 2023-11-06 08:17:54: MainProcess:nqcpfem.parameter_search >> DEBUG:parameters: {'mu_sc_val': 6.884944078001299e-22, 'mu_R_val': -85.90998043052838}\n",
      "- 2023-11-06 08:17:54: MainProcess:nqcpfem.fenics >> DEBUG:creating PETSc Matrix\n",
      "- 2023-11-06 08:17:54: MainProcess:nqcpfem.fenics >> DEBUG:gathering constants\n",
      "- 2023-11-06 08:17:54: MainProcess:nqcpfem.fenics >> DEBUG:retrieving parameter and constant dicts\n",
      "- 2023-11-06 08:17:54: MainProcess:nqcpfem.fenics >> DEBUG:updating values\n",
      "- 2023-11-06 08:17:54: MainProcess:nqcpfem.fenics >> DEBUG:retireving energy scale\n",
      "- 2023-11-06 08:17:54: MainProcess:nqcpfem.fenics >> DEBUG:gathering constants complete\n",
      "- 2023-11-06 08:17:54: MainProcess:nqcpfem.fenics >> DEBUG:assembling array\n",
      "- 2023-11-06 08:17:54: MainProcess:nqcpfem.solvers >> DEBUG:solving problem:\n",
      "- 2023-11-06 08:18:01: MainProcess:nqcpfem.solvers >> DEBUG: number of converged eigenvectors: 16\n"
     ]
    },
    {
     "name": "stdout",
     "output_type": "stream",
     "text": [
      "37\n",
      "(21008, 21008)\n"
     ]
    },
    {
     "name": "stderr",
     "output_type": "stream",
     "text": [
      "- 2023-11-06 08:18:03: MainProcess:nqcpfem.parameter_search >> INFO:evaluating at grid point 38/1024\n",
      "- 2023-11-06 08:18:03: MainProcess:nqcpfem.parameter_search >> DEBUG:parameters: {'mu_sc_val': 6.884944078001299e-22, 'mu_R_val': -85.51859099804305}\n",
      "- 2023-11-06 08:18:03: MainProcess:nqcpfem.fenics >> DEBUG:creating PETSc Matrix\n",
      "- 2023-11-06 08:18:03: MainProcess:nqcpfem.fenics >> DEBUG:gathering constants\n",
      "- 2023-11-06 08:18:03: MainProcess:nqcpfem.fenics >> DEBUG:retrieving parameter and constant dicts\n",
      "- 2023-11-06 08:18:03: MainProcess:nqcpfem.fenics >> DEBUG:updating values\n"
     ]
    },
    {
     "name": "stdout",
     "output_type": "stream",
     "text": [
      "38\n"
     ]
    },
    {
     "name": "stderr",
     "output_type": "stream",
     "text": [
      "- 2023-11-06 08:18:04: MainProcess:nqcpfem.fenics >> DEBUG:retireving energy scale\n",
      "- 2023-11-06 08:18:04: MainProcess:nqcpfem.fenics >> DEBUG:gathering constants complete\n",
      "- 2023-11-06 08:18:04: MainProcess:nqcpfem.fenics >> DEBUG:assembling array\n",
      "- 2023-11-06 08:18:04: MainProcess:nqcpfem.solvers >> DEBUG:solving problem:\n",
      "- 2023-11-06 08:18:13: MainProcess:nqcpfem.solvers >> DEBUG: number of converged eigenvectors: 16\n"
     ]
    },
    {
     "name": "stdout",
     "output_type": "stream",
     "text": [
      "(21008, 21008)\n"
     ]
    },
    {
     "name": "stderr",
     "output_type": "stream",
     "text": [
      "- 2023-11-06 08:18:14: MainProcess:nqcpfem.parameter_search >> INFO:evaluating at grid point 39/1024\n",
      "- 2023-11-06 08:18:14: MainProcess:nqcpfem.parameter_search >> DEBUG:parameters: {'mu_sc_val': 6.884944078001299e-22, 'mu_R_val': -85.12720156555773}\n",
      "- 2023-11-06 08:18:14: MainProcess:nqcpfem.fenics >> DEBUG:creating PETSc Matrix\n",
      "- 2023-11-06 08:18:14: MainProcess:nqcpfem.fenics >> DEBUG:gathering constants\n",
      "- 2023-11-06 08:18:14: MainProcess:nqcpfem.fenics >> DEBUG:retrieving parameter and constant dicts\n",
      "- 2023-11-06 08:18:14: MainProcess:nqcpfem.fenics >> DEBUG:updating values\n",
      "- 2023-11-06 08:18:14: MainProcess:nqcpfem.fenics >> DEBUG:retireving energy scale\n",
      "- 2023-11-06 08:18:14: MainProcess:nqcpfem.fenics >> DEBUG:gathering constants complete\n",
      "- 2023-11-06 08:18:14: MainProcess:nqcpfem.fenics >> DEBUG:assembling array\n"
     ]
    },
    {
     "name": "stdout",
     "output_type": "stream",
     "text": [
      "39\n"
     ]
    },
    {
     "name": "stderr",
     "output_type": "stream",
     "text": [
      "- 2023-11-06 08:18:15: MainProcess:nqcpfem.solvers >> DEBUG:solving problem:\n",
      "- 2023-11-06 08:18:25: MainProcess:nqcpfem.solvers >> DEBUG: number of converged eigenvectors: 16\n"
     ]
    },
    {
     "name": "stdout",
     "output_type": "stream",
     "text": [
      "(21008, 21008)\n"
     ]
    },
    {
     "name": "stderr",
     "output_type": "stream",
     "text": [
      "- 2023-11-06 08:18:28: MainProcess:nqcpfem.parameter_search >> INFO:evaluating at grid point 40/1024\n",
      "- 2023-11-06 08:18:28: MainProcess:nqcpfem.parameter_search >> DEBUG:parameters: {'mu_sc_val': 6.884944078001299e-22, 'mu_R_val': -84.73581213307241}\n",
      "- 2023-11-06 08:18:28: MainProcess:nqcpfem.fenics >> DEBUG:creating PETSc Matrix\n",
      "- 2023-11-06 08:18:28: MainProcess:nqcpfem.fenics >> DEBUG:gathering constants\n",
      "- 2023-11-06 08:18:28: MainProcess:nqcpfem.fenics >> DEBUG:retrieving parameter and constant dicts\n",
      "- 2023-11-06 08:18:28: MainProcess:nqcpfem.fenics >> DEBUG:updating values\n"
     ]
    },
    {
     "name": "stdout",
     "output_type": "stream",
     "text": [
      "40\n"
     ]
    },
    {
     "name": "stderr",
     "output_type": "stream",
     "text": [
      "- 2023-11-06 08:18:28: MainProcess:nqcpfem.fenics >> DEBUG:retireving energy scale\n",
      "- 2023-11-06 08:18:28: MainProcess:nqcpfem.fenics >> DEBUG:gathering constants complete\n",
      "- 2023-11-06 08:18:28: MainProcess:nqcpfem.fenics >> DEBUG:assembling array\n",
      "- 2023-11-06 08:18:28: MainProcess:nqcpfem.solvers >> DEBUG:solving problem:\n",
      "- 2023-11-06 08:18:36: MainProcess:nqcpfem.solvers >> DEBUG: number of converged eigenvectors: 16\n"
     ]
    },
    {
     "name": "stdout",
     "output_type": "stream",
     "text": [
      "(21008, 21008)\n"
     ]
    },
    {
     "name": "stderr",
     "output_type": "stream",
     "text": [
      "- 2023-11-06 08:18:40: MainProcess:nqcpfem.parameter_search >> INFO:evaluating at grid point 41/1024\n",
      "- 2023-11-06 08:18:40: MainProcess:nqcpfem.parameter_search >> DEBUG:parameters: {'mu_sc_val': 6.884944078001299e-22, 'mu_R_val': -84.34442270058709}\n",
      "- 2023-11-06 08:18:40: MainProcess:nqcpfem.fenics >> DEBUG:creating PETSc Matrix\n",
      "- 2023-11-06 08:18:40: MainProcess:nqcpfem.fenics >> DEBUG:gathering constants\n",
      "- 2023-11-06 08:18:40: MainProcess:nqcpfem.fenics >> DEBUG:retrieving parameter and constant dicts\n",
      "- 2023-11-06 08:18:40: MainProcess:nqcpfem.fenics >> DEBUG:updating values\n"
     ]
    },
    {
     "name": "stdout",
     "output_type": "stream",
     "text": [
      "41\n"
     ]
    },
    {
     "name": "stderr",
     "output_type": "stream",
     "text": [
      "- 2023-11-06 08:18:40: MainProcess:nqcpfem.fenics >> DEBUG:retireving energy scale\n",
      "- 2023-11-06 08:18:40: MainProcess:nqcpfem.fenics >> DEBUG:gathering constants complete\n",
      "- 2023-11-06 08:18:40: MainProcess:nqcpfem.fenics >> DEBUG:assembling array\n",
      "- 2023-11-06 08:18:41: MainProcess:nqcpfem.solvers >> DEBUG:solving problem:\n",
      "- 2023-11-06 08:18:50: MainProcess:nqcpfem.solvers >> DEBUG: number of converged eigenvectors: 16\n"
     ]
    },
    {
     "name": "stdout",
     "output_type": "stream",
     "text": [
      "(21008, 21008)\n"
     ]
    },
    {
     "name": "stderr",
     "output_type": "stream",
     "text": [
      "- 2023-11-06 08:18:51: MainProcess:nqcpfem.parameter_search >> INFO:evaluating at grid point 42/1024\n",
      "- 2023-11-06 08:18:51: MainProcess:nqcpfem.parameter_search >> DEBUG:parameters: {'mu_sc_val': 6.884944078001299e-22, 'mu_R_val': -83.95303326810176}\n",
      "- 2023-11-06 08:18:51: MainProcess:nqcpfem.fenics >> DEBUG:creating PETSc Matrix\n",
      "- 2023-11-06 08:18:51: MainProcess:nqcpfem.fenics >> DEBUG:gathering constants\n",
      "- 2023-11-06 08:18:51: MainProcess:nqcpfem.fenics >> DEBUG:retrieving parameter and constant dicts\n",
      "- 2023-11-06 08:18:51: MainProcess:nqcpfem.fenics >> DEBUG:updating values\n",
      "- 2023-11-06 08:18:51: MainProcess:nqcpfem.fenics >> DEBUG:retireving energy scale\n",
      "- 2023-11-06 08:18:52: MainProcess:nqcpfem.fenics >> DEBUG:gathering constants complete\n",
      "- 2023-11-06 08:18:52: MainProcess:nqcpfem.fenics >> DEBUG:assembling array\n"
     ]
    },
    {
     "name": "stdout",
     "output_type": "stream",
     "text": [
      "42\n"
     ]
    },
    {
     "name": "stderr",
     "output_type": "stream",
     "text": [
      "- 2023-11-06 08:18:52: MainProcess:nqcpfem.solvers >> DEBUG:solving problem:\n",
      "- 2023-11-06 08:18:59: MainProcess:nqcpfem.solvers >> DEBUG: number of converged eigenvectors: 16\n"
     ]
    },
    {
     "name": "stdout",
     "output_type": "stream",
     "text": [
      "(21008, 21008)\n"
     ]
    },
    {
     "name": "stderr",
     "output_type": "stream",
     "text": [
      "- 2023-11-06 08:19:01: MainProcess:nqcpfem.parameter_search >> INFO:evaluating at grid point 43/1024\n",
      "- 2023-11-06 08:19:01: MainProcess:nqcpfem.parameter_search >> DEBUG:parameters: {'mu_sc_val': 6.884944078001299e-22, 'mu_R_val': -83.56164383561644}\n",
      "- 2023-11-06 08:19:01: MainProcess:nqcpfem.fenics >> DEBUG:creating PETSc Matrix\n",
      "- 2023-11-06 08:19:01: MainProcess:nqcpfem.fenics >> DEBUG:gathering constants\n",
      "- 2023-11-06 08:19:01: MainProcess:nqcpfem.fenics >> DEBUG:retrieving parameter and constant dicts\n",
      "- 2023-11-06 08:19:01: MainProcess:nqcpfem.fenics >> DEBUG:updating values\n",
      "- 2023-11-06 08:19:01: MainProcess:nqcpfem.fenics >> DEBUG:retireving energy scale\n",
      "- 2023-11-06 08:19:01: MainProcess:nqcpfem.fenics >> DEBUG:gathering constants complete\n",
      "- 2023-11-06 08:19:01: MainProcess:nqcpfem.fenics >> DEBUG:assembling array\n"
     ]
    },
    {
     "name": "stdout",
     "output_type": "stream",
     "text": [
      "43\n"
     ]
    },
    {
     "name": "stderr",
     "output_type": "stream",
     "text": [
      "- 2023-11-06 08:19:01: MainProcess:nqcpfem.solvers >> DEBUG:solving problem:\n",
      "- 2023-11-06 08:19:10: MainProcess:nqcpfem.solvers >> DEBUG: number of converged eigenvectors: 16\n"
     ]
    },
    {
     "name": "stdout",
     "output_type": "stream",
     "text": [
      "(21008, 21008)\n"
     ]
    },
    {
     "name": "stderr",
     "output_type": "stream",
     "text": [
      "- 2023-11-06 08:19:13: MainProcess:nqcpfem.parameter_search >> INFO:evaluating at grid point 44/1024\n",
      "- 2023-11-06 08:19:13: MainProcess:nqcpfem.parameter_search >> DEBUG:parameters: {'mu_sc_val': 6.884944078001299e-22, 'mu_R_val': -83.17025440313111}\n",
      "- 2023-11-06 08:19:13: MainProcess:nqcpfem.fenics >> DEBUG:creating PETSc Matrix\n",
      "- 2023-11-06 08:19:13: MainProcess:nqcpfem.fenics >> DEBUG:gathering constants\n",
      "- 2023-11-06 08:19:13: MainProcess:nqcpfem.fenics >> DEBUG:retrieving parameter and constant dicts\n",
      "- 2023-11-06 08:19:13: MainProcess:nqcpfem.fenics >> DEBUG:updating values\n",
      "- 2023-11-06 08:19:13: MainProcess:nqcpfem.fenics >> DEBUG:retireving energy scale\n"
     ]
    },
    {
     "name": "stdout",
     "output_type": "stream",
     "text": [
      "44\n"
     ]
    },
    {
     "name": "stderr",
     "output_type": "stream",
     "text": [
      "- 2023-11-06 08:19:13: MainProcess:nqcpfem.fenics >> DEBUG:gathering constants complete\n",
      "- 2023-11-06 08:19:13: MainProcess:nqcpfem.fenics >> DEBUG:assembling array\n",
      "- 2023-11-06 08:19:14: MainProcess:nqcpfem.solvers >> DEBUG:solving problem:\n",
      "- 2023-11-06 08:19:32: MainProcess:nqcpfem.solvers >> DEBUG: number of converged eigenvectors: 16\n"
     ]
    },
    {
     "name": "stdout",
     "output_type": "stream",
     "text": [
      "(21008, 21008)\n"
     ]
    },
    {
     "name": "stderr",
     "output_type": "stream",
     "text": [
      "- 2023-11-06 08:19:35: MainProcess:nqcpfem.parameter_search >> INFO:evaluating at grid point 45/1024\n",
      "- 2023-11-06 08:19:35: MainProcess:nqcpfem.parameter_search >> DEBUG:parameters: {'mu_sc_val': 6.884944078001299e-22, 'mu_R_val': -82.7788649706458}\n",
      "- 2023-11-06 08:19:35: MainProcess:nqcpfem.fenics >> DEBUG:creating PETSc Matrix\n",
      "- 2023-11-06 08:19:35: MainProcess:nqcpfem.fenics >> DEBUG:gathering constants\n",
      "- 2023-11-06 08:19:35: MainProcess:nqcpfem.fenics >> DEBUG:retrieving parameter and constant dicts\n",
      "- 2023-11-06 08:19:35: MainProcess:nqcpfem.fenics >> DEBUG:updating values\n"
     ]
    },
    {
     "name": "stdout",
     "output_type": "stream",
     "text": [
      "45\n"
     ]
    },
    {
     "name": "stderr",
     "output_type": "stream",
     "text": [
      "- 2023-11-06 08:19:35: MainProcess:nqcpfem.fenics >> DEBUG:retireving energy scale\n",
      "- 2023-11-06 08:19:35: MainProcess:nqcpfem.fenics >> DEBUG:gathering constants complete\n",
      "- 2023-11-06 08:19:35: MainProcess:nqcpfem.fenics >> DEBUG:assembling array\n",
      "- 2023-11-06 08:19:36: MainProcess:nqcpfem.solvers >> DEBUG:solving problem:\n",
      "- 2023-11-06 08:19:49: MainProcess:nqcpfem.solvers >> DEBUG: number of converged eigenvectors: 16\n"
     ]
    },
    {
     "name": "stdout",
     "output_type": "stream",
     "text": [
      "(21008, 21008)\n"
     ]
    },
    {
     "name": "stderr",
     "output_type": "stream",
     "text": [
      "- 2023-11-06 08:19:51: MainProcess:nqcpfem.parameter_search >> INFO:evaluating at grid point 46/1024\n",
      "- 2023-11-06 08:19:51: MainProcess:nqcpfem.parameter_search >> DEBUG:parameters: {'mu_sc_val': 6.884944078001299e-22, 'mu_R_val': -82.38747553816047}\n",
      "- 2023-11-06 08:19:51: MainProcess:nqcpfem.fenics >> DEBUG:creating PETSc Matrix\n",
      "- 2023-11-06 08:19:51: MainProcess:nqcpfem.fenics >> DEBUG:gathering constants\n",
      "- 2023-11-06 08:19:51: MainProcess:nqcpfem.fenics >> DEBUG:retrieving parameter and constant dicts\n",
      "- 2023-11-06 08:19:51: MainProcess:nqcpfem.fenics >> DEBUG:updating values\n"
     ]
    },
    {
     "name": "stdout",
     "output_type": "stream",
     "text": [
      "46\n"
     ]
    },
    {
     "name": "stderr",
     "output_type": "stream",
     "text": [
      "- 2023-11-06 08:19:52: MainProcess:nqcpfem.fenics >> DEBUG:retireving energy scale\n",
      "- 2023-11-06 08:19:52: MainProcess:nqcpfem.fenics >> DEBUG:gathering constants complete\n",
      "- 2023-11-06 08:19:52: MainProcess:nqcpfem.fenics >> DEBUG:assembling array\n",
      "- 2023-11-06 08:19:52: MainProcess:nqcpfem.solvers >> DEBUG:solving problem:\n",
      "- 2023-11-06 08:20:01: MainProcess:nqcpfem.solvers >> DEBUG: number of converged eigenvectors: 16\n"
     ]
    },
    {
     "name": "stdout",
     "output_type": "stream",
     "text": [
      "(21008, 21008)\n"
     ]
    },
    {
     "name": "stderr",
     "output_type": "stream",
     "text": [
      "- 2023-11-06 08:20:03: MainProcess:nqcpfem.parameter_search >> INFO:evaluating at grid point 47/1024\n",
      "- 2023-11-06 08:20:03: MainProcess:nqcpfem.parameter_search >> DEBUG:parameters: {'mu_sc_val': 6.884944078001299e-22, 'mu_R_val': -81.99608610567515}\n",
      "- 2023-11-06 08:20:03: MainProcess:nqcpfem.fenics >> DEBUG:creating PETSc Matrix\n",
      "- 2023-11-06 08:20:03: MainProcess:nqcpfem.fenics >> DEBUG:gathering constants\n",
      "- 2023-11-06 08:20:03: MainProcess:nqcpfem.fenics >> DEBUG:retrieving parameter and constant dicts\n",
      "- 2023-11-06 08:20:03: MainProcess:nqcpfem.fenics >> DEBUG:updating values\n"
     ]
    },
    {
     "name": "stdout",
     "output_type": "stream",
     "text": [
      "47\n"
     ]
    },
    {
     "name": "stderr",
     "output_type": "stream",
     "text": [
      "- 2023-11-06 08:20:03: MainProcess:nqcpfem.fenics >> DEBUG:retireving energy scale\n",
      "- 2023-11-06 08:20:03: MainProcess:nqcpfem.fenics >> DEBUG:gathering constants complete\n",
      "- 2023-11-06 08:20:03: MainProcess:nqcpfem.fenics >> DEBUG:assembling array\n",
      "- 2023-11-06 08:20:04: MainProcess:nqcpfem.solvers >> DEBUG:solving problem:\n",
      "- 2023-11-06 08:20:14: MainProcess:nqcpfem.solvers >> DEBUG: number of converged eigenvectors: 16\n"
     ]
    },
    {
     "name": "stdout",
     "output_type": "stream",
     "text": [
      "(21008, 21008)\n"
     ]
    },
    {
     "name": "stderr",
     "output_type": "stream",
     "text": [
      "- 2023-11-06 08:20:16: MainProcess:nqcpfem.parameter_search >> INFO:evaluating at grid point 48/1024\n",
      "- 2023-11-06 08:20:16: MainProcess:nqcpfem.parameter_search >> DEBUG:parameters: {'mu_sc_val': 6.884944078001299e-22, 'mu_R_val': -81.60469667318982}\n",
      "- 2023-11-06 08:20:16: MainProcess:nqcpfem.fenics >> DEBUG:creating PETSc Matrix\n",
      "- 2023-11-06 08:20:16: MainProcess:nqcpfem.fenics >> DEBUG:gathering constants\n",
      "- 2023-11-06 08:20:16: MainProcess:nqcpfem.fenics >> DEBUG:retrieving parameter and constant dicts\n",
      "- 2023-11-06 08:20:16: MainProcess:nqcpfem.fenics >> DEBUG:updating values\n"
     ]
    },
    {
     "name": "stdout",
     "output_type": "stream",
     "text": [
      "48\n"
     ]
    },
    {
     "name": "stderr",
     "output_type": "stream",
     "text": [
      "- 2023-11-06 08:20:17: MainProcess:nqcpfem.fenics >> DEBUG:retireving energy scale\n",
      "- 2023-11-06 08:20:17: MainProcess:nqcpfem.fenics >> DEBUG:gathering constants complete\n",
      "- 2023-11-06 08:20:17: MainProcess:nqcpfem.fenics >> DEBUG:assembling array\n",
      "- 2023-11-06 08:20:17: MainProcess:nqcpfem.solvers >> DEBUG:solving problem:\n",
      "- 2023-11-06 08:20:24: MainProcess:nqcpfem.solvers >> DEBUG: number of converged eigenvectors: 16\n"
     ]
    },
    {
     "name": "stdout",
     "output_type": "stream",
     "text": [
      "(21008, 21008)\n"
     ]
    },
    {
     "name": "stderr",
     "output_type": "stream",
     "text": [
      "- 2023-11-06 08:20:27: MainProcess:nqcpfem.parameter_search >> INFO:evaluating at grid point 49/1024\n",
      "- 2023-11-06 08:20:27: MainProcess:nqcpfem.parameter_search >> DEBUG:parameters: {'mu_sc_val': 6.884944078001299e-22, 'mu_R_val': -81.2133072407045}\n",
      "- 2023-11-06 08:20:27: MainProcess:nqcpfem.fenics >> DEBUG:creating PETSc Matrix\n",
      "- 2023-11-06 08:20:27: MainProcess:nqcpfem.fenics >> DEBUG:gathering constants\n",
      "- 2023-11-06 08:20:27: MainProcess:nqcpfem.fenics >> DEBUG:retrieving parameter and constant dicts\n",
      "- 2023-11-06 08:20:27: MainProcess:nqcpfem.fenics >> DEBUG:updating values\n",
      "- 2023-11-06 08:20:27: MainProcess:nqcpfem.fenics >> DEBUG:retireving energy scale\n",
      "- 2023-11-06 08:20:27: MainProcess:nqcpfem.fenics >> DEBUG:gathering constants complete\n",
      "- 2023-11-06 08:20:27: MainProcess:nqcpfem.fenics >> DEBUG:assembling array\n"
     ]
    },
    {
     "name": "stdout",
     "output_type": "stream",
     "text": [
      "49\n"
     ]
    },
    {
     "name": "stderr",
     "output_type": "stream",
     "text": [
      "- 2023-11-06 08:20:27: MainProcess:nqcpfem.solvers >> DEBUG:solving problem:\n",
      "- 2023-11-06 08:20:34: MainProcess:nqcpfem.solvers >> DEBUG: number of converged eigenvectors: 16\n"
     ]
    },
    {
     "name": "stdout",
     "output_type": "stream",
     "text": [
      "(21008, 21008)\n"
     ]
    },
    {
     "name": "stderr",
     "output_type": "stream",
     "text": [
      "- 2023-11-06 08:20:36: MainProcess:nqcpfem.parameter_search >> INFO:evaluating at grid point 50/1024\n",
      "- 2023-11-06 08:20:36: MainProcess:nqcpfem.parameter_search >> DEBUG:parameters: {'mu_sc_val': 6.884944078001299e-22, 'mu_R_val': -80.82191780821918}\n",
      "- 2023-11-06 08:20:36: MainProcess:nqcpfem.fenics >> DEBUG:creating PETSc Matrix\n",
      "- 2023-11-06 08:20:36: MainProcess:nqcpfem.fenics >> DEBUG:gathering constants\n",
      "- 2023-11-06 08:20:36: MainProcess:nqcpfem.fenics >> DEBUG:retrieving parameter and constant dicts\n",
      "- 2023-11-06 08:20:36: MainProcess:nqcpfem.fenics >> DEBUG:updating values\n",
      "- 2023-11-06 08:20:36: MainProcess:nqcpfem.fenics >> DEBUG:retireving energy scale\n",
      "- 2023-11-06 08:20:36: MainProcess:nqcpfem.fenics >> DEBUG:gathering constants complete\n",
      "- 2023-11-06 08:20:36: MainProcess:nqcpfem.fenics >> DEBUG:assembling array\n"
     ]
    },
    {
     "name": "stdout",
     "output_type": "stream",
     "text": [
      "50\n"
     ]
    },
    {
     "name": "stderr",
     "output_type": "stream",
     "text": [
      "- 2023-11-06 08:20:37: MainProcess:nqcpfem.solvers >> DEBUG:solving problem:\n",
      "- 2023-11-06 08:20:44: MainProcess:nqcpfem.solvers >> DEBUG: number of converged eigenvectors: 16\n"
     ]
    },
    {
     "name": "stdout",
     "output_type": "stream",
     "text": [
      "(21008, 21008)\n"
     ]
    },
    {
     "name": "stderr",
     "output_type": "stream",
     "text": [
      "- 2023-11-06 08:20:46: MainProcess:nqcpfem.parameter_search >> INFO:evaluating at grid point 51/1024\n",
      "- 2023-11-06 08:20:46: MainProcess:nqcpfem.parameter_search >> DEBUG:parameters: {'mu_sc_val': 6.884944078001299e-22, 'mu_R_val': -80.43052837573386}\n",
      "- 2023-11-06 08:20:46: MainProcess:nqcpfem.fenics >> DEBUG:creating PETSc Matrix\n",
      "- 2023-11-06 08:20:46: MainProcess:nqcpfem.fenics >> DEBUG:gathering constants\n",
      "- 2023-11-06 08:20:46: MainProcess:nqcpfem.fenics >> DEBUG:retrieving parameter and constant dicts\n",
      "- 2023-11-06 08:20:46: MainProcess:nqcpfem.fenics >> DEBUG:updating values\n",
      "- 2023-11-06 08:20:47: MainProcess:nqcpfem.fenics >> DEBUG:retireving energy scale\n",
      "- 2023-11-06 08:20:47: MainProcess:nqcpfem.fenics >> DEBUG:gathering constants complete\n",
      "- 2023-11-06 08:20:47: MainProcess:nqcpfem.fenics >> DEBUG:assembling array\n"
     ]
    },
    {
     "name": "stdout",
     "output_type": "stream",
     "text": [
      "51\n"
     ]
    },
    {
     "name": "stderr",
     "output_type": "stream",
     "text": [
      "- 2023-11-06 08:20:47: MainProcess:nqcpfem.solvers >> DEBUG:solving problem:\n",
      "- 2023-11-06 08:20:54: MainProcess:nqcpfem.solvers >> DEBUG: number of converged eigenvectors: 16\n"
     ]
    },
    {
     "name": "stdout",
     "output_type": "stream",
     "text": [
      "(21008, 21008)\n"
     ]
    },
    {
     "name": "stderr",
     "output_type": "stream",
     "text": [
      "- 2023-11-06 08:20:57: MainProcess:nqcpfem.parameter_search >> INFO:evaluating at grid point 52/1024\n",
      "- 2023-11-06 08:20:57: MainProcess:nqcpfem.parameter_search >> DEBUG:parameters: {'mu_sc_val': 6.884944078001299e-22, 'mu_R_val': -80.03913894324853}\n",
      "- 2023-11-06 08:20:57: MainProcess:nqcpfem.fenics >> DEBUG:creating PETSc Matrix\n",
      "- 2023-11-06 08:20:57: MainProcess:nqcpfem.fenics >> DEBUG:gathering constants\n",
      "- 2023-11-06 08:20:57: MainProcess:nqcpfem.fenics >> DEBUG:retrieving parameter and constant dicts\n",
      "- 2023-11-06 08:20:57: MainProcess:nqcpfem.fenics >> DEBUG:updating values\n",
      "- 2023-11-06 08:20:57: MainProcess:nqcpfem.fenics >> DEBUG:retireving energy scale\n",
      "- 2023-11-06 08:20:57: MainProcess:nqcpfem.fenics >> DEBUG:gathering constants complete\n",
      "- 2023-11-06 08:20:57: MainProcess:nqcpfem.fenics >> DEBUG:assembling array\n",
      "- 2023-11-06 08:20:58: MainProcess:nqcpfem.solvers >> DEBUG:solving problem:\n"
     ]
    },
    {
     "name": "stdout",
     "output_type": "stream",
     "text": [
      "52\n",
      "(21008, 21008)\n"
     ]
    },
    {
     "name": "stderr",
     "output_type": "stream",
     "text": [
      "- 2023-11-06 08:21:05: MainProcess:nqcpfem.solvers >> DEBUG: number of converged eigenvectors: 16\n",
      "- 2023-11-06 08:21:08: MainProcess:nqcpfem.parameter_search >> INFO:evaluating at grid point 53/1024\n",
      "- 2023-11-06 08:21:08: MainProcess:nqcpfem.parameter_search >> DEBUG:parameters: {'mu_sc_val': 6.884944078001299e-22, 'mu_R_val': -79.64774951076322}\n",
      "- 2023-11-06 08:21:08: MainProcess:nqcpfem.fenics >> DEBUG:creating PETSc Matrix\n",
      "- 2023-11-06 08:21:08: MainProcess:nqcpfem.fenics >> DEBUG:gathering constants\n",
      "- 2023-11-06 08:21:08: MainProcess:nqcpfem.fenics >> DEBUG:retrieving parameter and constant dicts\n",
      "- 2023-11-06 08:21:08: MainProcess:nqcpfem.fenics >> DEBUG:updating values\n",
      "- 2023-11-06 08:21:08: MainProcess:nqcpfem.fenics >> DEBUG:retireving energy scale\n",
      "- 2023-11-06 08:21:08: MainProcess:nqcpfem.fenics >> DEBUG:gathering constants complete\n",
      "- 2023-11-06 08:21:08: MainProcess:nqcpfem.fenics >> DEBUG:assembling array\n"
     ]
    },
    {
     "name": "stdout",
     "output_type": "stream",
     "text": [
      "53\n"
     ]
    },
    {
     "name": "stderr",
     "output_type": "stream",
     "text": [
      "- 2023-11-06 08:21:08: MainProcess:nqcpfem.solvers >> DEBUG:solving problem:\n",
      "- 2023-11-06 08:21:15: MainProcess:nqcpfem.solvers >> DEBUG: number of converged eigenvectors: 16\n"
     ]
    },
    {
     "name": "stdout",
     "output_type": "stream",
     "text": [
      "(21008, 21008)\n"
     ]
    },
    {
     "name": "stderr",
     "output_type": "stream",
     "text": [
      "- 2023-11-06 08:21:17: MainProcess:nqcpfem.parameter_search >> INFO:evaluating at grid point 54/1024\n",
      "- 2023-11-06 08:21:17: MainProcess:nqcpfem.parameter_search >> DEBUG:parameters: {'mu_sc_val': 6.884944078001299e-22, 'mu_R_val': -79.25636007827788}\n",
      "- 2023-11-06 08:21:17: MainProcess:nqcpfem.fenics >> DEBUG:creating PETSc Matrix\n",
      "- 2023-11-06 08:21:17: MainProcess:nqcpfem.fenics >> DEBUG:gathering constants\n",
      "- 2023-11-06 08:21:17: MainProcess:nqcpfem.fenics >> DEBUG:retrieving parameter and constant dicts\n",
      "- 2023-11-06 08:21:17: MainProcess:nqcpfem.fenics >> DEBUG:updating values\n",
      "- 2023-11-06 08:21:17: MainProcess:nqcpfem.fenics >> DEBUG:retireving energy scale\n",
      "- 2023-11-06 08:21:17: MainProcess:nqcpfem.fenics >> DEBUG:gathering constants complete\n",
      "- 2023-11-06 08:21:17: MainProcess:nqcpfem.fenics >> DEBUG:assembling array\n",
      "- 2023-11-06 08:21:18: MainProcess:nqcpfem.solvers >> DEBUG:solving problem:\n"
     ]
    },
    {
     "name": "stdout",
     "output_type": "stream",
     "text": [
      "54\n",
      "(21008, 21008)\n"
     ]
    },
    {
     "name": "stderr",
     "output_type": "stream",
     "text": [
      "- 2023-11-06 08:21:24: MainProcess:nqcpfem.solvers >> DEBUG: number of converged eigenvectors: 16\n",
      "- 2023-11-06 08:21:25: MainProcess:nqcpfem.parameter_search >> INFO:evaluating at grid point 55/1024\n",
      "- 2023-11-06 08:21:25: MainProcess:nqcpfem.parameter_search >> DEBUG:parameters: {'mu_sc_val': 6.884944078001299e-22, 'mu_R_val': -78.86497064579257}\n",
      "- 2023-11-06 08:21:25: MainProcess:nqcpfem.fenics >> DEBUG:creating PETSc Matrix\n",
      "- 2023-11-06 08:21:25: MainProcess:nqcpfem.fenics >> DEBUG:gathering constants\n",
      "- 2023-11-06 08:21:25: MainProcess:nqcpfem.fenics >> DEBUG:retrieving parameter and constant dicts\n",
      "- 2023-11-06 08:21:25: MainProcess:nqcpfem.fenics >> DEBUG:updating values\n",
      "- 2023-11-06 08:21:25: MainProcess:nqcpfem.fenics >> DEBUG:retireving energy scale\n",
      "- 2023-11-06 08:21:25: MainProcess:nqcpfem.fenics >> DEBUG:gathering constants complete\n",
      "- 2023-11-06 08:21:25: MainProcess:nqcpfem.fenics >> DEBUG:assembling array\n",
      "- 2023-11-06 08:21:25: MainProcess:nqcpfem.solvers >> DEBUG:solving problem:\n"
     ]
    },
    {
     "name": "stdout",
     "output_type": "stream",
     "text": [
      "55\n",
      "(21008, 21008)\n"
     ]
    },
    {
     "name": "stderr",
     "output_type": "stream",
     "text": [
      "- 2023-11-06 08:21:29: MainProcess:nqcpfem.solvers >> DEBUG: number of converged eigenvectors: 16\n",
      "- 2023-11-06 08:21:30: MainProcess:nqcpfem.parameter_search >> INFO:evaluating at grid point 56/1024\n",
      "- 2023-11-06 08:21:30: MainProcess:nqcpfem.parameter_search >> DEBUG:parameters: {'mu_sc_val': 6.884944078001299e-22, 'mu_R_val': -78.47358121330724}\n",
      "- 2023-11-06 08:21:30: MainProcess:nqcpfem.fenics >> DEBUG:creating PETSc Matrix\n",
      "- 2023-11-06 08:21:30: MainProcess:nqcpfem.fenics >> DEBUG:gathering constants\n",
      "- 2023-11-06 08:21:30: MainProcess:nqcpfem.fenics >> DEBUG:retrieving parameter and constant dicts\n",
      "- 2023-11-06 08:21:30: MainProcess:nqcpfem.fenics >> DEBUG:updating values\n",
      "- 2023-11-06 08:21:30: MainProcess:nqcpfem.fenics >> DEBUG:retireving energy scale\n",
      "- 2023-11-06 08:21:30: MainProcess:nqcpfem.fenics >> DEBUG:gathering constants complete\n",
      "- 2023-11-06 08:21:30: MainProcess:nqcpfem.fenics >> DEBUG:assembling array\n",
      "- 2023-11-06 08:21:31: MainProcess:nqcpfem.solvers >> DEBUG:solving problem:\n"
     ]
    },
    {
     "name": "stdout",
     "output_type": "stream",
     "text": [
      "56\n",
      "(21008, 21008)\n"
     ]
    },
    {
     "name": "stderr",
     "output_type": "stream",
     "text": [
      "- 2023-11-06 08:21:34: MainProcess:nqcpfem.solvers >> DEBUG: number of converged eigenvectors: 16\n",
      "- 2023-11-06 08:21:36: MainProcess:nqcpfem.parameter_search >> INFO:evaluating at grid point 57/1024\n",
      "- 2023-11-06 08:21:36: MainProcess:nqcpfem.parameter_search >> DEBUG:parameters: {'mu_sc_val': 6.884944078001299e-22, 'mu_R_val': -78.08219178082192}\n",
      "- 2023-11-06 08:21:36: MainProcess:nqcpfem.fenics >> DEBUG:creating PETSc Matrix\n",
      "- 2023-11-06 08:21:36: MainProcess:nqcpfem.fenics >> DEBUG:gathering constants\n",
      "- 2023-11-06 08:21:36: MainProcess:nqcpfem.fenics >> DEBUG:retrieving parameter and constant dicts\n",
      "- 2023-11-06 08:21:36: MainProcess:nqcpfem.fenics >> DEBUG:updating values\n",
      "- 2023-11-06 08:21:36: MainProcess:nqcpfem.fenics >> DEBUG:retireving energy scale\n",
      "- 2023-11-06 08:21:36: MainProcess:nqcpfem.fenics >> DEBUG:gathering constants complete\n",
      "- 2023-11-06 08:21:36: MainProcess:nqcpfem.fenics >> DEBUG:assembling array\n",
      "- 2023-11-06 08:21:36: MainProcess:nqcpfem.solvers >> DEBUG:solving problem:\n"
     ]
    },
    {
     "name": "stdout",
     "output_type": "stream",
     "text": [
      "57\n",
      "(21008, 21008)\n"
     ]
    },
    {
     "name": "stderr",
     "output_type": "stream",
     "text": [
      "- 2023-11-06 08:21:40: MainProcess:nqcpfem.solvers >> DEBUG: number of converged eigenvectors: 16\n",
      "- 2023-11-06 08:21:41: MainProcess:nqcpfem.parameter_search >> INFO:evaluating at grid point 58/1024\n",
      "- 2023-11-06 08:21:41: MainProcess:nqcpfem.parameter_search >> DEBUG:parameters: {'mu_sc_val': 6.884944078001299e-22, 'mu_R_val': -77.6908023483366}\n",
      "- 2023-11-06 08:21:41: MainProcess:nqcpfem.fenics >> DEBUG:creating PETSc Matrix\n",
      "- 2023-11-06 08:21:41: MainProcess:nqcpfem.fenics >> DEBUG:gathering constants\n",
      "- 2023-11-06 08:21:41: MainProcess:nqcpfem.fenics >> DEBUG:retrieving parameter and constant dicts\n",
      "- 2023-11-06 08:21:41: MainProcess:nqcpfem.fenics >> DEBUG:updating values\n",
      "- 2023-11-06 08:21:41: MainProcess:nqcpfem.fenics >> DEBUG:retireving energy scale\n",
      "- 2023-11-06 08:21:41: MainProcess:nqcpfem.fenics >> DEBUG:gathering constants complete\n",
      "- 2023-11-06 08:21:41: MainProcess:nqcpfem.fenics >> DEBUG:assembling array\n",
      "- 2023-11-06 08:21:41: MainProcess:nqcpfem.solvers >> DEBUG:solving problem:\n"
     ]
    },
    {
     "name": "stdout",
     "output_type": "stream",
     "text": [
      "58\n",
      "(21008, 21008)\n"
     ]
    },
    {
     "name": "stderr",
     "output_type": "stream",
     "text": [
      "- 2023-11-06 08:21:45: MainProcess:nqcpfem.solvers >> DEBUG: number of converged eigenvectors: 16\n",
      "- 2023-11-06 08:21:46: MainProcess:nqcpfem.parameter_search >> INFO:evaluating at grid point 59/1024\n",
      "- 2023-11-06 08:21:46: MainProcess:nqcpfem.parameter_search >> DEBUG:parameters: {'mu_sc_val': 6.884944078001299e-22, 'mu_R_val': -77.29941291585128}\n",
      "- 2023-11-06 08:21:46: MainProcess:nqcpfem.fenics >> DEBUG:creating PETSc Matrix\n",
      "- 2023-11-06 08:21:46: MainProcess:nqcpfem.fenics >> DEBUG:gathering constants\n",
      "- 2023-11-06 08:21:46: MainProcess:nqcpfem.fenics >> DEBUG:retrieving parameter and constant dicts\n",
      "- 2023-11-06 08:21:46: MainProcess:nqcpfem.fenics >> DEBUG:updating values\n",
      "- 2023-11-06 08:21:46: MainProcess:nqcpfem.fenics >> DEBUG:retireving energy scale\n",
      "- 2023-11-06 08:21:46: MainProcess:nqcpfem.fenics >> DEBUG:gathering constants complete\n",
      "- 2023-11-06 08:21:46: MainProcess:nqcpfem.fenics >> DEBUG:assembling array\n",
      "- 2023-11-06 08:21:47: MainProcess:nqcpfem.solvers >> DEBUG:solving problem:\n"
     ]
    },
    {
     "name": "stdout",
     "output_type": "stream",
     "text": [
      "59\n",
      "(21008, 21008)\n"
     ]
    },
    {
     "name": "stderr",
     "output_type": "stream",
     "text": [
      "- 2023-11-06 08:21:52: MainProcess:nqcpfem.solvers >> DEBUG: number of converged eigenvectors: 16\n",
      "- 2023-11-06 08:21:54: MainProcess:nqcpfem.parameter_search >> INFO:evaluating at grid point 60/1024\n",
      "- 2023-11-06 08:21:54: MainProcess:nqcpfem.parameter_search >> DEBUG:parameters: {'mu_sc_val': 6.884944078001299e-22, 'mu_R_val': -76.90802348336595}\n",
      "- 2023-11-06 08:21:54: MainProcess:nqcpfem.fenics >> DEBUG:creating PETSc Matrix\n",
      "- 2023-11-06 08:21:54: MainProcess:nqcpfem.fenics >> DEBUG:gathering constants\n",
      "- 2023-11-06 08:21:54: MainProcess:nqcpfem.fenics >> DEBUG:retrieving parameter and constant dicts\n",
      "- 2023-11-06 08:21:54: MainProcess:nqcpfem.fenics >> DEBUG:updating values\n",
      "- 2023-11-06 08:21:54: MainProcess:nqcpfem.fenics >> DEBUG:retireving energy scale\n",
      "- 2023-11-06 08:21:54: MainProcess:nqcpfem.fenics >> DEBUG:gathering constants complete\n",
      "- 2023-11-06 08:21:54: MainProcess:nqcpfem.fenics >> DEBUG:assembling array\n",
      "- 2023-11-06 08:21:54: MainProcess:nqcpfem.solvers >> DEBUG:solving problem:\n"
     ]
    },
    {
     "name": "stdout",
     "output_type": "stream",
     "text": [
      "60\n",
      "(21008, 21008)\n"
     ]
    },
    {
     "name": "stderr",
     "output_type": "stream",
     "text": [
      "- 2023-11-06 08:22:00: MainProcess:nqcpfem.solvers >> DEBUG: number of converged eigenvectors: 16\n",
      "- 2023-11-06 08:22:01: MainProcess:nqcpfem.parameter_search >> INFO:evaluating at grid point 61/1024\n",
      "- 2023-11-06 08:22:01: MainProcess:nqcpfem.parameter_search >> DEBUG:parameters: {'mu_sc_val': 6.884944078001299e-22, 'mu_R_val': -76.51663405088063}\n",
      "- 2023-11-06 08:22:01: MainProcess:nqcpfem.fenics >> DEBUG:creating PETSc Matrix\n",
      "- 2023-11-06 08:22:01: MainProcess:nqcpfem.fenics >> DEBUG:gathering constants\n",
      "- 2023-11-06 08:22:02: MainProcess:nqcpfem.fenics >> DEBUG:retrieving parameter and constant dicts\n",
      "- 2023-11-06 08:22:02: MainProcess:nqcpfem.fenics >> DEBUG:updating values\n",
      "- 2023-11-06 08:22:02: MainProcess:nqcpfem.fenics >> DEBUG:retireving energy scale\n",
      "- 2023-11-06 08:22:02: MainProcess:nqcpfem.fenics >> DEBUG:gathering constants complete\n",
      "- 2023-11-06 08:22:02: MainProcess:nqcpfem.fenics >> DEBUG:assembling array\n",
      "- 2023-11-06 08:22:02: MainProcess:nqcpfem.solvers >> DEBUG:solving problem:\n"
     ]
    },
    {
     "name": "stdout",
     "output_type": "stream",
     "text": [
      "61\n",
      "(21008, 21008)\n"
     ]
    },
    {
     "name": "stderr",
     "output_type": "stream",
     "text": [
      "- 2023-11-06 08:22:08: MainProcess:nqcpfem.solvers >> DEBUG: number of converged eigenvectors: 16\n",
      "- 2023-11-06 08:22:10: MainProcess:nqcpfem.parameter_search >> INFO:evaluating at grid point 62/1024\n",
      "- 2023-11-06 08:22:10: MainProcess:nqcpfem.parameter_search >> DEBUG:parameters: {'mu_sc_val': 6.884944078001299e-22, 'mu_R_val': -76.1252446183953}\n",
      "- 2023-11-06 08:22:10: MainProcess:nqcpfem.fenics >> DEBUG:creating PETSc Matrix\n",
      "- 2023-11-06 08:22:10: MainProcess:nqcpfem.fenics >> DEBUG:gathering constants\n",
      "- 2023-11-06 08:22:10: MainProcess:nqcpfem.fenics >> DEBUG:retrieving parameter and constant dicts\n",
      "- 2023-11-06 08:22:10: MainProcess:nqcpfem.fenics >> DEBUG:updating values\n",
      "- 2023-11-06 08:22:10: MainProcess:nqcpfem.fenics >> DEBUG:retireving energy scale\n",
      "- 2023-11-06 08:22:10: MainProcess:nqcpfem.fenics >> DEBUG:gathering constants complete\n",
      "- 2023-11-06 08:22:10: MainProcess:nqcpfem.fenics >> DEBUG:assembling array\n",
      "- 2023-11-06 08:22:10: MainProcess:nqcpfem.solvers >> DEBUG:solving problem:\n"
     ]
    },
    {
     "name": "stdout",
     "output_type": "stream",
     "text": [
      "62\n",
      "(21008, 21008)\n"
     ]
    },
    {
     "name": "stderr",
     "output_type": "stream",
     "text": [
      "- 2023-11-06 08:22:16: MainProcess:nqcpfem.solvers >> DEBUG: number of converged eigenvectors: 16\n",
      "- 2023-11-06 08:22:17: MainProcess:nqcpfem.parameter_search >> INFO:evaluating at grid point 63/1024\n",
      "- 2023-11-06 08:22:17: MainProcess:nqcpfem.parameter_search >> DEBUG:parameters: {'mu_sc_val': 6.884944078001299e-22, 'mu_R_val': -75.73385518590999}\n",
      "- 2023-11-06 08:22:17: MainProcess:nqcpfem.fenics >> DEBUG:creating PETSc Matrix\n",
      "- 2023-11-06 08:22:17: MainProcess:nqcpfem.fenics >> DEBUG:gathering constants\n",
      "- 2023-11-06 08:22:17: MainProcess:nqcpfem.fenics >> DEBUG:retrieving parameter and constant dicts\n",
      "- 2023-11-06 08:22:17: MainProcess:nqcpfem.fenics >> DEBUG:updating values\n",
      "- 2023-11-06 08:22:17: MainProcess:nqcpfem.fenics >> DEBUG:retireving energy scale\n",
      "- 2023-11-06 08:22:17: MainProcess:nqcpfem.fenics >> DEBUG:gathering constants complete\n",
      "- 2023-11-06 08:22:17: MainProcess:nqcpfem.fenics >> DEBUG:assembling array\n",
      "- 2023-11-06 08:22:17: MainProcess:nqcpfem.solvers >> DEBUG:solving problem:\n"
     ]
    },
    {
     "name": "stdout",
     "output_type": "stream",
     "text": [
      "63\n",
      "(21008, 21008)\n"
     ]
    },
    {
     "name": "stderr",
     "output_type": "stream",
     "text": [
      "- 2023-11-06 08:22:23: MainProcess:nqcpfem.solvers >> DEBUG: number of converged eigenvectors: 16\n",
      "- 2023-11-06 08:22:25: MainProcess:nqcpfem.parameter_search >> INFO:evaluating at grid point 64/1024\n",
      "- 2023-11-06 08:22:25: MainProcess:nqcpfem.parameter_search >> DEBUG:parameters: {'mu_sc_val': 6.884944078001299e-22, 'mu_R_val': -75.34246575342466}\n",
      "- 2023-11-06 08:22:25: MainProcess:nqcpfem.fenics >> DEBUG:creating PETSc Matrix\n",
      "- 2023-11-06 08:22:25: MainProcess:nqcpfem.fenics >> DEBUG:gathering constants\n",
      "- 2023-11-06 08:22:25: MainProcess:nqcpfem.fenics >> DEBUG:retrieving parameter and constant dicts\n",
      "- 2023-11-06 08:22:25: MainProcess:nqcpfem.fenics >> DEBUG:updating values\n",
      "- 2023-11-06 08:22:25: MainProcess:nqcpfem.fenics >> DEBUG:retireving energy scale\n",
      "- 2023-11-06 08:22:25: MainProcess:nqcpfem.fenics >> DEBUG:gathering constants complete\n",
      "- 2023-11-06 08:22:25: MainProcess:nqcpfem.fenics >> DEBUG:assembling array\n",
      "- 2023-11-06 08:22:25: MainProcess:nqcpfem.solvers >> DEBUG:solving problem:\n"
     ]
    },
    {
     "name": "stdout",
     "output_type": "stream",
     "text": [
      "64\n",
      "(21008, 21008)\n"
     ]
    },
    {
     "name": "stderr",
     "output_type": "stream",
     "text": [
      "- 2023-11-06 08:22:31: MainProcess:nqcpfem.solvers >> DEBUG: number of converged eigenvectors: 16\n",
      "- 2023-11-06 08:22:33: MainProcess:nqcpfem.parameter_search >> INFO:evaluating at grid point 65/1024\n",
      "- 2023-11-06 08:22:33: MainProcess:nqcpfem.parameter_search >> DEBUG:parameters: {'mu_sc_val': 6.884944078001299e-22, 'mu_R_val': -74.95107632093934}\n",
      "- 2023-11-06 08:22:33: MainProcess:nqcpfem.fenics >> DEBUG:creating PETSc Matrix\n",
      "- 2023-11-06 08:22:33: MainProcess:nqcpfem.fenics >> DEBUG:gathering constants\n",
      "- 2023-11-06 08:22:33: MainProcess:nqcpfem.fenics >> DEBUG:retrieving parameter and constant dicts\n",
      "- 2023-11-06 08:22:33: MainProcess:nqcpfem.fenics >> DEBUG:updating values\n",
      "- 2023-11-06 08:22:33: MainProcess:nqcpfem.fenics >> DEBUG:retireving energy scale\n",
      "- 2023-11-06 08:22:33: MainProcess:nqcpfem.fenics >> DEBUG:gathering constants complete\n",
      "- 2023-11-06 08:22:33: MainProcess:nqcpfem.fenics >> DEBUG:assembling array\n",
      "- 2023-11-06 08:22:33: MainProcess:nqcpfem.solvers >> DEBUG:solving problem:\n"
     ]
    },
    {
     "name": "stdout",
     "output_type": "stream",
     "text": [
      "65\n",
      "(21008, 21008)\n"
     ]
    },
    {
     "name": "stderr",
     "output_type": "stream",
     "text": [
      "- 2023-11-06 08:22:40: MainProcess:nqcpfem.solvers >> DEBUG: number of converged eigenvectors: 16\n",
      "- 2023-11-06 08:22:41: MainProcess:nqcpfem.parameter_search >> INFO:evaluating at grid point 66/1024\n",
      "- 2023-11-06 08:22:41: MainProcess:nqcpfem.parameter_search >> DEBUG:parameters: {'mu_sc_val': 6.884944078001299e-22, 'mu_R_val': -74.55968688845401}\n",
      "- 2023-11-06 08:22:41: MainProcess:nqcpfem.fenics >> DEBUG:creating PETSc Matrix\n",
      "- 2023-11-06 08:22:41: MainProcess:nqcpfem.fenics >> DEBUG:gathering constants\n",
      "- 2023-11-06 08:22:41: MainProcess:nqcpfem.fenics >> DEBUG:retrieving parameter and constant dicts\n",
      "- 2023-11-06 08:22:41: MainProcess:nqcpfem.fenics >> DEBUG:updating values\n",
      "- 2023-11-06 08:22:41: MainProcess:nqcpfem.fenics >> DEBUG:retireving energy scale\n",
      "- 2023-11-06 08:22:41: MainProcess:nqcpfem.fenics >> DEBUG:gathering constants complete\n",
      "- 2023-11-06 08:22:41: MainProcess:nqcpfem.fenics >> DEBUG:assembling array\n",
      "- 2023-11-06 08:22:41: MainProcess:nqcpfem.solvers >> DEBUG:solving problem:\n"
     ]
    },
    {
     "name": "stdout",
     "output_type": "stream",
     "text": [
      "66\n",
      "(21008, 21008)\n"
     ]
    },
    {
     "name": "stderr",
     "output_type": "stream",
     "text": [
      "- 2023-11-06 08:22:48: MainProcess:nqcpfem.solvers >> DEBUG: number of converged eigenvectors: 16\n",
      "- 2023-11-06 08:22:49: MainProcess:nqcpfem.parameter_search >> INFO:evaluating at grid point 67/1024\n",
      "- 2023-11-06 08:22:49: MainProcess:nqcpfem.parameter_search >> DEBUG:parameters: {'mu_sc_val': 6.884944078001299e-22, 'mu_R_val': -74.16829745596868}\n",
      "- 2023-11-06 08:22:49: MainProcess:nqcpfem.fenics >> DEBUG:creating PETSc Matrix\n",
      "- 2023-11-06 08:22:49: MainProcess:nqcpfem.fenics >> DEBUG:gathering constants\n",
      "- 2023-11-06 08:22:49: MainProcess:nqcpfem.fenics >> DEBUG:retrieving parameter and constant dicts\n",
      "- 2023-11-06 08:22:49: MainProcess:nqcpfem.fenics >> DEBUG:updating values\n",
      "- 2023-11-06 08:22:49: MainProcess:nqcpfem.fenics >> DEBUG:retireving energy scale\n",
      "- 2023-11-06 08:22:49: MainProcess:nqcpfem.fenics >> DEBUG:gathering constants complete\n",
      "- 2023-11-06 08:22:49: MainProcess:nqcpfem.fenics >> DEBUG:assembling array\n",
      "- 2023-11-06 08:22:49: MainProcess:nqcpfem.solvers >> DEBUG:solving problem:\n"
     ]
    },
    {
     "name": "stdout",
     "output_type": "stream",
     "text": [
      "67\n",
      "(21008, 21008)\n"
     ]
    },
    {
     "name": "stderr",
     "output_type": "stream",
     "text": [
      "- 2023-11-06 08:22:56: MainProcess:nqcpfem.solvers >> DEBUG: number of converged eigenvectors: 16\n",
      "- 2023-11-06 08:22:58: MainProcess:nqcpfem.parameter_search >> INFO:evaluating at grid point 68/1024\n",
      "- 2023-11-06 08:22:58: MainProcess:nqcpfem.parameter_search >> DEBUG:parameters: {'mu_sc_val': 6.884944078001299e-22, 'mu_R_val': -73.77690802348337}\n",
      "- 2023-11-06 08:22:58: MainProcess:nqcpfem.fenics >> DEBUG:creating PETSc Matrix\n",
      "- 2023-11-06 08:22:58: MainProcess:nqcpfem.fenics >> DEBUG:gathering constants\n",
      "- 2023-11-06 08:22:58: MainProcess:nqcpfem.fenics >> DEBUG:retrieving parameter and constant dicts\n",
      "- 2023-11-06 08:22:58: MainProcess:nqcpfem.fenics >> DEBUG:updating values\n",
      "- 2023-11-06 08:22:58: MainProcess:nqcpfem.fenics >> DEBUG:retireving energy scale\n",
      "- 2023-11-06 08:22:58: MainProcess:nqcpfem.fenics >> DEBUG:gathering constants complete\n",
      "- 2023-11-06 08:22:58: MainProcess:nqcpfem.fenics >> DEBUG:assembling array\n",
      "- 2023-11-06 08:22:58: MainProcess:nqcpfem.solvers >> DEBUG:solving problem:\n"
     ]
    },
    {
     "name": "stdout",
     "output_type": "stream",
     "text": [
      "68\n",
      "(21008, 21008)\n"
     ]
    },
    {
     "name": "stderr",
     "output_type": "stream",
     "text": [
      "- 2023-11-06 08:23:05: MainProcess:nqcpfem.solvers >> DEBUG: number of converged eigenvectors: 16\n",
      "- 2023-11-06 08:23:06: MainProcess:nqcpfem.parameter_search >> INFO:evaluating at grid point 69/1024\n",
      "- 2023-11-06 08:23:06: MainProcess:nqcpfem.parameter_search >> DEBUG:parameters: {'mu_sc_val': 6.884944078001299e-22, 'mu_R_val': -73.38551859099805}\n",
      "- 2023-11-06 08:23:06: MainProcess:nqcpfem.fenics >> DEBUG:creating PETSc Matrix\n",
      "- 2023-11-06 08:23:06: MainProcess:nqcpfem.fenics >> DEBUG:gathering constants\n",
      "- 2023-11-06 08:23:06: MainProcess:nqcpfem.fenics >> DEBUG:retrieving parameter and constant dicts\n",
      "- 2023-11-06 08:23:06: MainProcess:nqcpfem.fenics >> DEBUG:updating values\n",
      "- 2023-11-06 08:23:07: MainProcess:nqcpfem.fenics >> DEBUG:retireving energy scale\n",
      "- 2023-11-06 08:23:07: MainProcess:nqcpfem.fenics >> DEBUG:gathering constants complete\n",
      "- 2023-11-06 08:23:07: MainProcess:nqcpfem.fenics >> DEBUG:assembling array\n",
      "- 2023-11-06 08:23:07: MainProcess:nqcpfem.solvers >> DEBUG:solving problem:\n"
     ]
    },
    {
     "name": "stdout",
     "output_type": "stream",
     "text": [
      "69\n",
      "(21008, 21008)\n"
     ]
    },
    {
     "name": "stderr",
     "output_type": "stream",
     "text": [
      "- 2023-11-06 08:23:13: MainProcess:nqcpfem.solvers >> DEBUG: number of converged eigenvectors: 16\n",
      "- 2023-11-06 08:23:15: MainProcess:nqcpfem.parameter_search >> INFO:evaluating at grid point 70/1024\n",
      "- 2023-11-06 08:23:15: MainProcess:nqcpfem.parameter_search >> DEBUG:parameters: {'mu_sc_val': 6.884944078001299e-22, 'mu_R_val': -72.99412915851272}\n",
      "- 2023-11-06 08:23:15: MainProcess:nqcpfem.fenics >> DEBUG:creating PETSc Matrix\n",
      "- 2023-11-06 08:23:15: MainProcess:nqcpfem.fenics >> DEBUG:gathering constants\n",
      "- 2023-11-06 08:23:15: MainProcess:nqcpfem.fenics >> DEBUG:retrieving parameter and constant dicts\n",
      "- 2023-11-06 08:23:15: MainProcess:nqcpfem.fenics >> DEBUG:updating values\n",
      "- 2023-11-06 08:23:15: MainProcess:nqcpfem.fenics >> DEBUG:retireving energy scale\n",
      "- 2023-11-06 08:23:15: MainProcess:nqcpfem.fenics >> DEBUG:gathering constants complete\n",
      "- 2023-11-06 08:23:15: MainProcess:nqcpfem.fenics >> DEBUG:assembling array\n",
      "- 2023-11-06 08:23:15: MainProcess:nqcpfem.solvers >> DEBUG:solving problem:\n"
     ]
    },
    {
     "name": "stdout",
     "output_type": "stream",
     "text": [
      "70\n",
      "(21008, 21008)\n"
     ]
    },
    {
     "name": "stderr",
     "output_type": "stream",
     "text": [
      "- 2023-11-06 08:23:21: MainProcess:nqcpfem.solvers >> DEBUG: number of converged eigenvectors: 16\n",
      "- 2023-11-06 08:23:23: MainProcess:nqcpfem.parameter_search >> INFO:evaluating at grid point 71/1024\n",
      "- 2023-11-06 08:23:23: MainProcess:nqcpfem.parameter_search >> DEBUG:parameters: {'mu_sc_val': 6.884944078001299e-22, 'mu_R_val': -72.6027397260274}\n",
      "- 2023-11-06 08:23:23: MainProcess:nqcpfem.fenics >> DEBUG:creating PETSc Matrix\n",
      "- 2023-11-06 08:23:23: MainProcess:nqcpfem.fenics >> DEBUG:gathering constants\n",
      "- 2023-11-06 08:23:23: MainProcess:nqcpfem.fenics >> DEBUG:retrieving parameter and constant dicts\n",
      "- 2023-11-06 08:23:23: MainProcess:nqcpfem.fenics >> DEBUG:updating values\n",
      "- 2023-11-06 08:23:23: MainProcess:nqcpfem.fenics >> DEBUG:retireving energy scale\n",
      "- 2023-11-06 08:23:23: MainProcess:nqcpfem.fenics >> DEBUG:gathering constants complete\n",
      "- 2023-11-06 08:23:23: MainProcess:nqcpfem.fenics >> DEBUG:assembling array\n",
      "- 2023-11-06 08:23:23: MainProcess:nqcpfem.solvers >> DEBUG:solving problem:\n"
     ]
    },
    {
     "name": "stdout",
     "output_type": "stream",
     "text": [
      "71\n",
      "(21008, 21008)\n"
     ]
    },
    {
     "name": "stderr",
     "output_type": "stream",
     "text": [
      "- 2023-11-06 08:23:29: MainProcess:nqcpfem.solvers >> DEBUG: number of converged eigenvectors: 16\n",
      "- 2023-11-06 08:23:31: MainProcess:nqcpfem.parameter_search >> INFO:evaluating at grid point 72/1024\n",
      "- 2023-11-06 08:23:31: MainProcess:nqcpfem.parameter_search >> DEBUG:parameters: {'mu_sc_val': 6.884944078001299e-22, 'mu_R_val': -72.21135029354207}\n",
      "- 2023-11-06 08:23:31: MainProcess:nqcpfem.fenics >> DEBUG:creating PETSc Matrix\n",
      "- 2023-11-06 08:23:31: MainProcess:nqcpfem.fenics >> DEBUG:gathering constants\n",
      "- 2023-11-06 08:23:31: MainProcess:nqcpfem.fenics >> DEBUG:retrieving parameter and constant dicts\n",
      "- 2023-11-06 08:23:31: MainProcess:nqcpfem.fenics >> DEBUG:updating values\n",
      "- 2023-11-06 08:23:31: MainProcess:nqcpfem.fenics >> DEBUG:retireving energy scale\n",
      "- 2023-11-06 08:23:31: MainProcess:nqcpfem.fenics >> DEBUG:gathering constants complete\n",
      "- 2023-11-06 08:23:31: MainProcess:nqcpfem.fenics >> DEBUG:assembling array\n",
      "- 2023-11-06 08:23:31: MainProcess:nqcpfem.solvers >> DEBUG:solving problem:\n"
     ]
    },
    {
     "name": "stdout",
     "output_type": "stream",
     "text": [
      "72\n",
      "(21008, 21008)\n"
     ]
    },
    {
     "name": "stderr",
     "output_type": "stream",
     "text": [
      "- 2023-11-06 08:23:38: MainProcess:nqcpfem.solvers >> DEBUG: number of converged eigenvectors: 16\n",
      "- 2023-11-06 08:23:40: MainProcess:nqcpfem.parameter_search >> INFO:evaluating at grid point 73/1024\n",
      "- 2023-11-06 08:23:40: MainProcess:nqcpfem.parameter_search >> DEBUG:parameters: {'mu_sc_val': 6.884944078001299e-22, 'mu_R_val': -71.81996086105676}\n",
      "- 2023-11-06 08:23:40: MainProcess:nqcpfem.fenics >> DEBUG:creating PETSc Matrix\n",
      "- 2023-11-06 08:23:40: MainProcess:nqcpfem.fenics >> DEBUG:gathering constants\n",
      "- 2023-11-06 08:23:40: MainProcess:nqcpfem.fenics >> DEBUG:retrieving parameter and constant dicts\n",
      "- 2023-11-06 08:23:40: MainProcess:nqcpfem.fenics >> DEBUG:updating values\n",
      "- 2023-11-06 08:23:40: MainProcess:nqcpfem.fenics >> DEBUG:retireving energy scale\n",
      "- 2023-11-06 08:23:40: MainProcess:nqcpfem.fenics >> DEBUG:gathering constants complete\n",
      "- 2023-11-06 08:23:40: MainProcess:nqcpfem.fenics >> DEBUG:assembling array\n",
      "- 2023-11-06 08:23:40: MainProcess:nqcpfem.solvers >> DEBUG:solving problem:\n"
     ]
    },
    {
     "name": "stdout",
     "output_type": "stream",
     "text": [
      "73\n",
      "(21008, 21008)\n"
     ]
    },
    {
     "name": "stderr",
     "output_type": "stream",
     "text": [
      "- 2023-11-06 08:23:47: MainProcess:nqcpfem.solvers >> DEBUG: number of converged eigenvectors: 16\n",
      "- 2023-11-06 08:23:49: MainProcess:nqcpfem.parameter_search >> INFO:evaluating at grid point 74/1024\n",
      "- 2023-11-06 08:23:49: MainProcess:nqcpfem.parameter_search >> DEBUG:parameters: {'mu_sc_val': 6.884944078001299e-22, 'mu_R_val': -71.42857142857143}\n",
      "- 2023-11-06 08:23:49: MainProcess:nqcpfem.fenics >> DEBUG:creating PETSc Matrix\n",
      "- 2023-11-06 08:23:49: MainProcess:nqcpfem.fenics >> DEBUG:gathering constants\n",
      "- 2023-11-06 08:23:49: MainProcess:nqcpfem.fenics >> DEBUG:retrieving parameter and constant dicts\n",
      "- 2023-11-06 08:23:49: MainProcess:nqcpfem.fenics >> DEBUG:updating values\n",
      "- 2023-11-06 08:23:49: MainProcess:nqcpfem.fenics >> DEBUG:retireving energy scale\n",
      "- 2023-11-06 08:23:49: MainProcess:nqcpfem.fenics >> DEBUG:gathering constants complete\n",
      "- 2023-11-06 08:23:49: MainProcess:nqcpfem.fenics >> DEBUG:assembling array\n",
      "- 2023-11-06 08:23:49: MainProcess:nqcpfem.solvers >> DEBUG:solving problem:\n"
     ]
    },
    {
     "name": "stdout",
     "output_type": "stream",
     "text": [
      "74\n",
      "(21008, 21008)\n"
     ]
    },
    {
     "name": "stderr",
     "output_type": "stream",
     "text": [
      "- 2023-11-06 08:23:55: MainProcess:nqcpfem.solvers >> DEBUG: number of converged eigenvectors: 16\n",
      "- 2023-11-06 08:23:58: MainProcess:nqcpfem.parameter_search >> INFO:evaluating at grid point 75/1024\n",
      "- 2023-11-06 08:23:58: MainProcess:nqcpfem.parameter_search >> DEBUG:parameters: {'mu_sc_val': 6.884944078001299e-22, 'mu_R_val': -71.0371819960861}\n",
      "- 2023-11-06 08:23:58: MainProcess:nqcpfem.fenics >> DEBUG:creating PETSc Matrix\n",
      "- 2023-11-06 08:23:58: MainProcess:nqcpfem.fenics >> DEBUG:gathering constants\n",
      "- 2023-11-06 08:23:58: MainProcess:nqcpfem.fenics >> DEBUG:retrieving parameter and constant dicts\n",
      "- 2023-11-06 08:23:58: MainProcess:nqcpfem.fenics >> DEBUG:updating values\n",
      "- 2023-11-06 08:23:58: MainProcess:nqcpfem.fenics >> DEBUG:retireving energy scale\n",
      "- 2023-11-06 08:23:58: MainProcess:nqcpfem.fenics >> DEBUG:gathering constants complete\n",
      "- 2023-11-06 08:23:58: MainProcess:nqcpfem.fenics >> DEBUG:assembling array\n",
      "- 2023-11-06 08:23:58: MainProcess:nqcpfem.solvers >> DEBUG:solving problem:\n"
     ]
    },
    {
     "name": "stdout",
     "output_type": "stream",
     "text": [
      "75\n",
      "(21008, 21008)\n"
     ]
    },
    {
     "name": "stderr",
     "output_type": "stream",
     "text": [
      "- 2023-11-06 08:24:05: MainProcess:nqcpfem.solvers >> DEBUG: number of converged eigenvectors: 16\n",
      "- 2023-11-06 08:24:08: MainProcess:nqcpfem.parameter_search >> INFO:evaluating at grid point 76/1024\n",
      "- 2023-11-06 08:24:08: MainProcess:nqcpfem.parameter_search >> DEBUG:parameters: {'mu_sc_val': 6.884944078001299e-22, 'mu_R_val': -70.64579256360079}\n",
      "- 2023-11-06 08:24:08: MainProcess:nqcpfem.fenics >> DEBUG:creating PETSc Matrix\n",
      "- 2023-11-06 08:24:08: MainProcess:nqcpfem.fenics >> DEBUG:gathering constants\n",
      "- 2023-11-06 08:24:08: MainProcess:nqcpfem.fenics >> DEBUG:retrieving parameter and constant dicts\n",
      "- 2023-11-06 08:24:08: MainProcess:nqcpfem.fenics >> DEBUG:updating values\n",
      "- 2023-11-06 08:24:08: MainProcess:nqcpfem.fenics >> DEBUG:retireving energy scale\n",
      "- 2023-11-06 08:24:08: MainProcess:nqcpfem.fenics >> DEBUG:gathering constants complete\n",
      "- 2023-11-06 08:24:08: MainProcess:nqcpfem.fenics >> DEBUG:assembling array\n",
      "- 2023-11-06 08:24:08: MainProcess:nqcpfem.solvers >> DEBUG:solving problem:\n"
     ]
    },
    {
     "name": "stdout",
     "output_type": "stream",
     "text": [
      "76\n",
      "(21008, 21008)\n"
     ]
    },
    {
     "name": "stderr",
     "output_type": "stream",
     "text": [
      "- 2023-11-06 08:24:14: MainProcess:nqcpfem.solvers >> DEBUG: number of converged eigenvectors: 16\n",
      "- 2023-11-06 08:24:16: MainProcess:nqcpfem.parameter_search >> INFO:evaluating at grid point 77/1024\n",
      "- 2023-11-06 08:24:16: MainProcess:nqcpfem.parameter_search >> DEBUG:parameters: {'mu_sc_val': 6.884944078001299e-22, 'mu_R_val': -70.25440313111545}\n",
      "- 2023-11-06 08:24:16: MainProcess:nqcpfem.fenics >> DEBUG:creating PETSc Matrix\n",
      "- 2023-11-06 08:24:16: MainProcess:nqcpfem.fenics >> DEBUG:gathering constants\n",
      "- 2023-11-06 08:24:16: MainProcess:nqcpfem.fenics >> DEBUG:retrieving parameter and constant dicts\n",
      "- 2023-11-06 08:24:16: MainProcess:nqcpfem.fenics >> DEBUG:updating values\n",
      "- 2023-11-06 08:24:16: MainProcess:nqcpfem.fenics >> DEBUG:retireving energy scale\n",
      "- 2023-11-06 08:24:16: MainProcess:nqcpfem.fenics >> DEBUG:gathering constants complete\n",
      "- 2023-11-06 08:24:16: MainProcess:nqcpfem.fenics >> DEBUG:assembling array\n"
     ]
    },
    {
     "name": "stdout",
     "output_type": "stream",
     "text": [
      "77\n"
     ]
    },
    {
     "name": "stderr",
     "output_type": "stream",
     "text": [
      "- 2023-11-06 08:24:16: MainProcess:nqcpfem.solvers >> DEBUG:solving problem:\n",
      "- 2023-11-06 08:24:23: MainProcess:nqcpfem.solvers >> DEBUG: number of converged eigenvectors: 16\n"
     ]
    },
    {
     "name": "stdout",
     "output_type": "stream",
     "text": [
      "(21008, 21008)\n"
     ]
    },
    {
     "name": "stderr",
     "output_type": "stream",
     "text": [
      "- 2023-11-06 08:24:25: MainProcess:nqcpfem.parameter_search >> INFO:evaluating at grid point 78/1024\n",
      "- 2023-11-06 08:24:25: MainProcess:nqcpfem.parameter_search >> DEBUG:parameters: {'mu_sc_val': 6.884944078001299e-22, 'mu_R_val': -69.86301369863014}\n",
      "- 2023-11-06 08:24:25: MainProcess:nqcpfem.fenics >> DEBUG:creating PETSc Matrix\n",
      "- 2023-11-06 08:24:25: MainProcess:nqcpfem.fenics >> DEBUG:gathering constants\n",
      "- 2023-11-06 08:24:25: MainProcess:nqcpfem.fenics >> DEBUG:retrieving parameter and constant dicts\n",
      "- 2023-11-06 08:24:26: MainProcess:nqcpfem.fenics >> DEBUG:updating values\n"
     ]
    },
    {
     "name": "stdout",
     "output_type": "stream",
     "text": [
      "78\n"
     ]
    },
    {
     "name": "stderr",
     "output_type": "stream",
     "text": [
      "- 2023-11-06 08:24:26: MainProcess:nqcpfem.fenics >> DEBUG:retireving energy scale\n",
      "- 2023-11-06 08:24:26: MainProcess:nqcpfem.fenics >> DEBUG:gathering constants complete\n",
      "- 2023-11-06 08:24:26: MainProcess:nqcpfem.fenics >> DEBUG:assembling array\n",
      "- 2023-11-06 08:24:26: MainProcess:nqcpfem.solvers >> DEBUG:solving problem:\n",
      "- 2023-11-06 08:24:34: MainProcess:nqcpfem.solvers >> DEBUG: number of converged eigenvectors: 16\n"
     ]
    },
    {
     "name": "stdout",
     "output_type": "stream",
     "text": [
      "(21008, 21008)\n"
     ]
    },
    {
     "name": "stderr",
     "output_type": "stream",
     "text": [
      "- 2023-11-06 08:24:38: MainProcess:nqcpfem.parameter_search >> INFO:evaluating at grid point 79/1024\n",
      "- 2023-11-06 08:24:38: MainProcess:nqcpfem.parameter_search >> DEBUG:parameters: {'mu_sc_val': 6.884944078001299e-22, 'mu_R_val': -69.47162426614481}\n",
      "- 2023-11-06 08:24:38: MainProcess:nqcpfem.fenics >> DEBUG:creating PETSc Matrix\n",
      "- 2023-11-06 08:24:38: MainProcess:nqcpfem.fenics >> DEBUG:gathering constants\n",
      "- 2023-11-06 08:24:38: MainProcess:nqcpfem.fenics >> DEBUG:retrieving parameter and constant dicts\n",
      "- 2023-11-06 08:24:38: MainProcess:nqcpfem.fenics >> DEBUG:updating values\n",
      "- 2023-11-06 08:24:38: MainProcess:nqcpfem.fenics >> DEBUG:retireving energy scale\n",
      "- 2023-11-06 08:24:38: MainProcess:nqcpfem.fenics >> DEBUG:gathering constants complete\n",
      "- 2023-11-06 08:24:38: MainProcess:nqcpfem.fenics >> DEBUG:assembling array\n"
     ]
    },
    {
     "name": "stdout",
     "output_type": "stream",
     "text": [
      "79\n"
     ]
    },
    {
     "name": "stderr",
     "output_type": "stream",
     "text": [
      "- 2023-11-06 08:24:38: MainProcess:nqcpfem.solvers >> DEBUG:solving problem:\n",
      "- 2023-11-06 08:24:46: MainProcess:nqcpfem.solvers >> DEBUG: number of converged eigenvectors: 16\n"
     ]
    },
    {
     "name": "stdout",
     "output_type": "stream",
     "text": [
      "(21008, 21008)\n"
     ]
    },
    {
     "name": "stderr",
     "output_type": "stream",
     "text": [
      "- 2023-11-06 08:24:48: MainProcess:nqcpfem.parameter_search >> INFO:evaluating at grid point 80/1024\n",
      "- 2023-11-06 08:24:48: MainProcess:nqcpfem.parameter_search >> DEBUG:parameters: {'mu_sc_val': 6.884944078001299e-22, 'mu_R_val': -69.08023483365949}\n",
      "- 2023-11-06 08:24:48: MainProcess:nqcpfem.fenics >> DEBUG:creating PETSc Matrix\n",
      "- 2023-11-06 08:24:48: MainProcess:nqcpfem.fenics >> DEBUG:gathering constants\n",
      "- 2023-11-06 08:24:48: MainProcess:nqcpfem.fenics >> DEBUG:retrieving parameter and constant dicts\n",
      "- 2023-11-06 08:24:48: MainProcess:nqcpfem.fenics >> DEBUG:updating values\n",
      "- 2023-11-06 08:24:48: MainProcess:nqcpfem.fenics >> DEBUG:retireving energy scale\n",
      "- 2023-11-06 08:24:48: MainProcess:nqcpfem.fenics >> DEBUG:gathering constants complete\n",
      "- 2023-11-06 08:24:48: MainProcess:nqcpfem.fenics >> DEBUG:assembling array\n",
      "- 2023-11-06 08:24:49: MainProcess:nqcpfem.solvers >> DEBUG:solving problem:\n"
     ]
    },
    {
     "name": "stdout",
     "output_type": "stream",
     "text": [
      "80\n",
      "(21008, 21008)\n"
     ]
    },
    {
     "name": "stderr",
     "output_type": "stream",
     "text": [
      "- 2023-11-06 08:24:59: MainProcess:nqcpfem.solvers >> DEBUG: number of converged eigenvectors: 16\n",
      "- 2023-11-06 08:25:02: MainProcess:nqcpfem.parameter_search >> INFO:evaluating at grid point 81/1024\n",
      "- 2023-11-06 08:25:02: MainProcess:nqcpfem.parameter_search >> DEBUG:parameters: {'mu_sc_val': 6.884944078001299e-22, 'mu_R_val': -68.68884540117418}\n",
      "- 2023-11-06 08:25:02: MainProcess:nqcpfem.fenics >> DEBUG:creating PETSc Matrix\n",
      "- 2023-11-06 08:25:02: MainProcess:nqcpfem.fenics >> DEBUG:gathering constants\n",
      "- 2023-11-06 08:25:02: MainProcess:nqcpfem.fenics >> DEBUG:retrieving parameter and constant dicts\n",
      "- 2023-11-06 08:25:02: MainProcess:nqcpfem.fenics >> DEBUG:updating values\n",
      "- 2023-11-06 08:25:02: MainProcess:nqcpfem.fenics >> DEBUG:retireving energy scale\n",
      "- 2023-11-06 08:25:02: MainProcess:nqcpfem.fenics >> DEBUG:gathering constants complete\n",
      "- 2023-11-06 08:25:02: MainProcess:nqcpfem.fenics >> DEBUG:assembling array\n"
     ]
    },
    {
     "name": "stdout",
     "output_type": "stream",
     "text": [
      "81\n"
     ]
    },
    {
     "name": "stderr",
     "output_type": "stream",
     "text": [
      "- 2023-11-06 08:25:02: MainProcess:nqcpfem.solvers >> DEBUG:solving problem:\n",
      "- 2023-11-06 08:25:13: MainProcess:nqcpfem.solvers >> DEBUG: number of converged eigenvectors: 16\n"
     ]
    },
    {
     "name": "stdout",
     "output_type": "stream",
     "text": [
      "(21008, 21008)\n"
     ]
    },
    {
     "name": "stderr",
     "output_type": "stream",
     "text": [
      "- 2023-11-06 08:25:17: MainProcess:nqcpfem.parameter_search >> INFO:evaluating at grid point 82/1024\n",
      "- 2023-11-06 08:25:17: MainProcess:nqcpfem.parameter_search >> DEBUG:parameters: {'mu_sc_val': 6.884944078001299e-22, 'mu_R_val': -68.29745596868885}\n",
      "- 2023-11-06 08:25:17: MainProcess:nqcpfem.fenics >> DEBUG:creating PETSc Matrix\n",
      "- 2023-11-06 08:25:17: MainProcess:nqcpfem.fenics >> DEBUG:gathering constants\n",
      "- 2023-11-06 08:25:17: MainProcess:nqcpfem.fenics >> DEBUG:retrieving parameter and constant dicts\n",
      "- 2023-11-06 08:25:17: MainProcess:nqcpfem.fenics >> DEBUG:updating values\n"
     ]
    },
    {
     "name": "stdout",
     "output_type": "stream",
     "text": [
      "82\n"
     ]
    },
    {
     "name": "stderr",
     "output_type": "stream",
     "text": [
      "- 2023-11-06 08:25:17: MainProcess:nqcpfem.fenics >> DEBUG:retireving energy scale\n",
      "- 2023-11-06 08:25:17: MainProcess:nqcpfem.fenics >> DEBUG:gathering constants complete\n",
      "- 2023-11-06 08:25:17: MainProcess:nqcpfem.fenics >> DEBUG:assembling array\n",
      "- 2023-11-06 08:25:18: MainProcess:nqcpfem.solvers >> DEBUG:solving problem:\n",
      "- 2023-11-06 08:25:26: MainProcess:nqcpfem.solvers >> DEBUG: number of converged eigenvectors: 16\n"
     ]
    },
    {
     "name": "stdout",
     "output_type": "stream",
     "text": [
      "(21008, 21008)\n"
     ]
    },
    {
     "name": "stderr",
     "output_type": "stream",
     "text": [
      "- 2023-11-06 08:25:29: MainProcess:nqcpfem.parameter_search >> INFO:evaluating at grid point 83/1024\n",
      "- 2023-11-06 08:25:29: MainProcess:nqcpfem.parameter_search >> DEBUG:parameters: {'mu_sc_val': 6.884944078001299e-22, 'mu_R_val': -67.90606653620353}\n",
      "- 2023-11-06 08:25:29: MainProcess:nqcpfem.fenics >> DEBUG:creating PETSc Matrix\n",
      "- 2023-11-06 08:25:29: MainProcess:nqcpfem.fenics >> DEBUG:gathering constants\n",
      "- 2023-11-06 08:25:29: MainProcess:nqcpfem.fenics >> DEBUG:retrieving parameter and constant dicts\n",
      "- 2023-11-06 08:25:29: MainProcess:nqcpfem.fenics >> DEBUG:updating values\n",
      "- 2023-11-06 08:25:29: MainProcess:nqcpfem.fenics >> DEBUG:retireving energy scale\n",
      "- 2023-11-06 08:25:29: MainProcess:nqcpfem.fenics >> DEBUG:gathering constants complete\n",
      "- 2023-11-06 08:25:29: MainProcess:nqcpfem.fenics >> DEBUG:assembling array\n"
     ]
    },
    {
     "name": "stdout",
     "output_type": "stream",
     "text": [
      "83\n"
     ]
    },
    {
     "name": "stderr",
     "output_type": "stream",
     "text": [
      "- 2023-11-06 08:25:29: MainProcess:nqcpfem.solvers >> DEBUG:solving problem:\n",
      "- 2023-11-06 08:25:37: MainProcess:nqcpfem.solvers >> DEBUG: number of converged eigenvectors: 16\n"
     ]
    },
    {
     "name": "stdout",
     "output_type": "stream",
     "text": [
      "(21008, 21008)\n"
     ]
    },
    {
     "name": "stderr",
     "output_type": "stream",
     "text": [
      "- 2023-11-06 08:25:40: MainProcess:nqcpfem.parameter_search >> INFO:evaluating at grid point 84/1024\n",
      "- 2023-11-06 08:25:40: MainProcess:nqcpfem.parameter_search >> DEBUG:parameters: {'mu_sc_val': 6.884944078001299e-22, 'mu_R_val': -67.5146771037182}\n",
      "- 2023-11-06 08:25:40: MainProcess:nqcpfem.fenics >> DEBUG:creating PETSc Matrix\n",
      "- 2023-11-06 08:25:40: MainProcess:nqcpfem.fenics >> DEBUG:gathering constants\n",
      "- 2023-11-06 08:25:40: MainProcess:nqcpfem.fenics >> DEBUG:retrieving parameter and constant dicts\n",
      "- 2023-11-06 08:25:40: MainProcess:nqcpfem.fenics >> DEBUG:updating values\n",
      "- 2023-11-06 08:25:40: MainProcess:nqcpfem.fenics >> DEBUG:retireving energy scale\n",
      "- 2023-11-06 08:25:40: MainProcess:nqcpfem.fenics >> DEBUG:gathering constants complete\n",
      "- 2023-11-06 08:25:40: MainProcess:nqcpfem.fenics >> DEBUG:assembling array\n"
     ]
    },
    {
     "name": "stdout",
     "output_type": "stream",
     "text": [
      "84\n"
     ]
    },
    {
     "name": "stderr",
     "output_type": "stream",
     "text": [
      "- 2023-11-06 08:25:40: MainProcess:nqcpfem.solvers >> DEBUG:solving problem:\n",
      "- 2023-11-06 08:25:49: MainProcess:nqcpfem.solvers >> DEBUG: number of converged eigenvectors: 16\n"
     ]
    },
    {
     "name": "stdout",
     "output_type": "stream",
     "text": [
      "(21008, 21008)\n"
     ]
    },
    {
     "name": "stderr",
     "output_type": "stream",
     "text": [
      "- 2023-11-06 08:25:52: MainProcess:nqcpfem.parameter_search >> INFO:evaluating at grid point 85/1024\n",
      "- 2023-11-06 08:25:52: MainProcess:nqcpfem.parameter_search >> DEBUG:parameters: {'mu_sc_val': 6.884944078001299e-22, 'mu_R_val': -67.12328767123287}\n",
      "- 2023-11-06 08:25:52: MainProcess:nqcpfem.fenics >> DEBUG:creating PETSc Matrix\n",
      "- 2023-11-06 08:25:52: MainProcess:nqcpfem.fenics >> DEBUG:gathering constants\n",
      "- 2023-11-06 08:25:52: MainProcess:nqcpfem.fenics >> DEBUG:retrieving parameter and constant dicts\n",
      "- 2023-11-06 08:25:52: MainProcess:nqcpfem.fenics >> DEBUG:updating values\n",
      "- 2023-11-06 08:25:52: MainProcess:nqcpfem.fenics >> DEBUG:retireving energy scale\n",
      "- 2023-11-06 08:25:52: MainProcess:nqcpfem.fenics >> DEBUG:gathering constants complete\n",
      "- 2023-11-06 08:25:52: MainProcess:nqcpfem.fenics >> DEBUG:assembling array\n",
      "- 2023-11-06 08:25:52: MainProcess:nqcpfem.solvers >> DEBUG:solving problem:\n"
     ]
    },
    {
     "name": "stdout",
     "output_type": "stream",
     "text": [
      "85\n",
      "(21008, 21008)\n"
     ]
    },
    {
     "name": "stderr",
     "output_type": "stream",
     "text": [
      "- 2023-11-06 08:25:59: MainProcess:nqcpfem.solvers >> DEBUG: number of converged eigenvectors: 16\n",
      "- 2023-11-06 08:26:01: MainProcess:nqcpfem.parameter_search >> INFO:evaluating at grid point 86/1024\n",
      "- 2023-11-06 08:26:01: MainProcess:nqcpfem.parameter_search >> DEBUG:parameters: {'mu_sc_val': 6.884944078001299e-22, 'mu_R_val': -66.73189823874756}\n",
      "- 2023-11-06 08:26:01: MainProcess:nqcpfem.fenics >> DEBUG:creating PETSc Matrix\n",
      "- 2023-11-06 08:26:01: MainProcess:nqcpfem.fenics >> DEBUG:gathering constants\n",
      "- 2023-11-06 08:26:01: MainProcess:nqcpfem.fenics >> DEBUG:retrieving parameter and constant dicts\n",
      "- 2023-11-06 08:26:01: MainProcess:nqcpfem.fenics >> DEBUG:updating values\n",
      "- 2023-11-06 08:26:01: MainProcess:nqcpfem.fenics >> DEBUG:retireving energy scale\n",
      "- 2023-11-06 08:26:01: MainProcess:nqcpfem.fenics >> DEBUG:gathering constants complete\n",
      "- 2023-11-06 08:26:01: MainProcess:nqcpfem.fenics >> DEBUG:assembling array\n"
     ]
    },
    {
     "name": "stdout",
     "output_type": "stream",
     "text": [
      "86\n"
     ]
    },
    {
     "name": "stderr",
     "output_type": "stream",
     "text": [
      "- 2023-11-06 08:26:02: MainProcess:nqcpfem.solvers >> DEBUG:solving problem:\n",
      "- 2023-11-06 08:26:10: MainProcess:nqcpfem.solvers >> DEBUG: number of converged eigenvectors: 16\n"
     ]
    },
    {
     "name": "stdout",
     "output_type": "stream",
     "text": [
      "(21008, 21008)\n"
     ]
    },
    {
     "name": "stderr",
     "output_type": "stream",
     "text": [
      "- 2023-11-06 08:26:12: MainProcess:nqcpfem.parameter_search >> INFO:evaluating at grid point 87/1024\n",
      "- 2023-11-06 08:26:12: MainProcess:nqcpfem.parameter_search >> DEBUG:parameters: {'mu_sc_val': 6.884944078001299e-22, 'mu_R_val': -66.34050880626224}\n",
      "- 2023-11-06 08:26:12: MainProcess:nqcpfem.fenics >> DEBUG:creating PETSc Matrix\n",
      "- 2023-11-06 08:26:12: MainProcess:nqcpfem.fenics >> DEBUG:gathering constants\n",
      "- 2023-11-06 08:26:12: MainProcess:nqcpfem.fenics >> DEBUG:retrieving parameter and constant dicts\n",
      "- 2023-11-06 08:26:12: MainProcess:nqcpfem.fenics >> DEBUG:updating values\n",
      "- 2023-11-06 08:26:12: MainProcess:nqcpfem.fenics >> DEBUG:retireving energy scale\n",
      "- 2023-11-06 08:26:12: MainProcess:nqcpfem.fenics >> DEBUG:gathering constants complete\n",
      "- 2023-11-06 08:26:12: MainProcess:nqcpfem.fenics >> DEBUG:assembling array\n"
     ]
    },
    {
     "name": "stdout",
     "output_type": "stream",
     "text": [
      "87\n"
     ]
    },
    {
     "name": "stderr",
     "output_type": "stream",
     "text": [
      "- 2023-11-06 08:26:13: MainProcess:nqcpfem.solvers >> DEBUG:solving problem:\n",
      "- 2023-11-06 08:26:20: MainProcess:nqcpfem.solvers >> DEBUG: number of converged eigenvectors: 16\n"
     ]
    },
    {
     "name": "stdout",
     "output_type": "stream",
     "text": [
      "(21008, 21008)\n"
     ]
    },
    {
     "name": "stderr",
     "output_type": "stream",
     "text": [
      "- 2023-11-06 08:26:24: MainProcess:nqcpfem.parameter_search >> INFO:evaluating at grid point 88/1024\n",
      "- 2023-11-06 08:26:24: MainProcess:nqcpfem.parameter_search >> DEBUG:parameters: {'mu_sc_val': 6.884944078001299e-22, 'mu_R_val': -65.94911937377691}\n",
      "- 2023-11-06 08:26:24: MainProcess:nqcpfem.fenics >> DEBUG:creating PETSc Matrix\n",
      "- 2023-11-06 08:26:24: MainProcess:nqcpfem.fenics >> DEBUG:gathering constants\n",
      "- 2023-11-06 08:26:24: MainProcess:nqcpfem.fenics >> DEBUG:retrieving parameter and constant dicts\n",
      "- 2023-11-06 08:26:24: MainProcess:nqcpfem.fenics >> DEBUG:updating values\n"
     ]
    },
    {
     "name": "stdout",
     "output_type": "stream",
     "text": [
      "88\n"
     ]
    },
    {
     "name": "stderr",
     "output_type": "stream",
     "text": [
      "- 2023-11-06 08:26:24: MainProcess:nqcpfem.fenics >> DEBUG:retireving energy scale\n",
      "- 2023-11-06 08:26:24: MainProcess:nqcpfem.fenics >> DEBUG:gathering constants complete\n",
      "- 2023-11-06 08:26:24: MainProcess:nqcpfem.fenics >> DEBUG:assembling array\n",
      "- 2023-11-06 08:26:25: MainProcess:nqcpfem.solvers >> DEBUG:solving problem:\n",
      "- 2023-11-06 08:26:36: MainProcess:nqcpfem.solvers >> DEBUG: number of converged eigenvectors: 16\n"
     ]
    },
    {
     "name": "stdout",
     "output_type": "stream",
     "text": [
      "(21008, 21008)\n"
     ]
    },
    {
     "name": "stderr",
     "output_type": "stream",
     "text": [
      "- 2023-11-06 08:26:41: MainProcess:nqcpfem.parameter_search >> INFO:evaluating at grid point 89/1024\n",
      "- 2023-11-06 08:26:41: MainProcess:nqcpfem.parameter_search >> DEBUG:parameters: {'mu_sc_val': 6.884944078001299e-22, 'mu_R_val': -65.55772994129158}\n",
      "- 2023-11-06 08:26:41: MainProcess:nqcpfem.fenics >> DEBUG:creating PETSc Matrix\n",
      "- 2023-11-06 08:26:41: MainProcess:nqcpfem.fenics >> DEBUG:gathering constants\n",
      "- 2023-11-06 08:26:41: MainProcess:nqcpfem.fenics >> DEBUG:retrieving parameter and constant dicts\n",
      "- 2023-11-06 08:26:41: MainProcess:nqcpfem.fenics >> DEBUG:updating values\n"
     ]
    },
    {
     "name": "stdout",
     "output_type": "stream",
     "text": [
      "89\n"
     ]
    },
    {
     "name": "stderr",
     "output_type": "stream",
     "text": [
      "- 2023-11-06 08:26:41: MainProcess:nqcpfem.fenics >> DEBUG:retireving energy scale\n",
      "- 2023-11-06 08:26:41: MainProcess:nqcpfem.fenics >> DEBUG:gathering constants complete\n",
      "- 2023-11-06 08:26:42: MainProcess:nqcpfem.fenics >> DEBUG:assembling array\n",
      "- 2023-11-06 08:26:42: MainProcess:nqcpfem.solvers >> DEBUG:solving problem:\n",
      "- 2023-11-06 08:26:54: MainProcess:nqcpfem.solvers >> DEBUG: number of converged eigenvectors: 16\n"
     ]
    },
    {
     "name": "stdout",
     "output_type": "stream",
     "text": [
      "(21008, 21008)\n"
     ]
    },
    {
     "name": "stderr",
     "output_type": "stream",
     "text": [
      "- 2023-11-06 08:26:59: MainProcess:nqcpfem.parameter_search >> INFO:evaluating at grid point 90/1024\n",
      "- 2023-11-06 08:26:59: MainProcess:nqcpfem.parameter_search >> DEBUG:parameters: {'mu_sc_val': 6.884944078001299e-22, 'mu_R_val': -65.16634050880626}\n",
      "- 2023-11-06 08:26:59: MainProcess:nqcpfem.fenics >> DEBUG:creating PETSc Matrix\n",
      "- 2023-11-06 08:26:59: MainProcess:nqcpfem.fenics >> DEBUG:gathering constants\n",
      "- 2023-11-06 08:26:59: MainProcess:nqcpfem.fenics >> DEBUG:retrieving parameter and constant dicts\n",
      "- 2023-11-06 08:26:59: MainProcess:nqcpfem.fenics >> DEBUG:updating values\n"
     ]
    },
    {
     "name": "stdout",
     "output_type": "stream",
     "text": [
      "90\n"
     ]
    },
    {
     "name": "stderr",
     "output_type": "stream",
     "text": [
      "- 2023-11-06 08:26:59: MainProcess:nqcpfem.fenics >> DEBUG:retireving energy scale\n",
      "- 2023-11-06 08:26:59: MainProcess:nqcpfem.fenics >> DEBUG:gathering constants complete\n",
      "- 2023-11-06 08:26:59: MainProcess:nqcpfem.fenics >> DEBUG:assembling array\n",
      "- 2023-11-06 08:27:00: MainProcess:nqcpfem.solvers >> DEBUG:solving problem:\n"
     ]
    },
    {
     "name": "stdout",
     "output_type": "stream",
     "text": [
      "(21008, 21008)\n"
     ]
    },
    {
     "name": "stderr",
     "output_type": "stream",
     "text": [
      "- 2023-11-06 08:27:10: MainProcess:nqcpfem.solvers >> DEBUG: number of converged eigenvectors: 16\n",
      "- 2023-11-06 08:27:14: MainProcess:nqcpfem.parameter_search >> INFO:evaluating at grid point 91/1024\n",
      "- 2023-11-06 08:27:14: MainProcess:nqcpfem.parameter_search >> DEBUG:parameters: {'mu_sc_val': 6.884944078001299e-22, 'mu_R_val': -64.77495107632095}\n",
      "- 2023-11-06 08:27:14: MainProcess:nqcpfem.fenics >> DEBUG:creating PETSc Matrix\n",
      "- 2023-11-06 08:27:14: MainProcess:nqcpfem.fenics >> DEBUG:gathering constants\n",
      "- 2023-11-06 08:27:14: MainProcess:nqcpfem.fenics >> DEBUG:retrieving parameter and constant dicts\n",
      "- 2023-11-06 08:27:14: MainProcess:nqcpfem.fenics >> DEBUG:updating values\n"
     ]
    },
    {
     "name": "stdout",
     "output_type": "stream",
     "text": [
      "91\n"
     ]
    },
    {
     "name": "stderr",
     "output_type": "stream",
     "text": [
      "- 2023-11-06 08:27:14: MainProcess:nqcpfem.fenics >> DEBUG:retireving energy scale\n",
      "- 2023-11-06 08:27:14: MainProcess:nqcpfem.fenics >> DEBUG:gathering constants complete\n",
      "- 2023-11-06 08:27:14: MainProcess:nqcpfem.fenics >> DEBUG:assembling array\n",
      "- 2023-11-06 08:27:14: MainProcess:nqcpfem.solvers >> DEBUG:solving problem:\n",
      "- 2023-11-06 08:27:25: MainProcess:nqcpfem.solvers >> DEBUG: number of converged eigenvectors: 16\n"
     ]
    },
    {
     "name": "stdout",
     "output_type": "stream",
     "text": [
      "(21008, 21008)\n"
     ]
    },
    {
     "name": "stderr",
     "output_type": "stream",
     "text": [
      "- 2023-11-06 08:27:29: MainProcess:nqcpfem.parameter_search >> INFO:evaluating at grid point 92/1024\n",
      "- 2023-11-06 08:27:29: MainProcess:nqcpfem.parameter_search >> DEBUG:parameters: {'mu_sc_val': 6.884944078001299e-22, 'mu_R_val': -64.38356164383562}\n",
      "- 2023-11-06 08:27:29: MainProcess:nqcpfem.fenics >> DEBUG:creating PETSc Matrix\n",
      "- 2023-11-06 08:27:29: MainProcess:nqcpfem.fenics >> DEBUG:gathering constants\n",
      "- 2023-11-06 08:27:29: MainProcess:nqcpfem.fenics >> DEBUG:retrieving parameter and constant dicts\n",
      "- 2023-11-06 08:27:29: MainProcess:nqcpfem.fenics >> DEBUG:updating values\n",
      "- 2023-11-06 08:27:29: MainProcess:nqcpfem.fenics >> DEBUG:retireving energy scale\n",
      "- 2023-11-06 08:27:29: MainProcess:nqcpfem.fenics >> DEBUG:gathering constants complete\n",
      "- 2023-11-06 08:27:29: MainProcess:nqcpfem.fenics >> DEBUG:assembling array\n"
     ]
    },
    {
     "name": "stdout",
     "output_type": "stream",
     "text": [
      "92\n"
     ]
    },
    {
     "name": "stderr",
     "output_type": "stream",
     "text": [
      "- 2023-11-06 08:27:29: MainProcess:nqcpfem.solvers >> DEBUG:solving problem:\n",
      "- 2023-11-06 08:27:38: MainProcess:nqcpfem.solvers >> DEBUG: number of converged eigenvectors: 16\n"
     ]
    },
    {
     "name": "stdout",
     "output_type": "stream",
     "text": [
      "(21008, 21008)\n"
     ]
    },
    {
     "name": "stderr",
     "output_type": "stream",
     "text": [
      "- 2023-11-06 08:27:41: MainProcess:nqcpfem.parameter_search >> INFO:evaluating at grid point 93/1024\n",
      "- 2023-11-06 08:27:41: MainProcess:nqcpfem.parameter_search >> DEBUG:parameters: {'mu_sc_val': 6.884944078001299e-22, 'mu_R_val': -63.992172211350294}\n",
      "- 2023-11-06 08:27:41: MainProcess:nqcpfem.fenics >> DEBUG:creating PETSc Matrix\n",
      "- 2023-11-06 08:27:41: MainProcess:nqcpfem.fenics >> DEBUG:gathering constants\n",
      "- 2023-11-06 08:27:41: MainProcess:nqcpfem.fenics >> DEBUG:retrieving parameter and constant dicts\n",
      "- 2023-11-06 08:27:41: MainProcess:nqcpfem.fenics >> DEBUG:updating values\n",
      "- 2023-11-06 08:27:41: MainProcess:nqcpfem.fenics >> DEBUG:retireving energy scale\n",
      "- 2023-11-06 08:27:41: MainProcess:nqcpfem.fenics >> DEBUG:gathering constants complete\n",
      "- 2023-11-06 08:27:41: MainProcess:nqcpfem.fenics >> DEBUG:assembling array\n"
     ]
    },
    {
     "name": "stdout",
     "output_type": "stream",
     "text": [
      "93\n"
     ]
    },
    {
     "name": "stderr",
     "output_type": "stream",
     "text": [
      "- 2023-11-06 08:27:41: MainProcess:nqcpfem.solvers >> DEBUG:solving problem:\n",
      "- 2023-11-06 08:27:48: MainProcess:nqcpfem.solvers >> DEBUG: number of converged eigenvectors: 16\n"
     ]
    },
    {
     "name": "stdout",
     "output_type": "stream",
     "text": [
      "(21008, 21008)\n"
     ]
    },
    {
     "name": "stderr",
     "output_type": "stream",
     "text": [
      "- 2023-11-06 08:27:51: MainProcess:nqcpfem.parameter_search >> INFO:evaluating at grid point 94/1024\n",
      "- 2023-11-06 08:27:51: MainProcess:nqcpfem.parameter_search >> DEBUG:parameters: {'mu_sc_val': 6.884944078001299e-22, 'mu_R_val': -63.600782778864975}\n",
      "- 2023-11-06 08:27:51: MainProcess:nqcpfem.fenics >> DEBUG:creating PETSc Matrix\n",
      "- 2023-11-06 08:27:51: MainProcess:nqcpfem.fenics >> DEBUG:gathering constants\n",
      "- 2023-11-06 08:27:51: MainProcess:nqcpfem.fenics >> DEBUG:retrieving parameter and constant dicts\n",
      "- 2023-11-06 08:27:51: MainProcess:nqcpfem.fenics >> DEBUG:updating values\n",
      "- 2023-11-06 08:27:51: MainProcess:nqcpfem.fenics >> DEBUG:retireving energy scale\n",
      "- 2023-11-06 08:27:51: MainProcess:nqcpfem.fenics >> DEBUG:gathering constants complete\n",
      "- 2023-11-06 08:27:51: MainProcess:nqcpfem.fenics >> DEBUG:assembling array\n",
      "- 2023-11-06 08:27:51: MainProcess:nqcpfem.solvers >> DEBUG:solving problem:\n"
     ]
    },
    {
     "name": "stdout",
     "output_type": "stream",
     "text": [
      "94\n",
      "(21008, 21008)\n"
     ]
    },
    {
     "name": "stderr",
     "output_type": "stream",
     "text": [
      "- 2023-11-06 08:27:58: MainProcess:nqcpfem.solvers >> DEBUG: number of converged eigenvectors: 16\n",
      "- 2023-11-06 08:28:01: MainProcess:nqcpfem.parameter_search >> INFO:evaluating at grid point 95/1024\n",
      "- 2023-11-06 08:28:01: MainProcess:nqcpfem.parameter_search >> DEBUG:parameters: {'mu_sc_val': 6.884944078001299e-22, 'mu_R_val': -63.20939334637965}\n",
      "- 2023-11-06 08:28:01: MainProcess:nqcpfem.fenics >> DEBUG:creating PETSc Matrix\n",
      "- 2023-11-06 08:28:01: MainProcess:nqcpfem.fenics >> DEBUG:gathering constants\n",
      "- 2023-11-06 08:28:01: MainProcess:nqcpfem.fenics >> DEBUG:retrieving parameter and constant dicts\n",
      "- 2023-11-06 08:28:01: MainProcess:nqcpfem.fenics >> DEBUG:updating values\n",
      "- 2023-11-06 08:28:01: MainProcess:nqcpfem.fenics >> DEBUG:retireving energy scale\n",
      "- 2023-11-06 08:28:01: MainProcess:nqcpfem.fenics >> DEBUG:gathering constants complete\n",
      "- 2023-11-06 08:28:01: MainProcess:nqcpfem.fenics >> DEBUG:assembling array\n",
      "- 2023-11-06 08:28:01: MainProcess:nqcpfem.solvers >> DEBUG:solving problem:\n"
     ]
    },
    {
     "name": "stdout",
     "output_type": "stream",
     "text": [
      "95\n",
      "(21008, 21008)\n"
     ]
    },
    {
     "name": "stderr",
     "output_type": "stream",
     "text": [
      "- 2023-11-06 08:28:09: MainProcess:nqcpfem.solvers >> DEBUG: number of converged eigenvectors: 16\n",
      "- 2023-11-06 08:28:11: MainProcess:nqcpfem.parameter_search >> INFO:evaluating at grid point 96/1024\n",
      "- 2023-11-06 08:28:11: MainProcess:nqcpfem.parameter_search >> DEBUG:parameters: {'mu_sc_val': 6.884944078001299e-22, 'mu_R_val': -62.81800391389433}\n",
      "- 2023-11-06 08:28:11: MainProcess:nqcpfem.fenics >> DEBUG:creating PETSc Matrix\n",
      "- 2023-11-06 08:28:11: MainProcess:nqcpfem.fenics >> DEBUG:gathering constants\n",
      "- 2023-11-06 08:28:11: MainProcess:nqcpfem.fenics >> DEBUG:retrieving parameter and constant dicts\n",
      "- 2023-11-06 08:28:11: MainProcess:nqcpfem.fenics >> DEBUG:updating values\n",
      "- 2023-11-06 08:28:11: MainProcess:nqcpfem.fenics >> DEBUG:retireving energy scale\n",
      "- 2023-11-06 08:28:11: MainProcess:nqcpfem.fenics >> DEBUG:gathering constants complete\n",
      "- 2023-11-06 08:28:11: MainProcess:nqcpfem.fenics >> DEBUG:assembling array\n",
      "- 2023-11-06 08:28:11: MainProcess:nqcpfem.solvers >> DEBUG:solving problem:\n"
     ]
    },
    {
     "name": "stdout",
     "output_type": "stream",
     "text": [
      "96\n",
      "(21008, 21008)\n"
     ]
    },
    {
     "name": "stderr",
     "output_type": "stream",
     "text": [
      "- 2023-11-06 08:28:18: MainProcess:nqcpfem.solvers >> DEBUG: number of converged eigenvectors: 16\n",
      "- 2023-11-06 08:28:21: MainProcess:nqcpfem.parameter_search >> INFO:evaluating at grid point 97/1024\n",
      "- 2023-11-06 08:28:21: MainProcess:nqcpfem.parameter_search >> DEBUG:parameters: {'mu_sc_val': 6.884944078001299e-22, 'mu_R_val': -62.426614481409004}\n",
      "- 2023-11-06 08:28:21: MainProcess:nqcpfem.fenics >> DEBUG:creating PETSc Matrix\n",
      "- 2023-11-06 08:28:21: MainProcess:nqcpfem.fenics >> DEBUG:gathering constants\n",
      "- 2023-11-06 08:28:21: MainProcess:nqcpfem.fenics >> DEBUG:retrieving parameter and constant dicts\n",
      "- 2023-11-06 08:28:21: MainProcess:nqcpfem.fenics >> DEBUG:updating values\n",
      "- 2023-11-06 08:28:21: MainProcess:nqcpfem.fenics >> DEBUG:retireving energy scale\n",
      "- 2023-11-06 08:28:21: MainProcess:nqcpfem.fenics >> DEBUG:gathering constants complete\n",
      "- 2023-11-06 08:28:21: MainProcess:nqcpfem.fenics >> DEBUG:assembling array\n",
      "- 2023-11-06 08:28:21: MainProcess:nqcpfem.solvers >> DEBUG:solving problem:\n"
     ]
    },
    {
     "name": "stdout",
     "output_type": "stream",
     "text": [
      "97\n",
      "(21008, 21008)\n"
     ]
    },
    {
     "name": "stderr",
     "output_type": "stream",
     "text": [
      "- 2023-11-06 08:28:28: MainProcess:nqcpfem.solvers >> DEBUG: number of converged eigenvectors: 16\n",
      "- 2023-11-06 08:28:30: MainProcess:nqcpfem.parameter_search >> INFO:evaluating at grid point 98/1024\n",
      "- 2023-11-06 08:28:30: MainProcess:nqcpfem.parameter_search >> DEBUG:parameters: {'mu_sc_val': 6.884944078001299e-22, 'mu_R_val': -62.03522504892368}\n",
      "- 2023-11-06 08:28:30: MainProcess:nqcpfem.fenics >> DEBUG:creating PETSc Matrix\n",
      "- 2023-11-06 08:28:30: MainProcess:nqcpfem.fenics >> DEBUG:gathering constants\n",
      "- 2023-11-06 08:28:30: MainProcess:nqcpfem.fenics >> DEBUG:retrieving parameter and constant dicts\n",
      "- 2023-11-06 08:28:30: MainProcess:nqcpfem.fenics >> DEBUG:updating values\n",
      "- 2023-11-06 08:28:30: MainProcess:nqcpfem.fenics >> DEBUG:retireving energy scale\n",
      "- 2023-11-06 08:28:30: MainProcess:nqcpfem.fenics >> DEBUG:gathering constants complete\n",
      "- 2023-11-06 08:28:30: MainProcess:nqcpfem.fenics >> DEBUG:assembling array\n",
      "- 2023-11-06 08:28:31: MainProcess:nqcpfem.solvers >> DEBUG:solving problem:\n"
     ]
    },
    {
     "name": "stdout",
     "output_type": "stream",
     "text": [
      "98\n",
      "(21008, 21008)\n"
     ]
    },
    {
     "name": "stderr",
     "output_type": "stream",
     "text": [
      "- 2023-11-06 08:28:38: MainProcess:nqcpfem.solvers >> DEBUG: number of converged eigenvectors: 16\n",
      "- 2023-11-06 08:28:41: MainProcess:nqcpfem.parameter_search >> INFO:evaluating at grid point 99/1024\n",
      "- 2023-11-06 08:28:41: MainProcess:nqcpfem.parameter_search >> DEBUG:parameters: {'mu_sc_val': 6.884944078001299e-22, 'mu_R_val': -61.64383561643836}\n",
      "- 2023-11-06 08:28:41: MainProcess:nqcpfem.fenics >> DEBUG:creating PETSc Matrix\n",
      "- 2023-11-06 08:28:41: MainProcess:nqcpfem.fenics >> DEBUG:gathering constants\n",
      "- 2023-11-06 08:28:41: MainProcess:nqcpfem.fenics >> DEBUG:retrieving parameter and constant dicts\n",
      "- 2023-11-06 08:28:41: MainProcess:nqcpfem.fenics >> DEBUG:updating values\n",
      "- 2023-11-06 08:28:41: MainProcess:nqcpfem.fenics >> DEBUG:retireving energy scale\n",
      "- 2023-11-06 08:28:41: MainProcess:nqcpfem.fenics >> DEBUG:gathering constants complete\n",
      "- 2023-11-06 08:28:41: MainProcess:nqcpfem.fenics >> DEBUG:assembling array\n",
      "- 2023-11-06 08:28:41: MainProcess:nqcpfem.solvers >> DEBUG:solving problem:\n"
     ]
    },
    {
     "name": "stdout",
     "output_type": "stream",
     "text": [
      "99\n",
      "(21008, 21008)\n"
     ]
    },
    {
     "name": "stderr",
     "output_type": "stream",
     "text": [
      "- 2023-11-06 08:28:47: MainProcess:nqcpfem.solvers >> DEBUG: number of converged eigenvectors: 16\n",
      "- 2023-11-06 08:28:50: MainProcess:nqcpfem.parameter_search >> INFO:evaluating at grid point 100/1024\n",
      "- 2023-11-06 08:28:50: MainProcess:nqcpfem.parameter_search >> DEBUG:parameters: {'mu_sc_val': 6.884944078001299e-22, 'mu_R_val': -61.25244618395303}\n",
      "- 2023-11-06 08:28:50: MainProcess:nqcpfem.fenics >> DEBUG:creating PETSc Matrix\n",
      "- 2023-11-06 08:28:50: MainProcess:nqcpfem.fenics >> DEBUG:gathering constants\n",
      "- 2023-11-06 08:28:50: MainProcess:nqcpfem.fenics >> DEBUG:retrieving parameter and constant dicts\n",
      "- 2023-11-06 08:28:50: MainProcess:nqcpfem.fenics >> DEBUG:updating values\n",
      "- 2023-11-06 08:28:50: MainProcess:nqcpfem.fenics >> DEBUG:retireving energy scale\n",
      "- 2023-11-06 08:28:50: MainProcess:nqcpfem.fenics >> DEBUG:gathering constants complete\n",
      "- 2023-11-06 08:28:50: MainProcess:nqcpfem.fenics >> DEBUG:assembling array\n",
      "- 2023-11-06 08:28:50: MainProcess:nqcpfem.solvers >> DEBUG:solving problem:\n"
     ]
    },
    {
     "name": "stdout",
     "output_type": "stream",
     "text": [
      "100\n",
      "(21008, 21008)\n"
     ]
    },
    {
     "name": "stderr",
     "output_type": "stream",
     "text": [
      "- 2023-11-06 08:28:56: MainProcess:nqcpfem.solvers >> DEBUG: number of converged eigenvectors: 16\n",
      "- 2023-11-06 08:29:00: MainProcess:nqcpfem.parameter_search >> INFO:evaluating at grid point 101/1024\n",
      "- 2023-11-06 08:29:00: MainProcess:nqcpfem.parameter_search >> DEBUG:parameters: {'mu_sc_val': 6.884944078001299e-22, 'mu_R_val': -60.861056751467714}\n",
      "- 2023-11-06 08:29:00: MainProcess:nqcpfem.fenics >> DEBUG:creating PETSc Matrix\n",
      "- 2023-11-06 08:29:00: MainProcess:nqcpfem.fenics >> DEBUG:gathering constants\n",
      "- 2023-11-06 08:29:00: MainProcess:nqcpfem.fenics >> DEBUG:retrieving parameter and constant dicts\n",
      "- 2023-11-06 08:29:00: MainProcess:nqcpfem.fenics >> DEBUG:updating values\n",
      "- 2023-11-06 08:29:00: MainProcess:nqcpfem.fenics >> DEBUG:retireving energy scale\n",
      "- 2023-11-06 08:29:00: MainProcess:nqcpfem.fenics >> DEBUG:gathering constants complete\n",
      "- 2023-11-06 08:29:00: MainProcess:nqcpfem.fenics >> DEBUG:assembling array\n",
      "- 2023-11-06 08:29:00: MainProcess:nqcpfem.solvers >> DEBUG:solving problem:\n"
     ]
    },
    {
     "name": "stdout",
     "output_type": "stream",
     "text": [
      "101\n",
      "(21008, 21008)\n"
     ]
    },
    {
     "name": "stderr",
     "output_type": "stream",
     "text": [
      "- 2023-11-06 08:29:07: MainProcess:nqcpfem.solvers >> DEBUG: number of converged eigenvectors: 16\n",
      "- 2023-11-06 08:29:11: MainProcess:nqcpfem.parameter_search >> INFO:evaluating at grid point 102/1024\n",
      "- 2023-11-06 08:29:11: MainProcess:nqcpfem.parameter_search >> DEBUG:parameters: {'mu_sc_val': 6.884944078001299e-22, 'mu_R_val': -60.46966731898239}\n",
      "- 2023-11-06 08:29:11: MainProcess:nqcpfem.fenics >> DEBUG:creating PETSc Matrix\n",
      "- 2023-11-06 08:29:11: MainProcess:nqcpfem.fenics >> DEBUG:gathering constants\n",
      "- 2023-11-06 08:29:11: MainProcess:nqcpfem.fenics >> DEBUG:retrieving parameter and constant dicts\n",
      "- 2023-11-06 08:29:11: MainProcess:nqcpfem.fenics >> DEBUG:updating values\n",
      "- 2023-11-06 08:29:11: MainProcess:nqcpfem.fenics >> DEBUG:retireving energy scale\n",
      "- 2023-11-06 08:29:11: MainProcess:nqcpfem.fenics >> DEBUG:gathering constants complete\n",
      "- 2023-11-06 08:29:11: MainProcess:nqcpfem.fenics >> DEBUG:assembling array\n",
      "- 2023-11-06 08:29:11: MainProcess:nqcpfem.solvers >> DEBUG:solving problem:\n"
     ]
    },
    {
     "name": "stdout",
     "output_type": "stream",
     "text": [
      "102\n",
      "(21008, 21008)\n"
     ]
    },
    {
     "name": "stderr",
     "output_type": "stream",
     "text": [
      "- 2023-11-06 08:29:22: MainProcess:nqcpfem.solvers >> DEBUG: number of converged eigenvectors: 16\n",
      "- 2023-11-06 08:29:25: MainProcess:nqcpfem.parameter_search >> INFO:evaluating at grid point 103/1024\n",
      "- 2023-11-06 08:29:25: MainProcess:nqcpfem.parameter_search >> DEBUG:parameters: {'mu_sc_val': 6.884944078001299e-22, 'mu_R_val': -60.07827788649707}\n",
      "- 2023-11-06 08:29:25: MainProcess:nqcpfem.fenics >> DEBUG:creating PETSc Matrix\n",
      "- 2023-11-06 08:29:25: MainProcess:nqcpfem.fenics >> DEBUG:gathering constants\n",
      "- 2023-11-06 08:29:25: MainProcess:nqcpfem.fenics >> DEBUG:retrieving parameter and constant dicts\n",
      "- 2023-11-06 08:29:25: MainProcess:nqcpfem.fenics >> DEBUG:updating values\n"
     ]
    },
    {
     "name": "stdout",
     "output_type": "stream",
     "text": [
      "103\n"
     ]
    },
    {
     "name": "stderr",
     "output_type": "stream",
     "text": [
      "- 2023-11-06 08:29:26: MainProcess:nqcpfem.fenics >> DEBUG:retireving energy scale\n",
      "- 2023-11-06 08:29:26: MainProcess:nqcpfem.fenics >> DEBUG:gathering constants complete\n",
      "- 2023-11-06 08:29:26: MainProcess:nqcpfem.fenics >> DEBUG:assembling array\n",
      "- 2023-11-06 08:29:26: MainProcess:nqcpfem.solvers >> DEBUG:solving problem:\n",
      "- 2023-11-06 08:29:33: MainProcess:nqcpfem.solvers >> DEBUG: number of converged eigenvectors: 16\n"
     ]
    },
    {
     "name": "stdout",
     "output_type": "stream",
     "text": [
      "(21008, 21008)\n"
     ]
    },
    {
     "name": "stderr",
     "output_type": "stream",
     "text": [
      "- 2023-11-06 08:29:35: MainProcess:nqcpfem.parameter_search >> INFO:evaluating at grid point 104/1024\n",
      "- 2023-11-06 08:29:35: MainProcess:nqcpfem.parameter_search >> DEBUG:parameters: {'mu_sc_val': 6.884944078001299e-22, 'mu_R_val': -59.68688845401174}\n",
      "- 2023-11-06 08:29:35: MainProcess:nqcpfem.fenics >> DEBUG:creating PETSc Matrix\n",
      "- 2023-11-06 08:29:35: MainProcess:nqcpfem.fenics >> DEBUG:gathering constants\n",
      "- 2023-11-06 08:29:35: MainProcess:nqcpfem.fenics >> DEBUG:retrieving parameter and constant dicts\n",
      "- 2023-11-06 08:29:35: MainProcess:nqcpfem.fenics >> DEBUG:updating values\n",
      "- 2023-11-06 08:29:35: MainProcess:nqcpfem.fenics >> DEBUG:retireving energy scale\n",
      "- 2023-11-06 08:29:35: MainProcess:nqcpfem.fenics >> DEBUG:gathering constants complete\n",
      "- 2023-11-06 08:29:35: MainProcess:nqcpfem.fenics >> DEBUG:assembling array\n",
      "- 2023-11-06 08:29:36: MainProcess:nqcpfem.solvers >> DEBUG:solving problem:\n"
     ]
    },
    {
     "name": "stdout",
     "output_type": "stream",
     "text": [
      "104\n",
      "(21008, 21008)\n"
     ]
    },
    {
     "name": "stderr",
     "output_type": "stream",
     "text": [
      "- 2023-11-06 08:29:44: MainProcess:nqcpfem.solvers >> DEBUG: number of converged eigenvectors: 16\n",
      "- 2023-11-06 08:29:46: MainProcess:nqcpfem.parameter_search >> INFO:evaluating at grid point 105/1024\n",
      "- 2023-11-06 08:29:46: MainProcess:nqcpfem.parameter_search >> DEBUG:parameters: {'mu_sc_val': 6.884944078001299e-22, 'mu_R_val': -59.295499021526425}\n",
      "- 2023-11-06 08:29:46: MainProcess:nqcpfem.fenics >> DEBUG:creating PETSc Matrix\n",
      "- 2023-11-06 08:29:46: MainProcess:nqcpfem.fenics >> DEBUG:gathering constants\n",
      "- 2023-11-06 08:29:46: MainProcess:nqcpfem.fenics >> DEBUG:retrieving parameter and constant dicts\n",
      "- 2023-11-06 08:29:46: MainProcess:nqcpfem.fenics >> DEBUG:updating values\n",
      "- 2023-11-06 08:29:46: MainProcess:nqcpfem.fenics >> DEBUG:retireving energy scale\n",
      "- 2023-11-06 08:29:46: MainProcess:nqcpfem.fenics >> DEBUG:gathering constants complete\n",
      "- 2023-11-06 08:29:46: MainProcess:nqcpfem.fenics >> DEBUG:assembling array\n"
     ]
    },
    {
     "name": "stdout",
     "output_type": "stream",
     "text": [
      "105\n"
     ]
    },
    {
     "name": "stderr",
     "output_type": "stream",
     "text": [
      "- 2023-11-06 08:29:46: MainProcess:nqcpfem.solvers >> DEBUG:solving problem:\n",
      "- 2023-11-06 08:29:53: MainProcess:nqcpfem.solvers >> DEBUG: number of converged eigenvectors: 16\n"
     ]
    },
    {
     "name": "stdout",
     "output_type": "stream",
     "text": [
      "(21008, 21008)\n"
     ]
    },
    {
     "name": "stderr",
     "output_type": "stream",
     "text": [
      "- 2023-11-06 08:29:55: MainProcess:nqcpfem.parameter_search >> INFO:evaluating at grid point 106/1024\n",
      "- 2023-11-06 08:29:55: MainProcess:nqcpfem.parameter_search >> DEBUG:parameters: {'mu_sc_val': 6.884944078001299e-22, 'mu_R_val': -58.9041095890411}\n",
      "- 2023-11-06 08:29:55: MainProcess:nqcpfem.fenics >> DEBUG:creating PETSc Matrix\n",
      "- 2023-11-06 08:29:55: MainProcess:nqcpfem.fenics >> DEBUG:gathering constants\n",
      "- 2023-11-06 08:29:55: MainProcess:nqcpfem.fenics >> DEBUG:retrieving parameter and constant dicts\n",
      "- 2023-11-06 08:29:55: MainProcess:nqcpfem.fenics >> DEBUG:updating values\n",
      "- 2023-11-06 08:29:55: MainProcess:nqcpfem.fenics >> DEBUG:retireving energy scale\n",
      "- 2023-11-06 08:29:55: MainProcess:nqcpfem.fenics >> DEBUG:gathering constants complete\n",
      "- 2023-11-06 08:29:55: MainProcess:nqcpfem.fenics >> DEBUG:assembling array\n",
      "- 2023-11-06 08:29:55: MainProcess:nqcpfem.solvers >> DEBUG:solving problem:\n"
     ]
    },
    {
     "name": "stdout",
     "output_type": "stream",
     "text": [
      "106\n",
      "(21008, 21008)\n"
     ]
    },
    {
     "name": "stderr",
     "output_type": "stream",
     "text": [
      "- 2023-11-06 08:30:04: MainProcess:nqcpfem.solvers >> DEBUG: number of converged eigenvectors: 16\n",
      "- 2023-11-06 08:30:08: MainProcess:nqcpfem.parameter_search >> INFO:evaluating at grid point 107/1024\n",
      "- 2023-11-06 08:30:08: MainProcess:nqcpfem.parameter_search >> DEBUG:parameters: {'mu_sc_val': 6.884944078001299e-22, 'mu_R_val': -58.51272015655577}\n",
      "- 2023-11-06 08:30:08: MainProcess:nqcpfem.fenics >> DEBUG:creating PETSc Matrix\n",
      "- 2023-11-06 08:30:08: MainProcess:nqcpfem.fenics >> DEBUG:gathering constants\n",
      "- 2023-11-06 08:30:08: MainProcess:nqcpfem.fenics >> DEBUG:retrieving parameter and constant dicts\n",
      "- 2023-11-06 08:30:08: MainProcess:nqcpfem.fenics >> DEBUG:updating values\n",
      "- 2023-11-06 08:30:08: MainProcess:nqcpfem.fenics >> DEBUG:retireving energy scale\n",
      "- 2023-11-06 08:30:08: MainProcess:nqcpfem.fenics >> DEBUG:gathering constants complete\n",
      "- 2023-11-06 08:30:08: MainProcess:nqcpfem.fenics >> DEBUG:assembling array\n",
      "- 2023-11-06 08:30:08: MainProcess:nqcpfem.solvers >> DEBUG:solving problem:\n"
     ]
    },
    {
     "name": "stdout",
     "output_type": "stream",
     "text": [
      "107\n",
      "(21008, 21008)\n"
     ]
    },
    {
     "name": "stderr",
     "output_type": "stream",
     "text": [
      "- 2023-11-06 08:30:20: MainProcess:nqcpfem.solvers >> DEBUG: number of converged eigenvectors: 16\n",
      "- 2023-11-06 08:30:22: MainProcess:nqcpfem.parameter_search >> INFO:evaluating at grid point 108/1024\n",
      "- 2023-11-06 08:30:22: MainProcess:nqcpfem.parameter_search >> DEBUG:parameters: {'mu_sc_val': 6.884944078001299e-22, 'mu_R_val': -58.121330724070454}\n",
      "- 2023-11-06 08:30:22: MainProcess:nqcpfem.fenics >> DEBUG:creating PETSc Matrix\n",
      "- 2023-11-06 08:30:22: MainProcess:nqcpfem.fenics >> DEBUG:gathering constants\n",
      "- 2023-11-06 08:30:22: MainProcess:nqcpfem.fenics >> DEBUG:retrieving parameter and constant dicts\n",
      "- 2023-11-06 08:30:22: MainProcess:nqcpfem.fenics >> DEBUG:updating values\n",
      "- 2023-11-06 08:30:22: MainProcess:nqcpfem.fenics >> DEBUG:retireving energy scale\n",
      "- 2023-11-06 08:30:22: MainProcess:nqcpfem.fenics >> DEBUG:gathering constants complete\n",
      "- 2023-11-06 08:30:22: MainProcess:nqcpfem.fenics >> DEBUG:assembling array\n",
      "- 2023-11-06 08:30:22: MainProcess:nqcpfem.solvers >> DEBUG:solving problem:\n"
     ]
    },
    {
     "name": "stdout",
     "output_type": "stream",
     "text": [
      "108\n",
      "(21008, 21008)\n"
     ]
    },
    {
     "name": "stderr",
     "output_type": "stream",
     "text": [
      "- 2023-11-06 08:30:30: MainProcess:nqcpfem.solvers >> DEBUG: number of converged eigenvectors: 16\n",
      "- 2023-11-06 08:30:33: MainProcess:nqcpfem.parameter_search >> INFO:evaluating at grid point 109/1024\n",
      "- 2023-11-06 08:30:33: MainProcess:nqcpfem.parameter_search >> DEBUG:parameters: {'mu_sc_val': 6.884944078001299e-22, 'mu_R_val': -57.72994129158513}\n",
      "- 2023-11-06 08:30:33: MainProcess:nqcpfem.fenics >> DEBUG:creating PETSc Matrix\n",
      "- 2023-11-06 08:30:33: MainProcess:nqcpfem.fenics >> DEBUG:gathering constants\n",
      "- 2023-11-06 08:30:33: MainProcess:nqcpfem.fenics >> DEBUG:retrieving parameter and constant dicts\n",
      "- 2023-11-06 08:30:33: MainProcess:nqcpfem.fenics >> DEBUG:updating values\n",
      "- 2023-11-06 08:30:33: MainProcess:nqcpfem.fenics >> DEBUG:retireving energy scale\n",
      "- 2023-11-06 08:30:33: MainProcess:nqcpfem.fenics >> DEBUG:gathering constants complete\n",
      "- 2023-11-06 08:30:33: MainProcess:nqcpfem.fenics >> DEBUG:assembling array\n",
      "- 2023-11-06 08:30:33: MainProcess:nqcpfem.solvers >> DEBUG:solving problem:\n"
     ]
    },
    {
     "name": "stdout",
     "output_type": "stream",
     "text": [
      "109\n",
      "(21008, 21008)\n"
     ]
    },
    {
     "name": "stderr",
     "output_type": "stream",
     "text": [
      "- 2023-11-06 08:30:40: MainProcess:nqcpfem.solvers >> DEBUG: number of converged eigenvectors: 16\n",
      "- 2023-11-06 08:30:43: MainProcess:nqcpfem.parameter_search >> INFO:evaluating at grid point 110/1024\n",
      "- 2023-11-06 08:30:43: MainProcess:nqcpfem.parameter_search >> DEBUG:parameters: {'mu_sc_val': 6.884944078001299e-22, 'mu_R_val': -57.33855185909981}\n",
      "- 2023-11-06 08:30:43: MainProcess:nqcpfem.fenics >> DEBUG:creating PETSc Matrix\n",
      "- 2023-11-06 08:30:43: MainProcess:nqcpfem.fenics >> DEBUG:gathering constants\n",
      "- 2023-11-06 08:30:43: MainProcess:nqcpfem.fenics >> DEBUG:retrieving parameter and constant dicts\n",
      "- 2023-11-06 08:30:43: MainProcess:nqcpfem.fenics >> DEBUG:updating values\n",
      "- 2023-11-06 08:30:43: MainProcess:nqcpfem.fenics >> DEBUG:retireving energy scale\n",
      "- 2023-11-06 08:30:43: MainProcess:nqcpfem.fenics >> DEBUG:gathering constants complete\n",
      "- 2023-11-06 08:30:43: MainProcess:nqcpfem.fenics >> DEBUG:assembling array\n",
      "- 2023-11-06 08:30:43: MainProcess:nqcpfem.solvers >> DEBUG:solving problem:\n"
     ]
    },
    {
     "name": "stdout",
     "output_type": "stream",
     "text": [
      "110\n",
      "(21008, 21008)\n"
     ]
    },
    {
     "name": "stderr",
     "output_type": "stream",
     "text": [
      "- 2023-11-06 08:30:51: MainProcess:nqcpfem.solvers >> DEBUG: number of converged eigenvectors: 16\n",
      "- 2023-11-06 08:30:54: MainProcess:nqcpfem.parameter_search >> INFO:evaluating at grid point 111/1024\n",
      "- 2023-11-06 08:30:54: MainProcess:nqcpfem.parameter_search >> DEBUG:parameters: {'mu_sc_val': 6.884944078001299e-22, 'mu_R_val': -56.94716242661448}\n",
      "- 2023-11-06 08:30:54: MainProcess:nqcpfem.fenics >> DEBUG:creating PETSc Matrix\n",
      "- 2023-11-06 08:30:54: MainProcess:nqcpfem.fenics >> DEBUG:gathering constants\n",
      "- 2023-11-06 08:30:54: MainProcess:nqcpfem.fenics >> DEBUG:retrieving parameter and constant dicts\n",
      "- 2023-11-06 08:30:54: MainProcess:nqcpfem.fenics >> DEBUG:updating values\n",
      "- 2023-11-06 08:30:54: MainProcess:nqcpfem.fenics >> DEBUG:retireving energy scale\n",
      "- 2023-11-06 08:30:54: MainProcess:nqcpfem.fenics >> DEBUG:gathering constants complete\n",
      "- 2023-11-06 08:30:54: MainProcess:nqcpfem.fenics >> DEBUG:assembling array\n",
      "- 2023-11-06 08:30:54: MainProcess:nqcpfem.solvers >> DEBUG:solving problem:\n"
     ]
    },
    {
     "name": "stdout",
     "output_type": "stream",
     "text": [
      "111\n",
      "(21008, 21008)\n"
     ]
    },
    {
     "name": "stderr",
     "output_type": "stream",
     "text": [
      "- 2023-11-06 08:31:02: MainProcess:nqcpfem.solvers >> DEBUG: number of converged eigenvectors: 16\n",
      "- 2023-11-06 08:31:05: MainProcess:nqcpfem.parameter_search >> INFO:evaluating at grid point 112/1024\n",
      "- 2023-11-06 08:31:05: MainProcess:nqcpfem.parameter_search >> DEBUG:parameters: {'mu_sc_val': 6.884944078001299e-22, 'mu_R_val': -56.555772994129164}\n",
      "- 2023-11-06 08:31:05: MainProcess:nqcpfem.fenics >> DEBUG:creating PETSc Matrix\n",
      "- 2023-11-06 08:31:05: MainProcess:nqcpfem.fenics >> DEBUG:gathering constants\n",
      "- 2023-11-06 08:31:05: MainProcess:nqcpfem.fenics >> DEBUG:retrieving parameter and constant dicts\n",
      "- 2023-11-06 08:31:05: MainProcess:nqcpfem.fenics >> DEBUG:updating values\n",
      "- 2023-11-06 08:31:05: MainProcess:nqcpfem.fenics >> DEBUG:retireving energy scale\n",
      "- 2023-11-06 08:31:05: MainProcess:nqcpfem.fenics >> DEBUG:gathering constants complete\n",
      "- 2023-11-06 08:31:05: MainProcess:nqcpfem.fenics >> DEBUG:assembling array\n",
      "- 2023-11-06 08:31:05: MainProcess:nqcpfem.solvers >> DEBUG:solving problem:\n"
     ]
    },
    {
     "name": "stdout",
     "output_type": "stream",
     "text": [
      "112\n",
      "(21008, 21008)\n"
     ]
    },
    {
     "name": "stderr",
     "output_type": "stream",
     "text": [
      "- 2023-11-06 08:31:13: MainProcess:nqcpfem.solvers >> DEBUG: number of converged eigenvectors: 16\n",
      "- 2023-11-06 08:31:16: MainProcess:nqcpfem.parameter_search >> INFO:evaluating at grid point 113/1024\n",
      "- 2023-11-06 08:31:16: MainProcess:nqcpfem.parameter_search >> DEBUG:parameters: {'mu_sc_val': 6.884944078001299e-22, 'mu_R_val': -56.16438356164384}\n",
      "- 2023-11-06 08:31:16: MainProcess:nqcpfem.fenics >> DEBUG:creating PETSc Matrix\n",
      "- 2023-11-06 08:31:16: MainProcess:nqcpfem.fenics >> DEBUG:gathering constants\n",
      "- 2023-11-06 08:31:16: MainProcess:nqcpfem.fenics >> DEBUG:retrieving parameter and constant dicts\n",
      "- 2023-11-06 08:31:16: MainProcess:nqcpfem.fenics >> DEBUG:updating values\n",
      "- 2023-11-06 08:31:16: MainProcess:nqcpfem.fenics >> DEBUG:retireving energy scale\n"
     ]
    },
    {
     "name": "stdout",
     "output_type": "stream",
     "text": [
      "113\n"
     ]
    },
    {
     "name": "stderr",
     "output_type": "stream",
     "text": [
      "- 2023-11-06 08:31:16: MainProcess:nqcpfem.fenics >> DEBUG:gathering constants complete\n",
      "- 2023-11-06 08:31:16: MainProcess:nqcpfem.fenics >> DEBUG:assembling array\n",
      "- 2023-11-06 08:31:17: MainProcess:nqcpfem.solvers >> DEBUG:solving problem:\n",
      "- 2023-11-06 08:31:24: MainProcess:nqcpfem.solvers >> DEBUG: number of converged eigenvectors: 16\n"
     ]
    },
    {
     "name": "stdout",
     "output_type": "stream",
     "text": [
      "(21008, 21008)\n"
     ]
    },
    {
     "name": "stderr",
     "output_type": "stream",
     "text": [
      "- 2023-11-06 08:31:27: MainProcess:nqcpfem.parameter_search >> INFO:evaluating at grid point 114/1024\n",
      "- 2023-11-06 08:31:27: MainProcess:nqcpfem.parameter_search >> DEBUG:parameters: {'mu_sc_val': 6.884944078001299e-22, 'mu_R_val': -55.77299412915851}\n",
      "- 2023-11-06 08:31:27: MainProcess:nqcpfem.fenics >> DEBUG:creating PETSc Matrix\n",
      "- 2023-11-06 08:31:27: MainProcess:nqcpfem.fenics >> DEBUG:gathering constants\n",
      "- 2023-11-06 08:31:27: MainProcess:nqcpfem.fenics >> DEBUG:retrieving parameter and constant dicts\n",
      "- 2023-11-06 08:31:27: MainProcess:nqcpfem.fenics >> DEBUG:updating values\n",
      "- 2023-11-06 08:31:27: MainProcess:nqcpfem.fenics >> DEBUG:retireving energy scale\n",
      "- 2023-11-06 08:31:27: MainProcess:nqcpfem.fenics >> DEBUG:gathering constants complete\n",
      "- 2023-11-06 08:31:27: MainProcess:nqcpfem.fenics >> DEBUG:assembling array\n"
     ]
    },
    {
     "name": "stdout",
     "output_type": "stream",
     "text": [
      "114\n"
     ]
    },
    {
     "name": "stderr",
     "output_type": "stream",
     "text": [
      "- 2023-11-06 08:31:28: MainProcess:nqcpfem.solvers >> DEBUG:solving problem:\n",
      "- 2023-11-06 08:31:34: MainProcess:nqcpfem.solvers >> DEBUG: number of converged eigenvectors: 16\n"
     ]
    },
    {
     "name": "stdout",
     "output_type": "stream",
     "text": [
      "(21008, 21008)\n"
     ]
    },
    {
     "name": "stderr",
     "output_type": "stream",
     "text": [
      "- 2023-11-06 08:31:38: MainProcess:nqcpfem.parameter_search >> INFO:evaluating at grid point 115/1024\n",
      "- 2023-11-06 08:31:38: MainProcess:nqcpfem.parameter_search >> DEBUG:parameters: {'mu_sc_val': 6.884944078001299e-22, 'mu_R_val': -55.38160469667319}\n",
      "- 2023-11-06 08:31:38: MainProcess:nqcpfem.fenics >> DEBUG:creating PETSc Matrix\n",
      "- 2023-11-06 08:31:38: MainProcess:nqcpfem.fenics >> DEBUG:gathering constants\n",
      "- 2023-11-06 08:31:38: MainProcess:nqcpfem.fenics >> DEBUG:retrieving parameter and constant dicts\n",
      "- 2023-11-06 08:31:38: MainProcess:nqcpfem.fenics >> DEBUG:updating values\n",
      "- 2023-11-06 08:31:38: MainProcess:nqcpfem.fenics >> DEBUG:retireving energy scale\n",
      "- 2023-11-06 08:31:38: MainProcess:nqcpfem.fenics >> DEBUG:gathering constants complete\n",
      "- 2023-11-06 08:31:38: MainProcess:nqcpfem.fenics >> DEBUG:assembling array\n"
     ]
    },
    {
     "name": "stdout",
     "output_type": "stream",
     "text": [
      "115\n"
     ]
    },
    {
     "name": "stderr",
     "output_type": "stream",
     "text": [
      "- 2023-11-06 08:31:38: MainProcess:nqcpfem.solvers >> DEBUG:solving problem:\n",
      "- 2023-11-06 08:31:45: MainProcess:nqcpfem.solvers >> DEBUG: number of converged eigenvectors: 16\n"
     ]
    },
    {
     "name": "stdout",
     "output_type": "stream",
     "text": [
      "(21008, 21008)\n"
     ]
    },
    {
     "name": "stderr",
     "output_type": "stream",
     "text": [
      "- 2023-11-06 08:31:50: MainProcess:nqcpfem.parameter_search >> INFO:evaluating at grid point 116/1024\n",
      "- 2023-11-06 08:31:50: MainProcess:nqcpfem.parameter_search >> DEBUG:parameters: {'mu_sc_val': 6.884944078001299e-22, 'mu_R_val': -54.99021526418787}\n",
      "- 2023-11-06 08:31:50: MainProcess:nqcpfem.fenics >> DEBUG:creating PETSc Matrix\n",
      "- 2023-11-06 08:31:50: MainProcess:nqcpfem.fenics >> DEBUG:gathering constants\n",
      "- 2023-11-06 08:31:50: MainProcess:nqcpfem.fenics >> DEBUG:retrieving parameter and constant dicts\n",
      "- 2023-11-06 08:31:50: MainProcess:nqcpfem.fenics >> DEBUG:updating values\n",
      "- 2023-11-06 08:31:50: MainProcess:nqcpfem.fenics >> DEBUG:retireving energy scale\n",
      "- 2023-11-06 08:31:50: MainProcess:nqcpfem.fenics >> DEBUG:gathering constants complete\n",
      "- 2023-11-06 08:31:50: MainProcess:nqcpfem.fenics >> DEBUG:assembling array\n"
     ]
    },
    {
     "name": "stdout",
     "output_type": "stream",
     "text": [
      "116\n"
     ]
    },
    {
     "name": "stderr",
     "output_type": "stream",
     "text": [
      "- 2023-11-06 08:31:50: MainProcess:nqcpfem.solvers >> DEBUG:solving problem:\n",
      "- 2023-11-06 08:31:58: MainProcess:nqcpfem.solvers >> DEBUG: number of converged eigenvectors: 16\n"
     ]
    },
    {
     "name": "stdout",
     "output_type": "stream",
     "text": [
      "(21008, 21008)\n"
     ]
    },
    {
     "name": "stderr",
     "output_type": "stream",
     "text": [
      "- 2023-11-06 08:32:01: MainProcess:nqcpfem.parameter_search >> INFO:evaluating at grid point 117/1024\n",
      "- 2023-11-06 08:32:01: MainProcess:nqcpfem.parameter_search >> DEBUG:parameters: {'mu_sc_val': 6.884944078001299e-22, 'mu_R_val': -54.59882583170255}\n",
      "- 2023-11-06 08:32:01: MainProcess:nqcpfem.fenics >> DEBUG:creating PETSc Matrix\n",
      "- 2023-11-06 08:32:01: MainProcess:nqcpfem.fenics >> DEBUG:gathering constants\n",
      "- 2023-11-06 08:32:01: MainProcess:nqcpfem.fenics >> DEBUG:retrieving parameter and constant dicts\n",
      "- 2023-11-06 08:32:01: MainProcess:nqcpfem.fenics >> DEBUG:updating values\n",
      "- 2023-11-06 08:32:01: MainProcess:nqcpfem.fenics >> DEBUG:retireving energy scale\n",
      "- 2023-11-06 08:32:01: MainProcess:nqcpfem.fenics >> DEBUG:gathering constants complete\n",
      "- 2023-11-06 08:32:01: MainProcess:nqcpfem.fenics >> DEBUG:assembling array\n"
     ]
    },
    {
     "name": "stdout",
     "output_type": "stream",
     "text": [
      "117\n"
     ]
    },
    {
     "name": "stderr",
     "output_type": "stream",
     "text": [
      "- 2023-11-06 08:32:01: MainProcess:nqcpfem.solvers >> DEBUG:solving problem:\n",
      "- 2023-11-06 08:32:10: MainProcess:nqcpfem.solvers >> DEBUG: number of converged eigenvectors: 16\n"
     ]
    },
    {
     "name": "stdout",
     "output_type": "stream",
     "text": [
      "(21008, 21008)\n"
     ]
    },
    {
     "name": "stderr",
     "output_type": "stream",
     "text": [
      "- 2023-11-06 08:32:14: MainProcess:nqcpfem.parameter_search >> INFO:evaluating at grid point 118/1024\n",
      "- 2023-11-06 08:32:14: MainProcess:nqcpfem.parameter_search >> DEBUG:parameters: {'mu_sc_val': 6.884944078001299e-22, 'mu_R_val': -54.20743639921722}\n",
      "- 2023-11-06 08:32:14: MainProcess:nqcpfem.fenics >> DEBUG:creating PETSc Matrix\n",
      "- 2023-11-06 08:32:14: MainProcess:nqcpfem.fenics >> DEBUG:gathering constants\n",
      "- 2023-11-06 08:32:14: MainProcess:nqcpfem.fenics >> DEBUG:retrieving parameter and constant dicts\n",
      "- 2023-11-06 08:32:14: MainProcess:nqcpfem.fenics >> DEBUG:updating values\n"
     ]
    },
    {
     "name": "stdout",
     "output_type": "stream",
     "text": [
      "118\n"
     ]
    },
    {
     "name": "stderr",
     "output_type": "stream",
     "text": [
      "- 2023-11-06 08:32:14: MainProcess:nqcpfem.fenics >> DEBUG:retireving energy scale\n",
      "- 2023-11-06 08:32:14: MainProcess:nqcpfem.fenics >> DEBUG:gathering constants complete\n",
      "- 2023-11-06 08:32:14: MainProcess:nqcpfem.fenics >> DEBUG:assembling array\n",
      "- 2023-11-06 08:32:14: MainProcess:nqcpfem.solvers >> DEBUG:solving problem:\n",
      "- 2023-11-06 08:32:25: MainProcess:nqcpfem.solvers >> DEBUG: number of converged eigenvectors: 16\n"
     ]
    },
    {
     "name": "stdout",
     "output_type": "stream",
     "text": [
      "(21008, 21008)\n"
     ]
    },
    {
     "name": "stderr",
     "output_type": "stream",
     "text": [
      "- 2023-11-06 08:32:29: MainProcess:nqcpfem.parameter_search >> INFO:evaluating at grid point 119/1024\n",
      "- 2023-11-06 08:32:29: MainProcess:nqcpfem.parameter_search >> DEBUG:parameters: {'mu_sc_val': 6.884944078001299e-22, 'mu_R_val': -53.8160469667319}\n",
      "- 2023-11-06 08:32:29: MainProcess:nqcpfem.fenics >> DEBUG:creating PETSc Matrix\n",
      "- 2023-11-06 08:32:29: MainProcess:nqcpfem.fenics >> DEBUG:gathering constants\n",
      "- 2023-11-06 08:32:29: MainProcess:nqcpfem.fenics >> DEBUG:retrieving parameter and constant dicts\n",
      "- 2023-11-06 08:32:29: MainProcess:nqcpfem.fenics >> DEBUG:updating values\n",
      "- 2023-11-06 08:32:29: MainProcess:nqcpfem.fenics >> DEBUG:retireving energy scale\n",
      "- 2023-11-06 08:32:29: MainProcess:nqcpfem.fenics >> DEBUG:gathering constants complete\n",
      "- 2023-11-06 08:32:29: MainProcess:nqcpfem.fenics >> DEBUG:assembling array\n",
      "- 2023-11-06 08:32:29: MainProcess:nqcpfem.solvers >> DEBUG:solving problem:\n"
     ]
    },
    {
     "name": "stdout",
     "output_type": "stream",
     "text": [
      "119\n",
      "(21008, 21008)\n"
     ]
    },
    {
     "name": "stderr",
     "output_type": "stream",
     "text": [
      "- 2023-11-06 08:32:36: MainProcess:nqcpfem.solvers >> DEBUG: number of converged eigenvectors: 16\n",
      "- 2023-11-06 08:32:39: MainProcess:nqcpfem.parameter_search >> INFO:evaluating at grid point 120/1024\n",
      "- 2023-11-06 08:32:39: MainProcess:nqcpfem.parameter_search >> DEBUG:parameters: {'mu_sc_val': 6.884944078001299e-22, 'mu_R_val': -53.42465753424658}\n",
      "- 2023-11-06 08:32:39: MainProcess:nqcpfem.fenics >> DEBUG:creating PETSc Matrix\n",
      "- 2023-11-06 08:32:39: MainProcess:nqcpfem.fenics >> DEBUG:gathering constants\n",
      "- 2023-11-06 08:32:39: MainProcess:nqcpfem.fenics >> DEBUG:retrieving parameter and constant dicts\n",
      "- 2023-11-06 08:32:39: MainProcess:nqcpfem.fenics >> DEBUG:updating values\n",
      "- 2023-11-06 08:32:39: MainProcess:nqcpfem.fenics >> DEBUG:retireving energy scale\n",
      "- 2023-11-06 08:32:39: MainProcess:nqcpfem.fenics >> DEBUG:gathering constants complete\n",
      "- 2023-11-06 08:32:39: MainProcess:nqcpfem.fenics >> DEBUG:assembling array\n",
      "- 2023-11-06 08:32:39: MainProcess:nqcpfem.solvers >> DEBUG:solving problem:\n"
     ]
    },
    {
     "name": "stdout",
     "output_type": "stream",
     "text": [
      "120\n",
      "(21008, 21008)\n"
     ]
    },
    {
     "name": "stderr",
     "output_type": "stream",
     "text": [
      "- 2023-11-06 08:32:47: MainProcess:nqcpfem.solvers >> DEBUG: number of converged eigenvectors: 16\n",
      "- 2023-11-06 08:32:50: MainProcess:nqcpfem.parameter_search >> INFO:evaluating at grid point 121/1024\n",
      "- 2023-11-06 08:32:50: MainProcess:nqcpfem.parameter_search >> DEBUG:parameters: {'mu_sc_val': 6.884944078001299e-22, 'mu_R_val': -53.03326810176125}\n",
      "- 2023-11-06 08:32:50: MainProcess:nqcpfem.fenics >> DEBUG:creating PETSc Matrix\n",
      "- 2023-11-06 08:32:50: MainProcess:nqcpfem.fenics >> DEBUG:gathering constants\n",
      "- 2023-11-06 08:32:50: MainProcess:nqcpfem.fenics >> DEBUG:retrieving parameter and constant dicts\n",
      "- 2023-11-06 08:32:50: MainProcess:nqcpfem.fenics >> DEBUG:updating values\n",
      "- 2023-11-06 08:32:50: MainProcess:nqcpfem.fenics >> DEBUG:retireving energy scale\n",
      "- 2023-11-06 08:32:50: MainProcess:nqcpfem.fenics >> DEBUG:gathering constants complete\n",
      "- 2023-11-06 08:32:50: MainProcess:nqcpfem.fenics >> DEBUG:assembling array\n",
      "- 2023-11-06 08:32:50: MainProcess:nqcpfem.solvers >> DEBUG:solving problem:\n",
      "- 2023-11-06 08:32:58: MainProcess:nqcpfem.solvers >> DEBUG: number of converged eigenvectors: 16\n"
     ]
    },
    {
     "name": "stdout",
     "output_type": "stream",
     "text": [
      "121\n",
      "(21008, 21008)\n"
     ]
    },
    {
     "name": "stderr",
     "output_type": "stream",
     "text": [
      "- 2023-11-06 08:33:01: MainProcess:nqcpfem.parameter_search >> INFO:evaluating at grid point 122/1024\n",
      "- 2023-11-06 08:33:01: MainProcess:nqcpfem.parameter_search >> DEBUG:parameters: {'mu_sc_val': 6.884944078001299e-22, 'mu_R_val': -52.64187866927593}\n",
      "- 2023-11-06 08:33:01: MainProcess:nqcpfem.fenics >> DEBUG:creating PETSc Matrix\n",
      "- 2023-11-06 08:33:01: MainProcess:nqcpfem.fenics >> DEBUG:gathering constants\n",
      "- 2023-11-06 08:33:01: MainProcess:nqcpfem.fenics >> DEBUG:retrieving parameter and constant dicts\n",
      "- 2023-11-06 08:33:01: MainProcess:nqcpfem.fenics >> DEBUG:updating values\n",
      "- 2023-11-06 08:33:01: MainProcess:nqcpfem.fenics >> DEBUG:retireving energy scale\n",
      "- 2023-11-06 08:33:01: MainProcess:nqcpfem.fenics >> DEBUG:gathering constants complete\n",
      "- 2023-11-06 08:33:01: MainProcess:nqcpfem.fenics >> DEBUG:assembling array\n"
     ]
    },
    {
     "name": "stdout",
     "output_type": "stream",
     "text": [
      "122\n"
     ]
    },
    {
     "name": "stderr",
     "output_type": "stream",
     "text": [
      "- 2023-11-06 08:33:01: MainProcess:nqcpfem.solvers >> DEBUG:solving problem:\n",
      "- 2023-11-06 08:33:11: MainProcess:nqcpfem.solvers >> DEBUG: number of converged eigenvectors: 16\n"
     ]
    },
    {
     "name": "stdout",
     "output_type": "stream",
     "text": [
      "(21008, 21008)\n"
     ]
    },
    {
     "name": "stderr",
     "output_type": "stream",
     "text": [
      "- 2023-11-06 08:33:15: MainProcess:nqcpfem.parameter_search >> INFO:evaluating at grid point 123/1024\n",
      "- 2023-11-06 08:33:15: MainProcess:nqcpfem.parameter_search >> DEBUG:parameters: {'mu_sc_val': 6.884944078001299e-22, 'mu_R_val': -52.25048923679061}\n",
      "- 2023-11-06 08:33:15: MainProcess:nqcpfem.fenics >> DEBUG:creating PETSc Matrix\n",
      "- 2023-11-06 08:33:15: MainProcess:nqcpfem.fenics >> DEBUG:gathering constants\n",
      "- 2023-11-06 08:33:15: MainProcess:nqcpfem.fenics >> DEBUG:retrieving parameter and constant dicts\n",
      "- 2023-11-06 08:33:15: MainProcess:nqcpfem.fenics >> DEBUG:updating values\n",
      "- 2023-11-06 08:33:15: MainProcess:nqcpfem.fenics >> DEBUG:retireving energy scale\n",
      "- 2023-11-06 08:33:15: MainProcess:nqcpfem.fenics >> DEBUG:gathering constants complete\n",
      "- 2023-11-06 08:33:15: MainProcess:nqcpfem.fenics >> DEBUG:assembling array\n"
     ]
    },
    {
     "name": "stdout",
     "output_type": "stream",
     "text": [
      "123\n"
     ]
    },
    {
     "name": "stderr",
     "output_type": "stream",
     "text": [
      "- 2023-11-06 08:33:15: MainProcess:nqcpfem.solvers >> DEBUG:solving problem:\n",
      "- 2023-11-06 08:33:25: MainProcess:nqcpfem.solvers >> DEBUG: number of converged eigenvectors: 16\n"
     ]
    },
    {
     "name": "stdout",
     "output_type": "stream",
     "text": [
      "(21008, 21008)\n"
     ]
    },
    {
     "name": "stderr",
     "output_type": "stream",
     "text": [
      "- 2023-11-06 08:33:29: MainProcess:nqcpfem.parameter_search >> INFO:evaluating at grid point 124/1024\n",
      "- 2023-11-06 08:33:29: MainProcess:nqcpfem.parameter_search >> DEBUG:parameters: {'mu_sc_val': 6.884944078001299e-22, 'mu_R_val': -51.85909980430529}\n",
      "- 2023-11-06 08:33:29: MainProcess:nqcpfem.fenics >> DEBUG:creating PETSc Matrix\n",
      "- 2023-11-06 08:33:29: MainProcess:nqcpfem.fenics >> DEBUG:gathering constants\n",
      "- 2023-11-06 08:33:29: MainProcess:nqcpfem.fenics >> DEBUG:retrieving parameter and constant dicts\n",
      "- 2023-11-06 08:33:29: MainProcess:nqcpfem.fenics >> DEBUG:updating values\n",
      "- 2023-11-06 08:33:29: MainProcess:nqcpfem.fenics >> DEBUG:retireving energy scale\n",
      "- 2023-11-06 08:33:29: MainProcess:nqcpfem.fenics >> DEBUG:gathering constants complete\n",
      "- 2023-11-06 08:33:29: MainProcess:nqcpfem.fenics >> DEBUG:assembling array\n"
     ]
    },
    {
     "name": "stdout",
     "output_type": "stream",
     "text": [
      "124\n"
     ]
    },
    {
     "name": "stderr",
     "output_type": "stream",
     "text": [
      "- 2023-11-06 08:33:29: MainProcess:nqcpfem.solvers >> DEBUG:solving problem:\n",
      "- 2023-11-06 08:33:39: MainProcess:nqcpfem.solvers >> DEBUG: number of converged eigenvectors: 16\n"
     ]
    },
    {
     "name": "stdout",
     "output_type": "stream",
     "text": [
      "(21008, 21008)\n"
     ]
    },
    {
     "name": "stderr",
     "output_type": "stream",
     "text": [
      "- 2023-11-06 08:33:42: MainProcess:nqcpfem.parameter_search >> INFO:evaluating at grid point 125/1024\n",
      "- 2023-11-06 08:33:42: MainProcess:nqcpfem.parameter_search >> DEBUG:parameters: {'mu_sc_val': 6.884944078001299e-22, 'mu_R_val': -51.46771037181996}\n",
      "- 2023-11-06 08:33:42: MainProcess:nqcpfem.fenics >> DEBUG:creating PETSc Matrix\n",
      "- 2023-11-06 08:33:42: MainProcess:nqcpfem.fenics >> DEBUG:gathering constants\n",
      "- 2023-11-06 08:33:42: MainProcess:nqcpfem.fenics >> DEBUG:retrieving parameter and constant dicts\n",
      "- 2023-11-06 08:33:42: MainProcess:nqcpfem.fenics >> DEBUG:updating values\n",
      "- 2023-11-06 08:33:42: MainProcess:nqcpfem.fenics >> DEBUG:retireving energy scale\n",
      "- 2023-11-06 08:33:42: MainProcess:nqcpfem.fenics >> DEBUG:gathering constants complete\n",
      "- 2023-11-06 08:33:42: MainProcess:nqcpfem.fenics >> DEBUG:assembling array\n",
      "- 2023-11-06 08:33:42: MainProcess:nqcpfem.solvers >> DEBUG:solving problem:\n"
     ]
    },
    {
     "name": "stdout",
     "output_type": "stream",
     "text": [
      "125\n",
      "(21008, 21008)\n"
     ]
    },
    {
     "name": "stderr",
     "output_type": "stream",
     "text": [
      "- 2023-11-06 08:33:49: MainProcess:nqcpfem.solvers >> DEBUG: number of converged eigenvectors: 16\n",
      "- 2023-11-06 08:33:55: MainProcess:nqcpfem.parameter_search >> INFO:evaluating at grid point 126/1024\n",
      "- 2023-11-06 08:33:55: MainProcess:nqcpfem.parameter_search >> DEBUG:parameters: {'mu_sc_val': 6.884944078001299e-22, 'mu_R_val': -51.07632093933464}\n",
      "- 2023-11-06 08:33:55: MainProcess:nqcpfem.fenics >> DEBUG:creating PETSc Matrix\n",
      "- 2023-11-06 08:33:55: MainProcess:nqcpfem.fenics >> DEBUG:gathering constants\n",
      "- 2023-11-06 08:33:55: MainProcess:nqcpfem.fenics >> DEBUG:retrieving parameter and constant dicts\n",
      "- 2023-11-06 08:33:55: MainProcess:nqcpfem.fenics >> DEBUG:updating values\n"
     ]
    },
    {
     "name": "stdout",
     "output_type": "stream",
     "text": [
      "126\n"
     ]
    },
    {
     "name": "stderr",
     "output_type": "stream",
     "text": [
      "- 2023-11-06 08:33:55: MainProcess:nqcpfem.fenics >> DEBUG:retireving energy scale\n",
      "- 2023-11-06 08:33:55: MainProcess:nqcpfem.fenics >> DEBUG:gathering constants complete\n",
      "- 2023-11-06 08:33:55: MainProcess:nqcpfem.fenics >> DEBUG:assembling array\n",
      "- 2023-11-06 08:33:55: MainProcess:nqcpfem.solvers >> DEBUG:solving problem:\n",
      "- 2023-11-06 08:34:07: MainProcess:nqcpfem.solvers >> DEBUG: number of converged eigenvectors: 16\n"
     ]
    },
    {
     "name": "stdout",
     "output_type": "stream",
     "text": [
      "(21008, 21008)\n"
     ]
    },
    {
     "name": "stderr",
     "output_type": "stream",
     "text": [
      "- 2023-11-06 08:34:10: MainProcess:nqcpfem.parameter_search >> INFO:evaluating at grid point 127/1024\n",
      "- 2023-11-06 08:34:10: MainProcess:nqcpfem.parameter_search >> DEBUG:parameters: {'mu_sc_val': 6.884944078001299e-22, 'mu_R_val': -50.68493150684932}\n",
      "- 2023-11-06 08:34:10: MainProcess:nqcpfem.fenics >> DEBUG:creating PETSc Matrix\n",
      "- 2023-11-06 08:34:10: MainProcess:nqcpfem.fenics >> DEBUG:gathering constants\n",
      "- 2023-11-06 08:34:10: MainProcess:nqcpfem.fenics >> DEBUG:retrieving parameter and constant dicts\n",
      "- 2023-11-06 08:34:10: MainProcess:nqcpfem.fenics >> DEBUG:updating values\n",
      "- 2023-11-06 08:34:10: MainProcess:nqcpfem.fenics >> DEBUG:retireving energy scale\n",
      "- 2023-11-06 08:34:10: MainProcess:nqcpfem.fenics >> DEBUG:gathering constants complete\n",
      "- 2023-11-06 08:34:10: MainProcess:nqcpfem.fenics >> DEBUG:assembling array\n",
      "- 2023-11-06 08:34:10: MainProcess:nqcpfem.solvers >> DEBUG:solving problem:\n"
     ]
    },
    {
     "name": "stdout",
     "output_type": "stream",
     "text": [
      "127\n",
      "(21008, 21008)\n"
     ]
    },
    {
     "name": "stderr",
     "output_type": "stream",
     "text": [
      "- 2023-11-06 08:34:18: MainProcess:nqcpfem.solvers >> DEBUG: number of converged eigenvectors: 16\n",
      "- 2023-11-06 08:34:21: MainProcess:nqcpfem.parameter_search >> INFO:evaluating at grid point 128/1024\n",
      "- 2023-11-06 08:34:21: MainProcess:nqcpfem.parameter_search >> DEBUG:parameters: {'mu_sc_val': 6.884944078001299e-22, 'mu_R_val': -50.293542074364}\n",
      "- 2023-11-06 08:34:21: MainProcess:nqcpfem.fenics >> DEBUG:creating PETSc Matrix\n",
      "- 2023-11-06 08:34:21: MainProcess:nqcpfem.fenics >> DEBUG:gathering constants\n",
      "- 2023-11-06 08:34:21: MainProcess:nqcpfem.fenics >> DEBUG:retrieving parameter and constant dicts\n",
      "- 2023-11-06 08:34:21: MainProcess:nqcpfem.fenics >> DEBUG:updating values\n"
     ]
    },
    {
     "name": "stdout",
     "output_type": "stream",
     "text": [
      "128\n"
     ]
    },
    {
     "name": "stderr",
     "output_type": "stream",
     "text": [
      "- 2023-11-06 08:34:22: MainProcess:nqcpfem.fenics >> DEBUG:retireving energy scale\n",
      "- 2023-11-06 08:34:22: MainProcess:nqcpfem.fenics >> DEBUG:gathering constants complete\n",
      "- 2023-11-06 08:34:22: MainProcess:nqcpfem.fenics >> DEBUG:assembling array\n",
      "- 2023-11-06 08:34:22: MainProcess:nqcpfem.solvers >> DEBUG:solving problem:\n",
      "- 2023-11-06 08:34:39: MainProcess:nqcpfem.solvers >> DEBUG: number of converged eigenvectors: 16\n"
     ]
    },
    {
     "name": "stdout",
     "output_type": "stream",
     "text": [
      "(21008, 21008)\n"
     ]
    },
    {
     "name": "stderr",
     "output_type": "stream",
     "text": [
      "- 2023-11-06 08:34:42: MainProcess:nqcpfem.parameter_search >> INFO:evaluating at grid point 129/1024\n",
      "- 2023-11-06 08:34:42: MainProcess:nqcpfem.parameter_search >> DEBUG:parameters: {'mu_sc_val': 6.884944078001299e-22, 'mu_R_val': -49.90215264187867}\n",
      "- 2023-11-06 08:34:42: MainProcess:nqcpfem.fenics >> DEBUG:creating PETSc Matrix\n",
      "- 2023-11-06 08:34:42: MainProcess:nqcpfem.fenics >> DEBUG:gathering constants\n",
      "- 2023-11-06 08:34:42: MainProcess:nqcpfem.fenics >> DEBUG:retrieving parameter and constant dicts\n",
      "- 2023-11-06 08:34:42: MainProcess:nqcpfem.fenics >> DEBUG:updating values\n",
      "- 2023-11-06 08:34:42: MainProcess:nqcpfem.fenics >> DEBUG:retireving energy scale\n",
      "- 2023-11-06 08:34:42: MainProcess:nqcpfem.fenics >> DEBUG:gathering constants complete\n",
      "- 2023-11-06 08:34:42: MainProcess:nqcpfem.fenics >> DEBUG:assembling array\n",
      "- 2023-11-06 08:34:42: MainProcess:nqcpfem.solvers >> DEBUG:solving problem:\n"
     ]
    },
    {
     "name": "stdout",
     "output_type": "stream",
     "text": [
      "129\n",
      "(21008, 21008)\n"
     ]
    },
    {
     "name": "stderr",
     "output_type": "stream",
     "text": [
      "- 2023-11-06 08:34:50: MainProcess:nqcpfem.solvers >> DEBUG: number of converged eigenvectors: 16\n",
      "- 2023-11-06 08:34:53: MainProcess:nqcpfem.parameter_search >> INFO:evaluating at grid point 130/1024\n",
      "- 2023-11-06 08:34:53: MainProcess:nqcpfem.parameter_search >> DEBUG:parameters: {'mu_sc_val': 6.884944078001299e-22, 'mu_R_val': -49.510763209393346}\n",
      "- 2023-11-06 08:34:53: MainProcess:nqcpfem.fenics >> DEBUG:creating PETSc Matrix\n",
      "- 2023-11-06 08:34:53: MainProcess:nqcpfem.fenics >> DEBUG:gathering constants\n",
      "- 2023-11-06 08:34:53: MainProcess:nqcpfem.fenics >> DEBUG:retrieving parameter and constant dicts\n",
      "- 2023-11-06 08:34:53: MainProcess:nqcpfem.fenics >> DEBUG:updating values\n",
      "- 2023-11-06 08:34:53: MainProcess:nqcpfem.fenics >> DEBUG:retireving energy scale\n",
      "- 2023-11-06 08:34:53: MainProcess:nqcpfem.fenics >> DEBUG:gathering constants complete\n",
      "- 2023-11-06 08:34:53: MainProcess:nqcpfem.fenics >> DEBUG:assembling array\n",
      "- 2023-11-06 08:34:53: MainProcess:nqcpfem.solvers >> DEBUG:solving problem:\n"
     ]
    },
    {
     "name": "stdout",
     "output_type": "stream",
     "text": [
      "130\n",
      "(21008, 21008)\n"
     ]
    },
    {
     "name": "stderr",
     "output_type": "stream",
     "text": [
      "- 2023-11-06 08:35:00: MainProcess:nqcpfem.solvers >> DEBUG: number of converged eigenvectors: 16\n",
      "- 2023-11-06 08:35:03: MainProcess:nqcpfem.parameter_search >> INFO:evaluating at grid point 131/1024\n",
      "- 2023-11-06 08:35:03: MainProcess:nqcpfem.parameter_search >> DEBUG:parameters: {'mu_sc_val': 6.884944078001299e-22, 'mu_R_val': -49.11937377690803}\n",
      "- 2023-11-06 08:35:03: MainProcess:nqcpfem.fenics >> DEBUG:creating PETSc Matrix\n",
      "- 2023-11-06 08:35:03: MainProcess:nqcpfem.fenics >> DEBUG:gathering constants\n",
      "- 2023-11-06 08:35:03: MainProcess:nqcpfem.fenics >> DEBUG:retrieving parameter and constant dicts\n",
      "- 2023-11-06 08:35:03: MainProcess:nqcpfem.fenics >> DEBUG:updating values\n",
      "- 2023-11-06 08:35:03: MainProcess:nqcpfem.fenics >> DEBUG:retireving energy scale\n",
      "- 2023-11-06 08:35:03: MainProcess:nqcpfem.fenics >> DEBUG:gathering constants complete\n",
      "- 2023-11-06 08:35:03: MainProcess:nqcpfem.fenics >> DEBUG:assembling array\n"
     ]
    },
    {
     "name": "stdout",
     "output_type": "stream",
     "text": [
      "131\n"
     ]
    },
    {
     "name": "stderr",
     "output_type": "stream",
     "text": [
      "- 2023-11-06 08:35:03: MainProcess:nqcpfem.solvers >> DEBUG:solving problem:\n",
      "- 2023-11-06 08:35:12: MainProcess:nqcpfem.solvers >> DEBUG: number of converged eigenvectors: 16\n"
     ]
    },
    {
     "name": "stdout",
     "output_type": "stream",
     "text": [
      "(21008, 21008)\n"
     ]
    },
    {
     "name": "stderr",
     "output_type": "stream",
     "text": [
      "- 2023-11-06 08:35:15: MainProcess:nqcpfem.parameter_search >> INFO:evaluating at grid point 132/1024\n",
      "- 2023-11-06 08:35:15: MainProcess:nqcpfem.parameter_search >> DEBUG:parameters: {'mu_sc_val': 6.884944078001299e-22, 'mu_R_val': -48.7279843444227}\n",
      "- 2023-11-06 08:35:15: MainProcess:nqcpfem.fenics >> DEBUG:creating PETSc Matrix\n",
      "- 2023-11-06 08:35:15: MainProcess:nqcpfem.fenics >> DEBUG:gathering constants\n",
      "- 2023-11-06 08:35:15: MainProcess:nqcpfem.fenics >> DEBUG:retrieving parameter and constant dicts\n",
      "- 2023-11-06 08:35:15: MainProcess:nqcpfem.fenics >> DEBUG:updating values\n",
      "- 2023-11-06 08:35:15: MainProcess:nqcpfem.fenics >> DEBUG:retireving energy scale\n",
      "- 2023-11-06 08:35:15: MainProcess:nqcpfem.fenics >> DEBUG:gathering constants complete\n",
      "- 2023-11-06 08:35:15: MainProcess:nqcpfem.fenics >> DEBUG:assembling array\n",
      "- 2023-11-06 08:35:15: MainProcess:nqcpfem.solvers >> DEBUG:solving problem:\n"
     ]
    },
    {
     "name": "stdout",
     "output_type": "stream",
     "text": [
      "132\n",
      "(21008, 21008)\n"
     ]
    },
    {
     "name": "stderr",
     "output_type": "stream",
     "text": [
      "- 2023-11-06 08:35:23: MainProcess:nqcpfem.solvers >> DEBUG: number of converged eigenvectors: 16\n",
      "- 2023-11-06 08:35:28: MainProcess:nqcpfem.parameter_search >> INFO:evaluating at grid point 133/1024\n",
      "- 2023-11-06 08:35:28: MainProcess:nqcpfem.parameter_search >> DEBUG:parameters: {'mu_sc_val': 6.884944078001299e-22, 'mu_R_val': -48.33659491193738}\n",
      "- 2023-11-06 08:35:28: MainProcess:nqcpfem.fenics >> DEBUG:creating PETSc Matrix\n",
      "- 2023-11-06 08:35:28: MainProcess:nqcpfem.fenics >> DEBUG:gathering constants\n",
      "- 2023-11-06 08:35:28: MainProcess:nqcpfem.fenics >> DEBUG:retrieving parameter and constant dicts\n",
      "- 2023-11-06 08:35:28: MainProcess:nqcpfem.fenics >> DEBUG:updating values\n",
      "- 2023-11-06 08:35:28: MainProcess:nqcpfem.fenics >> DEBUG:retireving energy scale\n",
      "- 2023-11-06 08:35:28: MainProcess:nqcpfem.fenics >> DEBUG:gathering constants complete\n",
      "- 2023-11-06 08:35:28: MainProcess:nqcpfem.fenics >> DEBUG:assembling array\n"
     ]
    },
    {
     "name": "stdout",
     "output_type": "stream",
     "text": [
      "133\n"
     ]
    },
    {
     "name": "stderr",
     "output_type": "stream",
     "text": [
      "- 2023-11-06 08:35:28: MainProcess:nqcpfem.solvers >> DEBUG:solving problem:\n",
      "- 2023-11-06 08:35:35: MainProcess:nqcpfem.solvers >> DEBUG: number of converged eigenvectors: 16\n"
     ]
    },
    {
     "name": "stdout",
     "output_type": "stream",
     "text": [
      "(21008, 21008)\n"
     ]
    },
    {
     "name": "stderr",
     "output_type": "stream",
     "text": [
      "- 2023-11-06 08:35:39: MainProcess:nqcpfem.parameter_search >> INFO:evaluating at grid point 134/1024\n",
      "- 2023-11-06 08:35:39: MainProcess:nqcpfem.parameter_search >> DEBUG:parameters: {'mu_sc_val': 6.884944078001299e-22, 'mu_R_val': -47.945205479452056}\n",
      "- 2023-11-06 08:35:39: MainProcess:nqcpfem.fenics >> DEBUG:creating PETSc Matrix\n",
      "- 2023-11-06 08:35:39: MainProcess:nqcpfem.fenics >> DEBUG:gathering constants\n",
      "- 2023-11-06 08:35:39: MainProcess:nqcpfem.fenics >> DEBUG:retrieving parameter and constant dicts\n",
      "- 2023-11-06 08:35:40: MainProcess:nqcpfem.fenics >> DEBUG:updating values\n",
      "- 2023-11-06 08:35:40: MainProcess:nqcpfem.fenics >> DEBUG:retireving energy scale\n",
      "- 2023-11-06 08:35:40: MainProcess:nqcpfem.fenics >> DEBUG:gathering constants complete\n",
      "- 2023-11-06 08:35:40: MainProcess:nqcpfem.fenics >> DEBUG:assembling array\n",
      "- 2023-11-06 08:35:40: MainProcess:nqcpfem.solvers >> DEBUG:solving problem:\n"
     ]
    },
    {
     "name": "stdout",
     "output_type": "stream",
     "text": [
      "134\n",
      "(21008, 21008)\n"
     ]
    },
    {
     "name": "stderr",
     "output_type": "stream",
     "text": [
      "- 2023-11-06 08:35:47: MainProcess:nqcpfem.solvers >> DEBUG: number of converged eigenvectors: 16\n",
      "- 2023-11-06 08:35:50: MainProcess:nqcpfem.parameter_search >> INFO:evaluating at grid point 135/1024\n",
      "- 2023-11-06 08:35:50: MainProcess:nqcpfem.parameter_search >> DEBUG:parameters: {'mu_sc_val': 6.884944078001299e-22, 'mu_R_val': -47.55381604696674}\n",
      "- 2023-11-06 08:35:50: MainProcess:nqcpfem.fenics >> DEBUG:creating PETSc Matrix\n",
      "- 2023-11-06 08:35:50: MainProcess:nqcpfem.fenics >> DEBUG:gathering constants\n",
      "- 2023-11-06 08:35:50: MainProcess:nqcpfem.fenics >> DEBUG:retrieving parameter and constant dicts\n",
      "- 2023-11-06 08:35:50: MainProcess:nqcpfem.fenics >> DEBUG:updating values\n",
      "- 2023-11-06 08:35:50: MainProcess:nqcpfem.fenics >> DEBUG:retireving energy scale\n",
      "- 2023-11-06 08:35:50: MainProcess:nqcpfem.fenics >> DEBUG:gathering constants complete\n",
      "- 2023-11-06 08:35:50: MainProcess:nqcpfem.fenics >> DEBUG:assembling array\n",
      "- 2023-11-06 08:35:50: MainProcess:nqcpfem.solvers >> DEBUG:solving problem:\n"
     ]
    },
    {
     "name": "stdout",
     "output_type": "stream",
     "text": [
      "135\n",
      "(21008, 21008)\n"
     ]
    },
    {
     "name": "stderr",
     "output_type": "stream",
     "text": [
      "- 2023-11-06 08:35:58: MainProcess:nqcpfem.solvers >> DEBUG: number of converged eigenvectors: 16\n",
      "- 2023-11-06 08:36:01: MainProcess:nqcpfem.parameter_search >> INFO:evaluating at grid point 136/1024\n",
      "- 2023-11-06 08:36:01: MainProcess:nqcpfem.parameter_search >> DEBUG:parameters: {'mu_sc_val': 6.884944078001299e-22, 'mu_R_val': -47.16242661448141}\n",
      "- 2023-11-06 08:36:01: MainProcess:nqcpfem.fenics >> DEBUG:creating PETSc Matrix\n",
      "- 2023-11-06 08:36:01: MainProcess:nqcpfem.fenics >> DEBUG:gathering constants\n",
      "- 2023-11-06 08:36:01: MainProcess:nqcpfem.fenics >> DEBUG:retrieving parameter and constant dicts\n",
      "- 2023-11-06 08:36:01: MainProcess:nqcpfem.fenics >> DEBUG:updating values\n",
      "- 2023-11-06 08:36:01: MainProcess:nqcpfem.fenics >> DEBUG:retireving energy scale\n",
      "- 2023-11-06 08:36:01: MainProcess:nqcpfem.fenics >> DEBUG:gathering constants complete\n",
      "- 2023-11-06 08:36:01: MainProcess:nqcpfem.fenics >> DEBUG:assembling array\n"
     ]
    },
    {
     "name": "stdout",
     "output_type": "stream",
     "text": [
      "136\n"
     ]
    },
    {
     "name": "stderr",
     "output_type": "stream",
     "text": [
      "- 2023-11-06 08:36:01: MainProcess:nqcpfem.solvers >> DEBUG:solving problem:\n",
      "- 2023-11-06 08:36:09: MainProcess:nqcpfem.solvers >> DEBUG: number of converged eigenvectors: 16\n"
     ]
    },
    {
     "name": "stdout",
     "output_type": "stream",
     "text": [
      "(21008, 21008)\n"
     ]
    },
    {
     "name": "stderr",
     "output_type": "stream",
     "text": [
      "- 2023-11-06 08:36:12: MainProcess:nqcpfem.parameter_search >> INFO:evaluating at grid point 137/1024\n",
      "- 2023-11-06 08:36:12: MainProcess:nqcpfem.parameter_search >> DEBUG:parameters: {'mu_sc_val': 6.884944078001299e-22, 'mu_R_val': -46.77103718199609}\n",
      "- 2023-11-06 08:36:12: MainProcess:nqcpfem.fenics >> DEBUG:creating PETSc Matrix\n",
      "- 2023-11-06 08:36:12: MainProcess:nqcpfem.fenics >> DEBUG:gathering constants\n",
      "- 2023-11-06 08:36:12: MainProcess:nqcpfem.fenics >> DEBUG:retrieving parameter and constant dicts\n",
      "- 2023-11-06 08:36:12: MainProcess:nqcpfem.fenics >> DEBUG:updating values\n",
      "- 2023-11-06 08:36:12: MainProcess:nqcpfem.fenics >> DEBUG:retireving energy scale\n",
      "- 2023-11-06 08:36:12: MainProcess:nqcpfem.fenics >> DEBUG:gathering constants complete\n",
      "- 2023-11-06 08:36:12: MainProcess:nqcpfem.fenics >> DEBUG:assembling array\n",
      "- 2023-11-06 08:36:12: MainProcess:nqcpfem.solvers >> DEBUG:solving problem:\n"
     ]
    },
    {
     "name": "stdout",
     "output_type": "stream",
     "text": [
      "137\n",
      "(21008, 21008)\n"
     ]
    },
    {
     "name": "stderr",
     "output_type": "stream",
     "text": [
      "- 2023-11-06 08:36:19: MainProcess:nqcpfem.solvers >> DEBUG: number of converged eigenvectors: 16\n",
      "- 2023-11-06 08:36:23: MainProcess:nqcpfem.parameter_search >> INFO:evaluating at grid point 138/1024\n",
      "- 2023-11-06 08:36:23: MainProcess:nqcpfem.parameter_search >> DEBUG:parameters: {'mu_sc_val': 6.884944078001299e-22, 'mu_R_val': -46.37964774951077}\n",
      "- 2023-11-06 08:36:23: MainProcess:nqcpfem.fenics >> DEBUG:creating PETSc Matrix\n",
      "- 2023-11-06 08:36:23: MainProcess:nqcpfem.fenics >> DEBUG:gathering constants\n",
      "- 2023-11-06 08:36:23: MainProcess:nqcpfem.fenics >> DEBUG:retrieving parameter and constant dicts\n",
      "- 2023-11-06 08:36:23: MainProcess:nqcpfem.fenics >> DEBUG:updating values\n",
      "- 2023-11-06 08:36:23: MainProcess:nqcpfem.fenics >> DEBUG:retireving energy scale\n",
      "- 2023-11-06 08:36:23: MainProcess:nqcpfem.fenics >> DEBUG:gathering constants complete\n",
      "- 2023-11-06 08:36:23: MainProcess:nqcpfem.fenics >> DEBUG:assembling array\n",
      "- 2023-11-06 08:36:23: MainProcess:nqcpfem.solvers >> DEBUG:solving problem:\n"
     ]
    },
    {
     "name": "stdout",
     "output_type": "stream",
     "text": [
      "138\n",
      "(21008, 21008)\n"
     ]
    },
    {
     "name": "stderr",
     "output_type": "stream",
     "text": [
      "- 2023-11-06 08:36:33: MainProcess:nqcpfem.solvers >> DEBUG: number of converged eigenvectors: 16\n",
      "- 2023-11-06 08:36:36: MainProcess:nqcpfem.parameter_search >> INFO:evaluating at grid point 139/1024\n",
      "- 2023-11-06 08:36:36: MainProcess:nqcpfem.parameter_search >> DEBUG:parameters: {'mu_sc_val': 6.884944078001299e-22, 'mu_R_val': -45.98825831702544}\n",
      "- 2023-11-06 08:36:36: MainProcess:nqcpfem.fenics >> DEBUG:creating PETSc Matrix\n",
      "- 2023-11-06 08:36:36: MainProcess:nqcpfem.fenics >> DEBUG:gathering constants\n",
      "- 2023-11-06 08:36:36: MainProcess:nqcpfem.fenics >> DEBUG:retrieving parameter and constant dicts\n",
      "- 2023-11-06 08:36:36: MainProcess:nqcpfem.fenics >> DEBUG:updating values\n",
      "- 2023-11-06 08:36:36: MainProcess:nqcpfem.fenics >> DEBUG:retireving energy scale\n",
      "- 2023-11-06 08:36:36: MainProcess:nqcpfem.fenics >> DEBUG:gathering constants complete\n",
      "- 2023-11-06 08:36:36: MainProcess:nqcpfem.fenics >> DEBUG:assembling array\n"
     ]
    },
    {
     "name": "stdout",
     "output_type": "stream",
     "text": [
      "139\n"
     ]
    },
    {
     "name": "stderr",
     "output_type": "stream",
     "text": [
      "- 2023-11-06 08:36:37: MainProcess:nqcpfem.solvers >> DEBUG:solving problem:\n",
      "- 2023-11-06 08:36:44: MainProcess:nqcpfem.solvers >> DEBUG: number of converged eigenvectors: 16\n"
     ]
    },
    {
     "name": "stdout",
     "output_type": "stream",
     "text": [
      "(21008, 21008)\n"
     ]
    },
    {
     "name": "stderr",
     "output_type": "stream",
     "text": [
      "- 2023-11-06 08:36:49: MainProcess:nqcpfem.parameter_search >> INFO:evaluating at grid point 140/1024\n",
      "- 2023-11-06 08:36:49: MainProcess:nqcpfem.parameter_search >> DEBUG:parameters: {'mu_sc_val': 6.884944078001299e-22, 'mu_R_val': -45.59686888454012}\n",
      "- 2023-11-06 08:36:49: MainProcess:nqcpfem.fenics >> DEBUG:creating PETSc Matrix\n",
      "- 2023-11-06 08:36:49: MainProcess:nqcpfem.fenics >> DEBUG:gathering constants\n",
      "- 2023-11-06 08:36:49: MainProcess:nqcpfem.fenics >> DEBUG:retrieving parameter and constant dicts\n",
      "- 2023-11-06 08:36:49: MainProcess:nqcpfem.fenics >> DEBUG:updating values\n"
     ]
    },
    {
     "name": "stdout",
     "output_type": "stream",
     "text": [
      "140\n"
     ]
    },
    {
     "name": "stderr",
     "output_type": "stream",
     "text": [
      "- 2023-11-06 08:36:49: MainProcess:nqcpfem.fenics >> DEBUG:retireving energy scale\n",
      "- 2023-11-06 08:36:49: MainProcess:nqcpfem.fenics >> DEBUG:gathering constants complete\n",
      "- 2023-11-06 08:36:49: MainProcess:nqcpfem.fenics >> DEBUG:assembling array\n",
      "- 2023-11-06 08:36:50: MainProcess:nqcpfem.solvers >> DEBUG:solving problem:\n"
     ]
    },
    {
     "name": "stdout",
     "output_type": "stream",
     "text": [
      "(21008, 21008)\n"
     ]
    },
    {
     "name": "stderr",
     "output_type": "stream",
     "text": [
      "- 2023-11-06 08:37:01: MainProcess:nqcpfem.solvers >> DEBUG: number of converged eigenvectors: 16\n",
      "- 2023-11-06 08:37:07: MainProcess:nqcpfem.parameter_search >> INFO:evaluating at grid point 141/1024\n",
      "- 2023-11-06 08:37:07: MainProcess:nqcpfem.parameter_search >> DEBUG:parameters: {'mu_sc_val': 6.884944078001299e-22, 'mu_R_val': -45.205479452054796}\n",
      "- 2023-11-06 08:37:08: MainProcess:nqcpfem.fenics >> DEBUG:creating PETSc Matrix\n",
      "- 2023-11-06 08:37:08: MainProcess:nqcpfem.fenics >> DEBUG:gathering constants\n",
      "- 2023-11-06 08:37:08: MainProcess:nqcpfem.fenics >> DEBUG:retrieving parameter and constant dicts\n",
      "- 2023-11-06 08:37:08: MainProcess:nqcpfem.fenics >> DEBUG:updating values\n"
     ]
    },
    {
     "name": "stdout",
     "output_type": "stream",
     "text": [
      "141\n"
     ]
    },
    {
     "name": "stderr",
     "output_type": "stream",
     "text": [
      "- 2023-11-06 08:37:08: MainProcess:nqcpfem.fenics >> DEBUG:retireving energy scale\n",
      "- 2023-11-06 08:37:08: MainProcess:nqcpfem.fenics >> DEBUG:gathering constants complete\n",
      "- 2023-11-06 08:37:08: MainProcess:nqcpfem.fenics >> DEBUG:assembling array\n",
      "- 2023-11-06 08:37:09: MainProcess:nqcpfem.solvers >> DEBUG:solving problem:\n"
     ]
    },
    {
     "name": "stdout",
     "output_type": "stream",
     "text": [
      "(21008, 21008)\n"
     ]
    },
    {
     "name": "stderr",
     "output_type": "stream",
     "text": [
      "- 2023-11-06 08:37:28: MainProcess:nqcpfem.solvers >> DEBUG: number of converged eigenvectors: 16\n",
      "- 2023-11-06 08:37:32: MainProcess:nqcpfem.parameter_search >> INFO:evaluating at grid point 142/1024\n",
      "- 2023-11-06 08:37:32: MainProcess:nqcpfem.parameter_search >> DEBUG:parameters: {'mu_sc_val': 6.884944078001299e-22, 'mu_R_val': -44.81409001956948}\n",
      "- 2023-11-06 08:37:32: MainProcess:nqcpfem.fenics >> DEBUG:creating PETSc Matrix\n",
      "- 2023-11-06 08:37:32: MainProcess:nqcpfem.fenics >> DEBUG:gathering constants\n",
      "- 2023-11-06 08:37:32: MainProcess:nqcpfem.fenics >> DEBUG:retrieving parameter and constant dicts\n",
      "- 2023-11-06 08:37:32: MainProcess:nqcpfem.fenics >> DEBUG:updating values\n",
      "- 2023-11-06 08:37:32: MainProcess:nqcpfem.fenics >> DEBUG:retireving energy scale\n",
      "- 2023-11-06 08:37:32: MainProcess:nqcpfem.fenics >> DEBUG:gathering constants complete\n",
      "- 2023-11-06 08:37:32: MainProcess:nqcpfem.fenics >> DEBUG:assembling array\n"
     ]
    },
    {
     "name": "stdout",
     "output_type": "stream",
     "text": [
      "142\n"
     ]
    },
    {
     "name": "stderr",
     "output_type": "stream",
     "text": [
      "- 2023-11-06 08:37:32: MainProcess:nqcpfem.solvers >> DEBUG:solving problem:\n"
     ]
    },
    {
     "name": "stdout",
     "output_type": "stream",
     "text": [
      "(21008, 21008)\n"
     ]
    },
    {
     "name": "stderr",
     "output_type": "stream",
     "text": [
      "- 2023-11-06 08:37:45: MainProcess:nqcpfem.solvers >> DEBUG: number of converged eigenvectors: 16\n",
      "- 2023-11-06 08:37:48: MainProcess:nqcpfem.parameter_search >> INFO:evaluating at grid point 143/1024\n",
      "- 2023-11-06 08:37:48: MainProcess:nqcpfem.parameter_search >> DEBUG:parameters: {'mu_sc_val': 6.884944078001299e-22, 'mu_R_val': -44.42270058708415}\n",
      "- 2023-11-06 08:37:48: MainProcess:nqcpfem.fenics >> DEBUG:creating PETSc Matrix\n",
      "- 2023-11-06 08:37:48: MainProcess:nqcpfem.fenics >> DEBUG:gathering constants\n",
      "- 2023-11-06 08:37:48: MainProcess:nqcpfem.fenics >> DEBUG:retrieving parameter and constant dicts\n",
      "- 2023-11-06 08:37:48: MainProcess:nqcpfem.fenics >> DEBUG:updating values\n",
      "- 2023-11-06 08:37:48: MainProcess:nqcpfem.fenics >> DEBUG:retireving energy scale\n",
      "- 2023-11-06 08:37:48: MainProcess:nqcpfem.fenics >> DEBUG:gathering constants complete\n",
      "- 2023-11-06 08:37:48: MainProcess:nqcpfem.fenics >> DEBUG:assembling array\n"
     ]
    },
    {
     "name": "stdout",
     "output_type": "stream",
     "text": [
      "143\n"
     ]
    },
    {
     "name": "stderr",
     "output_type": "stream",
     "text": [
      "- 2023-11-06 08:37:48: MainProcess:nqcpfem.solvers >> DEBUG:solving problem:\n",
      "- 2023-11-06 08:37:56: MainProcess:nqcpfem.solvers >> DEBUG: number of converged eigenvectors: 16\n"
     ]
    },
    {
     "name": "stdout",
     "output_type": "stream",
     "text": [
      "(21008, 21008)\n"
     ]
    },
    {
     "name": "stderr",
     "output_type": "stream",
     "text": [
      "- 2023-11-06 08:38:00: MainProcess:nqcpfem.parameter_search >> INFO:evaluating at grid point 144/1024\n",
      "- 2023-11-06 08:38:00: MainProcess:nqcpfem.parameter_search >> DEBUG:parameters: {'mu_sc_val': 6.884944078001299e-22, 'mu_R_val': -44.03131115459883}\n",
      "- 2023-11-06 08:38:00: MainProcess:nqcpfem.fenics >> DEBUG:creating PETSc Matrix\n",
      "- 2023-11-06 08:38:00: MainProcess:nqcpfem.fenics >> DEBUG:gathering constants\n",
      "- 2023-11-06 08:38:00: MainProcess:nqcpfem.fenics >> DEBUG:retrieving parameter and constant dicts\n",
      "- 2023-11-06 08:38:00: MainProcess:nqcpfem.fenics >> DEBUG:updating values\n",
      "- 2023-11-06 08:38:00: MainProcess:nqcpfem.fenics >> DEBUG:retireving energy scale\n",
      "- 2023-11-06 08:38:00: MainProcess:nqcpfem.fenics >> DEBUG:gathering constants complete\n",
      "- 2023-11-06 08:38:00: MainProcess:nqcpfem.fenics >> DEBUG:assembling array\n"
     ]
    },
    {
     "name": "stdout",
     "output_type": "stream",
     "text": [
      "144\n"
     ]
    },
    {
     "name": "stderr",
     "output_type": "stream",
     "text": [
      "- 2023-11-06 08:38:00: MainProcess:nqcpfem.solvers >> DEBUG:solving problem:\n",
      "- 2023-11-06 08:38:11: MainProcess:nqcpfem.solvers >> DEBUG: number of converged eigenvectors: 16\n"
     ]
    },
    {
     "name": "stdout",
     "output_type": "stream",
     "text": [
      "(21008, 21008)\n"
     ]
    },
    {
     "name": "stderr",
     "output_type": "stream",
     "text": [
      "- 2023-11-06 08:38:14: MainProcess:nqcpfem.parameter_search >> INFO:evaluating at grid point 145/1024\n",
      "- 2023-11-06 08:38:14: MainProcess:nqcpfem.parameter_search >> DEBUG:parameters: {'mu_sc_val': 6.884944078001299e-22, 'mu_R_val': -43.639921722113506}\n",
      "- 2023-11-06 08:38:14: MainProcess:nqcpfem.fenics >> DEBUG:creating PETSc Matrix\n",
      "- 2023-11-06 08:38:14: MainProcess:nqcpfem.fenics >> DEBUG:gathering constants\n",
      "- 2023-11-06 08:38:14: MainProcess:nqcpfem.fenics >> DEBUG:retrieving parameter and constant dicts\n",
      "- 2023-11-06 08:38:14: MainProcess:nqcpfem.fenics >> DEBUG:updating values\n",
      "- 2023-11-06 08:38:14: MainProcess:nqcpfem.fenics >> DEBUG:retireving energy scale\n",
      "- 2023-11-06 08:38:14: MainProcess:nqcpfem.fenics >> DEBUG:gathering constants complete\n",
      "- 2023-11-06 08:38:14: MainProcess:nqcpfem.fenics >> DEBUG:assembling array\n",
      "- 2023-11-06 08:38:14: MainProcess:nqcpfem.solvers >> DEBUG:solving problem:\n"
     ]
    },
    {
     "name": "stdout",
     "output_type": "stream",
     "text": [
      "145\n",
      "(21008, 21008)\n"
     ]
    },
    {
     "name": "stderr",
     "output_type": "stream",
     "text": [
      "- 2023-11-06 08:38:23: MainProcess:nqcpfem.solvers >> DEBUG: number of converged eigenvectors: 16\n",
      "- 2023-11-06 08:38:26: MainProcess:nqcpfem.parameter_search >> INFO:evaluating at grid point 146/1024\n",
      "- 2023-11-06 08:38:26: MainProcess:nqcpfem.parameter_search >> DEBUG:parameters: {'mu_sc_val': 6.884944078001299e-22, 'mu_R_val': -43.24853228962818}\n",
      "- 2023-11-06 08:38:26: MainProcess:nqcpfem.fenics >> DEBUG:creating PETSc Matrix\n",
      "- 2023-11-06 08:38:26: MainProcess:nqcpfem.fenics >> DEBUG:gathering constants\n",
      "- 2023-11-06 08:38:26: MainProcess:nqcpfem.fenics >> DEBUG:retrieving parameter and constant dicts\n",
      "- 2023-11-06 08:38:26: MainProcess:nqcpfem.fenics >> DEBUG:updating values\n",
      "- 2023-11-06 08:38:26: MainProcess:nqcpfem.fenics >> DEBUG:retireving energy scale\n",
      "- 2023-11-06 08:38:26: MainProcess:nqcpfem.fenics >> DEBUG:gathering constants complete\n"
     ]
    },
    {
     "name": "stdout",
     "output_type": "stream",
     "text": [
      "146\n"
     ]
    },
    {
     "name": "stderr",
     "output_type": "stream",
     "text": [
      "- 2023-11-06 08:38:26: MainProcess:nqcpfem.fenics >> DEBUG:assembling array\n",
      "- 2023-11-06 08:38:27: MainProcess:nqcpfem.solvers >> DEBUG:solving problem:\n",
      "- 2023-11-06 08:38:37: MainProcess:nqcpfem.solvers >> DEBUG: number of converged eigenvectors: 16\n"
     ]
    },
    {
     "name": "stdout",
     "output_type": "stream",
     "text": [
      "(21008, 21008)\n"
     ]
    },
    {
     "name": "stderr",
     "output_type": "stream",
     "text": [
      "- 2023-11-06 08:38:41: MainProcess:nqcpfem.parameter_search >> INFO:evaluating at grid point 147/1024\n",
      "- 2023-11-06 08:38:41: MainProcess:nqcpfem.parameter_search >> DEBUG:parameters: {'mu_sc_val': 6.884944078001299e-22, 'mu_R_val': -42.85714285714286}\n",
      "- 2023-11-06 08:38:41: MainProcess:nqcpfem.fenics >> DEBUG:creating PETSc Matrix\n",
      "- 2023-11-06 08:38:41: MainProcess:nqcpfem.fenics >> DEBUG:gathering constants\n",
      "- 2023-11-06 08:38:41: MainProcess:nqcpfem.fenics >> DEBUG:retrieving parameter and constant dicts\n",
      "- 2023-11-06 08:38:41: MainProcess:nqcpfem.fenics >> DEBUG:updating values\n",
      "- 2023-11-06 08:38:41: MainProcess:nqcpfem.fenics >> DEBUG:retireving energy scale\n",
      "- 2023-11-06 08:38:41: MainProcess:nqcpfem.fenics >> DEBUG:gathering constants complete\n",
      "- 2023-11-06 08:38:41: MainProcess:nqcpfem.fenics >> DEBUG:assembling array\n"
     ]
    },
    {
     "name": "stdout",
     "output_type": "stream",
     "text": [
      "147\n"
     ]
    },
    {
     "name": "stderr",
     "output_type": "stream",
     "text": [
      "- 2023-11-06 08:38:42: MainProcess:nqcpfem.solvers >> DEBUG:solving problem:\n",
      "- 2023-11-06 08:38:52: MainProcess:nqcpfem.solvers >> DEBUG: number of converged eigenvectors: 16\n"
     ]
    },
    {
     "name": "stdout",
     "output_type": "stream",
     "text": [
      "(21008, 21008)\n"
     ]
    },
    {
     "name": "stderr",
     "output_type": "stream",
     "text": [
      "- 2023-11-06 08:38:56: MainProcess:nqcpfem.parameter_search >> INFO:evaluating at grid point 148/1024\n",
      "- 2023-11-06 08:38:56: MainProcess:nqcpfem.parameter_search >> DEBUG:parameters: {'mu_sc_val': 6.884944078001299e-22, 'mu_R_val': -42.465753424657535}\n",
      "- 2023-11-06 08:38:56: MainProcess:nqcpfem.fenics >> DEBUG:creating PETSc Matrix\n",
      "- 2023-11-06 08:38:56: MainProcess:nqcpfem.fenics >> DEBUG:gathering constants\n",
      "- 2023-11-06 08:38:56: MainProcess:nqcpfem.fenics >> DEBUG:retrieving parameter and constant dicts\n",
      "- 2023-11-06 08:38:56: MainProcess:nqcpfem.fenics >> DEBUG:updating values\n",
      "- 2023-11-06 08:38:56: MainProcess:nqcpfem.fenics >> DEBUG:retireving energy scale\n",
      "- 2023-11-06 08:38:56: MainProcess:nqcpfem.fenics >> DEBUG:gathering constants complete\n",
      "- 2023-11-06 08:38:56: MainProcess:nqcpfem.fenics >> DEBUG:assembling array\n"
     ]
    },
    {
     "name": "stdout",
     "output_type": "stream",
     "text": [
      "148\n"
     ]
    },
    {
     "name": "stderr",
     "output_type": "stream",
     "text": [
      "- 2023-11-06 08:38:56: MainProcess:nqcpfem.solvers >> DEBUG:solving problem:\n",
      "- 2023-11-06 08:39:08: MainProcess:nqcpfem.solvers >> DEBUG: number of converged eigenvectors: 16\n"
     ]
    },
    {
     "name": "stdout",
     "output_type": "stream",
     "text": [
      "(21008, 21008)\n"
     ]
    },
    {
     "name": "stderr",
     "output_type": "stream",
     "text": [
      "- 2023-11-06 08:39:13: MainProcess:nqcpfem.parameter_search >> INFO:evaluating at grid point 149/1024\n",
      "- 2023-11-06 08:39:13: MainProcess:nqcpfem.parameter_search >> DEBUG:parameters: {'mu_sc_val': 6.884944078001299e-22, 'mu_R_val': -42.074363992172216}\n",
      "- 2023-11-06 08:39:13: MainProcess:nqcpfem.fenics >> DEBUG:creating PETSc Matrix\n",
      "- 2023-11-06 08:39:13: MainProcess:nqcpfem.fenics >> DEBUG:gathering constants\n",
      "- 2023-11-06 08:39:13: MainProcess:nqcpfem.fenics >> DEBUG:retrieving parameter and constant dicts\n",
      "- 2023-11-06 08:39:13: MainProcess:nqcpfem.fenics >> DEBUG:updating values\n"
     ]
    },
    {
     "name": "stdout",
     "output_type": "stream",
     "text": [
      "149\n"
     ]
    },
    {
     "name": "stderr",
     "output_type": "stream",
     "text": [
      "- 2023-11-06 08:39:13: MainProcess:nqcpfem.fenics >> DEBUG:retireving energy scale\n",
      "- 2023-11-06 08:39:13: MainProcess:nqcpfem.fenics >> DEBUG:gathering constants complete\n",
      "- 2023-11-06 08:39:13: MainProcess:nqcpfem.fenics >> DEBUG:assembling array\n",
      "- 2023-11-06 08:39:14: MainProcess:nqcpfem.solvers >> DEBUG:solving problem:\n",
      "- 2023-11-06 08:39:22: MainProcess:nqcpfem.solvers >> DEBUG: number of converged eigenvectors: 16\n"
     ]
    },
    {
     "name": "stdout",
     "output_type": "stream",
     "text": [
      "(21008, 21008)\n"
     ]
    },
    {
     "name": "stderr",
     "output_type": "stream",
     "text": [
      "- 2023-11-06 08:39:26: MainProcess:nqcpfem.parameter_search >> INFO:evaluating at grid point 150/1024\n",
      "- 2023-11-06 08:39:26: MainProcess:nqcpfem.parameter_search >> DEBUG:parameters: {'mu_sc_val': 6.884944078001299e-22, 'mu_R_val': -41.68297455968689}\n",
      "- 2023-11-06 08:39:26: MainProcess:nqcpfem.fenics >> DEBUG:creating PETSc Matrix\n",
      "- 2023-11-06 08:39:26: MainProcess:nqcpfem.fenics >> DEBUG:gathering constants\n",
      "- 2023-11-06 08:39:26: MainProcess:nqcpfem.fenics >> DEBUG:retrieving parameter and constant dicts\n",
      "- 2023-11-06 08:39:26: MainProcess:nqcpfem.fenics >> DEBUG:updating values\n",
      "- 2023-11-06 08:39:26: MainProcess:nqcpfem.fenics >> DEBUG:retireving energy scale\n",
      "- 2023-11-06 08:39:26: MainProcess:nqcpfem.fenics >> DEBUG:gathering constants complete\n",
      "- 2023-11-06 08:39:26: MainProcess:nqcpfem.fenics >> DEBUG:assembling array\n"
     ]
    },
    {
     "name": "stdout",
     "output_type": "stream",
     "text": [
      "150\n"
     ]
    },
    {
     "name": "stderr",
     "output_type": "stream",
     "text": [
      "- 2023-11-06 08:39:26: MainProcess:nqcpfem.solvers >> DEBUG:solving problem:\n",
      "- 2023-11-06 08:39:36: MainProcess:nqcpfem.solvers >> DEBUG: number of converged eigenvectors: 16\n"
     ]
    },
    {
     "name": "stdout",
     "output_type": "stream",
     "text": [
      "(21008, 21008)\n"
     ]
    },
    {
     "name": "stderr",
     "output_type": "stream",
     "text": [
      "- 2023-11-06 08:39:39: MainProcess:nqcpfem.parameter_search >> INFO:evaluating at grid point 151/1024\n",
      "- 2023-11-06 08:39:39: MainProcess:nqcpfem.parameter_search >> DEBUG:parameters: {'mu_sc_val': 6.884944078001299e-22, 'mu_R_val': -41.29158512720157}\n",
      "- 2023-11-06 08:39:39: MainProcess:nqcpfem.fenics >> DEBUG:creating PETSc Matrix\n",
      "- 2023-11-06 08:39:39: MainProcess:nqcpfem.fenics >> DEBUG:gathering constants\n",
      "- 2023-11-06 08:39:39: MainProcess:nqcpfem.fenics >> DEBUG:retrieving parameter and constant dicts\n",
      "- 2023-11-06 08:39:39: MainProcess:nqcpfem.fenics >> DEBUG:updating values\n",
      "- 2023-11-06 08:39:39: MainProcess:nqcpfem.fenics >> DEBUG:retireving energy scale\n",
      "- 2023-11-06 08:39:39: MainProcess:nqcpfem.fenics >> DEBUG:gathering constants complete\n",
      "- 2023-11-06 08:39:39: MainProcess:nqcpfem.fenics >> DEBUG:assembling array\n",
      "- 2023-11-06 08:39:39: MainProcess:nqcpfem.solvers >> DEBUG:solving problem:\n"
     ]
    },
    {
     "name": "stdout",
     "output_type": "stream",
     "text": [
      "151\n",
      "(21008, 21008)\n"
     ]
    },
    {
     "name": "stderr",
     "output_type": "stream",
     "text": [
      "- 2023-11-06 08:39:46: MainProcess:nqcpfem.solvers >> DEBUG: number of converged eigenvectors: 16\n",
      "- 2023-11-06 08:39:50: MainProcess:nqcpfem.parameter_search >> INFO:evaluating at grid point 152/1024\n",
      "- 2023-11-06 08:39:50: MainProcess:nqcpfem.parameter_search >> DEBUG:parameters: {'mu_sc_val': 6.884944078001299e-22, 'mu_R_val': -40.900195694716245}\n",
      "- 2023-11-06 08:39:50: MainProcess:nqcpfem.fenics >> DEBUG:creating PETSc Matrix\n",
      "- 2023-11-06 08:39:50: MainProcess:nqcpfem.fenics >> DEBUG:gathering constants\n",
      "- 2023-11-06 08:39:50: MainProcess:nqcpfem.fenics >> DEBUG:retrieving parameter and constant dicts\n",
      "- 2023-11-06 08:39:50: MainProcess:nqcpfem.fenics >> DEBUG:updating values\n",
      "- 2023-11-06 08:39:50: MainProcess:nqcpfem.fenics >> DEBUG:retireving energy scale\n",
      "- 2023-11-06 08:39:50: MainProcess:nqcpfem.fenics >> DEBUG:gathering constants complete\n",
      "- 2023-11-06 08:39:50: MainProcess:nqcpfem.fenics >> DEBUG:assembling array\n"
     ]
    },
    {
     "name": "stdout",
     "output_type": "stream",
     "text": [
      "152\n"
     ]
    },
    {
     "name": "stderr",
     "output_type": "stream",
     "text": [
      "- 2023-11-06 08:39:50: MainProcess:nqcpfem.solvers >> DEBUG:solving problem:\n",
      "- 2023-11-06 08:39:57: MainProcess:nqcpfem.solvers >> DEBUG: number of converged eigenvectors: 16\n"
     ]
    },
    {
     "name": "stdout",
     "output_type": "stream",
     "text": [
      "(21008, 21008)\n"
     ]
    },
    {
     "name": "stderr",
     "output_type": "stream",
     "text": [
      "- 2023-11-06 08:40:02: MainProcess:nqcpfem.parameter_search >> INFO:evaluating at grid point 153/1024\n",
      "- 2023-11-06 08:40:02: MainProcess:nqcpfem.parameter_search >> DEBUG:parameters: {'mu_sc_val': 6.884944078001299e-22, 'mu_R_val': -40.50880626223092}\n",
      "- 2023-11-06 08:40:02: MainProcess:nqcpfem.fenics >> DEBUG:creating PETSc Matrix\n",
      "- 2023-11-06 08:40:02: MainProcess:nqcpfem.fenics >> DEBUG:gathering constants\n",
      "- 2023-11-06 08:40:02: MainProcess:nqcpfem.fenics >> DEBUG:retrieving parameter and constant dicts\n",
      "- 2023-11-06 08:40:02: MainProcess:nqcpfem.fenics >> DEBUG:updating values\n"
     ]
    },
    {
     "name": "stdout",
     "output_type": "stream",
     "text": [
      "153\n"
     ]
    },
    {
     "name": "stderr",
     "output_type": "stream",
     "text": [
      "- 2023-11-06 08:40:02: MainProcess:nqcpfem.fenics >> DEBUG:retireving energy scale\n",
      "- 2023-11-06 08:40:03: MainProcess:nqcpfem.fenics >> DEBUG:gathering constants complete\n",
      "- 2023-11-06 08:40:03: MainProcess:nqcpfem.fenics >> DEBUG:assembling array\n",
      "- 2023-11-06 08:40:03: MainProcess:nqcpfem.solvers >> DEBUG:solving problem:\n",
      "- 2023-11-06 08:40:15: MainProcess:nqcpfem.solvers >> DEBUG: number of converged eigenvectors: 16\n"
     ]
    },
    {
     "name": "stdout",
     "output_type": "stream",
     "text": [
      "(21008, 21008)\n"
     ]
    },
    {
     "name": "stderr",
     "output_type": "stream",
     "text": [
      "- 2023-11-06 08:40:20: MainProcess:nqcpfem.parameter_search >> INFO:evaluating at grid point 154/1024\n",
      "- 2023-11-06 08:40:20: MainProcess:nqcpfem.parameter_search >> DEBUG:parameters: {'mu_sc_val': 6.884944078001299e-22, 'mu_R_val': -40.1174168297456}\n",
      "- 2023-11-06 08:40:20: MainProcess:nqcpfem.fenics >> DEBUG:creating PETSc Matrix\n",
      "- 2023-11-06 08:40:20: MainProcess:nqcpfem.fenics >> DEBUG:gathering constants\n",
      "- 2023-11-06 08:40:20: MainProcess:nqcpfem.fenics >> DEBUG:retrieving parameter and constant dicts\n",
      "- 2023-11-06 08:40:20: MainProcess:nqcpfem.fenics >> DEBUG:updating values\n",
      "- 2023-11-06 08:40:20: MainProcess:nqcpfem.fenics >> DEBUG:retireving energy scale\n",
      "- 2023-11-06 08:40:20: MainProcess:nqcpfem.fenics >> DEBUG:gathering constants complete\n",
      "- 2023-11-06 08:40:20: MainProcess:nqcpfem.fenics >> DEBUG:assembling array\n"
     ]
    },
    {
     "name": "stdout",
     "output_type": "stream",
     "text": [
      "154\n"
     ]
    },
    {
     "name": "stderr",
     "output_type": "stream",
     "text": [
      "- 2023-11-06 08:40:21: MainProcess:nqcpfem.solvers >> DEBUG:solving problem:\n",
      "- 2023-11-06 08:40:29: MainProcess:nqcpfem.solvers >> DEBUG: number of converged eigenvectors: 16\n"
     ]
    },
    {
     "name": "stdout",
     "output_type": "stream",
     "text": [
      "(21008, 21008)\n"
     ]
    },
    {
     "name": "stderr",
     "output_type": "stream",
     "text": [
      "- 2023-11-06 08:40:34: MainProcess:nqcpfem.parameter_search >> INFO:evaluating at grid point 155/1024\n",
      "- 2023-11-06 08:40:34: MainProcess:nqcpfem.parameter_search >> DEBUG:parameters: {'mu_sc_val': 6.884944078001299e-22, 'mu_R_val': -39.726027397260275}\n",
      "- 2023-11-06 08:40:34: MainProcess:nqcpfem.fenics >> DEBUG:creating PETSc Matrix\n",
      "- 2023-11-06 08:40:34: MainProcess:nqcpfem.fenics >> DEBUG:gathering constants\n",
      "- 2023-11-06 08:40:34: MainProcess:nqcpfem.fenics >> DEBUG:retrieving parameter and constant dicts\n",
      "- 2023-11-06 08:40:34: MainProcess:nqcpfem.fenics >> DEBUG:updating values\n",
      "- 2023-11-06 08:40:34: MainProcess:nqcpfem.fenics >> DEBUG:retireving energy scale\n",
      "- 2023-11-06 08:40:34: MainProcess:nqcpfem.fenics >> DEBUG:gathering constants complete\n",
      "- 2023-11-06 08:40:34: MainProcess:nqcpfem.fenics >> DEBUG:assembling array\n"
     ]
    },
    {
     "name": "stdout",
     "output_type": "stream",
     "text": [
      "155\n"
     ]
    },
    {
     "name": "stderr",
     "output_type": "stream",
     "text": [
      "- 2023-11-06 08:40:35: MainProcess:nqcpfem.solvers >> DEBUG:solving problem:\n",
      "- 2023-11-06 08:40:46: MainProcess:nqcpfem.solvers >> DEBUG: number of converged eigenvectors: 16\n"
     ]
    },
    {
     "name": "stdout",
     "output_type": "stream",
     "text": [
      "(21008, 21008)\n"
     ]
    },
    {
     "name": "stderr",
     "output_type": "stream",
     "text": [
      "- 2023-11-06 08:40:52: MainProcess:nqcpfem.parameter_search >> INFO:evaluating at grid point 156/1024\n",
      "- 2023-11-06 08:40:52: MainProcess:nqcpfem.parameter_search >> DEBUG:parameters: {'mu_sc_val': 6.884944078001299e-22, 'mu_R_val': -39.334637964774956}\n",
      "- 2023-11-06 08:40:52: MainProcess:nqcpfem.fenics >> DEBUG:creating PETSc Matrix\n",
      "- 2023-11-06 08:40:52: MainProcess:nqcpfem.fenics >> DEBUG:gathering constants\n",
      "- 2023-11-06 08:40:52: MainProcess:nqcpfem.fenics >> DEBUG:retrieving parameter and constant dicts\n",
      "- 2023-11-06 08:40:52: MainProcess:nqcpfem.fenics >> DEBUG:updating values\n"
     ]
    },
    {
     "name": "stdout",
     "output_type": "stream",
     "text": [
      "156\n"
     ]
    },
    {
     "name": "stderr",
     "output_type": "stream",
     "text": [
      "- 2023-11-06 08:40:52: MainProcess:nqcpfem.fenics >> DEBUG:retireving energy scale\n",
      "- 2023-11-06 08:40:52: MainProcess:nqcpfem.fenics >> DEBUG:gathering constants complete\n",
      "- 2023-11-06 08:40:53: MainProcess:nqcpfem.fenics >> DEBUG:assembling array\n",
      "- 2023-11-06 08:40:53: MainProcess:nqcpfem.solvers >> DEBUG:solving problem:\n",
      "- 2023-11-06 08:41:09: MainProcess:nqcpfem.solvers >> DEBUG: number of converged eigenvectors: 16\n"
     ]
    },
    {
     "name": "stdout",
     "output_type": "stream",
     "text": [
      "(21008, 21008)\n"
     ]
    },
    {
     "name": "stderr",
     "output_type": "stream",
     "text": [
      "- 2023-11-06 08:41:12: MainProcess:nqcpfem.parameter_search >> INFO:evaluating at grid point 157/1024\n",
      "- 2023-11-06 08:41:12: MainProcess:nqcpfem.parameter_search >> DEBUG:parameters: {'mu_sc_val': 6.884944078001299e-22, 'mu_R_val': -38.94324853228963}\n",
      "- 2023-11-06 08:41:12: MainProcess:nqcpfem.fenics >> DEBUG:creating PETSc Matrix\n",
      "- 2023-11-06 08:41:12: MainProcess:nqcpfem.fenics >> DEBUG:gathering constants\n",
      "- 2023-11-06 08:41:12: MainProcess:nqcpfem.fenics >> DEBUG:retrieving parameter and constant dicts\n",
      "- 2023-11-06 08:41:12: MainProcess:nqcpfem.fenics >> DEBUG:updating values\n",
      "- 2023-11-06 08:41:12: MainProcess:nqcpfem.fenics >> DEBUG:retireving energy scale\n",
      "- 2023-11-06 08:41:12: MainProcess:nqcpfem.fenics >> DEBUG:gathering constants complete\n",
      "- 2023-11-06 08:41:12: MainProcess:nqcpfem.fenics >> DEBUG:assembling array\n"
     ]
    },
    {
     "name": "stdout",
     "output_type": "stream",
     "text": [
      "157\n"
     ]
    },
    {
     "name": "stderr",
     "output_type": "stream",
     "text": [
      "- 2023-11-06 08:41:12: MainProcess:nqcpfem.solvers >> DEBUG:solving problem:\n",
      "- 2023-11-06 08:41:21: MainProcess:nqcpfem.solvers >> DEBUG: number of converged eigenvectors: 16\n"
     ]
    },
    {
     "name": "stdout",
     "output_type": "stream",
     "text": [
      "(21008, 21008)\n"
     ]
    },
    {
     "name": "stderr",
     "output_type": "stream",
     "text": [
      "- 2023-11-06 08:41:25: MainProcess:nqcpfem.parameter_search >> INFO:evaluating at grid point 158/1024\n",
      "- 2023-11-06 08:41:25: MainProcess:nqcpfem.parameter_search >> DEBUG:parameters: {'mu_sc_val': 6.884944078001299e-22, 'mu_R_val': -38.55185909980431}\n",
      "- 2023-11-06 08:41:25: MainProcess:nqcpfem.fenics >> DEBUG:creating PETSc Matrix\n",
      "- 2023-11-06 08:41:25: MainProcess:nqcpfem.fenics >> DEBUG:gathering constants\n",
      "- 2023-11-06 08:41:25: MainProcess:nqcpfem.fenics >> DEBUG:retrieving parameter and constant dicts\n",
      "- 2023-11-06 08:41:25: MainProcess:nqcpfem.fenics >> DEBUG:updating values\n",
      "- 2023-11-06 08:41:25: MainProcess:nqcpfem.fenics >> DEBUG:retireving energy scale\n",
      "- 2023-11-06 08:41:25: MainProcess:nqcpfem.fenics >> DEBUG:gathering constants complete\n",
      "- 2023-11-06 08:41:25: MainProcess:nqcpfem.fenics >> DEBUG:assembling array\n"
     ]
    },
    {
     "name": "stdout",
     "output_type": "stream",
     "text": [
      "158\n"
     ]
    },
    {
     "name": "stderr",
     "output_type": "stream",
     "text": [
      "- 2023-11-06 08:41:25: MainProcess:nqcpfem.solvers >> DEBUG:solving problem:\n",
      "- 2023-11-06 08:41:35: MainProcess:nqcpfem.solvers >> DEBUG: number of converged eigenvectors: 16\n"
     ]
    },
    {
     "name": "stdout",
     "output_type": "stream",
     "text": [
      "(21008, 21008)\n"
     ]
    },
    {
     "name": "stderr",
     "output_type": "stream",
     "text": [
      "- 2023-11-06 08:41:40: MainProcess:nqcpfem.parameter_search >> INFO:evaluating at grid point 159/1024\n",
      "- 2023-11-06 08:41:40: MainProcess:nqcpfem.parameter_search >> DEBUG:parameters: {'mu_sc_val': 6.884944078001299e-22, 'mu_R_val': -38.160469667318985}\n",
      "- 2023-11-06 08:41:40: MainProcess:nqcpfem.fenics >> DEBUG:creating PETSc Matrix\n",
      "- 2023-11-06 08:41:40: MainProcess:nqcpfem.fenics >> DEBUG:gathering constants\n",
      "- 2023-11-06 08:41:40: MainProcess:nqcpfem.fenics >> DEBUG:retrieving parameter and constant dicts\n",
      "- 2023-11-06 08:41:40: MainProcess:nqcpfem.fenics >> DEBUG:updating values\n",
      "- 2023-11-06 08:41:40: MainProcess:nqcpfem.fenics >> DEBUG:retireving energy scale\n",
      "- 2023-11-06 08:41:40: MainProcess:nqcpfem.fenics >> DEBUG:gathering constants complete\n",
      "- 2023-11-06 08:41:40: MainProcess:nqcpfem.fenics >> DEBUG:assembling array\n",
      "- 2023-11-06 08:41:40: MainProcess:nqcpfem.solvers >> DEBUG:solving problem:\n"
     ]
    },
    {
     "name": "stdout",
     "output_type": "stream",
     "text": [
      "159\n",
      "(21008, 21008)\n"
     ]
    },
    {
     "name": "stderr",
     "output_type": "stream",
     "text": [
      "- 2023-11-06 08:41:52: MainProcess:nqcpfem.solvers >> DEBUG: number of converged eigenvectors: 16\n",
      "- 2023-11-06 08:41:56: MainProcess:nqcpfem.parameter_search >> INFO:evaluating at grid point 160/1024\n",
      "- 2023-11-06 08:41:56: MainProcess:nqcpfem.parameter_search >> DEBUG:parameters: {'mu_sc_val': 6.884944078001299e-22, 'mu_R_val': -37.769080234833666}\n",
      "- 2023-11-06 08:41:56: MainProcess:nqcpfem.fenics >> DEBUG:creating PETSc Matrix\n",
      "- 2023-11-06 08:41:56: MainProcess:nqcpfem.fenics >> DEBUG:gathering constants\n",
      "- 2023-11-06 08:41:56: MainProcess:nqcpfem.fenics >> DEBUG:retrieving parameter and constant dicts\n",
      "- 2023-11-06 08:41:56: MainProcess:nqcpfem.fenics >> DEBUG:updating values\n",
      "- 2023-11-06 08:41:56: MainProcess:nqcpfem.fenics >> DEBUG:retireving energy scale\n",
      "- 2023-11-06 08:41:56: MainProcess:nqcpfem.fenics >> DEBUG:gathering constants complete\n",
      "- 2023-11-06 08:41:56: MainProcess:nqcpfem.fenics >> DEBUG:assembling array\n"
     ]
    },
    {
     "name": "stdout",
     "output_type": "stream",
     "text": [
      "160\n"
     ]
    },
    {
     "name": "stderr",
     "output_type": "stream",
     "text": [
      "- 2023-11-06 08:41:56: MainProcess:nqcpfem.solvers >> DEBUG:solving problem:\n",
      "- 2023-11-06 08:42:08: MainProcess:nqcpfem.solvers >> DEBUG: number of converged eigenvectors: 16\n"
     ]
    },
    {
     "name": "stdout",
     "output_type": "stream",
     "text": [
      "(21008, 21008)\n"
     ]
    },
    {
     "name": "stderr",
     "output_type": "stream",
     "text": [
      "- 2023-11-06 08:42:12: MainProcess:nqcpfem.parameter_search >> INFO:evaluating at grid point 161/1024\n",
      "- 2023-11-06 08:42:12: MainProcess:nqcpfem.parameter_search >> DEBUG:parameters: {'mu_sc_val': 6.884944078001299e-22, 'mu_R_val': -37.37769080234834}\n",
      "- 2023-11-06 08:42:12: MainProcess:nqcpfem.fenics >> DEBUG:creating PETSc Matrix\n",
      "- 2023-11-06 08:42:12: MainProcess:nqcpfem.fenics >> DEBUG:gathering constants\n",
      "- 2023-11-06 08:42:12: MainProcess:nqcpfem.fenics >> DEBUG:retrieving parameter and constant dicts\n",
      "- 2023-11-06 08:42:12: MainProcess:nqcpfem.fenics >> DEBUG:updating values\n",
      "- 2023-11-06 08:42:12: MainProcess:nqcpfem.fenics >> DEBUG:retireving energy scale\n",
      "- 2023-11-06 08:42:12: MainProcess:nqcpfem.fenics >> DEBUG:gathering constants complete\n",
      "- 2023-11-06 08:42:12: MainProcess:nqcpfem.fenics >> DEBUG:assembling array\n"
     ]
    },
    {
     "name": "stdout",
     "output_type": "stream",
     "text": [
      "161\n"
     ]
    },
    {
     "name": "stderr",
     "output_type": "stream",
     "text": [
      "- 2023-11-06 08:42:13: MainProcess:nqcpfem.solvers >> DEBUG:solving problem:\n",
      "- 2023-11-06 08:42:25: MainProcess:nqcpfem.solvers >> DEBUG: number of converged eigenvectors: 16\n"
     ]
    },
    {
     "name": "stdout",
     "output_type": "stream",
     "text": [
      "(21008, 21008)\n"
     ]
    },
    {
     "name": "stderr",
     "output_type": "stream",
     "text": [
      "- 2023-11-06 08:42:34: MainProcess:nqcpfem.parameter_search >> INFO:evaluating at grid point 162/1024\n",
      "- 2023-11-06 08:42:34: MainProcess:nqcpfem.parameter_search >> DEBUG:parameters: {'mu_sc_val': 6.884944078001299e-22, 'mu_R_val': -36.986301369863014}\n",
      "- 2023-11-06 08:42:34: MainProcess:nqcpfem.fenics >> DEBUG:creating PETSc Matrix\n",
      "- 2023-11-06 08:42:34: MainProcess:nqcpfem.fenics >> DEBUG:gathering constants\n",
      "- 2023-11-06 08:42:34: MainProcess:nqcpfem.fenics >> DEBUG:retrieving parameter and constant dicts\n",
      "- 2023-11-06 08:42:34: MainProcess:nqcpfem.fenics >> DEBUG:updating values\n"
     ]
    },
    {
     "name": "stdout",
     "output_type": "stream",
     "text": [
      "162\n"
     ]
    },
    {
     "name": "stderr",
     "output_type": "stream",
     "text": [
      "- 2023-11-06 08:42:34: MainProcess:nqcpfem.fenics >> DEBUG:retireving energy scale\n",
      "- 2023-11-06 08:42:34: MainProcess:nqcpfem.fenics >> DEBUG:gathering constants complete\n",
      "- 2023-11-06 08:42:35: MainProcess:nqcpfem.fenics >> DEBUG:assembling array\n",
      "- 2023-11-06 08:42:35: MainProcess:nqcpfem.solvers >> DEBUG:solving problem:\n",
      "- 2023-11-06 08:42:59: MainProcess:nqcpfem.solvers >> DEBUG: number of converged eigenvectors: 16\n"
     ]
    },
    {
     "name": "stdout",
     "output_type": "stream",
     "text": [
      "(21008, 21008)\n"
     ]
    },
    {
     "name": "stderr",
     "output_type": "stream",
     "text": [
      "- 2023-11-06 08:43:03: MainProcess:nqcpfem.parameter_search >> INFO:evaluating at grid point 163/1024\n",
      "- 2023-11-06 08:43:03: MainProcess:nqcpfem.parameter_search >> DEBUG:parameters: {'mu_sc_val': 6.884944078001299e-22, 'mu_R_val': -36.594911937377695}\n",
      "- 2023-11-06 08:43:03: MainProcess:nqcpfem.fenics >> DEBUG:creating PETSc Matrix\n",
      "- 2023-11-06 08:43:03: MainProcess:nqcpfem.fenics >> DEBUG:gathering constants\n",
      "- 2023-11-06 08:43:03: MainProcess:nqcpfem.fenics >> DEBUG:retrieving parameter and constant dicts\n",
      "- 2023-11-06 08:43:03: MainProcess:nqcpfem.fenics >> DEBUG:updating values\n",
      "- 2023-11-06 08:43:03: MainProcess:nqcpfem.fenics >> DEBUG:retireving energy scale\n",
      "- 2023-11-06 08:43:03: MainProcess:nqcpfem.fenics >> DEBUG:gathering constants complete\n",
      "- 2023-11-06 08:43:03: MainProcess:nqcpfem.fenics >> DEBUG:assembling array\n"
     ]
    },
    {
     "name": "stdout",
     "output_type": "stream",
     "text": [
      "163\n"
     ]
    },
    {
     "name": "stderr",
     "output_type": "stream",
     "text": [
      "- 2023-11-06 08:43:03: MainProcess:nqcpfem.solvers >> DEBUG:solving problem:\n"
     ]
    },
    {
     "name": "stdout",
     "output_type": "stream",
     "text": [
      "(21008, 21008)\n"
     ]
    },
    {
     "name": "stderr",
     "output_type": "stream",
     "text": [
      "- 2023-11-06 08:43:15: MainProcess:nqcpfem.solvers >> DEBUG: number of converged eigenvectors: 16\n",
      "- 2023-11-06 08:43:19: MainProcess:nqcpfem.parameter_search >> INFO:evaluating at grid point 164/1024\n",
      "- 2023-11-06 08:43:19: MainProcess:nqcpfem.parameter_search >> DEBUG:parameters: {'mu_sc_val': 6.884944078001299e-22, 'mu_R_val': -36.20352250489237}\n",
      "- 2023-11-06 08:43:19: MainProcess:nqcpfem.fenics >> DEBUG:creating PETSc Matrix\n",
      "- 2023-11-06 08:43:19: MainProcess:nqcpfem.fenics >> DEBUG:gathering constants\n",
      "- 2023-11-06 08:43:19: MainProcess:nqcpfem.fenics >> DEBUG:retrieving parameter and constant dicts\n",
      "- 2023-11-06 08:43:19: MainProcess:nqcpfem.fenics >> DEBUG:updating values\n",
      "- 2023-11-06 08:43:19: MainProcess:nqcpfem.fenics >> DEBUG:retireving energy scale\n",
      "- 2023-11-06 08:43:19: MainProcess:nqcpfem.fenics >> DEBUG:gathering constants complete\n",
      "- 2023-11-06 08:43:19: MainProcess:nqcpfem.fenics >> DEBUG:assembling array\n",
      "- 2023-11-06 08:43:19: MainProcess:nqcpfem.solvers >> DEBUG:solving problem:\n"
     ]
    },
    {
     "name": "stdout",
     "output_type": "stream",
     "text": [
      "164\n",
      "(21008, 21008)\n"
     ]
    },
    {
     "name": "stderr",
     "output_type": "stream",
     "text": [
      "- 2023-11-06 08:43:27: MainProcess:nqcpfem.solvers >> DEBUG: number of converged eigenvectors: 16\n",
      "- 2023-11-06 08:43:31: MainProcess:nqcpfem.parameter_search >> INFO:evaluating at grid point 165/1024\n",
      "- 2023-11-06 08:43:31: MainProcess:nqcpfem.parameter_search >> DEBUG:parameters: {'mu_sc_val': 6.884944078001299e-22, 'mu_R_val': -35.81213307240705}\n",
      "- 2023-11-06 08:43:31: MainProcess:nqcpfem.fenics >> DEBUG:creating PETSc Matrix\n",
      "- 2023-11-06 08:43:31: MainProcess:nqcpfem.fenics >> DEBUG:gathering constants\n",
      "- 2023-11-06 08:43:31: MainProcess:nqcpfem.fenics >> DEBUG:retrieving parameter and constant dicts\n",
      "- 2023-11-06 08:43:31: MainProcess:nqcpfem.fenics >> DEBUG:updating values\n",
      "- 2023-11-06 08:43:31: MainProcess:nqcpfem.fenics >> DEBUG:retireving energy scale\n",
      "- 2023-11-06 08:43:32: MainProcess:nqcpfem.fenics >> DEBUG:gathering constants complete\n",
      "- 2023-11-06 08:43:32: MainProcess:nqcpfem.fenics >> DEBUG:assembling array\n"
     ]
    },
    {
     "name": "stdout",
     "output_type": "stream",
     "text": [
      "165\n"
     ]
    },
    {
     "name": "stderr",
     "output_type": "stream",
     "text": [
      "- 2023-11-06 08:43:32: MainProcess:nqcpfem.solvers >> DEBUG:solving problem:\n",
      "- 2023-11-06 08:43:42: MainProcess:nqcpfem.solvers >> DEBUG: number of converged eigenvectors: 16\n"
     ]
    },
    {
     "name": "stdout",
     "output_type": "stream",
     "text": [
      "(21008, 21008)\n"
     ]
    },
    {
     "name": "stderr",
     "output_type": "stream",
     "text": [
      "- 2023-11-06 08:43:46: MainProcess:nqcpfem.parameter_search >> INFO:evaluating at grid point 166/1024\n",
      "- 2023-11-06 08:43:46: MainProcess:nqcpfem.parameter_search >> DEBUG:parameters: {'mu_sc_val': 6.884944078001299e-22, 'mu_R_val': -35.420743639921724}\n",
      "- 2023-11-06 08:43:46: MainProcess:nqcpfem.fenics >> DEBUG:creating PETSc Matrix\n",
      "- 2023-11-06 08:43:46: MainProcess:nqcpfem.fenics >> DEBUG:gathering constants\n",
      "- 2023-11-06 08:43:46: MainProcess:nqcpfem.fenics >> DEBUG:retrieving parameter and constant dicts\n",
      "- 2023-11-06 08:43:46: MainProcess:nqcpfem.fenics >> DEBUG:updating values\n",
      "- 2023-11-06 08:43:46: MainProcess:nqcpfem.fenics >> DEBUG:retireving energy scale\n",
      "- 2023-11-06 08:43:46: MainProcess:nqcpfem.fenics >> DEBUG:gathering constants complete\n",
      "- 2023-11-06 08:43:46: MainProcess:nqcpfem.fenics >> DEBUG:assembling array\n",
      "- 2023-11-06 08:43:46: MainProcess:nqcpfem.solvers >> DEBUG:solving problem:\n"
     ]
    },
    {
     "name": "stdout",
     "output_type": "stream",
     "text": [
      "166\n",
      "(21008, 21008)\n"
     ]
    },
    {
     "name": "stderr",
     "output_type": "stream",
     "text": [
      "- 2023-11-06 08:43:57: MainProcess:nqcpfem.solvers >> DEBUG: number of converged eigenvectors: 16\n",
      "- 2023-11-06 08:44:01: MainProcess:nqcpfem.parameter_search >> INFO:evaluating at grid point 167/1024\n",
      "- 2023-11-06 08:44:01: MainProcess:nqcpfem.parameter_search >> DEBUG:parameters: {'mu_sc_val': 6.884944078001299e-22, 'mu_R_val': -35.0293542074364}\n",
      "- 2023-11-06 08:44:01: MainProcess:nqcpfem.fenics >> DEBUG:creating PETSc Matrix\n",
      "- 2023-11-06 08:44:01: MainProcess:nqcpfem.fenics >> DEBUG:gathering constants\n",
      "- 2023-11-06 08:44:01: MainProcess:nqcpfem.fenics >> DEBUG:retrieving parameter and constant dicts\n",
      "- 2023-11-06 08:44:01: MainProcess:nqcpfem.fenics >> DEBUG:updating values\n",
      "- 2023-11-06 08:44:01: MainProcess:nqcpfem.fenics >> DEBUG:retireving energy scale\n",
      "- 2023-11-06 08:44:01: MainProcess:nqcpfem.fenics >> DEBUG:gathering constants complete\n",
      "- 2023-11-06 08:44:01: MainProcess:nqcpfem.fenics >> DEBUG:assembling array\n"
     ]
    },
    {
     "name": "stdout",
     "output_type": "stream",
     "text": [
      "167\n"
     ]
    },
    {
     "name": "stderr",
     "output_type": "stream",
     "text": [
      "- 2023-11-06 08:44:01: MainProcess:nqcpfem.solvers >> DEBUG:solving problem:\n",
      "- 2023-11-06 08:44:10: MainProcess:nqcpfem.solvers >> DEBUG: number of converged eigenvectors: 16\n"
     ]
    },
    {
     "name": "stdout",
     "output_type": "stream",
     "text": [
      "(21008, 21008)\n"
     ]
    },
    {
     "name": "stderr",
     "output_type": "stream",
     "text": [
      "- 2023-11-06 08:44:14: MainProcess:nqcpfem.parameter_search >> INFO:evaluating at grid point 168/1024\n",
      "- 2023-11-06 08:44:14: MainProcess:nqcpfem.parameter_search >> DEBUG:parameters: {'mu_sc_val': 6.884944078001299e-22, 'mu_R_val': -34.63796477495109}\n",
      "- 2023-11-06 08:44:14: MainProcess:nqcpfem.fenics >> DEBUG:creating PETSc Matrix\n",
      "- 2023-11-06 08:44:14: MainProcess:nqcpfem.fenics >> DEBUG:gathering constants\n",
      "- 2023-11-06 08:44:14: MainProcess:nqcpfem.fenics >> DEBUG:retrieving parameter and constant dicts\n",
      "- 2023-11-06 08:44:14: MainProcess:nqcpfem.fenics >> DEBUG:updating values\n",
      "- 2023-11-06 08:44:14: MainProcess:nqcpfem.fenics >> DEBUG:retireving energy scale\n",
      "- 2023-11-06 08:44:14: MainProcess:nqcpfem.fenics >> DEBUG:gathering constants complete\n",
      "- 2023-11-06 08:44:14: MainProcess:nqcpfem.fenics >> DEBUG:assembling array\n",
      "- 2023-11-06 08:44:14: MainProcess:nqcpfem.solvers >> DEBUG:solving problem:\n"
     ]
    },
    {
     "name": "stdout",
     "output_type": "stream",
     "text": [
      "168\n",
      "(21008, 21008)\n"
     ]
    },
    {
     "name": "stderr",
     "output_type": "stream",
     "text": [
      "- 2023-11-06 08:44:23: MainProcess:nqcpfem.solvers >> DEBUG: number of converged eigenvectors: 16\n",
      "- 2023-11-06 08:44:27: MainProcess:nqcpfem.parameter_search >> INFO:evaluating at grid point 169/1024\n",
      "- 2023-11-06 08:44:27: MainProcess:nqcpfem.parameter_search >> DEBUG:parameters: {'mu_sc_val': 6.884944078001299e-22, 'mu_R_val': -34.24657534246576}\n",
      "- 2023-11-06 08:44:27: MainProcess:nqcpfem.fenics >> DEBUG:creating PETSc Matrix\n",
      "- 2023-11-06 08:44:27: MainProcess:nqcpfem.fenics >> DEBUG:gathering constants\n",
      "- 2023-11-06 08:44:27: MainProcess:nqcpfem.fenics >> DEBUG:retrieving parameter and constant dicts\n",
      "- 2023-11-06 08:44:27: MainProcess:nqcpfem.fenics >> DEBUG:updating values\n",
      "- 2023-11-06 08:44:28: MainProcess:nqcpfem.fenics >> DEBUG:retireving energy scale\n"
     ]
    },
    {
     "name": "stdout",
     "output_type": "stream",
     "text": [
      "169\n"
     ]
    },
    {
     "name": "stderr",
     "output_type": "stream",
     "text": [
      "- 2023-11-06 08:44:28: MainProcess:nqcpfem.fenics >> DEBUG:gathering constants complete\n",
      "- 2023-11-06 08:44:28: MainProcess:nqcpfem.fenics >> DEBUG:assembling array\n",
      "- 2023-11-06 08:44:28: MainProcess:nqcpfem.solvers >> DEBUG:solving problem:\n",
      "- 2023-11-06 08:44:45: MainProcess:nqcpfem.solvers >> DEBUG: number of converged eigenvectors: 16\n"
     ]
    },
    {
     "name": "stdout",
     "output_type": "stream",
     "text": [
      "(21008, 21008)\n"
     ]
    },
    {
     "name": "stderr",
     "output_type": "stream",
     "text": [
      "- 2023-11-06 08:44:53: MainProcess:nqcpfem.parameter_search >> INFO:evaluating at grid point 170/1024\n",
      "- 2023-11-06 08:44:53: MainProcess:nqcpfem.parameter_search >> DEBUG:parameters: {'mu_sc_val': 6.884944078001299e-22, 'mu_R_val': -33.855185909980435}\n",
      "- 2023-11-06 08:44:53: MainProcess:nqcpfem.fenics >> DEBUG:creating PETSc Matrix\n",
      "- 2023-11-06 08:44:53: MainProcess:nqcpfem.fenics >> DEBUG:gathering constants\n",
      "- 2023-11-06 08:44:53: MainProcess:nqcpfem.fenics >> DEBUG:retrieving parameter and constant dicts\n",
      "- 2023-11-06 08:44:53: MainProcess:nqcpfem.fenics >> DEBUG:updating values\n"
     ]
    },
    {
     "name": "stdout",
     "output_type": "stream",
     "text": [
      "170\n"
     ]
    },
    {
     "name": "stderr",
     "output_type": "stream",
     "text": [
      "- 2023-11-06 08:44:53: MainProcess:nqcpfem.fenics >> DEBUG:retireving energy scale\n",
      "- 2023-11-06 08:44:53: MainProcess:nqcpfem.fenics >> DEBUG:gathering constants complete\n",
      "- 2023-11-06 08:44:53: MainProcess:nqcpfem.fenics >> DEBUG:assembling array\n",
      "- 2023-11-06 08:44:54: MainProcess:nqcpfem.solvers >> DEBUG:solving problem:\n",
      "- 2023-11-06 08:45:08: MainProcess:nqcpfem.solvers >> DEBUG: number of converged eigenvectors: 16\n"
     ]
    },
    {
     "name": "stdout",
     "output_type": "stream",
     "text": [
      "(21008, 21008)\n"
     ]
    },
    {
     "name": "stderr",
     "output_type": "stream",
     "text": [
      "- 2023-11-06 08:45:14: MainProcess:nqcpfem.parameter_search >> INFO:evaluating at grid point 171/1024\n",
      "- 2023-11-06 08:45:14: MainProcess:nqcpfem.parameter_search >> DEBUG:parameters: {'mu_sc_val': 6.884944078001299e-22, 'mu_R_val': -33.46379647749511}\n",
      "- 2023-11-06 08:45:14: MainProcess:nqcpfem.fenics >> DEBUG:creating PETSc Matrix\n",
      "- 2023-11-06 08:45:14: MainProcess:nqcpfem.fenics >> DEBUG:gathering constants\n",
      "- 2023-11-06 08:45:14: MainProcess:nqcpfem.fenics >> DEBUG:retrieving parameter and constant dicts\n",
      "- 2023-11-06 08:45:14: MainProcess:nqcpfem.fenics >> DEBUG:updating values\n"
     ]
    },
    {
     "name": "stdout",
     "output_type": "stream",
     "text": [
      "171\n"
     ]
    },
    {
     "name": "stderr",
     "output_type": "stream",
     "text": [
      "- 2023-11-06 08:45:14: MainProcess:nqcpfem.fenics >> DEBUG:retireving energy scale\n",
      "- 2023-11-06 08:45:14: MainProcess:nqcpfem.fenics >> DEBUG:gathering constants complete\n",
      "- 2023-11-06 08:45:14: MainProcess:nqcpfem.fenics >> DEBUG:assembling array\n",
      "- 2023-11-06 08:45:15: MainProcess:nqcpfem.solvers >> DEBUG:solving problem:\n",
      "- 2023-11-06 08:45:26: MainProcess:nqcpfem.solvers >> DEBUG: number of converged eigenvectors: 16\n"
     ]
    },
    {
     "name": "stdout",
     "output_type": "stream",
     "text": [
      "(21008, 21008)\n"
     ]
    },
    {
     "name": "stderr",
     "output_type": "stream",
     "text": [
      "- 2023-11-06 08:45:31: MainProcess:nqcpfem.parameter_search >> INFO:evaluating at grid point 172/1024\n",
      "- 2023-11-06 08:45:31: MainProcess:nqcpfem.parameter_search >> DEBUG:parameters: {'mu_sc_val': 6.884944078001299e-22, 'mu_R_val': -33.07240704500978}\n",
      "- 2023-11-06 08:45:31: MainProcess:nqcpfem.fenics >> DEBUG:creating PETSc Matrix\n",
      "- 2023-11-06 08:45:31: MainProcess:nqcpfem.fenics >> DEBUG:gathering constants\n",
      "- 2023-11-06 08:45:31: MainProcess:nqcpfem.fenics >> DEBUG:retrieving parameter and constant dicts\n",
      "- 2023-11-06 08:45:31: MainProcess:nqcpfem.fenics >> DEBUG:updating values\n",
      "- 2023-11-06 08:45:31: MainProcess:nqcpfem.fenics >> DEBUG:retireving energy scale\n",
      "- 2023-11-06 08:45:31: MainProcess:nqcpfem.fenics >> DEBUG:gathering constants complete\n",
      "- 2023-11-06 08:45:31: MainProcess:nqcpfem.fenics >> DEBUG:assembling array\n"
     ]
    },
    {
     "name": "stdout",
     "output_type": "stream",
     "text": [
      "172\n"
     ]
    },
    {
     "name": "stderr",
     "output_type": "stream",
     "text": [
      "- 2023-11-06 08:45:31: MainProcess:nqcpfem.solvers >> DEBUG:solving problem:\n",
      "- 2023-11-06 08:45:40: MainProcess:nqcpfem.solvers >> DEBUG: number of converged eigenvectors: 16\n"
     ]
    },
    {
     "name": "stdout",
     "output_type": "stream",
     "text": [
      "(21008, 21008)\n"
     ]
    },
    {
     "name": "stderr",
     "output_type": "stream",
     "text": [
      "- 2023-11-06 08:45:45: MainProcess:nqcpfem.parameter_search >> INFO:evaluating at grid point 173/1024\n",
      "- 2023-11-06 08:45:45: MainProcess:nqcpfem.parameter_search >> DEBUG:parameters: {'mu_sc_val': 6.884944078001299e-22, 'mu_R_val': -32.68101761252447}\n",
      "- 2023-11-06 08:45:45: MainProcess:nqcpfem.fenics >> DEBUG:creating PETSc Matrix\n",
      "- 2023-11-06 08:45:45: MainProcess:nqcpfem.fenics >> DEBUG:gathering constants\n",
      "- 2023-11-06 08:45:45: MainProcess:nqcpfem.fenics >> DEBUG:retrieving parameter and constant dicts\n",
      "- 2023-11-06 08:45:45: MainProcess:nqcpfem.fenics >> DEBUG:updating values\n"
     ]
    },
    {
     "name": "stdout",
     "output_type": "stream",
     "text": [
      "173\n"
     ]
    },
    {
     "name": "stderr",
     "output_type": "stream",
     "text": [
      "- 2023-11-06 08:45:45: MainProcess:nqcpfem.fenics >> DEBUG:retireving energy scale\n",
      "- 2023-11-06 08:45:45: MainProcess:nqcpfem.fenics >> DEBUG:gathering constants complete\n",
      "- 2023-11-06 08:45:46: MainProcess:nqcpfem.fenics >> DEBUG:assembling array\n",
      "- 2023-11-06 08:45:46: MainProcess:nqcpfem.solvers >> DEBUG:solving problem:\n",
      "- 2023-11-06 08:46:03: MainProcess:nqcpfem.solvers >> DEBUG: number of converged eigenvectors: 16\n"
     ]
    },
    {
     "name": "stdout",
     "output_type": "stream",
     "text": [
      "(21008, 21008)\n"
     ]
    },
    {
     "name": "stderr",
     "output_type": "stream",
     "text": [
      "- 2023-11-06 08:46:09: MainProcess:nqcpfem.parameter_search >> INFO:evaluating at grid point 174/1024\n",
      "- 2023-11-06 08:46:09: MainProcess:nqcpfem.parameter_search >> DEBUG:parameters: {'mu_sc_val': 6.884944078001299e-22, 'mu_R_val': -32.289628180039145}\n",
      "- 2023-11-06 08:46:09: MainProcess:nqcpfem.fenics >> DEBUG:creating PETSc Matrix\n",
      "- 2023-11-06 08:46:09: MainProcess:nqcpfem.fenics >> DEBUG:gathering constants\n",
      "- 2023-11-06 08:46:09: MainProcess:nqcpfem.fenics >> DEBUG:retrieving parameter and constant dicts\n",
      "- 2023-11-06 08:46:09: MainProcess:nqcpfem.fenics >> DEBUG:updating values\n",
      "- 2023-11-06 08:46:09: MainProcess:nqcpfem.fenics >> DEBUG:retireving energy scale\n",
      "- 2023-11-06 08:46:09: MainProcess:nqcpfem.fenics >> DEBUG:gathering constants complete\n"
     ]
    },
    {
     "name": "stdout",
     "output_type": "stream",
     "text": [
      "174\n"
     ]
    },
    {
     "name": "stderr",
     "output_type": "stream",
     "text": [
      "- 2023-11-06 08:46:09: MainProcess:nqcpfem.fenics >> DEBUG:assembling array\n",
      "- 2023-11-06 08:46:09: MainProcess:nqcpfem.solvers >> DEBUG:solving problem:\n",
      "- 2023-11-06 08:46:21: MainProcess:nqcpfem.solvers >> DEBUG: number of converged eigenvectors: 16\n"
     ]
    },
    {
     "name": "stdout",
     "output_type": "stream",
     "text": [
      "(21008, 21008)\n"
     ]
    },
    {
     "name": "stderr",
     "output_type": "stream",
     "text": [
      "- 2023-11-06 08:46:25: MainProcess:nqcpfem.parameter_search >> INFO:evaluating at grid point 175/1024\n",
      "- 2023-11-06 08:46:25: MainProcess:nqcpfem.parameter_search >> DEBUG:parameters: {'mu_sc_val': 6.884944078001299e-22, 'mu_R_val': -31.89823874755382}\n",
      "- 2023-11-06 08:46:25: MainProcess:nqcpfem.fenics >> DEBUG:creating PETSc Matrix\n",
      "- 2023-11-06 08:46:25: MainProcess:nqcpfem.fenics >> DEBUG:gathering constants\n",
      "- 2023-11-06 08:46:25: MainProcess:nqcpfem.fenics >> DEBUG:retrieving parameter and constant dicts\n",
      "- 2023-11-06 08:46:25: MainProcess:nqcpfem.fenics >> DEBUG:updating values\n"
     ]
    },
    {
     "name": "stdout",
     "output_type": "stream",
     "text": [
      "175\n"
     ]
    },
    {
     "name": "stderr",
     "output_type": "stream",
     "text": [
      "- 2023-11-06 08:46:25: MainProcess:nqcpfem.fenics >> DEBUG:retireving energy scale\n",
      "- 2023-11-06 08:46:25: MainProcess:nqcpfem.fenics >> DEBUG:gathering constants complete\n",
      "- 2023-11-06 08:46:26: MainProcess:nqcpfem.fenics >> DEBUG:assembling array\n",
      "- 2023-11-06 08:46:26: MainProcess:nqcpfem.solvers >> DEBUG:solving problem:\n",
      "- 2023-11-06 08:46:38: MainProcess:nqcpfem.solvers >> DEBUG: number of converged eigenvectors: 16\n"
     ]
    },
    {
     "name": "stdout",
     "output_type": "stream",
     "text": [
      "(21008, 21008)\n"
     ]
    },
    {
     "name": "stderr",
     "output_type": "stream",
     "text": [
      "- 2023-11-06 08:46:44: MainProcess:nqcpfem.parameter_search >> INFO:evaluating at grid point 176/1024\n",
      "- 2023-11-06 08:46:44: MainProcess:nqcpfem.parameter_search >> DEBUG:parameters: {'mu_sc_val': 6.884944078001299e-22, 'mu_R_val': -31.506849315068493}\n",
      "- 2023-11-06 08:46:44: MainProcess:nqcpfem.fenics >> DEBUG:creating PETSc Matrix\n",
      "- 2023-11-06 08:46:44: MainProcess:nqcpfem.fenics >> DEBUG:gathering constants\n",
      "- 2023-11-06 08:46:44: MainProcess:nqcpfem.fenics >> DEBUG:retrieving parameter and constant dicts\n",
      "- 2023-11-06 08:46:44: MainProcess:nqcpfem.fenics >> DEBUG:updating values\n"
     ]
    },
    {
     "name": "stdout",
     "output_type": "stream",
     "text": [
      "176\n"
     ]
    },
    {
     "name": "stderr",
     "output_type": "stream",
     "text": [
      "- 2023-11-06 08:46:45: MainProcess:nqcpfem.fenics >> DEBUG:retireving energy scale\n",
      "- 2023-11-06 08:46:45: MainProcess:nqcpfem.fenics >> DEBUG:gathering constants complete\n",
      "- 2023-11-06 08:46:45: MainProcess:nqcpfem.fenics >> DEBUG:assembling array\n",
      "- 2023-11-06 08:46:45: MainProcess:nqcpfem.solvers >> DEBUG:solving problem:\n",
      "- 2023-11-06 08:46:58: MainProcess:nqcpfem.solvers >> DEBUG: number of converged eigenvectors: 16\n"
     ]
    },
    {
     "name": "stdout",
     "output_type": "stream",
     "text": [
      "(21008, 21008)\n"
     ]
    },
    {
     "name": "stderr",
     "output_type": "stream",
     "text": [
      "- 2023-11-06 08:47:03: MainProcess:nqcpfem.parameter_search >> INFO:evaluating at grid point 177/1024\n",
      "- 2023-11-06 08:47:03: MainProcess:nqcpfem.parameter_search >> DEBUG:parameters: {'mu_sc_val': 6.884944078001299e-22, 'mu_R_val': -31.115459882583167}\n",
      "- 2023-11-06 08:47:03: MainProcess:nqcpfem.fenics >> DEBUG:creating PETSc Matrix\n",
      "- 2023-11-06 08:47:03: MainProcess:nqcpfem.fenics >> DEBUG:gathering constants\n",
      "- 2023-11-06 08:47:03: MainProcess:nqcpfem.fenics >> DEBUG:retrieving parameter and constant dicts\n",
      "- 2023-11-06 08:47:03: MainProcess:nqcpfem.fenics >> DEBUG:updating values\n",
      "- 2023-11-06 08:47:03: MainProcess:nqcpfem.fenics >> DEBUG:retireving energy scale\n",
      "- 2023-11-06 08:47:03: MainProcess:nqcpfem.fenics >> DEBUG:gathering constants complete\n",
      "- 2023-11-06 08:47:03: MainProcess:nqcpfem.fenics >> DEBUG:assembling array\n"
     ]
    },
    {
     "name": "stdout",
     "output_type": "stream",
     "text": [
      "177\n"
     ]
    },
    {
     "name": "stderr",
     "output_type": "stream",
     "text": [
      "- 2023-11-06 08:47:04: MainProcess:nqcpfem.solvers >> DEBUG:solving problem:\n",
      "- 2023-11-06 08:47:15: MainProcess:nqcpfem.solvers >> DEBUG: number of converged eigenvectors: 16\n"
     ]
    },
    {
     "name": "stdout",
     "output_type": "stream",
     "text": [
      "(21008, 21008)\n"
     ]
    },
    {
     "name": "stderr",
     "output_type": "stream",
     "text": [
      "- 2023-11-06 08:47:20: MainProcess:nqcpfem.parameter_search >> INFO:evaluating at grid point 178/1024\n",
      "- 2023-11-06 08:47:20: MainProcess:nqcpfem.parameter_search >> DEBUG:parameters: {'mu_sc_val': 6.884944078001299e-22, 'mu_R_val': -30.724070450097855}\n",
      "- 2023-11-06 08:47:20: MainProcess:nqcpfem.fenics >> DEBUG:creating PETSc Matrix\n",
      "- 2023-11-06 08:47:20: MainProcess:nqcpfem.fenics >> DEBUG:gathering constants\n",
      "- 2023-11-06 08:47:20: MainProcess:nqcpfem.fenics >> DEBUG:retrieving parameter and constant dicts\n",
      "- 2023-11-06 08:47:20: MainProcess:nqcpfem.fenics >> DEBUG:updating values\n"
     ]
    },
    {
     "name": "stdout",
     "output_type": "stream",
     "text": [
      "178\n"
     ]
    },
    {
     "name": "stderr",
     "output_type": "stream",
     "text": [
      "- 2023-11-06 08:47:20: MainProcess:nqcpfem.fenics >> DEBUG:retireving energy scale\n",
      "- 2023-11-06 08:47:21: MainProcess:nqcpfem.fenics >> DEBUG:gathering constants complete\n",
      "- 2023-11-06 08:47:21: MainProcess:nqcpfem.fenics >> DEBUG:assembling array\n",
      "- 2023-11-06 08:47:21: MainProcess:nqcpfem.solvers >> DEBUG:solving problem:\n",
      "- 2023-11-06 08:47:34: MainProcess:nqcpfem.solvers >> DEBUG: number of converged eigenvectors: 16\n"
     ]
    },
    {
     "name": "stdout",
     "output_type": "stream",
     "text": [
      "(21008, 21008)\n"
     ]
    },
    {
     "name": "stderr",
     "output_type": "stream",
     "text": [
      "- 2023-11-06 08:47:39: MainProcess:nqcpfem.parameter_search >> INFO:evaluating at grid point 179/1024\n",
      "- 2023-11-06 08:47:39: MainProcess:nqcpfem.parameter_search >> DEBUG:parameters: {'mu_sc_val': 6.884944078001299e-22, 'mu_R_val': -30.33268101761253}\n",
      "- 2023-11-06 08:47:39: MainProcess:nqcpfem.fenics >> DEBUG:creating PETSc Matrix\n",
      "- 2023-11-06 08:47:39: MainProcess:nqcpfem.fenics >> DEBUG:gathering constants\n",
      "- 2023-11-06 08:47:39: MainProcess:nqcpfem.fenics >> DEBUG:retrieving parameter and constant dicts\n",
      "- 2023-11-06 08:47:39: MainProcess:nqcpfem.fenics >> DEBUG:updating values\n"
     ]
    },
    {
     "name": "stdout",
     "output_type": "stream",
     "text": [
      "179\n"
     ]
    },
    {
     "name": "stderr",
     "output_type": "stream",
     "text": [
      "- 2023-11-06 08:47:39: MainProcess:nqcpfem.fenics >> DEBUG:retireving energy scale\n",
      "- 2023-11-06 08:47:39: MainProcess:nqcpfem.fenics >> DEBUG:gathering constants complete\n",
      "- 2023-11-06 08:47:39: MainProcess:nqcpfem.fenics >> DEBUG:assembling array\n",
      "- 2023-11-06 08:47:40: MainProcess:nqcpfem.solvers >> DEBUG:solving problem:\n",
      "- 2023-11-06 08:47:56: MainProcess:nqcpfem.solvers >> DEBUG: number of converged eigenvectors: 16\n"
     ]
    },
    {
     "name": "stdout",
     "output_type": "stream",
     "text": [
      "(21008, 21008)\n"
     ]
    },
    {
     "name": "stderr",
     "output_type": "stream",
     "text": [
      "- 2023-11-06 08:48:02: MainProcess:nqcpfem.parameter_search >> INFO:evaluating at grid point 180/1024\n",
      "- 2023-11-06 08:48:02: MainProcess:nqcpfem.parameter_search >> DEBUG:parameters: {'mu_sc_val': 6.884944078001299e-22, 'mu_R_val': -29.941291585127203}\n",
      "- 2023-11-06 08:48:02: MainProcess:nqcpfem.fenics >> DEBUG:creating PETSc Matrix\n",
      "- 2023-11-06 08:48:02: MainProcess:nqcpfem.fenics >> DEBUG:gathering constants\n",
      "- 2023-11-06 08:48:02: MainProcess:nqcpfem.fenics >> DEBUG:retrieving parameter and constant dicts\n",
      "- 2023-11-06 08:48:02: MainProcess:nqcpfem.fenics >> DEBUG:updating values\n",
      "- 2023-11-06 08:48:02: MainProcess:nqcpfem.fenics >> DEBUG:retireving energy scale\n",
      "- 2023-11-06 08:48:02: MainProcess:nqcpfem.fenics >> DEBUG:gathering constants complete\n",
      "- 2023-11-06 08:48:02: MainProcess:nqcpfem.fenics >> DEBUG:assembling array\n"
     ]
    },
    {
     "name": "stdout",
     "output_type": "stream",
     "text": [
      "180\n"
     ]
    },
    {
     "name": "stderr",
     "output_type": "stream",
     "text": [
      "- 2023-11-06 08:48:02: MainProcess:nqcpfem.solvers >> DEBUG:solving problem:\n",
      "- 2023-11-06 08:48:18: MainProcess:nqcpfem.solvers >> DEBUG: number of converged eigenvectors: 16\n"
     ]
    },
    {
     "name": "stdout",
     "output_type": "stream",
     "text": [
      "(21008, 21008)\n"
     ]
    },
    {
     "name": "stderr",
     "output_type": "stream",
     "text": [
      "- 2023-11-06 08:48:25: MainProcess:nqcpfem.parameter_search >> INFO:evaluating at grid point 181/1024\n",
      "- 2023-11-06 08:48:25: MainProcess:nqcpfem.parameter_search >> DEBUG:parameters: {'mu_sc_val': 6.884944078001299e-22, 'mu_R_val': -29.549902152641877}\n",
      "- 2023-11-06 08:48:25: MainProcess:nqcpfem.fenics >> DEBUG:creating PETSc Matrix\n",
      "- 2023-11-06 08:48:25: MainProcess:nqcpfem.fenics >> DEBUG:gathering constants\n",
      "- 2023-11-06 08:48:25: MainProcess:nqcpfem.fenics >> DEBUG:retrieving parameter and constant dicts\n",
      "- 2023-11-06 08:48:25: MainProcess:nqcpfem.fenics >> DEBUG:updating values\n"
     ]
    },
    {
     "name": "stdout",
     "output_type": "stream",
     "text": [
      "181\n"
     ]
    },
    {
     "name": "stderr",
     "output_type": "stream",
     "text": [
      "- 2023-11-06 08:48:25: MainProcess:nqcpfem.fenics >> DEBUG:retireving energy scale\n",
      "- 2023-11-06 08:48:26: MainProcess:nqcpfem.fenics >> DEBUG:gathering constants complete\n",
      "- 2023-11-06 08:48:26: MainProcess:nqcpfem.fenics >> DEBUG:assembling array\n",
      "- 2023-11-06 08:48:26: MainProcess:nqcpfem.solvers >> DEBUG:solving problem:\n",
      "- 2023-11-06 08:48:46: MainProcess:nqcpfem.solvers >> DEBUG: number of converged eigenvectors: 16\n"
     ]
    },
    {
     "name": "stdout",
     "output_type": "stream",
     "text": [
      "(21008, 21008)\n"
     ]
    },
    {
     "name": "stderr",
     "output_type": "stream",
     "text": [
      "- 2023-11-06 08:48:53: MainProcess:nqcpfem.parameter_search >> INFO:evaluating at grid point 182/1024\n",
      "- 2023-11-06 08:48:53: MainProcess:nqcpfem.parameter_search >> DEBUG:parameters: {'mu_sc_val': 6.884944078001299e-22, 'mu_R_val': -29.158512720156565}\n",
      "- 2023-11-06 08:48:53: MainProcess:nqcpfem.fenics >> DEBUG:creating PETSc Matrix\n",
      "- 2023-11-06 08:48:53: MainProcess:nqcpfem.fenics >> DEBUG:gathering constants\n",
      "- 2023-11-06 08:48:53: MainProcess:nqcpfem.fenics >> DEBUG:retrieving parameter and constant dicts\n",
      "- 2023-11-06 08:48:53: MainProcess:nqcpfem.fenics >> DEBUG:updating values\n",
      "- 2023-11-06 08:48:53: MainProcess:nqcpfem.fenics >> DEBUG:retireving energy scale\n"
     ]
    },
    {
     "name": "stdout",
     "output_type": "stream",
     "text": [
      "182\n"
     ]
    },
    {
     "name": "stderr",
     "output_type": "stream",
     "text": [
      "- 2023-11-06 08:48:53: MainProcess:nqcpfem.fenics >> DEBUG:gathering constants complete\n",
      "- 2023-11-06 08:48:54: MainProcess:nqcpfem.fenics >> DEBUG:assembling array\n",
      "- 2023-11-06 08:48:54: MainProcess:nqcpfem.solvers >> DEBUG:solving problem:\n",
      "- 2023-11-06 08:49:13: MainProcess:nqcpfem.solvers >> DEBUG: number of converged eigenvectors: 16\n"
     ]
    },
    {
     "name": "stdout",
     "output_type": "stream",
     "text": [
      "(21008, 21008)\n"
     ]
    },
    {
     "name": "stderr",
     "output_type": "stream",
     "text": [
      "- 2023-11-06 08:49:22: MainProcess:nqcpfem.parameter_search >> INFO:evaluating at grid point 183/1024\n",
      "- 2023-11-06 08:49:22: MainProcess:nqcpfem.parameter_search >> DEBUG:parameters: {'mu_sc_val': 6.884944078001299e-22, 'mu_R_val': -28.76712328767124}\n",
      "- 2023-11-06 08:49:22: MainProcess:nqcpfem.fenics >> DEBUG:creating PETSc Matrix\n",
      "- 2023-11-06 08:49:22: MainProcess:nqcpfem.fenics >> DEBUG:gathering constants\n",
      "- 2023-11-06 08:49:22: MainProcess:nqcpfem.fenics >> DEBUG:retrieving parameter and constant dicts\n",
      "- 2023-11-06 08:49:22: MainProcess:nqcpfem.fenics >> DEBUG:updating values\n"
     ]
    },
    {
     "name": "stdout",
     "output_type": "stream",
     "text": [
      "183\n"
     ]
    },
    {
     "name": "stderr",
     "output_type": "stream",
     "text": [
      "- 2023-11-06 08:49:22: MainProcess:nqcpfem.fenics >> DEBUG:retireving energy scale\n",
      "- 2023-11-06 08:49:22: MainProcess:nqcpfem.fenics >> DEBUG:gathering constants complete\n",
      "- 2023-11-06 08:49:22: MainProcess:nqcpfem.fenics >> DEBUG:assembling array\n",
      "- 2023-11-06 08:49:23: MainProcess:nqcpfem.solvers >> DEBUG:solving problem:\n",
      "- 2023-11-06 08:49:46: MainProcess:nqcpfem.solvers >> DEBUG: number of converged eigenvectors: 16\n"
     ]
    },
    {
     "name": "stdout",
     "output_type": "stream",
     "text": [
      "(21008, 21008)\n"
     ]
    },
    {
     "name": "stderr",
     "output_type": "stream",
     "text": [
      "- 2023-11-06 08:49:54: MainProcess:nqcpfem.parameter_search >> INFO:evaluating at grid point 184/1024\n",
      "- 2023-11-06 08:49:54: MainProcess:nqcpfem.parameter_search >> DEBUG:parameters: {'mu_sc_val': 6.884944078001299e-22, 'mu_R_val': -28.375733855185914}\n",
      "- 2023-11-06 08:49:54: MainProcess:nqcpfem.fenics >> DEBUG:creating PETSc Matrix\n",
      "- 2023-11-06 08:49:54: MainProcess:nqcpfem.fenics >> DEBUG:gathering constants\n",
      "- 2023-11-06 08:49:54: MainProcess:nqcpfem.fenics >> DEBUG:retrieving parameter and constant dicts\n",
      "- 2023-11-06 08:49:54: MainProcess:nqcpfem.fenics >> DEBUG:updating values\n"
     ]
    },
    {
     "name": "stdout",
     "output_type": "stream",
     "text": [
      "184\n"
     ]
    },
    {
     "name": "stderr",
     "output_type": "stream",
     "text": [
      "- 2023-11-06 08:49:54: MainProcess:nqcpfem.fenics >> DEBUG:retireving energy scale\n",
      "- 2023-11-06 08:49:55: MainProcess:nqcpfem.fenics >> DEBUG:gathering constants complete\n",
      "- 2023-11-06 08:49:55: MainProcess:nqcpfem.fenics >> DEBUG:assembling array\n",
      "- 2023-11-06 08:49:55: MainProcess:nqcpfem.solvers >> DEBUG:solving problem:\n",
      "- 2023-11-06 08:50:11: MainProcess:nqcpfem.solvers >> DEBUG: number of converged eigenvectors: 16\n"
     ]
    },
    {
     "name": "stdout",
     "output_type": "stream",
     "text": [
      "(21008, 21008)\n"
     ]
    },
    {
     "name": "stderr",
     "output_type": "stream",
     "text": [
      "- 2023-11-06 08:50:19: MainProcess:nqcpfem.parameter_search >> INFO:evaluating at grid point 185/1024\n",
      "- 2023-11-06 08:50:19: MainProcess:nqcpfem.parameter_search >> DEBUG:parameters: {'mu_sc_val': 6.884944078001299e-22, 'mu_R_val': -27.984344422700588}\n",
      "- 2023-11-06 08:50:19: MainProcess:nqcpfem.fenics >> DEBUG:creating PETSc Matrix\n",
      "- 2023-11-06 08:50:19: MainProcess:nqcpfem.fenics >> DEBUG:gathering constants\n",
      "- 2023-11-06 08:50:19: MainProcess:nqcpfem.fenics >> DEBUG:retrieving parameter and constant dicts\n",
      "- 2023-11-06 08:50:19: MainProcess:nqcpfem.fenics >> DEBUG:updating values\n"
     ]
    },
    {
     "name": "stdout",
     "output_type": "stream",
     "text": [
      "185\n"
     ]
    },
    {
     "name": "stderr",
     "output_type": "stream",
     "text": [
      "- 2023-11-06 08:50:19: MainProcess:nqcpfem.fenics >> DEBUG:retireving energy scale\n",
      "- 2023-11-06 08:50:19: MainProcess:nqcpfem.fenics >> DEBUG:gathering constants complete\n",
      "- 2023-11-06 08:50:19: MainProcess:nqcpfem.fenics >> DEBUG:assembling array\n",
      "- 2023-11-06 08:50:20: MainProcess:nqcpfem.solvers >> DEBUG:solving problem:\n",
      "- 2023-11-06 08:50:37: MainProcess:nqcpfem.solvers >> DEBUG: number of converged eigenvectors: 16\n"
     ]
    },
    {
     "name": "stdout",
     "output_type": "stream",
     "text": [
      "(21008, 21008)\n"
     ]
    },
    {
     "name": "stderr",
     "output_type": "stream",
     "text": [
      "- 2023-11-06 08:50:44: MainProcess:nqcpfem.parameter_search >> INFO:evaluating at grid point 186/1024\n",
      "- 2023-11-06 08:50:44: MainProcess:nqcpfem.parameter_search >> DEBUG:parameters: {'mu_sc_val': 6.884944078001299e-22, 'mu_R_val': -27.59295499021526}\n",
      "- 2023-11-06 08:50:44: MainProcess:nqcpfem.fenics >> DEBUG:creating PETSc Matrix\n",
      "- 2023-11-06 08:50:44: MainProcess:nqcpfem.fenics >> DEBUG:gathering constants\n",
      "- 2023-11-06 08:50:45: MainProcess:nqcpfem.fenics >> DEBUG:retrieving parameter and constant dicts\n",
      "- 2023-11-06 08:50:45: MainProcess:nqcpfem.fenics >> DEBUG:updating values\n"
     ]
    },
    {
     "name": "stdout",
     "output_type": "stream",
     "text": [
      "186\n"
     ]
    },
    {
     "name": "stderr",
     "output_type": "stream",
     "text": [
      "- 2023-11-06 08:50:45: MainProcess:nqcpfem.fenics >> DEBUG:retireving energy scale\n",
      "- 2023-11-06 08:50:45: MainProcess:nqcpfem.fenics >> DEBUG:gathering constants complete\n",
      "- 2023-11-06 08:50:45: MainProcess:nqcpfem.fenics >> DEBUG:assembling array\n",
      "- 2023-11-06 08:50:45: MainProcess:nqcpfem.solvers >> DEBUG:solving problem:\n",
      "- 2023-11-06 08:50:57: MainProcess:nqcpfem.solvers >> DEBUG: number of converged eigenvectors: 16\n"
     ]
    },
    {
     "name": "stdout",
     "output_type": "stream",
     "text": [
      "(21008, 21008)\n"
     ]
    },
    {
     "name": "stderr",
     "output_type": "stream",
     "text": [
      "- 2023-11-06 08:51:05: MainProcess:nqcpfem.parameter_search >> INFO:evaluating at grid point 187/1024\n",
      "- 2023-11-06 08:51:05: MainProcess:nqcpfem.parameter_search >> DEBUG:parameters: {'mu_sc_val': 6.884944078001299e-22, 'mu_R_val': -27.20156555772995}\n",
      "- 2023-11-06 08:51:05: MainProcess:nqcpfem.fenics >> DEBUG:creating PETSc Matrix\n",
      "- 2023-11-06 08:51:05: MainProcess:nqcpfem.fenics >> DEBUG:gathering constants\n",
      "- 2023-11-06 08:51:05: MainProcess:nqcpfem.fenics >> DEBUG:retrieving parameter and constant dicts\n",
      "- 2023-11-06 08:51:05: MainProcess:nqcpfem.fenics >> DEBUG:updating values\n"
     ]
    },
    {
     "name": "stdout",
     "output_type": "stream",
     "text": [
      "187\n"
     ]
    },
    {
     "name": "stderr",
     "output_type": "stream",
     "text": [
      "- 2023-11-06 08:51:05: MainProcess:nqcpfem.fenics >> DEBUG:retireving energy scale\n",
      "- 2023-11-06 08:51:05: MainProcess:nqcpfem.fenics >> DEBUG:gathering constants complete\n",
      "- 2023-11-06 08:51:05: MainProcess:nqcpfem.fenics >> DEBUG:assembling array\n",
      "- 2023-11-06 08:51:06: MainProcess:nqcpfem.solvers >> DEBUG:solving problem:\n",
      "- 2023-11-06 08:51:28: MainProcess:nqcpfem.solvers >> DEBUG: number of converged eigenvectors: 16\n"
     ]
    },
    {
     "name": "stdout",
     "output_type": "stream",
     "text": [
      "(21008, 21008)\n"
     ]
    },
    {
     "name": "stderr",
     "output_type": "stream",
     "text": [
      "- 2023-11-06 08:51:35: MainProcess:nqcpfem.parameter_search >> INFO:evaluating at grid point 188/1024\n",
      "- 2023-11-06 08:51:35: MainProcess:nqcpfem.parameter_search >> DEBUG:parameters: {'mu_sc_val': 6.884944078001299e-22, 'mu_R_val': -26.810176125244624}\n",
      "- 2023-11-06 08:51:35: MainProcess:nqcpfem.fenics >> DEBUG:creating PETSc Matrix\n",
      "- 2023-11-06 08:51:35: MainProcess:nqcpfem.fenics >> DEBUG:gathering constants\n",
      "- 2023-11-06 08:51:35: MainProcess:nqcpfem.fenics >> DEBUG:retrieving parameter and constant dicts\n",
      "- 2023-11-06 08:51:35: MainProcess:nqcpfem.fenics >> DEBUG:updating values\n"
     ]
    },
    {
     "name": "stdout",
     "output_type": "stream",
     "text": [
      "188\n"
     ]
    },
    {
     "name": "stderr",
     "output_type": "stream",
     "text": [
      "- 2023-11-06 08:51:35: MainProcess:nqcpfem.fenics >> DEBUG:retireving energy scale\n",
      "- 2023-11-06 08:51:35: MainProcess:nqcpfem.fenics >> DEBUG:gathering constants complete\n",
      "- 2023-11-06 08:51:35: MainProcess:nqcpfem.fenics >> DEBUG:assembling array\n",
      "- 2023-11-06 08:51:37: MainProcess:nqcpfem.solvers >> DEBUG:solving problem:\n",
      "- 2023-11-06 08:51:58: MainProcess:nqcpfem.solvers >> DEBUG: number of converged eigenvectors: 16\n"
     ]
    },
    {
     "name": "stdout",
     "output_type": "stream",
     "text": [
      "(21008, 21008)\n"
     ]
    },
    {
     "name": "stderr",
     "output_type": "stream",
     "text": [
      "- 2023-11-06 08:52:06: MainProcess:nqcpfem.parameter_search >> INFO:evaluating at grid point 189/1024\n",
      "- 2023-11-06 08:52:06: MainProcess:nqcpfem.parameter_search >> DEBUG:parameters: {'mu_sc_val': 6.884944078001299e-22, 'mu_R_val': -26.418786692759298}\n",
      "- 2023-11-06 08:52:06: MainProcess:nqcpfem.fenics >> DEBUG:creating PETSc Matrix\n",
      "- 2023-11-06 08:52:06: MainProcess:nqcpfem.fenics >> DEBUG:gathering constants\n",
      "- 2023-11-06 08:52:06: MainProcess:nqcpfem.fenics >> DEBUG:retrieving parameter and constant dicts\n"
     ]
    },
    {
     "name": "stdout",
     "output_type": "stream",
     "text": [
      "189\n"
     ]
    },
    {
     "name": "stderr",
     "output_type": "stream",
     "text": [
      "- 2023-11-06 08:52:06: MainProcess:nqcpfem.fenics >> DEBUG:updating values\n",
      "- 2023-11-06 08:52:06: MainProcess:nqcpfem.fenics >> DEBUG:retireving energy scale\n",
      "- 2023-11-06 08:52:07: MainProcess:nqcpfem.fenics >> DEBUG:gathering constants complete\n",
      "- 2023-11-06 08:52:07: MainProcess:nqcpfem.fenics >> DEBUG:assembling array\n",
      "- 2023-11-06 08:52:08: MainProcess:nqcpfem.solvers >> DEBUG:solving problem:\n",
      "- 2023-11-06 08:52:27: MainProcess:nqcpfem.solvers >> DEBUG: number of converged eigenvectors: 16\n"
     ]
    },
    {
     "name": "stdout",
     "output_type": "stream",
     "text": [
      "(21008, 21008)\n"
     ]
    },
    {
     "name": "stderr",
     "output_type": "stream",
     "text": [
      "- 2023-11-06 08:52:36: MainProcess:nqcpfem.parameter_search >> INFO:evaluating at grid point 190/1024\n",
      "- 2023-11-06 08:52:36: MainProcess:nqcpfem.parameter_search >> DEBUG:parameters: {'mu_sc_val': 6.884944078001299e-22, 'mu_R_val': -26.027397260273972}\n",
      "- 2023-11-06 08:52:36: MainProcess:nqcpfem.fenics >> DEBUG:creating PETSc Matrix\n",
      "- 2023-11-06 08:52:36: MainProcess:nqcpfem.fenics >> DEBUG:gathering constants\n",
      "- 2023-11-06 08:52:36: MainProcess:nqcpfem.fenics >> DEBUG:retrieving parameter and constant dicts\n",
      "- 2023-11-06 08:52:36: MainProcess:nqcpfem.fenics >> DEBUG:updating values\n"
     ]
    },
    {
     "name": "stdout",
     "output_type": "stream",
     "text": [
      "190\n"
     ]
    },
    {
     "name": "stderr",
     "output_type": "stream",
     "text": [
      "- 2023-11-06 08:52:37: MainProcess:nqcpfem.fenics >> DEBUG:retireving energy scale\n",
      "- 2023-11-06 08:52:37: MainProcess:nqcpfem.fenics >> DEBUG:gathering constants complete\n",
      "- 2023-11-06 08:52:37: MainProcess:nqcpfem.fenics >> DEBUG:assembling array\n",
      "- 2023-11-06 08:52:37: MainProcess:nqcpfem.solvers >> DEBUG:solving problem:\n"
     ]
    },
    {
     "name": "stdout",
     "output_type": "stream",
     "text": [
      "(21008, 21008)\n"
     ]
    },
    {
     "name": "stderr",
     "output_type": "stream",
     "text": [
      "- 2023-11-06 08:52:53: MainProcess:nqcpfem.solvers >> DEBUG: number of converged eigenvectors: 16\n",
      "- 2023-11-06 08:52:59: MainProcess:nqcpfem.parameter_search >> INFO:evaluating at grid point 191/1024\n",
      "- 2023-11-06 08:52:59: MainProcess:nqcpfem.parameter_search >> DEBUG:parameters: {'mu_sc_val': 6.884944078001299e-22, 'mu_R_val': -25.63600782778866}\n",
      "- 2023-11-06 08:53:00: MainProcess:nqcpfem.fenics >> DEBUG:creating PETSc Matrix\n",
      "- 2023-11-06 08:53:00: MainProcess:nqcpfem.fenics >> DEBUG:gathering constants\n",
      "- 2023-11-06 08:53:00: MainProcess:nqcpfem.fenics >> DEBUG:retrieving parameter and constant dicts\n",
      "- 2023-11-06 08:53:00: MainProcess:nqcpfem.fenics >> DEBUG:updating values\n"
     ]
    },
    {
     "name": "stdout",
     "output_type": "stream",
     "text": [
      "191\n"
     ]
    },
    {
     "name": "stderr",
     "output_type": "stream",
     "text": [
      "- 2023-11-06 08:53:00: MainProcess:nqcpfem.fenics >> DEBUG:retireving energy scale\n",
      "- 2023-11-06 08:53:00: MainProcess:nqcpfem.fenics >> DEBUG:gathering constants complete\n",
      "- 2023-11-06 08:53:00: MainProcess:nqcpfem.fenics >> DEBUG:assembling array\n",
      "- 2023-11-06 08:53:01: MainProcess:nqcpfem.solvers >> DEBUG:solving problem:\n",
      "- 2023-11-06 08:53:16: MainProcess:nqcpfem.solvers >> DEBUG: number of converged eigenvectors: 16\n"
     ]
    },
    {
     "name": "stdout",
     "output_type": "stream",
     "text": [
      "(21008, 21008)\n"
     ]
    },
    {
     "name": "stderr",
     "output_type": "stream",
     "text": [
      "- 2023-11-06 08:53:22: MainProcess:nqcpfem.parameter_search >> INFO:evaluating at grid point 192/1024\n",
      "- 2023-11-06 08:53:22: MainProcess:nqcpfem.parameter_search >> DEBUG:parameters: {'mu_sc_val': 6.884944078001299e-22, 'mu_R_val': -25.244618395303334}\n",
      "- 2023-11-06 08:53:22: MainProcess:nqcpfem.fenics >> DEBUG:creating PETSc Matrix\n",
      "- 2023-11-06 08:53:22: MainProcess:nqcpfem.fenics >> DEBUG:gathering constants\n",
      "- 2023-11-06 08:53:22: MainProcess:nqcpfem.fenics >> DEBUG:retrieving parameter and constant dicts\n",
      "- 2023-11-06 08:53:22: MainProcess:nqcpfem.fenics >> DEBUG:updating values\n",
      "- 2023-11-06 08:53:23: MainProcess:nqcpfem.fenics >> DEBUG:retireving energy scale\n",
      "- 2023-11-06 08:53:23: MainProcess:nqcpfem.fenics >> DEBUG:gathering constants complete\n",
      "- 2023-11-06 08:53:23: MainProcess:nqcpfem.fenics >> DEBUG:assembling array\n"
     ]
    },
    {
     "name": "stdout",
     "output_type": "stream",
     "text": [
      "192\n"
     ]
    },
    {
     "name": "stderr",
     "output_type": "stream",
     "text": [
      "- 2023-11-06 08:53:23: MainProcess:nqcpfem.solvers >> DEBUG:solving problem:\n",
      "- 2023-11-06 08:53:35: MainProcess:nqcpfem.solvers >> DEBUG: number of converged eigenvectors: 16\n"
     ]
    },
    {
     "name": "stdout",
     "output_type": "stream",
     "text": [
      "(21008, 21008)\n"
     ]
    },
    {
     "name": "stderr",
     "output_type": "stream",
     "text": [
      "- 2023-11-06 08:53:41: MainProcess:nqcpfem.parameter_search >> INFO:evaluating at grid point 193/1024\n",
      "- 2023-11-06 08:53:41: MainProcess:nqcpfem.parameter_search >> DEBUG:parameters: {'mu_sc_val': 6.884944078001299e-22, 'mu_R_val': -24.853228962818008}\n",
      "- 2023-11-06 08:53:41: MainProcess:nqcpfem.fenics >> DEBUG:creating PETSc Matrix\n",
      "- 2023-11-06 08:53:41: MainProcess:nqcpfem.fenics >> DEBUG:gathering constants\n",
      "- 2023-11-06 08:53:41: MainProcess:nqcpfem.fenics >> DEBUG:retrieving parameter and constant dicts\n",
      "- 2023-11-06 08:53:41: MainProcess:nqcpfem.fenics >> DEBUG:updating values\n",
      "- 2023-11-06 08:53:41: MainProcess:nqcpfem.fenics >> DEBUG:retireving energy scale\n"
     ]
    },
    {
     "name": "stdout",
     "output_type": "stream",
     "text": [
      "193\n"
     ]
    },
    {
     "name": "stderr",
     "output_type": "stream",
     "text": [
      "- 2023-11-06 08:53:41: MainProcess:nqcpfem.fenics >> DEBUG:gathering constants complete\n",
      "- 2023-11-06 08:53:41: MainProcess:nqcpfem.fenics >> DEBUG:assembling array\n",
      "- 2023-11-06 08:53:42: MainProcess:nqcpfem.solvers >> DEBUG:solving problem:\n",
      "- 2023-11-06 08:53:52: MainProcess:nqcpfem.solvers >> DEBUG: number of converged eigenvectors: 16\n"
     ]
    },
    {
     "name": "stdout",
     "output_type": "stream",
     "text": [
      "(21008, 21008)\n"
     ]
    },
    {
     "name": "stderr",
     "output_type": "stream",
     "text": [
      "- 2023-11-06 08:53:58: MainProcess:nqcpfem.parameter_search >> INFO:evaluating at grid point 194/1024\n",
      "- 2023-11-06 08:53:58: MainProcess:nqcpfem.parameter_search >> DEBUG:parameters: {'mu_sc_val': 6.884944078001299e-22, 'mu_R_val': -24.461839530332682}\n",
      "- 2023-11-06 08:53:58: MainProcess:nqcpfem.fenics >> DEBUG:creating PETSc Matrix\n",
      "- 2023-11-06 08:53:59: MainProcess:nqcpfem.fenics >> DEBUG:gathering constants\n",
      "- 2023-11-06 08:53:59: MainProcess:nqcpfem.fenics >> DEBUG:retrieving parameter and constant dicts\n",
      "- 2023-11-06 08:53:59: MainProcess:nqcpfem.fenics >> DEBUG:updating values\n"
     ]
    },
    {
     "name": "stdout",
     "output_type": "stream",
     "text": [
      "194\n"
     ]
    },
    {
     "name": "stderr",
     "output_type": "stream",
     "text": [
      "- 2023-11-06 08:53:59: MainProcess:nqcpfem.fenics >> DEBUG:retireving energy scale\n",
      "- 2023-11-06 08:53:59: MainProcess:nqcpfem.fenics >> DEBUG:gathering constants complete\n",
      "- 2023-11-06 08:53:59: MainProcess:nqcpfem.fenics >> DEBUG:assembling array\n",
      "- 2023-11-06 08:54:00: MainProcess:nqcpfem.solvers >> DEBUG:solving problem:\n",
      "- 2023-11-06 08:54:16: MainProcess:nqcpfem.solvers >> DEBUG: number of converged eigenvectors: 16\n"
     ]
    },
    {
     "name": "stdout",
     "output_type": "stream",
     "text": [
      "(21008, 21008)\n"
     ]
    },
    {
     "name": "stderr",
     "output_type": "stream",
     "text": [
      "- 2023-11-06 08:54:23: MainProcess:nqcpfem.parameter_search >> INFO:evaluating at grid point 195/1024\n",
      "- 2023-11-06 08:54:23: MainProcess:nqcpfem.parameter_search >> DEBUG:parameters: {'mu_sc_val': 6.884944078001299e-22, 'mu_R_val': -24.070450097847356}\n",
      "- 2023-11-06 08:54:23: MainProcess:nqcpfem.fenics >> DEBUG:creating PETSc Matrix\n",
      "- 2023-11-06 08:54:23: MainProcess:nqcpfem.fenics >> DEBUG:gathering constants\n",
      "- 2023-11-06 08:54:23: MainProcess:nqcpfem.fenics >> DEBUG:retrieving parameter and constant dicts\n",
      "- 2023-11-06 08:54:23: MainProcess:nqcpfem.fenics >> DEBUG:updating values\n",
      "- 2023-11-06 08:54:23: MainProcess:nqcpfem.fenics >> DEBUG:retireving energy scale\n",
      "- 2023-11-06 08:54:23: MainProcess:nqcpfem.fenics >> DEBUG:gathering constants complete\n",
      "- 2023-11-06 08:54:23: MainProcess:nqcpfem.fenics >> DEBUG:assembling array\n"
     ]
    },
    {
     "name": "stdout",
     "output_type": "stream",
     "text": [
      "195\n"
     ]
    },
    {
     "name": "stderr",
     "output_type": "stream",
     "text": [
      "- 2023-11-06 08:54:23: MainProcess:nqcpfem.solvers >> DEBUG:solving problem:\n",
      "- 2023-11-06 08:54:35: MainProcess:nqcpfem.solvers >> DEBUG: number of converged eigenvectors: 16\n"
     ]
    },
    {
     "name": "stdout",
     "output_type": "stream",
     "text": [
      "(21008, 21008)\n"
     ]
    },
    {
     "name": "stderr",
     "output_type": "stream",
     "text": [
      "- 2023-11-06 08:54:41: MainProcess:nqcpfem.parameter_search >> INFO:evaluating at grid point 196/1024\n",
      "- 2023-11-06 08:54:41: MainProcess:nqcpfem.parameter_search >> DEBUG:parameters: {'mu_sc_val': 6.884944078001299e-22, 'mu_R_val': -23.679060665362044}\n",
      "- 2023-11-06 08:54:41: MainProcess:nqcpfem.fenics >> DEBUG:creating PETSc Matrix\n",
      "- 2023-11-06 08:54:41: MainProcess:nqcpfem.fenics >> DEBUG:gathering constants\n",
      "- 2023-11-06 08:54:41: MainProcess:nqcpfem.fenics >> DEBUG:retrieving parameter and constant dicts\n",
      "- 2023-11-06 08:54:41: MainProcess:nqcpfem.fenics >> DEBUG:updating values\n",
      "- 2023-11-06 08:54:41: MainProcess:nqcpfem.fenics >> DEBUG:retireving energy scale\n",
      "- 2023-11-06 08:54:41: MainProcess:nqcpfem.fenics >> DEBUG:gathering constants complete\n"
     ]
    },
    {
     "name": "stdout",
     "output_type": "stream",
     "text": [
      "196\n"
     ]
    },
    {
     "name": "stderr",
     "output_type": "stream",
     "text": [
      "- 2023-11-06 08:54:41: MainProcess:nqcpfem.fenics >> DEBUG:assembling array\n",
      "- 2023-11-06 08:54:42: MainProcess:nqcpfem.solvers >> DEBUG:solving problem:\n",
      "- 2023-11-06 08:54:55: MainProcess:nqcpfem.solvers >> DEBUG: number of converged eigenvectors: 16\n"
     ]
    },
    {
     "name": "stdout",
     "output_type": "stream",
     "text": [
      "(21008, 21008)\n"
     ]
    },
    {
     "name": "stderr",
     "output_type": "stream",
     "text": [
      "- 2023-11-06 08:55:01: MainProcess:nqcpfem.parameter_search >> INFO:evaluating at grid point 197/1024\n",
      "- 2023-11-06 08:55:01: MainProcess:nqcpfem.parameter_search >> DEBUG:parameters: {'mu_sc_val': 6.884944078001299e-22, 'mu_R_val': -23.28767123287672}\n",
      "- 2023-11-06 08:55:01: MainProcess:nqcpfem.fenics >> DEBUG:creating PETSc Matrix\n",
      "- 2023-11-06 08:55:02: MainProcess:nqcpfem.fenics >> DEBUG:gathering constants\n",
      "- 2023-11-06 08:55:02: MainProcess:nqcpfem.fenics >> DEBUG:retrieving parameter and constant dicts\n",
      "- 2023-11-06 08:55:02: MainProcess:nqcpfem.fenics >> DEBUG:updating values\n",
      "- 2023-11-06 08:55:02: MainProcess:nqcpfem.fenics >> DEBUG:retireving energy scale\n",
      "- 2023-11-06 08:55:02: MainProcess:nqcpfem.fenics >> DEBUG:gathering constants complete\n",
      "- 2023-11-06 08:55:02: MainProcess:nqcpfem.fenics >> DEBUG:assembling array\n"
     ]
    },
    {
     "name": "stdout",
     "output_type": "stream",
     "text": [
      "197\n"
     ]
    },
    {
     "name": "stderr",
     "output_type": "stream",
     "text": [
      "- 2023-11-06 08:55:02: MainProcess:nqcpfem.solvers >> DEBUG:solving problem:\n",
      "- 2023-11-06 08:55:18: MainProcess:nqcpfem.solvers >> DEBUG: number of converged eigenvectors: 16\n"
     ]
    },
    {
     "name": "stdout",
     "output_type": "stream",
     "text": [
      "(21008, 21008)\n"
     ]
    },
    {
     "name": "stderr",
     "output_type": "stream",
     "text": [
      "- 2023-11-06 08:55:24: MainProcess:nqcpfem.parameter_search >> INFO:evaluating at grid point 198/1024\n",
      "- 2023-11-06 08:55:24: MainProcess:nqcpfem.parameter_search >> DEBUG:parameters: {'mu_sc_val': 6.884944078001299e-22, 'mu_R_val': -22.896281800391392}\n",
      "- 2023-11-06 08:55:24: MainProcess:nqcpfem.fenics >> DEBUG:creating PETSc Matrix\n",
      "- 2023-11-06 08:55:24: MainProcess:nqcpfem.fenics >> DEBUG:gathering constants\n",
      "- 2023-11-06 08:55:24: MainProcess:nqcpfem.fenics >> DEBUG:retrieving parameter and constant dicts\n",
      "- 2023-11-06 08:55:24: MainProcess:nqcpfem.fenics >> DEBUG:updating values\n",
      "- 2023-11-06 08:55:24: MainProcess:nqcpfem.fenics >> DEBUG:retireving energy scale\n",
      "- 2023-11-06 08:55:24: MainProcess:nqcpfem.fenics >> DEBUG:gathering constants complete\n",
      "- 2023-11-06 08:55:24: MainProcess:nqcpfem.fenics >> DEBUG:assembling array\n"
     ]
    },
    {
     "name": "stdout",
     "output_type": "stream",
     "text": [
      "198\n"
     ]
    },
    {
     "name": "stderr",
     "output_type": "stream",
     "text": [
      "- 2023-11-06 08:55:24: MainProcess:nqcpfem.solvers >> DEBUG:solving problem:\n",
      "- 2023-11-06 08:55:35: MainProcess:nqcpfem.solvers >> DEBUG: number of converged eigenvectors: 16\n"
     ]
    },
    {
     "name": "stdout",
     "output_type": "stream",
     "text": [
      "(21008, 21008)\n"
     ]
    },
    {
     "name": "stderr",
     "output_type": "stream",
     "text": [
      "- 2023-11-06 08:55:39: MainProcess:nqcpfem.parameter_search >> INFO:evaluating at grid point 199/1024\n",
      "- 2023-11-06 08:55:39: MainProcess:nqcpfem.parameter_search >> DEBUG:parameters: {'mu_sc_val': 6.884944078001299e-22, 'mu_R_val': -22.504892367906066}\n",
      "- 2023-11-06 08:55:39: MainProcess:nqcpfem.fenics >> DEBUG:creating PETSc Matrix\n",
      "- 2023-11-06 08:55:39: MainProcess:nqcpfem.fenics >> DEBUG:gathering constants\n",
      "- 2023-11-06 08:55:39: MainProcess:nqcpfem.fenics >> DEBUG:retrieving parameter and constant dicts\n",
      "- 2023-11-06 08:55:39: MainProcess:nqcpfem.fenics >> DEBUG:updating values\n",
      "- 2023-11-06 08:55:40: MainProcess:nqcpfem.fenics >> DEBUG:retireving energy scale\n",
      "- 2023-11-06 08:55:40: MainProcess:nqcpfem.fenics >> DEBUG:gathering constants complete\n",
      "- 2023-11-06 08:55:40: MainProcess:nqcpfem.fenics >> DEBUG:assembling array\n"
     ]
    },
    {
     "name": "stdout",
     "output_type": "stream",
     "text": [
      "199\n"
     ]
    },
    {
     "name": "stderr",
     "output_type": "stream",
     "text": [
      "- 2023-11-06 08:55:40: MainProcess:nqcpfem.solvers >> DEBUG:solving problem:\n",
      "- 2023-11-06 08:55:51: MainProcess:nqcpfem.solvers >> DEBUG: number of converged eigenvectors: 16\n"
     ]
    },
    {
     "name": "stdout",
     "output_type": "stream",
     "text": [
      "(21008, 21008)\n"
     ]
    },
    {
     "name": "stderr",
     "output_type": "stream",
     "text": [
      "- 2023-11-06 08:55:55: MainProcess:nqcpfem.parameter_search >> INFO:evaluating at grid point 200/1024\n",
      "- 2023-11-06 08:55:55: MainProcess:nqcpfem.parameter_search >> DEBUG:parameters: {'mu_sc_val': 6.884944078001299e-22, 'mu_R_val': -22.113502935420755}\n",
      "- 2023-11-06 08:55:55: MainProcess:nqcpfem.fenics >> DEBUG:creating PETSc Matrix\n",
      "- 2023-11-06 08:55:55: MainProcess:nqcpfem.fenics >> DEBUG:gathering constants\n",
      "- 2023-11-06 08:55:55: MainProcess:nqcpfem.fenics >> DEBUG:retrieving parameter and constant dicts\n",
      "- 2023-11-06 08:55:55: MainProcess:nqcpfem.fenics >> DEBUG:updating values\n",
      "- 2023-11-06 08:55:55: MainProcess:nqcpfem.fenics >> DEBUG:retireving energy scale\n",
      "- 2023-11-06 08:55:55: MainProcess:nqcpfem.fenics >> DEBUG:gathering constants complete\n",
      "- 2023-11-06 08:55:55: MainProcess:nqcpfem.fenics >> DEBUG:assembling array\n"
     ]
    },
    {
     "name": "stdout",
     "output_type": "stream",
     "text": [
      "200\n"
     ]
    },
    {
     "name": "stderr",
     "output_type": "stream",
     "text": [
      "- 2023-11-06 08:55:55: MainProcess:nqcpfem.solvers >> DEBUG:solving problem:\n",
      "- 2023-11-06 08:56:07: MainProcess:nqcpfem.solvers >> DEBUG: number of converged eigenvectors: 16\n"
     ]
    },
    {
     "name": "stdout",
     "output_type": "stream",
     "text": [
      "(21008, 21008)\n"
     ]
    },
    {
     "name": "stderr",
     "output_type": "stream",
     "text": [
      "- 2023-11-06 08:56:13: MainProcess:nqcpfem.parameter_search >> INFO:evaluating at grid point 201/1024\n",
      "- 2023-11-06 08:56:13: MainProcess:nqcpfem.parameter_search >> DEBUG:parameters: {'mu_sc_val': 6.884944078001299e-22, 'mu_R_val': -21.72211350293543}\n",
      "- 2023-11-06 08:56:13: MainProcess:nqcpfem.fenics >> DEBUG:creating PETSc Matrix\n",
      "- 2023-11-06 08:56:13: MainProcess:nqcpfem.fenics >> DEBUG:gathering constants\n",
      "- 2023-11-06 08:56:13: MainProcess:nqcpfem.fenics >> DEBUG:retrieving parameter and constant dicts\n",
      "- 2023-11-06 08:56:13: MainProcess:nqcpfem.fenics >> DEBUG:updating values\n",
      "- 2023-11-06 08:56:13: MainProcess:nqcpfem.fenics >> DEBUG:retireving energy scale\n",
      "- 2023-11-06 08:56:13: MainProcess:nqcpfem.fenics >> DEBUG:gathering constants complete\n",
      "- 2023-11-06 08:56:13: MainProcess:nqcpfem.fenics >> DEBUG:assembling array\n"
     ]
    },
    {
     "name": "stdout",
     "output_type": "stream",
     "text": [
      "201\n"
     ]
    },
    {
     "name": "stderr",
     "output_type": "stream",
     "text": [
      "- 2023-11-06 08:56:13: MainProcess:nqcpfem.solvers >> DEBUG:solving problem:\n",
      "- 2023-11-06 08:56:26: MainProcess:nqcpfem.solvers >> DEBUG: number of converged eigenvectors: 16\n"
     ]
    },
    {
     "name": "stdout",
     "output_type": "stream",
     "text": [
      "(21008, 21008)\n"
     ]
    },
    {
     "name": "stderr",
     "output_type": "stream",
     "text": [
      "- 2023-11-06 08:56:34: MainProcess:nqcpfem.parameter_search >> INFO:evaluating at grid point 202/1024\n",
      "- 2023-11-06 08:56:34: MainProcess:nqcpfem.parameter_search >> DEBUG:parameters: {'mu_sc_val': 6.884944078001299e-22, 'mu_R_val': -21.330724070450103}\n",
      "- 2023-11-06 08:56:34: MainProcess:nqcpfem.fenics >> DEBUG:creating PETSc Matrix\n",
      "- 2023-11-06 08:56:34: MainProcess:nqcpfem.fenics >> DEBUG:gathering constants\n",
      "- 2023-11-06 08:56:34: MainProcess:nqcpfem.fenics >> DEBUG:retrieving parameter and constant dicts\n",
      "- 2023-11-06 08:56:34: MainProcess:nqcpfem.fenics >> DEBUG:updating values\n"
     ]
    },
    {
     "name": "stdout",
     "output_type": "stream",
     "text": [
      "202\n"
     ]
    },
    {
     "name": "stderr",
     "output_type": "stream",
     "text": [
      "- 2023-11-06 08:56:35: MainProcess:nqcpfem.fenics >> DEBUG:retireving energy scale\n",
      "- 2023-11-06 08:56:35: MainProcess:nqcpfem.fenics >> DEBUG:gathering constants complete\n",
      "- 2023-11-06 08:56:35: MainProcess:nqcpfem.fenics >> DEBUG:assembling array\n",
      "- 2023-11-06 08:56:35: MainProcess:nqcpfem.solvers >> DEBUG:solving problem:\n",
      "- 2023-11-06 08:56:57: MainProcess:nqcpfem.solvers >> DEBUG: number of converged eigenvectors: 16\n"
     ]
    },
    {
     "name": "stdout",
     "output_type": "stream",
     "text": [
      "(21008, 21008)\n"
     ]
    },
    {
     "name": "stderr",
     "output_type": "stream",
     "text": [
      "- 2023-11-06 08:57:03: MainProcess:nqcpfem.parameter_search >> INFO:evaluating at grid point 203/1024\n",
      "- 2023-11-06 08:57:03: MainProcess:nqcpfem.parameter_search >> DEBUG:parameters: {'mu_sc_val': 6.884944078001299e-22, 'mu_R_val': -20.939334637964777}\n",
      "- 2023-11-06 08:57:03: MainProcess:nqcpfem.fenics >> DEBUG:creating PETSc Matrix\n",
      "- 2023-11-06 08:57:03: MainProcess:nqcpfem.fenics >> DEBUG:gathering constants\n",
      "- 2023-11-06 08:57:03: MainProcess:nqcpfem.fenics >> DEBUG:retrieving parameter and constant dicts\n",
      "- 2023-11-06 08:57:03: MainProcess:nqcpfem.fenics >> DEBUG:updating values\n",
      "- 2023-11-06 08:57:03: MainProcess:nqcpfem.fenics >> DEBUG:retireving energy scale\n",
      "- 2023-11-06 08:57:03: MainProcess:nqcpfem.fenics >> DEBUG:gathering constants complete\n",
      "- 2023-11-06 08:57:03: MainProcess:nqcpfem.fenics >> DEBUG:assembling array\n"
     ]
    },
    {
     "name": "stdout",
     "output_type": "stream",
     "text": [
      "203\n"
     ]
    },
    {
     "name": "stderr",
     "output_type": "stream",
     "text": [
      "- 2023-11-06 08:57:03: MainProcess:nqcpfem.solvers >> DEBUG:solving problem:\n",
      "- 2023-11-06 08:57:15: MainProcess:nqcpfem.solvers >> DEBUG: number of converged eigenvectors: 16\n"
     ]
    },
    {
     "name": "stdout",
     "output_type": "stream",
     "text": [
      "(21008, 21008)\n"
     ]
    },
    {
     "name": "stderr",
     "output_type": "stream",
     "text": [
      "- 2023-11-06 08:57:22: MainProcess:nqcpfem.parameter_search >> INFO:evaluating at grid point 204/1024\n",
      "- 2023-11-06 08:57:22: MainProcess:nqcpfem.parameter_search >> DEBUG:parameters: {'mu_sc_val': 6.884944078001299e-22, 'mu_R_val': -20.54794520547945}\n",
      "- 2023-11-06 08:57:22: MainProcess:nqcpfem.fenics >> DEBUG:creating PETSc Matrix\n",
      "- 2023-11-06 08:57:22: MainProcess:nqcpfem.fenics >> DEBUG:gathering constants\n",
      "- 2023-11-06 08:57:22: MainProcess:nqcpfem.fenics >> DEBUG:retrieving parameter and constant dicts\n",
      "- 2023-11-06 08:57:22: MainProcess:nqcpfem.fenics >> DEBUG:updating values\n",
      "- 2023-11-06 08:57:22: MainProcess:nqcpfem.fenics >> DEBUG:retireving energy scale\n",
      "- 2023-11-06 08:57:22: MainProcess:nqcpfem.fenics >> DEBUG:gathering constants complete\n",
      "- 2023-11-06 08:57:23: MainProcess:nqcpfem.fenics >> DEBUG:assembling array\n"
     ]
    },
    {
     "name": "stdout",
     "output_type": "stream",
     "text": [
      "204\n"
     ]
    },
    {
     "name": "stderr",
     "output_type": "stream",
     "text": [
      "- 2023-11-06 08:57:23: MainProcess:nqcpfem.solvers >> DEBUG:solving problem:\n",
      "- 2023-11-06 08:57:35: MainProcess:nqcpfem.solvers >> DEBUG: number of converged eigenvectors: 16\n"
     ]
    },
    {
     "name": "stdout",
     "output_type": "stream",
     "text": [
      "(21008, 21008)\n"
     ]
    },
    {
     "name": "stderr",
     "output_type": "stream",
     "text": [
      "- 2023-11-06 08:57:42: MainProcess:nqcpfem.parameter_search >> INFO:evaluating at grid point 205/1024\n",
      "- 2023-11-06 08:57:42: MainProcess:nqcpfem.parameter_search >> DEBUG:parameters: {'mu_sc_val': 6.884944078001299e-22, 'mu_R_val': -20.15655577299414}\n",
      "- 2023-11-06 08:57:42: MainProcess:nqcpfem.fenics >> DEBUG:creating PETSc Matrix\n",
      "- 2023-11-06 08:57:42: MainProcess:nqcpfem.fenics >> DEBUG:gathering constants\n",
      "- 2023-11-06 08:57:42: MainProcess:nqcpfem.fenics >> DEBUG:retrieving parameter and constant dicts\n",
      "- 2023-11-06 08:57:42: MainProcess:nqcpfem.fenics >> DEBUG:updating values\n",
      "- 2023-11-06 08:57:42: MainProcess:nqcpfem.fenics >> DEBUG:retireving energy scale\n",
      "- 2023-11-06 08:57:42: MainProcess:nqcpfem.fenics >> DEBUG:gathering constants complete\n",
      "- 2023-11-06 08:57:42: MainProcess:nqcpfem.fenics >> DEBUG:assembling array\n"
     ]
    },
    {
     "name": "stdout",
     "output_type": "stream",
     "text": [
      "205\n"
     ]
    },
    {
     "name": "stderr",
     "output_type": "stream",
     "text": [
      "- 2023-11-06 08:57:42: MainProcess:nqcpfem.solvers >> DEBUG:solving problem:\n",
      "- 2023-11-06 08:57:55: MainProcess:nqcpfem.solvers >> DEBUG: number of converged eigenvectors: 16\n"
     ]
    },
    {
     "name": "stdout",
     "output_type": "stream",
     "text": [
      "(21008, 21008)\n"
     ]
    },
    {
     "name": "stderr",
     "output_type": "stream",
     "text": [
      "- 2023-11-06 08:58:02: MainProcess:nqcpfem.parameter_search >> INFO:evaluating at grid point 206/1024\n",
      "- 2023-11-06 08:58:02: MainProcess:nqcpfem.parameter_search >> DEBUG:parameters: {'mu_sc_val': 6.884944078001299e-22, 'mu_R_val': -19.765166340508813}\n",
      "- 2023-11-06 08:58:02: MainProcess:nqcpfem.fenics >> DEBUG:creating PETSc Matrix\n",
      "- 2023-11-06 08:58:02: MainProcess:nqcpfem.fenics >> DEBUG:gathering constants\n",
      "- 2023-11-06 08:58:02: MainProcess:nqcpfem.fenics >> DEBUG:retrieving parameter and constant dicts\n",
      "- 2023-11-06 08:58:02: MainProcess:nqcpfem.fenics >> DEBUG:updating values\n",
      "- 2023-11-06 08:58:02: MainProcess:nqcpfem.fenics >> DEBUG:retireving energy scale\n",
      "- 2023-11-06 08:58:02: MainProcess:nqcpfem.fenics >> DEBUG:gathering constants complete\n",
      "- 2023-11-06 08:58:02: MainProcess:nqcpfem.fenics >> DEBUG:assembling array\n"
     ]
    },
    {
     "name": "stdout",
     "output_type": "stream",
     "text": [
      "206\n"
     ]
    },
    {
     "name": "stderr",
     "output_type": "stream",
     "text": [
      "- 2023-11-06 08:58:02: MainProcess:nqcpfem.solvers >> DEBUG:solving problem:\n",
      "- 2023-11-06 08:58:13: MainProcess:nqcpfem.solvers >> DEBUG: number of converged eigenvectors: 16\n"
     ]
    },
    {
     "name": "stdout",
     "output_type": "stream",
     "text": [
      "(21008, 21008)\n"
     ]
    },
    {
     "name": "stderr",
     "output_type": "stream",
     "text": [
      "- 2023-11-06 08:58:18: MainProcess:nqcpfem.parameter_search >> INFO:evaluating at grid point 207/1024\n",
      "- 2023-11-06 08:58:18: MainProcess:nqcpfem.parameter_search >> DEBUG:parameters: {'mu_sc_val': 6.884944078001299e-22, 'mu_R_val': -19.373776908023487}\n",
      "- 2023-11-06 08:58:18: MainProcess:nqcpfem.fenics >> DEBUG:creating PETSc Matrix\n",
      "- 2023-11-06 08:58:18: MainProcess:nqcpfem.fenics >> DEBUG:gathering constants\n",
      "- 2023-11-06 08:58:18: MainProcess:nqcpfem.fenics >> DEBUG:retrieving parameter and constant dicts\n",
      "- 2023-11-06 08:58:18: MainProcess:nqcpfem.fenics >> DEBUG:updating values\n"
     ]
    },
    {
     "name": "stdout",
     "output_type": "stream",
     "text": [
      "207\n"
     ]
    },
    {
     "name": "stderr",
     "output_type": "stream",
     "text": [
      "- 2023-11-06 08:58:18: MainProcess:nqcpfem.fenics >> DEBUG:retireving energy scale\n",
      "- 2023-11-06 08:58:18: MainProcess:nqcpfem.fenics >> DEBUG:gathering constants complete\n",
      "- 2023-11-06 08:58:18: MainProcess:nqcpfem.fenics >> DEBUG:assembling array\n",
      "- 2023-11-06 08:58:19: MainProcess:nqcpfem.solvers >> DEBUG:solving problem:\n",
      "- 2023-11-06 08:58:32: MainProcess:nqcpfem.solvers >> DEBUG: number of converged eigenvectors: 16\n"
     ]
    },
    {
     "name": "stdout",
     "output_type": "stream",
     "text": [
      "(21008, 21008)\n"
     ]
    },
    {
     "name": "stderr",
     "output_type": "stream",
     "text": [
      "- 2023-11-06 08:58:39: MainProcess:nqcpfem.parameter_search >> INFO:evaluating at grid point 208/1024\n",
      "- 2023-11-06 08:58:39: MainProcess:nqcpfem.parameter_search >> DEBUG:parameters: {'mu_sc_val': 6.884944078001299e-22, 'mu_R_val': -18.98238747553816}\n",
      "- 2023-11-06 08:58:39: MainProcess:nqcpfem.fenics >> DEBUG:creating PETSc Matrix\n",
      "- 2023-11-06 08:58:40: MainProcess:nqcpfem.fenics >> DEBUG:gathering constants\n",
      "- 2023-11-06 08:58:40: MainProcess:nqcpfem.fenics >> DEBUG:retrieving parameter and constant dicts\n",
      "- 2023-11-06 08:58:40: MainProcess:nqcpfem.fenics >> DEBUG:updating values\n"
     ]
    },
    {
     "name": "stdout",
     "output_type": "stream",
     "text": [
      "208\n"
     ]
    },
    {
     "name": "stderr",
     "output_type": "stream",
     "text": [
      "- 2023-11-06 08:58:40: MainProcess:nqcpfem.fenics >> DEBUG:retireving energy scale\n",
      "- 2023-11-06 08:58:40: MainProcess:nqcpfem.fenics >> DEBUG:gathering constants complete\n",
      "- 2023-11-06 08:58:40: MainProcess:nqcpfem.fenics >> DEBUG:assembling array\n",
      "- 2023-11-06 08:58:40: MainProcess:nqcpfem.solvers >> DEBUG:solving problem:\n",
      "- 2023-11-06 08:58:55: MainProcess:nqcpfem.solvers >> DEBUG: number of converged eigenvectors: 16\n"
     ]
    },
    {
     "name": "stdout",
     "output_type": "stream",
     "text": [
      "(21008, 21008)\n"
     ]
    },
    {
     "name": "stderr",
     "output_type": "stream",
     "text": [
      "- 2023-11-06 08:59:04: MainProcess:nqcpfem.parameter_search >> INFO:evaluating at grid point 209/1024\n",
      "- 2023-11-06 08:59:04: MainProcess:nqcpfem.parameter_search >> DEBUG:parameters: {'mu_sc_val': 6.884944078001299e-22, 'mu_R_val': -18.59099804305285}\n",
      "- 2023-11-06 08:59:04: MainProcess:nqcpfem.fenics >> DEBUG:creating PETSc Matrix\n",
      "- 2023-11-06 08:59:04: MainProcess:nqcpfem.fenics >> DEBUG:gathering constants\n",
      "- 2023-11-06 08:59:04: MainProcess:nqcpfem.fenics >> DEBUG:retrieving parameter and constant dicts\n",
      "- 2023-11-06 08:59:04: MainProcess:nqcpfem.fenics >> DEBUG:updating values\n"
     ]
    },
    {
     "name": "stdout",
     "output_type": "stream",
     "text": [
      "209\n"
     ]
    },
    {
     "name": "stderr",
     "output_type": "stream",
     "text": [
      "- 2023-11-06 08:59:04: MainProcess:nqcpfem.fenics >> DEBUG:retireving energy scale\n",
      "- 2023-11-06 08:59:04: MainProcess:nqcpfem.fenics >> DEBUG:gathering constants complete\n",
      "- 2023-11-06 08:59:04: MainProcess:nqcpfem.fenics >> DEBUG:assembling array\n",
      "- 2023-11-06 08:59:05: MainProcess:nqcpfem.solvers >> DEBUG:solving problem:\n",
      "- 2023-11-06 08:59:16: MainProcess:nqcpfem.solvers >> DEBUG: number of converged eigenvectors: 16\n"
     ]
    },
    {
     "name": "stdout",
     "output_type": "stream",
     "text": [
      "(21008, 21008)\n"
     ]
    },
    {
     "name": "stderr",
     "output_type": "stream",
     "text": [
      "- 2023-11-06 08:59:21: MainProcess:nqcpfem.parameter_search >> INFO:evaluating at grid point 210/1024\n",
      "- 2023-11-06 08:59:21: MainProcess:nqcpfem.parameter_search >> DEBUG:parameters: {'mu_sc_val': 6.884944078001299e-22, 'mu_R_val': -18.199608610567523}\n",
      "- 2023-11-06 08:59:21: MainProcess:nqcpfem.fenics >> DEBUG:creating PETSc Matrix\n",
      "- 2023-11-06 08:59:21: MainProcess:nqcpfem.fenics >> DEBUG:gathering constants\n",
      "- 2023-11-06 08:59:21: MainProcess:nqcpfem.fenics >> DEBUG:retrieving parameter and constant dicts\n",
      "- 2023-11-06 08:59:21: MainProcess:nqcpfem.fenics >> DEBUG:updating values\n",
      "- 2023-11-06 08:59:21: MainProcess:nqcpfem.fenics >> DEBUG:retireving energy scale\n",
      "- 2023-11-06 08:59:21: MainProcess:nqcpfem.fenics >> DEBUG:gathering constants complete\n",
      "- 2023-11-06 08:59:21: MainProcess:nqcpfem.fenics >> DEBUG:assembling array\n"
     ]
    },
    {
     "name": "stdout",
     "output_type": "stream",
     "text": [
      "210\n"
     ]
    },
    {
     "name": "stderr",
     "output_type": "stream",
     "text": [
      "- 2023-11-06 08:59:22: MainProcess:nqcpfem.solvers >> DEBUG:solving problem:\n",
      "- 2023-11-06 08:59:35: MainProcess:nqcpfem.solvers >> DEBUG: number of converged eigenvectors: 16\n"
     ]
    },
    {
     "name": "stdout",
     "output_type": "stream",
     "text": [
      "(21008, 21008)\n"
     ]
    },
    {
     "name": "stderr",
     "output_type": "stream",
     "text": [
      "- 2023-11-06 08:59:39: MainProcess:nqcpfem.parameter_search >> INFO:evaluating at grid point 211/1024\n",
      "- 2023-11-06 08:59:39: MainProcess:nqcpfem.parameter_search >> DEBUG:parameters: {'mu_sc_val': 6.884944078001299e-22, 'mu_R_val': -17.808219178082197}\n",
      "- 2023-11-06 08:59:39: MainProcess:nqcpfem.fenics >> DEBUG:creating PETSc Matrix\n",
      "- 2023-11-06 08:59:39: MainProcess:nqcpfem.fenics >> DEBUG:gathering constants\n",
      "- 2023-11-06 08:59:39: MainProcess:nqcpfem.fenics >> DEBUG:retrieving parameter and constant dicts\n",
      "- 2023-11-06 08:59:39: MainProcess:nqcpfem.fenics >> DEBUG:updating values\n",
      "- 2023-11-06 08:59:39: MainProcess:nqcpfem.fenics >> DEBUG:retireving energy scale\n",
      "- 2023-11-06 08:59:39: MainProcess:nqcpfem.fenics >> DEBUG:gathering constants complete\n",
      "- 2023-11-06 08:59:40: MainProcess:nqcpfem.fenics >> DEBUG:assembling array\n",
      "- 2023-11-06 08:59:40: MainProcess:nqcpfem.solvers >> DEBUG:solving problem:\n"
     ]
    },
    {
     "name": "stdout",
     "output_type": "stream",
     "text": [
      "211\n",
      "(21008, 21008)\n"
     ]
    },
    {
     "name": "stderr",
     "output_type": "stream",
     "text": [
      "- 2023-11-06 08:59:49: MainProcess:nqcpfem.solvers >> DEBUG: number of converged eigenvectors: 16\n",
      "- 2023-11-06 08:59:54: MainProcess:nqcpfem.parameter_search >> INFO:evaluating at grid point 212/1024\n",
      "- 2023-11-06 08:59:54: MainProcess:nqcpfem.parameter_search >> DEBUG:parameters: {'mu_sc_val': 6.884944078001299e-22, 'mu_R_val': -17.41682974559687}\n",
      "- 2023-11-06 08:59:54: MainProcess:nqcpfem.fenics >> DEBUG:creating PETSc Matrix\n",
      "- 2023-11-06 08:59:54: MainProcess:nqcpfem.fenics >> DEBUG:gathering constants\n",
      "- 2023-11-06 08:59:54: MainProcess:nqcpfem.fenics >> DEBUG:retrieving parameter and constant dicts\n",
      "- 2023-11-06 08:59:54: MainProcess:nqcpfem.fenics >> DEBUG:updating values\n",
      "- 2023-11-06 08:59:54: MainProcess:nqcpfem.fenics >> DEBUG:retireving energy scale\n",
      "- 2023-11-06 08:59:54: MainProcess:nqcpfem.fenics >> DEBUG:gathering constants complete\n",
      "- 2023-11-06 08:59:54: MainProcess:nqcpfem.fenics >> DEBUG:assembling array\n"
     ]
    },
    {
     "name": "stdout",
     "output_type": "stream",
     "text": [
      "212\n"
     ]
    },
    {
     "name": "stderr",
     "output_type": "stream",
     "text": [
      "- 2023-11-06 08:59:55: MainProcess:nqcpfem.solvers >> DEBUG:solving problem:\n",
      "- 2023-11-06 09:00:08: MainProcess:nqcpfem.solvers >> DEBUG: number of converged eigenvectors: 16\n"
     ]
    },
    {
     "name": "stdout",
     "output_type": "stream",
     "text": [
      "(21008, 21008)\n"
     ]
    },
    {
     "name": "stderr",
     "output_type": "stream",
     "text": [
      "- 2023-11-06 09:00:15: MainProcess:nqcpfem.parameter_search >> INFO:evaluating at grid point 213/1024\n",
      "- 2023-11-06 09:00:15: MainProcess:nqcpfem.parameter_search >> DEBUG:parameters: {'mu_sc_val': 6.884944078001299e-22, 'mu_R_val': -17.025440313111545}\n",
      "- 2023-11-06 09:00:15: MainProcess:nqcpfem.fenics >> DEBUG:creating PETSc Matrix\n",
      "- 2023-11-06 09:00:15: MainProcess:nqcpfem.fenics >> DEBUG:gathering constants\n",
      "- 2023-11-06 09:00:15: MainProcess:nqcpfem.fenics >> DEBUG:retrieving parameter and constant dicts\n",
      "- 2023-11-06 09:00:15: MainProcess:nqcpfem.fenics >> DEBUG:updating values\n"
     ]
    },
    {
     "name": "stdout",
     "output_type": "stream",
     "text": [
      "213\n"
     ]
    },
    {
     "name": "stderr",
     "output_type": "stream",
     "text": [
      "- 2023-11-06 09:00:15: MainProcess:nqcpfem.fenics >> DEBUG:retireving energy scale\n",
      "- 2023-11-06 09:00:15: MainProcess:nqcpfem.fenics >> DEBUG:gathering constants complete\n",
      "- 2023-11-06 09:00:16: MainProcess:nqcpfem.fenics >> DEBUG:assembling array\n",
      "- 2023-11-06 09:00:16: MainProcess:nqcpfem.solvers >> DEBUG:solving problem:\n",
      "- 2023-11-06 09:00:25: MainProcess:nqcpfem.solvers >> DEBUG: number of converged eigenvectors: 16\n"
     ]
    },
    {
     "name": "stdout",
     "output_type": "stream",
     "text": [
      "(21008, 21008)\n"
     ]
    },
    {
     "name": "stderr",
     "output_type": "stream",
     "text": [
      "- 2023-11-06 09:00:31: MainProcess:nqcpfem.parameter_search >> INFO:evaluating at grid point 214/1024\n",
      "- 2023-11-06 09:00:31: MainProcess:nqcpfem.parameter_search >> DEBUG:parameters: {'mu_sc_val': 6.884944078001299e-22, 'mu_R_val': -16.634050880626233}\n",
      "- 2023-11-06 09:00:31: MainProcess:nqcpfem.fenics >> DEBUG:creating PETSc Matrix\n",
      "- 2023-11-06 09:00:31: MainProcess:nqcpfem.fenics >> DEBUG:gathering constants\n",
      "- 2023-11-06 09:00:31: MainProcess:nqcpfem.fenics >> DEBUG:retrieving parameter and constant dicts\n",
      "- 2023-11-06 09:00:31: MainProcess:nqcpfem.fenics >> DEBUG:updating values\n",
      "- 2023-11-06 09:00:31: MainProcess:nqcpfem.fenics >> DEBUG:retireving energy scale\n",
      "- 2023-11-06 09:00:31: MainProcess:nqcpfem.fenics >> DEBUG:gathering constants complete\n",
      "- 2023-11-06 09:00:31: MainProcess:nqcpfem.fenics >> DEBUG:assembling array\n",
      "- 2023-11-06 09:00:31: MainProcess:nqcpfem.solvers >> DEBUG:solving problem:\n"
     ]
    },
    {
     "name": "stdout",
     "output_type": "stream",
     "text": [
      "214\n",
      "(21008, 21008)\n"
     ]
    },
    {
     "name": "stderr",
     "output_type": "stream",
     "text": [
      "- 2023-11-06 09:00:39: MainProcess:nqcpfem.solvers >> DEBUG: number of converged eigenvectors: 16\n",
      "- 2023-11-06 09:00:44: MainProcess:nqcpfem.parameter_search >> INFO:evaluating at grid point 215/1024\n",
      "- 2023-11-06 09:00:44: MainProcess:nqcpfem.parameter_search >> DEBUG:parameters: {'mu_sc_val': 6.884944078001299e-22, 'mu_R_val': -16.242661448140908}\n",
      "- 2023-11-06 09:00:44: MainProcess:nqcpfem.fenics >> DEBUG:creating PETSc Matrix\n",
      "- 2023-11-06 09:00:44: MainProcess:nqcpfem.fenics >> DEBUG:gathering constants\n",
      "- 2023-11-06 09:00:44: MainProcess:nqcpfem.fenics >> DEBUG:retrieving parameter and constant dicts\n",
      "- 2023-11-06 09:00:44: MainProcess:nqcpfem.fenics >> DEBUG:updating values\n",
      "- 2023-11-06 09:00:44: MainProcess:nqcpfem.fenics >> DEBUG:retireving energy scale\n",
      "- 2023-11-06 09:00:44: MainProcess:nqcpfem.fenics >> DEBUG:gathering constants complete\n",
      "- 2023-11-06 09:00:44: MainProcess:nqcpfem.fenics >> DEBUG:assembling array\n"
     ]
    },
    {
     "name": "stdout",
     "output_type": "stream",
     "text": [
      "215\n"
     ]
    },
    {
     "name": "stderr",
     "output_type": "stream",
     "text": [
      "- 2023-11-06 09:00:45: MainProcess:nqcpfem.solvers >> DEBUG:solving problem:\n"
     ]
    },
    {
     "name": "stdout",
     "output_type": "stream",
     "text": [
      "(21008, 21008)\n"
     ]
    },
    {
     "name": "stderr",
     "output_type": "stream",
     "text": [
      "- 2023-11-06 09:00:57: MainProcess:nqcpfem.solvers >> DEBUG: number of converged eigenvectors: 16\n",
      "- 2023-11-06 09:01:04: MainProcess:nqcpfem.parameter_search >> INFO:evaluating at grid point 216/1024\n",
      "- 2023-11-06 09:01:04: MainProcess:nqcpfem.parameter_search >> DEBUG:parameters: {'mu_sc_val': 6.884944078001299e-22, 'mu_R_val': -15.851272015655582}\n",
      "- 2023-11-06 09:01:04: MainProcess:nqcpfem.fenics >> DEBUG:creating PETSc Matrix\n",
      "- 2023-11-06 09:01:04: MainProcess:nqcpfem.fenics >> DEBUG:gathering constants\n",
      "- 2023-11-06 09:01:04: MainProcess:nqcpfem.fenics >> DEBUG:retrieving parameter and constant dicts\n",
      "- 2023-11-06 09:01:05: MainProcess:nqcpfem.fenics >> DEBUG:updating values\n"
     ]
    },
    {
     "name": "stdout",
     "output_type": "stream",
     "text": [
      "216\n"
     ]
    },
    {
     "name": "stderr",
     "output_type": "stream",
     "text": [
      "- 2023-11-06 09:01:05: MainProcess:nqcpfem.fenics >> DEBUG:retireving energy scale\n",
      "- 2023-11-06 09:01:05: MainProcess:nqcpfem.fenics >> DEBUG:gathering constants complete\n",
      "- 2023-11-06 09:01:05: MainProcess:nqcpfem.fenics >> DEBUG:assembling array\n",
      "- 2023-11-06 09:01:06: MainProcess:nqcpfem.solvers >> DEBUG:solving problem:\n",
      "- 2023-11-06 09:01:17: MainProcess:nqcpfem.solvers >> DEBUG: number of converged eigenvectors: 16\n"
     ]
    },
    {
     "name": "stdout",
     "output_type": "stream",
     "text": [
      "(21008, 21008)\n"
     ]
    },
    {
     "name": "stderr",
     "output_type": "stream",
     "text": [
      "- 2023-11-06 09:01:24: MainProcess:nqcpfem.parameter_search >> INFO:evaluating at grid point 217/1024\n",
      "- 2023-11-06 09:01:24: MainProcess:nqcpfem.parameter_search >> DEBUG:parameters: {'mu_sc_val': 6.884944078001299e-22, 'mu_R_val': -15.459882583170256}\n",
      "- 2023-11-06 09:01:24: MainProcess:nqcpfem.fenics >> DEBUG:creating PETSc Matrix\n",
      "- 2023-11-06 09:01:24: MainProcess:nqcpfem.fenics >> DEBUG:gathering constants\n",
      "- 2023-11-06 09:01:24: MainProcess:nqcpfem.fenics >> DEBUG:retrieving parameter and constant dicts\n",
      "- 2023-11-06 09:01:24: MainProcess:nqcpfem.fenics >> DEBUG:updating values\n",
      "- 2023-11-06 09:01:24: MainProcess:nqcpfem.fenics >> DEBUG:retireving energy scale\n",
      "- 2023-11-06 09:01:24: MainProcess:nqcpfem.fenics >> DEBUG:gathering constants complete\n",
      "- 2023-11-06 09:01:24: MainProcess:nqcpfem.fenics >> DEBUG:assembling array\n"
     ]
    },
    {
     "name": "stdout",
     "output_type": "stream",
     "text": [
      "217\n"
     ]
    },
    {
     "name": "stderr",
     "output_type": "stream",
     "text": [
      "- 2023-11-06 09:01:24: MainProcess:nqcpfem.solvers >> DEBUG:solving problem:\n",
      "- 2023-11-06 09:01:37: MainProcess:nqcpfem.solvers >> DEBUG: number of converged eigenvectors: 16\n"
     ]
    },
    {
     "name": "stdout",
     "output_type": "stream",
     "text": [
      "(21008, 21008)\n"
     ]
    },
    {
     "name": "stderr",
     "output_type": "stream",
     "text": [
      "- 2023-11-06 09:01:43: MainProcess:nqcpfem.parameter_search >> INFO:evaluating at grid point 218/1024\n",
      "- 2023-11-06 09:01:43: MainProcess:nqcpfem.parameter_search >> DEBUG:parameters: {'mu_sc_val': 6.884944078001299e-22, 'mu_R_val': -15.06849315068493}\n",
      "- 2023-11-06 09:01:43: MainProcess:nqcpfem.fenics >> DEBUG:creating PETSc Matrix\n",
      "- 2023-11-06 09:01:43: MainProcess:nqcpfem.fenics >> DEBUG:gathering constants\n",
      "- 2023-11-06 09:01:43: MainProcess:nqcpfem.fenics >> DEBUG:retrieving parameter and constant dicts\n",
      "- 2023-11-06 09:01:43: MainProcess:nqcpfem.fenics >> DEBUG:updating values\n",
      "- 2023-11-06 09:01:43: MainProcess:nqcpfem.fenics >> DEBUG:retireving energy scale\n",
      "- 2023-11-06 09:01:43: MainProcess:nqcpfem.fenics >> DEBUG:gathering constants complete\n",
      "- 2023-11-06 09:01:43: MainProcess:nqcpfem.fenics >> DEBUG:assembling array\n"
     ]
    },
    {
     "name": "stdout",
     "output_type": "stream",
     "text": [
      "218\n"
     ]
    },
    {
     "name": "stderr",
     "output_type": "stream",
     "text": [
      "- 2023-11-06 09:01:43: MainProcess:nqcpfem.solvers >> DEBUG:solving problem:\n",
      "- 2023-11-06 09:01:54: MainProcess:nqcpfem.solvers >> DEBUG: number of converged eigenvectors: 16\n"
     ]
    },
    {
     "name": "stdout",
     "output_type": "stream",
     "text": [
      "(21008, 21008)\n"
     ]
    },
    {
     "name": "stderr",
     "output_type": "stream",
     "text": [
      "- 2023-11-06 09:02:00: MainProcess:nqcpfem.parameter_search >> INFO:evaluating at grid point 219/1024\n",
      "- 2023-11-06 09:02:00: MainProcess:nqcpfem.parameter_search >> DEBUG:parameters: {'mu_sc_val': 6.884944078001299e-22, 'mu_R_val': -14.677103718199618}\n",
      "- 2023-11-06 09:02:00: MainProcess:nqcpfem.fenics >> DEBUG:creating PETSc Matrix\n",
      "- 2023-11-06 09:02:00: MainProcess:nqcpfem.fenics >> DEBUG:gathering constants\n",
      "- 2023-11-06 09:02:00: MainProcess:nqcpfem.fenics >> DEBUG:retrieving parameter and constant dicts\n",
      "- 2023-11-06 09:02:00: MainProcess:nqcpfem.fenics >> DEBUG:updating values\n",
      "- 2023-11-06 09:02:00: MainProcess:nqcpfem.fenics >> DEBUG:retireving energy scale\n",
      "- 2023-11-06 09:02:00: MainProcess:nqcpfem.fenics >> DEBUG:gathering constants complete\n",
      "- 2023-11-06 09:02:00: MainProcess:nqcpfem.fenics >> DEBUG:assembling array\n"
     ]
    },
    {
     "name": "stdout",
     "output_type": "stream",
     "text": [
      "219\n"
     ]
    },
    {
     "name": "stderr",
     "output_type": "stream",
     "text": [
      "- 2023-11-06 09:02:00: MainProcess:nqcpfem.solvers >> DEBUG:solving problem:\n",
      "- 2023-11-06 09:02:13: MainProcess:nqcpfem.solvers >> DEBUG: number of converged eigenvectors: 16\n"
     ]
    },
    {
     "name": "stdout",
     "output_type": "stream",
     "text": [
      "(21008, 21008)\n"
     ]
    },
    {
     "name": "stderr",
     "output_type": "stream",
     "text": [
      "- 2023-11-06 09:02:18: MainProcess:nqcpfem.parameter_search >> INFO:evaluating at grid point 220/1024\n",
      "- 2023-11-06 09:02:18: MainProcess:nqcpfem.parameter_search >> DEBUG:parameters: {'mu_sc_val': 6.884944078001299e-22, 'mu_R_val': -14.285714285714292}\n",
      "- 2023-11-06 09:02:18: MainProcess:nqcpfem.fenics >> DEBUG:creating PETSc Matrix\n",
      "- 2023-11-06 09:02:18: MainProcess:nqcpfem.fenics >> DEBUG:gathering constants\n",
      "- 2023-11-06 09:02:18: MainProcess:nqcpfem.fenics >> DEBUG:retrieving parameter and constant dicts\n",
      "- 2023-11-06 09:02:18: MainProcess:nqcpfem.fenics >> DEBUG:updating values\n"
     ]
    },
    {
     "name": "stdout",
     "output_type": "stream",
     "text": [
      "220\n"
     ]
    },
    {
     "name": "stderr",
     "output_type": "stream",
     "text": [
      "- 2023-11-06 09:02:18: MainProcess:nqcpfem.fenics >> DEBUG:retireving energy scale\n",
      "- 2023-11-06 09:02:19: MainProcess:nqcpfem.fenics >> DEBUG:gathering constants complete\n",
      "- 2023-11-06 09:02:19: MainProcess:nqcpfem.fenics >> DEBUG:assembling array\n",
      "- 2023-11-06 09:02:19: MainProcess:nqcpfem.solvers >> DEBUG:solving problem:\n",
      "- 2023-11-06 09:02:29: MainProcess:nqcpfem.solvers >> DEBUG: number of converged eigenvectors: 16\n"
     ]
    },
    {
     "name": "stdout",
     "output_type": "stream",
     "text": [
      "(21008, 21008)\n"
     ]
    },
    {
     "name": "stderr",
     "output_type": "stream",
     "text": [
      "- 2023-11-06 09:02:34: MainProcess:nqcpfem.parameter_search >> INFO:evaluating at grid point 221/1024\n",
      "- 2023-11-06 09:02:34: MainProcess:nqcpfem.parameter_search >> DEBUG:parameters: {'mu_sc_val': 6.884944078001299e-22, 'mu_R_val': -13.894324853228966}\n",
      "- 2023-11-06 09:02:34: MainProcess:nqcpfem.fenics >> DEBUG:creating PETSc Matrix\n",
      "- 2023-11-06 09:02:34: MainProcess:nqcpfem.fenics >> DEBUG:gathering constants\n",
      "- 2023-11-06 09:02:34: MainProcess:nqcpfem.fenics >> DEBUG:retrieving parameter and constant dicts\n",
      "- 2023-11-06 09:02:34: MainProcess:nqcpfem.fenics >> DEBUG:updating values\n",
      "- 2023-11-06 09:02:34: MainProcess:nqcpfem.fenics >> DEBUG:retireving energy scale\n",
      "- 2023-11-06 09:02:34: MainProcess:nqcpfem.fenics >> DEBUG:gathering constants complete\n",
      "- 2023-11-06 09:02:34: MainProcess:nqcpfem.fenics >> DEBUG:assembling array\n"
     ]
    },
    {
     "name": "stdout",
     "output_type": "stream",
     "text": [
      "221\n"
     ]
    },
    {
     "name": "stderr",
     "output_type": "stream",
     "text": [
      "- 2023-11-06 09:02:34: MainProcess:nqcpfem.solvers >> DEBUG:solving problem:\n",
      "- 2023-11-06 09:02:45: MainProcess:nqcpfem.solvers >> DEBUG: number of converged eigenvectors: 16\n"
     ]
    },
    {
     "name": "stdout",
     "output_type": "stream",
     "text": [
      "(21008, 21008)\n"
     ]
    },
    {
     "name": "stderr",
     "output_type": "stream",
     "text": [
      "- 2023-11-06 09:02:50: MainProcess:nqcpfem.parameter_search >> INFO:evaluating at grid point 222/1024\n",
      "- 2023-11-06 09:02:50: MainProcess:nqcpfem.parameter_search >> DEBUG:parameters: {'mu_sc_val': 6.884944078001299e-22, 'mu_R_val': -13.50293542074364}\n",
      "- 2023-11-06 09:02:50: MainProcess:nqcpfem.fenics >> DEBUG:creating PETSc Matrix\n",
      "- 2023-11-06 09:02:50: MainProcess:nqcpfem.fenics >> DEBUG:gathering constants\n",
      "- 2023-11-06 09:02:50: MainProcess:nqcpfem.fenics >> DEBUG:retrieving parameter and constant dicts\n",
      "- 2023-11-06 09:02:50: MainProcess:nqcpfem.fenics >> DEBUG:updating values\n",
      "- 2023-11-06 09:02:51: MainProcess:nqcpfem.fenics >> DEBUG:retireving energy scale\n",
      "- 2023-11-06 09:02:51: MainProcess:nqcpfem.fenics >> DEBUG:gathering constants complete\n",
      "- 2023-11-06 09:02:51: MainProcess:nqcpfem.fenics >> DEBUG:assembling array\n"
     ]
    },
    {
     "name": "stdout",
     "output_type": "stream",
     "text": [
      "222\n"
     ]
    },
    {
     "name": "stderr",
     "output_type": "stream",
     "text": [
      "- 2023-11-06 09:02:51: MainProcess:nqcpfem.solvers >> DEBUG:solving problem:\n",
      "- 2023-11-06 09:03:01: MainProcess:nqcpfem.solvers >> DEBUG: number of converged eigenvectors: 16\n"
     ]
    },
    {
     "name": "stdout",
     "output_type": "stream",
     "text": [
      "(21008, 21008)\n"
     ]
    },
    {
     "name": "stderr",
     "output_type": "stream",
     "text": [
      "- 2023-11-06 09:03:05: MainProcess:nqcpfem.parameter_search >> INFO:evaluating at grid point 223/1024\n",
      "- 2023-11-06 09:03:05: MainProcess:nqcpfem.parameter_search >> DEBUG:parameters: {'mu_sc_val': 6.884944078001299e-22, 'mu_R_val': -13.111545988258328}\n",
      "- 2023-11-06 09:03:05: MainProcess:nqcpfem.fenics >> DEBUG:creating PETSc Matrix\n",
      "- 2023-11-06 09:03:05: MainProcess:nqcpfem.fenics >> DEBUG:gathering constants\n",
      "- 2023-11-06 09:03:05: MainProcess:nqcpfem.fenics >> DEBUG:retrieving parameter and constant dicts\n",
      "- 2023-11-06 09:03:05: MainProcess:nqcpfem.fenics >> DEBUG:updating values\n",
      "- 2023-11-06 09:03:05: MainProcess:nqcpfem.fenics >> DEBUG:retireving energy scale\n",
      "- 2023-11-06 09:03:05: MainProcess:nqcpfem.fenics >> DEBUG:gathering constants complete\n",
      "- 2023-11-06 09:03:05: MainProcess:nqcpfem.fenics >> DEBUG:assembling array\n"
     ]
    },
    {
     "name": "stdout",
     "output_type": "stream",
     "text": [
      "223\n"
     ]
    },
    {
     "name": "stderr",
     "output_type": "stream",
     "text": [
      "- 2023-11-06 09:03:05: MainProcess:nqcpfem.solvers >> DEBUG:solving problem:\n",
      "- 2023-11-06 09:03:15: MainProcess:nqcpfem.solvers >> DEBUG: number of converged eigenvectors: 16\n"
     ]
    },
    {
     "name": "stdout",
     "output_type": "stream",
     "text": [
      "(21008, 21008)\n"
     ]
    },
    {
     "name": "stderr",
     "output_type": "stream",
     "text": [
      "- 2023-11-06 09:03:20: MainProcess:nqcpfem.parameter_search >> INFO:evaluating at grid point 224/1024\n",
      "- 2023-11-06 09:03:20: MainProcess:nqcpfem.parameter_search >> DEBUG:parameters: {'mu_sc_val': 6.884944078001299e-22, 'mu_R_val': -12.720156555773002}\n",
      "- 2023-11-06 09:03:20: MainProcess:nqcpfem.fenics >> DEBUG:creating PETSc Matrix\n",
      "- 2023-11-06 09:03:20: MainProcess:nqcpfem.fenics >> DEBUG:gathering constants\n",
      "- 2023-11-06 09:03:20: MainProcess:nqcpfem.fenics >> DEBUG:retrieving parameter and constant dicts\n",
      "- 2023-11-06 09:03:20: MainProcess:nqcpfem.fenics >> DEBUG:updating values\n",
      "- 2023-11-06 09:03:20: MainProcess:nqcpfem.fenics >> DEBUG:retireving energy scale\n",
      "- 2023-11-06 09:03:20: MainProcess:nqcpfem.fenics >> DEBUG:gathering constants complete\n",
      "- 2023-11-06 09:03:20: MainProcess:nqcpfem.fenics >> DEBUG:assembling array\n",
      "- 2023-11-06 09:03:20: MainProcess:nqcpfem.solvers >> DEBUG:solving problem:\n"
     ]
    },
    {
     "name": "stdout",
     "output_type": "stream",
     "text": [
      "224\n",
      "(21008, 21008)\n"
     ]
    },
    {
     "name": "stderr",
     "output_type": "stream",
     "text": [
      "- 2023-11-06 09:03:29: MainProcess:nqcpfem.solvers >> DEBUG: number of converged eigenvectors: 16\n",
      "- 2023-11-06 09:03:33: MainProcess:nqcpfem.parameter_search >> INFO:evaluating at grid point 225/1024\n",
      "- 2023-11-06 09:03:33: MainProcess:nqcpfem.parameter_search >> DEBUG:parameters: {'mu_sc_val': 6.884944078001299e-22, 'mu_R_val': -12.328767123287676}\n",
      "- 2023-11-06 09:03:33: MainProcess:nqcpfem.fenics >> DEBUG:creating PETSc Matrix\n",
      "- 2023-11-06 09:03:33: MainProcess:nqcpfem.fenics >> DEBUG:gathering constants\n",
      "- 2023-11-06 09:03:33: MainProcess:nqcpfem.fenics >> DEBUG:retrieving parameter and constant dicts\n",
      "- 2023-11-06 09:03:33: MainProcess:nqcpfem.fenics >> DEBUG:updating values\n",
      "- 2023-11-06 09:03:33: MainProcess:nqcpfem.fenics >> DEBUG:retireving energy scale\n",
      "- 2023-11-06 09:03:33: MainProcess:nqcpfem.fenics >> DEBUG:gathering constants complete\n",
      "- 2023-11-06 09:03:33: MainProcess:nqcpfem.fenics >> DEBUG:assembling array\n",
      "- 2023-11-06 09:03:33: MainProcess:nqcpfem.solvers >> DEBUG:solving problem:\n"
     ]
    },
    {
     "name": "stdout",
     "output_type": "stream",
     "text": [
      "225\n",
      "(21008, 21008)\n"
     ]
    },
    {
     "name": "stderr",
     "output_type": "stream",
     "text": [
      "- 2023-11-06 09:03:45: MainProcess:nqcpfem.solvers >> DEBUG: number of converged eigenvectors: 16\n",
      "- 2023-11-06 09:03:49: MainProcess:nqcpfem.parameter_search >> INFO:evaluating at grid point 226/1024\n",
      "- 2023-11-06 09:03:49: MainProcess:nqcpfem.parameter_search >> DEBUG:parameters: {'mu_sc_val': 6.884944078001299e-22, 'mu_R_val': -11.93737769080235}\n",
      "- 2023-11-06 09:03:50: MainProcess:nqcpfem.fenics >> DEBUG:creating PETSc Matrix\n",
      "- 2023-11-06 09:03:50: MainProcess:nqcpfem.fenics >> DEBUG:gathering constants\n",
      "- 2023-11-06 09:03:50: MainProcess:nqcpfem.fenics >> DEBUG:retrieving parameter and constant dicts\n",
      "- 2023-11-06 09:03:50: MainProcess:nqcpfem.fenics >> DEBUG:updating values\n"
     ]
    },
    {
     "name": "stdout",
     "output_type": "stream",
     "text": [
      "226\n"
     ]
    },
    {
     "name": "stderr",
     "output_type": "stream",
     "text": [
      "- 2023-11-06 09:03:50: MainProcess:nqcpfem.fenics >> DEBUG:retireving energy scale\n",
      "- 2023-11-06 09:03:50: MainProcess:nqcpfem.fenics >> DEBUG:gathering constants complete\n",
      "- 2023-11-06 09:03:50: MainProcess:nqcpfem.fenics >> DEBUG:assembling array\n",
      "- 2023-11-06 09:03:50: MainProcess:nqcpfem.solvers >> DEBUG:solving problem:\n",
      "- 2023-11-06 09:03:59: MainProcess:nqcpfem.solvers >> DEBUG: number of converged eigenvectors: 16\n"
     ]
    },
    {
     "name": "stdout",
     "output_type": "stream",
     "text": [
      "(21008, 21008)\n"
     ]
    },
    {
     "name": "stderr",
     "output_type": "stream",
     "text": [
      "- 2023-11-06 09:04:06: MainProcess:nqcpfem.parameter_search >> INFO:evaluating at grid point 227/1024\n",
      "- 2023-11-06 09:04:06: MainProcess:nqcpfem.parameter_search >> DEBUG:parameters: {'mu_sc_val': 6.884944078001299e-22, 'mu_R_val': -11.545988258317024}\n",
      "- 2023-11-06 09:04:06: MainProcess:nqcpfem.fenics >> DEBUG:creating PETSc Matrix\n",
      "- 2023-11-06 09:04:06: MainProcess:nqcpfem.fenics >> DEBUG:gathering constants\n",
      "- 2023-11-06 09:04:06: MainProcess:nqcpfem.fenics >> DEBUG:retrieving parameter and constant dicts\n",
      "- 2023-11-06 09:04:06: MainProcess:nqcpfem.fenics >> DEBUG:updating values\n",
      "- 2023-11-06 09:04:06: MainProcess:nqcpfem.fenics >> DEBUG:retireving energy scale\n"
     ]
    },
    {
     "name": "stdout",
     "output_type": "stream",
     "text": [
      "227\n"
     ]
    },
    {
     "name": "stderr",
     "output_type": "stream",
     "text": [
      "- 2023-11-06 09:04:06: MainProcess:nqcpfem.fenics >> DEBUG:gathering constants complete\n",
      "- 2023-11-06 09:04:06: MainProcess:nqcpfem.fenics >> DEBUG:assembling array\n",
      "- 2023-11-06 09:04:06: MainProcess:nqcpfem.solvers >> DEBUG:solving problem:\n",
      "- 2023-11-06 09:04:17: MainProcess:nqcpfem.solvers >> DEBUG: number of converged eigenvectors: 16\n"
     ]
    },
    {
     "name": "stdout",
     "output_type": "stream",
     "text": [
      "(21008, 21008)\n"
     ]
    },
    {
     "name": "stderr",
     "output_type": "stream",
     "text": [
      "- 2023-11-06 09:04:23: MainProcess:nqcpfem.parameter_search >> INFO:evaluating at grid point 228/1024\n",
      "- 2023-11-06 09:04:23: MainProcess:nqcpfem.parameter_search >> DEBUG:parameters: {'mu_sc_val': 6.884944078001299e-22, 'mu_R_val': -11.154598825831712}\n",
      "- 2023-11-06 09:04:23: MainProcess:nqcpfem.fenics >> DEBUG:creating PETSc Matrix\n",
      "- 2023-11-06 09:04:23: MainProcess:nqcpfem.fenics >> DEBUG:gathering constants\n",
      "- 2023-11-06 09:04:23: MainProcess:nqcpfem.fenics >> DEBUG:retrieving parameter and constant dicts\n",
      "- 2023-11-06 09:04:23: MainProcess:nqcpfem.fenics >> DEBUG:updating values\n",
      "- 2023-11-06 09:04:23: MainProcess:nqcpfem.fenics >> DEBUG:retireving energy scale\n",
      "- 2023-11-06 09:04:23: MainProcess:nqcpfem.fenics >> DEBUG:gathering constants complete\n",
      "- 2023-11-06 09:04:23: MainProcess:nqcpfem.fenics >> DEBUG:assembling array\n",
      "- 2023-11-06 09:04:23: MainProcess:nqcpfem.solvers >> DEBUG:solving problem:\n"
     ]
    },
    {
     "name": "stdout",
     "output_type": "stream",
     "text": [
      "228\n",
      "(21008, 21008)\n"
     ]
    },
    {
     "name": "stderr",
     "output_type": "stream",
     "text": [
      "- 2023-11-06 09:04:33: MainProcess:nqcpfem.solvers >> DEBUG: number of converged eigenvectors: 16\n",
      "- 2023-11-06 09:04:39: MainProcess:nqcpfem.parameter_search >> INFO:evaluating at grid point 229/1024\n",
      "- 2023-11-06 09:04:39: MainProcess:nqcpfem.parameter_search >> DEBUG:parameters: {'mu_sc_val': 6.884944078001299e-22, 'mu_R_val': -10.763209393346386}\n",
      "- 2023-11-06 09:04:39: MainProcess:nqcpfem.fenics >> DEBUG:creating PETSc Matrix\n",
      "- 2023-11-06 09:04:39: MainProcess:nqcpfem.fenics >> DEBUG:gathering constants\n",
      "- 2023-11-06 09:04:39: MainProcess:nqcpfem.fenics >> DEBUG:retrieving parameter and constant dicts\n"
     ]
    },
    {
     "name": "stdout",
     "output_type": "stream",
     "text": [
      "229\n"
     ]
    },
    {
     "name": "stderr",
     "output_type": "stream",
     "text": [
      "- 2023-11-06 09:04:39: MainProcess:nqcpfem.fenics >> DEBUG:updating values\n",
      "- 2023-11-06 09:04:40: MainProcess:nqcpfem.fenics >> DEBUG:retireving energy scale\n",
      "- 2023-11-06 09:04:40: MainProcess:nqcpfem.fenics >> DEBUG:gathering constants complete\n",
      "- 2023-11-06 09:04:40: MainProcess:nqcpfem.fenics >> DEBUG:assembling array\n",
      "- 2023-11-06 09:04:41: MainProcess:nqcpfem.solvers >> DEBUG:solving problem:\n",
      "- 2023-11-06 09:04:56: MainProcess:nqcpfem.solvers >> DEBUG: number of converged eigenvectors: 16\n"
     ]
    },
    {
     "name": "stdout",
     "output_type": "stream",
     "text": [
      "(21008, 21008)\n"
     ]
    },
    {
     "name": "stderr",
     "output_type": "stream",
     "text": [
      "- 2023-11-06 09:05:01: MainProcess:nqcpfem.parameter_search >> INFO:evaluating at grid point 230/1024\n",
      "- 2023-11-06 09:05:01: MainProcess:nqcpfem.parameter_search >> DEBUG:parameters: {'mu_sc_val': 6.884944078001299e-22, 'mu_R_val': -10.37181996086106}\n",
      "- 2023-11-06 09:05:01: MainProcess:nqcpfem.fenics >> DEBUG:creating PETSc Matrix\n",
      "- 2023-11-06 09:05:01: MainProcess:nqcpfem.fenics >> DEBUG:gathering constants\n",
      "- 2023-11-06 09:05:01: MainProcess:nqcpfem.fenics >> DEBUG:retrieving parameter and constant dicts\n",
      "- 2023-11-06 09:05:01: MainProcess:nqcpfem.fenics >> DEBUG:updating values\n"
     ]
    },
    {
     "name": "stdout",
     "output_type": "stream",
     "text": [
      "230\n"
     ]
    },
    {
     "name": "stderr",
     "output_type": "stream",
     "text": [
      "- 2023-11-06 09:05:02: MainProcess:nqcpfem.fenics >> DEBUG:retireving energy scale\n",
      "- 2023-11-06 09:05:02: MainProcess:nqcpfem.fenics >> DEBUG:gathering constants complete\n",
      "- 2023-11-06 09:05:02: MainProcess:nqcpfem.fenics >> DEBUG:assembling array\n",
      "- 2023-11-06 09:05:02: MainProcess:nqcpfem.solvers >> DEBUG:solving problem:\n",
      "- 2023-11-06 09:05:15: MainProcess:nqcpfem.solvers >> DEBUG: number of converged eigenvectors: 16\n"
     ]
    },
    {
     "name": "stdout",
     "output_type": "stream",
     "text": [
      "(21008, 21008)\n"
     ]
    },
    {
     "name": "stderr",
     "output_type": "stream",
     "text": [
      "- 2023-11-06 09:05:22: MainProcess:nqcpfem.parameter_search >> INFO:evaluating at grid point 231/1024\n",
      "- 2023-11-06 09:05:22: MainProcess:nqcpfem.parameter_search >> DEBUG:parameters: {'mu_sc_val': 6.884944078001299e-22, 'mu_R_val': -9.980430528375734}\n",
      "- 2023-11-06 09:05:22: MainProcess:nqcpfem.fenics >> DEBUG:creating PETSc Matrix\n",
      "- 2023-11-06 09:05:22: MainProcess:nqcpfem.fenics >> DEBUG:gathering constants\n",
      "- 2023-11-06 09:05:22: MainProcess:nqcpfem.fenics >> DEBUG:retrieving parameter and constant dicts\n",
      "- 2023-11-06 09:05:22: MainProcess:nqcpfem.fenics >> DEBUG:updating values\n",
      "- 2023-11-06 09:05:22: MainProcess:nqcpfem.fenics >> DEBUG:retireving energy scale\n",
      "- 2023-11-06 09:05:22: MainProcess:nqcpfem.fenics >> DEBUG:gathering constants complete\n",
      "- 2023-11-06 09:05:22: MainProcess:nqcpfem.fenics >> DEBUG:assembling array\n"
     ]
    },
    {
     "name": "stdout",
     "output_type": "stream",
     "text": [
      "231\n"
     ]
    },
    {
     "name": "stderr",
     "output_type": "stream",
     "text": [
      "- 2023-11-06 09:05:22: MainProcess:nqcpfem.solvers >> DEBUG:solving problem:\n",
      "- 2023-11-06 09:05:35: MainProcess:nqcpfem.solvers >> DEBUG: number of converged eigenvectors: 16\n"
     ]
    },
    {
     "name": "stdout",
     "output_type": "stream",
     "text": [
      "(21008, 21008)\n"
     ]
    },
    {
     "name": "stderr",
     "output_type": "stream",
     "text": [
      "- 2023-11-06 09:05:40: MainProcess:nqcpfem.parameter_search >> INFO:evaluating at grid point 232/1024\n",
      "- 2023-11-06 09:05:40: MainProcess:nqcpfem.parameter_search >> DEBUG:parameters: {'mu_sc_val': 6.884944078001299e-22, 'mu_R_val': -9.589041095890423}\n",
      "- 2023-11-06 09:05:40: MainProcess:nqcpfem.fenics >> DEBUG:creating PETSc Matrix\n",
      "- 2023-11-06 09:05:41: MainProcess:nqcpfem.fenics >> DEBUG:gathering constants\n",
      "- 2023-11-06 09:05:41: MainProcess:nqcpfem.fenics >> DEBUG:retrieving parameter and constant dicts\n",
      "- 2023-11-06 09:05:41: MainProcess:nqcpfem.fenics >> DEBUG:updating values\n",
      "- 2023-11-06 09:05:41: MainProcess:nqcpfem.fenics >> DEBUG:retireving energy scale\n",
      "- 2023-11-06 09:05:41: MainProcess:nqcpfem.fenics >> DEBUG:gathering constants complete\n",
      "- 2023-11-06 09:05:41: MainProcess:nqcpfem.fenics >> DEBUG:assembling array\n"
     ]
    },
    {
     "name": "stdout",
     "output_type": "stream",
     "text": [
      "232\n"
     ]
    },
    {
     "name": "stderr",
     "output_type": "stream",
     "text": [
      "- 2023-11-06 09:05:41: MainProcess:nqcpfem.solvers >> DEBUG:solving problem:\n",
      "- 2023-11-06 09:05:53: MainProcess:nqcpfem.solvers >> DEBUG: number of converged eigenvectors: 16\n"
     ]
    },
    {
     "name": "stdout",
     "output_type": "stream",
     "text": [
      "(21008, 21008)\n"
     ]
    },
    {
     "name": "stderr",
     "output_type": "stream",
     "text": [
      "- 2023-11-06 09:05:58: MainProcess:nqcpfem.parameter_search >> INFO:evaluating at grid point 233/1024\n",
      "- 2023-11-06 09:05:58: MainProcess:nqcpfem.parameter_search >> DEBUG:parameters: {'mu_sc_val': 6.884944078001299e-22, 'mu_R_val': -9.197651663405097}\n",
      "- 2023-11-06 09:05:58: MainProcess:nqcpfem.fenics >> DEBUG:creating PETSc Matrix\n",
      "- 2023-11-06 09:05:58: MainProcess:nqcpfem.fenics >> DEBUG:gathering constants\n",
      "- 2023-11-06 09:05:58: MainProcess:nqcpfem.fenics >> DEBUG:retrieving parameter and constant dicts\n",
      "- 2023-11-06 09:05:58: MainProcess:nqcpfem.fenics >> DEBUG:updating values\n",
      "- 2023-11-06 09:05:58: MainProcess:nqcpfem.fenics >> DEBUG:retireving energy scale\n",
      "- 2023-11-06 09:05:58: MainProcess:nqcpfem.fenics >> DEBUG:gathering constants complete\n",
      "- 2023-11-06 09:05:58: MainProcess:nqcpfem.fenics >> DEBUG:assembling array\n"
     ]
    },
    {
     "name": "stdout",
     "output_type": "stream",
     "text": [
      "233\n"
     ]
    },
    {
     "name": "stderr",
     "output_type": "stream",
     "text": [
      "- 2023-11-06 09:05:59: MainProcess:nqcpfem.solvers >> DEBUG:solving problem:\n",
      "- 2023-11-06 09:06:14: MainProcess:nqcpfem.solvers >> DEBUG: number of converged eigenvectors: 16\n"
     ]
    },
    {
     "name": "stdout",
     "output_type": "stream",
     "text": [
      "(21008, 21008)\n"
     ]
    },
    {
     "name": "stderr",
     "output_type": "stream",
     "text": [
      "- 2023-11-06 09:06:18: MainProcess:nqcpfem.parameter_search >> INFO:evaluating at grid point 234/1024\n",
      "- 2023-11-06 09:06:18: MainProcess:nqcpfem.parameter_search >> DEBUG:parameters: {'mu_sc_val': 6.884944078001299e-22, 'mu_R_val': -8.80626223091977}\n",
      "- 2023-11-06 09:06:18: MainProcess:nqcpfem.fenics >> DEBUG:creating PETSc Matrix\n",
      "- 2023-11-06 09:06:18: MainProcess:nqcpfem.fenics >> DEBUG:gathering constants\n",
      "- 2023-11-06 09:06:18: MainProcess:nqcpfem.fenics >> DEBUG:retrieving parameter and constant dicts\n",
      "- 2023-11-06 09:06:18: MainProcess:nqcpfem.fenics >> DEBUG:updating values\n",
      "- 2023-11-06 09:06:18: MainProcess:nqcpfem.fenics >> DEBUG:retireving energy scale\n",
      "- 2023-11-06 09:06:18: MainProcess:nqcpfem.fenics >> DEBUG:gathering constants complete\n",
      "- 2023-11-06 09:06:18: MainProcess:nqcpfem.fenics >> DEBUG:assembling array\n"
     ]
    },
    {
     "name": "stdout",
     "output_type": "stream",
     "text": [
      "234\n"
     ]
    },
    {
     "name": "stderr",
     "output_type": "stream",
     "text": [
      "- 2023-11-06 09:06:19: MainProcess:nqcpfem.solvers >> DEBUG:solving problem:\n",
      "- 2023-11-06 09:06:29: MainProcess:nqcpfem.solvers >> DEBUG: number of converged eigenvectors: 16\n"
     ]
    },
    {
     "name": "stdout",
     "output_type": "stream",
     "text": [
      "(21008, 21008)\n"
     ]
    },
    {
     "name": "stderr",
     "output_type": "stream",
     "text": [
      "- 2023-11-06 09:06:34: MainProcess:nqcpfem.parameter_search >> INFO:evaluating at grid point 235/1024\n",
      "- 2023-11-06 09:06:34: MainProcess:nqcpfem.parameter_search >> DEBUG:parameters: {'mu_sc_val': 6.884944078001299e-22, 'mu_R_val': -8.414872798434445}\n",
      "- 2023-11-06 09:06:34: MainProcess:nqcpfem.fenics >> DEBUG:creating PETSc Matrix\n",
      "- 2023-11-06 09:06:34: MainProcess:nqcpfem.fenics >> DEBUG:gathering constants\n",
      "- 2023-11-06 09:06:34: MainProcess:nqcpfem.fenics >> DEBUG:retrieving parameter and constant dicts\n",
      "- 2023-11-06 09:06:34: MainProcess:nqcpfem.fenics >> DEBUG:updating values\n",
      "- 2023-11-06 09:06:34: MainProcess:nqcpfem.fenics >> DEBUG:retireving energy scale\n",
      "- 2023-11-06 09:06:34: MainProcess:nqcpfem.fenics >> DEBUG:gathering constants complete\n",
      "- 2023-11-06 09:06:34: MainProcess:nqcpfem.fenics >> DEBUG:assembling array\n",
      "- 2023-11-06 09:06:34: MainProcess:nqcpfem.solvers >> DEBUG:solving problem:\n"
     ]
    },
    {
     "name": "stdout",
     "output_type": "stream",
     "text": [
      "235\n",
      "(21008, 21008)\n"
     ]
    },
    {
     "name": "stderr",
     "output_type": "stream",
     "text": [
      "- 2023-11-06 09:06:44: MainProcess:nqcpfem.solvers >> DEBUG: number of converged eigenvectors: 16\n",
      "- 2023-11-06 09:06:49: MainProcess:nqcpfem.parameter_search >> INFO:evaluating at grid point 236/1024\n",
      "- 2023-11-06 09:06:49: MainProcess:nqcpfem.parameter_search >> DEBUG:parameters: {'mu_sc_val': 6.884944078001299e-22, 'mu_R_val': -8.023483365949119}\n",
      "- 2023-11-06 09:06:49: MainProcess:nqcpfem.fenics >> DEBUG:creating PETSc Matrix\n",
      "- 2023-11-06 09:06:49: MainProcess:nqcpfem.fenics >> DEBUG:gathering constants\n",
      "- 2023-11-06 09:06:49: MainProcess:nqcpfem.fenics >> DEBUG:retrieving parameter and constant dicts\n",
      "- 2023-11-06 09:06:49: MainProcess:nqcpfem.fenics >> DEBUG:updating values\n",
      "- 2023-11-06 09:06:49: MainProcess:nqcpfem.fenics >> DEBUG:retireving energy scale\n",
      "- 2023-11-06 09:06:49: MainProcess:nqcpfem.fenics >> DEBUG:gathering constants complete\n",
      "- 2023-11-06 09:06:49: MainProcess:nqcpfem.fenics >> DEBUG:assembling array\n",
      "- 2023-11-06 09:06:49: MainProcess:nqcpfem.solvers >> DEBUG:solving problem:\n"
     ]
    },
    {
     "name": "stdout",
     "output_type": "stream",
     "text": [
      "236\n",
      "(21008, 21008)\n"
     ]
    },
    {
     "name": "stderr",
     "output_type": "stream",
     "text": [
      "- 2023-11-06 09:06:59: MainProcess:nqcpfem.solvers >> DEBUG: number of converged eigenvectors: 16\n",
      "- 2023-11-06 09:07:06: MainProcess:nqcpfem.parameter_search >> INFO:evaluating at grid point 237/1024\n",
      "- 2023-11-06 09:07:06: MainProcess:nqcpfem.parameter_search >> DEBUG:parameters: {'mu_sc_val': 6.884944078001299e-22, 'mu_R_val': -7.632093933463807}\n",
      "- 2023-11-06 09:07:06: MainProcess:nqcpfem.fenics >> DEBUG:creating PETSc Matrix\n",
      "- 2023-11-06 09:07:06: MainProcess:nqcpfem.fenics >> DEBUG:gathering constants\n",
      "- 2023-11-06 09:07:06: MainProcess:nqcpfem.fenics >> DEBUG:retrieving parameter and constant dicts\n",
      "- 2023-11-06 09:07:06: MainProcess:nqcpfem.fenics >> DEBUG:updating values\n"
     ]
    },
    {
     "name": "stdout",
     "output_type": "stream",
     "text": [
      "237\n"
     ]
    },
    {
     "name": "stderr",
     "output_type": "stream",
     "text": [
      "- 2023-11-06 09:07:07: MainProcess:nqcpfem.fenics >> DEBUG:retireving energy scale\n",
      "- 2023-11-06 09:07:07: MainProcess:nqcpfem.fenics >> DEBUG:gathering constants complete\n",
      "- 2023-11-06 09:07:07: MainProcess:nqcpfem.fenics >> DEBUG:assembling array\n",
      "- 2023-11-06 09:07:08: MainProcess:nqcpfem.solvers >> DEBUG:solving problem:\n",
      "- 2023-11-06 09:07:19: MainProcess:nqcpfem.solvers >> DEBUG: number of converged eigenvectors: 16\n"
     ]
    },
    {
     "name": "stdout",
     "output_type": "stream",
     "text": [
      "(21008, 21008)\n"
     ]
    },
    {
     "name": "stderr",
     "output_type": "stream",
     "text": [
      "- 2023-11-06 09:07:26: MainProcess:nqcpfem.parameter_search >> INFO:evaluating at grid point 238/1024\n",
      "- 2023-11-06 09:07:26: MainProcess:nqcpfem.parameter_search >> DEBUG:parameters: {'mu_sc_val': 6.884944078001299e-22, 'mu_R_val': -7.240704500978481}\n",
      "- 2023-11-06 09:07:26: MainProcess:nqcpfem.fenics >> DEBUG:creating PETSc Matrix\n",
      "- 2023-11-06 09:07:26: MainProcess:nqcpfem.fenics >> DEBUG:gathering constants\n",
      "- 2023-11-06 09:07:26: MainProcess:nqcpfem.fenics >> DEBUG:retrieving parameter and constant dicts\n",
      "- 2023-11-06 09:07:26: MainProcess:nqcpfem.fenics >> DEBUG:updating values\n",
      "- 2023-11-06 09:07:26: MainProcess:nqcpfem.fenics >> DEBUG:retireving energy scale\n",
      "- 2023-11-06 09:07:26: MainProcess:nqcpfem.fenics >> DEBUG:gathering constants complete\n",
      "- 2023-11-06 09:07:26: MainProcess:nqcpfem.fenics >> DEBUG:assembling array\n"
     ]
    },
    {
     "name": "stdout",
     "output_type": "stream",
     "text": [
      "238\n"
     ]
    },
    {
     "name": "stderr",
     "output_type": "stream",
     "text": [
      "- 2023-11-06 09:07:26: MainProcess:nqcpfem.solvers >> DEBUG:solving problem:\n",
      "- 2023-11-06 09:07:37: MainProcess:nqcpfem.solvers >> DEBUG: number of converged eigenvectors: 16\n"
     ]
    },
    {
     "name": "stdout",
     "output_type": "stream",
     "text": [
      "(21008, 21008)\n"
     ]
    },
    {
     "ename": "KeyboardInterrupt",
     "evalue": "",
     "output_type": "error",
     "traceback": [
      "\u001b[0;31m---------------------------------------------------------------------------\u001b[0m",
      "\u001b[0;31mKeyboardInterrupt\u001b[0m                         Traceback (most recent call last)",
      "\u001b[1;32m/mnt/c/Users/olisc/NQCP/NQCP_FEM/notebooks/Experiments/dot_sc_dot/couplings/solution_study.ipynb Cell 22\u001b[0m line \u001b[0;36m1\n\u001b[0;32m----> <a href='vscode-notebook-cell://wsl%2Bubuntu/mnt/c/Users/olisc/NQCP/NQCP_FEM/notebooks/Experiments/dot_sc_dot/couplings/solution_study.ipynb#X30sdnNjb2RlLXJlbW90ZQ%3D%3D?line=0'>1</a>\u001b[0m param_search\u001b[39m.\u001b[39;49mrun()\n",
      "File \u001b[0;32m/mnt/c/Users/olisc/NQCP/NQCP_FEM/nqcpfem/parameter_search.py:108\u001b[0m, in \u001b[0;36mParameterSearch.run\u001b[0;34m(self, save_results, skip_errors)\u001b[0m\n\u001b[1;32m    106\u001b[0m \u001b[39mself\u001b[39m\u001b[39m.\u001b[39m_results_\u001b[39m.\u001b[39mappend(result)\n\u001b[1;32m    107\u001b[0m \u001b[39mif\u001b[39;00m save_results:\n\u001b[0;32m--> 108\u001b[0m     \u001b[39mself\u001b[39;49m\u001b[39m.\u001b[39;49msave(\u001b[39mTrue\u001b[39;49;00m)\n",
      "File \u001b[0;32m/mnt/c/Users/olisc/NQCP/NQCP_FEM/nqcpfem/parameter_search.py:54\u001b[0m, in \u001b[0;36mParameterSearch.save\u001b[0;34m(self, overwrite)\u001b[0m\n\u001b[1;32m     51\u001b[0m         \u001b[39mraise\u001b[39;00m \u001b[39mFileExistsError\u001b[39;00m(\u001b[39mf\u001b[39m\u001b[39m'\u001b[39m\u001b[39mfile \u001b[39m\u001b[39m{\u001b[39;00m\u001b[39mself\u001b[39m\u001b[39m.\u001b[39msave_file\u001b[39m}\u001b[39;00m\u001b[39m already exists and overwrite was set to False\u001b[39m\u001b[39m'\u001b[39m)\n\u001b[1;32m     53\u001b[0m \u001b[39mwith\u001b[39;00m \u001b[39mopen\u001b[39m(\u001b[39mself\u001b[39m\u001b[39m.\u001b[39msave_file,\u001b[39m'\u001b[39m\u001b[39mwb\u001b[39m\u001b[39m'\u001b[39m) \u001b[39mas\u001b[39;00m f:\n\u001b[0;32m---> 54\u001b[0m     pkl\u001b[39m.\u001b[39;49mdump(\u001b[39mself\u001b[39;49m,f)\n",
      "\u001b[0;31mKeyboardInterrupt\u001b[0m: "
     ]
    }
   ],
   "source": [
    "param_search.run()"
   ]
  },
  {
   "cell_type": "code",
   "execution_count": null,
   "metadata": {},
   "outputs": [],
   "source": []
  },
  {
   "cell_type": "code",
   "execution_count": 17,
   "metadata": {},
   "outputs": [],
   "source": [
    "from nqcpfem import ANGULAR_MOMENTUM\n",
    "J = ANGULAR_MOMENTUM['3/2']"
   ]
  },
  {
   "cell_type": "code",
   "execution_count": 19,
   "metadata": {},
   "outputs": [
    {
     "data": {
      "text/plain": [
       "array([[0.+0.j        , 0.-1.73205081j, 0.+0.j        , 0.+0.j        ],\n",
       "       [0.+1.73205081j, 0.+0.j        , 0.+0.j        , 0.+0.j        ],\n",
       "       [0.+0.j        , 0.+0.j        , 0.+0.j        , 0.+1.73205081j],\n",
       "       [0.+0.j        , 0.+0.j        , 0.-1.73205081j, 0.+0.j        ]])"
      ]
     },
     "execution_count": 19,
     "metadata": {},
     "output_type": "execute_result"
    }
   ],
   "source": [
    "J[1] @ J[2] + J[2] @ J[1]"
   ]
  },
  {
   "cell_type": "code",
   "execution_count": null,
   "metadata": {},
   "outputs": [],
   "source": []
  }
 ],
 "metadata": {
  "kernelspec": {
   "display_name": "test",
   "language": "python",
   "name": "python3"
  },
  "language_info": {
   "codemirror_mode": {
    "name": "ipython",
    "version": 3
   },
   "file_extension": ".py",
   "mimetype": "text/x-python",
   "name": "python",
   "nbconvert_exporter": "python",
   "pygments_lexer": "ipython3",
   "version": "3.10.12"
  }
 },
 "nbformat": 4,
 "nbformat_minor": 2
}
