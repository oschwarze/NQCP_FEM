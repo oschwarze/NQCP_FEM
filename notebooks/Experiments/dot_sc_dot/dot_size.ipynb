{
 "cells": [
  {
   "cell_type": "markdown",
   "metadata": {},
   "source": [
    "# Dot Size\n",
    "This notebook is used to determine the appropriate size of the quantum dot in a dot superconductor dot system"
   ]
  },
  {
   "cell_type": "code",
   "execution_count": 1,
   "metadata": {},
   "outputs": [],
   "source": [
    "try:\n",
    "    import nqcpfem\n",
    "except ModuleNotFoundError as err:\n",
    "    import sys\n",
    "        # put path to nqcpfem module here   \n",
    "    src_path = '/mnt/c/Users/swao/nqcp/NQCP_FEM/'\n",
    "    sys.path.append(src_path)\n",
    "    import nqcpfem\n",
    "import sympy\n",
    "sympy.init_printing(use_latex='mathjax')\n",
    "import IPython.display as disp\n",
    "from matplotlib import pyplot as plt\n",
    "import numpy as np\n",
    "import os\n",
    "\n",
    "import logging\n",
    "LOG = logging.getLogger()\n",
    "LOG.setLevel(logging.INFO)\n",
    "from nqcpfem.parameter_search import DBMPParameterSearch, ParameterSearch\n",
    "from nqcpfem.band_model import LuttingerKohnHamiltonian\n",
    "from nqcpfem.solvers import PETScSolver\n",
    "from nqcpfem.envelope_function import RectangleDomain\n",
    "from nqcpfem.fenics import FEniCsModel\n",
    "from nqcpfem.g_matrix import GMatrix\n",
    "from nqcpfem.band_model import __MAGNETIC_FIELD_NAMES__ as _B_\n",
    "_B_ = sympy.symbols(_B_,commutative=False) # cast to symbols\n",
    "from nqcpfem.functions import SymbolicFunction\n",
    "\n",
    "\n",
    "\n"
   ]
  },
  {
   "cell_type": "code",
   "execution_count": 2,
   "metadata": {},
   "outputs": [
    {
     "ename": "TypeError",
     "evalue": "str expected, not int",
     "output_type": "error",
     "traceback": [
      "\u001b[0;31m---------------------------------------------------------------------------\u001b[0m",
      "\u001b[0;31mTypeError\u001b[0m                                 Traceback (most recent call last)",
      "Cell \u001b[0;32mIn[2], line 2\u001b[0m\n\u001b[1;32m      1\u001b[0m \u001b[38;5;28;01mimport\u001b[39;00m \u001b[38;5;21;01mos\u001b[39;00m\n\u001b[0;32m----> 2\u001b[0m \u001b[43mos\u001b[49m\u001b[38;5;241;43m.\u001b[39;49m\u001b[43menviron\u001b[49m\u001b[43m[\u001b[49m\u001b[38;5;124;43m'\u001b[39;49m\u001b[38;5;124;43mPYDEVD_DISABLE_FILE_VALIDATION\u001b[39;49m\u001b[38;5;124;43m'\u001b[39;49m\u001b[43m]\u001b[49m \u001b[38;5;241m=\u001b[39m \u001b[38;5;241m1\u001b[39m\n",
      "File \u001b[0;32m<frozen os>:684\u001b[0m, in \u001b[0;36m__setitem__\u001b[0;34m(self, key, value)\u001b[0m\n",
      "File \u001b[0;32m<frozen os>:758\u001b[0m, in \u001b[0;36mencode\u001b[0;34m(value)\u001b[0m\n",
      "\u001b[0;31mTypeError\u001b[0m: str expected, not int"
     ]
    }
   ],
   "source": [
    "import os\n",
    "os.environ['PYDEVD_DISABLE_FILE_VALIDATION'] = 1"
   ]
  },
  {
   "cell_type": "code",
   "execution_count": 3,
   "metadata": {},
   "outputs": [
    {
     "name": "stderr",
     "output_type": "stream",
     "text": [
      "WARNING:nqcpfem.fenics:the k-ordering of the band model must be FEM, but it was not set. setting it to FEM wit left reduction direction\n"
     ]
    }
   ],
   "source": [
    "bm = LuttingerKohnHamiltonian(spatial_dim=3).material_spec('Ge')\n",
    "bm.add_z_confinement(1,'box',25e-9)\n",
    "#bm.add_zeeman_term()#B=[1,1,1])\n",
    "\n",
    "\n",
    "\n",
    "solver = PETScSolver(k=10,which='SM',sigma=0)\n",
    "domain = RectangleDomain(Lx=250e-9,Ly=150e-9,Lz=0) \n",
    "domain.resolution = [300,180]\n",
    "fem_model = FEniCsModel(bm,domain,0,('CG',1))\n",
    "\n",
    "\n",
    "x,y,z = bm.position_symbols\n",
    "omega_x,omega_y = sympy.symbols(r'\\omega_x,\\omega_y')\n",
    "m = sympy.symbols('m')\n",
    "\n",
    "V = 0.5*m*( (omega_x*x)**2 + (omega_y*y)**2 ) \n",
    "\n",
    "bm.add_potential(V)\n",
    "\n",
    "bm.material_spec('Ge')\n",
    "\n",
    "E0 = 1/(nqcpfem.UNIT_CONVENTION['J to eV']*1000000) # unit_scale: 1muev\n",
    "omega_y_val = 2e12\n",
    "omega_x_val = omega_y_val\n",
    "\n",
    "\n",
    "fem_model.band_model.parameter_dict[omega_y] = omega_y_val\n",
    "\n",
    "fem_model.band_model.parameter_dict[omega_x] = omega_x_val\n"
   ]
  },
  {
   "cell_type": "code",
   "execution_count": 1,
   "metadata": {},
   "outputs": [
    {
     "ename": "NameError",
     "evalue": "name 'solver' is not defined",
     "output_type": "error",
     "traceback": [
      "\u001b[0;31m---------------------------------------------------------------------------\u001b[0m",
      "\u001b[0;31mNameError\u001b[0m                                 Traceback (most recent call last)",
      "Cell \u001b[0;32mIn[1], line 1\u001b[0m\n\u001b[0;32m----> 1\u001b[0m sol \u001b[38;5;241m=\u001b[39m \u001b[43msolver\u001b[49m\u001b[38;5;241m.\u001b[39msolve(fem_model)\n",
      "\u001b[0;31mNameError\u001b[0m: name 'solver' is not defined"
     ]
    }
   ],
   "source": [
    "sol = solver.solve(fem_model)"
   ]
  },
  {
   "cell_type": "code",
   "execution_count": 5,
   "metadata": {},
   "outputs": [],
   "source": [
    "import dolfinx.fem as fem"
   ]
  },
  {
   "cell_type": "code",
   "execution_count": 7,
   "metadata": {},
   "outputs": [],
   "source": [
    "from dolfinx.fem import petsc"
   ]
  },
  {
   "cell_type": "code",
   "execution_count": 8,
   "metadata": {},
   "outputs": [
    {
     "data": {
      "text/plain": [
       "<module 'dolfinx.fem.petsc' from '/home/osch/anaconda3/envs/ge_spin_fe/lib/python3.11/site-packages/dolfinx/fem/petsc.py'>"
      ]
     },
     "execution_count": 8,
     "metadata": {},
     "output_type": "execute_result"
    }
   ],
   "source": []
  },
  {
   "cell_type": "code",
   "execution_count": null,
   "metadata": {},
   "outputs": [],
   "source": []
  }
 ],
 "metadata": {
  "kernelspec": {
   "display_name": "Python 3 (ipykernel)",
   "language": "python",
   "name": "python3"
  }
 },
 "nbformat": 4,
 "nbformat_minor": 2
}
