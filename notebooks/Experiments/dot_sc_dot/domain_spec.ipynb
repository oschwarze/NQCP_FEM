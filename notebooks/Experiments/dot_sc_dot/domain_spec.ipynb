{
 "cells": [
  {
   "cell_type": "markdown",
   "metadata": {},
   "source": [
    "# Defining the Dot Superconductor Dot System\n",
    "This notebook contains an example of how one can construct the dot-superconductor-dot system.\n",
    "The system is built by defining the dots, barriers and the supercondcutor individually. These are then automatically combined into a signle Electrostatic potential and Superconducting delta"
   ]
  },
  {
   "cell_type": "code",
   "execution_count": 1,
   "metadata": {},
   "outputs": [],
   "source": [
    "try:\n",
    "    import nqcpfem\n",
    "except ModuleNotFoundError as err:\n",
    "    import sys\n",
    "        # put path to nqcpfem module here   \n",
    "    src_path = '/mnt/c/Users/olisc/NQCP/NQCP_FEM/'\n",
    "    sys.path.append(src_path)\n",
    "    import nqcpfem\n",
    "import sympy\n",
    "sympy.init_printing(use_latex='mathjax')\n",
    "import IPython.display as disp\n",
    "from matplotlib import pyplot as plt\n",
    "import numpy as np\n",
    "import os\n",
    "\n",
    "import logging\n",
    "logging.getLogger().setLevel(logging.INFO)"
   ]
  },
  {
   "cell_type": "code",
   "execution_count": 2,
   "metadata": {},
   "outputs": [],
   "source": [
    "from nqcpfem.band_model import FreeFermion\n",
    "from nqcpfem.fenics import FEniCsModel\n",
    "from nqcpfem.systems.dot_sc_dot import *"
   ]
  },
  {
   "cell_type": "code",
   "execution_count": 15,
   "metadata": {},
   "outputs": [
    {
     "name": "stderr",
     "output_type": "stream",
     "text": [
      "WARNING:nqcpfem.fenics:the k-ordering of the band model must be FEM, but it was not set. setting it to FEM wit left reduction direction\n"
     ]
    }
   ],
   "source": [
    "model = FEniCsModel(FreeFermion(nqcpfem._m_e,2),None, boundary_condition=0,function_class=('CG',1))\n",
    "ldot = Dot(-50e-9,1e12,0,20e-9,1e12,0,20e-9,)\n",
    "#rdot = Dot(50e-9,0e12,0,20e-9,1e12,0,20e-9,)\n",
    "rdot = Dot(100e-9,10e11,0,50e-9,10e11,0,30e-9,)\n",
    "barr = Barrier(10e-9,2/(nqcpfem.UNIT_CONVENTION['J to eV']*1000))\n",
    "rbarr = Barrier(15e-9,3/(nqcpfem.UNIT_CONVENTION['J to eV']*1000))\n",
    "sc = Superconductor(100/(nqcpfem.UNIT_CONVENTION['J to eV']*1000),25e-9,5e-9,0,1/(nqcpfem.UNIT_CONVENTION['J to eV']*1000))\n",
    "syst = DotSCDot(model,ldot,barr,sc,rbarr,rdot,domain_resolution=[100,100])"
   ]
  },
  {
   "cell_type": "markdown",
   "metadata": {},
   "source": [
    "# Electrostatic Confinement potential (Dots and Barriers)"
   ]
  },
  {
   "cell_type": "code",
   "execution_count": 17,
   "metadata": {},
   "outputs": [
    {
     "data": {
      "application/vnd.jupyter.widget-view+json": {
       "model_id": "17f9a284aca84cb38cc3b5e183056e0d",
       "version_major": 2,
       "version_minor": 0
      },
      "text/plain": [
       "Widget(value=\"<iframe src='http://localhost:35163/index.html?ui=P_0x7fc1dc0f8610_6&reconnect=auto' style='widt…"
      ]
     },
     "metadata": {},
     "output_type": "display_data"
    }
   ],
   "source": [
    "from nqcpfem.plotting import plot_function\n",
    "plot_function(syst.__make_EM_potential__(nqcpfem._m_e),syst.envelope_model)"
   ]
  },
  {
   "cell_type": "markdown",
   "metadata": {},
   "source": [
    "\n",
    "## Superconducting Gap (only non-zero inside the superconductor)"
   ]
  },
  {
   "cell_type": "code",
   "execution_count": 18,
   "metadata": {},
   "outputs": [
    {
     "data": {
      "application/vnd.jupyter.widget-view+json": {
       "model_id": "97453effe000426cbc329df11872f017",
       "version_major": 2,
       "version_minor": 0
      },
      "text/plain": [
       "Widget(value=\"<iframe src='http://localhost:35163/index.html?ui=P_0x7fc2162ae710_7&reconnect=auto' style='widt…"
      ]
     },
     "metadata": {},
     "output_type": "display_data"
    }
   ],
   "source": [
    "\n",
    "plot_function(syst.make_SC_Delta(),syst.envelope_model)"
   ]
  }
 ],
 "metadata": {
  "kernelspec": {
   "display_name": "Germanium_Spins_FE",
   "language": "python",
   "name": "python3"
  },
  "language_info": {
   "codemirror_mode": {
    "name": "ipython",
    "version": 3
   },
   "file_extension": ".py",
   "mimetype": "text/x-python",
   "name": "python",
   "nbconvert_exporter": "python",
   "pygments_lexer": "ipython3",
   "version": "3.10.11"
  },
  "orig_nbformat": 4
 },
 "nbformat": 4,
 "nbformat_minor": 2
}
