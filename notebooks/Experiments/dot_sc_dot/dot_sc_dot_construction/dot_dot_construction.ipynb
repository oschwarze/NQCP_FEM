{
 "cells": [
  {
   "cell_type": "code",
   "execution_count": 1,
   "metadata": {},
   "outputs": [],
   "source": [
    "try:\n",
    "    import nqcpfem\n",
    "except ModuleNotFoundError as err:\n",
    "    import sys\n",
    "        # put path to nqcpfem module here   \n",
    "    src_path = '/mnt/c/Users/swao/nqcp/NQCP_FEM/'\n",
    "    sys.path.append(src_path)\n",
    "    import nqcpfem\n",
    "import sympy\n",
    "sympy.init_printing(use_latex='mathjax')\n",
    "import IPython.display as disp\n",
    "from matplotlib import pyplot as plt\n",
    "import numpy as np\n",
    "import os\n",
    "import pandas as pd\n",
    "import logging\n",
    "LOG = logging.getLogger()\n",
    "LOG.setLevel(logging.INFO)\n",
    "from nqcpfem.parameter_search import DBMPParameterSearch, ParameterSearch\n",
    "from nqcpfem.band_model import LuttingerKohnHamiltonian\n",
    "from nqcpfem.solvers import PETScSolver\n",
    "from nqcpfem.envelope_function import RectangleDomain\n",
    "from nqcpfem.fenics import FEniCsModel\n",
    "from nqcpfem.g_matrix import GMatrix\n",
    "from nqcpfem.band_model import __MAGNETIC_FIELD_NAMES__ as _B_\n",
    "_B_ = sympy.symbols(_B_,commutative=False) # cast to symbols\n",
    "from nqcpfem.functions import SymbolicFunction\n",
    "\n",
    "\n",
    "\n",
    "\n",
    "E0 = 1/(nqcpfem.UNIT_CONVENTION['J to eV']*1000000) # unit_scale: 1muev\n",
    "\n",
    "\n"
   ]
  },
  {
   "cell_type": "code",
   "execution_count": 36,
   "metadata": {},
   "outputs": [],
   "source": [
    "from nqcpfem.observables import particle_projector,hole_projector"
   ]
  },
  {
   "cell_type": "code",
   "execution_count": 28,
   "metadata": {},
   "outputs": [],
   "source": [
    "\n",
    "from nqcpfem.systems.dot_sc_dot import *\n",
    "def syst_init(B=1.75,aspect_ratio=2.1):\n",
    "    H = LuttingerKohnHamiltonian(spatial_dim=3).material_spec('Ge').add_z_confinement(1,'box',25e-9)\n",
    "    H.BdG_extension()\n",
    "    #B = 1.75\n",
    "    H.add_zeeman_term(B=[B/np.sqrt(2),B/np.sqrt(2),0])\n",
    "    \n",
    "\n",
    "    #H.add_potential(-sympy.symbols('\\mu'))\n",
    "\n",
    "    #domain =RectangleDomain(200e-9,100e-9,0)\n",
    "    #domain.resolution = [150,75]\n",
    "    from nqcpfem import _hbar,_m_e\n",
    "    model = FEniCsModel(H,None, boundary_condition=0,function_class=('CG',1))\n",
    "    omega = 2.5e11 # chosen so that short side of dot is around 50 nm  \n",
    "    #omega = 5e11 # old code?\n",
    "    print(omega)\n",
    "    L_sc = 260e-9\n",
    "    D_dot = 100e-9\n",
    "    ldot = Dot(-(D_dot/2 +1e-9+L_sc/2),omega,0,D_dot,aspect_ratio*omega,0,100e-9,)\n",
    "    rdot = Dot(( D_dot/2+ 1e-9+L_sc/2),aspect_ratio*omega,0,D_dot,omega,0,100e-9,)\n",
    "    barr = Barrier(0e-9,1000*E0) # 1 meV barrier\n",
    "    barr = Barrier(0e-9,1000*E0) # 1 meV barrier\n",
    "    \n",
    "    ldot = Dot(-(86e-9+L_sc/2),omega,0,150e-9,aspect_ratio*omega,0,150e-9,)\n",
    "    rdot = Dot((86e-9+L_sc/2),aspect_ratio*omega,0,150e-9,omega,0,150e-9,)\n",
    "    barr = Barrier(10e-9,1000*E0) # 1 meV barrier\n",
    "    #rbarr = Barrier(15e-9,3/(nqcpfem.UNIT_CONVENTION['J to eV']*1000))\n",
    "    sc = Superconductor(100*E0,L_sc,100e-9,0,5*E0)\n",
    "    syst = DotSCDot(model,ldot,barr,sc,barr,rdot,domain_resolution=[250,100])#[125,50])\n",
    "\n",
    "    mu,mu_sc = sympy.symbols('\\mu,\\mu_{sc}')\n",
    "    mu_R = sympy.symbols('\\mu_{R}')\n",
    "    mu_L = sympy.symbols('\\mu_{L}')\n",
    "    chemical_potential = SymbolicFunction(sympy.Piecewise((-mu_sc,syst.domains['sc_in']),(-mu_L,syst.domains['ld_in']),(-mu_R,syst.domains['rd_in']),(0,True)),'\\mu(x)')\n",
    "    H.add_potential(chemical_potential)\n",
    "\n",
    "    H.parameter_dict[mu_L] = 0*E0 # will be set to something other than zero on determining couping\n",
    "    H.parameter_dict[mu_R] = 0*E0 # will be set to something other than zero on determining couping\n",
    "    H.parameter_dict[mu_sc] = 0\n",
    "\n",
    "    #minimizations = syst.determine_all_couplings(0,3,solver,425*E0,(-50*E0,50*E0))\n",
    "    return syst\n",
    "\n",
    "#syst = syst_init(2) # initialize before to get easier access.\n",
    "\n",
    "from nqcpfem.solvers import PETScSolver,IterativeSolver\n",
    "solver = PETScSolver(k=16,which='SM',sigma=0)\n",
    "\n",
    "def system_update(mu_sc_val,mL,mR,syst=None):\n",
    "    mu_R = sympy.symbols('\\mu_{R}')\n",
    "    mu,mu_sc = sympy.symbols('\\mu,\\mu_{sc}')\n",
    "    mu_L = sympy.symbols('\\mu_{L}')\n",
    "    syst.envelope_model.band_model.parameter_dict[mu_L] = mL\n",
    "    syst.envelope_model.band_model.parameter_dict[mu_R] = mR\n",
    "    syst.envelope_model.band_model.parameter_dict[mu_sc] = mu_sc_val\n",
    "    return syst.envelope_model\n",
    "\n",
    "first_solver = PETScSolver(k=8,sigma=0,which='SM')\n",
    "second_solver = PETScSolver(k=8,sigma=0,which='SM',method='GD') # GD uses the the entire subspaces of the previous guess!\n",
    "second_solver =None\n",
    "solver = IterativeSolver(first_solver,second_solver)\n",
    "\n",
    "from nqcpfem.band_model import covariant_sorting\n",
    "from nqcpfem.majorana import majorana_overlap\n",
    "def eval_func(model,res):\n",
    "\n",
    "    try:\n",
    "        #l_dot,r_dot,sc = syst.__make_system_classes__()\n",
    "        #X_points = syst.envelope_model.positional_rep(res[1][0])[1]\n",
    "        #selection=syst.select_subspace((l_dot,r_dot),res[1],4,x_points=X_points) # discard the states in the superconductor as we do not care about them\n",
    "        \n",
    "        overlaps = [majorana_overlap(res[1][i],model) for i in range(len(res[0]))]\n",
    "        \n",
    "        return res[0],overlaps\n",
    "    except Exception as err:\n",
    "        print(err)\n",
    "        LOGGER.exception(err)\n",
    "        LOGGER.info(err)\n",
    "        raise err\n",
    "        return res[0],None\n",
    "\n",
    "\n",
    "from nqcpfem.parameter_search import IterativeModelSolver\n",
    "it_solver = IterativeModelSolver(system_update,solver,eval_func)\n"
   ]
  },
  {
   "cell_type": "code",
   "execution_count": 29,
   "metadata": {},
   "outputs": [
    {
     "name": "stderr",
     "output_type": "stream",
     "text": [
      "WARNING:nqcpfem.fenics:the k-ordering of the band model must be FEM, but it was not set. setting it to FEM wit left reduction direction\n"
     ]
    },
    {
     "name": "stdout",
     "output_type": "stream",
     "text": [
      "250000000000.0\n"
     ]
    }
   ],
   "source": [
    "model = syst_init()"
   ]
  },
  {
   "cell_type": "code",
   "execution_count": 30,
   "metadata": {},
   "outputs": [],
   "source": [
    "fem_model = system_update(4000*E0,4000*E0,4000*E0+27*E0-5*E0,model)"
   ]
  },
  {
   "cell_type": "code",
   "execution_count": 31,
   "metadata": {},
   "outputs": [
    {
     "name": "stdout",
     "output_type": "stream",
     "text": [
      "(202808, 202808)\n"
     ]
    }
   ],
   "source": [
    "solution = solver.solve(fem_model)"
   ]
  },
  {
   "cell_type": "code",
   "execution_count": 32,
   "metadata": {},
   "outputs": [
    {
     "data": {
      "text/plain": [
       "array([   2.61522359+0.j,   -2.61522359+0.j,    3.93262832+0.j,\n",
       "         -3.93262832+0.j,   18.95069996+0.j,  -18.95069996+0.j,\n",
       "         20.79861536+0.j,  -20.79861536+0.j,   88.80322353+0.j,\n",
       "        -88.80322353+0.j,  121.62579624+0.j, -121.62579624+0.j])"
      ]
     },
     "execution_count": 32,
     "metadata": {},
     "output_type": "execute_result"
    }
   ],
   "source": [
    "solution[0]/E0"
   ]
  },
  {
   "cell_type": "code",
   "execution_count": 33,
   "metadata": {},
   "outputs": [
    {
     "data": {
      "text/latex": [
       "$\\displaystyle 5.23044718426416$"
      ],
      "text/plain": [
       "5.230447184264157"
      ]
     },
     "execution_count": 33,
     "metadata": {},
     "output_type": "execute_result"
    }
   ],
   "source": [
    "np.abs(solution[0][0]-solution[0][1])/E0"
   ]
  },
  {
   "cell_type": "code",
   "execution_count": 47,
   "metadata": {},
   "outputs": [],
   "source": [
    "state_dict = {'pld':0,'hld':1,'prd':2,'hrd':3,'pru':4,'hru':5,'plu':6,'hlu':7}\n",
    "import pickle as pkl\n",
    "with open('a_21_b_175_res_250_120.pkl','wb') as f:\n",
    "    pkl.dump( {k:solution[1][i] for k,i in state_dict.items()},f)"
   ]
  },
  {
   "cell_type": "code",
   "execution_count": 42,
   "metadata": {},
   "outputs": [
    {
     "name": "stderr",
     "output_type": "stream",
     "text": [
      "INFO:trame_server.controller:trigger(trigger__78)\n",
      "INFO:trame_server.controller:trigger(trigger__79)\n",
      "INFO:trame_server.controller:trigger(P_0x7fb28a063c10_11Camera)\n",
      "INFO:trame_server.controller:trigger(P_0x7fb28a063c10_11AnimateStart)\n",
      "INFO:trame_server.controller:trigger(P_0x7fb28a063c10_11AnimateStop)\n",
      "INFO:trame_client.widgets.core:js_key = class\n",
      "INFO:trame_client.widgets.core:js_key = fluid\n",
      "INFO:trame_client.widgets.core:js_key = class\n",
      "INFO:trame_client.widgets.core:before: class = { 'rounded-circle': !P_0x7fb28a063c10_11_show_ui }\n",
      "INFO:trame_server.utils.namespace:(prefix=None) token {\n",
      "INFO:trame_server.state:has({ => {) = False\n",
      "INFO:trame_server.utils.namespace:(prefix=None) token  \n",
      "INFO:trame_server.state:has(  =>  ) = False\n",
      "INFO:trame_server.utils.namespace:(prefix=None) token '\n",
      "INFO:trame_server.state:has(' => ') = False\n",
      "INFO:trame_server.utils.namespace:(prefix=None) token rounded\n",
      "INFO:trame_server.state:has(rounded => rounded) = False\n",
      "INFO:trame_server.utils.namespace:(prefix=None) token -\n",
      "INFO:trame_server.state:has(- => -) = False\n",
      "INFO:trame_server.utils.namespace:(prefix=None) token circle\n",
      "INFO:trame_server.state:has(circle => circle) = False\n",
      "INFO:trame_server.utils.namespace:(prefix=None) token '\n",
      "INFO:trame_server.state:has(' => ') = False\n",
      "INFO:trame_server.utils.namespace:(prefix=None) token :\n",
      "INFO:trame_server.state:has(: => :) = False\n",
      "INFO:trame_server.utils.namespace:(prefix=None) token  \n",
      "INFO:trame_server.state:has(  =>  ) = False\n",
      "INFO:trame_server.utils.namespace:(prefix=None) token !P_0x7fb28a063c10_11_show_ui\n",
      "INFO:trame_server.state:has(!P_0x7fb28a063c10_11_show_ui => !P_0x7fb28a063c10_11_show_ui) = False\n",
      "INFO:trame_server.utils.namespace:(prefix=None) token  \n",
      "INFO:trame_server.state:has(  =>  ) = False\n",
      "INFO:trame_server.utils.namespace:(prefix=None) token }\n",
      "INFO:trame_server.state:has(} => }) = False\n",
      "INFO:trame_server.utils.namespace: => { 'rounded-circle': !P_0x7fb28a063c10_11_show_ui }\n",
      "INFO:trame_client.widgets.core:after: class = { 'rounded-circle': !P_0x7fb28a063c10_11_show_ui }\n",
      "INFO:trame_client.widgets.core:js_key = style\n",
      "INFO:trame_client.widgets.core:js_key = class\n",
      "INFO:trame_client.widgets.core:js_key = style\n",
      "INFO:trame_client.widgets.core:js_key = location\n",
      "INFO:trame_client.widgets.core:js_key = v-slot:activator\n",
      "INFO:trame_client.widgets.core:before: v-slot:activator = { props }\n",
      "INFO:trame_server.utils.namespace:(prefix=None) token {\n",
      "INFO:trame_server.state:has({ => {) = False\n",
      "INFO:trame_server.utils.namespace:(prefix=None) token  \n",
      "INFO:trame_server.state:has(  =>  ) = False\n",
      "INFO:trame_server.utils.namespace:(prefix=None) token props\n",
      "INFO:trame_server.state:has(props => props) = False\n",
      "INFO:trame_server.utils.namespace:(prefix=None) token  \n",
      "INFO:trame_server.state:has(  =>  ) = False\n",
      "INFO:trame_server.utils.namespace:(prefix=None) token }\n",
      "INFO:trame_server.state:has(} => }) = False\n",
      "INFO:trame_server.utils.namespace: => { props }\n",
      "INFO:trame_client.widgets.core:after: v-slot:activator = { props }\n",
      "INFO:trame_client.widgets.core:js_key = v-bind\n",
      "INFO:trame_client.widgets.core:before: v-bind = props\n",
      "INFO:trame_server.utils.namespace:(prefix=None) token props\n",
      "INFO:trame_server.state:has(props => props) = False\n",
      "INFO:trame_server.utils.namespace: => props\n",
      "INFO:trame_client.widgets.core:after: v-bind = props\n",
      "INFO:trame_client.widgets.core:js_key = size\n",
      "INFO:trame_client.widgets.core:js_key = variant\n",
      "INFO:trame_client.widgets.core:js_key = icon\n",
      "INFO:trame_server.utils.namespace: token mdi-dots-vertical\n",
      "INFO:trame_server.utils.namespace: token {\n",
      "INFO:trame_server.utils.namespace:(prefix=None) token {\n",
      "INFO:trame_server.state:has({ => {) = False\n",
      "INFO:trame_server.utils.namespace: => {\n",
      "INFO:trame_server.utils.namespace: token { P_0x7fb28a063c10_11_show_ui ? 'Hide' : 'Show' }\n",
      "INFO:trame_server.utils.namespace:(prefix=None) token {\n",
      "INFO:trame_server.state:has({ => {) = False\n",
      "INFO:trame_server.utils.namespace:(prefix=None) token  \n",
      "INFO:trame_server.state:has(  =>  ) = False\n",
      "INFO:trame_server.utils.namespace:(prefix=None) token P_0x7fb28a063c10_11_show_ui\n",
      "INFO:trame_server.state:has(P_0x7fb28a063c10_11_show_ui => P_0x7fb28a063c10_11_show_ui) = True\n",
      "INFO:trame_server.utils.namespace:(prefix=None) translated P_0x7fb28a063c10_11_show_ui\n",
      "INFO:trame_server.utils.namespace:(prefix=None) token  \n",
      "INFO:trame_server.state:has(  =>  ) = False\n",
      "INFO:trame_server.utils.namespace:(prefix=None) token ?\n",
      "INFO:trame_server.state:has(? => ?) = False\n",
      "INFO:trame_server.utils.namespace:(prefix=None) token  \n",
      "INFO:trame_server.state:has(  =>  ) = False\n",
      "INFO:trame_server.utils.namespace:(prefix=None) token '\n",
      "INFO:trame_server.state:has(' => ') = False\n",
      "INFO:trame_server.utils.namespace:(prefix=None) token Hide\n",
      "INFO:trame_server.state:has(Hide => Hide) = False\n",
      "INFO:trame_server.utils.namespace:(prefix=None) token '\n",
      "INFO:trame_server.state:has(' => ') = False\n",
      "INFO:trame_server.utils.namespace:(prefix=None) token  \n",
      "INFO:trame_server.state:has(  =>  ) = False\n",
      "INFO:trame_server.utils.namespace:(prefix=None) token :\n",
      "INFO:trame_server.state:has(: => :) = False\n",
      "INFO:trame_server.utils.namespace:(prefix=None) token  \n",
      "INFO:trame_server.state:has(  =>  ) = False\n",
      "INFO:trame_server.utils.namespace:(prefix=None) token '\n",
      "INFO:trame_server.state:has(' => ') = False\n",
      "INFO:trame_server.utils.namespace:(prefix=None) token Show\n",
      "INFO:trame_server.state:has(Show => Show) = False\n",
      "INFO:trame_server.utils.namespace:(prefix=None) token '\n",
      "INFO:trame_server.state:has(' => ') = False\n",
      "INFO:trame_server.utils.namespace:(prefix=None) token  \n",
      "INFO:trame_server.state:has(  =>  ) = False\n",
      "INFO:trame_server.utils.namespace:(prefix=None) token }\n",
      "INFO:trame_server.state:has(} => }) = False\n",
      "INFO:trame_server.utils.namespace: => { P_0x7fb28a063c10_11_show_ui ? 'Hide' : 'Show' }\n",
      "INFO:trame_server.utils.namespace: token } menu\n",
      "INFO:trame_client.widgets.core:js_key = class\n",
      "INFO:trame_client.widgets.core:js_key = style\n",
      "INFO:trame_client.widgets.core:js_key = v-show\n",
      "INFO:trame_client.widgets.core:before: v-show = P_0x7fb28a063c10_11_show_ui\n",
      "INFO:trame_server.utils.namespace:(prefix=None) token P_0x7fb28a063c10_11_show_ui\n",
      "INFO:trame_server.state:has(P_0x7fb28a063c10_11_show_ui => P_0x7fb28a063c10_11_show_ui) = True\n",
      "INFO:trame_server.utils.namespace:(prefix=None) translated P_0x7fb28a063c10_11_show_ui\n",
      "INFO:trame_server.utils.namespace: => P_0x7fb28a063c10_11_show_ui\n",
      "INFO:trame_client.widgets.core:after: v-show = P_0x7fb28a063c10_11_show_ui\n",
      "INFO:trame_client.widgets.core:js_key = class\n",
      "INFO:trame_client.widgets.core:js_key = vertical\n",
      "INFO:trame_client.widgets.core:js_key = location\n",
      "INFO:trame_client.widgets.core:js_key = v-slot:activator\n",
      "INFO:trame_client.widgets.core:before: v-slot:activator = { props }\n",
      "INFO:trame_server.utils.namespace:(prefix=None) token {\n",
      "INFO:trame_server.state:has({ => {) = False\n",
      "INFO:trame_server.utils.namespace:(prefix=None) token  \n",
      "INFO:trame_server.state:has(  =>  ) = False\n",
      "INFO:trame_server.utils.namespace:(prefix=None) token props\n",
      "INFO:trame_server.state:has(props => props) = False\n",
      "INFO:trame_server.utils.namespace:(prefix=None) token  \n",
      "INFO:trame_server.state:has(  =>  ) = False\n",
      "INFO:trame_server.utils.namespace:(prefix=None) token }\n",
      "INFO:trame_server.state:has(} => }) = False\n",
      "INFO:trame_server.utils.namespace: => { props }\n",
      "INFO:trame_client.widgets.core:after: v-slot:activator = { props }\n",
      "INFO:trame_client.widgets.core:js_key = v-bind\n",
      "INFO:trame_client.widgets.core:before: v-bind = props\n",
      "INFO:trame_server.utils.namespace:(prefix=None) token props\n",
      "INFO:trame_server.state:has(props => props) = False\n",
      "INFO:trame_server.utils.namespace: => props\n",
      "INFO:trame_client.widgets.core:after: v-bind = props\n",
      "INFO:trame_client.widgets.core:js_key = size\n",
      "INFO:trame_client.widgets.core:js_key = variant\n",
      "INFO:trame_client.widgets.core:js_key = icon\n",
      "INFO:trame_server.controller:trigger(trigger__80)\n",
      "INFO:trame_server.utils.namespace: token mdi-arrow-expand-all\n",
      "INFO:trame_server.utils.namespace: token Reset Camera\n",
      "INFO:trame_client.widgets.core:js_key = class\n",
      "INFO:trame_client.widgets.core:js_key = vertical\n",
      "INFO:trame_client.widgets.core:js_key = location\n",
      "INFO:trame_client.widgets.core:js_key = v-slot:activator\n",
      "INFO:trame_client.widgets.core:before: v-slot:activator = { props }\n",
      "INFO:trame_server.utils.namespace:(prefix=None) token {\n",
      "INFO:trame_server.state:has({ => {) = False\n",
      "INFO:trame_server.utils.namespace:(prefix=None) token  \n",
      "INFO:trame_server.state:has(  =>  ) = False\n",
      "INFO:trame_server.utils.namespace:(prefix=None) token props\n",
      "INFO:trame_server.state:has(props => props) = False\n",
      "INFO:trame_server.utils.namespace:(prefix=None) token  \n",
      "INFO:trame_server.state:has(  =>  ) = False\n",
      "INFO:trame_server.utils.namespace:(prefix=None) token }\n",
      "INFO:trame_server.state:has(} => }) = False\n",
      "INFO:trame_server.utils.namespace: => { props }\n",
      "INFO:trame_client.widgets.core:after: v-slot:activator = { props }\n",
      "INFO:trame_client.widgets.core:js_key = v-bind\n",
      "INFO:trame_client.widgets.core:before: v-bind = props\n",
      "INFO:trame_server.utils.namespace:(prefix=None) token props\n",
      "INFO:trame_server.state:has(props => props) = False\n",
      "INFO:trame_server.utils.namespace: => props\n",
      "INFO:trame_client.widgets.core:after: v-bind = props\n",
      "INFO:trame_client.widgets.core:js_key = size\n",
      "INFO:trame_client.widgets.core:js_key = variant\n",
      "INFO:trame_client.widgets.core:js_key = icon\n",
      "INFO:trame_server.controller:trigger(trigger__81)\n",
      "INFO:trame_server.utils.namespace: token mdi-axis-arrow\n",
      "INFO:trame_server.utils.namespace: token Perspective view\n",
      "INFO:trame_client.widgets.core:js_key = location\n",
      "INFO:trame_client.widgets.core:js_key = v-slot:activator\n",
      "INFO:trame_client.widgets.core:before: v-slot:activator = { props }\n",
      "INFO:trame_server.utils.namespace:(prefix=None) token {\n",
      "INFO:trame_server.state:has({ => {) = False\n",
      "INFO:trame_server.utils.namespace:(prefix=None) token  \n",
      "INFO:trame_server.state:has(  =>  ) = False\n",
      "INFO:trame_server.utils.namespace:(prefix=None) token props\n",
      "INFO:trame_server.state:has(props => props) = False\n",
      "INFO:trame_server.utils.namespace:(prefix=None) token  \n",
      "INFO:trame_server.state:has(  =>  ) = False\n",
      "INFO:trame_server.utils.namespace:(prefix=None) token }\n",
      "INFO:trame_server.state:has(} => }) = False\n",
      "INFO:trame_server.utils.namespace: => { props }\n",
      "INFO:trame_client.widgets.core:after: v-slot:activator = { props }\n",
      "INFO:trame_client.widgets.core:js_key = v-bind\n",
      "INFO:trame_client.widgets.core:before: v-bind = props\n",
      "INFO:trame_server.utils.namespace:(prefix=None) token props\n",
      "INFO:trame_server.state:has(props => props) = False\n",
      "INFO:trame_server.utils.namespace: => props\n",
      "INFO:trame_client.widgets.core:after: v-bind = props\n",
      "INFO:trame_client.widgets.core:js_key = size\n",
      "INFO:trame_client.widgets.core:js_key = variant\n",
      "INFO:trame_client.widgets.core:js_key = icon\n",
      "INFO:trame_server.controller:trigger(trigger__82)\n",
      "INFO:trame_server.utils.namespace: token mdi-axis-x-arrow\n",
      "INFO:trame_server.utils.namespace: token Reset Camera X\n",
      "INFO:trame_client.widgets.core:js_key = location\n",
      "INFO:trame_client.widgets.core:js_key = v-slot:activator\n",
      "INFO:trame_client.widgets.core:before: v-slot:activator = { props }\n",
      "INFO:trame_server.utils.namespace:(prefix=None) token {\n",
      "INFO:trame_server.state:has({ => {) = False\n",
      "INFO:trame_server.utils.namespace:(prefix=None) token  \n",
      "INFO:trame_server.state:has(  =>  ) = False\n",
      "INFO:trame_server.utils.namespace:(prefix=None) token props\n",
      "INFO:trame_server.state:has(props => props) = False\n",
      "INFO:trame_server.utils.namespace:(prefix=None) token  \n",
      "INFO:trame_server.state:has(  =>  ) = False\n",
      "INFO:trame_server.utils.namespace:(prefix=None) token }\n",
      "INFO:trame_server.state:has(} => }) = False\n",
      "INFO:trame_server.utils.namespace: => { props }\n",
      "INFO:trame_client.widgets.core:after: v-slot:activator = { props }\n",
      "INFO:trame_client.widgets.core:js_key = v-bind\n",
      "INFO:trame_client.widgets.core:before: v-bind = props\n",
      "INFO:trame_server.utils.namespace:(prefix=None) token props\n",
      "INFO:trame_server.state:has(props => props) = False\n",
      "INFO:trame_server.utils.namespace: => props\n",
      "INFO:trame_client.widgets.core:after: v-bind = props\n",
      "INFO:trame_client.widgets.core:js_key = size\n",
      "INFO:trame_client.widgets.core:js_key = variant\n",
      "INFO:trame_client.widgets.core:js_key = icon\n",
      "INFO:trame_server.controller:trigger(trigger__83)\n",
      "INFO:trame_server.utils.namespace: token mdi-axis-y-arrow\n",
      "INFO:trame_server.utils.namespace: token Reset Camera Y\n",
      "INFO:trame_client.widgets.core:js_key = location\n",
      "INFO:trame_client.widgets.core:js_key = v-slot:activator\n",
      "INFO:trame_client.widgets.core:before: v-slot:activator = { props }\n",
      "INFO:trame_server.utils.namespace:(prefix=None) token {\n",
      "INFO:trame_server.state:has({ => {) = False\n",
      "INFO:trame_server.utils.namespace:(prefix=None) token  \n",
      "INFO:trame_server.state:has(  =>  ) = False\n",
      "INFO:trame_server.utils.namespace:(prefix=None) token props\n",
      "INFO:trame_server.state:has(props => props) = False\n",
      "INFO:trame_server.utils.namespace:(prefix=None) token  \n",
      "INFO:trame_server.state:has(  =>  ) = False\n",
      "INFO:trame_server.utils.namespace:(prefix=None) token }\n",
      "INFO:trame_server.state:has(} => }) = False\n",
      "INFO:trame_server.utils.namespace: => { props }\n",
      "INFO:trame_client.widgets.core:after: v-slot:activator = { props }\n",
      "INFO:trame_client.widgets.core:js_key = v-bind\n",
      "INFO:trame_client.widgets.core:before: v-bind = props\n",
      "INFO:trame_server.utils.namespace:(prefix=None) token props\n",
      "INFO:trame_server.state:has(props => props) = False\n",
      "INFO:trame_server.utils.namespace: => props\n",
      "INFO:trame_client.widgets.core:after: v-bind = props\n",
      "INFO:trame_client.widgets.core:js_key = size\n",
      "INFO:trame_client.widgets.core:js_key = variant\n",
      "INFO:trame_client.widgets.core:js_key = icon\n",
      "INFO:trame_server.controller:trigger(trigger__84)\n",
      "INFO:trame_server.utils.namespace: token mdi-axis-z-arrow\n",
      "INFO:trame_server.utils.namespace: token Reset Camera Z\n",
      "INFO:trame_client.widgets.core:js_key = class\n",
      "INFO:trame_client.widgets.core:js_key = vertical\n",
      "INFO:trame_client.widgets.core:js_key = location\n",
      "INFO:trame_client.widgets.core:js_key = v-slot:activator\n",
      "INFO:trame_client.widgets.core:before: v-slot:activator = { props }\n",
      "INFO:trame_server.utils.namespace:(prefix=None) token {\n",
      "INFO:trame_server.state:has({ => {) = False\n",
      "INFO:trame_server.utils.namespace:(prefix=None) token  \n",
      "INFO:trame_server.state:has(  =>  ) = False\n",
      "INFO:trame_server.utils.namespace:(prefix=None) token props\n",
      "INFO:trame_server.state:has(props => props) = False\n",
      "INFO:trame_server.utils.namespace:(prefix=None) token  \n",
      "INFO:trame_server.state:has(  =>  ) = False\n",
      "INFO:trame_server.utils.namespace:(prefix=None) token }\n",
      "INFO:trame_server.state:has(} => }) = False\n",
      "INFO:trame_server.utils.namespace: => { props }\n",
      "INFO:trame_client.widgets.core:after: v-slot:activator = { props }\n",
      "INFO:trame_client.widgets.core:js_key = v-bind\n",
      "INFO:trame_client.widgets.core:before: v-bind = props\n",
      "INFO:trame_server.utils.namespace:(prefix=None) token props\n",
      "INFO:trame_server.state:has(props => props) = False\n",
      "INFO:trame_server.utils.namespace: => props\n",
      "INFO:trame_client.widgets.core:after: v-bind = props\n",
      "INFO:trame_client.widgets.core:js_key = v-bind\n",
      "INFO:trame_client.widgets.core:before: v-bind = props\n",
      "INFO:trame_server.utils.namespace:(prefix=None) token props\n",
      "INFO:trame_server.state:has(props => props) = False\n",
      "INFO:trame_server.utils.namespace: => props\n",
      "INFO:trame_client.widgets.core:after: v-bind = props\n",
      "INFO:trame_client.widgets.core:js_key = class\n",
      "INFO:trame_client.widgets.core:js_key = v-model\n",
      "INFO:trame_client.widgets.core:before: v-model = P_0x7fb28a063c10_11_edge_visibility\n",
      "INFO:trame_server.utils.namespace:(prefix=None) token P_0x7fb28a063c10_11_edge_visibility\n",
      "INFO:trame_server.state:has(P_0x7fb28a063c10_11_edge_visibility => P_0x7fb28a063c10_11_edge_visibility) = True\n",
      "INFO:trame_server.utils.namespace:(prefix=None) translated P_0x7fb28a063c10_11_edge_visibility\n",
      "INFO:trame_server.utils.namespace: => P_0x7fb28a063c10_11_edge_visibility\n",
      "INFO:trame_client.widgets.core:after: v-model = P_0x7fb28a063c10_11_edge_visibility\n",
      "INFO:trame_client.widgets.core:js_key = density\n",
      "INFO:trame_client.widgets.core:js_key = hideDetails\n",
      "INFO:trame_client.widgets.core:js_key = falseIcon\n",
      "INFO:trame_client.widgets.core:js_key = trueIcon\n",
      "INFO:trame_server.utils.namespace: token Toggle edge visibility ({\n",
      "INFO:trame_server.utils.namespace: token { P_0x7fb28a063c10_11_edge_visibility ? 'on' : 'off' }\n",
      "INFO:trame_server.utils.namespace:(prefix=None) token {\n",
      "INFO:trame_server.state:has({ => {) = False\n",
      "INFO:trame_server.utils.namespace:(prefix=None) token  \n",
      "INFO:trame_server.state:has(  =>  ) = False\n",
      "INFO:trame_server.utils.namespace:(prefix=None) token P_0x7fb28a063c10_11_edge_visibility\n",
      "INFO:trame_server.state:has(P_0x7fb28a063c10_11_edge_visibility => P_0x7fb28a063c10_11_edge_visibility) = True\n",
      "INFO:trame_server.utils.namespace:(prefix=None) translated P_0x7fb28a063c10_11_edge_visibility\n",
      "INFO:trame_server.utils.namespace:(prefix=None) token  \n",
      "INFO:trame_server.state:has(  =>  ) = False\n",
      "INFO:trame_server.utils.namespace:(prefix=None) token ?\n",
      "INFO:trame_server.state:has(? => ?) = False\n",
      "INFO:trame_server.utils.namespace:(prefix=None) token  \n",
      "INFO:trame_server.state:has(  =>  ) = False\n",
      "INFO:trame_server.utils.namespace:(prefix=None) token '\n",
      "INFO:trame_server.state:has(' => ') = False\n",
      "INFO:trame_server.utils.namespace:(prefix=None) token on\n",
      "INFO:trame_server.state:has(on => on) = False\n",
      "INFO:trame_server.utils.namespace:(prefix=None) token '\n",
      "INFO:trame_server.state:has(' => ') = False\n",
      "INFO:trame_server.utils.namespace:(prefix=None) token  \n",
      "INFO:trame_server.state:has(  =>  ) = False\n",
      "INFO:trame_server.utils.namespace:(prefix=None) token :\n",
      "INFO:trame_server.state:has(: => :) = False\n",
      "INFO:trame_server.utils.namespace:(prefix=None) token  \n",
      "INFO:trame_server.state:has(  =>  ) = False\n",
      "INFO:trame_server.utils.namespace:(prefix=None) token '\n",
      "INFO:trame_server.state:has(' => ') = False\n",
      "INFO:trame_server.utils.namespace:(prefix=None) token off\n",
      "INFO:trame_server.state:has(off => off) = False\n",
      "INFO:trame_server.utils.namespace:(prefix=None) token '\n",
      "INFO:trame_server.state:has(' => ') = False\n",
      "INFO:trame_server.utils.namespace:(prefix=None) token  \n",
      "INFO:trame_server.state:has(  =>  ) = False\n",
      "INFO:trame_server.utils.namespace:(prefix=None) token }\n",
      "INFO:trame_server.state:has(} => }) = False\n",
      "INFO:trame_server.utils.namespace: => { P_0x7fb28a063c10_11_edge_visibility ? 'on' : 'off' }\n",
      "INFO:trame_server.utils.namespace: token })\n",
      "INFO:trame_client.widgets.core:js_key = location\n",
      "INFO:trame_client.widgets.core:js_key = v-slot:activator\n",
      "INFO:trame_client.widgets.core:before: v-slot:activator = { props }\n",
      "INFO:trame_server.utils.namespace:(prefix=None) token {\n",
      "INFO:trame_server.state:has({ => {) = False\n",
      "INFO:trame_server.utils.namespace:(prefix=None) token  \n",
      "INFO:trame_server.state:has(  =>  ) = False\n",
      "INFO:trame_server.utils.namespace:(prefix=None) token props\n",
      "INFO:trame_server.state:has(props => props) = False\n",
      "INFO:trame_server.utils.namespace:(prefix=None) token  \n",
      "INFO:trame_server.state:has(  =>  ) = False\n",
      "INFO:trame_server.utils.namespace:(prefix=None) token }\n",
      "INFO:trame_server.state:has(} => }) = False\n",
      "INFO:trame_server.utils.namespace: => { props }\n",
      "INFO:trame_client.widgets.core:after: v-slot:activator = { props }\n",
      "INFO:trame_client.widgets.core:js_key = v-bind\n",
      "INFO:trame_client.widgets.core:before: v-bind = props\n",
      "INFO:trame_server.utils.namespace:(prefix=None) token props\n",
      "INFO:trame_server.state:has(props => props) = False\n",
      "INFO:trame_server.utils.namespace: => props\n",
      "INFO:trame_client.widgets.core:after: v-bind = props\n",
      "INFO:trame_client.widgets.core:js_key = v-bind\n",
      "INFO:trame_client.widgets.core:before: v-bind = props\n",
      "INFO:trame_server.utils.namespace:(prefix=None) token props\n",
      "INFO:trame_server.state:has(props => props) = False\n",
      "INFO:trame_server.utils.namespace: => props\n",
      "INFO:trame_client.widgets.core:after: v-bind = props\n",
      "INFO:trame_client.widgets.core:js_key = class\n",
      "INFO:trame_client.widgets.core:js_key = v-model\n",
      "INFO:trame_client.widgets.core:before: v-model = P_0x7fb28a063c10_11_outline_visibility\n",
      "INFO:trame_server.utils.namespace:(prefix=None) token P_0x7fb28a063c10_11_outline_visibility\n",
      "INFO:trame_server.state:has(P_0x7fb28a063c10_11_outline_visibility => P_0x7fb28a063c10_11_outline_visibility) = True\n",
      "INFO:trame_server.utils.namespace:(prefix=None) translated P_0x7fb28a063c10_11_outline_visibility\n",
      "INFO:trame_server.utils.namespace: => P_0x7fb28a063c10_11_outline_visibility\n",
      "INFO:trame_client.widgets.core:after: v-model = P_0x7fb28a063c10_11_outline_visibility\n",
      "INFO:trame_client.widgets.core:js_key = density\n",
      "INFO:trame_client.widgets.core:js_key = hideDetails\n",
      "INFO:trame_client.widgets.core:js_key = falseIcon\n",
      "INFO:trame_client.widgets.core:js_key = trueIcon\n",
      "INFO:trame_server.utils.namespace: token Toggle bounding box ({\n",
      "INFO:trame_server.utils.namespace: token { P_0x7fb28a063c10_11_outline_visibility ? 'on' : 'off' }\n",
      "INFO:trame_server.utils.namespace:(prefix=None) token {\n",
      "INFO:trame_server.state:has({ => {) = False\n",
      "INFO:trame_server.utils.namespace:(prefix=None) token  \n",
      "INFO:trame_server.state:has(  =>  ) = False\n",
      "INFO:trame_server.utils.namespace:(prefix=None) token P_0x7fb28a063c10_11_outline_visibility\n",
      "INFO:trame_server.state:has(P_0x7fb28a063c10_11_outline_visibility => P_0x7fb28a063c10_11_outline_visibility) = True\n",
      "INFO:trame_server.utils.namespace:(prefix=None) translated P_0x7fb28a063c10_11_outline_visibility\n",
      "INFO:trame_server.utils.namespace:(prefix=None) token  \n",
      "INFO:trame_server.state:has(  =>  ) = False\n",
      "INFO:trame_server.utils.namespace:(prefix=None) token ?\n",
      "INFO:trame_server.state:has(? => ?) = False\n",
      "INFO:trame_server.utils.namespace:(prefix=None) token  \n",
      "INFO:trame_server.state:has(  =>  ) = False\n",
      "INFO:trame_server.utils.namespace:(prefix=None) token '\n",
      "INFO:trame_server.state:has(' => ') = False\n",
      "INFO:trame_server.utils.namespace:(prefix=None) token on\n",
      "INFO:trame_server.state:has(on => on) = False\n",
      "INFO:trame_server.utils.namespace:(prefix=None) token '\n",
      "INFO:trame_server.state:has(' => ') = False\n",
      "INFO:trame_server.utils.namespace:(prefix=None) token  \n",
      "INFO:trame_server.state:has(  =>  ) = False\n",
      "INFO:trame_server.utils.namespace:(prefix=None) token :\n",
      "INFO:trame_server.state:has(: => :) = False\n",
      "INFO:trame_server.utils.namespace:(prefix=None) token  \n",
      "INFO:trame_server.state:has(  =>  ) = False\n",
      "INFO:trame_server.utils.namespace:(prefix=None) token '\n",
      "INFO:trame_server.state:has(' => ') = False\n",
      "INFO:trame_server.utils.namespace:(prefix=None) token off\n",
      "INFO:trame_server.state:has(off => off) = False\n",
      "INFO:trame_server.utils.namespace:(prefix=None) token '\n",
      "INFO:trame_server.state:has(' => ') = False\n",
      "INFO:trame_server.utils.namespace:(prefix=None) token  \n",
      "INFO:trame_server.state:has(  =>  ) = False\n",
      "INFO:trame_server.utils.namespace:(prefix=None) token }\n",
      "INFO:trame_server.state:has(} => }) = False\n",
      "INFO:trame_server.utils.namespace: => { P_0x7fb28a063c10_11_outline_visibility ? 'on' : 'off' }\n",
      "INFO:trame_server.utils.namespace: token })\n",
      "INFO:trame_client.widgets.core:js_key = location\n",
      "INFO:trame_client.widgets.core:js_key = v-slot:activator\n",
      "INFO:trame_client.widgets.core:before: v-slot:activator = { props }\n",
      "INFO:trame_server.utils.namespace:(prefix=None) token {\n",
      "INFO:trame_server.state:has({ => {) = False\n",
      "INFO:trame_server.utils.namespace:(prefix=None) token  \n",
      "INFO:trame_server.state:has(  =>  ) = False\n",
      "INFO:trame_server.utils.namespace:(prefix=None) token props\n",
      "INFO:trame_server.state:has(props => props) = False\n",
      "INFO:trame_server.utils.namespace:(prefix=None) token  \n",
      "INFO:trame_server.state:has(  =>  ) = False\n",
      "INFO:trame_server.utils.namespace:(prefix=None) token }\n",
      "INFO:trame_server.state:has(} => }) = False\n",
      "INFO:trame_server.utils.namespace: => { props }\n",
      "INFO:trame_client.widgets.core:after: v-slot:activator = { props }\n",
      "INFO:trame_client.widgets.core:js_key = v-bind\n",
      "INFO:trame_client.widgets.core:before: v-bind = props\n",
      "INFO:trame_server.utils.namespace:(prefix=None) token props\n",
      "INFO:trame_server.state:has(props => props) = False\n",
      "INFO:trame_server.utils.namespace: => props\n",
      "INFO:trame_client.widgets.core:after: v-bind = props\n",
      "INFO:trame_client.widgets.core:js_key = v-bind\n",
      "INFO:trame_client.widgets.core:before: v-bind = props\n",
      "INFO:trame_server.utils.namespace:(prefix=None) token props\n",
      "INFO:trame_server.state:has(props => props) = False\n",
      "INFO:trame_server.utils.namespace: => props\n",
      "INFO:trame_client.widgets.core:after: v-bind = props\n",
      "INFO:trame_client.widgets.core:js_key = class\n",
      "INFO:trame_client.widgets.core:js_key = v-model\n",
      "INFO:trame_client.widgets.core:before: v-model = P_0x7fb28a063c10_11_grid_visibility\n",
      "INFO:trame_server.utils.namespace:(prefix=None) token P_0x7fb28a063c10_11_grid_visibility\n",
      "INFO:trame_server.state:has(P_0x7fb28a063c10_11_grid_visibility => P_0x7fb28a063c10_11_grid_visibility) = True\n",
      "INFO:trame_server.utils.namespace:(prefix=None) translated P_0x7fb28a063c10_11_grid_visibility\n",
      "INFO:trame_server.utils.namespace: => P_0x7fb28a063c10_11_grid_visibility\n",
      "INFO:trame_client.widgets.core:after: v-model = P_0x7fb28a063c10_11_grid_visibility\n",
      "INFO:trame_client.widgets.core:js_key = density\n",
      "INFO:trame_client.widgets.core:js_key = hideDetails\n",
      "INFO:trame_client.widgets.core:js_key = falseIcon\n",
      "INFO:trame_client.widgets.core:js_key = trueIcon\n",
      "INFO:trame_server.utils.namespace: token Toggle ruler ({\n",
      "INFO:trame_server.utils.namespace: token { P_0x7fb28a063c10_11_grid_visibility ? 'on' : 'off' }\n",
      "INFO:trame_server.utils.namespace:(prefix=None) token {\n",
      "INFO:trame_server.state:has({ => {) = False\n",
      "INFO:trame_server.utils.namespace:(prefix=None) token  \n",
      "INFO:trame_server.state:has(  =>  ) = False\n",
      "INFO:trame_server.utils.namespace:(prefix=None) token P_0x7fb28a063c10_11_grid_visibility\n",
      "INFO:trame_server.state:has(P_0x7fb28a063c10_11_grid_visibility => P_0x7fb28a063c10_11_grid_visibility) = True\n",
      "INFO:trame_server.utils.namespace:(prefix=None) translated P_0x7fb28a063c10_11_grid_visibility\n",
      "INFO:trame_server.utils.namespace:(prefix=None) token  \n",
      "INFO:trame_server.state:has(  =>  ) = False\n",
      "INFO:trame_server.utils.namespace:(prefix=None) token ?\n",
      "INFO:trame_server.state:has(? => ?) = False\n",
      "INFO:trame_server.utils.namespace:(prefix=None) token  \n",
      "INFO:trame_server.state:has(  =>  ) = False\n",
      "INFO:trame_server.utils.namespace:(prefix=None) token '\n",
      "INFO:trame_server.state:has(' => ') = False\n",
      "INFO:trame_server.utils.namespace:(prefix=None) token on\n",
      "INFO:trame_server.state:has(on => on) = False\n",
      "INFO:trame_server.utils.namespace:(prefix=None) token '\n",
      "INFO:trame_server.state:has(' => ') = False\n",
      "INFO:trame_server.utils.namespace:(prefix=None) token  \n",
      "INFO:trame_server.state:has(  =>  ) = False\n",
      "INFO:trame_server.utils.namespace:(prefix=None) token :\n",
      "INFO:trame_server.state:has(: => :) = False\n",
      "INFO:trame_server.utils.namespace:(prefix=None) token  \n",
      "INFO:trame_server.state:has(  =>  ) = False\n",
      "INFO:trame_server.utils.namespace:(prefix=None) token '\n",
      "INFO:trame_server.state:has(' => ') = False\n",
      "INFO:trame_server.utils.namespace:(prefix=None) token off\n",
      "INFO:trame_server.state:has(off => off) = False\n",
      "INFO:trame_server.utils.namespace:(prefix=None) token '\n",
      "INFO:trame_server.state:has(' => ') = False\n",
      "INFO:trame_server.utils.namespace:(prefix=None) token  \n",
      "INFO:trame_server.state:has(  =>  ) = False\n",
      "INFO:trame_server.utils.namespace:(prefix=None) token }\n",
      "INFO:trame_server.state:has(} => }) = False\n",
      "INFO:trame_server.utils.namespace: => { P_0x7fb28a063c10_11_grid_visibility ? 'on' : 'off' }\n",
      "INFO:trame_server.utils.namespace: token })\n",
      "INFO:trame_client.widgets.core:js_key = location\n",
      "INFO:trame_client.widgets.core:js_key = v-slot:activator\n",
      "INFO:trame_client.widgets.core:before: v-slot:activator = { props }\n",
      "INFO:trame_server.utils.namespace:(prefix=None) token {\n",
      "INFO:trame_server.state:has({ => {) = False\n",
      "INFO:trame_server.utils.namespace:(prefix=None) token  \n",
      "INFO:trame_server.state:has(  =>  ) = False\n",
      "INFO:trame_server.utils.namespace:(prefix=None) token props\n",
      "INFO:trame_server.state:has(props => props) = False\n",
      "INFO:trame_server.utils.namespace:(prefix=None) token  \n",
      "INFO:trame_server.state:has(  =>  ) = False\n",
      "INFO:trame_server.utils.namespace:(prefix=None) token }\n",
      "INFO:trame_server.state:has(} => }) = False\n",
      "INFO:trame_server.utils.namespace: => { props }\n",
      "INFO:trame_client.widgets.core:after: v-slot:activator = { props }\n",
      "INFO:trame_client.widgets.core:js_key = v-bind\n",
      "INFO:trame_client.widgets.core:before: v-bind = props\n",
      "INFO:trame_server.utils.namespace:(prefix=None) token props\n",
      "INFO:trame_server.state:has(props => props) = False\n",
      "INFO:trame_server.utils.namespace: => props\n",
      "INFO:trame_client.widgets.core:after: v-bind = props\n",
      "INFO:trame_client.widgets.core:js_key = v-bind\n",
      "INFO:trame_client.widgets.core:before: v-bind = props\n",
      "INFO:trame_server.utils.namespace:(prefix=None) token props\n",
      "INFO:trame_server.state:has(props => props) = False\n",
      "INFO:trame_server.utils.namespace: => props\n",
      "INFO:trame_client.widgets.core:after: v-bind = props\n",
      "INFO:trame_client.widgets.core:js_key = class\n",
      "INFO:trame_client.widgets.core:js_key = v-model\n",
      "INFO:trame_client.widgets.core:before: v-model = P_0x7fb28a063c10_11_axis_visiblity\n",
      "INFO:trame_server.utils.namespace:(prefix=None) token P_0x7fb28a063c10_11_axis_visiblity\n",
      "INFO:trame_server.state:has(P_0x7fb28a063c10_11_axis_visiblity => P_0x7fb28a063c10_11_axis_visiblity) = True\n",
      "INFO:trame_server.utils.namespace:(prefix=None) translated P_0x7fb28a063c10_11_axis_visiblity\n",
      "INFO:trame_server.utils.namespace: => P_0x7fb28a063c10_11_axis_visiblity\n",
      "INFO:trame_client.widgets.core:after: v-model = P_0x7fb28a063c10_11_axis_visiblity\n",
      "INFO:trame_client.widgets.core:js_key = density\n",
      "INFO:trame_client.widgets.core:js_key = hideDetails\n",
      "INFO:trame_client.widgets.core:js_key = falseIcon\n",
      "INFO:trame_client.widgets.core:js_key = trueIcon\n",
      "INFO:trame_server.utils.namespace: token Toggle axis ({\n",
      "INFO:trame_server.utils.namespace: token { P_0x7fb28a063c10_11_axis_visiblity ? 'on' : 'off' }\n",
      "INFO:trame_server.utils.namespace:(prefix=None) token {\n",
      "INFO:trame_server.state:has({ => {) = False\n",
      "INFO:trame_server.utils.namespace:(prefix=None) token  \n",
      "INFO:trame_server.state:has(  =>  ) = False\n",
      "INFO:trame_server.utils.namespace:(prefix=None) token P_0x7fb28a063c10_11_axis_visiblity\n",
      "INFO:trame_server.state:has(P_0x7fb28a063c10_11_axis_visiblity => P_0x7fb28a063c10_11_axis_visiblity) = True\n",
      "INFO:trame_server.utils.namespace:(prefix=None) translated P_0x7fb28a063c10_11_axis_visiblity\n",
      "INFO:trame_server.utils.namespace:(prefix=None) token  \n",
      "INFO:trame_server.state:has(  =>  ) = False\n",
      "INFO:trame_server.utils.namespace:(prefix=None) token ?\n",
      "INFO:trame_server.state:has(? => ?) = False\n",
      "INFO:trame_server.utils.namespace:(prefix=None) token  \n",
      "INFO:trame_server.state:has(  =>  ) = False\n",
      "INFO:trame_server.utils.namespace:(prefix=None) token '\n",
      "INFO:trame_server.state:has(' => ') = False\n",
      "INFO:trame_server.utils.namespace:(prefix=None) token on\n",
      "INFO:trame_server.state:has(on => on) = False\n",
      "INFO:trame_server.utils.namespace:(prefix=None) token '\n",
      "INFO:trame_server.state:has(' => ') = False\n",
      "INFO:trame_server.utils.namespace:(prefix=None) token  \n",
      "INFO:trame_server.state:has(  =>  ) = False\n",
      "INFO:trame_server.utils.namespace:(prefix=None) token :\n",
      "INFO:trame_server.state:has(: => :) = False\n",
      "INFO:trame_server.utils.namespace:(prefix=None) token  \n",
      "INFO:trame_server.state:has(  =>  ) = False\n",
      "INFO:trame_server.utils.namespace:(prefix=None) token '\n",
      "INFO:trame_server.state:has(' => ') = False\n",
      "INFO:trame_server.utils.namespace:(prefix=None) token off\n",
      "INFO:trame_server.state:has(off => off) = False\n",
      "INFO:trame_server.utils.namespace:(prefix=None) token '\n",
      "INFO:trame_server.state:has(' => ') = False\n",
      "INFO:trame_server.utils.namespace:(prefix=None) token  \n",
      "INFO:trame_server.state:has(  =>  ) = False\n",
      "INFO:trame_server.utils.namespace:(prefix=None) token }\n",
      "INFO:trame_server.state:has(} => }) = False\n",
      "INFO:trame_server.utils.namespace: => { P_0x7fb28a063c10_11_axis_visiblity ? 'on' : 'off' }\n",
      "INFO:trame_server.utils.namespace: token })\n",
      "INFO:trame_client.widgets.core:js_key = class\n",
      "INFO:trame_client.widgets.core:js_key = vertical\n",
      "INFO:trame_client.widgets.core:js_key = location\n",
      "INFO:trame_client.widgets.core:js_key = v-slot:activator\n",
      "INFO:trame_client.widgets.core:before: v-slot:activator = { props }\n",
      "INFO:trame_server.utils.namespace:(prefix=None) token {\n",
      "INFO:trame_server.state:has({ => {) = False\n",
      "INFO:trame_server.utils.namespace:(prefix=None) token  \n",
      "INFO:trame_server.state:has(  =>  ) = False\n",
      "INFO:trame_server.utils.namespace:(prefix=None) token props\n",
      "INFO:trame_server.state:has(props => props) = False\n",
      "INFO:trame_server.utils.namespace:(prefix=None) token  \n",
      "INFO:trame_server.state:has(  =>  ) = False\n",
      "INFO:trame_server.utils.namespace:(prefix=None) token }\n",
      "INFO:trame_server.state:has(} => }) = False\n",
      "INFO:trame_server.utils.namespace: => { props }\n",
      "INFO:trame_client.widgets.core:after: v-slot:activator = { props }\n",
      "INFO:trame_client.widgets.core:js_key = v-bind\n",
      "INFO:trame_client.widgets.core:before: v-bind = props\n",
      "INFO:trame_server.utils.namespace:(prefix=None) token props\n",
      "INFO:trame_server.state:has(props => props) = False\n",
      "INFO:trame_server.utils.namespace: => props\n",
      "INFO:trame_client.widgets.core:after: v-bind = props\n",
      "INFO:trame_client.widgets.core:js_key = v-bind\n",
      "INFO:trame_client.widgets.core:before: v-bind = props\n",
      "INFO:trame_server.utils.namespace:(prefix=None) token props\n",
      "INFO:trame_server.state:has(props => props) = False\n",
      "INFO:trame_server.utils.namespace: => props\n",
      "INFO:trame_client.widgets.core:after: v-bind = props\n",
      "INFO:trame_client.widgets.core:js_key = class\n",
      "INFO:trame_client.widgets.core:js_key = v-model\n",
      "INFO:trame_client.widgets.core:before: v-model = P_0x7fb28a063c10_11_use_server_rendering\n",
      "INFO:trame_server.utils.namespace:(prefix=None) token P_0x7fb28a063c10_11_use_server_rendering\n",
      "INFO:trame_server.state:has(P_0x7fb28a063c10_11_use_server_rendering => P_0x7fb28a063c10_11_use_server_rendering) = True\n",
      "INFO:trame_server.utils.namespace:(prefix=None) translated P_0x7fb28a063c10_11_use_server_rendering\n",
      "INFO:trame_server.utils.namespace: => P_0x7fb28a063c10_11_use_server_rendering\n",
      "INFO:trame_client.widgets.core:after: v-model = P_0x7fb28a063c10_11_use_server_rendering\n",
      "INFO:trame_client.widgets.core:js_key = density\n",
      "INFO:trame_client.widgets.core:js_key = hideDetails\n",
      "INFO:trame_client.widgets.core:js_key = falseIcon\n",
      "INFO:trame_client.widgets.core:js_key = trueIcon\n",
      "INFO:trame_server.utils.namespace: token Toggle rendering mode ({\n",
      "INFO:trame_server.utils.namespace: token { P_0x7fb28a063c10_11_use_server_rendering ? 'remote' : 'local' }\n",
      "INFO:trame_server.utils.namespace:(prefix=None) token {\n",
      "INFO:trame_server.state:has({ => {) = False\n",
      "INFO:trame_server.utils.namespace:(prefix=None) token  \n",
      "INFO:trame_server.state:has(  =>  ) = False\n",
      "INFO:trame_server.utils.namespace:(prefix=None) token P_0x7fb28a063c10_11_use_server_rendering\n",
      "INFO:trame_server.state:has(P_0x7fb28a063c10_11_use_server_rendering => P_0x7fb28a063c10_11_use_server_rendering) = True\n",
      "INFO:trame_server.utils.namespace:(prefix=None) translated P_0x7fb28a063c10_11_use_server_rendering\n",
      "INFO:trame_server.utils.namespace:(prefix=None) token  \n",
      "INFO:trame_server.state:has(  =>  ) = False\n",
      "INFO:trame_server.utils.namespace:(prefix=None) token ?\n",
      "INFO:trame_server.state:has(? => ?) = False\n",
      "INFO:trame_server.utils.namespace:(prefix=None) token  \n",
      "INFO:trame_server.state:has(  =>  ) = False\n",
      "INFO:trame_server.utils.namespace:(prefix=None) token '\n",
      "INFO:trame_server.state:has(' => ') = False\n",
      "INFO:trame_server.utils.namespace:(prefix=None) token remote\n",
      "INFO:trame_server.state:has(remote => remote) = False\n",
      "INFO:trame_server.utils.namespace:(prefix=None) token '\n",
      "INFO:trame_server.state:has(' => ') = False\n",
      "INFO:trame_server.utils.namespace:(prefix=None) token  \n",
      "INFO:trame_server.state:has(  =>  ) = False\n",
      "INFO:trame_server.utils.namespace:(prefix=None) token :\n",
      "INFO:trame_server.state:has(: => :) = False\n",
      "INFO:trame_server.utils.namespace:(prefix=None) token  \n",
      "INFO:trame_server.state:has(  =>  ) = False\n",
      "INFO:trame_server.utils.namespace:(prefix=None) token '\n",
      "INFO:trame_server.state:has(' => ') = False\n",
      "INFO:trame_server.utils.namespace:(prefix=None) token local\n",
      "INFO:trame_server.state:has(local => local) = False\n",
      "INFO:trame_server.utils.namespace:(prefix=None) token '\n",
      "INFO:trame_server.state:has(' => ') = False\n",
      "INFO:trame_server.utils.namespace:(prefix=None) token  \n",
      "INFO:trame_server.state:has(  =>  ) = False\n",
      "INFO:trame_server.utils.namespace:(prefix=None) token }\n",
      "INFO:trame_server.state:has(} => }) = False\n",
      "INFO:trame_server.utils.namespace: => { P_0x7fb28a063c10_11_use_server_rendering ? 'remote' : 'local' }\n",
      "INFO:trame_server.utils.namespace: token })\n",
      "INFO:trame_client.widgets.core:js_key = class\n",
      "INFO:trame_client.widgets.core:js_key = style\n",
      "INFO:trame_client.widgets.core:js_key = v-show\n",
      "INFO:trame_client.widgets.core:before: v-show = P_0x7fb28a063c10_11_use_server_rendering\n",
      "INFO:trame_server.utils.namespace:(prefix=None) token P_0x7fb28a063c10_11_use_server_rendering\n",
      "INFO:trame_server.state:has(P_0x7fb28a063c10_11_use_server_rendering => P_0x7fb28a063c10_11_use_server_rendering) = True\n",
      "INFO:trame_server.utils.namespace:(prefix=None) translated P_0x7fb28a063c10_11_use_server_rendering\n",
      "INFO:trame_server.utils.namespace: => P_0x7fb28a063c10_11_use_server_rendering\n",
      "INFO:trame_client.widgets.core:after: v-show = P_0x7fb28a063c10_11_use_server_rendering\n",
      "INFO:trame_client.widgets.core:js_key = location\n",
      "INFO:trame_client.widgets.core:js_key = v-slot:activator\n",
      "INFO:trame_client.widgets.core:before: v-slot:activator = { props }\n",
      "INFO:trame_server.utils.namespace:(prefix=None) token {\n",
      "INFO:trame_server.state:has({ => {) = False\n",
      "INFO:trame_server.utils.namespace:(prefix=None) token  \n",
      "INFO:trame_server.state:has(  =>  ) = False\n",
      "INFO:trame_server.utils.namespace:(prefix=None) token props\n",
      "INFO:trame_server.state:has(props => props) = False\n",
      "INFO:trame_server.utils.namespace:(prefix=None) token  \n",
      "INFO:trame_server.state:has(  =>  ) = False\n",
      "INFO:trame_server.utils.namespace:(prefix=None) token }\n",
      "INFO:trame_server.state:has(} => }) = False\n",
      "INFO:trame_server.utils.namespace: => { props }\n",
      "INFO:trame_client.widgets.core:after: v-slot:activator = { props }\n",
      "INFO:trame_client.widgets.core:js_key = v-bind\n",
      "INFO:trame_client.widgets.core:before: v-bind = props\n",
      "INFO:trame_server.utils.namespace:(prefix=None) token props\n",
      "INFO:trame_server.state:has(props => props) = False\n",
      "INFO:trame_server.utils.namespace: => props\n",
      "INFO:trame_client.widgets.core:after: v-bind = props\n",
      "INFO:trame_client.widgets.core:js_key = size\n",
      "INFO:trame_client.widgets.core:js_key = variant\n",
      "INFO:trame_client.widgets.core:js_key = icon\n",
      "INFO:trame_server.utils.namespace: token mdi-file-png-box\n",
      "INFO:trame_server.utils.namespace: token Save screenshot\n",
      "INFO:trame_client.widgets.core:js_key = location\n",
      "INFO:trame_client.widgets.core:js_key = v-slot:activator\n",
      "INFO:trame_client.widgets.core:before: v-slot:activator = { props }\n",
      "INFO:trame_server.utils.namespace:(prefix=None) token {\n",
      "INFO:trame_server.state:has({ => {) = False\n",
      "INFO:trame_server.utils.namespace:(prefix=None) token  \n",
      "INFO:trame_server.state:has(  =>  ) = False\n",
      "INFO:trame_server.utils.namespace:(prefix=None) token props\n",
      "INFO:trame_server.state:has(props => props) = False\n",
      "INFO:trame_server.utils.namespace:(prefix=None) token  \n",
      "INFO:trame_server.state:has(  =>  ) = False\n",
      "INFO:trame_server.utils.namespace:(prefix=None) token }\n",
      "INFO:trame_server.state:has(} => }) = False\n",
      "INFO:trame_server.utils.namespace: => { props }\n",
      "INFO:trame_client.widgets.core:after: v-slot:activator = { props }\n",
      "INFO:trame_client.widgets.core:js_key = v-bind\n",
      "INFO:trame_client.widgets.core:before: v-bind = props\n",
      "INFO:trame_server.utils.namespace:(prefix=None) token props\n",
      "INFO:trame_server.state:has(props => props) = False\n",
      "INFO:trame_server.utils.namespace: => props\n",
      "INFO:trame_client.widgets.core:after: v-bind = props\n",
      "INFO:trame_client.widgets.core:js_key = size\n",
      "INFO:trame_client.widgets.core:js_key = variant\n",
      "INFO:trame_client.widgets.core:js_key = icon\n",
      "INFO:trame_server.utils.namespace: token mdi-download\n",
      "INFO:trame_server.utils.namespace: token Export scene as HTML\n",
      "INFO:trame_client.widgets.core:js_key = stillRatio\n",
      "INFO:trame_client.widgets.core:js_key = ref\n",
      "INFO:trame_client.widgets.core:js_key = interactiveRatio\n",
      "INFO:trame_client.widgets.core:js_key = stillRatio\n"
     ]
    },
    {
     "data": {
      "application/vnd.jupyter.widget-view+json": {
       "model_id": "6f51fb80446c42abaed712254813d08b",
       "version_major": 2,
       "version_minor": 0
      },
      "text/plain": [
       "Widget(value='<iframe src=\"http://localhost:46863/index.html?ui=P_0x7fb28a063c10_11&reconnect=auto\" class=\"pyv…"
      ]
     },
     "metadata": {},
     "output_type": "display_data"
    },
    {
     "data": {
      "text/latex": [
       "$\\displaystyle 0.884137472325613$"
      ],
      "text/plain": [
       "0.8841374723256133"
      ]
     },
     "execution_count": 42,
     "metadata": {},
     "output_type": "execute_result"
    }
   ],
   "source": [
    "psi = solution[1][6]\n",
    "nqcpfem.plotting.plot_eigenvector(psi,fem_model)\n",
    "particle_projector(fem_model.band_model).mel(psi)"
   ]
  },
  {
   "cell_type": "code",
   "execution_count": 153,
   "metadata": {},
   "outputs": [
    {
     "name": "stderr",
     "output_type": "stream",
     "text": [
      "INFO:nqcpfem.parameter_search:evaluating at grid point 1/32\n"
     ]
    },
    {
     "name": "stdout",
     "output_type": "stream",
     "text": [
      "(25704, 25704)\n"
     ]
    },
    {
     "name": "stderr",
     "output_type": "stream",
     "text": [
      "INFO:nqcpfem.parameter_search:evaluating at grid point 2/32\n"
     ]
    },
    {
     "name": "stdout",
     "output_type": "stream",
     "text": [
      "(25704, 25704)\n"
     ]
    },
    {
     "name": "stderr",
     "output_type": "stream",
     "text": [
      "INFO:nqcpfem.parameter_search:evaluating at grid point 3/32\n"
     ]
    },
    {
     "name": "stdout",
     "output_type": "stream",
     "text": [
      "(25704, 25704)\n"
     ]
    },
    {
     "name": "stderr",
     "output_type": "stream",
     "text": [
      "INFO:nqcpfem.parameter_search:evaluating at grid point 4/32\n"
     ]
    },
    {
     "name": "stdout",
     "output_type": "stream",
     "text": [
      "(25704, 25704)\n"
     ]
    },
    {
     "name": "stderr",
     "output_type": "stream",
     "text": [
      "INFO:nqcpfem.parameter_search:evaluating at grid point 5/32\n"
     ]
    },
    {
     "name": "stdout",
     "output_type": "stream",
     "text": [
      "(25704, 25704)\n"
     ]
    },
    {
     "name": "stderr",
     "output_type": "stream",
     "text": [
      "INFO:nqcpfem.parameter_search:evaluating at grid point 6/32\n"
     ]
    },
    {
     "name": "stdout",
     "output_type": "stream",
     "text": [
      "(25704, 25704)\n"
     ]
    },
    {
     "name": "stderr",
     "output_type": "stream",
     "text": [
      "INFO:nqcpfem.parameter_search:evaluating at grid point 7/32\n"
     ]
    },
    {
     "name": "stdout",
     "output_type": "stream",
     "text": [
      "(25704, 25704)\n"
     ]
    },
    {
     "name": "stderr",
     "output_type": "stream",
     "text": [
      "INFO:nqcpfem.parameter_search:evaluating at grid point 8/32\n"
     ]
    },
    {
     "name": "stdout",
     "output_type": "stream",
     "text": [
      "(25704, 25704)\n"
     ]
    },
    {
     "name": "stderr",
     "output_type": "stream",
     "text": [
      "INFO:nqcpfem.parameter_search:evaluating at grid point 9/32\n"
     ]
    },
    {
     "name": "stdout",
     "output_type": "stream",
     "text": [
      "(25704, 25704)\n"
     ]
    },
    {
     "name": "stderr",
     "output_type": "stream",
     "text": [
      "INFO:nqcpfem.parameter_search:evaluating at grid point 10/32\n"
     ]
    },
    {
     "name": "stdout",
     "output_type": "stream",
     "text": [
      "(25704, 25704)\n"
     ]
    },
    {
     "name": "stderr",
     "output_type": "stream",
     "text": [
      "INFO:nqcpfem.parameter_search:evaluating at grid point 11/32\n"
     ]
    },
    {
     "name": "stdout",
     "output_type": "stream",
     "text": [
      "(25704, 25704)\n"
     ]
    },
    {
     "name": "stderr",
     "output_type": "stream",
     "text": [
      "INFO:nqcpfem.parameter_search:evaluating at grid point 12/32\n"
     ]
    },
    {
     "name": "stdout",
     "output_type": "stream",
     "text": [
      "(25704, 25704)\n"
     ]
    },
    {
     "name": "stderr",
     "output_type": "stream",
     "text": [
      "INFO:nqcpfem.parameter_search:evaluating at grid point 13/32\n"
     ]
    },
    {
     "name": "stdout",
     "output_type": "stream",
     "text": [
      "(25704, 25704)\n"
     ]
    },
    {
     "name": "stderr",
     "output_type": "stream",
     "text": [
      "INFO:nqcpfem.parameter_search:evaluating at grid point 14/32\n"
     ]
    },
    {
     "name": "stdout",
     "output_type": "stream",
     "text": [
      "(25704, 25704)\n"
     ]
    },
    {
     "name": "stderr",
     "output_type": "stream",
     "text": [
      "INFO:nqcpfem.parameter_search:evaluating at grid point 15/32\n"
     ]
    },
    {
     "name": "stdout",
     "output_type": "stream",
     "text": [
      "(25704, 25704)\n"
     ]
    },
    {
     "name": "stderr",
     "output_type": "stream",
     "text": [
      "INFO:nqcpfem.parameter_search:evaluating at grid point 16/32\n"
     ]
    },
    {
     "name": "stdout",
     "output_type": "stream",
     "text": [
      "(25704, 25704)\n"
     ]
    },
    {
     "name": "stderr",
     "output_type": "stream",
     "text": [
      "INFO:nqcpfem.parameter_search:evaluating at grid point 17/32\n"
     ]
    },
    {
     "name": "stdout",
     "output_type": "stream",
     "text": [
      "(25704, 25704)\n"
     ]
    },
    {
     "name": "stderr",
     "output_type": "stream",
     "text": [
      "INFO:nqcpfem.parameter_search:evaluating at grid point 18/32\n"
     ]
    },
    {
     "name": "stdout",
     "output_type": "stream",
     "text": [
      "(25704, 25704)\n"
     ]
    },
    {
     "name": "stderr",
     "output_type": "stream",
     "text": [
      "INFO:nqcpfem.parameter_search:evaluating at grid point 19/32\n"
     ]
    },
    {
     "name": "stdout",
     "output_type": "stream",
     "text": [
      "(25704, 25704)\n"
     ]
    },
    {
     "name": "stderr",
     "output_type": "stream",
     "text": [
      "INFO:nqcpfem.parameter_search:evaluating at grid point 20/32\n"
     ]
    },
    {
     "name": "stdout",
     "output_type": "stream",
     "text": [
      "(25704, 25704)\n"
     ]
    },
    {
     "name": "stderr",
     "output_type": "stream",
     "text": [
      "INFO:nqcpfem.parameter_search:evaluating at grid point 21/32\n"
     ]
    },
    {
     "name": "stdout",
     "output_type": "stream",
     "text": [
      "(25704, 25704)\n"
     ]
    },
    {
     "name": "stderr",
     "output_type": "stream",
     "text": [
      "INFO:nqcpfem.parameter_search:evaluating at grid point 22/32\n"
     ]
    },
    {
     "name": "stdout",
     "output_type": "stream",
     "text": [
      "(25704, 25704)\n"
     ]
    },
    {
     "name": "stderr",
     "output_type": "stream",
     "text": [
      "INFO:nqcpfem.parameter_search:evaluating at grid point 23/32\n"
     ]
    },
    {
     "name": "stdout",
     "output_type": "stream",
     "text": [
      "(25704, 25704)\n"
     ]
    },
    {
     "name": "stderr",
     "output_type": "stream",
     "text": [
      "INFO:nqcpfem.parameter_search:evaluating at grid point 24/32\n"
     ]
    },
    {
     "name": "stdout",
     "output_type": "stream",
     "text": [
      "(25704, 25704)\n"
     ]
    },
    {
     "name": "stderr",
     "output_type": "stream",
     "text": [
      "INFO:nqcpfem.parameter_search:evaluating at grid point 25/32\n"
     ]
    },
    {
     "name": "stdout",
     "output_type": "stream",
     "text": [
      "(25704, 25704)\n"
     ]
    },
    {
     "name": "stderr",
     "output_type": "stream",
     "text": [
      "INFO:nqcpfem.parameter_search:evaluating at grid point 26/32\n"
     ]
    },
    {
     "name": "stdout",
     "output_type": "stream",
     "text": [
      "(25704, 25704)\n"
     ]
    },
    {
     "name": "stderr",
     "output_type": "stream",
     "text": [
      "INFO:nqcpfem.parameter_search:evaluating at grid point 27/32\n"
     ]
    },
    {
     "name": "stdout",
     "output_type": "stream",
     "text": [
      "(25704, 25704)\n"
     ]
    },
    {
     "name": "stderr",
     "output_type": "stream",
     "text": [
      "INFO:nqcpfem.parameter_search:evaluating at grid point 28/32\n"
     ]
    },
    {
     "name": "stdout",
     "output_type": "stream",
     "text": [
      "(25704, 25704)\n"
     ]
    },
    {
     "name": "stderr",
     "output_type": "stream",
     "text": [
      "INFO:nqcpfem.parameter_search:evaluating at grid point 29/32\n"
     ]
    },
    {
     "name": "stdout",
     "output_type": "stream",
     "text": [
      "(25704, 25704)\n"
     ]
    },
    {
     "name": "stderr",
     "output_type": "stream",
     "text": [
      "INFO:nqcpfem.parameter_search:evaluating at grid point 30/32\n"
     ]
    },
    {
     "name": "stdout",
     "output_type": "stream",
     "text": [
      "(25704, 25704)\n"
     ]
    },
    {
     "name": "stderr",
     "output_type": "stream",
     "text": [
      "INFO:nqcpfem.parameter_search:evaluating at grid point 31/32\n"
     ]
    },
    {
     "name": "stdout",
     "output_type": "stream",
     "text": [
      "(25704, 25704)\n"
     ]
    },
    {
     "name": "stderr",
     "output_type": "stream",
     "text": [
      "INFO:nqcpfem.parameter_search:evaluating at grid point 32/32\n"
     ]
    },
    {
     "name": "stdout",
     "output_type": "stream",
     "text": [
      "(25704, 25704)\n"
     ]
    }
   ],
   "source": [
    "from nqcpfem.parameter_search import ParameterSearch\n",
    "def sweep_func(El):\n",
    "    fem_model = system_update(4006*E0,4006*E0,4006*E0+25*E0+El,model)\n",
    "    solution = solver.solve(fem_model)[0]\n",
    "    return np.abs(solution[0]-solution[1])/E0\n",
    "\n",
    "El_range= np.linspace(0*E0,15*E0,32)\n",
    "\n",
    "save = 'T_quicksweep.save'\n",
    "\n",
    "search = ParameterSearch(El_range,sweep_func,save)\n",
    "search.run(True,True)\n"
   ]
  },
  {
   "cell_type": "code",
   "execution_count": 154,
   "metadata": {},
   "outputs": [
    {
     "data": {
      "text/plain": [
       "[<matplotlib.lines.Line2D at 0x7f3e56ccd950>]"
      ]
     },
     "execution_count": 154,
     "metadata": {},
     "output_type": "execute_result"
    },
    {
     "data": {
      "image/png": "[encoded data removed]",
      "text/plain": [
       "<Figure size 640x480 with 1 Axes>"
      ]
     },
     "metadata": {},
     "output_type": "display_data"
    }
   ],
   "source": [
    "plt.plot(search.parameter_sets/E0,search.results)"
   ]
  },
  {
   "cell_type": "code",
   "execution_count": null,
   "metadata": {},
   "outputs": [],
   "source": []
  }
 ],
 "metadata": {
  "kernelspec": {
   "display_name": "ge_spin_fe",
   "language": "python",
   "name": "python3"
  },
  "language_info": {
   "codemirror_mode": {
    "name": "ipython",
    "version": 3
   },
   "file_extension": ".py",
   "mimetype": "text/x-python",
   "name": "python",
   "nbconvert_exporter": "python",
   "pygments_lexer": "ipython3",
   "version": "3.11.7"
  }
 },
 "nbformat": 4,
 "nbformat_minor": 2
}
