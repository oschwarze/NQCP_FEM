{
 "cells": [
  {
   "cell_type": "markdown",
   "metadata": {},
   "source": [
    "# Luttinger Kohn Model of Particle in Box \n",
    "## Study of anisotropy of g-tensor"
   ]
  },
  {
   "cell_type": "markdown",
   "metadata": {},
   "source": [
    "This Notebook studies the effect of asymmetric in-plane confinement on the g-tensor components in Germaium Heterostructures"
   ]
  },
  {
   "cell_type": "markdown",
   "metadata": {},
   "source": [
    "### Model Setup\n",
    "\n",
    "Loading relevant modules and setting up jupyter"
   ]
  },
  {
   "cell_type": "code",
   "execution_count": 1,
   "metadata": {},
   "outputs": [],
   "source": [
    "try:\n",
    "    import nqcpfem\n",
    "except ModuleNotFoundError as err:\n",
    "    import sys\n",
    "        # put path to nqcpfem module here   \n",
    "    src_path = '/mnt/c/Users/olisc/NQCP/NQCP_FEM/'\n",
    "    sys.path.append(src_path)\n",
    "    import nqcpfem\n",
    "import sympy\n",
    "sympy.init_printing(use_latex='mathjax')\n",
    "import IPython.display as disp\n",
    "from matplotlib import pyplot as plt\n",
    "import numpy as np\n",
    "import os\n",
    "\n",
    "import logging\n",
    "logging.getLogger().setLevel(logging.INFO)\n"
   ]
  },
  {
   "cell_type": "markdown",
   "metadata": {},
   "source": [
    "Bare Luttinger-Kohn Hamiltonian"
   ]
  },
  {
   "cell_type": "code",
   "execution_count": 2,
   "metadata": {},
   "outputs": [
    {
     "data": {
      "text/latex": [
       "$\\displaystyle \\left[\\begin{matrix}\\frac{\\hbar^{2} \\left(\\gamma_{1} \\left(k_{x}^{2} + k_{y}^{2} + k_{z}^{2}\\right) + \\gamma_{2} k_{x}^{2} + \\gamma_{2} k_{y}^{2} - 2 \\gamma_{2} k_{z}^{2}\\right)}{2 m} & - \\frac{\\sqrt{3} \\gamma_{3} \\hbar^{2} \\left(k_{x} k_{z} + k_{z} k_{x} - i \\left(k_{y} k_{z} + k_{z} k_{y}\\right)\\right)}{2 m} & \\frac{\\sqrt{3} \\hbar^{2} \\left(- \\gamma_{2} k_{x}^{2} + \\gamma_{2} k_{y}^{2} + i \\gamma_{3} \\left(k_{x} k_{y} + k_{y} k_{x}\\right)\\right)}{2 m} & 0\\\\- \\frac{\\sqrt{3} \\gamma_{3} \\hbar^{2} \\left(k_{x} k_{z} + k_{z} k_{x} + i \\left(k_{y} k_{z} + k_{z} k_{y}\\right)\\right)}{2 m} & \\frac{\\hbar^{2} \\left(\\gamma_{1} \\left(k_{x}^{2} + k_{y}^{2} + k_{z}^{2}\\right) - \\gamma_{2} k_{x}^{2} - \\gamma_{2} k_{y}^{2} + 2 \\gamma_{2} k_{z}^{2}\\right)}{2 m} & 0 & \\frac{\\sqrt{3} \\hbar^{2} \\left(- \\gamma_{2} k_{x}^{2} + \\gamma_{2} k_{y}^{2} + i \\gamma_{3} \\left(k_{x} k_{y} + k_{y} k_{x}\\right)\\right)}{2 m}\\\\- \\frac{\\sqrt{3} \\hbar^{2} \\left(\\gamma_{2} k_{x}^{2} - \\gamma_{2} k_{y}^{2} + i \\gamma_{3} \\left(k_{x} k_{y} + k_{y} k_{x}\\right)\\right)}{2 m} & 0 & \\frac{\\hbar^{2} \\left(\\gamma_{1} \\left(k_{x}^{2} + k_{y}^{2} + k_{z}^{2}\\right) - \\gamma_{2} k_{x}^{2} - \\gamma_{2} k_{y}^{2} + 2 \\gamma_{2} k_{z}^{2}\\right)}{2 m} & \\frac{\\sqrt{3} \\gamma_{3} \\hbar^{2} \\left(k_{x} k_{z} + k_{z} k_{x} - i \\left(k_{y} k_{z} + k_{z} k_{y}\\right)\\right)}{2 m}\\\\0 & - \\frac{\\sqrt{3} \\hbar^{2} \\left(\\gamma_{2} k_{x}^{2} - \\gamma_{2} k_{y}^{2} + i \\gamma_{3} \\left(k_{x} k_{y} + k_{y} k_{x}\\right)\\right)}{2 m} & \\frac{\\sqrt{3} \\gamma_{3} \\hbar^{2} \\left(k_{x} k_{z} + k_{z} k_{x} + i \\left(k_{y} k_{z} + k_{z} k_{y}\\right)\\right)}{2 m} & \\frac{\\hbar^{2} \\left(\\gamma_{1} \\left(k_{x}^{2} + k_{y}^{2} + k_{z}^{2}\\right) + \\gamma_{2} k_{x}^{2} + \\gamma_{2} k_{y}^{2} - 2 \\gamma_{2} k_{z}^{2}\\right)}{2 m}\\end{matrix}\\right]$"
      ],
      "text/plain": [
       "⎡ 2 ⎛           ⎛     2        2        2⎞                   2                \n",
       "⎢h̅ ⋅⎝\\gamma_{1}⋅⎝k_{x}  + k_{y}  + k_{z} ⎠ + \\gamma_{2}⋅k_{x}  + \\gamma_{2}⋅k\n",
       "⎢─────────────────────────────────────────────────────────────────────────────\n",
       "⎢                                                  2⋅m                        \n",
       "⎢                                                                             \n",
       "⎢                             2                                               \n",
       "⎢             -√3⋅\\gamma_{3}⋅h̅ ⋅(k_{x}⋅k_{z} + k_{z}⋅k_{x} + ⅈ⋅(k_{y}⋅k_{z} +\n",
       "⎢             ────────────────────────────────────────────────────────────────\n",
       "⎢                                                  2⋅m                        \n",
       "⎢                                                                             \n",
       "⎢            2 ⎛                2                   2                         \n",
       "⎢       -√3⋅h̅ ⋅⎝\\gamma_{2}⋅k_{x}  - \\gamma_{2}⋅k_{y}  + ⅈ⋅\\gamma_{3}⋅(k_{x}⋅k\n",
       "⎢       ──────────────────────────────────────────────────────────────────────\n",
       "⎢                                                  2⋅m                        \n",
       "⎢                                                                             \n",
       "⎢                                                                             \n",
       "⎢                                                                             \n",
       "⎢                                                   0                         \n",
       "⎣                                                                             \n",
       "\n",
       "   2                     2⎞                               2                   \n",
       "_{y}  - 2⋅\\gamma_{2}⋅k_{z} ⎠               -√3⋅\\gamma_{3}⋅h̅ ⋅(k_{x}⋅k_{z} + k\n",
       "───────────────────────────               ────────────────────────────────────\n",
       "                                                                              \n",
       "                                                                              \n",
       "                              2 ⎛           ⎛     2        2        2⎞        \n",
       " k_{z}⋅k_{y}))                h̅ ⋅⎝\\gamma_{1}⋅⎝k_{x}  + k_{y}  + k_{z} ⎠ - \\ga\n",
       "──────────────               ─────────────────────────────────────────────────\n",
       "                                                                              \n",
       "                                                                              \n",
       "                  ⎞                                                           \n",
       "_{y} + k_{y}⋅k_{x})⎠                                                          \n",
       "────────────────────                                                          \n",
       "                                                                              \n",
       "                                                                              \n",
       "                                         2 ⎛                2                 \n",
       "                                    -√3⋅h̅ ⋅⎝\\gamma_{2}⋅k_{x}  - \\gamma_{2}⋅k_\n",
       "                                    ──────────────────────────────────────────\n",
       "                                                                              \n",
       "\n",
       "                                                                    2 ⎛       \n",
       "_{z}⋅k_{x} - ⅈ⋅(k_{y}⋅k_{z} + k_{z}⋅k_{y}))                       √3⋅h̅ ⋅⎝- \\g\n",
       "──────────────────────────────────────────                      ──────────────\n",
       " 2⋅m                                                                          \n",
       "                                                                              \n",
       "           2                   2                     2⎞                       \n",
       "mma_{2}⋅k_{x}  - \\gamma_{2}⋅k_{y}  + 2⋅\\gamma_{2}⋅k_{z} ⎠                     \n",
       "───────────────────────────────────────────────────────                       \n",
       " 2⋅m                                                                          \n",
       "                                                                              \n",
       "                                                          2 ⎛           ⎛     \n",
       "                                                          h̅ ⋅⎝\\gamma_{1}⋅⎝k_{\n",
       "  0                                                      ─────────────────────\n",
       "                                                                              \n",
       "                                                                              \n",
       "  2                                           ⎞                               \n",
       "{y}  + ⅈ⋅\\gamma_{3}⋅(k_{x}⋅k_{y} + k_{y}⋅k_{x})⎠                        √3⋅\\ga\n",
       "────────────────────────────────────────────────                       ───────\n",
       " 2⋅m                                                                          \n",
       "\n",
       "           2                   2                                           ⎞  \n",
       "amma_{2}⋅k_{x}  + \\gamma_{2}⋅k_{y}  + ⅈ⋅\\gamma_{3}⋅(k_{x}⋅k_{y} + k_{y}⋅k_{x})\n",
       "────────────────────────────────────────────────────────────────────────────  \n",
       "                             2⋅m                                              \n",
       "                                                                              \n",
       "                                                                              \n",
       "                                                                              \n",
       "                              0                                               \n",
       "                                                                              \n",
       "                                                                              \n",
       "2        2        2⎞                   2                   2                  \n",
       "x}  + k_{y}  + k_{z} ⎠ - \\gamma_{2}⋅k_{x}  - \\gamma_{2}⋅k_{y}  + 2⋅\\gamma_{2}⋅\n",
       "──────────────────────────────────────────────────────────────────────────────\n",
       "                             2⋅m                                              \n",
       "                                                                              \n",
       "        2                                                                     \n",
       "mma_{3}⋅h̅ ⋅(k_{x}⋅k_{z} + k_{z}⋅k_{x} + ⅈ⋅(k_{y}⋅k_{z} + k_{z}⋅k_{y}))       \n",
       "─────────────────────────────────────────────────────────────────────         \n",
       "                             2⋅m                                              \n",
       "\n",
       "                                                                              \n",
       "⎠                                                                             \n",
       "                                                          0                   \n",
       "                                                                              \n",
       "                                                                              \n",
       "                  2 ⎛                  2                   2                  \n",
       "                √3⋅h̅ ⋅⎝- \\gamma_{2}⋅k_{x}  + \\gamma_{2}⋅k_{y}  + ⅈ⋅\\gamma_{3}\n",
       "              ────────────────────────────────────────────────────────────────\n",
       "                                                         2⋅m                  \n",
       "                                                                              \n",
       "   2⎞                               2                                         \n",
       "k_{z} ⎠                √3⋅\\gamma_{3}⋅h̅ ⋅(k_{x}⋅k_{z} + k_{z}⋅k_{x} - ⅈ⋅(k_{y}\n",
       "─────                ─────────────────────────────────────────────────────────\n",
       "                                                         2⋅m                  \n",
       "                                                                              \n",
       "        2 ⎛           ⎛     2        2        2⎞                   2          \n",
       "         h̅ ⋅⎝\\gamma_{1}⋅⎝k_{x}  + k_{y}  + k_{z} ⎠ + \\gamma_{2}⋅k_{x}  + \\gam\n",
       "       ───────────────────────────────────────────────────────────────────────\n",
       "                                                         2⋅m                  \n",
       "\n",
       "                                 ⎤\n",
       "                                    ⎥\n",
       "                                 ⎥\n",
       "                                 ⎥\n",
       "                                 ⎥\n",
       "                         ⎞       ⎥\n",
       "⋅(k_{x}⋅k_{y} + k_{y}⋅k_{x})⎠       ⎥\n",
       "──────────────────────────       ⎥\n",
       "                                 ⎥\n",
       "                                 ⎥\n",
       "                                 ⎥\n",
       "⋅k_{z} + k_{z}⋅k_{y}))              ⎥\n",
       "───────────────────              ⎥\n",
       "                                 ⎥\n",
       "                                 ⎥\n",
       "         2                     2⎞⎥\n",
       "ma_{2}⋅k_{y}  - 2⋅\\gamma_{2}⋅k_{z} ⎠⎥\n",
       "─────────────────────────────────⎥\n",
       "                                 ⎦"
      ]
     },
     "metadata": {},
     "output_type": "display_data"
    },
    {
     "data": {
      "image/png": "[encoded data removed]",
      "text/plain": [
       "<Figure size 640x480 with 1 Axes>"
      ]
     },
     "metadata": {},
     "output_type": "display_data"
    }
   ],
   "source": [
    "from nqcpfem.band_model import LuttingerKohnHamiltonian\n",
    "bm = LuttingerKohnHamiltonian(spatial_dim=3).material_spec('Ge') # sets coefficients to those of Winkler\n",
    "\n",
    "# jupyter does not like \\hbar so we have to change it to hbar when displaying the Hamiltonian\n",
    "disp.display(bm.post_processed_array().subs({'\\hbar':'hbar'}).simplify())\n",
    "\n",
    "# plot spectrum as well\n",
    "spectrum = bm.spectrum((-2.5e8,2.5e8),(1,0),64)\n",
    "_=plt.plot(*spectrum)"
   ]
  },
  {
   "cell_type": "markdown",
   "metadata": {},
   "source": [
    "adding z-confinement can be done using a simple command. Under the hood, it replaces $k_z$ and $z$ with their matrix representations with respect to the basis of box-modes or SHO modes (depdending on the confinement type)"
   ]
  },
  {
   "cell_type": "code",
   "execution_count": 3,
   "metadata": {},
   "outputs": [
    {
     "data": {
      "text/latex": [
       "$\\displaystyle \\left[\\begin{matrix}\\frac{\\hbar^{2} \\left(l_{z}^{2} \\left(\\gamma_{1} k_{x}^{2} + \\gamma_{1} k_{y}^{2} + \\gamma_{2} k_{x}^{2} + \\gamma_{2} k_{y}^{2}\\right) + \\pi^{2} \\left(\\gamma_{1} - 2.0 \\gamma_{2}\\right)\\right)}{2 l_{z}^{2} m} & 0 & \\frac{\\sqrt{3} \\hbar^{2} \\left(- \\gamma_{2} k_{x}^{2} + \\gamma_{2} k_{y}^{2} + i \\gamma_{3} k_{x} k_{y} + i \\gamma_{3} k_{y} k_{x}\\right)}{2 m} & 0\\\\0 & \\frac{\\hbar^{2} \\left(l_{z}^{2} \\left(\\gamma_{1} k_{x}^{2} + \\gamma_{1} k_{y}^{2} - \\gamma_{2} k_{x}^{2} - \\gamma_{2} k_{y}^{2}\\right) + \\pi^{2} \\left(\\gamma_{1} + 2.0 \\gamma_{2}\\right)\\right)}{2 l_{z}^{2} m} & 0 & \\frac{\\sqrt{3} \\hbar^{2} \\left(- \\gamma_{2} k_{x}^{2} + \\gamma_{2} k_{y}^{2} + i \\gamma_{3} k_{x} k_{y} + i \\gamma_{3} k_{y} k_{x}\\right)}{2 m}\\\\\\frac{\\sqrt{3} \\hbar^{2} \\left(- \\gamma_{2} k_{x}^{2} + \\gamma_{2} k_{y}^{2} - i \\gamma_{3} k_{x} k_{y} - i \\gamma_{3} k_{y} k_{x}\\right)}{2 m} & 0 & \\frac{\\hbar^{2} \\left(l_{z}^{2} \\left(\\gamma_{1} k_{x}^{2} + \\gamma_{1} k_{y}^{2} - \\gamma_{2} k_{x}^{2} - \\gamma_{2} k_{y}^{2}\\right) + \\pi^{2} \\left(\\gamma_{1} + 2.0 \\gamma_{2}\\right)\\right)}{2 l_{z}^{2} m} & 0\\\\0 & \\frac{\\sqrt{3} \\hbar^{2} \\left(- \\gamma_{2} k_{x}^{2} + \\gamma_{2} k_{y}^{2} - i \\gamma_{3} k_{x} k_{y} - i \\gamma_{3} k_{y} k_{x}\\right)}{2 m} & 0 & \\frac{\\hbar^{2} \\left(l_{z}^{2} \\left(\\gamma_{1} k_{x}^{2} + \\gamma_{1} k_{y}^{2} + \\gamma_{2} k_{x}^{2} + \\gamma_{2} k_{y}^{2}\\right) + \\pi^{2} \\left(\\gamma_{1} - 2.0 \\gamma_{2}\\right)\\right)}{2 l_{z}^{2} m}\\end{matrix}\\right]$"
      ],
      "text/plain": [
       "⎡ 2 ⎛   2 ⎛                2                   2                   2          \n",
       "⎢h̅ ⋅⎝l_z ⋅⎝\\gamma_{1}⋅k_{x}  + \\gamma_{1}⋅k_{y}  + \\gamma_{2}⋅k_{x}  + \\gamma\n",
       "⎢─────────────────────────────────────────────────────────────────────────────\n",
       "⎢                                                               2             \n",
       "⎢                                                          2⋅l_z ⋅m           \n",
       "⎢                                                                             \n",
       "⎢                                                                             \n",
       "⎢                                                                             \n",
       "⎢                                                             0               \n",
       "⎢                                                                             \n",
       "⎢                                                                             \n",
       "⎢                                                                             \n",
       "⎢               2 ⎛                  2                   2                    \n",
       "⎢           √3⋅h̅ ⋅⎝- \\gamma_{2}⋅k_{x}  + \\gamma_{2}⋅k_{y}  - ⅈ⋅\\gamma_{3}⋅k_{\n",
       "⎢           ──────────────────────────────────────────────────────────────────\n",
       "⎢                                                            2⋅m              \n",
       "⎢                                                                             \n",
       "⎢                                                                             \n",
       "⎢                                                                             \n",
       "⎢                                                                             \n",
       "⎢                                                             0               \n",
       "⎢                                                                             \n",
       "⎣                                                                             \n",
       "\n",
       "         2⎞    2                              ⎞                               \n",
       "_{2}⋅k_{y} ⎠ + π ⋅(\\gamma_{1} - 2.0⋅\\gamma_{2})⎠                              \n",
       "───────────────────────────────────────────────                               \n",
       "                                                                              \n",
       "                                                                              \n",
       "                                                                              \n",
       "                                                  2 ⎛   2 ⎛                2  \n",
       "                                                 h̅ ⋅⎝l_z ⋅⎝\\gamma_{1}⋅k_{x}  \n",
       "                                                 ─────────────────────────────\n",
       "                                                                              \n",
       "                                                                              \n",
       "                                                                              \n",
       "                                  ⎞                                           \n",
       "x}⋅k_{y} - ⅈ⋅\\gamma_{3}⋅k_{y}⋅k_{x}⎠                                          \n",
       "───────────────────────────────────                                           \n",
       "                                                                              \n",
       "                                                                              \n",
       "                                                                              \n",
       "                                                                2 ⎛           \n",
       "                                                            √3⋅h̅ ⋅⎝- \\gamma_{\n",
       "                                                            ──────────────────\n",
       "                                                                              \n",
       "                                                                              \n",
       "\n",
       "                                                                              \n",
       "                                                                              \n",
       "                                0                                             \n",
       "                                                                              \n",
       "                                                                              \n",
       "                                                                              \n",
       "                 2                   2                   2⎞    2              \n",
       "+ \\gamma_{1}⋅k_{y}  - \\gamma_{2}⋅k_{x}  - \\gamma_{2}⋅k_{y} ⎠ + π ⋅(\\gamma_{1} \n",
       "──────────────────────────────────────────────────────────────────────────────\n",
       "                                  2                                           \n",
       "                             2⋅l_z ⋅m                                         \n",
       "                                                                              \n",
       "                                                                              \n",
       "                                                                              \n",
       "                                0                                             \n",
       "                                                                              \n",
       "                                                                              \n",
       "                                                                              \n",
       "       2                   2                                                  \n",
       "2}⋅k_{x}  + \\gamma_{2}⋅k_{y}  - ⅈ⋅\\gamma_{3}⋅k_{x}⋅k_{y} - ⅈ⋅\\gamma_{3}⋅k_{y}⋅\n",
       "──────────────────────────────────────────────────────────────────────────────\n",
       "                               2⋅m                                            \n",
       "                                                                              \n",
       "\n",
       "                                  2 ⎛                  2                   2  \n",
       "                               √3⋅h̅ ⋅⎝- \\gamma_{2}⋅k_{x}  + \\gamma_{2}⋅k_{y} \n",
       "                              ────────────────────────────────────────────────\n",
       "                                                                              \n",
       "                                                                              \n",
       "                                                                              \n",
       "                ⎞                                                             \n",
       "+ 2.0⋅\\gamma_{2})⎠                                                            \n",
       "─────────────────                                                             \n",
       "                                                                              \n",
       "                                                                              \n",
       "                                                                              \n",
       "                    2 ⎛   2 ⎛                2                   2            \n",
       "                    h̅ ⋅⎝l_z ⋅⎝\\gamma_{1}⋅k_{x}  + \\gamma_{1}⋅k_{y}  - \\gamma_\n",
       "                   ───────────────────────────────────────────────────────────\n",
       "                                                                              \n",
       "                                                                             2\n",
       "                                                                              \n",
       "    ⎞                                                                         \n",
       "k_{x}⎠                                                                        \n",
       "─────                                                                         \n",
       "                                                                              \n",
       "                                                                              \n",
       "\n",
       "                                                    ⎞                         \n",
       " + ⅈ⋅\\gamma_{3}⋅k_{x}⋅k_{y} + ⅈ⋅\\gamma_{3}⋅k_{y}⋅k_{x}⎠                       \n",
       "─────────────────────────────────────────────────────                         \n",
       " 2⋅m                                                                          \n",
       "                                                                              \n",
       "                                                                              \n",
       "                                                                              \n",
       "                                                                              \n",
       "  0                                                                           \n",
       "                                                                              \n",
       "                                                                              \n",
       "                                                                              \n",
       "       2                   2⎞    2                              ⎞             \n",
       "{2}⋅k_{x}  - \\gamma_{2}⋅k_{y} ⎠ + π ⋅(\\gamma_{1} + 2.0⋅\\gamma_{2})⎠           \n",
       "─────────────────────────────────────────────────────────────────             \n",
       "    2                                                                         \n",
       "⋅l_z ⋅m                                                                       \n",
       "                                                                              \n",
       "                                                                    2 ⎛   2 ⎛ \n",
       "                                                                    h̅ ⋅⎝l_z ⋅\n",
       "  0                                                                ───────────\n",
       "                                                                              \n",
       "                                                                              \n",
       "\n",
       "                                                                              \n",
       "                                                                              \n",
       "                                                  0                           \n",
       "                                                                              \n",
       "                                                                              \n",
       "                                                                              \n",
       "    2 ⎛                  2                   2                                \n",
       " √3⋅h̅ ⋅⎝- \\gamma_{2}⋅k_{x}  + \\gamma_{2}⋅k_{y}  + ⅈ⋅\\gamma_{3}⋅k_{x}⋅k_{y} + \n",
       "──────────────────────────────────────────────────────────────────────────────\n",
       "                                                 2⋅m                          \n",
       "                                                                              \n",
       "                                                                              \n",
       "                                                                              \n",
       "                                                                              \n",
       "                                                  0                           \n",
       "                                                                              \n",
       "                                                                              \n",
       "                                                                              \n",
       "               2                   2                   2                   2⎞ \n",
       "⎝\\gamma_{1}⋅k_{x}  + \\gamma_{1}⋅k_{y}  + \\gamma_{2}⋅k_{x}  + \\gamma_{2}⋅k_{y} \n",
       "──────────────────────────────────────────────────────────────────────────────\n",
       "                                                    2                         \n",
       "                                               2⋅l_z ⋅m                       \n",
       "\n",
       "                                   ⎤\n",
       "                                     ⎥\n",
       "                                   ⎥\n",
       "                                   ⎥\n",
       "                                   ⎥\n",
       "                                   ⎥\n",
       "                      ⎞            ⎥\n",
       "ⅈ⋅\\gamma_{3}⋅k_{y}⋅k_{x}⎠            ⎥\n",
       "───────────────────────            ⎥\n",
       "                                   ⎥\n",
       "                                   ⎥\n",
       "                                   ⎥\n",
       "                                   ⎥\n",
       "                                     ⎥\n",
       "                                   ⎥\n",
       "                                   ⎥\n",
       "                                   ⎥\n",
       "                                   ⎥\n",
       "   2                              ⎞⎥\n",
       "⎠ + π ⋅(\\gamma_{1} - 2.0⋅\\gamma_{2})⎠⎥\n",
       "───────────────────────────────────⎥\n",
       "                                   ⎥\n",
       "                                   ⎦"
      ]
     },
     "metadata": {},
     "output_type": "display_data"
    },
    {
     "data": {
      "image/png": "[encoded data removed]",
      "text/plain": [
       "<Figure size 640x480 with 1 Axes>"
      ]
     },
     "metadata": {},
     "output_type": "display_data"
    }
   ],
   "source": [
    "bm.add_z_confinement(nz_modes=1,z_confinement_type='box',lz=25e-9)\n",
    "\n",
    "\n",
    "disp.display(bm.post_processed_array().subs({'\\hbar':'hbar'}).simplify()[:,:,0,0])\n",
    "spectrum = bm.spectrum(k_range=(-2.5e8,2.5e8),k_direction=(1,0),n_points=64)\n",
    "_=plt.plot(*spectrum)"
   ]
  },
  {
   "cell_type": "markdown",
   "metadata": {},
   "source": [
    "### Envelope Function Model\n",
    "We now have a hamiltonian which we wish to solve numerically using FEM. The first thing we have to do is to assure that \n",
    "the $k$-operators are cordered correctly (this is only relevant if there are expressions in the hamiltonian which involve both position and momentum)\n"
   ]
  },
  {
   "cell_type": "code",
   "execution_count": 4,
   "metadata": {},
   "outputs": [
    {
     "data": {
      "text/plain": [
       "<nqcpfem.band_model.LuttingerKohnHamiltonian object at 0x7f5fe0437010>"
      ]
     },
     "execution_count": 4,
     "metadata": {},
     "output_type": "execute_result"
    }
   ],
   "source": [
    "bm.fix_k_arrangement('FEM')"
   ]
  },
  {
   "cell_type": "markdown",
   "metadata": {},
   "source": [
    "\n",
    "We first define the domain (a rectangle)"
   ]
  },
  {
   "cell_type": "code",
   "execution_count": 5,
   "metadata": {},
   "outputs": [],
   "source": [
    "from nqcpfem.envelope_function import RectangleDomain\n",
    "domain = RectangleDomain(Lx=1e-7,Ly=1e-7,Lz=0) # 100 x 100 nm. Lz unimportant since our model is 2D\n",
    "domain.resolution = [100,100] # resolution for the FEM model. Number of points to partition the x and y directions into"
   ]
  },
  {
   "cell_type": "markdown",
   "metadata": {},
   "source": [
    "Next we define the solver which will compute the eigenvalues and energies of our Hamiltonian"
   ]
  },
  {
   "cell_type": "code",
   "execution_count": 6,
   "metadata": {},
   "outputs": [],
   "source": [
    "from nqcpfem.solvers import PETScSolver\n",
    "\n",
    "# we want the 10 eigenstates which are closest to 0, so we look for eigenstates of small magnitude (SM) relative to sigma=0\n",
    "solver = PETScSolver(k=10,which='SM',sigma=0)"
   ]
  },
  {
   "cell_type": "markdown",
   "metadata": {},
   "source": [
    "#### FEM\n",
    "We can now define the FEM model given the Hamiltonian to solve, the domain of interest, which boundary condition to impose on the edges of the domain, and which function class to use in the FEM modeling:"
   ]
  },
  {
   "cell_type": "code",
   "execution_count": 7,
   "metadata": {},
   "outputs": [],
   "source": [
    "from nqcpfem.fenics import FEniCsModel\n",
    "fem_model = FEniCsModel(band_model=bm,domain=domain,boundary_condition=0,function_class=('CG',1)) "
   ]
  },
  {
   "cell_type": "markdown",
   "metadata": {},
   "source": [
    "solving the model is now straight-forward"
   ]
  },
  {
   "cell_type": "code",
   "execution_count": 8,
   "metadata": {},
   "outputs": [
    {
     "name": "stderr",
     "output_type": "stream",
     "text": [
      "INFO:root:running build_ext\n",
      "INFO:root:building 'libffcx_forms_981d88478aaebb0555d84bd7e4bfaa0101a3b66f' extension\n",
      "INFO:root:/home/oliver/miniconda3/envs/Germanium_Spins_FE/bin/x86_64-conda-linux-gnu-cc -Wno-unused-result -Wsign-compare -DNDEBUG -fwrapv -O2 -Wall -fPIC -O2 -isystem /home/oliver/miniconda3/envs/Germanium_Spins_FE/include -fPIC -O2 -isystem /home/oliver/miniconda3/envs/Germanium_Spins_FE/include -march=nocona -mtune=haswell -ftree-vectorize -fPIC -fstack-protector-strong -fno-plt -O2 -ffunction-sections -pipe -isystem /home/oliver/miniconda3/envs/Germanium_Spins_FE/include -DNDEBUG -D_FORTIFY_SOURCE=2 -O2 -isystem /home/oliver/miniconda3/envs/Germanium_Spins_FE/include -fPIC -I/home/oliver/miniconda3/envs/Germanium_Spins_FE/lib/python3.10/site-packages/ffcx/codegeneration -I/home/oliver/miniconda3/envs/Germanium_Spins_FE/include/python3.10 -c libffcx_forms_981d88478aaebb0555d84bd7e4bfaa0101a3b66f.c -o ./libffcx_forms_981d88478aaebb0555d84bd7e4bfaa0101a3b66f.o -O2 -g0\n",
      "INFO:root:/home/oliver/miniconda3/envs/Germanium_Spins_FE/bin/x86_64-conda-linux-gnu-cc -shared -Wl,--allow-shlib-undefined -Wl,-rpath,/home/oliver/miniconda3/envs/Germanium_Spins_FE/lib -Wl,-rpath-link,/home/oliver/miniconda3/envs/Germanium_Spins_FE/lib -L/home/oliver/miniconda3/envs/Germanium_Spins_FE/lib -Wl,--allow-shlib-undefined -Wl,-rpath,/home/oliver/miniconda3/envs/Germanium_Spins_FE/lib -Wl,-rpath-link,/home/oliver/miniconda3/envs/Germanium_Spins_FE/lib -L/home/oliver/miniconda3/envs/Germanium_Spins_FE/lib -Wl,-O2 -Wl,--sort-common -Wl,--as-needed -Wl,-z,relro -Wl,-z,now -Wl,--disable-new-dtags -Wl,--gc-sections -Wl,--allow-shlib-undefined -Wl,-rpath,/home/oliver/miniconda3/envs/Germanium_Spins_FE/lib -Wl,-rpath-link,/home/oliver/miniconda3/envs/Germanium_Spins_FE/lib -L/home/oliver/miniconda3/envs/Germanium_Spins_FE/lib -march=nocona -mtune=haswell -ftree-vectorize -fPIC -fstack-protector-strong -fno-plt -O2 -ffunction-sections -pipe -isystem /home/oliver/miniconda3/envs/Germanium_Spins_FE/include -DNDEBUG -D_FORTIFY_SOURCE=2 -O2 -isystem /home/oliver/miniconda3/envs/Germanium_Spins_FE/include ./libffcx_forms_981d88478aaebb0555d84bd7e4bfaa0101a3b66f.o -o ./libffcx_forms_981d88478aaebb0555d84bd7e4bfaa0101a3b66f.cpython-310-x86_64-linux-gnu.so\n"
     ]
    },
    {
     "data": {
      "text/plain": [
       "array([4.23758606, 4.23758606, 5.93796346, 5.93796346, 6.11451128,\n",
       "       6.11451128, 7.50269   , 7.50269   , 8.51642392, 8.51642392,\n",
       "       8.65841627])"
      ]
     },
     "execution_count": 8,
     "metadata": {},
     "output_type": "execute_result"
    }
   ],
   "source": [
    "eigenvals,eigenvecs = solver.solve(fem_model)\n",
    "\n",
    "# print eigenvalues in meV\n",
    "eigenvals*nqcpfem.UNIT_CONVENTION['J to eV']*1000 "
   ]
  },
  {
   "cell_type": "markdown",
   "metadata": {},
   "source": [
    "##### Plotting the Eigenstates\n",
    "We can plot the probability density function $\\| \\psi(x)\\|^2$ on the domain"
   ]
  },
  {
   "cell_type": "code",
   "execution_count": 9,
   "metadata": {},
   "outputs": [
    {
     "name": "stderr",
     "output_type": "stream",
     "text": [
      "INFO:root:awaiting runner setup\n",
      "INFO:root:awaiting site startup\n",
      "INFO:root:awaiting running future\n"
     ]
    },
    {
     "data": {
      "application/vnd.jupyter.widget-view+json": {
       "model_id": "bd1c6df140554a729775f8d77b37b393",
       "version_major": 2,
       "version_minor": 0
      },
      "text/plain": [
       "Widget(value=\"<iframe src='http://localhost:35429/index.html?ui=P_0x7f5f6d415d80_0&reconnect=auto' style='widt…"
      ]
     },
     "metadata": {},
     "output_type": "display_data"
    }
   ],
   "source": [
    "from nqcpfem.plotting import plot_eigenvector\n",
    "plot_eigenvector(eigenvecs[0],fem_model)"
   ]
  },
  {
   "cell_type": "code",
   "execution_count": 10,
   "metadata": {},
   "outputs": [
    {
     "data": {
      "application/vnd.jupyter.widget-view+json": {
       "model_id": "fc6b9921fcb8457cac7f2d1d93f5365a",
       "version_major": 2,
       "version_minor": 0
      },
      "text/plain": [
       "Widget(value=\"<iframe src='http://localhost:35429/index.html?ui=P_0x7f5f621c7ac0_1&reconnect=auto' style='widt…"
      ]
     },
     "metadata": {},
     "output_type": "display_data"
    }
   ],
   "source": [
    "plot_eigenvector(eigenvecs[2],fem_model)"
   ]
  },
  {
   "cell_type": "code",
   "execution_count": 11,
   "metadata": {},
   "outputs": [
    {
     "data": {
      "application/vnd.jupyter.widget-view+json": {
       "model_id": "047654ce686c4fda9ceba0eda0f27189",
       "version_major": 2,
       "version_minor": 0
      },
      "text/plain": [
       "Widget(value=\"<iframe src='http://localhost:35429/index.html?ui=P_0x7f5f6ef6de70_2&reconnect=auto' style='widt…"
      ]
     },
     "metadata": {},
     "output_type": "display_data"
    }
   ],
   "source": [
    "\n",
    "plot_eigenvector(eigenvecs[6],fem_model)"
   ]
  },
  {
   "cell_type": "markdown",
   "metadata": {},
   "source": [
    "## G-matrix\n",
    "We can compute the G-matrix from the ground state Kramer's pair of of the envelope model. \n",
    "First we need to add a magnetic field term to the Hamiltonian"
   ]
  },
  {
   "cell_type": "code",
   "execution_count": 12,
   "metadata": {},
   "outputs": [
    {
     "data": {
      "text/latex": [
       "$\\displaystyle \\left[\\begin{matrix}\\frac{- 3 \\mu_{B} l_{z}^{2} m \\left(4 \\kappa (B_{z})_{00}(x) + 9 q (B_{z})_{00}(x)\\right) + 2 \\hbar^{2} l_{z}^{2} \\left(\\gamma_{1} k_{x}^{2} + \\gamma_{1} k_{y}^{2} + \\gamma_{2} k_{x}^{2} + \\gamma_{2} k_{y}^{2}\\right) + \\pi^{2} \\hbar^{2} \\cdot \\left(2.0 \\gamma_{1} - 4.0 \\gamma_{2}\\right)}{4 l_{z}^{2} m} & \\frac{\\sqrt{3} \\mu_{B} \\left(- 4 \\kappa (B_{x})_{00}(x) + 4 i \\kappa (B_{y})_{00}(x) - 7 q (B_{x})_{00}(x) + 7 i q (B_{y})_{00}(x)\\right)}{4} & \\frac{\\sqrt{3} \\hbar^{2} \\left(- \\gamma_{2} k_{x}^{2} + \\gamma_{2} k_{y}^{2} + i \\gamma_{3} k_{x} k_{y} + i \\gamma_{3} k_{y} k_{x}\\right)}{2 m} & \\frac{3 \\mu_{B} q \\left(- (B_{x})_{00}(x) - i (B_{y})_{00}(x)\\right)}{2}\\\\\\frac{\\sqrt{3} \\mu_{B} \\left(- 4 \\kappa (B_{x})_{00}(x) - 4 i \\kappa (B_{y})_{00}(x) - 7 q (B_{x})_{00}(x) - 7 i q (B_{y})_{00}(x)\\right)}{4} & \\frac{- \\mu_{B} l_{z}^{2} m \\left(4 \\kappa (B_{z})_{00}(x) + q (B_{z})_{00}(x)\\right) + 2 \\hbar^{2} l_{z}^{2} \\left(\\gamma_{1} k_{x}^{2} + \\gamma_{1} k_{y}^{2} - \\gamma_{2} k_{x}^{2} - \\gamma_{2} k_{y}^{2}\\right) + \\pi^{2} \\hbar^{2} \\cdot \\left(2.0 \\gamma_{1} + 4.0 \\gamma_{2}\\right)}{4 l_{z}^{2} m} & \\mu_{B} \\left(- 2 \\kappa (B_{x})_{00}(x) + 2 i \\kappa (B_{y})_{00}(x) - 5 q (B_{x})_{00}(x) + 5 i q (B_{y})_{00}(x)\\right) & \\frac{\\sqrt{3} \\hbar^{2} \\left(- \\gamma_{2} k_{x}^{2} + \\gamma_{2} k_{y}^{2} + i \\gamma_{3} k_{x} k_{y} + i \\gamma_{3} k_{y} k_{x}\\right)}{2 m}\\\\\\frac{\\sqrt{3} \\hbar^{2} \\left(- \\gamma_{2} k_{x}^{2} + \\gamma_{2} k_{y}^{2} - i \\gamma_{3} k_{x} k_{y} - i \\gamma_{3} k_{y} k_{x}\\right)}{2 m} & \\mu_{B} \\left(- 2 \\kappa (B_{x})_{00}(x) - 2 i \\kappa (B_{y})_{00}(x) - 5 q (B_{x})_{00}(x) - 5 i q (B_{y})_{00}(x)\\right) & \\frac{\\mu_{B} l_{z}^{2} m \\left(4 \\kappa (B_{z})_{00}(x) + q (B_{z})_{00}(x)\\right) + 2 \\hbar^{2} l_{z}^{2} \\left(\\gamma_{1} k_{x}^{2} + \\gamma_{1} k_{y}^{2} - \\gamma_{2} k_{x}^{2} - \\gamma_{2} k_{y}^{2}\\right) + \\pi^{2} \\hbar^{2} \\cdot \\left(2.0 \\gamma_{1} + 4.0 \\gamma_{2}\\right)}{4 l_{z}^{2} m} & \\frac{\\sqrt{3} \\mu_{B} \\left(- 4 \\kappa (B_{x})_{00}(x) + 4 i \\kappa (B_{y})_{00}(x) - 7 q (B_{x})_{00}(x) + 7 i q (B_{y})_{00}(x)\\right)}{4}\\\\\\frac{3 \\mu_{B} q \\left(- (B_{x})_{00}(x) + i (B_{y})_{00}(x)\\right)}{2} & \\frac{\\sqrt{3} \\hbar^{2} \\left(- \\gamma_{2} k_{x}^{2} + \\gamma_{2} k_{y}^{2} - i \\gamma_{3} k_{x} k_{y} - i \\gamma_{3} k_{y} k_{x}\\right)}{2 m} & \\frac{\\sqrt{3} \\mu_{B} \\left(- 4 \\kappa (B_{x})_{00}(x) - 4 i \\kappa (B_{y})_{00}(x) - 7 q (B_{x})_{00}(x) - 7 i q (B_{y})_{00}(x)\\right)}{4} & \\frac{3 \\mu_{B} l_{z}^{2} m \\left(4 \\kappa (B_{z})_{00}(x) + 9 q (B_{z})_{00}(x)\\right) + 2 \\hbar^{2} l_{z}^{2} \\left(\\gamma_{1} k_{x}^{2} + \\gamma_{1} k_{y}^{2} + \\gamma_{2} k_{x}^{2} + \\gamma_{2} k_{y}^{2}\\right) + \\pi^{2} \\hbar^{2} \\cdot \\left(2.0 \\gamma_{1} - 4.0 \\gamma_{2}\\right)}{4 l_{z}^{2} m}\\end{matrix}\\right]$"
      ],
      "text/plain": [
       "⎡               2                                                    2    2 ⎛ \n",
       "⎢- 3⋅\\mu_{B}⋅l_z ⋅m⋅(4⋅κ⋅(B_{z})_{00}(x) + 9⋅q⋅(B_{z})_{00}(x)) + 2⋅h̅ ⋅l_z ⋅⎝\n",
       "⎢─────────────────────────────────────────────────────────────────────────────\n",
       "⎢                                                                             \n",
       "⎢                                                                             \n",
       "⎢                                                                             \n",
       "⎢                                                                             \n",
       "⎢                                              √3⋅\\mu_{B}⋅(-4⋅κ⋅(B_{x})_{00}(x\n",
       "⎢                                              ───────────────────────────────\n",
       "⎢                                                                             \n",
       "⎢                                                                             \n",
       "⎢                                                                             \n",
       "⎢                                                   2 ⎛                  2    \n",
       "⎢                                               √3⋅h̅ ⋅⎝- \\gamma_{2}⋅k_{x}  + \n",
       "⎢                                               ──────────────────────────────\n",
       "⎢                                                                             \n",
       "⎢                                                                             \n",
       "⎢                                                                             \n",
       "⎢                                                                             \n",
       "⎢                                                                         3⋅\\m\n",
       "⎢                                                                         ────\n",
       "⎢                                                                             \n",
       "⎣                                                                             \n",
       "\n",
       "               2                   2                   2                   2⎞ \n",
       "\\gamma_{1}⋅k_{x}  + \\gamma_{1}⋅k_{y}  + \\gamma_{2}⋅k_{x}  + \\gamma_{2}⋅k_{y} ⎠\n",
       "──────────────────────────────────────────────────────────────────────────────\n",
       "                      2                                                       \n",
       "                 4⋅l_z ⋅m                                                     \n",
       "                                                                              \n",
       "                                                                              \n",
       ") - 4⋅ⅈ⋅κ⋅(B_{y})_{00}(x) - 7⋅q⋅(B_{x})_{00}(x) - 7⋅ⅈ⋅q⋅(B_{y})_{00}(x))      \n",
       "────────────────────────────────────────────────────────────────────────      \n",
       "                    4                                                         \n",
       "                                                                              \n",
       "                                                                              \n",
       "               2                                                      ⎞       \n",
       "\\gamma_{2}⋅k_{y}  - ⅈ⋅\\gamma_{3}⋅k_{x}⋅k_{y} - ⅈ⋅\\gamma_{3}⋅k_{y}⋅k_{x}⎠      \n",
       "───────────────────────────────────────────────────────────────────────       \n",
       "                   2⋅m                                                        \n",
       "                                                                              \n",
       "                                                                              \n",
       "                                                                              \n",
       "u_{B}⋅q⋅(-(B_{x})_{00}(x) + ⅈ⋅(B_{y})_{00}(x))                                \n",
       "──────────────────────────────────────────────                                \n",
       "                    2                                                         \n",
       "                                                                              \n",
       "\n",
       "   2  2                                                                       \n",
       " + π ⋅h̅ ⋅(2.0⋅\\gamma_{1} - 4.0⋅\\gamma_{2})                                   \n",
       "─────────────────────────────────────────                                     \n",
       "                                                                              \n",
       "                                                                              \n",
       "                                                                              \n",
       "                                                        2                     \n",
       "                                           - \\mu_{B}⋅l_z ⋅m⋅(4⋅κ⋅(B_{z})_{00}(\n",
       "                                           ───────────────────────────────────\n",
       "                                                                              \n",
       "                                                                              \n",
       "                                                                              \n",
       "                                                                              \n",
       "                                                                              \n",
       "                                                                              \n",
       "                                                                              \n",
       "                                                                              \n",
       "                                                                              \n",
       "                                                                              \n",
       "                                                                              \n",
       "                                                                              \n",
       "                                                                              \n",
       "                                                                              \n",
       "\n",
       "                                                                              \n",
       "           √3⋅\\mu_{B}⋅(-4⋅κ⋅(B_{x})_{00}(x) + 4⋅ⅈ⋅κ⋅(B_{y})_{00}(x) - 7⋅q⋅(B_{\n",
       "         ─────────────────────────────────────────────────────────────────────\n",
       "                                                            4                 \n",
       "                                                                              \n",
       "                                                                              \n",
       "                             2    2 ⎛                2                   2    \n",
       "x) + q⋅(B_{z})_{00}(x)) + 2⋅h̅ ⋅l_z ⋅⎝\\gamma_{1}⋅k_{x}  + \\gamma_{1}⋅k_{y}  - \n",
       "──────────────────────────────────────────────────────────────────────────────\n",
       "                                                              2               \n",
       "                                                         4⋅l_z ⋅m             \n",
       "                                                                              \n",
       "                                                                              \n",
       "                                                                              \n",
       "           \\mu_{B}⋅(-2⋅κ⋅(B_{x})_{00}(x) - 2⋅ⅈ⋅κ⋅(B_{y})_{00}(x) - 5⋅q⋅(B_{x})\n",
       "                                                                              \n",
       "                                                                              \n",
       "                                                                              \n",
       "              2 ⎛                  2                   2                      \n",
       "          √3⋅h̅ ⋅⎝- \\gamma_{2}⋅k_{x}  + \\gamma_{2}⋅k_{y}  - ⅈ⋅\\gamma_{3}⋅k_{x}\n",
       "          ────────────────────────────────────────────────────────────────────\n",
       "                                                           2⋅m                \n",
       "                                                                              \n",
       "\n",
       "                                                                              \n",
       "x})_{00}(x) + 7⋅ⅈ⋅q⋅(B_{y})_{00}(x))                                          \n",
       "──────────────────────────────────                                            \n",
       "                                                                              \n",
       "                                                                              \n",
       "                                                                              \n",
       "               2                   2⎞    2  2                                 \n",
       "\\gamma_{2}⋅k_{x}  - \\gamma_{2}⋅k_{y} ⎠ + π ⋅h̅ ⋅(2.0⋅\\gamma_{1} + 4.0⋅\\gamma_{\n",
       "──────────────────────────────────────────────────────────────────────────────\n",
       "                                                                              \n",
       "                                                                              \n",
       "                                                                              \n",
       "                                                                              \n",
       "                                                                              \n",
       "_{00}(x) - 5⋅ⅈ⋅q⋅(B_{y})_{00}(x))                                             \n",
       "                                                                              \n",
       "                                                                              \n",
       "                                                                              \n",
       "                                ⎞                                             \n",
       "⋅k_{y} - ⅈ⋅\\gamma_{3}⋅k_{y}⋅k_{x}⎠                                            \n",
       "─────────────────────────────────                                             \n",
       "                                                                              \n",
       "                                                                              \n",
       "\n",
       "                                                   2 ⎛                  2     \n",
       "                                                 √3⋅h̅ ⋅⎝- \\gamma_{2}⋅k_{x}  +\n",
       "                                               ───────────────────────────────\n",
       "                                                                              \n",
       "                                                                              \n",
       "                                                                              \n",
       "                                                                              \n",
       "2})                                                                           \n",
       "─                                               \\mu_{B}⋅(-2⋅κ⋅(B_{x})_{00}(x) \n",
       "                                                                              \n",
       "                                                                              \n",
       "                                                                              \n",
       "              2                                                  2    2 ⎛     \n",
       "    \\mu_{B}⋅l_z ⋅m⋅(4⋅κ⋅(B_{z})_{00}(x) + q⋅(B_{z})_{00}(x)) + 2⋅h̅ ⋅l_z ⋅⎝\\ga\n",
       "   ───────────────────────────────────────────────────────────────────────────\n",
       "                                                                              \n",
       "                                                                              \n",
       "                                                                              \n",
       "                                                                              \n",
       "                                               √3⋅\\mu_{B}⋅(-4⋅κ⋅(B_{x})_{00}(x\n",
       "                                              ────────────────────────────────\n",
       "                                                                              \n",
       "                                                                              \n",
       "\n",
       "              2                                                      ⎞        \n",
       " \\gamma_{2}⋅k_{y}  + ⅈ⋅\\gamma_{3}⋅k_{x}⋅k_{y} + ⅈ⋅\\gamma_{3}⋅k_{y}⋅k_{x}⎠     \n",
       "──────────────────────────────────────────────────────────────────────        \n",
       "                  2⋅m                                                         \n",
       "                                                                              \n",
       "                                                                              \n",
       "                                                                              \n",
       "                                                                              \n",
       "+ 2⋅ⅈ⋅κ⋅(B_{y})_{00}(x) - 5⋅q⋅(B_{x})_{00}(x) + 5⋅ⅈ⋅q⋅(B_{y})_{00}(x))        \n",
       "                                                                              \n",
       "                                                                              \n",
       "                                                                              \n",
       "           2                   2                   2                   2⎞    2\n",
       "mma_{1}⋅k_{x}  + \\gamma_{1}⋅k_{y}  - \\gamma_{2}⋅k_{x}  - \\gamma_{2}⋅k_{y} ⎠ + \n",
       "──────────────────────────────────────────────────────────────────────────────\n",
       "                     2                                                        \n",
       "                4⋅l_z ⋅m                                                      \n",
       "                                                                              \n",
       "                                                                              \n",
       ") - 4⋅ⅈ⋅κ⋅(B_{y})_{00}(x) - 7⋅q⋅(B_{x})_{00}(x) - 7⋅ⅈ⋅q⋅(B_{y})_{00}(x))      \n",
       "───────────────────────────────────────────────────────────────────────       \n",
       "                   4                                                          \n",
       "                                                                              \n",
       "\n",
       "                                                                              \n",
       "                                                                              \n",
       "                                                                              \n",
       "                                                                              \n",
       "                                                                              \n",
       "                                                                              \n",
       "                                                                              \n",
       "                                                                              \n",
       "                                                                              \n",
       "                                                                              \n",
       "                                                                              \n",
       "                                                                              \n",
       "  2                                                                           \n",
       "π ⋅h̅ ⋅(2.0⋅\\gamma_{1} + 4.0⋅\\gamma_{2})                                      \n",
       "─────────────────────────────────────                                         \n",
       "                                                                              \n",
       "                                                                              \n",
       "                                                                              \n",
       "                                                    2                         \n",
       "                                        3⋅\\mu_{B}⋅l_z ⋅m⋅(4⋅κ⋅(B_{z})_{00}(x) \n",
       "                                       ───────────────────────────────────────\n",
       "                                                                              \n",
       "                                                                              \n",
       "\n",
       "                                                                              \n",
       "                                    3⋅\\mu_{B}⋅q⋅(-(B_{x})_{00}(x) - ⅈ⋅(B_{y})_\n",
       "                                 ─────────────────────────────────────────────\n",
       "                                                         2                    \n",
       "                                                                              \n",
       "                                                                              \n",
       "           2 ⎛                  2                   2                         \n",
       "         √3⋅h̅ ⋅⎝- \\gamma_{2}⋅k_{x}  + \\gamma_{2}⋅k_{y}  + ⅈ⋅\\gamma_{3}⋅k_{x}⋅\n",
       "       ───────────────────────────────────────────────────────────────────────\n",
       "                                                        2⋅m                   \n",
       "                                                                              \n",
       "                                                                              \n",
       "                                                                              \n",
       "         √3⋅\\mu_{B}⋅(-4⋅κ⋅(B_{x})_{00}(x) + 4⋅ⅈ⋅κ⋅(B_{y})_{00}(x) - 7⋅q⋅(B_{x}\n",
       "      ────────────────────────────────────────────────────────────────────────\n",
       "                                                         4                    \n",
       "                                                                              \n",
       "                                                                              \n",
       "                           2    2 ⎛                2                   2      \n",
       "+ 9⋅q⋅(B_{z})_{00}(x)) + 2⋅h̅ ⋅l_z ⋅⎝\\gamma_{1}⋅k_{x}  + \\gamma_{1}⋅k_{y}  + \\\n",
       "──────────────────────────────────────────────────────────────────────────────\n",
       "                                                           2                  \n",
       "                                                      4⋅l_z ⋅m                \n",
       "\n",
       "                                                                             ⎤\n",
       "{00}(x))                                                                      \n",
       "─────                                                                        ⎥\n",
       "                                                                             ⎥\n",
       "                                                                             ⎥\n",
       "                                                                             ⎥\n",
       "                             ⎞                                               ⎥\n",
       "k_{y} + ⅈ⋅\\gamma_{3}⋅k_{y}⋅k_{x}⎠                                             \n",
       "──────────────────────────────                                               ⎥\n",
       "                                                                             ⎥\n",
       "                                                                             ⎥\n",
       "                                                                             ⎥\n",
       "                                                                             ⎥\n",
       ")_{00}(x) + 7⋅ⅈ⋅q⋅(B_{y})_{00}(x))                                            \n",
       "───────────────────────────────                                              ⎥\n",
       "                                                                             ⎥\n",
       "                                                                             ⎥\n",
       "                                                                             ⎥\n",
       "             2                   2⎞    2  2                                  ⎥\n",
       "gamma_{2}⋅k_{x}  + \\gamma_{2}⋅k_{y} ⎠ + π ⋅h̅ ⋅(2.0⋅\\gamma_{1} - 4.0⋅\\gamma_{2\n",
       "─────────────────────────────────────────────────────────────────────────────⎥\n",
       "                                                                             ⎥\n",
       "                                                                             ⎦"
      ]
     },
     "metadata": {},
     "output_type": "display_data"
    }
   ],
   "source": [
    "# not specifying any values of B since we do not need it for computing the g-matrix. \n",
    "# We still have to add a Zeeman term though because we need ot know which matrix elements are linear in B\n",
    "bm.add_zeeman_term() \n",
    "disp.display(bm.post_processed_array().subs({'\\hbar':'hbar'}).simplify()[:,:,0,0])"
   ]
  },
  {
   "cell_type": "markdown",
   "metadata": {},
   "source": [
    "Note that the B-field is labeled as $(B_{x})_{00}(x)$ because the B-field is projected down onto the lowest z-mode. From this we can compute the G-matrix. The following code automatically determines which terms in the above Hamiltonian are linear in B and computes the expectation values of these terms wrt the ground state kramers pair. "
   ]
  },
  {
   "cell_type": "code",
   "execution_count": 13,
   "metadata": {},
   "outputs": [
    {
     "name": "stderr",
     "output_type": "stream",
     "text": [
      "INFO:root:running build_ext\n",
      "INFO:root:building 'libffcx_forms_c50f8de92a150e0b6c75b84da5706b46a0062232' extension\n",
      "INFO:root:/home/oliver/miniconda3/envs/Germanium_Spins_FE/bin/x86_64-conda-linux-gnu-cc -Wno-unused-result -Wsign-compare -DNDEBUG -fwrapv -O2 -Wall -fPIC -O2 -isystem /home/oliver/miniconda3/envs/Germanium_Spins_FE/include -fPIC -O2 -isystem /home/oliver/miniconda3/envs/Germanium_Spins_FE/include -march=nocona -mtune=haswell -ftree-vectorize -fPIC -fstack-protector-strong -fno-plt -O2 -ffunction-sections -pipe -isystem /home/oliver/miniconda3/envs/Germanium_Spins_FE/include -DNDEBUG -D_FORTIFY_SOURCE=2 -O2 -isystem /home/oliver/miniconda3/envs/Germanium_Spins_FE/include -fPIC -I/home/oliver/miniconda3/envs/Germanium_Spins_FE/lib/python3.10/site-packages/ffcx/codegeneration -I/home/oliver/miniconda3/envs/Germanium_Spins_FE/include/python3.10 -c libffcx_forms_c50f8de92a150e0b6c75b84da5706b46a0062232.c -o ./libffcx_forms_c50f8de92a150e0b6c75b84da5706b46a0062232.o -O2 -g0\n",
      "INFO:root:/home/oliver/miniconda3/envs/Germanium_Spins_FE/bin/x86_64-conda-linux-gnu-cc -shared -Wl,--allow-shlib-undefined -Wl,-rpath,/home/oliver/miniconda3/envs/Germanium_Spins_FE/lib -Wl,-rpath-link,/home/oliver/miniconda3/envs/Germanium_Spins_FE/lib -L/home/oliver/miniconda3/envs/Germanium_Spins_FE/lib -Wl,--allow-shlib-undefined -Wl,-rpath,/home/oliver/miniconda3/envs/Germanium_Spins_FE/lib -Wl,-rpath-link,/home/oliver/miniconda3/envs/Germanium_Spins_FE/lib -L/home/oliver/miniconda3/envs/Germanium_Spins_FE/lib -Wl,-O2 -Wl,--sort-common -Wl,--as-needed -Wl,-z,relro -Wl,-z,now -Wl,--disable-new-dtags -Wl,--gc-sections -Wl,--allow-shlib-undefined -Wl,-rpath,/home/oliver/miniconda3/envs/Germanium_Spins_FE/lib -Wl,-rpath-link,/home/oliver/miniconda3/envs/Germanium_Spins_FE/lib -L/home/oliver/miniconda3/envs/Germanium_Spins_FE/lib -march=nocona -mtune=haswell -ftree-vectorize -fPIC -fstack-protector-strong -fno-plt -O2 -ffunction-sections -pipe -isystem /home/oliver/miniconda3/envs/Germanium_Spins_FE/include -DNDEBUG -D_FORTIFY_SOURCE=2 -O2 -isystem /home/oliver/miniconda3/envs/Germanium_Spins_FE/include ./libffcx_forms_c50f8de92a150e0b6c75b84da5706b46a0062232.o -o ./libffcx_forms_c50f8de92a150e0b6c75b84da5706b46a0062232.cpython-310-x86_64-linux-gnu.so\n",
      "INFO:nqcpfem.spin_gap:Determining Spin gap (1/1)\n",
      "found ground state kramer's pair, with energy gap: 6.4564356187185105e-18 eV. No intermediate states present.\n",
      "INFO:nqcpfem.g_matrix:found ground state kramer's pair, with energy gap: 6.4564356187185105e-18 eV. No intermediate states present.\n"
     ]
    },
    {
     "data": {
      "text/plain": [
       "(array([[-0.99841605, -0.04300338, -0.03627818],\n",
       "        [ 0.05609806, -0.71174268, -0.70019666],\n",
       "        [ 0.0042901 , -0.70112272,  0.71302772]]),\n",
       " array([21.19027259,  0.14013198,  0.13857807]),\n",
       " array([[ 0.00000000e+00,  2.68187825e-15,  1.00000000e+00],\n",
       "        [-7.07106781e-01, -7.07106781e-01,  1.89637430e-15],\n",
       "        [ 7.07106781e-01, -7.07106781e-01,  1.89637429e-15]]))"
      ]
     },
     "execution_count": 13,
     "metadata": {},
     "output_type": "execute_result"
    }
   ],
   "source": [
    "from nqcpfem.g_matrix import GMatrix\n",
    "gmat = GMatrix(fem_model,solver) # the solver is needed to compute the Kramer's pair\n",
    "\n",
    "matrix = gmat.matrix()\n",
    "np.linalg.svd(matrix)"
   ]
  },
  {
   "cell_type": "markdown",
   "metadata": {},
   "source": [
    "### G-matrix as function of Box shape\n",
    "Next we want to study how the G-matrix changes when changing the shape of the confinement box (which in our case is modeled by domain and its boundaries). We will fix $L_y = 100nm$ and vary $L_x \\in [50nm,200nm]$. \n"
   ]
  },
  {
   "cell_type": "code",
   "execution_count": 14,
   "metadata": {},
   "outputs": [],
   "source": [
    "Ly = 100e-9 # 100 nm\n",
    "Lx_values = np.linspace(50,200,64)*1e-9 # 50 - 200 nm \n",
    "model = FEniCsModel(band_model=bm,domain=domain,boundary_condition=0,function_class=('CG',1))\n",
    "gmat = GMatrix(model,solver)\n",
    "def model_evaluation(lx):\n",
    "    dom = RectangleDomain(Lx=lx,Ly=Ly,Lz=0)\n",
    "    dom.resolution = [300,300]\n",
    "    gmat.envelope_model.domain = dom # just update the relevant parameter\n",
    "    return gmat.matrix()"
   ]
  },
  {
   "cell_type": "markdown",
   "metadata": {},
   "source": [
    "In order to save the computed results during the computation we use a ParameterSearch to evaluate the `model_evaluation` function at the\n",
    "different values of `lx` and save the resulting g-matrix "
   ]
  },
  {
   "cell_type": "code",
   "execution_count": 15,
   "metadata": {},
   "outputs": [
    {
     "name": "stderr",
     "output_type": "stream",
     "text": [
      "INFO:numexpr.utils:NumExpr defaulting to 8 threads.\n"
     ]
    }
   ],
   "source": [
    "from nqcpfem.parameter_search import ParameterSearch\n",
    "save_file = '100_fixed_y_gmat.save'\n",
    "\n",
    "# this code just loads any saved files if they exists or creates a new ParameterSearch if it doesn't exists\n",
    "search  = None \n",
    "if os.path.exists(save_file):\n",
    "    try:\n",
    "        search = ParameterSearch.load(save_file)\n",
    "    except Exception as err:\n",
    "        print(err)\n",
    "\n",
    "if search is None:\n",
    "    search = ParameterSearch(parameter_sets = Lx_values,evaluation_function=model_evaluation,save_file=save_file)"
   ]
  },
  {
   "cell_type": "code",
   "execution_count": 16,
   "metadata": {},
   "outputs": [],
   "source": [
    "search.run(save_results=True,skip_errors=False)"
   ]
  },
  {
   "cell_type": "markdown",
   "metadata": {},
   "source": [
    "From the computed G-matrices we can determine the singular-values and plot them as a function of $L_x$"
   ]
  },
  {
   "cell_type": "code",
   "execution_count": 17,
   "metadata": {},
   "outputs": [
    {
     "data": {
      "text/plain": [
       "Text(0.5, 1.0, '$L_{y} = 100$nm')"
      ]
     },
     "execution_count": 17,
     "metadata": {},
     "output_type": "execute_result"
    },
    {
     "data": {
      "image/png": "[encoded data removed]",
      "text/plain": [
       "<Figure size 640x480 with 1 Axes>"
      ]
     },
     "metadata": {},
     "output_type": "display_data"
    }
   ],
   "source": [
    "singular_values = np.stack([np.linalg.svd(a)[1] for a in search.results],axis=0)\n",
    "plt.plot(Lx_values/Ly,singular_values)\n",
    "\n",
    "plt.ylim(0,3) # we only care about in-plane ones \n",
    "plt.xlabel(r'$L_{x}/L_{y}$')\n",
    "plt.ylabel('g-factor')\n",
    "plt.title(r'$L_{y} = 100$nm')"
   ]
  },
  {
   "cell_type": "markdown",
   "metadata": {},
   "source": [
    "### Actually adding B-field\n",
    "In order to check our result, we add an actual B-field and check that the energy splitting of the ground state Kramer's pair is consistent with the singular values of the g-matrix. We will only look at the case where $\\vec{B} = B_x = 0.5 T$"
   ]
  },
  {
   "cell_type": "code",
   "execution_count": 18,
   "metadata": {},
   "outputs": [
    {
     "name": "stderr",
     "output_type": "stream",
     "text": [
      "WARNING:nqcpfem.fenics:the k-ordering of the band model must be FEM, but it was not set. setting it to FEM wit left reduction direction\n"
     ]
    },
    {
     "data": {
      "text/latex": [
       "$\\displaystyle \\left[\\begin{matrix}\\left[\\left[\\begin{matrix}\\frac{\\gamma_{1} \\hbar^{2} k_{x}^{2}}{2 m} + \\frac{\\gamma_{1} \\hbar^{2} k_{y}^{2}}{2 m} + \\frac{0.5 \\pi^{2} \\gamma_{1} \\hbar^{2}}{l_{z}^{2} m} + \\frac{\\gamma_{2} \\hbar^{2} k_{x}^{2}}{2 m} + \\frac{\\gamma_{2} \\hbar^{2} k_{y}^{2}}{2 m} - \\frac{1.0 \\pi^{2} \\gamma_{2} \\hbar^{2}}{l_{z}^{2} m} - 3 \\mu_{B} \\kappa B_{z}(x) - \\frac{27 \\mu_{B} q B_{z}(x)}{4}\\end{matrix}\\right]\\right] & \\left[\\left[\\begin{matrix}- \\sqrt{3} \\mu_{B} \\kappa B_{x}(x) + \\sqrt{3} i \\mu_{B} \\kappa B_{y}(x) - \\frac{7 \\sqrt{3} \\mu_{B} q B_{x}(x)}{4} + \\frac{7 \\sqrt{3} i \\mu_{B} q B_{y}(x)}{4}\\end{matrix}\\right]\\right] & \\left[\\left[\\begin{matrix}- \\frac{\\sqrt{3} \\gamma_{2} \\hbar^{2} k_{x}^{2}}{2 m} + \\frac{\\sqrt{3} \\gamma_{2} \\hbar^{2} k_{y}^{2}}{2 m} + \\frac{\\sqrt{3} i \\gamma_{3} \\hbar^{2} k_{x} k_{y}}{2 m} + \\frac{\\sqrt{3} i \\gamma_{3} \\hbar^{2} k_{y} k_{x}}{2 m}\\end{matrix}\\right]\\right] & \\left[\\left[\\begin{matrix}- \\frac{3 \\mu_{B} q B_{x}(x)}{2} - \\frac{3 i \\mu_{B} q B_{y}(x)}{2}\\end{matrix}\\right]\\right]\\\\\\left[\\left[\\begin{matrix}- \\sqrt{3} \\mu_{B} \\kappa B_{x}(x) - \\sqrt{3} i \\mu_{B} \\kappa B_{y}(x) - \\frac{7 \\sqrt{3} \\mu_{B} q B_{x}(x)}{4} - \\frac{7 \\sqrt{3} i \\mu_{B} q B_{y}(x)}{4}\\end{matrix}\\right]\\right] & \\left[\\left[\\begin{matrix}\\frac{\\gamma_{1} \\hbar^{2} k_{x}^{2}}{2 m} + \\frac{\\gamma_{1} \\hbar^{2} k_{y}^{2}}{2 m} + \\frac{0.5 \\pi^{2} \\gamma_{1} \\hbar^{2}}{l_{z}^{2} m} - \\frac{\\gamma_{2} \\hbar^{2} k_{x}^{2}}{2 m} - \\frac{\\gamma_{2} \\hbar^{2} k_{y}^{2}}{2 m} + \\frac{1.0 \\pi^{2} \\gamma_{2} \\hbar^{2}}{l_{z}^{2} m} - \\mu_{B} \\kappa B_{z}(x) - \\frac{\\mu_{B} q B_{z}(x)}{4}\\end{matrix}\\right]\\right] & \\left[\\left[\\begin{matrix}- 2 \\mu_{B} \\kappa B_{x}(x) + 2 i \\mu_{B} \\kappa B_{y}(x) - 5 \\mu_{B} q B_{x}(x) + 5 i \\mu_{B} q B_{y}(x)\\end{matrix}\\right]\\right] & \\left[\\left[\\begin{matrix}- \\frac{\\sqrt{3} \\gamma_{2} \\hbar^{2} k_{x}^{2}}{2 m} + \\frac{\\sqrt{3} \\gamma_{2} \\hbar^{2} k_{y}^{2}}{2 m} + \\frac{\\sqrt{3} i \\gamma_{3} \\hbar^{2} k_{x} k_{y}}{2 m} + \\frac{\\sqrt{3} i \\gamma_{3} \\hbar^{2} k_{y} k_{x}}{2 m}\\end{matrix}\\right]\\right]\\\\\\left[\\left[\\begin{matrix}- \\frac{\\sqrt{3} \\gamma_{2} \\hbar^{2} k_{x}^{2}}{2 m} + \\frac{\\sqrt{3} \\gamma_{2} \\hbar^{2} k_{y}^{2}}{2 m} - \\frac{\\sqrt{3} i \\gamma_{3} \\hbar^{2} k_{x} k_{y}}{2 m} - \\frac{\\sqrt{3} i \\gamma_{3} \\hbar^{2} k_{y} k_{x}}{2 m}\\end{matrix}\\right]\\right] & \\left[\\left[\\begin{matrix}- 2 \\mu_{B} \\kappa B_{x}(x) - 2 i \\mu_{B} \\kappa B_{y}(x) - 5 \\mu_{B} q B_{x}(x) - 5 i \\mu_{B} q B_{y}(x)\\end{matrix}\\right]\\right] & \\left[\\left[\\begin{matrix}\\frac{\\gamma_{1} \\hbar^{2} k_{x}^{2}}{2 m} + \\frac{\\gamma_{1} \\hbar^{2} k_{y}^{2}}{2 m} + \\frac{0.5 \\pi^{2} \\gamma_{1} \\hbar^{2}}{l_{z}^{2} m} - \\frac{\\gamma_{2} \\hbar^{2} k_{x}^{2}}{2 m} - \\frac{\\gamma_{2} \\hbar^{2} k_{y}^{2}}{2 m} + \\frac{1.0 \\pi^{2} \\gamma_{2} \\hbar^{2}}{l_{z}^{2} m} + \\mu_{B} \\kappa B_{z}(x) + \\frac{\\mu_{B} q B_{z}(x)}{4}\\end{matrix}\\right]\\right] & \\left[\\left[\\begin{matrix}- \\sqrt{3} \\mu_{B} \\kappa B_{x}(x) + \\sqrt{3} i \\mu_{B} \\kappa B_{y}(x) - \\frac{7 \\sqrt{3} \\mu_{B} q B_{x}(x)}{4} + \\frac{7 \\sqrt{3} i \\mu_{B} q B_{y}(x)}{4}\\end{matrix}\\right]\\right]\\\\\\left[\\left[\\begin{matrix}- \\frac{3 \\mu_{B} q B_{x}(x)}{2} + \\frac{3 i \\mu_{B} q B_{y}(x)}{2}\\end{matrix}\\right]\\right] & \\left[\\left[\\begin{matrix}- \\frac{\\sqrt{3} \\gamma_{2} \\hbar^{2} k_{x}^{2}}{2 m} + \\frac{\\sqrt{3} \\gamma_{2} \\hbar^{2} k_{y}^{2}}{2 m} - \\frac{\\sqrt{3} i \\gamma_{3} \\hbar^{2} k_{x} k_{y}}{2 m} - \\frac{\\sqrt{3} i \\gamma_{3} \\hbar^{2} k_{y} k_{x}}{2 m}\\end{matrix}\\right]\\right] & \\left[\\left[\\begin{matrix}- \\sqrt{3} \\mu_{B} \\kappa B_{x}(x) - \\sqrt{3} i \\mu_{B} \\kappa B_{y}(x) - \\frac{7 \\sqrt{3} \\mu_{B} q B_{x}(x)}{4} - \\frac{7 \\sqrt{3} i \\mu_{B} q B_{y}(x)}{4}\\end{matrix}\\right]\\right] & \\left[\\left[\\begin{matrix}\\frac{\\gamma_{1} \\hbar^{2} k_{x}^{2}}{2 m} + \\frac{\\gamma_{1} \\hbar^{2} k_{y}^{2}}{2 m} + \\frac{0.5 \\pi^{2} \\gamma_{1} \\hbar^{2}}{l_{z}^{2} m} + \\frac{\\gamma_{2} \\hbar^{2} k_{x}^{2}}{2 m} + \\frac{\\gamma_{2} \\hbar^{2} k_{y}^{2}}{2 m} - \\frac{1.0 \\pi^{2} \\gamma_{2} \\hbar^{2}}{l_{z}^{2} m} + 3 \\mu_{B} \\kappa B_{z}(x) + \\frac{27 \\mu_{B} q B_{z}(x)}{4}\\end{matrix}\\right]\\right]\\end{matrix}\\right]$"
      ],
      "text/plain": [
       "⎡⎡⎡            2      2               2      2        2             2         \n",
       "⎢⎢⎢\\gamma_{1}⋅h̅ ⋅k_{x}    \\gamma_{1}⋅h̅ ⋅k_{y}    0.5⋅π ⋅\\gamma_{1}⋅h̅    \\ga\n",
       "⎢⎢⎢──────────────────── + ──────────────────── + ──────────────────── + ──────\n",
       "⎢⎢⎢        2⋅m                    2⋅m                      2                  \n",
       "⎢⎣⎣                                                     l_z ⋅m                \n",
       "⎢                                                                             \n",
       "⎢                                                                             \n",
       "⎢                                      ⎡⎡                                     \n",
       "⎢                                      ⎢⎢-√3⋅\\mu_{B}⋅κ⋅B_{x}(x) - √3⋅ⅈ⋅\\mu_{B}\n",
       "⎢                                      ⎣⎣                                     \n",
       "⎢                                                                             \n",
       "⎢                                                                             \n",
       "⎢                              ⎡⎡                 2      2                  2 \n",
       "⎢                              ⎢⎢  √3⋅\\gamma_{2}⋅h̅ ⋅k_{x}    √3⋅\\gamma_{2}⋅h̅\n",
       "⎢                              ⎢⎢- ─────────────────────── + ─────────────────\n",
       "⎢                              ⎣⎣            2⋅m                       2⋅m    \n",
       "⎢                                                                             \n",
       "⎢                                                                             \n",
       "⎢                                                                             \n",
       "⎢                                                                 ⎡⎡  3⋅\\mu_{B\n",
       "⎢                                                                 ⎢⎢- ────────\n",
       "⎢                                                                 ⎣⎣          \n",
       "⎣                                                                             \n",
       "\n",
       "      2      2               2      2    2             2                      \n",
       "mma_{2}⋅h̅ ⋅k_{x}    \\gamma_{2}⋅h̅ ⋅k_{y}    π ⋅\\gamma_{2}⋅h̅                 \n",
       "────────────── + ──────────────────── - ──────────────── - 3⋅\\mu_{B}⋅κ⋅B_{z}(x\n",
       "  2⋅m                    2⋅m                    2                             \n",
       "                                             l_z ⋅m                           \n",
       "                                                                              \n",
       "                                                                              \n",
       "              7⋅√3⋅\\mu_{B}⋅q⋅B_{x}(x)   7⋅√3⋅ⅈ⋅\\mu_{B}⋅q⋅B_{y}(x)⎤⎤           \n",
       "⋅κ⋅B_{y}(x) - ─────────────────────── - ─────────────────────────⎥⎥           \n",
       "                         4                          4            ⎦⎦           \n",
       "                                                                              \n",
       "                                                                              \n",
       "     2                    2                                2            ⎤⎤    \n",
       " ⋅k_{y}    √3⋅ⅈ⋅\\gamma_{3}⋅h̅ ⋅k_{x}⋅k_{y}   √3⋅ⅈ⋅\\gamma_{3}⋅h̅ ⋅k_{y}⋅k_{x}⎥⎥\n",
       "────── - ────────────────────────────── - ──────────────────────────────⎥⎥    \n",
       "                      2⋅m                              2⋅m              ⎦⎦    \n",
       "                                                                              \n",
       "                                                                              \n",
       "                                                                              \n",
       "}⋅q⋅B_{x}(x)   3⋅ⅈ⋅\\mu_{B}⋅q⋅B_{y}(x)⎤⎤                                       \n",
       "──────────── + ──────────────────────⎥⎥                                       \n",
       " 2                       2           ⎦⎦                                       \n",
       "                                                                              \n",
       "\n",
       "                         ⎤⎤                                                   \n",
       "          27⋅\\mu_{B}⋅q⋅B_{z}(x)⎥⎥                                       ⎡⎡    \n",
       ") - ─────────────────────⎥⎥                                       ⎢⎢-√3⋅\\mu_{B\n",
       "              4          ⎥⎥                                       ⎣⎣          \n",
       "                         ⎦⎦                                                   \n",
       "                                                                              \n",
       "                             ⎡⎡            2      2               2      2    \n",
       "                             ⎢⎢\\gamma_{1}⋅h̅ ⋅k_{x}    \\gamma_{1}⋅h̅ ⋅k_{y}   \n",
       "                             ⎢⎢──────────────────── + ──────────────────── + ─\n",
       "                             ⎢⎢        2⋅m                    2⋅m             \n",
       "                             ⎣⎣                                               \n",
       "                                                                              \n",
       "                                                                              \n",
       "                                                                              \n",
       "                                                                      [[-2⋅\\mu\n",
       "                                                                              \n",
       "                                                                              \n",
       "                                                                              \n",
       "                                                           ⎡⎡                 \n",
       "                                                           ⎢⎢  √3⋅\\gamma_{2}⋅h\n",
       "                                                           ⎢⎢- ───────────────\n",
       "                                                           ⎣⎣            2⋅m  \n",
       "                                                                              \n",
       "\n",
       "                                                                              \n",
       "                                               7⋅√3⋅\\mu_{B}⋅q⋅B_{x}(x)   7⋅√3⋅\n",
       "}⋅κ⋅B_{x}(x) + √3⋅ⅈ⋅\\mu_{B}⋅κ⋅B_{y}(x) - ─────────────────────── + ───────────\n",
       "                                                    4                         \n",
       "                                                                              \n",
       "                                                                              \n",
       "    2             2               2      2               2      2        2    \n",
       " 0.5⋅π ⋅\\gamma_{1}⋅h̅    \\gamma_{2}⋅h̅ ⋅k_{x}    \\gamma_{2}⋅h̅ ⋅k_{y}    1.0⋅π\n",
       "─────────────────── - ──────────────────── - ──────────────────── + ──────────\n",
       "         2                    2⋅m                    2⋅m                      \n",
       "      l_z ⋅m                                                               l_z\n",
       "                                                                              \n",
       "                                                                              \n",
       "                                                                              \n",
       "_{B}⋅κ⋅B_{x}(x) - 2⋅ⅈ⋅\\mu_{B}⋅κ⋅B_{y}(x) - 5⋅\\mu_{B}⋅q⋅B_{x}(x) - 5⋅ⅈ⋅\\mu_{B}⋅\n",
       "                                                                              \n",
       "                                                                              \n",
       "                                                                              \n",
       "2      2                  2      2                    2                       \n",
       "̅ ⋅k_{x}    √3⋅\\gamma_{2}⋅h̅ ⋅k_{y}    √3⋅ⅈ⋅\\gamma_{3}⋅h̅ ⋅k_{x}⋅k_{y}   √3⋅ⅈ⋅\n",
       "──────── + ─────────────────────── - ────────────────────────────── - ────────\n",
       "                     2⋅m                          2⋅m                         \n",
       "                                                                              \n",
       "\n",
       "                                                                              \n",
       "ⅈ⋅\\mu_{B}⋅q⋅B_{y}(x)⎤⎤                                                        \n",
       "──────────────⎥⎥                                                              \n",
       " 4            ⎦⎦                                                              \n",
       "                                                                              \n",
       "                                                                              \n",
       "         2                                          ⎤⎤                        \n",
       " ⋅\\gamma_{2}⋅h̅                         \\mu_{B}⋅q⋅B_{z}(x)⎥⎥                  \n",
       "────────── - \\mu_{B}⋅κ⋅B_{z}(x) - ──────────────────⎥⎥                        \n",
       "2                                         4         ⎥⎥                        \n",
       " ⋅m                                                 ⎦⎦                        \n",
       "                                                                              \n",
       "                                                        ⎡⎡            2      2\n",
       "                                                            ⎢⎢\\gamma_{1}⋅h̅ ⋅k\n",
       "q⋅B_{y}(x)]]                                            ⎢⎢────────────────────\n",
       "                                                        ⎢⎢        2⋅m         \n",
       "                                                        ⎣⎣                    \n",
       "                                                                              \n",
       "         2            ⎤⎤                                                      \n",
       "\\gamma_{3}⋅h̅ ⋅k_{y}⋅k_{x}⎥⎥                                                  \n",
       "──────────────────────⎥⎥                                                      \n",
       "     2⋅m              ⎦⎦                                                      \n",
       "                                                                              \n",
       "\n",
       "        ⎡⎡                 2      2                  2      2                 \n",
       "              ⎢⎢  √3⋅\\gamma_{2}⋅h̅ ⋅k_{x}    √3⋅\\gamma_{2}⋅h̅ ⋅k_{y}    √3⋅ⅈ⋅\\\n",
       "        ⎢⎢- ─────────────────────── + ─────────────────────── + ──────────────\n",
       "        ⎣⎣            2⋅m                       2⋅m                          2\n",
       "                                                                              \n",
       "                                                                              \n",
       "                                                                              \n",
       "                                                                              \n",
       "                   [[-2⋅\\mu_{B}⋅κ⋅B_{x}(x) + 2⋅ⅈ⋅\\mu_{B}⋅κ⋅B_{y}(x) - 5⋅\\mu_{B\n",
       "                                                                              \n",
       "                                                                              \n",
       "                                                                              \n",
       "               2      2        2             2               2      2         \n",
       "_{x}    \\gamma_{1}⋅h̅ ⋅k_{y}    0.5⋅π ⋅\\gamma_{1}⋅h̅    \\gamma_{2}⋅h̅ ⋅k_{x}  \n",
       " + ──────────────────── + ──────────────────── - ──────────────────── - ──────\n",
       "           2⋅m                      2                    2⋅m                  \n",
       "                                 l_z ⋅m                                       \n",
       "                                                                              \n",
       "                                                                              \n",
       "                   ⎡⎡                                                   7⋅√3⋅\\\n",
       "               ⎢⎢-√3⋅\\mu_{B}⋅κ⋅B_{x}(x) - √3⋅ⅈ⋅\\mu_{B}⋅κ⋅B_{y}(x) - ──────────\n",
       "               ⎣⎣                                                             \n",
       "                                                                              \n",
       "\n",
       "   2                                2            ⎤⎤                           \n",
       "gamma_{3}⋅h̅ ⋅k_{x}⋅k_{y}   √3⋅ⅈ⋅\\gamma_{3}⋅h̅ ⋅k_{y}⋅k_{x}⎥⎥                 \n",
       "──────────────── + ──────────────────────────────⎥⎥                           \n",
       "⋅m                              2⋅m              ⎦⎦                           \n",
       "                                                                              \n",
       "                                                                              \n",
       "                                                                              \n",
       "                                                                              \n",
       "}⋅q⋅B_{x}(x) + 5⋅ⅈ⋅\\mu_{B}⋅q⋅B_{y}(x)]]                                       \n",
       "                                                                              \n",
       "                                                                              \n",
       "                                                                              \n",
       "      2      2        2             2                                         \n",
       "  \\gamma_{2}⋅h̅ ⋅k_{y}    1.0⋅π ⋅\\gamma_{2}⋅h̅                         \\mu_{B}\n",
       "────────────── + ──────────────────── + \\mu_{B}⋅κ⋅B_{z}(x) + ─────────────────\n",
       "  2⋅m                      2                                         4        \n",
       "                        l_z ⋅m                                                \n",
       "                                                                              \n",
       "                                                                              \n",
       "mu_{B}⋅q⋅B_{x}(x)   7⋅√3⋅ⅈ⋅\\mu_{B}⋅q⋅B_{y}(x)⎤⎤                               \n",
       "───────────── - ─────────────────────────⎥⎥                                   \n",
       " 4                          4            ⎦⎦                                   \n",
       "                                                                              \n",
       "\n",
       "                                                                              \n",
       "                                                                              \n",
       "                                                                      ⎢⎢- ────\n",
       "                                                                      ⎣⎣      \n",
       "                                                                              \n",
       "                                                                              \n",
       "                                   ⎡⎡                 2      2                \n",
       "                                         ⎢⎢  √3⋅\\gamma_{2}⋅h̅ ⋅k_{x}    √3⋅\\ga\n",
       "                                   ⎢⎢- ─────────────────────── + ─────────────\n",
       "                                   ⎣⎣            2⋅m                       2⋅m\n",
       "                                                                              \n",
       "                                                                              \n",
       " ⎤⎤                                                                           \n",
       "⋅q⋅B_{z}(x)⎥⎥                                        ⎡⎡                       \n",
       "─⎥⎥                                        ⎢⎢-√3⋅\\mu_{B}⋅κ⋅B_{x}(x) + √3⋅ⅈ⋅\\mu\n",
       " ⎥⎥                                        ⎣⎣                                 \n",
       " ⎦⎦                                                                           \n",
       "                                                                              \n",
       "     ⎡⎡            2      2               2      2        2             2     \n",
       "         ⎢⎢\\gamma_{1}⋅h̅ ⋅k_{x}    \\gamma_{1}⋅h̅ ⋅k_{y}    0.5⋅π ⋅\\gamma_{1}⋅h\n",
       "     ⎢⎢──────────────────── + ──────────────────── + ──────────────────── + ──\n",
       "     ⎢⎢        2⋅m                    2⋅m                      2              \n",
       "     ⎣⎣                                                     l_z ⋅m            \n",
       "\n",
       "                                                                              \n",
       "  ⎡⎡  3⋅\\mu_{B}⋅q⋅B_{x}(x)   3⋅ⅈ⋅\\mu_{B}⋅q⋅B_{y}(x)⎤⎤                         \n",
       "──────────────── - ──────────────────────⎥⎥                                   \n",
       "     2                       2           ⎦⎦                                   \n",
       "                                                                              \n",
       "                                                                              \n",
       "  2      2                    2                                2            ⎤⎤\n",
       "mma_{2}⋅h̅ ⋅k_{y}    √3⋅ⅈ⋅\\gamma_{3}⋅h̅ ⋅k_{x}⋅k_{y}   √3⋅ⅈ⋅\\gamma_{3}⋅h̅ ⋅k_{\n",
       "────────── + ────────────────────────────── + ──────────────────────────────⎥⎥\n",
       "                          2⋅m                              2⋅m              ⎦⎦\n",
       "                                                                              \n",
       "                                                                              \n",
       "                                                                              \n",
       "                            7⋅√3⋅\\mu_{B}⋅q⋅B_{x}(x)   7⋅√3⋅ⅈ⋅\\mu_{B}⋅q⋅B_{y}(x\n",
       "_{B}⋅κ⋅B_{y}(x) - ─────────────────────── + ─────────────────────────⎥⎥       \n",
       "                             4                          4            ⎦⎦       \n",
       "                                                                              \n",
       "                                                                              \n",
       "          2      2               2      2    2             2                  \n",
       "̅    \\gamma_{2}⋅h̅ ⋅k_{x}    \\gamma_{2}⋅h̅ ⋅k_{y}    π ⋅\\gamma_{2}⋅h̅         \n",
       "────────────────── + ──────────────────── - ──────────────── + 3⋅\\mu_{B}⋅κ⋅B_{\n",
       "      2⋅m                    2⋅m                    2                         \n",
       "                                                 l_z ⋅m                       \n",
       "\n",
       "                               ⎤\n",
       "                                         ⎥\n",
       "                               ⎥\n",
       "                               ⎥\n",
       "                               ⎥\n",
       "                               ⎥\n",
       "                               ⎥\n",
       "y}⋅k_{x}⎥⎥                               ⎥\n",
       "                               ⎥\n",
       "                               ⎥\n",
       "                               ⎥\n",
       "                               ⎥\n",
       "                               ⎥\n",
       ")⎤⎤                                      ⎥\n",
       "                               ⎥\n",
       "                               ⎥\n",
       "                               ⎥\n",
       "                               ⎥\n",
       "                             ⎤⎤⎥\n",
       "                  27⋅\\mu_{B}⋅q⋅B_{z}(x)⎥⎥⎥\n",
       "z}(x) + ─────────────────────⎥⎥⎥\n",
       "                  4          ⎥⎥⎥\n",
       "                             ⎦⎦⎦"
      ]
     },
     "execution_count": 18,
     "metadata": {},
     "output_type": "execute_result"
    },
    {
     "data": {
      "image/png": "[encoded data removed]",
      "text/plain": [
       "<Figure size 640x480 with 1 Axes>"
      ]
     },
     "metadata": {},
     "output_type": "display_data"
    }
   ],
   "source": [
    "bm = LuttingerKohnHamiltonian(spatial_dim=3).material_spec('Ge')\n",
    "bm.add_z_confinement(1,'box',25e-9)\n",
    "bm.add_zeeman_term(B=[0.5,0,0])\n",
    "\n",
    "# NB the FEniCsModel assures that the k-ordering is correcty (but warns the user that it does this)\n",
    "model = FEniCsModel(band_model=bm,domain=domain,boundary_condition=0,function_class=('CG',1)) \n",
    "\n",
    "_ = plt.plot(*bm.spectrum((-1e8,1e8),(1,0),64))\n",
    "bm.post_processed_array().subs('\\hbar','hbar')"
   ]
  },
  {
   "cell_type": "code",
   "execution_count": 19,
   "metadata": {},
   "outputs": [],
   "source": [
    "Ly = 100e-9 # 100 nm\n",
    "Lx_values = np.linspace(50,200,32)*1e-9 # 50 - 200 nm \n",
    "\n",
    "\n",
    "def model_evaluation(lx):\n",
    "    dom = RectangleDomain(Lx=lx,Ly=Ly,Lz=0)\n",
    "    dom.resolution = [100,100]\n",
    "    model.domain = dom \n",
    "    return solver.solve(model) \n",
    "save_file = '100_bx_fix_y.save'\n",
    "\n",
    "search_b  = None \n",
    "if os.path.exists(save_file):\n",
    "    try:\n",
    "        search_b = ParameterSearch.load(save_file)\n",
    "    except Exception as err:\n",
    "        print(err)\n",
    "\n",
    "if search_b is None:\n",
    "    search_b = ParameterSearch(parameter_sets = Lx_values,evaluation_function=model_evaluation,save_file=save_file)\n"
   ]
  },
  {
   "cell_type": "code",
   "execution_count": 20,
   "metadata": {},
   "outputs": [],
   "source": [
    "search_b.run(save_results=True,skip_errors=False)"
   ]
  },
  {
   "cell_type": "markdown",
   "metadata": {},
   "source": [
    "From the saved eigenvalues and eigenvectors we can determine the lowest energy Kramers pair and compute the energy splitting of them.\n",
    "The following function does exactly that by takin the lowest energy state $\\psi$ and finds the next state that looks the most like the spin-flipped version of $\\psi$."
   ]
  },
  {
   "cell_type": "code",
   "execution_count": 21,
   "metadata": {},
   "outputs": [
    {
     "data": {
      "text/plain": [
       "Text(0.5, 1.0, '$L_y = 100$nm, $B=B_{x} = 0.5T$')"
      ]
     },
     "execution_count": 21,
     "metadata": {},
     "output_type": "execute_result"
    },
    {
     "data": {
      "image/png": "[encoded data removed]",
      "text/plain": [
       "<Figure size 640x480 with 1 Axes>"
      ]
     },
     "metadata": {},
     "output_type": "display_data"
    }
   ],
   "source": [
    "logging.getLogger().setLevel(logging.WARN)\n",
    "from nqcpfem.spin_gap import find_spin_gap \n",
    "energy_diff = [find_spin_gap(s,model)[0] for s in search_b.results]\n",
    "\n",
    "\n",
    "\n",
    "# plot the energy difference \n",
    "plt.plot(Lx_values/Ly,np.array(energy_diff)*nqcpfem.UNIT_CONVENTION['J to eV']*1000)\n",
    "plt.ylabel('energy gap [meV]')\n",
    "plt.xlabel('$L_x/L_y$')\n",
    "plt.title(r'$L_y = 100$nm, $B=B_{x} = 0.5T$')"
   ]
  },
  {
   "cell_type": "markdown",
   "metadata": {},
   "source": [
    "### Comparing with Simple Box-Mode computation\n",
    "We can compare the FEM-computed result of the g-tensor with the same computaton using eigenstates of a particle in a box as our basis. \n",
    "The setup is exaclty the same:\n",
    "- Define band model\n",
    "- Define domain\n",
    "- Define envelope-function model\n",
    "- Define solver and use it to solve the model"
   ]
  },
  {
   "cell_type": "code",
   "execution_count": 22,
   "metadata": {},
   "outputs": [],
   "source": [
    "bm = LuttingerKohnHamiltonian(spatial_dim=3).material_spec('Ge')\n",
    "bm.add_z_confinement(1,'box',25e-9)\n",
    "bm.add_zeeman_term(B=[0.5,0,0])\n",
    "\n",
    "from nqcpfem.solvers import ScipySolver\n",
    "solver = ScipySolver(k=10)\n",
    "\n",
    "from nqcpfem.box_modes import BoxEFM\n",
    "\n",
    "box_model = BoxEFM(bm,domain,nx=1,ny=1) # just one mode in each direction\n",
    "\n",
    "box_gmat = GMatrix(box_model,solver)"
   ]
  },
  {
   "cell_type": "markdown",
   "metadata": {},
   "source": [
    "Note that we for this use the ScipySolver, which uses scipy instead of PETSc fror computing eigenvalues as this can handle dense matrices (which is what the BoxEFM model makes)\n",
    "As before we construct a ParameterSearch for saving the results."
   ]
  },
  {
   "cell_type": "code",
   "execution_count": 23,
   "metadata": {},
   "outputs": [],
   "source": [
    "\n",
    "def box_model_eval(lx):\n",
    "    domain = RectangleDomain(Lx=lx,Ly=Ly,Lz=0)\n",
    "    box_gmat.envelope_model.domain = domain\n",
    "    return gmat.matrix()\n",
    "\n",
    "box_save = 'box_modes_1_1.save'\n",
    "\n",
    "box_search  = None \n",
    "if os.path.exists(box_save):\n",
    "    try:\n",
    "        box_search = ParameterSearch.load(box_save)\n",
    "    except Exception as err:\n",
    "        print(err)\n",
    "\n",
    "if box_search is None:\n",
    "    box_search = ParameterSearch(parameter_sets = Lx_values,evaluation_function=box_model_eval,save_file=box_save)\n"
   ]
  },
  {
   "cell_type": "code",
   "execution_count": 24,
   "metadata": {},
   "outputs": [],
   "source": [
    "box_search.run(save_results=True,skip_errors=False)"
   ]
  },
  {
   "cell_type": "code",
   "execution_count": 25,
   "metadata": {},
   "outputs": [
    {
     "data": {
      "text/plain": [
       "Text(0.5, 1.0, '$L_{y} = 100$nm (Box_modes)')"
      ]
     },
     "execution_count": 25,
     "metadata": {},
     "output_type": "execute_result"
    },
    {
     "data": {
      "image/png": "[encoded data removed]",
      "text/plain": [
       "<Figure size 640x480 with 1 Axes>"
      ]
     },
     "metadata": {},
     "output_type": "display_data"
    }
   ],
   "source": [
    "Lx_values = np.linspace(50e-9,200-9,64)\n",
    "singular_values = np.stack([np.linalg.svd(a)[1] for a in search.results],axis=0)\n",
    "plt.plot(Lx_values/Ly,singular_values)\n",
    "\n",
    "plt.ylim(0,3) \n",
    "plt.xlabel(r'$L_{x}/L_{y}$')\n",
    "plt.ylabel('g-factor')\n",
    "plt.title(r'$L_{y} = 100$nm (Box_modes)')"
   ]
  },
  {
   "cell_type": "markdown",
   "metadata": {},
   "source": [
    "### Adding SHO potential\n",
    "We now ad in-plane SHO potentials to show that the g-matrix dependency on the anisotropy of the in-plane wave-function is not just a result of the specific box potential.\n",
    "\n",
    "The model is established in the same fashion as above, but with added potential.\n",
    "We define the domain large enough such that the wave-function is almost zero the boundary due to the confinement potential.\n",
    "We also keep the domain constant for this, because then, every time we change $\\omega_x$ we can use the existing JIT-compiled builder for the array."
   ]
  },
  {
   "cell_type": "code",
   "execution_count": 26,
   "metadata": {},
   "outputs": [
    {
     "name": "stderr",
     "output_type": "stream",
     "text": [
      "WARNING:nqcpfem.fenics:the k-ordering of the band model must be FEM, but it was not set. setting it to FEM wit left reduction direction\n"
     ]
    }
   ],
   "source": [
    "bm = LuttingerKohnHamiltonian(spatial_dim=3).material_spec('Ge')\n",
    "bm.add_z_confinement(1,'box',25e-9)\n",
    "bm.add_zeeman_term(B=[0,0,0])\n",
    "\n",
    "x,y,z = bm.position_symbols\n",
    "omega_x,omega_y = sympy.symbols(r'\\omega_x,\\omega_y')\n",
    "m = sympy.symbols('m')\n",
    "\n",
    "V = 0.5*m*( (omega_x*x)**2 + (omega_y*y)**2 ) \n",
    "\n",
    "bm.add_potential(V)\n",
    "\n",
    "domain = RectangleDomain(Lx=400e-9,Ly=200e-9,Lz=0) \n",
    "domain.resolution = [200,100]\n",
    "fem_model = FEniCsModel(bm,domain,0,('CG',1))\n"
   ]
  },
  {
   "cell_type": "markdown",
   "metadata": {},
   "source": [
    "The characterisitc length of a SHO is determine as the solution $\\hbar^2 /(2m L^2) = \\hbar \\omega$: $L = \\sqrt{\\hbar / (2m \\omega)}$\n",
    "we fix $\\omega_x$ such that $L = 10nm$"
   ]
  },
  {
   "cell_type": "code",
   "execution_count": 59,
   "metadata": {},
   "outputs": [],
   "source": [
    "\n",
    "bm.material_spec('Ge')\n",
    "omega_y_val = bm.constants[sympy.symbols('\\hbar')]/(2*bm.parameter_dict[sympy.symbols('m')]*(Ly)**2)\n",
    "\n",
    "sho_gmat.envelope_model.band_model.parameter_dict[omega_y] = 1e11#omega_y_val*10\n",
    "sho_gmat.envelope_model.band_model.parameter_dict[omega_x] = 1e11 #omega_y_val*10\n",
    "\n",
    "solver = PETScSolver(k=10,which='SM',sigma=0)"
   ]
  },
  {
   "cell_type": "markdown",
   "metadata": {},
   "source": [
    "#### Verifying that the shape is correct"
   ]
  },
  {
   "cell_type": "code",
   "execution_count": 60,
   "metadata": {},
   "outputs": [],
   "source": [
    "evals,evecs = solver.solve(fem_model) "
   ]
  },
  {
   "cell_type": "code",
   "execution_count": 61,
   "metadata": {},
   "outputs": [
    {
     "data": {
      "text/plain": [
       "[<matplotlib.lines.Line2D at 0x7f5f01bad0c0>,\n",
       " <matplotlib.lines.Line2D at 0x7f5f01bafdc0>,\n",
       " <matplotlib.lines.Line2D at 0x7f5f01baf220>,\n",
       " <matplotlib.lines.Line2D at 0x7f5f01badba0>]"
      ]
     },
     "execution_count": 61,
     "metadata": {},
     "output_type": "execute_result"
    },
    {
     "data": {
      "image/png": "[encoded data removed]",
      "text/plain": [
       "<Figure size 640x480 with 1 Axes>"
      ]
     },
     "metadata": {},
     "output_type": "display_data"
    }
   ],
   "source": [
    "plt.plot(*bm.spectrum((-2.5e8,2.5e8),[1,0],32,position=[000e-9,00e-9,0]))"
   ]
  },
  {
   "cell_type": "code",
   "execution_count": 63,
   "metadata": {},
   "outputs": [
    {
     "data": {
      "text/latex": [
       "$\\displaystyle 1.0 \\cdot 10^{-7}$"
      ],
      "text/plain": [
       "1e-07"
      ]
     },
     "execution_count": 63,
     "metadata": {},
     "output_type": "execute_result"
    }
   ],
   "source": []
  },
  {
   "cell_type": "code",
   "execution_count": 50,
   "metadata": {},
   "outputs": [
    {
     "data": {
      "text/latex": [
       "$\\displaystyle \\left[\\begin{matrix}\\left[\\left[\\begin{matrix}\\frac{\\gamma_{1} \\hbar^{2} k_{x}^{2}}{2 m} + \\frac{\\gamma_{1} \\hbar^{2} k_{y}^{2}}{2 m} + \\frac{0.5 \\pi^{2} \\gamma_{1} \\hbar^{2}}{l_{z}^{2} m} + \\frac{\\gamma_{2} \\hbar^{2} k_{x}^{2}}{2 m} + \\frac{\\gamma_{2} \\hbar^{2} k_{y}^{2}}{2 m} - \\frac{1.0 \\pi^{2} \\gamma_{2} \\hbar^{2}}{l_{z}^{2} m} - 3 \\mu_{B} \\kappa B_{z}(x) - \\frac{27 \\mu_{B} q B_{z}(x)}{4} + 0.5 \\omega_{x}^{2} m x^{2} + 0.5 \\omega_{y}^{2} m y^{2}\\end{matrix}\\right]\\right] & \\left[\\left[\\begin{matrix}- \\sqrt{3} \\mu_{B} \\kappa B_{x}(x) + \\sqrt{3} i \\mu_{B} \\kappa B_{y}(x) - \\frac{7 \\sqrt{3} \\mu_{B} q B_{x}(x)}{4} + \\frac{7 \\sqrt{3} i \\mu_{B} q B_{y}(x)}{4}\\end{matrix}\\right]\\right] & \\left[\\left[\\begin{matrix}- \\frac{\\sqrt{3} \\gamma_{2} \\hbar^{2} k_{x}^{2}}{2 m} + \\frac{\\sqrt{3} \\gamma_{2} \\hbar^{2} k_{y}^{2}}{2 m} + \\frac{\\sqrt{3} i \\gamma_{3} \\hbar^{2} k_{x} k_{y}}{2 m} + \\frac{\\sqrt{3} i \\gamma_{3} \\hbar^{2} k_{y} k_{x}}{2 m}\\end{matrix}\\right]\\right] & \\left[\\left[\\begin{matrix}- \\frac{3 \\mu_{B} q B_{x}(x)}{2} - \\frac{3 i \\mu_{B} q B_{y}(x)}{2}\\end{matrix}\\right]\\right]\\\\\\left[\\left[\\begin{matrix}- \\sqrt{3} \\mu_{B} \\kappa B_{x}(x) - \\sqrt{3} i \\mu_{B} \\kappa B_{y}(x) - \\frac{7 \\sqrt{3} \\mu_{B} q B_{x}(x)}{4} - \\frac{7 \\sqrt{3} i \\mu_{B} q B_{y}(x)}{4}\\end{matrix}\\right]\\right] & \\left[\\left[\\begin{matrix}\\frac{\\gamma_{1} \\hbar^{2} k_{x}^{2}}{2 m} + \\frac{\\gamma_{1} \\hbar^{2} k_{y}^{2}}{2 m} + \\frac{0.5 \\pi^{2} \\gamma_{1} \\hbar^{2}}{l_{z}^{2} m} - \\frac{\\gamma_{2} \\hbar^{2} k_{x}^{2}}{2 m} - \\frac{\\gamma_{2} \\hbar^{2} k_{y}^{2}}{2 m} + \\frac{1.0 \\pi^{2} \\gamma_{2} \\hbar^{2}}{l_{z}^{2} m} - \\mu_{B} \\kappa B_{z}(x) - \\frac{\\mu_{B} q B_{z}(x)}{4} + 0.5 \\omega_{x}^{2} m x^{2} + 0.5 \\omega_{y}^{2} m y^{2}\\end{matrix}\\right]\\right] & \\left[\\left[\\begin{matrix}- 2 \\mu_{B} \\kappa B_{x}(x) + 2 i \\mu_{B} \\kappa B_{y}(x) - 5 \\mu_{B} q B_{x}(x) + 5 i \\mu_{B} q B_{y}(x)\\end{matrix}\\right]\\right] & \\left[\\left[\\begin{matrix}- \\frac{\\sqrt{3} \\gamma_{2} \\hbar^{2} k_{x}^{2}}{2 m} + \\frac{\\sqrt{3} \\gamma_{2} \\hbar^{2} k_{y}^{2}}{2 m} + \\frac{\\sqrt{3} i \\gamma_{3} \\hbar^{2} k_{x} k_{y}}{2 m} + \\frac{\\sqrt{3} i \\gamma_{3} \\hbar^{2} k_{y} k_{x}}{2 m}\\end{matrix}\\right]\\right]\\\\\\left[\\left[\\begin{matrix}- \\frac{\\sqrt{3} \\gamma_{2} \\hbar^{2} k_{x}^{2}}{2 m} + \\frac{\\sqrt{3} \\gamma_{2} \\hbar^{2} k_{y}^{2}}{2 m} - \\frac{\\sqrt{3} i \\gamma_{3} \\hbar^{2} k_{x} k_{y}}{2 m} - \\frac{\\sqrt{3} i \\gamma_{3} \\hbar^{2} k_{y} k_{x}}{2 m}\\end{matrix}\\right]\\right] & \\left[\\left[\\begin{matrix}- 2 \\mu_{B} \\kappa B_{x}(x) - 2 i \\mu_{B} \\kappa B_{y}(x) - 5 \\mu_{B} q B_{x}(x) - 5 i \\mu_{B} q B_{y}(x)\\end{matrix}\\right]\\right] & \\left[\\left[\\begin{matrix}\\frac{\\gamma_{1} \\hbar^{2} k_{x}^{2}}{2 m} + \\frac{\\gamma_{1} \\hbar^{2} k_{y}^{2}}{2 m} + \\frac{0.5 \\pi^{2} \\gamma_{1} \\hbar^{2}}{l_{z}^{2} m} - \\frac{\\gamma_{2} \\hbar^{2} k_{x}^{2}}{2 m} - \\frac{\\gamma_{2} \\hbar^{2} k_{y}^{2}}{2 m} + \\frac{1.0 \\pi^{2} \\gamma_{2} \\hbar^{2}}{l_{z}^{2} m} + \\mu_{B} \\kappa B_{z}(x) + \\frac{\\mu_{B} q B_{z}(x)}{4} + 0.5 \\omega_{x}^{2} m x^{2} + 0.5 \\omega_{y}^{2} m y^{2}\\end{matrix}\\right]\\right] & \\left[\\left[\\begin{matrix}- \\sqrt{3} \\mu_{B} \\kappa B_{x}(x) + \\sqrt{3} i \\mu_{B} \\kappa B_{y}(x) - \\frac{7 \\sqrt{3} \\mu_{B} q B_{x}(x)}{4} + \\frac{7 \\sqrt{3} i \\mu_{B} q B_{y}(x)}{4}\\end{matrix}\\right]\\right]\\\\\\left[\\left[\\begin{matrix}- \\frac{3 \\mu_{B} q B_{x}(x)}{2} + \\frac{3 i \\mu_{B} q B_{y}(x)}{2}\\end{matrix}\\right]\\right] & \\left[\\left[\\begin{matrix}- \\frac{\\sqrt{3} \\gamma_{2} \\hbar^{2} k_{x}^{2}}{2 m} + \\frac{\\sqrt{3} \\gamma_{2} \\hbar^{2} k_{y}^{2}}{2 m} - \\frac{\\sqrt{3} i \\gamma_{3} \\hbar^{2} k_{x} k_{y}}{2 m} - \\frac{\\sqrt{3} i \\gamma_{3} \\hbar^{2} k_{y} k_{x}}{2 m}\\end{matrix}\\right]\\right] & \\left[\\left[\\begin{matrix}- \\sqrt{3} \\mu_{B} \\kappa B_{x}(x) - \\sqrt{3} i \\mu_{B} \\kappa B_{y}(x) - \\frac{7 \\sqrt{3} \\mu_{B} q B_{x}(x)}{4} - \\frac{7 \\sqrt{3} i \\mu_{B} q B_{y}(x)}{4}\\end{matrix}\\right]\\right] & \\left[\\left[\\begin{matrix}\\frac{\\gamma_{1} \\hbar^{2} k_{x}^{2}}{2 m} + \\frac{\\gamma_{1} \\hbar^{2} k_{y}^{2}}{2 m} + \\frac{0.5 \\pi^{2} \\gamma_{1} \\hbar^{2}}{l_{z}^{2} m} + \\frac{\\gamma_{2} \\hbar^{2} k_{x}^{2}}{2 m} + \\frac{\\gamma_{2} \\hbar^{2} k_{y}^{2}}{2 m} - \\frac{1.0 \\pi^{2} \\gamma_{2} \\hbar^{2}}{l_{z}^{2} m} + 3 \\mu_{B} \\kappa B_{z}(x) + \\frac{27 \\mu_{B} q B_{z}(x)}{4} + 0.5 \\omega_{x}^{2} m x^{2} + 0.5 \\omega_{y}^{2} m y^{2}\\end{matrix}\\right]\\right]\\end{matrix}\\right]$"
      ],
      "text/plain": [
       "⎡⎡⎡            2      2               2      2        2             2         \n",
       "⎢⎢⎢\\gamma_{1}⋅h̅ ⋅k_{x}    \\gamma_{1}⋅h̅ ⋅k_{y}    0.5⋅π ⋅\\gamma_{1}⋅h̅    \\ga\n",
       "⎢⎢⎢──────────────────── + ──────────────────── + ──────────────────── + ──────\n",
       "⎢⎢⎢        2⋅m                    2⋅m                      2                  \n",
       "⎢⎣⎣                                                     l_z ⋅m                \n",
       "⎢                                                                             \n",
       "⎢                                                                             \n",
       "⎢                                                          ⎡⎡                 \n",
       "⎢                                                          ⎢⎢-√3⋅\\mu_{B}⋅κ⋅B_{\n",
       "⎢                                                          ⎣⎣                 \n",
       "⎢                                                                             \n",
       "⎢                                                                             \n",
       "⎢                                                   ⎡⎡                 2      \n",
       "⎢                                                   ⎢⎢  √3⋅\\gamma_{2}⋅h̅ ⋅k_{x\n",
       "⎢                                                   ⎢⎢- ──────────────────────\n",
       "⎢                                                   ⎣⎣            2⋅m         \n",
       "⎢                                                                             \n",
       "⎢                                                                             \n",
       "⎢                                                                             \n",
       "⎢                                                                             \n",
       "⎢                                                                             \n",
       "⎢                                                                             \n",
       "⎣                                                                             \n",
       "\n",
       "      2      2               2      2    2             2                      \n",
       "mma_{2}⋅h̅ ⋅k_{x}    \\gamma_{2}⋅h̅ ⋅k_{y}    π ⋅\\gamma_{2}⋅h̅                 \n",
       "────────────── + ──────────────────── - ──────────────── - 3⋅\\mu_{B}⋅κ⋅B_{z}(x\n",
       "  2⋅m                    2⋅m                    2                             \n",
       "                                             l_z ⋅m                           \n",
       "                                                                              \n",
       "                                                                              \n",
       "                                  7⋅√3⋅\\mu_{B}⋅q⋅B_{x}(x)   7⋅√3⋅ⅈ⋅\\mu_{B}⋅q⋅B\n",
       "x}(x) - √3⋅ⅈ⋅\\mu_{B}⋅κ⋅B_{y}(x) - ─────────────────────── - ──────────────────\n",
       "                                             4                          4     \n",
       "                                                                              \n",
       "                                                                              \n",
       "2                  2      2                    2                              \n",
       "}    √3⋅\\gamma_{2}⋅h̅ ⋅k_{y}    √3⋅ⅈ⋅\\gamma_{3}⋅h̅ ⋅k_{x}⋅k_{y}   √3⋅ⅈ⋅\\gamma_\n",
       "─ + ─────────────────────── - ────────────────────────────── - ───────────────\n",
       "              2⋅m                          2⋅m                              2⋅\n",
       "                                                                              \n",
       "                                                                              \n",
       "                                                                              \n",
       "         ⎡⎡  3⋅\\mu_{B}⋅q⋅B_{x}(x)   3⋅ⅈ⋅\\mu_{B}⋅q⋅B_{y}(x)⎤⎤                  \n",
       "         ⎢⎢- ──────────────────── + ──────────────────────⎥⎥                  \n",
       "         ⎣⎣           2                       2           ⎦⎦                  \n",
       "                                                                              \n",
       "\n",
       "                                                                  ⎤⎤          \n",
       "          27⋅\\mu_{B}⋅q⋅B_{z}(x)              2    2               2    2⎥⎥    \n",
       ") - ───────────────────── + 0.5⋅\\omegaₓ ⋅m⋅x  + 0.5⋅\\omega_y ⋅m⋅y ⎥⎥          \n",
       "              4                                                   ⎥⎥          \n",
       "                                                                  ⎦⎦          \n",
       "                                                                              \n",
       "                                                                      ⎡⎡      \n",
       "_{y}(x)⎤⎤                                                             ⎢⎢\\gamma\n",
       "───────⎥⎥                                                             ⎢⎢──────\n",
       "       ⎦⎦                                                             ⎢⎢      \n",
       "                                                                      ⎣⎣      \n",
       "                                                                              \n",
       "  2            ⎤⎤                                                             \n",
       "{3}⋅h̅ ⋅k_{y}⋅k_{x}⎥⎥                                                         \n",
       "───────────────⎥⎥                                                             \n",
       "m              ⎦⎦                                                             \n",
       "                                                                              \n",
       "                                                                              \n",
       "                                                                              \n",
       "                                                                              \n",
       "                                                                              \n",
       "                                                                              \n",
       "                                                                              \n",
       "\n",
       "                                                                              \n",
       "                                                        ⎡⎡                    \n",
       "                                                  ⎢⎢-√3⋅\\mu_{B}⋅κ⋅B_{x}(x) + √\n",
       "                                                  ⎣⎣                          \n",
       "                                                                              \n",
       "                                                                              \n",
       "      2      2               2      2        2             2               2  \n",
       "_{1}⋅h̅ ⋅k_{x}    \\gamma_{1}⋅h̅ ⋅k_{y}    0.5⋅π ⋅\\gamma_{1}⋅h̅    \\gamma_{2}⋅h\n",
       "────────────── + ──────────────────── + ──────────────────── - ───────────────\n",
       "  2⋅m                    2⋅m                      2                    2⋅m    \n",
       "                                               l_z ⋅m                         \n",
       "                                                                              \n",
       "                                                                              \n",
       "                                                                              \n",
       "                                                      [[-2⋅\\mu_{B}⋅κ⋅B_{x}(x) \n",
       "                                                                              \n",
       "                                                                              \n",
       "                                                                              \n",
       "                                          ⎡⎡                 2      2         \n",
       "                                          ⎢⎢  √3⋅\\gamma_{2}⋅h̅ ⋅k_{x}    √3⋅\\g\n",
       "                                          ⎢⎢- ─────────────────────── + ──────\n",
       "                                          ⎣⎣            2⋅m                   \n",
       "                                                                              \n",
       "\n",
       "                                                                              \n",
       "                               7⋅√3⋅\\mu_{B}⋅q⋅B_{x}(x)   7⋅√3⋅ⅈ⋅\\mu_{B}⋅q⋅B_{y\n",
       "3⋅ⅈ⋅\\mu_{B}⋅κ⋅B_{y}(x) - ─────────────────────── + ─────────────────────────⎥⎥\n",
       "                                    4                          4            ⎦⎦\n",
       "                                                                              \n",
       "                                                                              \n",
       "    2               2      2        2             2                           \n",
       "̅ ⋅k_{x}    \\gamma_{2}⋅h̅ ⋅k_{y}    1.0⋅π ⋅\\gamma_{2}⋅h̅                      \n",
       "───── - ──────────────────── + ──────────────────── - \\mu_{B}⋅κ⋅B_{z}(x) - ───\n",
       "                2⋅m                      2                                    \n",
       "                                      l_z ⋅m                                  \n",
       "                                                                              \n",
       "                                                                              \n",
       "                                                                              \n",
       "- 2⋅ⅈ⋅\\mu_{B}⋅κ⋅B_{y}(x) - 5⋅\\mu_{B}⋅q⋅B_{x}(x) - 5⋅ⅈ⋅\\mu_{B}⋅q⋅B_{y}(x)]]    \n",
       "                                                                              \n",
       "                                                                              \n",
       "                                                                              \n",
       "         2      2                    2                                2       \n",
       "amma_{2}⋅h̅ ⋅k_{y}    √3⋅ⅈ⋅\\gamma_{3}⋅h̅ ⋅k_{x}⋅k_{y}   √3⋅ⅈ⋅\\gamma_{3}⋅h̅ ⋅k_\n",
       "───────────────── - ────────────────────────────── - ─────────────────────────\n",
       "    2⋅m                          2⋅m                              2⋅m         \n",
       "                                                                              \n",
       "\n",
       "                                                                              \n",
       "}(x)⎤⎤                                                                        \n",
       "                                                                              \n",
       "                                                                              \n",
       "                                                                              \n",
       "                                                                              \n",
       "                                                        ⎤⎤                    \n",
       "   \\mu_{B}⋅q⋅B_{z}(x)              2    2               2    2⎥⎥              \n",
       "─────────────── + 0.5⋅\\omegaₓ ⋅m⋅x  + 0.5⋅\\omega_y ⋅m⋅y ⎥⎥                    \n",
       "     4                                                  ⎥⎥                    \n",
       "                                                        ⎦⎦                    \n",
       "                                                                              \n",
       "                                                            ⎡⎡            2   \n",
       "                                                                ⎢⎢\\gamma_{1}⋅h\n",
       "                                                            ⎢⎢────────────────\n",
       "                                                            ⎢⎢        2⋅m     \n",
       "                                                            ⎣⎣                \n",
       "                                                                              \n",
       "     ⎤⎤                                                                       \n",
       "{y}⋅k_{x}⎥⎥                                                                   \n",
       "─────⎥⎥                                                                       \n",
       "     ⎦⎦                                                                       \n",
       "                                                                              \n",
       "\n",
       "                                ⎡⎡                 2      2                  2\n",
       "                                      ⎢⎢  √3⋅\\gamma_{2}⋅h̅ ⋅k_{x}    √3⋅\\gamma\n",
       "                                ⎢⎢- ─────────────────────── + ────────────────\n",
       "                                ⎣⎣            2⋅m                       2⋅m   \n",
       "                                                                              \n",
       "                                                                              \n",
       "                                                                              \n",
       "                                                                              \n",
       "                                            [[-2⋅\\mu_{B}⋅κ⋅B_{x}(x) + 2⋅ⅈ⋅\\mu_\n",
       "                                                                              \n",
       "                                                                              \n",
       "                                                                              \n",
       "   2               2      2        2             2               2      2     \n",
       "̅ ⋅k_{x}    \\gamma_{1}⋅h̅ ⋅k_{y}    0.5⋅π ⋅\\gamma_{1}⋅h̅    \\gamma_{2}⋅h̅ ⋅k_{\n",
       "──── + ──────────────────── + ──────────────────── - ──────────────────── - ──\n",
       "               2⋅m                      2                    2⋅m              \n",
       "                                     l_z ⋅m                                   \n",
       "                                                                              \n",
       "                                                                              \n",
       "                                            ⎡⎡                                \n",
       "                                        ⎢⎢-√3⋅\\mu_{B}⋅κ⋅B_{x}(x) - √3⋅ⅈ⋅\\mu_{B\n",
       "                                        ⎣⎣                                    \n",
       "                                                                              \n",
       "\n",
       "      2                    2                                2            ⎤⎤   \n",
       "_{2}⋅h̅ ⋅k_{y}    √3⋅ⅈ⋅\\gamma_{3}⋅h̅ ⋅k_{x}⋅k_{y}   √3⋅ⅈ⋅\\gamma_{3}⋅h̅ ⋅k_{y}⋅\n",
       "─────── + ────────────────────────────── + ──────────────────────────────⎥⎥   \n",
       "                       2⋅m                              2⋅m              ⎦⎦   \n",
       "                                                                              \n",
       "                                                                              \n",
       "                                                                              \n",
       "                                                                              \n",
       "{B}⋅κ⋅B_{y}(x) - 5⋅\\mu_{B}⋅q⋅B_{x}(x) + 5⋅ⅈ⋅\\mu_{B}⋅q⋅B_{y}(x)]]              \n",
       "                                                                              \n",
       "                                                                              \n",
       "                                                                              \n",
       "          2      2        2             2                                     \n",
       "x}    \\gamma_{2}⋅h̅ ⋅k_{y}    1.0⋅π ⋅\\gamma_{2}⋅h̅                         \\mu\n",
       "────────────────── + ──────────────────── + \\mu_{B}⋅κ⋅B_{z}(x) + ─────────────\n",
       "      2⋅m                      2                                         4    \n",
       "                            l_z ⋅m                                            \n",
       "                                                                              \n",
       "                                                                              \n",
       "                   7⋅√3⋅\\mu_{B}⋅q⋅B_{x}(x)   7⋅√3⋅ⅈ⋅\\mu_{B}⋅q⋅B_{y}(x)⎤⎤      \n",
       "}⋅κ⋅B_{y}(x) - ─────────────────────── - ─────────────────────────⎥⎥          \n",
       "                          4                          4            ⎦⎦          \n",
       "                                                                              \n",
       "\n",
       "                                                                              \n",
       "k_{x}⎥⎥                                                                       \n",
       "                                                                              \n",
       "                                                                              \n",
       "                                                                              \n",
       "                                                                              \n",
       "                                                                              \n",
       "                                                                              \n",
       "                                                                              \n",
       "                                                                              \n",
       "                                                                              \n",
       "                                                                              \n",
       "                                              ⎤⎤                              \n",
       "_{B}⋅q⋅B_{z}(x)              2    2               2    2⎥⎥                    \n",
       "───── + 0.5⋅\\omegaₓ ⋅m⋅x  + 0.5⋅\\omega_y ⋅m⋅y ⎥⎥                              \n",
       "                                              ⎥⎥                              \n",
       "                                              ⎦⎦                              \n",
       "                                                                              \n",
       "                                                  ⎡⎡            2      2      \n",
       "                                                      ⎢⎢\\gamma_{1}⋅h̅ ⋅k_{x}  \n",
       "                                                  ⎢⎢──────────────────── + ───\n",
       "                                                  ⎢⎢        2⋅m               \n",
       "                                                  ⎣⎣                          \n",
       "\n",
       "                                                                              \n",
       "                                                                    ⎡⎡  3⋅\\mu_\n",
       "                                                          ⎢⎢- ────────────────\n",
       "                                                          ⎣⎣           2      \n",
       "                                                                              \n",
       "                                                                              \n",
       "                       ⎡⎡                 2      2                  2      2  \n",
       "                             ⎢⎢  √3⋅\\gamma_{2}⋅h̅ ⋅k_{x}    √3⋅\\gamma_{2}⋅h̅ ⋅\n",
       "                       ⎢⎢- ─────────────────────── + ─────────────────────── +\n",
       "                       ⎣⎣            2⋅m                       2⋅m            \n",
       "                                                                              \n",
       "                                                                              \n",
       "                                                                              \n",
       "                                        ⎡⎡                                    \n",
       "                              ⎢⎢-√3⋅\\mu_{B}⋅κ⋅B_{x}(x) + √3⋅ⅈ⋅\\mu_{B}⋅κ⋅B_{y}(\n",
       "                              ⎣⎣                                              \n",
       "                                                                              \n",
       "                                                                              \n",
       "         2      2        2             2               2      2               \n",
       "  \\gamma_{1}⋅h̅ ⋅k_{y}    0.5⋅π ⋅\\gamma_{1}⋅h̅    \\gamma_{2}⋅h̅ ⋅k_{x}    \\gam\n",
       "───────────────── + ──────────────────── + ──────────────────── + ────────────\n",
       "     2⋅m                      2                    2⋅m                    2⋅m \n",
       "                           l_z ⋅m                                             \n",
       "\n",
       "                                                                              \n",
       "{B}⋅q⋅B_{x}(x)   3⋅ⅈ⋅\\mu_{B}⋅q⋅B_{y}(x)⎤⎤                                     \n",
       "──── - ──────────────────────⎥⎥                                               \n",
       "                 2           ⎦⎦                                               \n",
       "                                                                              \n",
       "                                                                              \n",
       "                  2                                2            ⎤⎤            \n",
       "k_{y}    √3⋅ⅈ⋅\\gamma_{3}⋅h̅ ⋅k_{x}⋅k_{y}   √3⋅ⅈ⋅\\gamma_{3}⋅h̅ ⋅k_{y}⋅k_{x}⎥⎥  \n",
       " ────────────────────────────── + ──────────────────────────────⎥⎥            \n",
       "              2⋅m                              2⋅m              ⎦⎦            \n",
       "                                                                              \n",
       "                                                                              \n",
       "                                                                              \n",
       "               7⋅√3⋅\\mu_{B}⋅q⋅B_{x}(x)   7⋅√3⋅ⅈ⋅\\mu_{B}⋅q⋅B_{y}(x)⎤⎤          \n",
       "x) - ─────────────────────── + ─────────────────────────⎥⎥                    \n",
       "                4                          4            ⎦⎦                    \n",
       "                                                                              \n",
       "                                                                              \n",
       "2      2    2             2                                                   \n",
       "ma_{2}⋅h̅ ⋅k_{y}    π ⋅\\gamma_{2}⋅h̅                           27⋅\\mu_{B}⋅q⋅B_\n",
       "──────── - ──────────────── + 3⋅\\mu_{B}⋅κ⋅B_{z}(x) + ───────────────────── + 0\n",
       "                   2                                           4              \n",
       "                l_z ⋅m                                                        \n",
       "\n",
       "                                       ⎤\n",
       "                                                 ⎥\n",
       "                                       ⎥\n",
       "                                       ⎥\n",
       "                                       ⎥\n",
       "                                       ⎥\n",
       "                                       ⎥\n",
       "                                                 ⎥\n",
       "                                       ⎥\n",
       "                                       ⎥\n",
       "                                       ⎥\n",
       "                                       ⎥\n",
       "                                       ⎥\n",
       "                                                 ⎥\n",
       "                                       ⎥\n",
       "                                       ⎥\n",
       "                                       ⎥\n",
       "                                       ⎥\n",
       "                                     ⎤⎤⎥\n",
       "{z}(x)              2    2               2    2⎥⎥⎥\n",
       ".5⋅\\omegaₓ ⋅m⋅x  + 0.5⋅\\omega_y ⋅m⋅y ⎥⎥⎥\n",
       "                                     ⎥⎥⎥\n",
       "                                     ⎦⎦⎦"
      ]
     },
     "execution_count": 50,
     "metadata": {},
     "output_type": "execute_result"
    }
   ],
   "source": [
    "bm.post_processed_array().subs('\\hbar','hbar')\n"
   ]
  },
  {
   "cell_type": "code",
   "execution_count": 52,
   "metadata": {},
   "outputs": [
    {
     "data": {
      "text/latex": [
       "$\\displaystyle 5788381802.52715$"
      ],
      "text/plain": [
       "5788381802.527149"
      ]
     },
     "execution_count": 52,
     "metadata": {},
     "output_type": "execute_result"
    }
   ],
   "source": [
    "omega_y_val"
   ]
  },
  {
   "cell_type": "code",
   "execution_count": 62,
   "metadata": {},
   "outputs": [
    {
     "data": {
      "application/vnd.jupyter.widget-view+json": {
       "model_id": "bc3e3e8f4d934bfdb40ae2db64a1ba3c",
       "version_major": 2,
       "version_minor": 0
      },
      "text/plain": [
       "Widget(value=\"<iframe src='http://localhost:35429/index.html?ui=P_0x7f5f1df03df0_6&reconnect=auto' style='widt…"
      ]
     },
     "metadata": {},
     "output_type": "display_data"
    }
   ],
   "source": [
    "plot_eigenvector(evecs[0],fem_model)"
   ]
  },
  {
   "cell_type": "code",
   "execution_count": 29,
   "metadata": {},
   "outputs": [],
   "source": [
    "sho_gmat = GMatrix(fem_model,solver)\n",
    "sho_gmat.envelope_model.band_model.parameter_dict[omega_y]\n",
    "\n",
    "\n",
    "def sho_eval_func(lx):\n",
    "    omega_x_val = bm.constants[sympy.symbols('\\hbar')]/(2*bm.parameter_dict[sympy.symbols('m')]*(lx)**2)\n",
    "    sho_gmat.envelope_model.band_model.parameter_dict[omega_x] = omega_x_val\n",
    "    return sho_gmat.matrix()"
   ]
  },
  {
   "cell_type": "code",
   "execution_count": 30,
   "metadata": {},
   "outputs": [],
   "source": [
    "sho_save = 'sho_fem.save'\n",
    "\n",
    "sho_search  = None \n",
    "if os.path.exists(sho_save):\n",
    "    try:\n",
    "        sho_search = ParameterSearch.load(save_file)\n",
    "    except Exception as err:\n",
    "        print(err)\n",
    "\n",
    "if sho_search is None:\n",
    "    sho_search = ParameterSearch(parameter_sets = Lx_values,evaluation_function=sho_eval_func,save_file=sho_save)\n",
    "\n",
    "sho_search = ParameterSearch(parameter_sets = Lx_values,evaluation_function=sho_eval_func,save_file=sho_save)"
   ]
  },
  {
   "cell_type": "code",
   "execution_count": null,
   "metadata": {},
   "outputs": [],
   "source": [
    "sho_search.run(True,True)"
   ]
  },
  {
   "cell_type": "code",
   "execution_count": 34,
   "metadata": {},
   "outputs": [
    {
     "data": {
      "text/plain": [
       "Text(0.5, 1.0, '$L_{y} = 100$nm (SHO)')"
      ]
     },
     "execution_count": 34,
     "metadata": {},
     "output_type": "execute_result"
    },
    {
     "data": {
      "image/png": "[encoded data removed]",
      "text/plain": [
       "<Figure size 640x480 with 1 Axes>"
      ]
     },
     "metadata": {},
     "output_type": "display_data"
    }
   ],
   "source": [
    "singular_values = np.stack([np.linalg.svd(a)[1] for a in sho_search.results],axis=0)\n",
    "plt.plot(Lx_values/Ly,singular_values)\n",
    "\n",
    "plt.ylim(0,0.5) \n",
    "plt.xlabel(r'$L_{x}/L_{y}$')\n",
    "plt.ylabel('g-factor')\n",
    "plt.title(r'$L_{y} = 100$nm (SHO)')"
   ]
  },
  {
   "cell_type": "code",
   "execution_count": null,
   "metadata": {},
   "outputs": [],
   "source": []
  }
 ],
 "metadata": {
  "kernelspec": {
   "display_name": "Germanium_Spins_FE",
   "language": "python",
   "name": "python3"
  },
  "language_info": {
   "codemirror_mode": {
    "name": "ipython",
    "version": 3
   },
   "file_extension": ".py",
   "mimetype": "text/x-python",
   "name": "python",
   "nbconvert_exporter": "python",
   "pygments_lexer": "ipython3",
   "version": "3.10.8"
  },
  "orig_nbformat": 4
 },
 "nbformat": 4,
 "nbformat_minor": 2
}
