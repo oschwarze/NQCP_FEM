{
 "cells": [
  {
   "cell_type": "code",
   "execution_count": 6,
   "metadata": {},
   "outputs": [],
   "source": [
    "import dolfinx,ufl\n",
    "from mpi4py import MPI"
   ]
  },
  {
   "cell_type": "code",
   "execution_count": 10,
   "metadata": {},
   "outputs": [],
   "source": [
    "domain = dolfinx.mesh.create_rectangle(MPI.COMM_WORLD,[[-1,-1],[1,1]],[100,100])\n",
    "\n",
    "\n",
    "function_space = dolfinx.fem.FunctionSpace(domain,('CG',1))\n",
    "u = ufl.TrialFunction(function_space)\n",
    "v = ufl.TestFunction(function_space)\n",
    "\n",
    "i = ufl.Index()\n",
    "poisson = ufl.grad(u)[i]*ufl.grad(ufl.conj(v))[i]\n",
    "\n",
    "\n",
    "\n"
   ]
  },
  {
   "cell_type": "code",
   "execution_count": null,
   "metadata": {},
   "outputs": [],
   "source": [
    "\n",
    "form = dolfinx.fem.form(poisson)\n"
   ]
  },
  {
   "cell_type": "code",
   "execution_count": null,
   "metadata": {},
   "outputs": [],
   "source": [
    "\n",
    "A = dolfinx.fem.petsc.assemble_matrix(form)\n"
   ]
  },
  {
   "cell_type": "code",
   "execution_count": null,
   "metadata": {},
   "outputs": [],
   "source": [
    "\n",
    "A.assemble()\n"
   ]
  },
  {
   "cell_type": "code",
   "execution_count": null,
   "metadata": {},
   "outputs": [],
   "source": [
    "\n",
    "from scipy.sparse import csr_matrix"
   ]
  },
  {
   "cell_type": "code",
   "execution_count": null,
   "metadata": {},
   "outputs": [],
   "source": [
    "\n",
    "#convert to CSR\n",
    "A = csr_matrix(A.getValuesCSR[::-1])"
   ]
  },
  {
   "cell_type": "code",
   "execution_count": 14,
   "metadata": {},
   "outputs": [],
   "source": [
    "domain.topology.create_connectivity(domain.topology.dim - 1, domain.topology.dim)\n",
    "boundary_facets = dolfinx.mesh.exterior_facet_indices(domain.topology)\n",
    "boundary_dofs = dolfinx.fem.locate_dofs_topological(function_space, domain.topology.dim - 1, boundary_facets)\n",
    "import numpy as np\n",
    "boundary_state = np.complex128(123e123)\n",
    "infinity_boundary = dolfinx.fem.dirichletbc(boundary_state, boundary_dofs, function_space)\n",
    "u_boundary = dolfinx.fem.Function(function_space)\n",
    "dolfinx.fem.petsc.set_bc(u_boundary.vector, [infinity_boundary])\n",
    "u_boundary.x.scatter_forward()\n",
    "from scipy.sparse import diags\n",
    "boundary = diags(u_boundary.vector.getArray(),offsets=0,format='csr')"
   ]
  },
  {
   "cell_type": "code",
   "execution_count": 15,
   "metadata": {},
   "outputs": [],
   "source": [
    "A_mat_with_boundary = A_mat +boundary"
   ]
  },
  {
   "cell_type": "code",
   "execution_count": 16,
   "metadata": {},
   "outputs": [],
   "source": [
    "# Make S matrix\n",
    "\n",
    "s_form = u*ufl.conj(v)*ufl.dx\n",
    "s_form = dolfinx.fem.form(s_form)\n",
    "S = dolfinx.fem.petsc.assemble_matrix(s_form)\n",
    "S.assemble()\n",
    "S_mat = csr_matrix(S.getValuesCSR)\n",
    "\n"
   ]
  },
  {
   "cell_type": "code",
   "execution_count": 17,
   "metadata": {},
   "outputs": [],
   "source": [
    "from petsc4py import PETSc\n",
    "# PETSc Stuff\n",
    "petsc_A = PETSc.Mat().createAIJ(size=A.shape,csr=(A.indptr,A.indices,A.data))\n",
    "petsc_A.assaemble()\n",
    "\n",
    "petsc_S = PETSc.Mat().createAIJ(size=S.shape,csr=(S.indptr,S.indices,S.data))\n",
    "petsc_S.assaemble()\n"
   ]
  },
  {
   "cell_type": "code",
   "execution_count": null,
   "metadata": {},
   "outputs": [],
   "source": [
    "# SLEPc Stuff\n",
    "from slepc4py import SLEPc\n",
    "eig_problem = SLEPc.EPS().create(comm=MPI.COMM_WORLD)\n",
    "\n",
    "\n",
    "\n"
   ]
  },
  {
   "cell_type": "code",
   "execution_count": null,
   "metadata": {},
   "outputs": [],
   "source": [
    "spectral_transform = SLEPc.ST().create()\n",
    "spectral_transform.setType(SLEPc.ST.Type.SINVERT)\n",
    "eig_problem.setST(spectral_transform)"
   ]
  },
  {
   "cell_type": "code",
   "execution_count": null,
   "metadata": {},
   "outputs": [],
   "source": [
    "\n",
    "eig_problem.setTarget(0)\n",
    "eig_problem.setWhichEigenpairs(SLEPc.EPS.Which.LARGEST_MAGNITUDE)\n",
    "\n",
    "\n"
   ]
  },
  {
   "cell_type": "code",
   "execution_count": null,
   "metadata": {},
   "outputs": [],
   "source": [
    "\n",
    "eig_problem.setDimensions(10) # number of eigenvalues to find"
   ]
  },
  {
   "cell_type": "code",
   "execution_count": null,
   "metadata": {},
   "outputs": [],
   "source": [
    "\n",
    "eig_problem.setProblemType(SLEPc.EPS.ProblemType.GHEP) # hermitian eigenvalue problem\n",
    "eig_problem.setType(SLEPc.EPS.Type:KRYLOVSCHUR)) # set method for solving\n",
    "eig_problem.setOperators(petsc_A,petsc_S) # define matrices of the problem\n"
   ]
  },
  {
   "cell_type": "code",
   "execution_count": null,
   "metadata": {},
   "outputs": [],
   "source": [
    "eig_problem.solve()"
   ]
  },
  {
   "cell_type": "code",
   "execution_count": null,
   "metadata": {},
   "outputs": [],
   "source": [
    "vr,vi = petsc_A.createVecs()\n",
    "eigenvalues = []\n",
    "eigenvectors = []\n",
    "for i in range(eig_problem.getConverged()):\n",
    "    lmbda = eig_problem.getEigenpair(i, vr, vi)\n",
    "    eigenvalues.append(lmbda.real)\n",
    "\n",
    "    eigenvector = np.array(vr.array) + 1j*np.array(vi)\n",
    "    eigenvectors.append(eigenvector)"
   ]
  },
  {
   "cell_type": "code",
   "execution_count": null,
   "metadata": {},
   "outputs": [],
   "source": [
    "# Plot the eigensolution to verify that it is correct\n",
    "import pyvista\n",
    "\n",
    "\n",
    "p = pyvista.Plotter()\n",
    "topology, cell_types, x = dolfinx.plot.create_vtk_mesh(function_space)\n",
    "grid = pyvista.UnstructuredGrid(topology, cell_types, x)\n",
    "\n",
    "\n",
    "I = 0\n",
    "\t\n",
    "grid[\"u\"] = np.abs(eigenvectors[I])\n",
    "\n",
    "warped = grid.warp_by_scalar('u')\n",
    "\n",
    "p.add_mesh(warped,scalars='u')\n",
    "p.show_axes()\n",
    "\n",
    "p.show()\n",
    "\n"
   ]
  }
 ],
 "metadata": {
  "kernelspec": {
   "display_name": "Germanium_Spins_FE",
   "language": "python",
   "name": "python3"
  },
  "language_info": {
   "codemirror_mode": {
    "name": "ipython",
    "version": 3
   },
   "file_extension": ".py",
   "mimetype": "text/x-python",
   "name": "python",
   "nbconvert_exporter": "python",
   "pygments_lexer": "ipython3",
   "version": "3.10.8"
  },
  "orig_nbformat": 4
 },
 "nbformat": 4,
 "nbformat_minor": 2
}
