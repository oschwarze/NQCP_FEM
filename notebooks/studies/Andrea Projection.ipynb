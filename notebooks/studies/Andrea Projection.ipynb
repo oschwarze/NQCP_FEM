{
 "cells": [
  {
   "cell_type": "code",
   "execution_count": 1,
   "metadata": {},
   "outputs": [],
   "source": [
    "try:\n",
    "    import nqcpfem\n",
    "except ModuleNotFoundError as err:\n",
    "    import sys\n",
    "        # put path to nqcpfem module here   \n",
    "    src_path = '/mnt/c/Users/olisc/NQCP/NQCP_FEM/'\n",
    "    sys.path.append(src_path)\n",
    "    import nqcpfem\n",
    "import sympy\n",
    "sympy.init_printing(use_latex='mathjax')\n",
    "import IPython.display as disp\n",
    "from matplotlib import pyplot as plt\n",
    "import numpy as np\n",
    "import os\n",
    "\n",
    "import logging\n",
    "logging.getLogger().setLevel(logging.INFO)\n",
    "\n"
   ]
  },
  {
   "cell_type": "code",
   "execution_count": 7,
   "metadata": {},
   "outputs": [
    {
     "name": "stderr",
     "output_type": "stream",
     "text": [
      "WARNING:nqcpfem.fenics:the k-ordering of the band model must be FEM, but it was not set. setting it to FEM wit left reduction direction\n"
     ]
    }
   ],
   "source": [
    "import numpy as np\n",
    "import sympy\n",
    "E0 = 1/(nqcpfem.UNIT_CONVENTION['J to eV']*1e6) # unit_scale: 10muev\n",
    "from nqcpfem.solvers import PETScSolver\n",
    "from nqcpfem.systems import PositionalState,DefiniteTensorComponent\n",
    "from nqcpfem.envelope_function import RectangleDomain\n",
    "from nqcpfem.fenics import FEniCsModel\n",
    "from nqcpfem.band_model import LuttingerKohnHamiltonian\n",
    "from nqcpfem.systems.dot_sc_dot import *\n",
    "def system_builder():\n",
    "    H = LuttingerKohnHamiltonian(spatial_dim=3).material_spec('Ge').add_z_confinement(1,'box',25e-9)\n",
    "    H.BdG_extension()\n",
    "    H.add_zeeman_term(B=[0,0,1e-1])\n",
    "    \n",
    "\n",
    "    #H.add_potential(-sympy.symbols('\\mu'))\n",
    "\n",
    "    domain =RectangleDomain(200e-9,100e-9,0)\n",
    "    domain.resolution = [100,50]\n",
    "\n",
    "    model = FEniCsModel(H,None, boundary_condition=0,function_class=('CG',1))\n",
    "    ldot = Dot(-(75e-9+100e-9/2),4e11,0,150e-9,4e11,0,150e-9,)\n",
    "    barr = Barrier(0e-9,100*E0)\n",
    "    #rbarr = Barrier(15e-9,3/(nqcpfem.UNIT_CONVENTION['J to eV']*1000))\n",
    "    sc = Superconductor(1000*E0,100e-9,50e-9,0,5*E0)\n",
    "    syst = DotSCDot(model,ldot,barr,sc,domain_resolution=[100,100])\n",
    "\n",
    "    mu,mu_sc = sympy.symbols('\\mu,\\mu_{sc}')\n",
    "    chemical_potential = SymbolicFunction(sympy.Piecewise((-mu_sc,syst.domains['sc_in']),(-mu,True)),'\\mu(x)')\n",
    "    H.add_potential(chemical_potential)\n",
    "\n",
    "    H.parameter_dict[mu] = 4020*E0 # will be set to something other than zero on determining couping\n",
    "    H.parameter_dict[mu_sc] = 13e3*E0\n",
    "\n",
    "    mu_L,mu_R = sympy.symbols('\\mu_{L},\\mu_{R}')\n",
    "    detuning = SymbolicFunction(sympy.Piecewise((-mu_L,syst.domains['ld_in']),(-mu_R,syst.domains['rd_in']),(0,True)),'\\mu_{lr}(x)')\n",
    "    H.add_potential(detuning)\n",
    "    H.parameter_dict[mu_L] = 0\n",
    "    H.parameter_dict[mu_R] = 0\n",
    "    return syst\n",
    "\n",
    "syst = system_builder()\n",
    "H = syst.envelope_model.band_model"
   ]
  },
  {
   "cell_type": "code",
   "execution_count": 14,
   "metadata": {},
   "outputs": [
    {
     "data": {
      "text/latex": [
       "$\\displaystyle \\left( \\left[ x, \\  y, \\  \\mu_{R}, \\  \\mu_{L}\\right], \\  \\begin{cases} - \\mu_{L} & \\text{for}\\: x \\geq -2.0 \\cdot 10^{-7} \\wedge y \\geq -7.5 \\cdot 10^{-8} \\wedge x \\leq -5.0 \\cdot 10^{-8} \\wedge y \\leq 7.5 \\cdot 10^{-8} \\\\- \\mu_{R} & \\text{for}\\: x \\geq 5.0 \\cdot 10^{-8} \\wedge y \\geq -7.5 \\cdot 10^{-8} \\wedge x \\leq 2.0 \\cdot 10^{-7} \\wedge y \\leq 7.5 \\cdot 10^{-8} \\\\0 & \\text{otherwise} \\end{cases}\\right)$"
      ],
      "text/plain": [
       "⎛                          ⎧-\\mu_{L}  for x ≥ -2.0e-7 ∧ y ≥ -7.5e-8 ∧ x ≤ -5.0\n",
       "⎜                          ⎪                                                  \n",
       "⎜[x, y, \\mu_{R}, \\mu_{L}], ⎨-\\mu_{R}   for x ≥ 5.0e-8 ∧ y ≥ -7.5e-8 ∧ x ≤ 2.0e\n",
       "⎜                          ⎪                                                  \n",
       "⎝                          ⎩   0                             otherwise        \n",
       "\n",
       "e-8 ∧ y ≤ 7.5e-8⎞\n",
       "                ⎟\n",
       "-7 ∧ y ≤ 7.5e-8 ⎟\n",
       "                ⎟\n",
       "                ⎠"
      ]
     },
     "execution_count": 14,
     "metadata": {},
     "output_type": "execute_result"
    }
   ],
   "source": [
    "from nqcpfem.functions import SymbolicFunction\n",
    "V = list(H.function_dict.values())[-1].expression\n",
    "syms = list(V.free_symbols)\n",
    "syms,V"
   ]
  },
  {
   "cell_type": "code",
   "execution_count": 19,
   "metadata": {},
   "outputs": [
    {
     "data": {
      "text/latex": [
       "$\\displaystyle \\left( \\begin{cases} - \\mu_{L} & \\text{for}\\: x \\geq -2.0 \\cdot 10^{-7} \\wedge y \\geq -7.5 \\cdot 10^{-8} \\wedge x \\leq -5.0 \\cdot 10^{-8} \\wedge y \\leq 7.5 \\cdot 10^{-8} \\\\0 & \\text{otherwise} \\end{cases}, \\  \\begin{cases} 0 & \\text{for}\\: x \\geq -2.0 \\cdot 10^{-7} \\wedge y \\geq -7.5 \\cdot 10^{-8} \\wedge x \\leq -5.0 \\cdot 10^{-8} \\wedge y \\leq 7.5 \\cdot 10^{-8} \\\\- \\mu_{R} & \\text{for}\\: x \\geq 5.0 \\cdot 10^{-8} \\wedge y \\geq -7.5 \\cdot 10^{-8} \\wedge x \\leq 2.0 \\cdot 10^{-7} \\wedge y \\leq 7.5 \\cdot 10^{-8} \\\\0 & \\text{otherwise} \\end{cases}\\right)$"
      ],
      "text/plain": [
       "⎛                                                                     ⎧   0   \n",
       "⎜⎧-\\mu_{L}  for x ≥ -2.0e-7 ∧ y ≥ -7.5e-8 ∧ x ≤ -5.0e-8 ∧ y ≤ 7.5e-8  ⎪       \n",
       "⎜⎨                                                                  , ⎨-\\mu_{R\n",
       "⎜⎩   0                             otherwise                          ⎪       \n",
       "⎝                                                                     ⎩   0   \n",
       "\n",
       "   for x ≥ -2.0e-7 ∧ y ≥ -7.5e-8 ∧ x ≤ -5.0e-8 ∧ y ≤ 7.5e-8⎞\n",
       "                                                           ⎟\n",
       "}   for x ≥ 5.0e-8 ∧ y ≥ -7.5e-8 ∧ x ≤ 2.0e-7 ∧ y ≤ 7.5e-8 ⎟\n",
       "                                                           ⎟\n",
       "                          otherwise                        ⎠"
      ]
     },
     "execution_count": 19,
     "metadata": {},
     "output_type": "execute_result"
    }
   ],
   "source": [
    "Vl = SymbolicFunction(V.subs({syms[-2]:0}),'V_{L}(x)')\n",
    "Vr = SymbolicFunction(V.subs({syms[-1]:0}),'V_{R}(x)')\n",
    "\n",
    "def potental_adder(v):\n",
    "    arr = sympy.Array(np.diag([1,1,1,1,-1,-1,-1,-1]))\n",
    "    return arr*v\n",
    "\n",
    "\n",
    "Vl.expression,Vr.expression"
   ]
  },
  {
   "cell_type": "code",
   "execution_count": null,
   "metadata": {},
   "outputs": [],
   "source": [
    "from nqcpfem.fenics import FEniCsObservable\n",
    "FEM_Vr = FEniCsObservable(sympy.Array(np.eye(8)))"
   ]
  },
  {
   "cell_type": "code",
   "execution_count": 17,
   "metadata": {},
   "outputs": [
    {
     "data": {
      "text/plain": [
       "array([[ 1,  0,  0,  0,  0,  0,  0,  0],\n",
       "       [ 0,  1,  0,  0,  0,  0,  0,  0],\n",
       "       [ 0,  0,  1,  0,  0,  0,  0,  0],\n",
       "       [ 0,  0,  0,  1,  0,  0,  0,  0],\n",
       "       [ 0,  0,  0,  0, -1,  0,  0,  0],\n",
       "       [ 0,  0,  0,  0,  0, -1,  0,  0],\n",
       "       [ 0,  0,  0,  0,  0,  0, -1,  0],\n",
       "       [ 0,  0,  0,  0,  0,  0,  0, -1]])"
      ]
     },
     "execution_count": 17,
     "metadata": {},
     "output_type": "execute_result"
    }
   ],
   "source": []
  },
  {
   "cell_type": "code",
   "execution_count": null,
   "metadata": {},
   "outputs": [],
   "source": []
  }
 ],
 "metadata": {
  "kernelspec": {
   "display_name": "test",
   "language": "python",
   "name": "python3"
  },
  "language_info": {
   "codemirror_mode": {
    "name": "ipython",
    "version": 3
   },
   "file_extension": ".py",
   "mimetype": "text/x-python",
   "name": "python",
   "nbconvert_exporter": "python",
   "pygments_lexer": "ipython3",
   "version": "3.10.12"
  },
  "orig_nbformat": 4
 },
 "nbformat": 4,
 "nbformat_minor": 2
}
