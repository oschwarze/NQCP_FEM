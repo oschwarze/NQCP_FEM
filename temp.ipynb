{
 "cells": [
  {
   "cell_type": "code",
   "execution_count": 1,
   "metadata": {},
   "outputs": [],
   "source": [
    "import re"
   ]
  },
  {
   "cell_type": "code",
   "execution_count": 12,
   "metadata": {},
   "outputs": [],
   "source": [
    "# extract time and pool-worker number for all lines where it says solving problem and number of converged eigenvectos\n",
    "\n",
    "solving_lines = []\n",
    "converged_lines =[]\n",
    "import datetime\n",
    "from dateutil import parser\n",
    "with open('./slurm/2d_maj_log.log','r') as f:\n",
    "    \n",
    "    for l in f.readlines():\n",
    "        s = re.search('- (2023-09-\\d\\d) (\\d\\d:\\d\\d:\\d\\d): ForkPoolWorker-(\\d*):nqcpfem.solvers >> DEBUG: number of converged eigenvectors:',l)\n",
    "        if s is not None:\n",
    "            dt =parser.parse(s.group(1)+' ' + s.group(2))\n",
    "            converged_lines.append((dt,int(s.group(3))))\n",
    "            continue\n",
    "        s = re.search('- (2023-09-\\d\\d) (\\d\\d:\\d\\d:\\d\\d): ForkPoolWorker-(\\d*):nqcpfem.solvers >> DEBUG:solving problem',l)\n",
    "        if s is not None:\n",
    "            dt =parser.parse(s.group(1)+' ' + s.group(2))\n",
    "            solving_lines.append((dt,int(s.group(3))))\n",
    "        \n",
    "        \n",
    "        \n",
    "#        - 2023-09-15 23:10:48: ForkPoolWorker-20:nqcpfem.solvers >> DEBUG: number of converged eigenvectors: 8\n",
    "        \n",
    "        \n",
    "#        - 2023-09-15 23:10:46: ForkPoolWorker-47:nqcpfem.solvers >> DEBUG:solving problem:\n",
    "\n",
    "\n"
   ]
  },
  {
   "cell_type": "code",
   "execution_count": 14,
   "metadata": {},
   "outputs": [
    {
     "data": {
      "text/plain": [
       "(datetime.datetime(2023, 9, 15, 18, 38, 59), 31)"
      ]
     },
     "execution_count": 14,
     "metadata": {},
     "output_type": "execute_result"
    }
   ],
   "source": []
  },
  {
   "cell_type": "code",
   "execution_count": null,
   "metadata": {},
   "outputs": [],
   "source": []
  }
 ],
 "metadata": {
  "kernelspec": {
   "display_name": "test",
   "language": "python",
   "name": "python3"
  },
  "language_info": {
   "codemirror_mode": {
    "name": "ipython",
    "version": 3
   },
   "file_extension": ".py",
   "mimetype": "text/x-python",
   "name": "python",
   "nbconvert_exporter": "python",
   "pygments_lexer": "ipython3",
   "version": "3.10.12"
  },
  "orig_nbformat": 4
 },
 "nbformat": 4,
 "nbformat_minor": 2
}
